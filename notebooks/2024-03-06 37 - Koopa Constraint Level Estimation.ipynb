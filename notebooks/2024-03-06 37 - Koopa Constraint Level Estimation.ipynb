{
 "cells": [
  {
   "cell_type": "markdown",
   "id": "3e514376",
   "metadata": {},
   "source": [
    "# 2024-03-06 37 - Koopa Constraint Level Estimation.ipynb\n",
    "Cloned from `2024-01-26 24 - DEV DEBUGGING MULTIPLIERS.ipynb` for Koopa constant constrained"
   ]
  },
  {
   "cell_type": "markdown",
   "id": "91bcf98e",
   "metadata": {},
   "source": [
    "## Parameters"
   ]
  },
  {
   "cell_type": "markdown",
   "id": "461ef4b3",
   "metadata": {},
   "source": [
    "## Libraries and setup"
   ]
  },
  {
   "cell_type": "code",
   "execution_count": 1,
   "id": "31a718a8",
   "metadata": {},
   "outputs": [],
   "source": [
    "%load_ext autoreload\n",
    "%autoreload 2"
   ]
  },
  {
   "cell_type": "code",
   "execution_count": 2,
   "id": "57da5343",
   "metadata": {},
   "outputs": [],
   "source": [
    "import sys\n",
    "import os\n",
    "sys.path.append(os.path.abspath(os.path.join(os.getcwd(), os.pardir)))"
   ]
  },
  {
   "cell_type": "code",
   "execution_count": 3,
   "id": "d4db62bc",
   "metadata": {},
   "outputs": [],
   "source": [
    "import pandas as pd\n",
    "import numpy as np\n",
    "from matplotlib import pyplot as plt\n",
    "import seaborn as sns\n",
    "from IPython.display import Markdown, display"
   ]
  },
  {
   "cell_type": "code",
   "execution_count": 4,
   "id": "5bb34d2b",
   "metadata": {},
   "outputs": [],
   "source": [
    "from utils import wandb_utils"
   ]
  },
  {
   "cell_type": "markdown",
   "id": "92b12a3c",
   "metadata": {},
   "source": [
    "## Data Download"
   ]
  },
  {
   "cell_type": "code",
   "execution_count": 6,
   "id": "94bb3332",
   "metadata": {},
   "outputs": [
    {
     "name": "stderr",
     "output_type": "stream",
     "text": [
      "  0%|          | 0/12 [00:00<?, ?it/s]"
     ]
    },
    {
     "name": "stdout",
     "output_type": "stream",
     "text": [
      "WARNING!! Missing pointwise/cvar/0.01 in run 66mvasr3 on sweep <Sweep alelab/Autoformer/2w8lanj6 (FINISHED)>. Filling all poitwisewith NAN.\n"
     ]
    },
    {
     "name": "stderr",
     "output_type": "stream",
     "text": [
      "  8%|▊         | 1/12 [00:11<02:10, 11.88s/it]"
     ]
    },
    {
     "name": "stdout",
     "output_type": "stream",
     "text": [
      "WARNING!! Missing pointwise/cvar/0.01 in run 80kt8tnk on sweep <Sweep alelab/Autoformer/2w8lanj6 (FINISHED)>. Filling all poitwisewith NAN.\n"
     ]
    },
    {
     "name": "stderr",
     "output_type": "stream",
     "text": [
      " 17%|█▋        | 2/12 [00:17<01:21,  8.11s/it]"
     ]
    },
    {
     "name": "stdout",
     "output_type": "stream",
     "text": [
      "WARNING!! Missing pointwise/cvar/0.01 in run dqrify58 on sweep <Sweep alelab/Autoformer/2w8lanj6 (FINISHED)>. Filling all poitwisewith NAN.\n"
     ]
    },
    {
     "name": "stderr",
     "output_type": "stream",
     "text": [
      " 25%|██▌       | 3/12 [00:20<00:52,  5.87s/it]"
     ]
    },
    {
     "name": "stdout",
     "output_type": "stream",
     "text": [
      "WARNING!! Missing pointwise/cvar/0.01 in run 1nfttlo9 on sweep <Sweep alelab/Autoformer/2w8lanj6 (FINISHED)>. Filling all poitwisewith NAN.\n"
     ]
    },
    {
     "name": "stderr",
     "output_type": "stream",
     "text": [
      " 33%|███▎      | 4/12 [00:22<00:33,  4.17s/it]"
     ]
    },
    {
     "name": "stdout",
     "output_type": "stream",
     "text": [
      "WARNING!! Missing pointwise/cvar/0.01 in run q2my86s3 on sweep <Sweep alelab/Autoformer/zkhcu03l (FINISHED)>. Filling all poitwisewith NAN.\n"
     ]
    },
    {
     "name": "stderr",
     "output_type": "stream",
     "text": [
      " 42%|████▏     | 5/12 [00:33<00:48,  6.90s/it]"
     ]
    },
    {
     "name": "stdout",
     "output_type": "stream",
     "text": [
      "WARNING!! Missing pointwise/cvar/0.01 in run 0zhsfaz5 on sweep <Sweep alelab/Autoformer/zkhcu03l (FINISHED)>. Filling all poitwisewith NAN.\n"
     ]
    },
    {
     "name": "stderr",
     "output_type": "stream",
     "text": [
      " 50%|█████     | 6/12 [00:39<00:38,  6.44s/it]"
     ]
    },
    {
     "name": "stdout",
     "output_type": "stream",
     "text": [
      "WARNING!! Missing pointwise/cvar/0.01 in run h4gs816b on sweep <Sweep alelab/Autoformer/zkhcu03l (FINISHED)>. Filling all poitwisewith NAN.\n"
     ]
    },
    {
     "name": "stderr",
     "output_type": "stream",
     "text": [
      " 58%|█████▊    | 7/12 [00:42<00:26,  5.36s/it]"
     ]
    },
    {
     "name": "stdout",
     "output_type": "stream",
     "text": [
      "WARNING!! Missing pointwise/cvar/0.01 in run 6hy9ulep on sweep <Sweep alelab/Autoformer/zkhcu03l (FINISHED)>. Filling all poitwisewith NAN.\n"
     ]
    },
    {
     "name": "stderr",
     "output_type": "stream",
     "text": [
      " 67%|██████▋   | 8/12 [00:44<00:16,  4.15s/it]"
     ]
    },
    {
     "name": "stdout",
     "output_type": "stream",
     "text": [
      "WARNING!! Missing pointwise/cvar/0.01 in run 2e50w3di on sweep <Sweep alelab/Autoformer/y680469o (FINISHED)>. Filling all poitwisewith NAN.\n"
     ]
    },
    {
     "name": "stderr",
     "output_type": "stream",
     "text": [
      " 75%|███████▌  | 9/12 [00:55<00:19,  6.54s/it]"
     ]
    },
    {
     "name": "stdout",
     "output_type": "stream",
     "text": [
      "WARNING!! Missing pointwise/cvar/0.01 in run nfvvpkw4 on sweep <Sweep alelab/Autoformer/y680469o (FINISHED)>. Filling all poitwisewith NAN.\n"
     ]
    },
    {
     "name": "stderr",
     "output_type": "stream",
     "text": [
      " 83%|████████▎ | 10/12 [01:01<00:12,  6.24s/it]"
     ]
    },
    {
     "name": "stdout",
     "output_type": "stream",
     "text": [
      "WARNING!! Missing pointwise/cvar/0.01 in run vxrdupdp on sweep <Sweep alelab/Autoformer/y680469o (FINISHED)>. Filling all poitwisewith NAN.\n"
     ]
    },
    {
     "name": "stderr",
     "output_type": "stream",
     "text": [
      " 92%|█████████▏| 11/12 [01:04<00:05,  5.29s/it]"
     ]
    },
    {
     "name": "stdout",
     "output_type": "stream",
     "text": [
      "WARNING!! Missing pointwise/cvar/0.01 in run ltix2ikk on sweep <Sweep alelab/Autoformer/y680469o (FINISHED)>. Filling all poitwisewith NAN.\n"
     ]
    },
    {
     "name": "stderr",
     "output_type": "stream",
     "text": [
      "100%|██████████| 12/12 [01:06<00:00,  5.51s/it]\n"
     ]
    },
    {
     "name": "stdout",
     "output_type": "stream",
     "text": [
      "Fetched 12 runs\n",
      "Total records: (12096, 115)\n",
      "Total runs: 12\n"
     ]
    }
   ],
   "source": [
    "from utils import wandb_utils\n",
    "# Todo save in a file\n",
    "\n",
    "df = wandb_utils.get_experiment_data(\"Autoformer\",\"alelab\",[\"e22_icml_koopa_erm\"])"
   ]
  },
  {
   "cell_type": "code",
   "execution_count": null,
   "id": "b3fc0bc0",
   "metadata": {},
   "outputs": [
    {
     "data": {
      "text/plain": [
       "0        erm\n",
       "1        erm\n",
       "2        erm\n",
       "3        erm\n",
       "4        erm\n",
       "        ... \n",
       "12091    erm\n",
       "12092    erm\n",
       "12093    erm\n",
       "12094    erm\n",
       "12095    erm\n",
       "Name: constraint_type, Length: 12096, dtype: object"
      ]
     },
     "execution_count": 6,
     "metadata": {},
     "output_type": "execute_result"
    }
   ],
   "source": [
    "erm_df=df.query(f'constraint_type==\"erm\" and split==\"train\"').copy()\n",
    "df.constraint_type"
   ]
  },
  {
   "cell_type": "markdown",
   "id": "770f1ed0",
   "metadata": {},
   "source": [
    "# Train constraints"
   ]
  },
  {
   "cell_type": "code",
   "execution_count": 7,
   "id": "7ab78706",
   "metadata": {},
   "outputs": [
    {
     "name": "stdout",
     "output_type": "stream",
     "text": [
      "Generating constraints based on the following runs (one per param set)\n",
      "['66mvasr3', '80kt8tnk', 'dqrify58', '1nfttlo9', 'q2my86s3', '0zhsfaz5', 'h4gs816b', '6hy9ulep', '2e50w3di', 'nfvvpkw4', 'vxrdupdp', 'ltix2ikk']\n"
     ]
    },
    {
     "data": {
      "text/plain": [
       "{'electricity.csv': {'Koopa': {96: [0.142, 0.16, 0.166],\n",
       "   192: [0.172, 0.183, 0.19],\n",
       "   336: [0.182, 0.201, 0.232],\n",
       "   720: [0.227, 0.264, 0.297]}},\n",
       " 'exchange_rate.csv': {'Koopa': {96: [0.054, 0.101, 0.151],\n",
       "   192: [0.107, 0.208, 0.307],\n",
       "   336: [0.201, 0.35, 0.492],\n",
       "   720: [0.319, 0.721, 1.081]}},\n",
       " 'weather.csv': {'Koopa': {96: [0.356, 0.418, 0.453],\n",
       "   192: [0.422, 0.48, 0.516],\n",
       "   336: [0.468, 0.551, 0.604],\n",
       "   720: [0.564, 0.645, 0.682]}}}"
      ]
     },
     "execution_count": 7,
     "metadata": {},
     "output_type": "execute_result"
    }
   ],
   "source": [
    "constraint_levels_train=wandb_utils.generate_constraint_levels(df)\n",
    "constraint_levels_train"
   ]
  },
  {
   "cell_type": "markdown",
   "id": "1009a2d4",
   "metadata": {},
   "source": [
    "# Val constraints"
   ]
  },
  {
   "cell_type": "code",
   "execution_count": 8,
   "id": "153c9c0c",
   "metadata": {},
   "outputs": [
    {
     "name": "stdout",
     "output_type": "stream",
     "text": [
      "Generating constraints based on the following runs (one per param set)\n",
      "['66mvasr3', '80kt8tnk', 'dqrify58', '1nfttlo9', 'q2my86s3', '0zhsfaz5', 'h4gs816b', '6hy9ulep', '2e50w3di', 'nfvvpkw4', 'vxrdupdp', 'ltix2ikk']\n"
     ]
    },
    {
     "data": {
      "text/plain": [
       "{'electricity.csv': {'Koopa': {96: [0.136, 0.148, 0.151],\n",
       "   192: [0.154, 0.16, 0.165],\n",
       "   336: [0.156, 0.172, 0.196],\n",
       "   720: [0.195, 0.217, 0.234]}},\n",
       " 'exchange_rate.csv': {'Koopa': {96: [0.082, 0.14, 0.189],\n",
       "   192: [0.145, 0.256, 0.32],\n",
       "   336: [0.245, 0.429, 0.557],\n",
       "   720: [0.735, 1.204, 1.566]}},\n",
       " 'weather.csv': {'Koopa': {96: [0.36, 0.419, 0.45],\n",
       "   192: [0.422, 0.488, 0.517],\n",
       "   336: [0.489, 0.563, 0.63],\n",
       "   720: [0.569, 0.716, 0.787]}}}"
      ]
     },
     "execution_count": 8,
     "metadata": {},
     "output_type": "execute_result"
    }
   ],
   "source": [
    "constraint_levels_test=wandb_utils.generate_constraint_levels(df,split='val')\n",
    "constraint_levels_test"
   ]
  },
  {
   "cell_type": "code",
   "execution_count": 27,
   "metadata": {},
   "outputs": [],
   "source": [
    "# Sanity check Check if there are three distinct constraints on each\n",
    "for dataset in constraint_levels_test.keys():\n",
    "    for model in constraint_levels_test[dataset].keys():\n",
    "        for pred_len in constraint_levels_test[dataset][model].keys():\n",
    "        # Check if the difference between 0,1, and 1,2 is > 1e-5\n",
    "            if abs(constraint_levels_test[dataset][model][pred_len][0]-constraint_levels_test[dataset][model][pred_len][1])<1e-3:\n",
    "                display(Markdown(f\"**{dataset} {model} {pred_len}**\"))\n",
    "                display(constraint_levels_test[dataset][model][pred_len])\n"
   ]
  }
 ],
 "metadata": {
  "kernelspec": {
   "display_name": "Python 3 (ipykernel)",
   "language": "python",
   "name": "python3"
  },
  "language_info": {
   "codemirror_mode": {
    "name": "ipython",
    "version": 3
   },
   "file_extension": ".py",
   "mimetype": "text/x-python",
   "name": "python",
   "nbconvert_exporter": "python",
   "pygments_lexer": "ipython3",
   "version": "3.7.12"
  }
 },
 "nbformat": 4,
 "nbformat_minor": 5
}
