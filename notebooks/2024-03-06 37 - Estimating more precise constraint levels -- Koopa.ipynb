{
 "cells": [
  {
   "cell_type": "markdown",
   "id": "3e514376",
   "metadata": {},
   "source": [
    "# 2024-03-06 37 - Estimating more precise constraint levels -- Koopa.ipynb\n",
    "---\n",
    "Fork of NB 17 to get the epsilons for patch tst on electricity, weather, exchange per `(dataset,model,pred_len)`"
   ]
  },
  {
   "cell_type": "markdown",
   "id": "f24149d1",
   "metadata": {},
   "source": [
    "## Fetching runs"
   ]
  },
  {
   "cell_type": "code",
   "execution_count": 2,
   "id": "b1afe94d",
   "metadata": {},
   "outputs": [],
   "source": [
    "import sys\n",
    "import os\n",
    "sys.path.append(os.path.abspath(os.path.join(os.getcwd(), os.pardir)))\n",
    "import pandas as pd\n",
    "import numpy as np\n",
    "from matplotlib import pyplot as plt\n",
    "import seaborn as sns\n",
    "from IPython.display import display, Markdown, Latex\n",
    "from utils import wandb_utils"
   ]
  },
  {
   "cell_type": "code",
   "execution_count": 4,
   "id": "e7f14d5c",
   "metadata": {},
   "outputs": [
    {
     "name": "stderr",
     "output_type": "stream",
     "text": [
      "Exception ignored in: <function tqdm.__del__ at 0x7fc03cac3a70>\n",
      "Traceback (most recent call last):\n",
      "  File \"/home/jporras/miniconda3/envs/autoformer/lib/python3.7/site-packages/tqdm/std.py\", line 1149, in __del__\n",
      "    self.close()\n",
      "  File \"/home/jporras/miniconda3/envs/autoformer/lib/python3.7/site-packages/tqdm/std.py\", line 1268, in close\n",
      "    if self.disable:\n",
      "AttributeError: 'tqdm' object has no attribute 'disable'\n",
      "  0%|          | 0/12 [00:00<?, ?it/s]"
     ]
    },
    {
     "name": "stdout",
     "output_type": "stream",
     "text": [
      "WARNING!! Missing pointwise/cvar/0.01 in run xkzhnn0a on sweep <Sweep alelab/Autoformer/r7jdprgq (FINISHED)>. Filling all poitwisewith NAN.\n"
     ]
    },
    {
     "name": "stderr",
     "output_type": "stream",
     "text": [
      "  8%|▊         | 1/12 [00:11<02:05, 11.45s/it]"
     ]
    },
    {
     "name": "stdout",
     "output_type": "stream",
     "text": [
      "WARNING!! Missing pointwise/cvar/0.01 in run ly1h1ke1 on sweep <Sweep alelab/Autoformer/r7jdprgq (FINISHED)>. Filling all poitwisewith NAN.\n"
     ]
    },
    {
     "name": "stderr",
     "output_type": "stream",
     "text": [
      " 17%|█▋        | 2/12 [00:16<01:18,  7.86s/it]"
     ]
    },
    {
     "name": "stdout",
     "output_type": "stream",
     "text": [
      "WARNING!! Missing pointwise/cvar/0.01 in run jrty0i41 on sweep <Sweep alelab/Autoformer/r7jdprgq (FINISHED)>. Filling all poitwisewith NAN.\n"
     ]
    },
    {
     "name": "stderr",
     "output_type": "stream",
     "text": [
      " 25%|██▌       | 3/12 [00:19<00:51,  5.67s/it]"
     ]
    },
    {
     "name": "stdout",
     "output_type": "stream",
     "text": [
      "WARNING!! Missing pointwise/cvar/0.01 in run a1vmqwvt on sweep <Sweep alelab/Autoformer/r7jdprgq (FINISHED)>. Filling all poitwisewith NAN.\n"
     ]
    },
    {
     "name": "stderr",
     "output_type": "stream",
     "text": [
      " 33%|███▎      | 4/12 [00:21<00:32,  4.04s/it]"
     ]
    },
    {
     "name": "stdout",
     "output_type": "stream",
     "text": [
      "WARNING!! Missing pointwise/cvar/0.01 in run y9e7oryb on sweep <Sweep alelab/Autoformer/g8e3pqrl (FINISHED)>. Filling all poitwisewith NAN.\n"
     ]
    },
    {
     "name": "stderr",
     "output_type": "stream",
     "text": [
      " 42%|████▏     | 5/12 [00:33<00:47,  6.77s/it]"
     ]
    },
    {
     "name": "stdout",
     "output_type": "stream",
     "text": [
      "WARNING!! Missing pointwise/cvar/0.01 in run b9vnvxfa on sweep <Sweep alelab/Autoformer/g8e3pqrl (FINISHED)>. Filling all poitwisewith NAN.\n"
     ]
    },
    {
     "name": "stderr",
     "output_type": "stream",
     "text": [
      " 50%|█████     | 6/12 [00:38<00:37,  6.29s/it]"
     ]
    },
    {
     "name": "stdout",
     "output_type": "stream",
     "text": [
      "WARNING!! Missing pointwise/cvar/0.01 in run 58y9q9rn on sweep <Sweep alelab/Autoformer/g8e3pqrl (FINISHED)>. Filling all poitwisewith NAN.\n"
     ]
    },
    {
     "name": "stderr",
     "output_type": "stream",
     "text": [
      " 58%|█████▊    | 7/12 [00:41<00:26,  5.23s/it]"
     ]
    },
    {
     "name": "stdout",
     "output_type": "stream",
     "text": [
      "WARNING!! Missing pointwise/cvar/0.01 in run 5llexpc4 on sweep <Sweep alelab/Autoformer/g8e3pqrl (FINISHED)>. Filling all poitwisewith NAN.\n"
     ]
    },
    {
     "name": "stderr",
     "output_type": "stream",
     "text": [
      " 67%|██████▋   | 8/12 [00:42<00:16,  4.05s/it]"
     ]
    },
    {
     "name": "stdout",
     "output_type": "stream",
     "text": [
      "WARNING!! Missing pointwise/cvar/0.01 in run 2hmlmqgc on sweep <Sweep alelab/Autoformer/chywmkhs (FINISHED)>. Filling all poitwisewith NAN.\n"
     ]
    },
    {
     "name": "stderr",
     "output_type": "stream",
     "text": [
      " 75%|███████▌  | 9/12 [00:54<00:19,  6.43s/it]"
     ]
    },
    {
     "name": "stdout",
     "output_type": "stream",
     "text": [
      "WARNING!! Missing pointwise/cvar/0.01 in run 7h91vf4i on sweep <Sweep alelab/Autoformer/chywmkhs (FINISHED)>. Filling all poitwisewith NAN.\n"
     ]
    },
    {
     "name": "stderr",
     "output_type": "stream",
     "text": [
      " 83%|████████▎ | 10/12 [00:59<00:12,  6.10s/it]"
     ]
    },
    {
     "name": "stdout",
     "output_type": "stream",
     "text": [
      "WARNING!! Missing pointwise/cvar/0.01 in run 3wpwzvo2 on sweep <Sweep alelab/Autoformer/chywmkhs (FINISHED)>. Filling all poitwisewith NAN.\n"
     ]
    },
    {
     "name": "stderr",
     "output_type": "stream",
     "text": [
      " 92%|█████████▏| 11/12 [01:03<00:05,  5.17s/it]"
     ]
    },
    {
     "name": "stdout",
     "output_type": "stream",
     "text": [
      "WARNING!! Missing pointwise/cvar/0.01 in run 11z2j90d on sweep <Sweep alelab/Autoformer/chywmkhs (FINISHED)>. Filling all poitwisewith NAN.\n"
     ]
    },
    {
     "name": "stderr",
     "output_type": "stream",
     "text": [
      "100%|██████████| 12/12 [01:04<00:00,  5.38s/it]\n"
     ]
    },
    {
     "name": "stdout",
     "output_type": "stream",
     "text": [
      "Fetched 12 runs\n",
      "Total records: (12096, 115)\n",
      "Total runs: 12\n"
     ]
    }
   ],
   "source": [
    "from utils import wandb_utils\n",
    "df = wandb_utils.get_experiment_data(\"Autoformer\",\"alelab\",experiment_tags=[],query_dict={\"$and\": [\n",
    "                        {\"tags\": {\"$in\": [\"e22_icml_koopa_erm\"]}},\n",
    "                        {\"state\": \"finished\"},\n",
    "]})"
   ]
  },
  {
   "cell_type": "code",
   "execution_count": 6,
   "id": "a7052f82",
   "metadata": {},
   "outputs": [
    {
     "data": {
      "text/html": [
       "<div>\n",
       "<style scoped>\n",
       "    .dataframe tbody tr th:only-of-type {\n",
       "        vertical-align: middle;\n",
       "    }\n",
       "\n",
       "    .dataframe tbody tr th {\n",
       "        vertical-align: top;\n",
       "    }\n",
       "\n",
       "    .dataframe thead th {\n",
       "        text-align: right;\n",
       "    }\n",
       "</style>\n",
       "<table border=\"1\" class=\"dataframe\">\n",
       "  <thead>\n",
       "    <tr style=\"text-align: right;\">\n",
       "      <th></th>\n",
       "      <th>run_id</th>\n",
       "      <th>sweep_id</th>\n",
       "      <th>Algorithm</th>\n",
       "      <th>type</th>\n",
       "      <th>model</th>\n",
       "      <th>data_path</th>\n",
       "      <th>constraint_level</th>\n",
       "      <th>pred_len</th>\n",
       "    </tr>\n",
       "  </thead>\n",
       "  <tbody>\n",
       "    <tr>\n",
       "      <th>3744</th>\n",
       "      <td>a1vmqwvt</td>\n",
       "      <td>r7jdprgq</td>\n",
       "      <td>AllModels_exchange_rate.csv Koopa</td>\n",
       "      <td>ERM</td>\n",
       "      <td>Koopa</td>\n",
       "      <td>exchange_rate.csv</td>\n",
       "      <td>-1</td>\n",
       "      <td>96</td>\n",
       "    </tr>\n",
       "    <tr>\n",
       "      <th>7776</th>\n",
       "      <td>5llexpc4</td>\n",
       "      <td>g8e3pqrl</td>\n",
       "      <td>AllModels_electricity.csv Koopa</td>\n",
       "      <td>ERM</td>\n",
       "      <td>Koopa</td>\n",
       "      <td>electricity.csv</td>\n",
       "      <td>-1</td>\n",
       "      <td>96</td>\n",
       "    </tr>\n",
       "    <tr>\n",
       "      <th>11808</th>\n",
       "      <td>11z2j90d</td>\n",
       "      <td>chywmkhs</td>\n",
       "      <td>AllModels_weather.csv Koopa</td>\n",
       "      <td>ERM</td>\n",
       "      <td>Koopa</td>\n",
       "      <td>weather.csv</td>\n",
       "      <td>-1</td>\n",
       "      <td>96</td>\n",
       "    </tr>\n",
       "    <tr>\n",
       "      <th>3168</th>\n",
       "      <td>jrty0i41</td>\n",
       "      <td>r7jdprgq</td>\n",
       "      <td>AllModels_exchange_rate.csv Koopa</td>\n",
       "      <td>ERM</td>\n",
       "      <td>Koopa</td>\n",
       "      <td>exchange_rate.csv</td>\n",
       "      <td>-1</td>\n",
       "      <td>192</td>\n",
       "    </tr>\n",
       "    <tr>\n",
       "      <th>7200</th>\n",
       "      <td>58y9q9rn</td>\n",
       "      <td>g8e3pqrl</td>\n",
       "      <td>AllModels_electricity.csv Koopa</td>\n",
       "      <td>ERM</td>\n",
       "      <td>Koopa</td>\n",
       "      <td>electricity.csv</td>\n",
       "      <td>-1</td>\n",
       "      <td>192</td>\n",
       "    </tr>\n",
       "    <tr>\n",
       "      <th>11232</th>\n",
       "      <td>3wpwzvo2</td>\n",
       "      <td>chywmkhs</td>\n",
       "      <td>AllModels_weather.csv Koopa</td>\n",
       "      <td>ERM</td>\n",
       "      <td>Koopa</td>\n",
       "      <td>weather.csv</td>\n",
       "      <td>-1</td>\n",
       "      <td>192</td>\n",
       "    </tr>\n",
       "    <tr>\n",
       "      <th>2160</th>\n",
       "      <td>ly1h1ke1</td>\n",
       "      <td>r7jdprgq</td>\n",
       "      <td>AllModels_exchange_rate.csv Koopa</td>\n",
       "      <td>ERM</td>\n",
       "      <td>Koopa</td>\n",
       "      <td>exchange_rate.csv</td>\n",
       "      <td>-1</td>\n",
       "      <td>336</td>\n",
       "    </tr>\n",
       "    <tr>\n",
       "      <th>6192</th>\n",
       "      <td>b9vnvxfa</td>\n",
       "      <td>g8e3pqrl</td>\n",
       "      <td>AllModels_electricity.csv Koopa</td>\n",
       "      <td>ERM</td>\n",
       "      <td>Koopa</td>\n",
       "      <td>electricity.csv</td>\n",
       "      <td>-1</td>\n",
       "      <td>336</td>\n",
       "    </tr>\n",
       "    <tr>\n",
       "      <th>10224</th>\n",
       "      <td>7h91vf4i</td>\n",
       "      <td>chywmkhs</td>\n",
       "      <td>AllModels_weather.csv Koopa</td>\n",
       "      <td>ERM</td>\n",
       "      <td>Koopa</td>\n",
       "      <td>weather.csv</td>\n",
       "      <td>-1</td>\n",
       "      <td>336</td>\n",
       "    </tr>\n",
       "    <tr>\n",
       "      <th>0</th>\n",
       "      <td>xkzhnn0a</td>\n",
       "      <td>r7jdprgq</td>\n",
       "      <td>AllModels_exchange_rate.csv Koopa</td>\n",
       "      <td>ERM</td>\n",
       "      <td>Koopa</td>\n",
       "      <td>exchange_rate.csv</td>\n",
       "      <td>-1</td>\n",
       "      <td>720</td>\n",
       "    </tr>\n",
       "    <tr>\n",
       "      <th>4032</th>\n",
       "      <td>y9e7oryb</td>\n",
       "      <td>g8e3pqrl</td>\n",
       "      <td>AllModels_electricity.csv Koopa</td>\n",
       "      <td>ERM</td>\n",
       "      <td>Koopa</td>\n",
       "      <td>electricity.csv</td>\n",
       "      <td>-1</td>\n",
       "      <td>720</td>\n",
       "    </tr>\n",
       "    <tr>\n",
       "      <th>8064</th>\n",
       "      <td>2hmlmqgc</td>\n",
       "      <td>chywmkhs</td>\n",
       "      <td>AllModels_weather.csv Koopa</td>\n",
       "      <td>ERM</td>\n",
       "      <td>Koopa</td>\n",
       "      <td>weather.csv</td>\n",
       "      <td>-1</td>\n",
       "      <td>720</td>\n",
       "    </tr>\n",
       "  </tbody>\n",
       "</table>\n",
       "</div>"
      ],
      "text/plain": [
       "         run_id  sweep_id                          Algorithm type  model  \\\n",
       "3744   a1vmqwvt  r7jdprgq  AllModels_exchange_rate.csv Koopa  ERM  Koopa   \n",
       "7776   5llexpc4  g8e3pqrl    AllModels_electricity.csv Koopa  ERM  Koopa   \n",
       "11808  11z2j90d  chywmkhs        AllModels_weather.csv Koopa  ERM  Koopa   \n",
       "3168   jrty0i41  r7jdprgq  AllModels_exchange_rate.csv Koopa  ERM  Koopa   \n",
       "7200   58y9q9rn  g8e3pqrl    AllModels_electricity.csv Koopa  ERM  Koopa   \n",
       "11232  3wpwzvo2  chywmkhs        AllModels_weather.csv Koopa  ERM  Koopa   \n",
       "2160   ly1h1ke1  r7jdprgq  AllModels_exchange_rate.csv Koopa  ERM  Koopa   \n",
       "6192   b9vnvxfa  g8e3pqrl    AllModels_electricity.csv Koopa  ERM  Koopa   \n",
       "10224  7h91vf4i  chywmkhs        AllModels_weather.csv Koopa  ERM  Koopa   \n",
       "0      xkzhnn0a  r7jdprgq  AllModels_exchange_rate.csv Koopa  ERM  Koopa   \n",
       "4032   y9e7oryb  g8e3pqrl    AllModels_electricity.csv Koopa  ERM  Koopa   \n",
       "8064   2hmlmqgc  chywmkhs        AllModels_weather.csv Koopa  ERM  Koopa   \n",
       "\n",
       "               data_path  constraint_level  pred_len  \n",
       "3744   exchange_rate.csv                -1        96  \n",
       "7776     electricity.csv                -1        96  \n",
       "11808        weather.csv                -1        96  \n",
       "3168   exchange_rate.csv                -1       192  \n",
       "7200     electricity.csv                -1       192  \n",
       "11232        weather.csv                -1       192  \n",
       "2160   exchange_rate.csv                -1       336  \n",
       "6192     electricity.csv                -1       336  \n",
       "10224        weather.csv                -1       336  \n",
       "0      exchange_rate.csv                -1       720  \n",
       "4032     electricity.csv                -1       720  \n",
       "8064         weather.csv                -1       720  "
      ]
     },
     "execution_count": 6,
     "metadata": {},
     "output_type": "execute_result"
    }
   ],
   "source": [
    "df[['run_id',\"sweep_id\",'Algorithm',\"type\",'model','data_path','constraint_level','pred_len']].drop_duplicates().sort_values(['model',\"pred_len\",\"constraint_level\"])"
   ]
  },
  {
   "cell_type": "markdown",
   "id": "39048033",
   "metadata": {},
   "source": [
    "# Get IQR for all models, and pred lengths, datasets\n",
    "Note that the IQRs are vastly different for autoformer and reformer."
   ]
  },
  {
   "cell_type": "markdown",
   "id": "c13e738b",
   "metadata": {},
   "source": [
    "# Validation percentiles"
   ]
  },
  {
   "cell_type": "code",
   "execution_count": 7,
   "id": "0a340bb4",
   "metadata": {},
   "outputs": [
    {
     "data": {
      "text/html": [
       "<div>\n",
       "<style scoped>\n",
       "    .dataframe tbody tr th:only-of-type {\n",
       "        vertical-align: middle;\n",
       "    }\n",
       "\n",
       "    .dataframe tbody tr th {\n",
       "        vertical-align: top;\n",
       "    }\n",
       "\n",
       "    .dataframe thead th {\n",
       "        text-align: right;\n",
       "    }\n",
       "</style>\n",
       "<table border=\"1\" class=\"dataframe\">\n",
       "  <thead>\n",
       "    <tr style=\"text-align: right;\">\n",
       "      <th></th>\n",
       "      <th>data_path</th>\n",
       "      <th>model</th>\n",
       "      <th>pred_len</th>\n",
       "      <th>25%</th>\n",
       "      <th>50%</th>\n",
       "      <th>75%</th>\n",
       "      <th>mean</th>\n",
       "      <th>std</th>\n",
       "    </tr>\n",
       "  </thead>\n",
       "  <tbody>\n",
       "    <tr>\n",
       "      <th>0</th>\n",
       "      <td>electricity.csv</td>\n",
       "      <td>Koopa</td>\n",
       "      <td>96</td>\n",
       "      <td>0.136092</td>\n",
       "      <td>0.148292</td>\n",
       "      <td>0.151088</td>\n",
       "      <td>0.143456</td>\n",
       "      <td>0.012284</td>\n",
       "    </tr>\n",
       "    <tr>\n",
       "      <th>1</th>\n",
       "      <td>electricity.csv</td>\n",
       "      <td>Koopa</td>\n",
       "      <td>192</td>\n",
       "      <td>0.153709</td>\n",
       "      <td>0.160260</td>\n",
       "      <td>0.165018</td>\n",
       "      <td>0.159295</td>\n",
       "      <td>0.015898</td>\n",
       "    </tr>\n",
       "    <tr>\n",
       "      <th>2</th>\n",
       "      <td>electricity.csv</td>\n",
       "      <td>Koopa</td>\n",
       "      <td>336</td>\n",
       "      <td>0.155877</td>\n",
       "      <td>0.172274</td>\n",
       "      <td>0.195686</td>\n",
       "      <td>0.175415</td>\n",
       "      <td>0.023107</td>\n",
       "    </tr>\n",
       "    <tr>\n",
       "      <th>3</th>\n",
       "      <td>electricity.csv</td>\n",
       "      <td>Koopa</td>\n",
       "      <td>720</td>\n",
       "      <td>0.195079</td>\n",
       "      <td>0.216589</td>\n",
       "      <td>0.233934</td>\n",
       "      <td>0.208903</td>\n",
       "      <td>0.031462</td>\n",
       "    </tr>\n",
       "    <tr>\n",
       "      <th>4</th>\n",
       "      <td>exchange_rate.csv</td>\n",
       "      <td>Koopa</td>\n",
       "      <td>96</td>\n",
       "      <td>0.081671</td>\n",
       "      <td>0.140302</td>\n",
       "      <td>0.189184</td>\n",
       "      <td>0.134967</td>\n",
       "      <td>0.065860</td>\n",
       "    </tr>\n",
       "    <tr>\n",
       "      <th>5</th>\n",
       "      <td>exchange_rate.csv</td>\n",
       "      <td>Koopa</td>\n",
       "      <td>192</td>\n",
       "      <td>0.144598</td>\n",
       "      <td>0.256140</td>\n",
       "      <td>0.319671</td>\n",
       "      <td>0.229658</td>\n",
       "      <td>0.104010</td>\n",
       "    </tr>\n",
       "    <tr>\n",
       "      <th>6</th>\n",
       "      <td>exchange_rate.csv</td>\n",
       "      <td>Koopa</td>\n",
       "      <td>336</td>\n",
       "      <td>0.245262</td>\n",
       "      <td>0.428554</td>\n",
       "      <td>0.556709</td>\n",
       "      <td>0.404526</td>\n",
       "      <td>0.195677</td>\n",
       "    </tr>\n",
       "    <tr>\n",
       "      <th>7</th>\n",
       "      <td>exchange_rate.csv</td>\n",
       "      <td>Koopa</td>\n",
       "      <td>720</td>\n",
       "      <td>0.734752</td>\n",
       "      <td>1.204275</td>\n",
       "      <td>1.566225</td>\n",
       "      <td>1.246021</td>\n",
       "      <td>0.728431</td>\n",
       "    </tr>\n",
       "    <tr>\n",
       "      <th>8</th>\n",
       "      <td>weather.csv</td>\n",
       "      <td>Koopa</td>\n",
       "      <td>96</td>\n",
       "      <td>0.360262</td>\n",
       "      <td>0.418926</td>\n",
       "      <td>0.449758</td>\n",
       "      <td>0.392077</td>\n",
       "      <td>0.079072</td>\n",
       "    </tr>\n",
       "    <tr>\n",
       "      <th>9</th>\n",
       "      <td>weather.csv</td>\n",
       "      <td>Koopa</td>\n",
       "      <td>192</td>\n",
       "      <td>0.421832</td>\n",
       "      <td>0.488360</td>\n",
       "      <td>0.517442</td>\n",
       "      <td>0.461272</td>\n",
       "      <td>0.086536</td>\n",
       "    </tr>\n",
       "    <tr>\n",
       "      <th>10</th>\n",
       "      <td>weather.csv</td>\n",
       "      <td>Koopa</td>\n",
       "      <td>336</td>\n",
       "      <td>0.488578</td>\n",
       "      <td>0.562717</td>\n",
       "      <td>0.629846</td>\n",
       "      <td>0.545341</td>\n",
       "      <td>0.111644</td>\n",
       "    </tr>\n",
       "    <tr>\n",
       "      <th>11</th>\n",
       "      <td>weather.csv</td>\n",
       "      <td>Koopa</td>\n",
       "      <td>720</td>\n",
       "      <td>0.569464</td>\n",
       "      <td>0.716466</td>\n",
       "      <td>0.786879</td>\n",
       "      <td>0.668021</td>\n",
       "      <td>0.137859</td>\n",
       "    </tr>\n",
       "  </tbody>\n",
       "</table>\n",
       "</div>"
      ],
      "text/plain": [
       "            data_path  model  pred_len       25%       50%       75%  \\\n",
       "0     electricity.csv  Koopa        96  0.136092  0.148292  0.151088   \n",
       "1     electricity.csv  Koopa       192  0.153709  0.160260  0.165018   \n",
       "2     electricity.csv  Koopa       336  0.155877  0.172274  0.195686   \n",
       "3     electricity.csv  Koopa       720  0.195079  0.216589  0.233934   \n",
       "4   exchange_rate.csv  Koopa        96  0.081671  0.140302  0.189184   \n",
       "5   exchange_rate.csv  Koopa       192  0.144598  0.256140  0.319671   \n",
       "6   exchange_rate.csv  Koopa       336  0.245262  0.428554  0.556709   \n",
       "7   exchange_rate.csv  Koopa       720  0.734752  1.204275  1.566225   \n",
       "8         weather.csv  Koopa        96  0.360262  0.418926  0.449758   \n",
       "9         weather.csv  Koopa       192  0.421832  0.488360  0.517442   \n",
       "10        weather.csv  Koopa       336  0.488578  0.562717  0.629846   \n",
       "11        weather.csv  Koopa       720  0.569464  0.716466  0.786879   \n",
       "\n",
       "        mean       std  \n",
       "0   0.143456  0.012284  \n",
       "1   0.159295  0.015898  \n",
       "2   0.175415  0.023107  \n",
       "3   0.208903  0.031462  \n",
       "4   0.134967  0.065860  \n",
       "5   0.229658  0.104010  \n",
       "6   0.404526  0.195677  \n",
       "7   1.246021  0.728431  \n",
       "8   0.392077  0.079072  \n",
       "9   0.461272  0.086536  \n",
       "10  0.545341  0.111644  \n",
       "11  0.668021  0.137859  "
      ]
     },
     "execution_count": 7,
     "metadata": {},
     "output_type": "execute_result"
    }
   ],
   "source": [
    "stats=df.query(\"split=='val'\").groupby(['data_path','model','pred_len'])['mse'].describe().reset_index()\n",
    "stats[['data_path','model','pred_len','25%','50%','75%','mean','std']].sort_values(['data_path','pred_len','model'])"
   ]
  },
  {
   "cell_type": "markdown",
   "id": "bf35ab9f",
   "metadata": {},
   "source": [
    "## Train percentiles"
   ]
  },
  {
   "cell_type": "code",
   "execution_count": 8,
   "id": "c3c45ac4",
   "metadata": {},
   "outputs": [
    {
     "data": {
      "text/html": [
       "<div>\n",
       "<style scoped>\n",
       "    .dataframe tbody tr th:only-of-type {\n",
       "        vertical-align: middle;\n",
       "    }\n",
       "\n",
       "    .dataframe tbody tr th {\n",
       "        vertical-align: top;\n",
       "    }\n",
       "\n",
       "    .dataframe thead th {\n",
       "        text-align: right;\n",
       "    }\n",
       "</style>\n",
       "<table border=\"1\" class=\"dataframe\">\n",
       "  <thead>\n",
       "    <tr style=\"text-align: right;\">\n",
       "      <th></th>\n",
       "      <th>data_path</th>\n",
       "      <th>model</th>\n",
       "      <th>pred_len</th>\n",
       "      <th>25%</th>\n",
       "      <th>50%</th>\n",
       "      <th>75%</th>\n",
       "      <th>mean</th>\n",
       "      <th>std</th>\n",
       "    </tr>\n",
       "  </thead>\n",
       "  <tbody>\n",
       "    <tr>\n",
       "      <th>0</th>\n",
       "      <td>electricity.csv</td>\n",
       "      <td>Koopa</td>\n",
       "      <td>96</td>\n",
       "      <td>0.142321</td>\n",
       "      <td>0.159699</td>\n",
       "      <td>0.166171</td>\n",
       "      <td>0.154833</td>\n",
       "      <td>0.014624</td>\n",
       "    </tr>\n",
       "    <tr>\n",
       "      <th>1</th>\n",
       "      <td>electricity.csv</td>\n",
       "      <td>Koopa</td>\n",
       "      <td>192</td>\n",
       "      <td>0.172336</td>\n",
       "      <td>0.182531</td>\n",
       "      <td>0.190022</td>\n",
       "      <td>0.180779</td>\n",
       "      <td>0.020266</td>\n",
       "    </tr>\n",
       "    <tr>\n",
       "      <th>2</th>\n",
       "      <td>electricity.csv</td>\n",
       "      <td>Koopa</td>\n",
       "      <td>336</td>\n",
       "      <td>0.182495</td>\n",
       "      <td>0.201062</td>\n",
       "      <td>0.232236</td>\n",
       "      <td>0.204778</td>\n",
       "      <td>0.028985</td>\n",
       "    </tr>\n",
       "    <tr>\n",
       "      <th>3</th>\n",
       "      <td>electricity.csv</td>\n",
       "      <td>Koopa</td>\n",
       "      <td>720</td>\n",
       "      <td>0.227465</td>\n",
       "      <td>0.264415</td>\n",
       "      <td>0.297168</td>\n",
       "      <td>0.254934</td>\n",
       "      <td>0.046529</td>\n",
       "    </tr>\n",
       "    <tr>\n",
       "      <th>4</th>\n",
       "      <td>exchange_rate.csv</td>\n",
       "      <td>Koopa</td>\n",
       "      <td>96</td>\n",
       "      <td>0.054237</td>\n",
       "      <td>0.101376</td>\n",
       "      <td>0.150881</td>\n",
       "      <td>0.103070</td>\n",
       "      <td>0.056770</td>\n",
       "    </tr>\n",
       "    <tr>\n",
       "      <th>5</th>\n",
       "      <td>exchange_rate.csv</td>\n",
       "      <td>Koopa</td>\n",
       "      <td>192</td>\n",
       "      <td>0.107193</td>\n",
       "      <td>0.208419</td>\n",
       "      <td>0.307021</td>\n",
       "      <td>0.206498</td>\n",
       "      <td>0.114218</td>\n",
       "    </tr>\n",
       "    <tr>\n",
       "      <th>6</th>\n",
       "      <td>exchange_rate.csv</td>\n",
       "      <td>Koopa</td>\n",
       "      <td>336</td>\n",
       "      <td>0.200848</td>\n",
       "      <td>0.350350</td>\n",
       "      <td>0.491916</td>\n",
       "      <td>0.347897</td>\n",
       "      <td>0.181244</td>\n",
       "    </tr>\n",
       "    <tr>\n",
       "      <th>7</th>\n",
       "      <td>exchange_rate.csv</td>\n",
       "      <td>Koopa</td>\n",
       "      <td>720</td>\n",
       "      <td>0.318977</td>\n",
       "      <td>0.720859</td>\n",
       "      <td>1.081090</td>\n",
       "      <td>0.712574</td>\n",
       "      <td>0.412977</td>\n",
       "    </tr>\n",
       "    <tr>\n",
       "      <th>8</th>\n",
       "      <td>weather.csv</td>\n",
       "      <td>Koopa</td>\n",
       "      <td>96</td>\n",
       "      <td>0.355696</td>\n",
       "      <td>0.418157</td>\n",
       "      <td>0.453435</td>\n",
       "      <td>0.394706</td>\n",
       "      <td>0.076531</td>\n",
       "    </tr>\n",
       "    <tr>\n",
       "      <th>9</th>\n",
       "      <td>weather.csv</td>\n",
       "      <td>Koopa</td>\n",
       "      <td>192</td>\n",
       "      <td>0.422177</td>\n",
       "      <td>0.480441</td>\n",
       "      <td>0.516229</td>\n",
       "      <td>0.461632</td>\n",
       "      <td>0.084329</td>\n",
       "    </tr>\n",
       "    <tr>\n",
       "      <th>10</th>\n",
       "      <td>weather.csv</td>\n",
       "      <td>Koopa</td>\n",
       "      <td>336</td>\n",
       "      <td>0.467589</td>\n",
       "      <td>0.550743</td>\n",
       "      <td>0.603539</td>\n",
       "      <td>0.522354</td>\n",
       "      <td>0.096984</td>\n",
       "    </tr>\n",
       "    <tr>\n",
       "      <th>11</th>\n",
       "      <td>weather.csv</td>\n",
       "      <td>Koopa</td>\n",
       "      <td>720</td>\n",
       "      <td>0.564234</td>\n",
       "      <td>0.645469</td>\n",
       "      <td>0.682338</td>\n",
       "      <td>0.609144</td>\n",
       "      <td>0.101101</td>\n",
       "    </tr>\n",
       "  </tbody>\n",
       "</table>\n",
       "</div>"
      ],
      "text/plain": [
       "            data_path  model  pred_len       25%       50%       75%  \\\n",
       "0     electricity.csv  Koopa        96  0.142321  0.159699  0.166171   \n",
       "1     electricity.csv  Koopa       192  0.172336  0.182531  0.190022   \n",
       "2     electricity.csv  Koopa       336  0.182495  0.201062  0.232236   \n",
       "3     electricity.csv  Koopa       720  0.227465  0.264415  0.297168   \n",
       "4   exchange_rate.csv  Koopa        96  0.054237  0.101376  0.150881   \n",
       "5   exchange_rate.csv  Koopa       192  0.107193  0.208419  0.307021   \n",
       "6   exchange_rate.csv  Koopa       336  0.200848  0.350350  0.491916   \n",
       "7   exchange_rate.csv  Koopa       720  0.318977  0.720859  1.081090   \n",
       "8         weather.csv  Koopa        96  0.355696  0.418157  0.453435   \n",
       "9         weather.csv  Koopa       192  0.422177  0.480441  0.516229   \n",
       "10        weather.csv  Koopa       336  0.467589  0.550743  0.603539   \n",
       "11        weather.csv  Koopa       720  0.564234  0.645469  0.682338   \n",
       "\n",
       "        mean       std  \n",
       "0   0.154833  0.014624  \n",
       "1   0.180779  0.020266  \n",
       "2   0.204778  0.028985  \n",
       "3   0.254934  0.046529  \n",
       "4   0.103070  0.056770  \n",
       "5   0.206498  0.114218  \n",
       "6   0.347897  0.181244  \n",
       "7   0.712574  0.412977  \n",
       "8   0.394706  0.076531  \n",
       "9   0.461632  0.084329  \n",
       "10  0.522354  0.096984  \n",
       "11  0.609144  0.101101  "
      ]
     },
     "execution_count": 8,
     "metadata": {},
     "output_type": "execute_result"
    }
   ],
   "source": [
    "stats=df.query(\"split=='train'\").groupby(['data_path','model','pred_len'])['mse'].describe().reset_index()\n",
    "stats[['data_path','model','pred_len','25%','50%','75%','mean','std']].sort_values(['data_path','pred_len','model'])"
   ]
  },
  {
   "cell_type": "code",
   "execution_count": null,
   "id": "437c14d0",
   "metadata": {},
   "outputs": [],
   "source": []
  }
 ],
 "metadata": {
  "kernelspec": {
   "display_name": "Python 3 (ipykernel)",
   "language": "python",
   "name": "python3"
  },
  "language_info": {
   "codemirror_mode": {
    "name": "ipython",
    "version": 3
   },
   "file_extension": ".py",
   "mimetype": "text/x-python",
   "name": "python",
   "nbconvert_exporter": "python",
   "pygments_lexer": "ipython3",
   "version": "3.7.12"
  }
 },
 "nbformat": 4,
 "nbformat_minor": 5
}
