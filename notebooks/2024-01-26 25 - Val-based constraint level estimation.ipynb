{
 "cells": [
  {
   "cell_type": "markdown",
   "id": "3e514376",
   "metadata": {},
   "source": [
    "# 2024-01-26 24 - DEV DEBUGGING MULTIPLIERS.ipynb"
   ]
  },
  {
   "cell_type": "markdown",
   "id": "91bcf98e",
   "metadata": {},
   "source": [
    "## Parameters"
   ]
  },
  {
   "cell_type": "markdown",
   "id": "461ef4b3",
   "metadata": {},
   "source": [
    "## Libraries and setup"
   ]
  },
  {
   "cell_type": "code",
   "execution_count": 8,
   "id": "31a718a8",
   "metadata": {},
   "outputs": [],
   "source": [
    "%load_ext autoreload\n",
    "%autoreload 2"
   ]
  },
  {
   "cell_type": "code",
   "execution_count": 9,
   "id": "57da5343",
   "metadata": {},
   "outputs": [],
   "source": [
    "import sys\n",
    "import os\n",
    "sys.path.append(os.path.abspath(os.path.join(os.getcwd(), os.pardir)))"
   ]
  },
  {
   "cell_type": "code",
   "execution_count": 10,
   "id": "d4db62bc",
   "metadata": {},
   "outputs": [],
   "source": [
    "import pandas as pd\n",
    "import numpy as np\n",
    "from matplotlib import pyplot as plt\n",
    "import seaborn as sns\n",
    "from IPython.display import Markdown, display"
   ]
  },
  {
   "cell_type": "code",
   "execution_count": 11,
   "id": "5bb34d2b",
   "metadata": {},
   "outputs": [],
   "source": [
    "from utils import wandb_utils"
   ]
  },
  {
   "cell_type": "markdown",
   "id": "92b12a3c",
   "metadata": {},
   "source": [
    "## Data Download"
   ]
  },
  {
   "cell_type": "code",
   "execution_count": 13,
   "id": "94bb3332",
   "metadata": {},
   "outputs": [
    {
     "name": "stderr",
     "output_type": "stream",
     "text": [
      "100%|██████████| 96/96 [07:13<00:00,  4.51s/it]\n"
     ]
    },
    {
     "name": "stdout",
     "output_type": "stream",
     "text": [
      "Fetched 96 runs\n",
      "Total records: (96768, 82)\n",
      "Total runs: 96\n"
     ]
    }
   ],
   "source": [
    "from utils import wandb_utils\n",
    "# Todo save in a file\n",
    "\n",
    "df = wandb_utils.get_experiment_data(\"Autoformer\",\"alelab\",[\"e16_finaljan_allerm_replicated\"])"
   ]
  },
  {
   "cell_type": "markdown",
   "id": "770f1ed0",
   "metadata": {},
   "source": [
    "# Train constraints"
   ]
  },
  {
   "cell_type": "code",
   "execution_count": 1,
   "id": "7ab78706",
   "metadata": {},
   "outputs": [
    {
     "ename": "NameError",
     "evalue": "name 'wandb_utils' is not defined",
     "output_type": "error",
     "traceback": [
      "\u001b[0;31m---------------------------------------------------------------------------\u001b[0m",
      "\u001b[0;31mNameError\u001b[0m                                 Traceback (most recent call last)",
      "\u001b[0;32m/tmp/ipykernel_1070134/2912456509.py\u001b[0m in \u001b[0;36m<module>\u001b[0;34m\u001b[0m\n\u001b[0;32m----> 1\u001b[0;31m \u001b[0mconstraint_levels_train\u001b[0m\u001b[0;34m=\u001b[0m\u001b[0mwandb_utils\u001b[0m\u001b[0;34m.\u001b[0m\u001b[0mgenerate_constraint_levels\u001b[0m\u001b[0;34m(\u001b[0m\u001b[0mdf\u001b[0m\u001b[0;34m)\u001b[0m\u001b[0;34m\u001b[0m\u001b[0;34m\u001b[0m\u001b[0m\n\u001b[0m\u001b[1;32m      2\u001b[0m \u001b[0mconstraint_levels_train\u001b[0m\u001b[0;34m\u001b[0m\u001b[0;34m\u001b[0m\u001b[0m\n",
      "\u001b[0;31mNameError\u001b[0m: name 'wandb_utils' is not defined"
     ]
    }
   ],
   "source": [
    "constraint_levels_train=wandb_utils.generate_constraint_levels(df)\n",
    "constraint_levels_train"
   ]
  },
  {
   "cell_type": "markdown",
   "id": "1009a2d4",
   "metadata": {},
   "source": [
    "# Val constraints"
   ]
  },
  {
   "cell_type": "code",
   "execution_count": 16,
   "id": "153c9c0c",
   "metadata": {},
   "outputs": [
    {
     "name": "stdout",
     "output_type": "stream",
     "text": [
      "Generating constraints based on the following runs (one per param set)\n",
      "['ajoppcl5', '9rl8iyjz', '9hwg0wqx', '97277ipy', '7ibsia6e', 'kx7btk2o', 'jf7dq8qk', 's5pumujv', 'q68n6xvg', 'ssdikjbs', 'wjialdkg', 'phmuxo4h', 'wsra8m7d', 'h3hcus22', '010yzgy7', 'r5eft7mr', '35735x1j', 'poayaf3m', '8ieeirpi', '8uxsilax', 'li5t330d', 'kshrpq3s', '8ja7o6jn', 'd2xlb5rf', 'y6ciggbo', 'iew85sck', 'p2iu3w6t', 'g8ajpgu9', 'dnhgyj1h', 'e24epvkh', 'mtazn79p', 'hwcf6izm', 'zr62v69q', 'tl01y9p1', 'gu4etz8w', '9kyy4t5z', 'jelkgwku', 'd9guyq5e', 'ztrmac1q', 'evcks1nj', 'adc3ji2h', 'dzq1774w', 'v1jq0ndp', 'xv7bj28p', '7pqt3hcs', '28r9ozfx', '6ohtn7dc', '0u4cox6h']\n"
     ]
    },
    {
     "data": {
      "text/plain": [
       "{'electricity.csv': {'Autoformer': {96: [0.151, 0.16, 0.166],\n",
       "   192: [0.174, 0.184, 0.202],\n",
       "   336: [0.197, 0.207, 0.24],\n",
       "   720: [0.218, 0.228, 0.244]},\n",
       "  'Informer': {96: [0.224, 0.226, 0.232],\n",
       "   192: [0.226, 0.237, 0.257],\n",
       "   336: [0.25, 0.263, 0.296],\n",
       "   720: [0.309, 0.321, 0.352]},\n",
       "  'Reformer': {96: [0.198, 0.202, 0.207],\n",
       "   192: [0.218, 0.238, 0.254],\n",
       "   336: [0.223, 0.236, 0.254],\n",
       "   720: [0.251, 0.254, 0.255]},\n",
       "  'Transformer': {96: [0.176, 0.181, 0.189],\n",
       "   192: [0.197, 0.211, 0.227],\n",
       "   336: [0.194, 0.211, 0.234],\n",
       "   720: [0.232, 0.239, 0.25]}},\n",
       " 'exchange_rate.csv': {'Autoformer': {96: [0.138, 0.217, 0.269],\n",
       "   192: [0.375, 0.742, 1.714],\n",
       "   336: [0.763, 0.83, 1.126],\n",
       "   720: [0.582, 1.047, 1.4]},\n",
       "  'Informer': {96: [0.759, 0.8, 1.017],\n",
       "   192: [0.826, 1.103, 1.332],\n",
       "   336: [1.987, 2.337, 3.09],\n",
       "   720: [3.706, 4.829, 6.314]},\n",
       "  'Reformer': {96: [1.137, 1.221, 1.495],\n",
       "   192: [1.915, 2.067, 2.187],\n",
       "   336: [3.682, 4.134, 4.544],\n",
       "   720: [3.071, 4.638, 5.988]},\n",
       "  'Transformer': {96: [0.423, 0.562, 0.67],\n",
       "   192: [0.431, 0.798, 0.87],\n",
       "   336: [1.019, 1.183, 1.294],\n",
       "   720: [1.234, 2.496, 3.198]}},\n",
       " 'weather.csv': {'Autoformer': {96: [0.484, 0.541, 0.549],\n",
       "   192: [0.559, 0.58, 0.689],\n",
       "   336: [0.61, 0.679, 0.737],\n",
       "   720: [0.702, 0.862, 0.92]},\n",
       "  'Informer': {96: [0.475, 0.527, 0.548],\n",
       "   192: [0.525, 0.563, 0.607],\n",
       "   336: [0.577, 0.671, 0.729],\n",
       "   720: [0.747, 0.849, 0.98]},\n",
       "  'Reformer': {96: [0.461, 0.527, 0.565],\n",
       "   192: [0.598, 0.627, 0.667],\n",
       "   336: [0.73, 0.804, 0.835],\n",
       "   720: [0.877, 0.892, 0.905]},\n",
       "  'Transformer': {96: [0.467, 0.538, 0.585],\n",
       "   192: [0.559, 0.662, 0.771],\n",
       "   336: [0.622, 0.772, 0.869],\n",
       "   720: [0.787, 0.972, 1.035]}}}"
      ]
     },
     "execution_count": 16,
     "metadata": {},
     "output_type": "execute_result"
    }
   ],
   "source": [
    "constraint_levels_test=wandb_utils.generate_constraint_levels(df,split='val')\n",
    "constraint_levels_test"
   ]
  },
  {
   "cell_type": "code",
   "execution_count": 27,
   "metadata": {},
   "outputs": [],
   "source": [
    "# Sanity check Check if there are three distinct constraints on each\n",
    "for dataset in constraint_levels_test.keys():\n",
    "    for model in constraint_levels_test[dataset].keys():\n",
    "        for pred_len in constraint_levels_test[dataset][model].keys():\n",
    "        # Check if the difference between 0,1, and 1,2 is > 1e-5\n",
    "            if abs(constraint_levels_test[dataset][model][pred_len][0]-constraint_levels_test[dataset][model][pred_len][1])<1e-3:\n",
    "                display(Markdown(f\"**{dataset} {model} {pred_len}**\"))\n",
    "                display(constraint_levels_test[dataset][model][pred_len])\n"
   ]
  }
 ],
 "metadata": {
  "kernelspec": {
   "display_name": "Python 3 (ipykernel)",
   "language": "python",
   "name": "python3"
  },
  "language_info": {
   "codemirror_mode": {
    "name": "ipython",
    "version": 3
   },
   "file_extension": ".py",
   "mimetype": "text/x-python",
   "name": "python",
   "nbconvert_exporter": "python",
   "pygments_lexer": "ipython3",
   "version": "3.7.12"
  }
 },
 "nbformat": 4,
 "nbformat_minor": 5
}
