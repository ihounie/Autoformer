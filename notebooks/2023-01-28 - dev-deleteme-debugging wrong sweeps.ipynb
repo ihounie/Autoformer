{
 "cells": [
  {
   "cell_type": "markdown",
   "metadata": {},
   "source": [
    "# find sweeps that have not finished"
   ]
  },
  {
   "cell_type": "code",
   "execution_count": 3,
   "metadata": {},
   "outputs": [],
   "source": [
    "import sys\n",
    "import os\n",
    "sys.path.append(os.path.abspath(os.path.join(os.getcwd(), os.pardir)))"
   ]
  },
  {
   "cell_type": "code",
   "execution_count": 4,
   "metadata": {},
   "outputs": [],
   "source": [
    "from utils import wandb_utils"
   ]
  },
  {
   "cell_type": "code",
   "execution_count": 5,
   "metadata": {},
   "outputs": [
    {
     "name": "stderr",
     "output_type": "stream",
     "text": [
      "100%|██████████| 248/248 [00:43<00:00,  5.70it/s]\n"
     ]
    },
    {
     "name": "stdout",
     "output_type": "stream",
     "text": [
      "Fetched 248 runs\n",
      "Total records: (246240, 81)\n",
      "Total runs: 248\n"
     ]
    }
   ],
   "source": [
    "df = wandb_utils.get_experiment_data(\"Autoformer\",\"alelab\",experiment_tags=[\n",
    "    \"e16_finaljan_allerm_replicated\",\n",
    "    \"e18_icml_constant_constrained_loose\",\n",
    "])"
   ]
  },
  {
   "cell_type": "code",
   "execution_count": 12,
   "metadata": {},
   "outputs": [
    {
     "data": {
      "text/html": [
       "<div>\n",
       "<style scoped>\n",
       "    .dataframe tbody tr th:only-of-type {\n",
       "        vertical-align: middle;\n",
       "    }\n",
       "\n",
       "    .dataframe tbody tr th {\n",
       "        vertical-align: top;\n",
       "    }\n",
       "\n",
       "    .dataframe thead th {\n",
       "        text-align: right;\n",
       "    }\n",
       "</style>\n",
       "<table border=\"1\" class=\"dataframe\">\n",
       "  <thead>\n",
       "    <tr style=\"text-align: right;\">\n",
       "      <th></th>\n",
       "      <th>sweep_id</th>\n",
       "      <th>data_path</th>\n",
       "      <th>model</th>\n",
       "      <th>pred_len</th>\n",
       "      <th>run_id</th>\n",
       "    </tr>\n",
       "  </thead>\n",
       "  <tbody>\n",
       "    <tr>\n",
       "      <th>9</th>\n",
       "      <td>bmjd3pkj</td>\n",
       "      <td>weather.csv</td>\n",
       "      <td>Autoformer</td>\n",
       "      <td>192</td>\n",
       "      <td>1</td>\n",
       "    </tr>\n",
       "    <tr>\n",
       "      <th>21</th>\n",
       "      <td>k30vvbhf</td>\n",
       "      <td>weather.csv</td>\n",
       "      <td>Reformer</td>\n",
       "      <td>192</td>\n",
       "      <td>1</td>\n",
       "    </tr>\n",
       "    <tr>\n",
       "      <th>8</th>\n",
       "      <td>a4keujp5</td>\n",
       "      <td>weather.csv</td>\n",
       "      <td>Autoformer</td>\n",
       "      <td>336</td>\n",
       "      <td>2</td>\n",
       "    </tr>\n",
       "    <tr>\n",
       "      <th>16</th>\n",
       "      <td>f2y7krrj</td>\n",
       "      <td>weather.csv</td>\n",
       "      <td>Autoformer</td>\n",
       "      <td>96</td>\n",
       "      <td>2</td>\n",
       "    </tr>\n",
       "    <tr>\n",
       "      <th>48</th>\n",
       "      <td>xuxe4veo</td>\n",
       "      <td>weather.csv</td>\n",
       "      <td>Reformer</td>\n",
       "      <td>96</td>\n",
       "      <td>2</td>\n",
       "    </tr>\n",
       "  </tbody>\n",
       "</table>\n",
       "</div>"
      ],
      "text/plain": [
       "    sweep_id    data_path       model  pred_len  run_id\n",
       "9   bmjd3pkj  weather.csv  Autoformer       192       1\n",
       "21  k30vvbhf  weather.csv    Reformer       192       1\n",
       "8   a4keujp5  weather.csv  Autoformer       336       2\n",
       "16  f2y7krrj  weather.csv  Autoformer        96       2\n",
       "48  xuxe4veo  weather.csv    Reformer        96       2"
      ]
     },
     "execution_count": 12,
     "metadata": {},
     "output_type": "execute_result"
    }
   ],
   "source": [
    "sweep_counts = df.query(\"constraint_type=='constant'\").groupby(['sweep_id','data_path','model','pred_len'])['run_id'].nunique().reset_index()\n",
    "missing_runs = sweep_counts[sweep_counts.run_id!=3].sort_values('run_id')\n",
    "missing_runs"
   ]
  },
  {
   "cell_type": "code",
   "execution_count": 14,
   "metadata": {},
   "outputs": [
    {
     "name": "stdout",
     "output_type": "stream",
     "text": [
      "bmjd3pkj\n",
      "k30vvbhf\n",
      "a4keujp5\n",
      "f2y7krrj\n",
      "xuxe4veo\n"
     ]
    }
   ],
   "source": [
    "# Print urls for each \n",
    "for sweep_id in missing_runs.sweep_id:\n",
    "    #print(f\"https://wandb.ai/alelab/Autoformer/sweeps/{sweep_id}?workspace=user-jotaporras\")\n",
    "    print(sweep_id)"
   ]
  }
 ],
 "metadata": {
  "kernelspec": {
   "display_name": "autoformer",
   "language": "python",
   "name": "python3"
  },
  "language_info": {
   "codemirror_mode": {
    "name": "ipython",
    "version": 3
   },
   "file_extension": ".py",
   "mimetype": "text/x-python",
   "name": "python",
   "nbconvert_exporter": "python",
   "pygments_lexer": "ipython3",
   "version": "3.7.12"
  }
 },
 "nbformat": 4,
 "nbformat_minor": 2
}
