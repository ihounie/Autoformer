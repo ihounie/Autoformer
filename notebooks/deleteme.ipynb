{
 "cells": [
  {
   "cell_type": "markdown",
   "metadata": {},
   "source": [
    "# Lab 3 Collaborative Filtering with Graph Neural Networks\n",
    "\n",
    "The objective of this lab is to design a recommendation system that predicts the ratings that customers would give to a certain product. Say, the rating that a moviegoer would give to a specific movie, or the rating that an online shopper would give to a particular offering. To make these predictions we leverage the ratings that customers have given to this or similar products in the past. This approach to ratings predictions is called collaborative filtering.\n",
    "\n",
    "We model collaborative filtering as a problem that involves a graph $\\mathbf{S}$ and graph signals $\\mathbf{x}_u$ supported on the nodes of the graph.\n",
    "Nodes $p$ of the graph $\\mathbf{S}$ represent different products and the weighted edges $S_{pq}$ denote simlarities between products $p$ and $q$. The entries of the graph signal $\\mathbf{x}_u$ represent the ratings that user $u$ has given to each product.\n",
    "\n",
    "The motivation for developing a recommendation system is that customers have rated a subset of prodcuts. Each of us has seen a small number of movies or bought a small number of offerings. Thus, the ratings vector $\\mathbf{x}_u$ contains only some entries that correspond to rated products. For the remaining entries we adopt the convention that $x_{ui}=0$. Our goal is to learn a function $\\Phi(\\mathbf{x}_{u}; \\mathcal{H})$ that takes as input the vector $\\mathbf{x}_u$ of available ratings and fills in predictions for the ratings that are not available.\n",
    "\n",
    "We will develop and evaluate a graph neural network (GNN) for making these rating predictions.\n",
    "\n"
   ]
  }
 ],
 "metadata": {
  "language_info": {
   "name": "python"
  }
 },
 "nbformat": 4,
 "nbformat_minor": 2
}
