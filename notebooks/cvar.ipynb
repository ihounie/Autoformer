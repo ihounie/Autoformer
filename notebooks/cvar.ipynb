{
 "cells": [
  {
   "cell_type": "code",
   "execution_count": null,
   "id": "1abce6ec",
   "metadata": {
    "execution": {
     "iopub.execute_input": "2024-01-31T23:18:42.543346Z",
     "iopub.status.busy": "2024-01-31T23:18:42.543155Z",
     "iopub.status.idle": "2024-01-31T23:18:44.019113Z",
     "shell.execute_reply": "2024-01-31T23:18:44.018709Z"
    },
    "papermill": {
     "duration": 1.479603,
     "end_time": "2024-01-31T23:18:44.019998",
     "exception": false,
     "start_time": "2024-01-31T23:18:42.540395",
     "status": "completed"
    },
    "tags": []
   },
   "outputs": [],
   "source": [
    "import wandb\n",
    "import pandas as pd\n",
    "import numpy as np\n",
    "from tqdm import tqdm\n",
    "import sys\n",
    "import os\n",
    "sys.path.append(os.path.dirname(os.getcwd()))\n",
    "from utils.load_model import load_model\n",
    "import torch\n",
    "from data_provider.data_factory import data_provider\n",
    "from scipy.stats import iqr"
   ]
  },
  {
   "cell_type": "code",
   "execution_count": null,
   "id": "d7d80515",
   "metadata": {
    "tags": [
     "parameters"
    ]
   },
   "outputs": [],
   "source": [
    "experiment_tags = ['e29_icml_constrained_newmodels']"
   ]
  },
  {
   "cell_type": "code",
   "execution_count": null,
   "id": "2dc39338",
   "metadata": {
    "execution": {
     "iopub.execute_input": "2024-01-31T23:18:44.025643Z",
     "iopub.status.busy": "2024-01-31T23:18:44.025418Z",
     "iopub.status.idle": "2024-01-31T23:18:44.027951Z",
     "shell.execute_reply": "2024-01-31T23:18:44.027558Z"
    },
    "papermill": {
     "duration": 0.007611,
     "end_time": "2024-01-31T23:18:44.028622",
     "exception": false,
     "start_time": "2024-01-31T23:18:44.021011",
     "status": "completed"
    },
    "tags": []
   },
   "outputs": [],
   "source": [
    "def cvar(errors, alpha=0.05):\n",
    "    return np.mean(errors[errors >= np.quantile(errors, 1-alpha)])\n",
    "\n"
   ]
  },
  {
   "cell_type": "code",
   "execution_count": null,
   "id": "3f63d8bd",
   "metadata": {
    "execution": {
     "iopub.execute_input": "2024-01-31T23:18:44.031715Z",
     "iopub.status.busy": "2024-01-31T23:18:44.031453Z",
     "iopub.status.idle": "2024-01-31T23:18:44.038770Z",
     "shell.execute_reply": "2024-01-31T23:18:44.038393Z"
    },
    "papermill": {
     "duration": 0.009331,
     "end_time": "2024-01-31T23:18:44.039448",
     "exception": false,
     "start_time": "2024-01-31T23:18:44.030117",
     "status": "completed"
    },
    "tags": []
   },
   "outputs": [],
   "source": [
    "def run_test(model, config, test_loader):\n",
    "    preds = []\n",
    "    trues = []\n",
    "\n",
    "    model.eval()\n",
    "    with torch.no_grad():\n",
    "        for i, (batch_x, batch_y, batch_x_mark, batch_y_mark) in enumerate(test_loader):\n",
    "            batch_x = batch_x.float().to(\"cuda\")\n",
    "            batch_y = batch_y.float().to(\"cuda\")\n",
    "\n",
    "            batch_x_mark = batch_x_mark.float().to(\"cuda\")\n",
    "            batch_y_mark = batch_y_mark.float().to(\"cuda\")\n",
    "\n",
    "            # decoder input\n",
    "            dec_inp = torch.zeros_like(batch_y[:, -config.pred_len:, :]).float()\n",
    "            dec_inp = torch.cat([batch_y[:, :config.label_len, :], dec_inp], dim=1).float().to(\"cuda\")\n",
    "            \n",
    "            # encoder - decoder\n",
    "            if 'Linear' in config.model or 'TST' in config.model:\n",
    "                        outputs = model(batch_x)\n",
    "            else:\n",
    "                if config.output_attention:\n",
    "                    outputs = model(batch_x, batch_x_mark, dec_inp, batch_y_mark)[0]\n",
    "\n",
    "                else:\n",
    "                    outputs = model(batch_x, batch_x_mark, dec_inp, batch_y_mark)\n",
    "\n",
    "            f_dim = -1 if config.features == 'MS' else 0\n",
    "            outputs = outputs[:, -config.pred_len:, f_dim:]\n",
    "            batch_y = batch_y[:, -config.pred_len:, f_dim:].to(\"cuda\")\n",
    "            outputs = outputs.detach().cpu().numpy()\n",
    "            batch_y = batch_y.detach().cpu().numpy()\n",
    "\n",
    "            pred = outputs\n",
    "            true = batch_y\n",
    "\n",
    "            preds.append(pred)\n",
    "            trues.append(true)\n",
    "\n",
    "    preds = np.concatenate(preds, axis=0)\n",
    "    trues = np.concatenate(trues, axis=0)\n",
    "    #print('test shape:', preds.shape, trues.shape)\n",
    "    preds = preds.reshape(-1, preds.shape[-2], preds.shape[-1])\n",
    "    trues = trues.reshape(-1, trues.shape[-2], trues.shape[-1])\n",
    "    #print('test shape:', preds.shape, trues.shape)\n",
    "\n",
    "    return trues, preds\n"
   ]
  },
  {
   "cell_type": "code",
   "execution_count": null,
   "id": "f6c7eb54",
   "metadata": {
    "execution": {
     "iopub.execute_input": "2024-01-31T23:18:44.041920Z",
     "iopub.status.busy": "2024-01-31T23:18:44.041588Z",
     "iopub.status.idle": "2024-01-31T23:18:44.045703Z",
     "shell.execute_reply": "2024-01-31T23:18:44.045319Z"
    },
    "papermill": {
     "duration": 0.006097,
     "end_time": "2024-01-31T23:18:44.046384",
     "exception": false,
     "start_time": "2024-01-31T23:18:44.040287",
     "status": "completed"
    },
    "tags": []
   },
   "outputs": [],
   "source": [
    "def run_eval(run):\n",
    "    model, config = load_model(run.entity, run.project,run.id)\n",
    "    _, test_loader = data_provider(config, 'test')\n",
    "    model.to(\"cuda\")\n",
    "    trues, preds = run_test(model, config, test_loader)\n",
    "    errors = np.mean((trues - preds)**2, axis=(0, 2))\n",
    "    mae = np.mean(np.abs(trues - preds), axis=(0, 2))\n",
    "    metrics = {}\n",
    "    for alpha in [0.01, 0.05, 0.1]:\n",
    "        metrics[f'pointwise/cvar/{alpha}'] = cvar(errors, alpha)\n",
    "        metrics[f'pointwise/quantile/{1-alpha}'] = np.quantile(errors, 1-alpha)\n",
    "    metrics[f'pointwise/std'] = np.std(errors)\n",
    "    metrics[f'pointwise/max'] = np.max(errors)\n",
    "    metrics[f'pointwise/iqr'] = iqr(errors)\n",
    "    metrics[f'mae/test/mean'] = np.mean(mae)\n",
    "    metrics[f'mae/test/std'] = np.std(mae)\n",
    "    return metrics"
   ]
  },
  {
   "cell_type": "code",
   "execution_count": null,
   "id": "9bda2d8f",
   "metadata": {
    "execution": {
     "iopub.execute_input": "2024-01-31T23:18:44.048792Z",
     "iopub.status.busy": "2024-01-31T23:18:44.048544Z",
     "iopub.status.idle": "2024-01-31T23:18:56.057509Z",
     "shell.execute_reply": "2024-01-31T23:18:56.056844Z"
    },
    "papermill": {
     "duration": 12.011558,
     "end_time": "2024-01-31T23:18:56.058790",
     "exception": false,
     "start_time": "2024-01-31T23:18:44.047232",
     "status": "completed"
    },
    "tags": []
   },
   "outputs": [],
   "source": [
    "workspace = \"alelab\"\n",
    "project = \"Autoformer\"\n",
    " #notebooks/cvar.ipynb\n",
    "#'e20_icml_monotonic',\n",
    "#'e20_icml_monotonic_no_resilience',\n",
    "#'e21_icml_static_linear_no_resilience',\n",
    "#'e21_icml_static_linear_resilience',]\n",
    "\n",
    "state = \"Finished\"\n",
    "query_dict={\"$and\": [\n",
    "                {\"tags\": {\"$in\": experiment_tags}},\n",
    "                {\"state\": state}\n",
    "]}\n",
    "\n",
    "api = wandb.Api(timeout=10000)\n",
    "# get all runs that both: 1.  match any experiment tag and 2. are finished\n",
    "runs = api.runs(f\"{workspace}/{project}\",query_dict)\n",
    "print(f\"Total runs: {len(runs)}\")"
   ]
  },
  {
   "cell_type": "code",
   "execution_count": null,
   "id": "6c13ff94",
   "metadata": {},
   "outputs": [],
   "source": [
    "#failed_runs = []\n",
    "#for run in tqdm(runs):\n",
    "    #metrics = run_eval(run)"
   ]
  },
  {
   "cell_type": "code",
   "execution_count": null,
   "id": "5021e29f",
   "metadata": {
    "execution": {
     "iopub.execute_input": "2024-01-31T23:18:56.065861Z",
     "iopub.status.busy": "2024-01-31T23:18:56.065671Z",
     "iopub.status.idle": "2024-02-01T01:33:21.837789Z",
     "shell.execute_reply": "2024-02-01T01:33:21.837347Z"
    },
    "papermill": {
     "duration": 8065.778228,
     "end_time": "2024-02-01T01:33:21.839134",
     "exception": false,
     "start_time": "2024-01-31T23:18:56.060906",
     "status": "completed"
    },
    "tags": []
   },
   "outputs": [],
   "source": [
    "failed_runs = []\n",
    "for run in tqdm(runs):\n",
    "    try:\n",
    "        metrics = run_eval(run)\n",
    "        wandb.init(id=run.id, entity=workspace, project=project, resume=\"must\")\n",
    "        wandb.log(metrics)\n",
    "        wandb.finish()\n",
    "    except:\n",
    "        failed_runs.append(run.id)\n",
    "        print(f'Failed run {run.id}')"
   ]
  },
  {
   "cell_type": "code",
   "execution_count": null,
   "id": "a30e15e5",
   "metadata": {
    "execution": {
     "iopub.execute_input": "2024-02-01T01:33:27.654716Z",
     "iopub.status.busy": "2024-02-01T01:33:27.654451Z",
     "iopub.status.idle": "2024-02-01T01:33:27.659379Z",
     "shell.execute_reply": "2024-02-01T01:33:27.658829Z"
    },
    "papermill": {
     "duration": 2.938079,
     "end_time": "2024-02-01T01:33:27.660382",
     "exception": false,
     "start_time": "2024-02-01T01:33:24.722303",
     "status": "completed"
    },
    "tags": []
   },
   "outputs": [],
   "source": [
    "for run in failed_runs:\n",
    "    print(run)"
   ]
  }
 ],
 "metadata": {
  "kernelspec": {
   "display_name": "notebook",
   "language": "python",
   "name": "python3"
  },
  "language_info": {
   "codemirror_mode": {
    "name": "ipython",
    "version": 3
   },
   "file_extension": ".py",
   "mimetype": "text/x-python",
   "name": "python",
   "nbconvert_exporter": "python",
   "pygments_lexer": "ipython3",
   "version": "3.8.19"
  },
  "papermill": {
   "default_parameters": {},
   "duration": 8091.61243,
   "end_time": "2024-02-01T01:33:33.427272",
   "environment_variables": {},
   "exception": null,
   "input_path": "2023-01-31-step_wise_metrics.ipynb",
   "output_path": "2023-01-31-step_wise_metrics_out.ipynb",
   "parameters": {},
   "start_time": "2024-01-31T23:18:41.814842",
   "version": "2.5.0"
  }
 },
 "nbformat": 4,
 "nbformat_minor": 5
}
