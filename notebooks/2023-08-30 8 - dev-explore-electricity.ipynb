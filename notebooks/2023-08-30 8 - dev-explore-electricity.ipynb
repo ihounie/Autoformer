{
 "cells": [
  {
   "cell_type": "markdown",
   "id": "3e514376",
   "metadata": {},
   "source": [
    "# 2023-08-30 8 - dev-explore-electricity.ipynb\n",
    "Explore some electricity dev runs"
   ]
  },
  {
   "cell_type": "markdown",
   "id": "f24149d1",
   "metadata": {},
   "source": [
    "## Fetching runs"
   ]
  },
  {
   "cell_type": "code",
   "execution_count": 42,
   "id": "e7f14d5c",
   "metadata": {},
   "outputs": [
    {
     "name": "stderr",
     "output_type": "stream",
     "text": [
      "100%|██████████| 1/1 [00:00<00:00, 224.04it/s]"
     ]
    },
    {
     "name": "stdout",
     "output_type": "stream",
     "text": [
      "Fetched 1 runs\n",
      "Total records: (288, 60)\n"
     ]
    },
    {
     "name": "stderr",
     "output_type": "stream",
     "text": [
      "\n"
     ]
    }
   ],
   "source": [
    "import wandb\n",
    "from math import isnan \n",
    "import seaborn as sns\n",
    "import matplotlib.pyplot as plt\n",
    "import pandas as pd\n",
    "import numpy as np\n",
    "import wandb\n",
    "from tqdm import tqdm\n",
    "# from cycler import cycler\n",
    "import matplotlib as mpl\n",
    "from IPython.display import Markdown, display\n",
    "    \n",
    "api = wandb.Api()\n",
    "project = \"Autoformer-javierdev\"\n",
    "workspace = \"alelab\"\n",
    "\n",
    "run_ids = ['t1ngphzp','1eusm0ma']\n",
    "\n",
    "runs = [api.run(f\"{workspace}/{project}/runs/{run_id}\")for run_id in run_ids]\n",
    "\n",
    "all_runs = []\n",
    "run_counter = 0\n",
    "for run in tqdm(runs):\n",
    "    run_counter += 1\n",
    "    for split in [\"train\", \"test\",\"val\"]:\n",
    "        for metric in [\"mse\",]:\n",
    "            pred_len = run.config[\"pred_len\"]\n",
    "            metrics = np.zeros(pred_len)\n",
    "            for i in range(pred_len):\n",
    "                run_dict = {**run.config}\n",
    "                #run_dict[\"constraint_level\"] = constraint_level\n",
    "                run_dict[f\"{metric}\"] = run.summary[f\"{metric}/{split}/{i}\"]\n",
    "                #run_dict[f\"{metric}\"] = run.summary.get(f\"{metric}/{split}/{i}\",run.summary.get(f\"mse/{split}/{i}\",np.nan)) #god forgive me for this line\n",
    "                run_dict[\"step\"]=i\n",
    "                run_dict[\"epoch\"]=run.summary[\"epoch\"]\n",
    "                run_dict[\"infeasible_rate\"]=run.summary[f\"infeasible_rate/{split}\"]\n",
    "                run_dict[\"split\"] = split\n",
    "                run_dict[\"run_id\"] = run.id\n",
    "                # Get either Constrained/ or ERM/ from the run name, then append model name.\n",
    "                #print(\"run.name\", run.name)\n",
    "                #debug if ERM run\n",
    "                run_dict[\"Algorithm\"] = f\"{run.name.split('/')[0]} {run.config['model']}\"\n",
    "                run_dict[\"sweep_id\"] = run.sweep.id if run.sweep else ''\n",
    "                #print(\"Algorithm\", run_dict[\"Algorithm\"])\n",
    "\n",
    "                # To better plot constrained vs ERM\n",
    "                #TODO this is a hack while I consolidate the tags. \n",
    "                run_dict[\"type\"] = \"ERM\" if run.config['dual_lr'] == 0 else \"Constrained\"\n",
    "\n",
    "                all_runs.append(run_dict)\n",
    "print(f\"Fetched {run_counter} runs\")\n",
    "df = pd.DataFrame(all_runs)\n",
    "print(f\"Total records: {(df.shape)}\")"
   ]
  },
  {
   "cell_type": "markdown",
   "id": "c2705c2a",
   "metadata": {},
   "source": [
    "There should be 3 runs per model, per pred length (3 x 2 x 4 = 24), plus ERM runs: 2 per model per pred_len (2 x 4 = 8) Total 32. "
   ]
  },
  {
   "cell_type": "code",
   "execution_count": 16,
   "id": "a7052f82",
   "metadata": {},
   "outputs": [
    {
     "data": {
      "text/html": [
       "<div>\n",
       "<style scoped>\n",
       "    .dataframe tbody tr th:only-of-type {\n",
       "        vertical-align: middle;\n",
       "    }\n",
       "\n",
       "    .dataframe tbody tr th {\n",
       "        vertical-align: top;\n",
       "    }\n",
       "\n",
       "    .dataframe thead th {\n",
       "        text-align: right;\n",
       "    }\n",
       "</style>\n",
       "<table border=\"1\" class=\"dataframe\">\n",
       "  <thead>\n",
       "    <tr style=\"text-align: right;\">\n",
       "      <th></th>\n",
       "      <th>run_id</th>\n",
       "      <th>sweep_id</th>\n",
       "      <th>Algorithm</th>\n",
       "      <th>model</th>\n",
       "      <th>constraint_level</th>\n",
       "      <th>pred_len</th>\n",
       "      <th>epoch</th>\n",
       "    </tr>\n",
       "  </thead>\n",
       "  <tbody>\n",
       "    <tr>\n",
       "      <th>0</th>\n",
       "      <td>t1ngphzp</td>\n",
       "      <td></td>\n",
       "      <td>Constrained-Autoformer-electricity Autoformer</td>\n",
       "      <td>Autoformer</td>\n",
       "      <td>0.2625</td>\n",
       "      <td>96</td>\n",
       "      <td>1</td>\n",
       "    </tr>\n",
       "  </tbody>\n",
       "</table>\n",
       "</div>"
      ],
      "text/plain": [
       "     run_id sweep_id                                      Algorithm  \\\n",
       "0  t1ngphzp           Constrained-Autoformer-electricity Autoformer   \n",
       "\n",
       "        model  constraint_level  pred_len  epoch  \n",
       "0  Autoformer            0.2625        96      1  "
      ]
     },
     "execution_count": 16,
     "metadata": {},
     "output_type": "execute_result"
    }
   ],
   "source": [
    "df[['run_id',\"sweep_id\",'Algorithm','model','constraint_level','pred_len','epoch']].drop_duplicates().sort_values([\"pred_len\",'Algorithm','model',\"constraint_level\"])"
   ]
  },
  {
   "cell_type": "markdown",
   "id": "9219dae8",
   "metadata": {},
   "source": [
    "## Plots"
   ]
  },
  {
   "cell_type": "code",
   "execution_count": 17,
   "id": "21a2817f",
   "metadata": {},
   "outputs": [
    {
     "name": "stdout",
     "output_type": "stream",
     "text": [
      "[0.2625]\n"
     ]
    },
    {
     "data": {
      "text/markdown": [
       "### pred_len: 96 constraint_level: 0.2625"
      ],
      "text/plain": [
       "<IPython.core.display.Markdown object>"
      ]
     },
     "metadata": {},
     "output_type": "display_data"
    },
    {
     "data": {
      "text/html": [
       "<div>\n",
       "<style scoped>\n",
       "    .dataframe tbody tr th:only-of-type {\n",
       "        vertical-align: middle;\n",
       "    }\n",
       "\n",
       "    .dataframe tbody tr th {\n",
       "        vertical-align: top;\n",
       "    }\n",
       "\n",
       "    .dataframe thead th {\n",
       "        text-align: right;\n",
       "    }\n",
       "</style>\n",
       "<table border=\"1\" class=\"dataframe\">\n",
       "  <thead>\n",
       "    <tr style=\"text-align: right;\">\n",
       "      <th></th>\n",
       "      <th>pred_len</th>\n",
       "      <th>constraint_level</th>\n",
       "      <th>Algorithm</th>\n",
       "      <th>epoch</th>\n",
       "      <th>0</th>\n",
       "    </tr>\n",
       "  </thead>\n",
       "  <tbody>\n",
       "    <tr>\n",
       "      <th>0</th>\n",
       "      <td>96</td>\n",
       "      <td>0.2625</td>\n",
       "      <td>Constrained-Autoformer-electricity Autoformer</td>\n",
       "      <td>1</td>\n",
       "      <td>96</td>\n",
       "    </tr>\n",
       "  </tbody>\n",
       "</table>\n",
       "</div>"
      ],
      "text/plain": [
       "   pred_len  constraint_level                                      Algorithm  \\\n",
       "0        96            0.2625  Constrained-Autoformer-electricity Autoformer   \n",
       "\n",
       "   epoch   0  \n",
       "0      1  96  "
      ]
     },
     "metadata": {},
     "output_type": "display_data"
    },
    {
     "data": {
      "image/png": "[encoded data removed]",
      "text/plain": [
       "<Figure size 1034x300 with 1 Axes>"
      ]
     },
     "metadata": {},
     "output_type": "display_data"
    }
   ],
   "source": [
    "to_plot = df[df.split=='test']# just see test to unclutter\n",
    "#to_plot=df\n",
    "for (pred_len), series in to_plot.groupby([\"pred_len\"]):\n",
    "    constraints = series.constraint_level.unique()\n",
    "    print(constraints)\n",
    "    constraints = constraints[constraints!=-1] # to iterate over all constraints explored.\n",
    "    for constraint_level in constraints:\n",
    "        display(Markdown(f\"### pred_len: {pred_len} constraint_level: {constraint_level}\"))\n",
    "        plot_series = series[series[\"constraint_level\"].isin([constraint_level,-1])] # The -1 adds the ERM baseline.\n",
    "\n",
    "        display(plot_series.groupby(['pred_len','constraint_level','Algorithm','epoch']).size().reset_index())\n",
    "\n",
    "        # sns.scatterplot(x=\"step\", y=\"mse\", hue=\"Algorithm\",style=\"split\", data=plot_series)\n",
    "        \n",
    "        # plt.axhline(y=constraint_level, color='r', linestyle='-')\n",
    "        # plt.title(f\"Pred Length: {pred_len}, Constraint_level: {constraint_level}\")\n",
    "        # plt.show()\n",
    "\n",
    "        # This same scatterplot but in a grid by algorithm. \n",
    "        g = sns.FacetGrid(plot_series, col=\"model\", hue=\"type\",col_wrap=3)\n",
    "        g.map(sns.scatterplot, \"step\", \"mse\", alpha=.7) \n",
    "        g.add_legend()\n",
    "        # add the hline\n",
    "        for ax in g.axes:\n",
    "            ax.axhline(y=constraint_level, color='r', linestyle='-')\n",
    "        plt.show()\n"
   ]
  },
  {
   "cell_type": "markdown",
   "id": "d703c7e6",
   "metadata": {},
   "source": [
    "## Distribution of ERM?"
   ]
  },
  {
   "cell_type": "code",
   "execution_count": 27,
   "id": "c2585714",
   "metadata": {},
   "outputs": [
    {
     "ename": "ValueError",
     "evalue": "index must be a MultiIndex to unstack, <class 'pandas.core.indexes.numeric.Int64Index'> was passed",
     "output_type": "error",
     "traceback": [
      "\u001b[0;31m---------------------------------------------------------------------------\u001b[0m",
      "\u001b[0;31mValueError\u001b[0m                                Traceback (most recent call last)",
      "\u001b[0;32m/tmp/ipykernel_504958/1481146236.py\u001b[0m in \u001b[0;36m<module>\u001b[0;34m\u001b[0m\n\u001b[0;32m----> 1\u001b[0;31m \u001b[0mall_runs\u001b[0m\u001b[0;34m.\u001b[0m\u001b[0mquery\u001b[0m\u001b[0;34m(\u001b[0m\u001b[0;34m\"split=='val'\"\u001b[0m\u001b[0;34m)\u001b[0m\u001b[0;34m.\u001b[0m\u001b[0mgroupby\u001b[0m\u001b[0;34m(\u001b[0m\u001b[0;34m[\u001b[0m\u001b[0;34m'pred_len'\u001b[0m\u001b[0;34m]\u001b[0m\u001b[0;34m)\u001b[0m\u001b[0;34m[\u001b[0m\u001b[0;34m'loss'\u001b[0m\u001b[0;34m]\u001b[0m\u001b[0;34m.\u001b[0m\u001b[0mdescribe\u001b[0m\u001b[0;34m(\u001b[0m\u001b[0;34m)\u001b[0m\u001b[0;34m\u001b[0m\u001b[0;34m\u001b[0m\u001b[0m\n\u001b[0m",
      "\u001b[0;32m~/miniconda3/envs/autoformer/lib/python3.7/site-packages/pandas/core/groupby/generic.py\u001b[0m in \u001b[0;36mdescribe\u001b[0;34m(self, **kwargs)\u001b[0m\n\u001b[1;32m    678\u001b[0m         \u001b[0;32mif\u001b[0m \u001b[0mself\u001b[0m\u001b[0;34m.\u001b[0m\u001b[0maxis\u001b[0m \u001b[0;34m==\u001b[0m \u001b[0;36m1\u001b[0m\u001b[0;34m:\u001b[0m\u001b[0;34m\u001b[0m\u001b[0;34m\u001b[0m\u001b[0m\n\u001b[1;32m    679\u001b[0m             \u001b[0;32mreturn\u001b[0m \u001b[0mresult\u001b[0m\u001b[0;34m.\u001b[0m\u001b[0mT\u001b[0m\u001b[0;34m\u001b[0m\u001b[0;34m\u001b[0m\u001b[0m\n\u001b[0;32m--> 680\u001b[0;31m         \u001b[0;32mreturn\u001b[0m \u001b[0mresult\u001b[0m\u001b[0;34m.\u001b[0m\u001b[0munstack\u001b[0m\u001b[0;34m(\u001b[0m\u001b[0;34m)\u001b[0m\u001b[0;34m\u001b[0m\u001b[0;34m\u001b[0m\u001b[0m\n\u001b[0m\u001b[1;32m    681\u001b[0m \u001b[0;34m\u001b[0m\u001b[0m\n\u001b[1;32m    682\u001b[0m     def value_counts(\n",
      "\u001b[0;32m~/miniconda3/envs/autoformer/lib/python3.7/site-packages/pandas/core/series.py\u001b[0m in \u001b[0;36munstack\u001b[0;34m(self, level, fill_value)\u001b[0m\n\u001b[1;32m   4079\u001b[0m         \u001b[0;32mfrom\u001b[0m \u001b[0mpandas\u001b[0m\u001b[0;34m.\u001b[0m\u001b[0mcore\u001b[0m\u001b[0;34m.\u001b[0m\u001b[0mreshape\u001b[0m\u001b[0;34m.\u001b[0m\u001b[0mreshape\u001b[0m \u001b[0;32mimport\u001b[0m \u001b[0munstack\u001b[0m\u001b[0;34m\u001b[0m\u001b[0;34m\u001b[0m\u001b[0m\n\u001b[1;32m   4080\u001b[0m \u001b[0;34m\u001b[0m\u001b[0m\n\u001b[0;32m-> 4081\u001b[0;31m         \u001b[0;32mreturn\u001b[0m \u001b[0munstack\u001b[0m\u001b[0;34m(\u001b[0m\u001b[0mself\u001b[0m\u001b[0;34m,\u001b[0m \u001b[0mlevel\u001b[0m\u001b[0;34m,\u001b[0m \u001b[0mfill_value\u001b[0m\u001b[0;34m)\u001b[0m\u001b[0;34m\u001b[0m\u001b[0;34m\u001b[0m\u001b[0m\n\u001b[0m\u001b[1;32m   4082\u001b[0m \u001b[0;34m\u001b[0m\u001b[0m\n\u001b[1;32m   4083\u001b[0m     \u001b[0;31m# ----------------------------------------------------------------------\u001b[0m\u001b[0;34m\u001b[0m\u001b[0;34m\u001b[0m\u001b[0;34m\u001b[0m\u001b[0m\n",
      "\u001b[0;32m~/miniconda3/envs/autoformer/lib/python3.7/site-packages/pandas/core/reshape/reshape.py\u001b[0m in \u001b[0;36munstack\u001b[0;34m(obj, level, fill_value)\u001b[0m\n\u001b[1;32m    453\u001b[0m         \u001b[0;31m# Index is not a MultiIndex.\u001b[0m\u001b[0;34m\u001b[0m\u001b[0;34m\u001b[0m\u001b[0;34m\u001b[0m\u001b[0m\n\u001b[1;32m    454\u001b[0m         raise ValueError(\n\u001b[0;32m--> 455\u001b[0;31m             \u001b[0;34mf\"index must be a MultiIndex to unstack, {type(obj.index)} was passed\"\u001b[0m\u001b[0;34m\u001b[0m\u001b[0;34m\u001b[0m\u001b[0m\n\u001b[0m\u001b[1;32m    456\u001b[0m         )\n\u001b[1;32m    457\u001b[0m     \u001b[0;32melse\u001b[0m\u001b[0;34m:\u001b[0m\u001b[0;34m\u001b[0m\u001b[0;34m\u001b[0m\u001b[0m\n",
      "\u001b[0;31mValueError\u001b[0m: index must be a MultiIndex to unstack, <class 'pandas.core.indexes.numeric.Int64Index'> was passed"
     ]
    }
   ],
   "source": [
    "all_runs.query(\"split=='val'\").groupby(['pred_len'])['loss'].describe()"
   ]
  },
  {
   "cell_type": "code",
   "execution_count": 45,
   "id": "6b1cfcc3",
   "metadata": {},
   "outputs": [
    {
     "data": {
      "text/html": [
       "<div>\n",
       "<style scoped>\n",
       "    .dataframe tbody tr th:only-of-type {\n",
       "        vertical-align: middle;\n",
       "    }\n",
       "\n",
       "    .dataframe tbody tr th {\n",
       "        vertical-align: top;\n",
       "    }\n",
       "\n",
       "    .dataframe thead th {\n",
       "        text-align: right;\n",
       "    }\n",
       "</style>\n",
       "<table border=\"1\" class=\"dataframe\">\n",
       "  <thead>\n",
       "    <tr style=\"text-align: right;\">\n",
       "      <th>pred_len</th>\n",
       "      <th>96</th>\n",
       "    </tr>\n",
       "  </thead>\n",
       "  <tbody>\n",
       "    <tr>\n",
       "      <th>count</th>\n",
       "      <td>96.000000</td>\n",
       "    </tr>\n",
       "    <tr>\n",
       "      <th>mean</th>\n",
       "      <td>0.208253</td>\n",
       "    </tr>\n",
       "    <tr>\n",
       "      <th>std</th>\n",
       "      <td>0.017036</td>\n",
       "    </tr>\n",
       "    <tr>\n",
       "      <th>min</th>\n",
       "      <td>0.185825</td>\n",
       "    </tr>\n",
       "    <tr>\n",
       "      <th>25%</th>\n",
       "      <td>0.197886</td>\n",
       "    </tr>\n",
       "    <tr>\n",
       "      <th>50%</th>\n",
       "      <td>0.205653</td>\n",
       "    </tr>\n",
       "    <tr>\n",
       "      <th>75%</th>\n",
       "      <td>0.214017</td>\n",
       "    </tr>\n",
       "    <tr>\n",
       "      <th>max</th>\n",
       "      <td>0.259756</td>\n",
       "    </tr>\n",
       "  </tbody>\n",
       "</table>\n",
       "</div>"
      ],
      "text/plain": [
       "pred_len         96\n",
       "count     96.000000\n",
       "mean       0.208253\n",
       "std        0.017036\n",
       "min        0.185825\n",
       "25%        0.197886\n",
       "50%        0.205653\n",
       "75%        0.214017\n",
       "max        0.259756"
      ]
     },
     "execution_count": 45,
     "metadata": {},
     "output_type": "execute_result"
    }
   ],
   "source": [
    "all_runs = df\n",
    "stats=all_runs.query(\"split=='val'\").groupby(['pred_len'])['mse'].describe()\n",
    "stats.transpose()"
   ]
  }
 ],
 "metadata": {
  "kernelspec": {
   "display_name": "Python 3 (ipykernel)",
   "language": "python",
   "name": "python3"
  },
  "language_info": {
   "codemirror_mode": {
    "name": "ipython",
    "version": 3
   },
   "file_extension": ".py",
   "mimetype": "text/x-python",
   "name": "python",
   "nbconvert_exporter": "python",
   "pygments_lexer": "ipython3",
   "version": "3.7.12"
  }
 },
 "nbformat": 4,
 "nbformat_minor": 5
}
