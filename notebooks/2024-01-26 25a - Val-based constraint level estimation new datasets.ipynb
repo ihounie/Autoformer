{
 "cells": [
  {
   "cell_type": "markdown",
   "id": "3e514376",
   "metadata": {},
   "source": [
    "# 2024-01-26 25a - Val-based constraint level estimation new datasets.ipynb\n",
    "Created 2024-03-25 for ICML Rebuttals."
   ]
  },
  {
   "cell_type": "markdown",
   "id": "91bcf98e",
   "metadata": {},
   "source": [
    "## Parameters"
   ]
  },
  {
   "cell_type": "markdown",
   "id": "461ef4b3",
   "metadata": {},
   "source": [
    "## Libraries and setup"
   ]
  },
  {
   "cell_type": "code",
   "execution_count": 2,
   "id": "31a718a8",
   "metadata": {},
   "outputs": [],
   "source": [
    "%load_ext autoreload\n",
    "%autoreload 2"
   ]
  },
  {
   "cell_type": "code",
   "execution_count": 3,
   "id": "57da5343",
   "metadata": {},
   "outputs": [],
   "source": [
    "import sys\n",
    "import os\n",
    "sys.path.append(os.path.abspath(os.path.join(os.getcwd(), os.pardir)))"
   ]
  },
  {
   "cell_type": "code",
   "execution_count": 4,
   "id": "d4db62bc",
   "metadata": {},
   "outputs": [],
   "source": [
    "import pandas as pd\n",
    "import numpy as np\n",
    "from matplotlib import pyplot as plt\n",
    "import seaborn as sns\n",
    "from IPython.display import Markdown, display"
   ]
  },
  {
   "cell_type": "code",
   "execution_count": 5,
   "id": "5bb34d2b",
   "metadata": {},
   "outputs": [],
   "source": [
    "from utils import wandb_utils"
   ]
  },
  {
   "cell_type": "markdown",
   "id": "92b12a3c",
   "metadata": {},
   "source": [
    "## Data Download"
   ]
  },
  {
   "cell_type": "code",
   "execution_count": 6,
   "id": "94bb3332",
   "metadata": {},
   "outputs": [
    {
     "name": "stderr",
     "output_type": "stream",
     "text": [
      "  0%|          | 0/96 [00:00<?, ?it/s]"
     ]
    },
    {
     "name": "stdout",
     "output_type": "stream",
     "text": [
      "WARNING!! Missing pointwise/cvar/0.01 in run ssq2do8x on sweep <Sweep alelab/Autoformer/y25s21jx (FINISHED)>. Filling all poitwisewith NAN.\n"
     ]
    },
    {
     "name": "stderr",
     "output_type": "stream",
     "text": [
      "  1%|          | 1/96 [00:10<16:36, 10.49s/it]"
     ]
    },
    {
     "name": "stdout",
     "output_type": "stream",
     "text": [
      "WARNING!! Missing pointwise/cvar/0.01 in run nl9kpfsp on sweep <Sweep alelab/Autoformer/y25s21jx (FINISHED)>. Filling all poitwisewith NAN.\n"
     ]
    },
    {
     "name": "stderr",
     "output_type": "stream",
     "text": [
      "  2%|▏         | 2/96 [00:15<11:15,  7.19s/it]"
     ]
    },
    {
     "name": "stdout",
     "output_type": "stream",
     "text": [
      "WARNING!! Missing pointwise/cvar/0.01 in run avo2qgiq on sweep <Sweep alelab/Autoformer/y25s21jx (FINISHED)>. Filling all poitwisewith NAN.\n"
     ]
    },
    {
     "name": "stderr",
     "output_type": "stream",
     "text": [
      "  3%|▎         | 3/96 [00:18<08:01,  5.18s/it]"
     ]
    },
    {
     "name": "stdout",
     "output_type": "stream",
     "text": [
      "WARNING!! Missing pointwise/cvar/0.01 in run cfo5eg0t on sweep <Sweep alelab/Autoformer/y25s21jx (FINISHED)>. Filling all poitwisewith NAN.\n"
     ]
    },
    {
     "name": "stderr",
     "output_type": "stream",
     "text": [
      "  4%|▍         | 4/96 [00:19<05:39,  3.69s/it]"
     ]
    },
    {
     "name": "stdout",
     "output_type": "stream",
     "text": [
      "WARNING!! Missing pointwise/cvar/0.01 in run 64uvszfp on sweep <Sweep alelab/Autoformer/y25s21jx (FINISHED)>. Filling all poitwisewith NAN.\n"
     ]
    },
    {
     "name": "stderr",
     "output_type": "stream",
     "text": [
      "  5%|▌         | 5/96 [00:30<09:41,  6.39s/it]"
     ]
    },
    {
     "name": "stdout",
     "output_type": "stream",
     "text": [
      "WARNING!! Missing pointwise/cvar/0.01 in run ovn7p5dd on sweep <Sweep alelab/Autoformer/y25s21jx (FINISHED)>. Filling all poitwisewith NAN.\n"
     ]
    },
    {
     "name": "stderr",
     "output_type": "stream",
     "text": [
      "  6%|▋         | 6/96 [00:35<08:47,  5.86s/it]"
     ]
    },
    {
     "name": "stdout",
     "output_type": "stream",
     "text": [
      "WARNING!! Missing pointwise/cvar/0.01 in run exmg2gg0 on sweep <Sweep alelab/Autoformer/y25s21jx (FINISHED)>. Filling all poitwisewith NAN.\n"
     ]
    },
    {
     "name": "stderr",
     "output_type": "stream",
     "text": [
      "  7%|▋         | 7/96 [00:38<07:12,  4.86s/it]"
     ]
    },
    {
     "name": "stdout",
     "output_type": "stream",
     "text": [
      "WARNING!! Missing pointwise/cvar/0.01 in run 5ivk4sa1 on sweep <Sweep alelab/Autoformer/y25s21jx (FINISHED)>. Filling all poitwisewith NAN.\n"
     ]
    },
    {
     "name": "stderr",
     "output_type": "stream",
     "text": [
      "  8%|▊         | 8/96 [00:39<05:30,  3.75s/it]"
     ]
    },
    {
     "name": "stdout",
     "output_type": "stream",
     "text": [
      "WARNING!! Missing pointwise/cvar/0.01 in run ugz4wtkz on sweep <Sweep alelab/Autoformer/y25s21jx (FINISHED)>. Filling all poitwisewith NAN.\n"
     ]
    },
    {
     "name": "stderr",
     "output_type": "stream",
     "text": [
      "  9%|▉         | 9/96 [00:50<08:29,  5.85s/it]"
     ]
    },
    {
     "name": "stdout",
     "output_type": "stream",
     "text": [
      "WARNING!! Missing pointwise/cvar/0.01 in run 6o0rkyy5 on sweep <Sweep alelab/Autoformer/y25s21jx (FINISHED)>. Filling all poitwisewith NAN.\n"
     ]
    },
    {
     "name": "stderr",
     "output_type": "stream",
     "text": [
      " 10%|█         | 10/96 [00:55<07:57,  5.55s/it]"
     ]
    },
    {
     "name": "stdout",
     "output_type": "stream",
     "text": [
      "WARNING!! Missing pointwise/cvar/0.01 in run kknqm2fe on sweep <Sweep alelab/Autoformer/y25s21jx (FINISHED)>. Filling all poitwisewith NAN.\n"
     ]
    },
    {
     "name": "stderr",
     "output_type": "stream",
     "text": [
      " 11%|█▏        | 11/96 [00:58<06:58,  4.92s/it]"
     ]
    },
    {
     "name": "stdout",
     "output_type": "stream",
     "text": [
      "WARNING!! Missing pointwise/cvar/0.01 in run fryk3j68 on sweep <Sweep alelab/Autoformer/y25s21jx (FINISHED)>. Filling all poitwisewith NAN.\n"
     ]
    },
    {
     "name": "stderr",
     "output_type": "stream",
     "text": [
      " 12%|█▎        | 12/96 [00:59<05:23,  3.85s/it]"
     ]
    },
    {
     "name": "stdout",
     "output_type": "stream",
     "text": [
      "WARNING!! Missing pointwise/cvar/0.01 in run 2ay68dwq on sweep <Sweep alelab/Autoformer/y25s21jx (FINISHED)>. Filling all poitwisewith NAN.\n"
     ]
    },
    {
     "name": "stderr",
     "output_type": "stream",
     "text": [
      " 14%|█▎        | 13/96 [01:10<08:05,  5.84s/it]"
     ]
    },
    {
     "name": "stdout",
     "output_type": "stream",
     "text": [
      "WARNING!! Missing pointwise/cvar/0.01 in run 9ssbipuu on sweep <Sweep alelab/Autoformer/mzykvqfn (FINISHED)>. Filling all poitwisewith NAN.\n"
     ]
    },
    {
     "name": "stderr",
     "output_type": "stream",
     "text": [
      " 15%|█▍        | 14/96 [01:11<05:56,  4.34s/it]"
     ]
    },
    {
     "name": "stdout",
     "output_type": "stream",
     "text": [
      "WARNING!! Missing pointwise/cvar/0.01 in run 2qa1s6bx on sweep <Sweep alelab/Autoformer/mzykvqfn (FINISHED)>. Filling all poitwisewith NAN.\n"
     ]
    },
    {
     "name": "stderr",
     "output_type": "stream",
     "text": [
      " 16%|█▌        | 15/96 [01:11<04:22,  3.24s/it]"
     ]
    },
    {
     "name": "stdout",
     "output_type": "stream",
     "text": [
      "WARNING!! Missing pointwise/cvar/0.01 in run l2jupa3o on sweep <Sweep alelab/Autoformer/mzykvqfn (FINISHED)>. Filling all poitwisewith NAN.\n"
     ]
    },
    {
     "name": "stderr",
     "output_type": "stream",
     "text": [
      " 17%|█▋        | 16/96 [01:12<03:13,  2.42s/it]"
     ]
    },
    {
     "name": "stdout",
     "output_type": "stream",
     "text": [
      "WARNING!! Missing pointwise/cvar/0.01 in run 8lot5xux on sweep <Sweep alelab/Autoformer/mzykvqfn (FINISHED)>. Filling all poitwisewith NAN.\n"
     ]
    },
    {
     "name": "stderr",
     "output_type": "stream",
     "text": [
      " 18%|█▊        | 17/96 [01:12<02:22,  1.80s/it]"
     ]
    },
    {
     "name": "stdout",
     "output_type": "stream",
     "text": [
      "WARNING!! Missing pointwise/cvar/0.01 in run 3rb4tf5u on sweep <Sweep alelab/Autoformer/mzykvqfn (FINISHED)>. Filling all poitwisewith NAN.\n"
     ]
    },
    {
     "name": "stderr",
     "output_type": "stream",
     "text": [
      " 19%|█▉        | 18/96 [01:13<01:58,  1.52s/it]"
     ]
    },
    {
     "name": "stdout",
     "output_type": "stream",
     "text": [
      "WARNING!! Missing pointwise/cvar/0.01 in run yd647pro on sweep <Sweep alelab/Autoformer/mzykvqfn (FINISHED)>. Filling all poitwisewith NAN.\n"
     ]
    },
    {
     "name": "stderr",
     "output_type": "stream",
     "text": [
      " 20%|█▉        | 19/96 [01:14<01:38,  1.27s/it]"
     ]
    },
    {
     "name": "stdout",
     "output_type": "stream",
     "text": [
      "WARNING!! Missing pointwise/cvar/0.01 in run ntd1t0gm on sweep <Sweep alelab/Autoformer/mzykvqfn (FINISHED)>. Filling all poitwisewith NAN.\n"
     ]
    },
    {
     "name": "stderr",
     "output_type": "stream",
     "text": [
      " 21%|██        | 20/96 [01:14<01:19,  1.05s/it]"
     ]
    },
    {
     "name": "stdout",
     "output_type": "stream",
     "text": [
      "WARNING!! Missing pointwise/cvar/0.01 in run cc0cjrv3 on sweep <Sweep alelab/Autoformer/mzykvqfn (FINISHED)>. Filling all poitwisewith NAN.\n"
     ]
    },
    {
     "name": "stderr",
     "output_type": "stream",
     "text": [
      " 22%|██▏       | 21/96 [01:15<01:02,  1.19it/s]"
     ]
    },
    {
     "name": "stdout",
     "output_type": "stream",
     "text": [
      "WARNING!! Missing pointwise/cvar/0.01 in run igx8r6rf on sweep <Sweep alelab/Autoformer/mzykvqfn (FINISHED)>. Filling all poitwisewith NAN.\n"
     ]
    },
    {
     "name": "stderr",
     "output_type": "stream",
     "text": [
      " 23%|██▎       | 22/96 [01:16<01:02,  1.18it/s]"
     ]
    },
    {
     "name": "stdout",
     "output_type": "stream",
     "text": [
      "WARNING!! Missing pointwise/cvar/0.01 in run al4zna2k on sweep <Sweep alelab/Autoformer/y25s21jx (FINISHED)>. Filling all poitwisewith NAN.\n"
     ]
    },
    {
     "name": "stderr",
     "output_type": "stream",
     "text": [
      " 24%|██▍       | 23/96 [01:21<02:30,  2.06s/it]"
     ]
    },
    {
     "name": "stdout",
     "output_type": "stream",
     "text": [
      "WARNING!! Missing pointwise/cvar/0.01 in run 4ngi0imp on sweep <Sweep alelab/Autoformer/mzykvqfn (FINISHED)>. Filling all poitwisewith NAN.\n"
     ]
    },
    {
     "name": "stderr",
     "output_type": "stream",
     "text": [
      " 25%|██▌       | 24/96 [01:21<01:58,  1.65s/it]"
     ]
    },
    {
     "name": "stdout",
     "output_type": "stream",
     "text": [
      "WARNING!! Missing pointwise/cvar/0.01 in run 4km18dna on sweep <Sweep alelab/Autoformer/mzykvqfn (FINISHED)>. Filling all poitwisewith NAN.\n"
     ]
    },
    {
     "name": "stderr",
     "output_type": "stream",
     "text": [
      " 26%|██▌       | 25/96 [01:22<01:33,  1.31s/it]"
     ]
    },
    {
     "name": "stdout",
     "output_type": "stream",
     "text": [
      "WARNING!! Missing pointwise/cvar/0.01 in run vuppzm29 on sweep <Sweep alelab/Autoformer/mzykvqfn (FINISHED)>. Filling all poitwisewith NAN.\n"
     ]
    },
    {
     "name": "stderr",
     "output_type": "stream",
     "text": [
      " 27%|██▋       | 26/96 [01:22<01:11,  1.02s/it]"
     ]
    },
    {
     "name": "stdout",
     "output_type": "stream",
     "text": [
      "WARNING!! Missing pointwise/cvar/0.01 in run dko5cedn on sweep <Sweep alelab/Autoformer/mzykvqfn (FINISHED)>. Filling all poitwisewith NAN.\n"
     ]
    },
    {
     "name": "stderr",
     "output_type": "stream",
     "text": [
      " 28%|██▊       | 27/96 [01:23<01:07,  1.02it/s]"
     ]
    },
    {
     "name": "stdout",
     "output_type": "stream",
     "text": [
      "WARNING!! Missing pointwise/cvar/0.01 in run d7uxmgk2 on sweep <Sweep alelab/Autoformer/mzykvqfn (FINISHED)>. Filling all poitwisewith NAN.\n"
     ]
    },
    {
     "name": "stderr",
     "output_type": "stream",
     "text": [
      " 29%|██▉       | 28/96 [01:24<01:00,  1.12it/s]"
     ]
    },
    {
     "name": "stdout",
     "output_type": "stream",
     "text": [
      "WARNING!! Missing pointwise/cvar/0.01 in run 935eqlxp on sweep <Sweep alelab/Autoformer/mzykvqfn (FINISHED)>. Filling all poitwisewith NAN.\n"
     ]
    },
    {
     "name": "stderr",
     "output_type": "stream",
     "text": [
      " 30%|███       | 29/96 [01:24<00:52,  1.28it/s]"
     ]
    },
    {
     "name": "stdout",
     "output_type": "stream",
     "text": [
      "WARNING!! Missing pointwise/cvar/0.01 in run 2gewew4y on sweep <Sweep alelab/Autoformer/mzykvqfn (FINISHED)>. Filling all poitwisewith NAN.\n"
     ]
    },
    {
     "name": "stderr",
     "output_type": "stream",
     "text": [
      " 31%|███▏      | 30/96 [01:25<00:43,  1.53it/s]"
     ]
    },
    {
     "name": "stdout",
     "output_type": "stream",
     "text": [
      "WARNING!! Missing pointwise/cvar/0.01 in run z024ola8 on sweep <Sweep alelab/Autoformer/y25s21jx (FINISHED)>. Filling all poitwisewith NAN.\n"
     ]
    },
    {
     "name": "stderr",
     "output_type": "stream",
     "text": [
      " 32%|███▏      | 31/96 [01:28<01:37,  1.51s/it]"
     ]
    },
    {
     "name": "stdout",
     "output_type": "stream",
     "text": [
      "WARNING!! Missing pointwise/cvar/0.01 in run n5w61u3p on sweep <Sweep alelab/Autoformer/y25s21jx (FINISHED)>. Filling all poitwisewith NAN.\n"
     ]
    },
    {
     "name": "stderr",
     "output_type": "stream",
     "text": [
      " 33%|███▎      | 32/96 [01:29<01:34,  1.47s/it]"
     ]
    },
    {
     "name": "stdout",
     "output_type": "stream",
     "text": [
      "WARNING!! Missing pointwise/cvar/0.01 in run 2mefz44b on sweep <Sweep alelab/Autoformer/mexu1lo0 (FINISHED)>. Filling all poitwisewith NAN.\n"
     ]
    },
    {
     "name": "stderr",
     "output_type": "stream",
     "text": [
      " 34%|███▍      | 33/96 [01:40<04:27,  4.24s/it]"
     ]
    },
    {
     "name": "stdout",
     "output_type": "stream",
     "text": [
      "WARNING!! Missing pointwise/cvar/0.01 in run k3jgic8y on sweep <Sweep alelab/Autoformer/mexu1lo0 (FINISHED)>. Filling all poitwisewith NAN.\n"
     ]
    },
    {
     "name": "stderr",
     "output_type": "stream",
     "text": [
      " 35%|███▌      | 34/96 [01:45<04:36,  4.47s/it]"
     ]
    },
    {
     "name": "stdout",
     "output_type": "stream",
     "text": [
      "WARNING!! Missing pointwise/cvar/0.01 in run h9uik6uo on sweep <Sweep alelab/Autoformer/mexu1lo0 (FINISHED)>. Filling all poitwisewith NAN.\n"
     ]
    },
    {
     "name": "stderr",
     "output_type": "stream",
     "text": [
      " 36%|███▋      | 35/96 [01:48<04:02,  3.98s/it]"
     ]
    },
    {
     "name": "stdout",
     "output_type": "stream",
     "text": [
      "WARNING!! Missing pointwise/cvar/0.01 in run nzgon4u5 on sweep <Sweep alelab/Autoformer/mexu1lo0 (FINISHED)>. Filling all poitwisewith NAN.\n"
     ]
    },
    {
     "name": "stderr",
     "output_type": "stream",
     "text": [
      " 38%|███▊      | 36/96 [01:49<03:12,  3.22s/it]"
     ]
    },
    {
     "name": "stdout",
     "output_type": "stream",
     "text": [
      "WARNING!! Missing pointwise/cvar/0.01 in run ia2y3xtf on sweep <Sweep alelab/Autoformer/mexu1lo0 (FINISHED)>. Filling all poitwisewith NAN.\n"
     ]
    },
    {
     "name": "stderr",
     "output_type": "stream",
     "text": [
      " 39%|███▊      | 37/96 [02:01<05:34,  5.67s/it]"
     ]
    },
    {
     "name": "stdout",
     "output_type": "stream",
     "text": [
      "WARNING!! Missing pointwise/cvar/0.01 in run io5dst33 on sweep <Sweep alelab/Autoformer/mexu1lo0 (FINISHED)>. Filling all poitwisewith NAN.\n"
     ]
    },
    {
     "name": "stderr",
     "output_type": "stream",
     "text": [
      " 40%|███▉      | 38/96 [02:06<05:16,  5.46s/it]"
     ]
    },
    {
     "name": "stdout",
     "output_type": "stream",
     "text": [
      "WARNING!! Missing pointwise/cvar/0.01 in run e4113710 on sweep <Sweep alelab/Autoformer/mexu1lo0 (FINISHED)>. Filling all poitwisewith NAN.\n"
     ]
    },
    {
     "name": "stderr",
     "output_type": "stream",
     "text": [
      " 41%|████      | 39/96 [02:09<04:27,  4.68s/it]"
     ]
    },
    {
     "name": "stdout",
     "output_type": "stream",
     "text": [
      "WARNING!! Missing pointwise/cvar/0.01 in run uvk1kh68 on sweep <Sweep alelab/Autoformer/mexu1lo0 (FINISHED)>. Filling all poitwisewith NAN.\n"
     ]
    },
    {
     "name": "stderr",
     "output_type": "stream",
     "text": [
      " 42%|████▏     | 40/96 [02:10<03:27,  3.71s/it]"
     ]
    },
    {
     "name": "stdout",
     "output_type": "stream",
     "text": [
      "WARNING!! Missing pointwise/cvar/0.01 in run 4s1gttk0 on sweep <Sweep alelab/Autoformer/mexu1lo0 (FINISHED)>. Filling all poitwisewith NAN.\n"
     ]
    },
    {
     "name": "stderr",
     "output_type": "stream",
     "text": [
      " 43%|████▎     | 41/96 [02:21<05:18,  5.80s/it]"
     ]
    },
    {
     "name": "stdout",
     "output_type": "stream",
     "text": [
      "WARNING!! Missing pointwise/cvar/0.01 in run amlokjb0 on sweep <Sweep alelab/Autoformer/mexu1lo0 (FINISHED)>. Filling all poitwisewith NAN.\n"
     ]
    },
    {
     "name": "stderr",
     "output_type": "stream",
     "text": [
      " 44%|████▍     | 42/96 [02:26<05:11,  5.77s/it]"
     ]
    },
    {
     "name": "stdout",
     "output_type": "stream",
     "text": [
      "WARNING!! Missing pointwise/cvar/0.01 in run fv00g3y8 on sweep <Sweep alelab/Autoformer/mexu1lo0 (FINISHED)>. Filling all poitwisewith NAN.\n"
     ]
    },
    {
     "name": "stderr",
     "output_type": "stream",
     "text": [
      " 45%|████▍     | 43/96 [02:29<04:19,  4.89s/it]"
     ]
    },
    {
     "name": "stdout",
     "output_type": "stream",
     "text": [
      "WARNING!! Missing pointwise/cvar/0.01 in run 8im2syvz on sweep <Sweep alelab/Autoformer/mexu1lo0 (FINISHED)>. Filling all poitwisewith NAN.\n"
     ]
    },
    {
     "name": "stderr",
     "output_type": "stream",
     "text": [
      " 46%|████▌     | 44/96 [02:31<03:20,  3.85s/it]"
     ]
    },
    {
     "name": "stdout",
     "output_type": "stream",
     "text": [
      "WARNING!! Missing pointwise/cvar/0.01 in run e3xspjbv on sweep <Sweep alelab/Autoformer/mexu1lo0 (FINISHED)>. Filling all poitwisewith NAN.\n"
     ]
    },
    {
     "name": "stderr",
     "output_type": "stream",
     "text": [
      " 47%|████▋     | 45/96 [02:42<05:03,  5.94s/it]"
     ]
    },
    {
     "name": "stdout",
     "output_type": "stream",
     "text": [
      "WARNING!! Missing pointwise/cvar/0.01 in run 4ak0ofpy on sweep <Sweep alelab/Autoformer/mexu1lo0 (FINISHED)>. Filling all poitwisewith NAN.\n"
     ]
    },
    {
     "name": "stderr",
     "output_type": "stream",
     "text": [
      " 48%|████▊     | 46/96 [02:47<04:44,  5.70s/it]"
     ]
    },
    {
     "name": "stdout",
     "output_type": "stream",
     "text": [
      "WARNING!! Missing pointwise/cvar/0.01 in run vmslc232 on sweep <Sweep alelab/Autoformer/mexu1lo0 (FINISHED)>. Filling all poitwisewith NAN.\n"
     ]
    },
    {
     "name": "stderr",
     "output_type": "stream",
     "text": [
      " 49%|████▉     | 47/96 [02:50<03:57,  4.84s/it]"
     ]
    },
    {
     "name": "stdout",
     "output_type": "stream",
     "text": [
      "WARNING!! Missing pointwise/cvar/0.01 in run 55fxi8cp on sweep <Sweep alelab/Autoformer/mexu1lo0 (FINISHED)>. Filling all poitwisewith NAN.\n"
     ]
    },
    {
     "name": "stderr",
     "output_type": "stream",
     "text": [
      " 50%|█████     | 48/96 [02:51<03:03,  3.83s/it]"
     ]
    },
    {
     "name": "stdout",
     "output_type": "stream",
     "text": [
      "WARNING!! Missing pointwise/cvar/0.01 in run uqc8zetb on sweep <Sweep alelab/Autoformer/qwv5fxw0 (FINISHED)>. Filling all poitwisewith NAN.\n"
     ]
    },
    {
     "name": "stderr",
     "output_type": "stream",
     "text": [
      " 51%|█████     | 49/96 [03:03<04:49,  6.15s/it]"
     ]
    },
    {
     "name": "stdout",
     "output_type": "stream",
     "text": [
      "WARNING!! Missing pointwise/cvar/0.01 in run d440w5ui on sweep <Sweep alelab/Autoformer/qwv5fxw0 (FINISHED)>. Filling all poitwisewith NAN.\n"
     ]
    },
    {
     "name": "stderr",
     "output_type": "stream",
     "text": [
      " 52%|█████▏    | 50/96 [03:08<04:27,  5.81s/it]"
     ]
    },
    {
     "name": "stdout",
     "output_type": "stream",
     "text": [
      "WARNING!! Missing pointwise/cvar/0.01 in run x11r2qwc on sweep <Sweep alelab/Autoformer/qwv5fxw0 (FINISHED)>. Filling all poitwisewith NAN.\n"
     ]
    },
    {
     "name": "stderr",
     "output_type": "stream",
     "text": [
      " 53%|█████▎    | 51/96 [03:35<09:13, 12.31s/it]"
     ]
    },
    {
     "name": "stdout",
     "output_type": "stream",
     "text": [
      "WARNING!! Missing pointwise/cvar/0.01 in run le2p5lnt on sweep <Sweep alelab/Autoformer/qwv5fxw0 (FINISHED)>. Filling all poitwisewith NAN.\n"
     ]
    },
    {
     "name": "stderr",
     "output_type": "stream",
     "text": [
      " 54%|█████▍    | 52/96 [03:36<06:38,  9.05s/it]"
     ]
    },
    {
     "name": "stdout",
     "output_type": "stream",
     "text": [
      "WARNING!! Missing pointwise/cvar/0.01 in run yr0dww0o on sweep <Sweep alelab/Autoformer/qwv5fxw0 (FINISHED)>. Filling all poitwisewith NAN.\n"
     ]
    },
    {
     "name": "stderr",
     "output_type": "stream",
     "text": [
      " 55%|█████▌    | 53/96 [03:47<06:49,  9.53s/it]"
     ]
    },
    {
     "name": "stdout",
     "output_type": "stream",
     "text": [
      "WARNING!! Missing pointwise/cvar/0.01 in run nml0qqn2 on sweep <Sweep alelab/Autoformer/qwv5fxw0 (FINISHED)>. Filling all poitwisewith NAN.\n"
     ]
    },
    {
     "name": "stderr",
     "output_type": "stream",
     "text": [
      " 56%|█████▋    | 54/96 [03:52<05:43,  8.17s/it]"
     ]
    },
    {
     "name": "stdout",
     "output_type": "stream",
     "text": [
      "WARNING!! Missing pointwise/cvar/0.01 in run z28zd1wd on sweep <Sweep alelab/Autoformer/qwv5fxw0 (FINISHED)>. Filling all poitwisewith NAN.\n"
     ]
    },
    {
     "name": "stderr",
     "output_type": "stream",
     "text": [
      " 57%|█████▋    | 55/96 [03:55<04:29,  6.58s/it]"
     ]
    },
    {
     "name": "stdout",
     "output_type": "stream",
     "text": [
      "WARNING!! Missing pointwise/cvar/0.01 in run rq5ye2em on sweep <Sweep alelab/Autoformer/qwv5fxw0 (FINISHED)>. Filling all poitwisewith NAN.\n"
     ]
    },
    {
     "name": "stderr",
     "output_type": "stream",
     "text": [
      " 58%|█████▊    | 56/96 [03:56<03:21,  5.04s/it]"
     ]
    },
    {
     "name": "stdout",
     "output_type": "stream",
     "text": [
      "WARNING!! Missing pointwise/cvar/0.01 in run wdc3ce14 on sweep <Sweep alelab/Autoformer/qwv5fxw0 (FINISHED)>. Filling all poitwisewith NAN.\n"
     ]
    },
    {
     "name": "stderr",
     "output_type": "stream",
     "text": [
      " 59%|█████▉    | 57/96 [04:07<04:24,  6.78s/it]"
     ]
    },
    {
     "name": "stdout",
     "output_type": "stream",
     "text": [
      "WARNING!! Missing pointwise/cvar/0.01 in run l9kcfcly on sweep <Sweep alelab/Autoformer/qwv5fxw0 (FINISHED)>. Filling all poitwisewith NAN.\n"
     ]
    },
    {
     "name": "stderr",
     "output_type": "stream",
     "text": [
      " 60%|██████    | 58/96 [04:13<04:09,  6.56s/it]"
     ]
    },
    {
     "name": "stdout",
     "output_type": "stream",
     "text": [
      "WARNING!! Missing pointwise/cvar/0.01 in run 57r9ecyr on sweep <Sweep alelab/Autoformer/qwv5fxw0 (FINISHED)>. Filling all poitwisewith NAN.\n"
     ]
    },
    {
     "name": "stderr",
     "output_type": "stream",
     "text": [
      " 61%|██████▏   | 59/96 [04:16<03:21,  5.45s/it]"
     ]
    },
    {
     "name": "stdout",
     "output_type": "stream",
     "text": [
      "WARNING!! Missing pointwise/cvar/0.01 in run o104v9b8 on sweep <Sweep alelab/Autoformer/qwv5fxw0 (FINISHED)>. Filling all poitwisewith NAN.\n"
     ]
    },
    {
     "name": "stderr",
     "output_type": "stream",
     "text": [
      " 62%|██████▎   | 60/96 [04:18<02:32,  4.24s/it]"
     ]
    },
    {
     "name": "stdout",
     "output_type": "stream",
     "text": [
      "WARNING!! Missing pointwise/cvar/0.01 in run nkj0h1to on sweep <Sweep alelab/Autoformer/qwv5fxw0 (FINISHED)>. Filling all poitwisewith NAN.\n"
     ]
    },
    {
     "name": "stderr",
     "output_type": "stream",
     "text": [
      " 64%|██████▎   | 61/96 [04:28<03:36,  6.18s/it]"
     ]
    },
    {
     "name": "stdout",
     "output_type": "stream",
     "text": [
      "WARNING!! Missing pointwise/cvar/0.01 in run y746cmy8 on sweep <Sweep alelab/Autoformer/qwv5fxw0 (FINISHED)>. Filling all poitwisewith NAN.\n"
     ]
    },
    {
     "name": "stderr",
     "output_type": "stream",
     "text": [
      " 65%|██████▍   | 62/96 [04:33<03:18,  5.83s/it]"
     ]
    },
    {
     "name": "stdout",
     "output_type": "stream",
     "text": [
      "WARNING!! Missing pointwise/cvar/0.01 in run 8of52v9g on sweep <Sweep alelab/Autoformer/qwv5fxw0 (FINISHED)>. Filling all poitwisewith NAN.\n"
     ]
    },
    {
     "name": "stderr",
     "output_type": "stream",
     "text": [
      " 66%|██████▌   | 63/96 [04:36<02:43,  4.94s/it]"
     ]
    },
    {
     "name": "stdout",
     "output_type": "stream",
     "text": [
      "WARNING!! Missing pointwise/cvar/0.01 in run mw38rsmg on sweep <Sweep alelab/Autoformer/qwv5fxw0 (FINISHED)>. Filling all poitwisewith NAN.\n"
     ]
    },
    {
     "name": "stderr",
     "output_type": "stream",
     "text": [
      " 67%|██████▋   | 64/96 [04:38<02:04,  3.89s/it]"
     ]
    },
    {
     "name": "stdout",
     "output_type": "stream",
     "text": [
      "WARNING!! Missing pointwise/cvar/0.01 in run x6auxo55 on sweep <Sweep alelab/Autoformer/xqpbzr6x (FINISHED)>. Filling all poitwisewith NAN.\n"
     ]
    },
    {
     "name": "stderr",
     "output_type": "stream",
     "text": [
      " 68%|██████▊   | 65/96 [04:48<03:01,  5.86s/it]"
     ]
    },
    {
     "name": "stdout",
     "output_type": "stream",
     "text": [
      "WARNING!! Missing pointwise/cvar/0.01 in run nev607qh on sweep <Sweep alelab/Autoformer/xqpbzr6x (FINISHED)>. Filling all poitwisewith NAN.\n"
     ]
    },
    {
     "name": "stderr",
     "output_type": "stream",
     "text": [
      " 69%|██████▉   | 66/96 [04:53<02:47,  5.57s/it]"
     ]
    },
    {
     "name": "stdout",
     "output_type": "stream",
     "text": [
      "WARNING!! Missing pointwise/cvar/0.01 in run f26pmmz6 on sweep <Sweep alelab/Autoformer/xqpbzr6x (FINISHED)>. Filling all poitwisewith NAN.\n"
     ]
    },
    {
     "name": "stderr",
     "output_type": "stream",
     "text": [
      " 70%|██████▉   | 67/96 [04:57<02:26,  5.05s/it]"
     ]
    },
    {
     "name": "stdout",
     "output_type": "stream",
     "text": [
      "WARNING!! Missing pointwise/cvar/0.01 in run p3g3vej6 on sweep <Sweep alelab/Autoformer/xqpbzr6x (FINISHED)>. Filling all poitwisewith NAN.\n"
     ]
    },
    {
     "name": "stderr",
     "output_type": "stream",
     "text": [
      " 71%|███████   | 68/96 [04:58<01:50,  3.95s/it]"
     ]
    },
    {
     "name": "stdout",
     "output_type": "stream",
     "text": [
      "WARNING!! Missing pointwise/cvar/0.01 in run efwyi74q on sweep <Sweep alelab/Autoformer/xqpbzr6x (FINISHED)>. Filling all poitwisewith NAN.\n"
     ]
    },
    {
     "name": "stderr",
     "output_type": "stream",
     "text": [
      " 72%|███████▏  | 69/96 [05:09<02:39,  5.90s/it]"
     ]
    },
    {
     "name": "stdout",
     "output_type": "stream",
     "text": [
      "WARNING!! Missing pointwise/cvar/0.01 in run 1fyfmnbx on sweep <Sweep alelab/Autoformer/xqpbzr6x (FINISHED)>. Filling all poitwisewith NAN.\n"
     ]
    },
    {
     "name": "stderr",
     "output_type": "stream",
     "text": [
      " 73%|███████▎  | 70/96 [05:14<02:25,  5.60s/it]"
     ]
    },
    {
     "name": "stdout",
     "output_type": "stream",
     "text": [
      "WARNING!! Missing pointwise/cvar/0.01 in run 98fpmxck on sweep <Sweep alelab/Autoformer/xqpbzr6x (FINISHED)>. Filling all poitwisewith NAN.\n"
     ]
    },
    {
     "name": "stderr",
     "output_type": "stream",
     "text": [
      " 74%|███████▍  | 71/96 [05:16<01:58,  4.76s/it]"
     ]
    },
    {
     "name": "stdout",
     "output_type": "stream",
     "text": [
      "WARNING!! Missing pointwise/cvar/0.01 in run 84n4ex1g on sweep <Sweep alelab/Autoformer/xqpbzr6x (FINISHED)>. Filling all poitwisewith NAN.\n"
     ]
    },
    {
     "name": "stderr",
     "output_type": "stream",
     "text": [
      " 75%|███████▌  | 72/96 [05:18<01:29,  3.75s/it]"
     ]
    },
    {
     "name": "stdout",
     "output_type": "stream",
     "text": [
      "WARNING!! Missing pointwise/cvar/0.01 in run j186te6z on sweep <Sweep alelab/Autoformer/xqpbzr6x (FINISHED)>. Filling all poitwisewith NAN.\n"
     ]
    },
    {
     "name": "stderr",
     "output_type": "stream",
     "text": [
      " 76%|███████▌  | 73/96 [05:28<02:12,  5.76s/it]"
     ]
    },
    {
     "name": "stdout",
     "output_type": "stream",
     "text": [
      "WARNING!! Missing pointwise/cvar/0.01 in run wn7ujbuf on sweep <Sweep alelab/Autoformer/xqpbzr6x (FINISHED)>. Filling all poitwisewith NAN.\n"
     ]
    },
    {
     "name": "stderr",
     "output_type": "stream",
     "text": [
      " 77%|███████▋  | 74/96 [05:33<02:00,  5.49s/it]"
     ]
    },
    {
     "name": "stdout",
     "output_type": "stream",
     "text": [
      "WARNING!! Missing pointwise/cvar/0.01 in run e9im4ldd on sweep <Sweep alelab/Autoformer/xqpbzr6x (FINISHED)>. Filling all poitwisewith NAN.\n"
     ]
    },
    {
     "name": "stderr",
     "output_type": "stream",
     "text": [
      " 78%|███████▊  | 75/96 [05:36<01:38,  4.68s/it]"
     ]
    },
    {
     "name": "stdout",
     "output_type": "stream",
     "text": [
      "WARNING!! Missing pointwise/cvar/0.01 in run pqq7xmlu on sweep <Sweep alelab/Autoformer/xqpbzr6x (FINISHED)>. Filling all poitwisewith NAN.\n"
     ]
    },
    {
     "name": "stderr",
     "output_type": "stream",
     "text": [
      " 79%|███████▉  | 76/96 [05:37<01:13,  3.70s/it]"
     ]
    },
    {
     "name": "stdout",
     "output_type": "stream",
     "text": [
      "WARNING!! Missing pointwise/cvar/0.01 in run x95n4e7t on sweep <Sweep alelab/Autoformer/xqpbzr6x (FINISHED)>. Filling all poitwisewith NAN.\n"
     ]
    },
    {
     "name": "stderr",
     "output_type": "stream",
     "text": [
      " 80%|████████  | 77/96 [05:49<01:54,  6.03s/it]"
     ]
    },
    {
     "name": "stdout",
     "output_type": "stream",
     "text": [
      "WARNING!! Missing pointwise/cvar/0.01 in run 58yo704q on sweep <Sweep alelab/Autoformer/xqpbzr6x (FINISHED)>. Filling all poitwisewith NAN.\n"
     ]
    },
    {
     "name": "stderr",
     "output_type": "stream",
     "text": [
      " 81%|████████▏ | 78/96 [05:54<01:42,  5.69s/it]"
     ]
    },
    {
     "name": "stdout",
     "output_type": "stream",
     "text": [
      "WARNING!! Missing pointwise/cvar/0.01 in run rozgkcqa on sweep <Sweep alelab/Autoformer/xqpbzr6x (FINISHED)>. Filling all poitwisewith NAN.\n"
     ]
    },
    {
     "name": "stderr",
     "output_type": "stream",
     "text": [
      " 82%|████████▏ | 79/96 [05:56<01:22,  4.82s/it]"
     ]
    },
    {
     "name": "stdout",
     "output_type": "stream",
     "text": [
      "WARNING!! Missing pointwise/cvar/0.01 in run gl6au8r7 on sweep <Sweep alelab/Autoformer/xqpbzr6x (FINISHED)>. Filling all poitwisewith NAN.\n"
     ]
    },
    {
     "name": "stderr",
     "output_type": "stream",
     "text": [
      " 83%|████████▎ | 80/96 [05:58<01:00,  3.80s/it]"
     ]
    },
    {
     "name": "stdout",
     "output_type": "stream",
     "text": [
      "WARNING!! Missing pointwise/cvar/0.01 in run s46k988p on sweep <Sweep alelab/Autoformer/q9vq7ccf (FINISHED)>. Filling all poitwisewith NAN.\n"
     ]
    },
    {
     "name": "stderr",
     "output_type": "stream",
     "text": [
      " 84%|████████▍ | 81/96 [06:08<01:26,  5.79s/it]"
     ]
    },
    {
     "name": "stdout",
     "output_type": "stream",
     "text": [
      "WARNING!! Missing pointwise/cvar/0.01 in run whdl18x5 on sweep <Sweep alelab/Autoformer/q9vq7ccf (FINISHED)>. Filling all poitwisewith NAN.\n"
     ]
    },
    {
     "name": "stderr",
     "output_type": "stream",
     "text": [
      " 85%|████████▌ | 82/96 [06:13<01:17,  5.52s/it]"
     ]
    },
    {
     "name": "stdout",
     "output_type": "stream",
     "text": [
      "WARNING!! Missing pointwise/cvar/0.01 in run pm5gbm3t on sweep <Sweep alelab/Autoformer/q9vq7ccf (FINISHED)>. Filling all poitwisewith NAN.\n"
     ]
    },
    {
     "name": "stderr",
     "output_type": "stream",
     "text": [
      " 86%|████████▋ | 83/96 [06:16<01:01,  4.70s/it]"
     ]
    },
    {
     "name": "stdout",
     "output_type": "stream",
     "text": [
      "WARNING!! Missing pointwise/cvar/0.01 in run je5k3l8j on sweep <Sweep alelab/Autoformer/q9vq7ccf (FINISHED)>. Filling all poitwisewith NAN.\n"
     ]
    },
    {
     "name": "stderr",
     "output_type": "stream",
     "text": [
      " 88%|████████▊ | 84/96 [06:17<00:44,  3.71s/it]"
     ]
    },
    {
     "name": "stdout",
     "output_type": "stream",
     "text": [
      "WARNING!! Missing pointwise/cvar/0.01 in run yq0uif30 on sweep <Sweep alelab/Autoformer/q9vq7ccf (FINISHED)>. Filling all poitwisewith NAN.\n"
     ]
    },
    {
     "name": "stderr",
     "output_type": "stream",
     "text": [
      " 89%|████████▊ | 85/96 [06:29<01:06,  6.07s/it]"
     ]
    },
    {
     "name": "stdout",
     "output_type": "stream",
     "text": [
      "WARNING!! Missing pointwise/cvar/0.01 in run yyvov254 on sweep <Sweep alelab/Autoformer/q9vq7ccf (FINISHED)>. Filling all poitwisewith NAN.\n"
     ]
    },
    {
     "name": "stderr",
     "output_type": "stream",
     "text": [
      " 90%|████████▉ | 86/96 [06:34<00:57,  5.72s/it]"
     ]
    },
    {
     "name": "stdout",
     "output_type": "stream",
     "text": [
      "WARNING!! Missing pointwise/cvar/0.01 in run usfy7jwd on sweep <Sweep alelab/Autoformer/q9vq7ccf (FINISHED)>. Filling all poitwisewith NAN.\n"
     ]
    },
    {
     "name": "stderr",
     "output_type": "stream",
     "text": [
      " 91%|█████████ | 87/96 [06:37<00:43,  4.84s/it]"
     ]
    },
    {
     "name": "stdout",
     "output_type": "stream",
     "text": [
      "WARNING!! Missing pointwise/cvar/0.01 in run wcvikc86 on sweep <Sweep alelab/Autoformer/q9vq7ccf (FINISHED)>. Filling all poitwisewith NAN.\n"
     ]
    },
    {
     "name": "stderr",
     "output_type": "stream",
     "text": [
      " 92%|█████████▏| 88/96 [06:38<00:30,  3.81s/it]"
     ]
    },
    {
     "name": "stdout",
     "output_type": "stream",
     "text": [
      "WARNING!! Missing pointwise/cvar/0.01 in run o1c3x64j on sweep <Sweep alelab/Autoformer/q9vq7ccf (FINISHED)>. Filling all poitwisewith NAN.\n"
     ]
    },
    {
     "name": "stderr",
     "output_type": "stream",
     "text": [
      " 93%|█████████▎| 89/96 [06:49<00:40,  5.83s/it]"
     ]
    },
    {
     "name": "stdout",
     "output_type": "stream",
     "text": [
      "WARNING!! Missing pointwise/cvar/0.01 in run 62ojerd7 on sweep <Sweep alelab/Autoformer/q9vq7ccf (FINISHED)>. Filling all poitwisewith NAN.\n"
     ]
    },
    {
     "name": "stderr",
     "output_type": "stream",
     "text": [
      " 94%|█████████▍| 90/96 [06:53<00:33,  5.55s/it]"
     ]
    },
    {
     "name": "stdout",
     "output_type": "stream",
     "text": [
      "WARNING!! Missing pointwise/cvar/0.01 in run q3tp4axw on sweep <Sweep alelab/Autoformer/q9vq7ccf (FINISHED)>. Filling all poitwisewith NAN.\n"
     ]
    },
    {
     "name": "stderr",
     "output_type": "stream",
     "text": [
      " 95%|█████████▍| 91/96 [06:56<00:23,  4.72s/it]"
     ]
    },
    {
     "name": "stdout",
     "output_type": "stream",
     "text": [
      "WARNING!! Missing pointwise/cvar/0.01 in run afn37yb6 on sweep <Sweep alelab/Autoformer/q9vq7ccf (FINISHED)>. Filling all poitwisewith NAN.\n"
     ]
    },
    {
     "name": "stderr",
     "output_type": "stream",
     "text": [
      " 96%|█████████▌| 92/96 [06:58<00:14,  3.73s/it]"
     ]
    },
    {
     "name": "stdout",
     "output_type": "stream",
     "text": [
      "WARNING!! Missing pointwise/cvar/0.01 in run zz22ssmi on sweep <Sweep alelab/Autoformer/q9vq7ccf (FINISHED)>. Filling all poitwisewith NAN.\n"
     ]
    },
    {
     "name": "stderr",
     "output_type": "stream",
     "text": [
      " 97%|█████████▋| 93/96 [07:09<00:18,  6.07s/it]"
     ]
    },
    {
     "name": "stdout",
     "output_type": "stream",
     "text": [
      "WARNING!! Missing pointwise/cvar/0.01 in run mbqfgfi8 on sweep <Sweep alelab/Autoformer/q9vq7ccf (FINISHED)>. Filling all poitwisewith NAN.\n"
     ]
    },
    {
     "name": "stderr",
     "output_type": "stream",
     "text": [
      " 98%|█████████▊| 94/96 [07:14<00:11,  5.71s/it]"
     ]
    },
    {
     "name": "stdout",
     "output_type": "stream",
     "text": [
      "WARNING!! Missing pointwise/cvar/0.01 in run b2vj4hww on sweep <Sweep alelab/Autoformer/q9vq7ccf (FINISHED)>. Filling all poitwisewith NAN.\n"
     ]
    },
    {
     "name": "stderr",
     "output_type": "stream",
     "text": [
      " 99%|█████████▉| 95/96 [07:17<00:04,  4.83s/it]"
     ]
    },
    {
     "name": "stdout",
     "output_type": "stream",
     "text": [
      "WARNING!! Missing pointwise/cvar/0.01 in run qb0eqo94 on sweep <Sweep alelab/Autoformer/q9vq7ccf (FINISHED)>. Filling all poitwisewith NAN.\n"
     ]
    },
    {
     "name": "stderr",
     "output_type": "stream",
     "text": [
      "100%|██████████| 96/96 [07:18<00:00,  4.57s/it]\n"
     ]
    },
    {
     "name": "stdout",
     "output_type": "stream",
     "text": [
      "Fetched 96 runs\n",
      "Total records: (82656, 112)\n",
      "Total runs: 96\n"
     ]
    }
   ],
   "source": [
    "# from utils import wandb_utils\n",
    "# # Todo save in a file\n",
    "\n",
    "# df = wandb_utils.get_experiment_data(\"Autoformer\",\"alelab\",[\n",
    "#     \"e29_icml_erm_newdatasets\",\n",
    "#     ])"
   ]
  },
  {
   "cell_type": "code",
   "execution_count": 8,
   "id": "0528ab74",
   "metadata": {},
   "outputs": [],
   "source": [
    "# df.to_pickle(\"../data_backups/2024_03_26__icml_rebuttals_erm_newdatasets_backup_data.pkl\")\n",
    "# df.to_csv(\"../data_backups/2024_03_26__icml_rebuttals_erm_newdatasets_backup_data.csv\",index=False)"
   ]
  },
  {
   "cell_type": "code",
   "execution_count": 7,
   "id": "ef5c9048",
   "metadata": {},
   "outputs": [],
   "source": [
    "df = pd.read_pickle(\"../data_backups/2024_03_26__icml_rebuttals_erm_newdatasets_backup_data.pkl\")"
   ]
  },
  {
   "cell_type": "code",
   "execution_count": null,
   "id": "f44e2c5d",
   "metadata": {},
   "outputs": [],
   "source": []
  },
  {
   "cell_type": "markdown",
   "id": "770f1ed0",
   "metadata": {},
   "source": [
    "# Train constraints"
   ]
  },
  {
   "cell_type": "code",
   "execution_count": 8,
   "id": "356eb9b9",
   "metadata": {},
   "outputs": [
    {
     "data": {
      "text/html": [
       "<div>\n",
       "<style scoped>\n",
       "    .dataframe tbody tr th:only-of-type {\n",
       "        vertical-align: middle;\n",
       "    }\n",
       "\n",
       "    .dataframe tbody tr th {\n",
       "        vertical-align: top;\n",
       "    }\n",
       "\n",
       "    .dataframe thead th {\n",
       "        text-align: right;\n",
       "    }\n",
       "</style>\n",
       "<table border=\"1\" class=\"dataframe\">\n",
       "  <thead>\n",
       "    <tr style=\"text-align: right;\">\n",
       "      <th></th>\n",
       "      <th>data_path</th>\n",
       "      <th>model</th>\n",
       "      <th>pred_len</th>\n",
       "    </tr>\n",
       "  </thead>\n",
       "  <tbody>\n",
       "    <tr>\n",
       "      <th>0</th>\n",
       "      <td>ETTh1.csv</td>\n",
       "      <td>Autoformer</td>\n",
       "      <td>{720, 336, 96, 192}</td>\n",
       "    </tr>\n",
       "    <tr>\n",
       "      <th>1</th>\n",
       "      <td>ETTh1.csv</td>\n",
       "      <td>Informer</td>\n",
       "      <td>{720, 336, 96, 192}</td>\n",
       "    </tr>\n",
       "    <tr>\n",
       "      <th>2</th>\n",
       "      <td>ETTh1.csv</td>\n",
       "      <td>Reformer</td>\n",
       "      <td>{720, 336, 96, 192}</td>\n",
       "    </tr>\n",
       "    <tr>\n",
       "      <th>3</th>\n",
       "      <td>ETTh1.csv</td>\n",
       "      <td>Transformer</td>\n",
       "      <td>{720, 336, 96, 192}</td>\n",
       "    </tr>\n",
       "    <tr>\n",
       "      <th>4</th>\n",
       "      <td>ETTh2.csv</td>\n",
       "      <td>Autoformer</td>\n",
       "      <td>{720, 336, 96, 192}</td>\n",
       "    </tr>\n",
       "    <tr>\n",
       "      <th>5</th>\n",
       "      <td>ETTh2.csv</td>\n",
       "      <td>Informer</td>\n",
       "      <td>{720, 336, 96, 192}</td>\n",
       "    </tr>\n",
       "    <tr>\n",
       "      <th>6</th>\n",
       "      <td>ETTh2.csv</td>\n",
       "      <td>Reformer</td>\n",
       "      <td>{720, 336, 96, 192}</td>\n",
       "    </tr>\n",
       "    <tr>\n",
       "      <th>7</th>\n",
       "      <td>ETTh2.csv</td>\n",
       "      <td>Transformer</td>\n",
       "      <td>{720, 336, 96, 192}</td>\n",
       "    </tr>\n",
       "    <tr>\n",
       "      <th>8</th>\n",
       "      <td>ETTm1.csv</td>\n",
       "      <td>Autoformer</td>\n",
       "      <td>{720, 336, 96, 192}</td>\n",
       "    </tr>\n",
       "    <tr>\n",
       "      <th>9</th>\n",
       "      <td>ETTm1.csv</td>\n",
       "      <td>Informer</td>\n",
       "      <td>{720, 336, 96, 192}</td>\n",
       "    </tr>\n",
       "    <tr>\n",
       "      <th>10</th>\n",
       "      <td>ETTm1.csv</td>\n",
       "      <td>Reformer</td>\n",
       "      <td>{720, 336, 96, 192}</td>\n",
       "    </tr>\n",
       "    <tr>\n",
       "      <th>11</th>\n",
       "      <td>ETTm1.csv</td>\n",
       "      <td>Transformer</td>\n",
       "      <td>{720, 336, 96, 192}</td>\n",
       "    </tr>\n",
       "    <tr>\n",
       "      <th>12</th>\n",
       "      <td>ETTm2.csv</td>\n",
       "      <td>Autoformer</td>\n",
       "      <td>{720, 336, 96, 192}</td>\n",
       "    </tr>\n",
       "    <tr>\n",
       "      <th>13</th>\n",
       "      <td>ETTm2.csv</td>\n",
       "      <td>Informer</td>\n",
       "      <td>{720, 336, 96, 192}</td>\n",
       "    </tr>\n",
       "    <tr>\n",
       "      <th>14</th>\n",
       "      <td>ETTm2.csv</td>\n",
       "      <td>Reformer</td>\n",
       "      <td>{720, 336, 96, 192}</td>\n",
       "    </tr>\n",
       "    <tr>\n",
       "      <th>15</th>\n",
       "      <td>ETTm2.csv</td>\n",
       "      <td>Transformer</td>\n",
       "      <td>{720, 336, 96, 192}</td>\n",
       "    </tr>\n",
       "    <tr>\n",
       "      <th>16</th>\n",
       "      <td>national_illness.csv</td>\n",
       "      <td>Autoformer</td>\n",
       "      <td>{48, 24, 60, 36}</td>\n",
       "    </tr>\n",
       "    <tr>\n",
       "      <th>17</th>\n",
       "      <td>national_illness.csv</td>\n",
       "      <td>Informer</td>\n",
       "      <td>{48, 24, 60, 36}</td>\n",
       "    </tr>\n",
       "    <tr>\n",
       "      <th>18</th>\n",
       "      <td>national_illness.csv</td>\n",
       "      <td>Reformer</td>\n",
       "      <td>{48, 24, 60, 36}</td>\n",
       "    </tr>\n",
       "    <tr>\n",
       "      <th>19</th>\n",
       "      <td>national_illness.csv</td>\n",
       "      <td>Transformer</td>\n",
       "      <td>{48, 24, 60, 36}</td>\n",
       "    </tr>\n",
       "    <tr>\n",
       "      <th>20</th>\n",
       "      <td>traffic.csv</td>\n",
       "      <td>Autoformer</td>\n",
       "      <td>{720, 336, 96, 192}</td>\n",
       "    </tr>\n",
       "    <tr>\n",
       "      <th>21</th>\n",
       "      <td>traffic.csv</td>\n",
       "      <td>Informer</td>\n",
       "      <td>{720, 336, 96, 192}</td>\n",
       "    </tr>\n",
       "    <tr>\n",
       "      <th>22</th>\n",
       "      <td>traffic.csv</td>\n",
       "      <td>Reformer</td>\n",
       "      <td>{720, 336, 96, 192}</td>\n",
       "    </tr>\n",
       "    <tr>\n",
       "      <th>23</th>\n",
       "      <td>traffic.csv</td>\n",
       "      <td>Transformer</td>\n",
       "      <td>{720, 336, 96, 192}</td>\n",
       "    </tr>\n",
       "  </tbody>\n",
       "</table>\n",
       "</div>"
      ],
      "text/plain": [
       "               data_path        model             pred_len\n",
       "0              ETTh1.csv   Autoformer  {720, 336, 96, 192}\n",
       "1              ETTh1.csv     Informer  {720, 336, 96, 192}\n",
       "2              ETTh1.csv     Reformer  {720, 336, 96, 192}\n",
       "3              ETTh1.csv  Transformer  {720, 336, 96, 192}\n",
       "4              ETTh2.csv   Autoformer  {720, 336, 96, 192}\n",
       "5              ETTh2.csv     Informer  {720, 336, 96, 192}\n",
       "6              ETTh2.csv     Reformer  {720, 336, 96, 192}\n",
       "7              ETTh2.csv  Transformer  {720, 336, 96, 192}\n",
       "8              ETTm1.csv   Autoformer  {720, 336, 96, 192}\n",
       "9              ETTm1.csv     Informer  {720, 336, 96, 192}\n",
       "10             ETTm1.csv     Reformer  {720, 336, 96, 192}\n",
       "11             ETTm1.csv  Transformer  {720, 336, 96, 192}\n",
       "12             ETTm2.csv   Autoformer  {720, 336, 96, 192}\n",
       "13             ETTm2.csv     Informer  {720, 336, 96, 192}\n",
       "14             ETTm2.csv     Reformer  {720, 336, 96, 192}\n",
       "15             ETTm2.csv  Transformer  {720, 336, 96, 192}\n",
       "16  national_illness.csv   Autoformer     {48, 24, 60, 36}\n",
       "17  national_illness.csv     Informer     {48, 24, 60, 36}\n",
       "18  national_illness.csv     Reformer     {48, 24, 60, 36}\n",
       "19  national_illness.csv  Transformer     {48, 24, 60, 36}\n",
       "20           traffic.csv   Autoformer  {720, 336, 96, 192}\n",
       "21           traffic.csv     Informer  {720, 336, 96, 192}\n",
       "22           traffic.csv     Reformer  {720, 336, 96, 192}\n",
       "23           traffic.csv  Transformer  {720, 336, 96, 192}"
      ]
     },
     "execution_count": 8,
     "metadata": {},
     "output_type": "execute_result"
    }
   ],
   "source": [
    "df.groupby(['data_path','model'])['pred_len'].agg(set).reset_index()"
   ]
  },
  {
   "cell_type": "code",
   "execution_count": 9,
   "id": "7ab78706",
   "metadata": {},
   "outputs": [
    {
     "name": "stdout",
     "output_type": "stream",
     "text": [
      "Generating constraints based on the following runs (one per param set)\n",
      "['9ssbipuu', '2qa1s6bx', 'l2jupa3o', '8lot5xux', '3rb4tf5u', 'yd647pro', 'ntd1t0gm', 'cc0cjrv3', 'igx8r6rf', '4ngi0imp', '4km18dna', 'vuppzm29', 'dko5cedn', 'd7uxmgk2', '935eqlxp', '2gewew4y', '2mefz44b', 'k3jgic8y', 'h9uik6uo', 'nzgon4u5', 'ia2y3xtf', 'io5dst33', 'e4113710', 'uvk1kh68', '4s1gttk0', 'amlokjb0', 'fv00g3y8', '8im2syvz', 'e3xspjbv', '4ak0ofpy', 'vmslc232', '55fxi8cp', 'uqc8zetb', 'd440w5ui', 'x11r2qwc', 'le2p5lnt', 'yr0dww0o', 'nml0qqn2', 'z28zd1wd', 'rq5ye2em', 'wdc3ce14', 'l9kcfcly', '57r9ecyr', 'o104v9b8', 'nkj0h1to', 'y746cmy8', '8of52v9g', 'mw38rsmg', 'x6auxo55', 'nev607qh', 'f26pmmz6', 'p3g3vej6', 'efwyi74q', '1fyfmnbx', '98fpmxck', '84n4ex1g', 'j186te6z', 'wn7ujbuf', 'e9im4ldd', 'pqq7xmlu', 'x95n4e7t', '58yo704q', 'rozgkcqa', 'gl6au8r7', 's46k988p', 'whdl18x5', 'pm5gbm3t', 'je5k3l8j', 'yq0uif30', 'yyvov254', 'usfy7jwd', 'wcvikc86', 'o1c3x64j', '62ojerd7', 'q3tp4axw', 'afn37yb6', 'zz22ssmi', 'mbqfgfi8', 'b2vj4hww', 'qb0eqo94']\n"
     ]
    },
    {
     "data": {
      "text/plain": [
       "{'ETTh1.csv': {'Autoformer': {96: [0.246, 0.262, 0.29],\n",
       "   192: [0.306, 0.322, 0.332],\n",
       "   336: [0.346, 0.353, 0.357],\n",
       "   720: [0.454, 0.472, 0.505]},\n",
       "  'Informer': {96: [0.257, 0.263, 0.27],\n",
       "   192: [0.305, 0.351, 0.392],\n",
       "   336: [0.412, 0.426, 0.433],\n",
       "   720: [0.436, 0.446, 0.456]},\n",
       "  'Reformer': {96: [0.283, 0.316, 0.34],\n",
       "   192: [0.315, 0.325, 0.334],\n",
       "   336: [0.346, 0.355, 0.369],\n",
       "   720: [0.388, 0.4, 0.411]},\n",
       "  'Transformer': {96: [0.149, 0.152, 0.155],\n",
       "   192: [0.171, 0.172, 0.174],\n",
       "   336: [0.187, 0.188, 0.19],\n",
       "   720: [0.207, 0.208, 0.21]}},\n",
       " 'ETTh2.csv': {'Autoformer': {96: [0.167, 0.184, 0.206],\n",
       "   192: [0.252, 0.274, 0.316],\n",
       "   336: [0.303, 0.323, 0.359],\n",
       "   720: [0.502, 0.562, 0.634]},\n",
       "  'Informer': {96: [0.133, 0.137, 0.143],\n",
       "   192: [0.151, 0.154, 0.158],\n",
       "   336: [0.164, 0.168, 0.174],\n",
       "   720: [0.183, 0.188, 0.2]},\n",
       "  'Reformer': {96: [0.162, 0.18, 0.2],\n",
       "   192: [0.186, 0.202, 0.209],\n",
       "   336: [0.197, 0.204, 0.218],\n",
       "   720: [0.218, 0.225, 0.228]},\n",
       "  'Transformer': {96: [0.088, 0.089, 0.09],\n",
       "   192: [0.105, 0.106, 0.108],\n",
       "   336: [0.12, 0.121, 0.123],\n",
       "   720: [0.142, 0.144, 0.145]}},\n",
       " 'ETTm1.csv': {'Autoformer': {96: [0.119, 0.123, 0.145],\n",
       "   192: [0.185, 0.216, 0.235],\n",
       "   336: [0.243, 0.271, 0.299],\n",
       "   720: [0.313, 0.342, 0.378]},\n",
       "  'Informer': {96: [0.116, 0.124, 0.132],\n",
       "   192: [0.127, 0.132, 0.14],\n",
       "   336: [0.138, 0.143, 0.15],\n",
       "   720: [0.163, 0.167, 0.176]},\n",
       "  'Reformer': {96: [0.166, 0.175, 0.179],\n",
       "   192: [0.177, 0.181, 0.192],\n",
       "   336: [0.187, 0.19, 0.194],\n",
       "   720: [0.206, 0.209, 0.219]},\n",
       "  'Transformer': {96: [0.049, 0.05, 0.053],\n",
       "   192: [0.059, 0.06, 0.062],\n",
       "   336: [0.067, 0.068, 0.07],\n",
       "   720: [0.082, 0.084, 0.085]}},\n",
       " 'ETTm2.csv': {'Autoformer': {96: [0.109, 0.129, 0.152],\n",
       "   192: [0.165, 0.191, 0.224],\n",
       "   336: [0.204, 0.26, 0.309],\n",
       "   720: [0.291, 0.355, 0.393]},\n",
       "  'Informer': {96: [0.065, 0.07, 0.075],\n",
       "   192: [0.07, 0.074, 0.077],\n",
       "   336: [0.074, 0.077, 0.081],\n",
       "   720: [0.087, 0.089, 0.094]},\n",
       "  'Reformer': {96: [0.084, 0.096, 0.104],\n",
       "   192: [0.093, 0.096, 0.101],\n",
       "   336: [0.092, 0.094, 0.098],\n",
       "   720: [0.107, 0.111, 0.123]},\n",
       "  'Transformer': {96: [0.038, 0.038, 0.039],\n",
       "   192: [0.043, 0.043, 0.044],\n",
       "   336: [0.048, 0.048, 0.048],\n",
       "   720: [0.053, 0.054, 0.054]}},\n",
       " 'national_illness.csv': {'Autoformer': {24: [0.359, 0.413, 0.434],\n",
       "   36: [0.392, 0.44, 0.461],\n",
       "   48: [0.498, 0.52, 0.533],\n",
       "   60: [0.437, 0.453, 0.467]},\n",
       "  'Informer': {24: [0.296, 0.316, 0.331],\n",
       "   36: [0.308, 0.329, 0.348],\n",
       "   48: [0.325, 0.355, 0.382],\n",
       "   60: [0.35, 0.369, 0.4]},\n",
       "  'Reformer': {24: [0.499, 0.506, 0.521],\n",
       "   36: [0.515, 0.519, 0.523],\n",
       "   48: [0.513, 0.543, 0.554],\n",
       "   60: [0.518, 0.553, 0.559]},\n",
       "  'Transformer': {24: [0.278, 0.308, 0.361],\n",
       "   36: [0.342, 0.367, 0.4],\n",
       "   48: [0.403, 0.42, 0.429],\n",
       "   60: [0.421, 0.474, 0.481]}}}"
      ]
     },
     "execution_count": 9,
     "metadata": {},
     "output_type": "execute_result"
    }
   ],
   "source": [
    "# All except illness and traffic\n",
    "constraint_levels_train=wandb_utils.generate_constraint_levels(df.query(\"data_path!='traffic.csv'\"))\n",
    "constraint_levels_train"
   ]
  },
  {
   "cell_type": "code",
   "execution_count": 11,
   "id": "3944e680",
   "metadata": {},
   "outputs": [
    {
     "name": "stdout",
     "output_type": "stream",
     "text": [
      "Generating constraints based on the following runs (one per param set)\n",
      "['ssq2do8x', 'nl9kpfsp', 'avo2qgiq', 'cfo5eg0t', '64uvszfp', 'ovn7p5dd', 'exmg2gg0', '5ivk4sa1', 'ugz4wtkz', '6o0rkyy5', 'kknqm2fe', 'fryk3j68', '2ay68dwq', 'al4zna2k', 'z024ola8', 'n5w61u3p']\n"
     ]
    },
    {
     "data": {
      "text/plain": [
       "{'traffic.csv': {'Autoformer': {96: [0.205, 0.206, 0.208],\n",
       "   192: [0.222, 0.227, 0.233],\n",
       "   336: [0.23, 0.234, 0.238],\n",
       "   720: [0.254, 0.259, 0.267]},\n",
       "  'Informer': {96: [0.238, 0.245, 0.253],\n",
       "   192: [0.259, 0.263, 0.269],\n",
       "   336: [0.294, 0.299, 0.306],\n",
       "   720: [0.424, 0.435, 0.445]},\n",
       "  'Reformer': {96: [0.249, 0.25, 0.253],\n",
       "   192: [0.256, 0.257, 0.259],\n",
       "   336: [0.264, 0.266, 0.267],\n",
       "   720: [0.278, 0.28, 0.285]},\n",
       "  'Transformer': {96: [0.206, 0.207, 0.209],\n",
       "   192: [0.211, 0.212, 0.215],\n",
       "   336: [0.221, 0.222, 0.224],\n",
       "   720: [0.23, 0.232, 0.236]}}}"
      ]
     },
     "execution_count": 11,
     "metadata": {},
     "output_type": "execute_result"
    }
   ],
   "source": [
    "# Just traffic\n",
    "constraint_levels_train=wandb_utils.generate_constraint_levels(df.query(\"data_path=='traffic.csv'\"))\n",
    "constraint_levels_train"
   ]
  },
  {
   "cell_type": "markdown",
   "id": "1009a2d4",
   "metadata": {},
   "source": [
    "# Val constraints"
   ]
  },
  {
   "cell_type": "code",
   "execution_count": 10,
   "id": "153c9c0c",
   "metadata": {},
   "outputs": [
    {
     "name": "stdout",
     "output_type": "stream",
     "text": [
      "Generating constraints based on the following runs (one per param set)\n",
      "['ssq2do8x', 'nl9kpfsp', 'avo2qgiq', 'cfo5eg0t', '64uvszfp', 'ovn7p5dd', 'exmg2gg0', '5ivk4sa1', 'ugz4wtkz', '6o0rkyy5', 'kknqm2fe', 'fryk3j68', '2ay68dwq', '9ssbipuu', '2qa1s6bx', 'l2jupa3o', '8lot5xux', '3rb4tf5u', 'yd647pro', 'ntd1t0gm', 'cc0cjrv3', 'igx8r6rf', 'al4zna2k', '4ngi0imp', '4km18dna', 'vuppzm29', 'dko5cedn', 'd7uxmgk2', '935eqlxp', '2gewew4y', 'z024ola8', 'n5w61u3p', '2mefz44b', 'k3jgic8y', 'h9uik6uo', 'nzgon4u5', 'ia2y3xtf', 'io5dst33', 'e4113710', 'uvk1kh68', '4s1gttk0', 'amlokjb0', 'fv00g3y8', '8im2syvz', 'e3xspjbv', '4ak0ofpy', 'vmslc232', '55fxi8cp', 'uqc8zetb', 'd440w5ui', 'x11r2qwc', 'le2p5lnt', 'yr0dww0o', 'nml0qqn2', 'z28zd1wd', 'rq5ye2em', 'wdc3ce14', 'l9kcfcly', '57r9ecyr', 'o104v9b8', 'nkj0h1to', 'y746cmy8', '8of52v9g', 'mw38rsmg', 'x6auxo55', 'nev607qh', 'f26pmmz6', 'p3g3vej6', 'efwyi74q', '1fyfmnbx', '98fpmxck', '84n4ex1g', 'j186te6z', 'wn7ujbuf', 'e9im4ldd', 'pqq7xmlu', 'x95n4e7t', '58yo704q', 'rozgkcqa', 'gl6au8r7', 's46k988p', 'whdl18x5', 'pm5gbm3t', 'je5k3l8j', 'yq0uif30', 'yyvov254', 'usfy7jwd', 'wcvikc86', 'o1c3x64j', '62ojerd7', 'q3tp4axw', 'afn37yb6', 'zz22ssmi', 'mbqfgfi8', 'b2vj4hww', 'qb0eqo94']\n"
     ]
    },
    {
     "data": {
      "text/plain": [
       "{'ETTh1.csv': {'Autoformer': {96: [0.507, 0.521, 0.533],\n",
       "   192: [0.431, 0.46, 0.496],\n",
       "   336: [0.539, 0.569, 0.592],\n",
       "   720: [0.554, 0.591, 0.719]},\n",
       "  'Informer': {96: [0.713, 1.015, 1.115],\n",
       "   192: [0.907, 1.007, 1.073],\n",
       "   336: [0.822, 0.897, 1.055],\n",
       "   720: [0.853, 0.966, 1.199]},\n",
       "  'Reformer': {96: [0.677, 0.78, 0.828],\n",
       "   192: [0.718, 0.822, 0.926],\n",
       "   336: [0.775, 0.911, 0.977],\n",
       "   720: [0.939, 1.153, 1.218]},\n",
       "  'Transformer': {96: [0.566, 0.707, 0.822],\n",
       "   192: [0.704, 0.756, 0.883],\n",
       "   336: [0.905, 0.976, 1.067],\n",
       "   720: [0.903, 1.028, 1.076]}},\n",
       " 'ETTh2.csv': {'Autoformer': {96: [0.368, 0.434, 0.466],\n",
       "   192: [0.368, 0.396, 0.522],\n",
       "   336: [0.318, 0.399, 0.413],\n",
       "   720: [0.47, 0.505, 0.543]},\n",
       "  'Informer': {96: [1.109, 1.198, 1.398],\n",
       "   192: [1.272, 1.502, 2.001],\n",
       "   336: [1.397, 1.466, 1.57],\n",
       "   720: [0.726, 0.883, 1.094]},\n",
       "  'Reformer': {96: [0.896, 1.695, 1.771],\n",
       "   192: [0.656, 1.061, 1.262],\n",
       "   336: [0.787, 1.1, 1.176],\n",
       "   720: [1.282, 1.419, 1.603]},\n",
       "  'Transformer': {96: [0.95, 1.058, 1.203],\n",
       "   192: [0.565, 0.606, 0.635],\n",
       "   336: [0.519, 0.665, 0.725],\n",
       "   720: [0.527, 0.585, 0.65]}},\n",
       " 'ETTm1.csv': {'Autoformer': {96: [0.415, 0.438, 0.448],\n",
       "   192: [0.473, 0.493, 0.547],\n",
       "   336: [0.437, 0.458, 0.475],\n",
       "   720: [0.536, 0.564, 0.579]},\n",
       "  'Informer': {96: [0.522, 0.629, 0.701],\n",
       "   192: [0.552, 0.573, 0.618],\n",
       "   336: [0.584, 0.665, 0.759],\n",
       "   720: [0.712, 0.782, 0.821]},\n",
       "  'Reformer': {96: [0.678, 0.744, 0.777],\n",
       "   192: [0.686, 0.714, 0.732],\n",
       "   336: [0.764, 0.802, 0.852],\n",
       "   720: [0.851, 0.885, 0.946]},\n",
       "  'Transformer': {96: [0.424, 0.434, 0.439],\n",
       "   192: [0.478, 0.496, 0.571],\n",
       "   336: [0.559, 0.595, 0.724],\n",
       "   720: [0.737, 0.792, 0.816]}},\n",
       " 'ETTm2.csv': {'Autoformer': {96: [0.182, 0.228, 0.266],\n",
       "   192: [0.223, 0.297, 0.351],\n",
       "   336: [0.283, 0.383, 0.408],\n",
       "   720: [0.397, 0.429, 0.473]},\n",
       "  'Informer': {96: [0.186, 0.221, 0.248],\n",
       "   192: [0.234, 0.304, 0.432],\n",
       "   336: [0.319, 0.519, 0.89],\n",
       "   720: [0.449, 0.904, 1.122]},\n",
       "  'Reformer': {96: [0.386, 0.495, 0.544],\n",
       "   192: [0.563, 0.672, 0.762],\n",
       "   336: [0.767, 0.914, 1.028],\n",
       "   720: [1.016, 1.058, 1.111]},\n",
       "  'Transformer': {96: [0.175, 0.217, 0.233],\n",
       "   192: [0.272, 0.327, 0.443],\n",
       "   336: [0.44, 0.563, 0.681],\n",
       "   720: [0.498, 0.781, 1.037]}},\n",
       " 'national_illness.csv': {'Autoformer': {24: [0.53, 0.734, 0.875],\n",
       "   36: [0.271, 0.357, 0.481],\n",
       "   48: [0.345, 0.422, 0.566],\n",
       "   60: [0.295, 0.458, 0.617]},\n",
       "  'Informer': {24: [0.173, 0.219, 0.275],\n",
       "   36: [0.15, 0.258, 0.346],\n",
       "   48: [0.129, 0.223, 0.361],\n",
       "   60: [0.129, 0.222, 0.435]},\n",
       "  'Reformer': {24: [0.409, 0.461, 0.516],\n",
       "   36: [0.303, 0.412, 0.522],\n",
       "   48: [0.239, 0.293, 0.46],\n",
       "   60: [0.201, 0.299, 0.659]},\n",
       "  'Transformer': {24: [0.259, 0.283, 0.329],\n",
       "   36: [0.296, 0.32, 0.341],\n",
       "   48: [0.238, 0.375, 0.538],\n",
       "   60: [0.21, 0.259, 0.731]}},\n",
       " 'traffic.csv': {'Autoformer': {96: [0.459, 0.464, 0.472],\n",
       "   192: [0.457, 0.465, 0.483],\n",
       "   336: [0.449, 0.466, 0.473],\n",
       "   720: [0.432, 0.482, 0.558]},\n",
       "  'Informer': {96: [0.567, 0.579, 0.599],\n",
       "   192: [0.583, 0.603, 0.629],\n",
       "   336: [0.62, 0.645, 0.678],\n",
       "   720: [0.764, 0.82, 0.901]},\n",
       "  'Reformer': {96: [0.521, 0.535, 0.542],\n",
       "   192: [0.531, 0.541, 0.55],\n",
       "   336: [0.518, 0.545, 0.56],\n",
       "   720: [0.468, 0.528, 0.609]},\n",
       "  'Transformer': {96: [0.468, 0.474, 0.484],\n",
       "   192: [0.476, 0.485, 0.493],\n",
       "   336: [0.469, 0.502, 0.519],\n",
       "   720: [0.415, 0.475, 0.567]}}}"
      ]
     },
     "execution_count": 10,
     "metadata": {},
     "output_type": "execute_result"
    }
   ],
   "source": [
    "constraint_levels_test=wandb_utils.generate_constraint_levels(df,split='val')\n",
    "constraint_levels_test"
   ]
  },
  {
   "cell_type": "code",
   "execution_count": 27,
   "metadata": {},
   "outputs": [],
   "source": [
    "# Sanity check Check if there are three distinct constraints on each\n",
    "for dataset in constraint_levels_test.keys():\n",
    "    for model in constraint_levels_test[dataset].keys():\n",
    "        for pred_len in constraint_levels_test[dataset][model].keys():\n",
    "        # Check if the difference between 0,1, and 1,2 is > 1e-5\n",
    "            if abs(constraint_levels_test[dataset][model][pred_len][0]-constraint_levels_test[dataset][model][pred_len][1])<1e-3:\n",
    "                display(Markdown(f\"**{dataset} {model} {pred_len}**\"))\n",
    "                display(constraint_levels_test[dataset][model][pred_len])\n"
   ]
  }
 ],
 "metadata": {
  "kernelspec": {
   "display_name": "Python 3 (ipykernel)",
   "language": "python",
   "name": "python3"
  },
  "language_info": {
   "codemirror_mode": {
    "name": "ipython",
    "version": 3
   },
   "file_extension": ".py",
   "mimetype": "text/x-python",
   "name": "python",
   "nbconvert_exporter": "python",
   "pygments_lexer": "ipython3",
   "version": "3.7.12"
  }
 },
 "nbformat": 4,
 "nbformat_minor": 5
}
