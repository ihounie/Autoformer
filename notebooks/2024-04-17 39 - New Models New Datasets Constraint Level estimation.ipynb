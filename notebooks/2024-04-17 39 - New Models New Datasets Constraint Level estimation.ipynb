{
 "cells": [
  {
   "cell_type": "markdown",
   "id": "3e514376",
   "metadata": {},
   "source": [
    "# 2024-03-06 39 - New Models Constraint Level\n"
   ]
  },
  {
   "cell_type": "markdown",
   "id": "91bcf98e",
   "metadata": {},
   "source": [
    "## Parameters"
   ]
  },
  {
   "cell_type": "markdown",
   "id": "461ef4b3",
   "metadata": {},
   "source": [
    "## Libraries and setup"
   ]
  },
  {
   "cell_type": "code",
   "execution_count": 1,
   "id": "31a718a8",
   "metadata": {},
   "outputs": [],
   "source": [
    "%load_ext autoreload\n",
    "%autoreload 2"
   ]
  },
  {
   "cell_type": "code",
   "execution_count": 2,
   "id": "57da5343",
   "metadata": {},
   "outputs": [],
   "source": [
    "import sys\n",
    "import os\n",
    "sys.path.append(os.path.abspath(os.path.join(os.getcwd(), os.pardir)))"
   ]
  },
  {
   "cell_type": "code",
   "execution_count": 3,
   "id": "d4db62bc",
   "metadata": {},
   "outputs": [],
   "source": [
    "import pandas as pd\n",
    "import numpy as np\n",
    "from matplotlib import pyplot as plt\n",
    "import seaborn as sns\n",
    "from IPython.display import Markdown, display"
   ]
  },
  {
   "cell_type": "code",
   "execution_count": 4,
   "id": "5bb34d2b",
   "metadata": {},
   "outputs": [],
   "source": [
    "from utils import wandb_utils"
   ]
  },
  {
   "cell_type": "markdown",
   "id": "92b12a3c",
   "metadata": {},
   "source": [
    "## Data Download"
   ]
  },
  {
   "cell_type": "code",
   "execution_count": 6,
   "id": "94bb3332",
   "metadata": {},
   "outputs": [
    {
     "name": "stderr",
     "output_type": "stream",
     "text": [
      "  5%|▌         | 3/60 [00:00<00:02, 26.81it/s]"
     ]
    },
    {
     "name": "stdout",
     "output_type": "stream",
     "text": [
      "WARNING!! Missing pointwise/cvar/0.01 in run z6kz9o4d on sweep <Sweep alelab/Autoformer/pcodejm5 (FINISHED)>. Filling all poitwisewith NAN.\n",
      "WARNING!! Missing pointwise/cvar/0.01 in run ljdxqmht on sweep <Sweep alelab/Autoformer/pcodejm5 (FINISHED)>. Filling all poitwisewith NAN.\n",
      "WARNING!! Missing pointwise/cvar/0.01 in run ir9pk3lh on sweep <Sweep alelab/Autoformer/pcodejm5 (FINISHED)>. Filling all poitwisewith NAN.\n",
      "WARNING!! Missing pointwise/cvar/0.01 in run 0u5b4zyq on sweep <Sweep alelab/Autoformer/pcodejm5 (FINISHED)>. Filling all poitwisewith NAN.\n",
      "WARNING!! Missing pointwise/cvar/0.01 in run tv7knask on sweep <Sweep alelab/Autoformer/pcodejm5 (FINISHED)>. Filling all poitwisewith NAN.\n",
      "WARNING!! Missing pointwise/cvar/0.01 in run ecffu7kw on sweep <Sweep alelab/Autoformer/pcodejm5 (FINISHED)>. Filling all poitwisewith NAN.\n",
      "WARNING!! Missing pointwise/cvar/0.01 in run brvouvx5 on sweep <Sweep alelab/Autoformer/pcodejm5 (FINISHED)>. Filling all poitwisewith NAN.\n",
      "WARNING!! Missing pointwise/cvar/0.01 in run 23dxo7xy on sweep <Sweep alelab/Autoformer/pcodejm5 (FINISHED)>. Filling all poitwisewith NAN.\n"
     ]
    },
    {
     "name": "stderr",
     "output_type": "stream",
     "text": [
      " 27%|██▋       | 16/60 [00:00<00:01, 38.24it/s]"
     ]
    },
    {
     "name": "stdout",
     "output_type": "stream",
     "text": [
      "WARNING!! Missing pointwise/cvar/0.01 in run coiuaeiq on sweep <Sweep alelab/Autoformer/pcodejm5 (FINISHED)>. Filling all poitwisewith NAN.\n",
      "WARNING!! Missing pointwise/cvar/0.01 in run 2lhbhxc3 on sweep <Sweep alelab/Autoformer/pcodejm5 (FINISHED)>. Filling all poitwisewith NAN.\n",
      "WARNING!! Missing pointwise/cvar/0.01 in run s6nnwy9r on sweep <Sweep alelab/Autoformer/pcodejm5 (FINISHED)>. Filling all poitwisewith NAN.\n",
      "WARNING!! Missing pointwise/cvar/0.01 in run czfae35h on sweep <Sweep alelab/Autoformer/pcodejm5 (FINISHED)>. Filling all poitwisewith NAN.\n",
      "WARNING!! Missing pointwise/cvar/0.01 in run 9khoj0f2 on sweep <Sweep alelab/Autoformer/yx4v9fdh (FINISHED)>. Filling all poitwisewith NAN.\n",
      "WARNING!! Missing pointwise/cvar/0.01 in run 53oes01x on sweep <Sweep alelab/Autoformer/yx4v9fdh (FINISHED)>. Filling all poitwisewith NAN.\n",
      "WARNING!! Missing pointwise/cvar/0.01 in run vgaeavml on sweep <Sweep alelab/Autoformer/yx4v9fdh (FINISHED)>. Filling all poitwisewith NAN.\n",
      "WARNING!! Missing pointwise/cvar/0.01 in run uygvj8di on sweep <Sweep alelab/Autoformer/yx4v9fdh (FINISHED)>. Filling all poitwisewith NAN.\n",
      "WARNING!! Missing pointwise/cvar/0.01 in run 989161un on sweep <Sweep alelab/Autoformer/yx4v9fdh (FINISHED)>. Filling all poitwisewith NAN.\n"
     ]
    },
    {
     "name": "stderr",
     "output_type": "stream",
     "text": [
      " 40%|████      | 24/60 [00:00<00:00, 39.07it/s]"
     ]
    },
    {
     "name": "stdout",
     "output_type": "stream",
     "text": [
      "WARNING!! Missing pointwise/cvar/0.01 in run w54fawmv on sweep <Sweep alelab/Autoformer/yx4v9fdh (FINISHED)>. Filling all poitwisewith NAN.\n",
      "WARNING!! Missing pointwise/cvar/0.01 in run 7bvnovg8 on sweep <Sweep alelab/Autoformer/yx4v9fdh (FINISHED)>. Filling all poitwisewith NAN.\n",
      "WARNING!! Missing pointwise/cvar/0.01 in run hnw778d7 on sweep <Sweep alelab/Autoformer/yx4v9fdh (FINISHED)>. Filling all poitwisewith NAN.\n",
      "WARNING!! Missing pointwise/cvar/0.01 in run lwqoi4bz on sweep <Sweep alelab/Autoformer/yx4v9fdh (FINISHED)>. Filling all poitwisewith NAN.\n",
      "WARNING!! Missing pointwise/cvar/0.01 in run s5yg6mvk on sweep <Sweep alelab/Autoformer/yx4v9fdh (FINISHED)>. Filling all poitwisewith NAN.\n",
      "WARNING!! Missing pointwise/cvar/0.01 in run nche0a44 on sweep <Sweep alelab/Autoformer/yx4v9fdh (FINISHED)>. Filling all poitwisewith NAN.\n",
      "WARNING!! Missing pointwise/cvar/0.01 in run jgrqnu7g on sweep <Sweep alelab/Autoformer/yx4v9fdh (FINISHED)>. Filling all poitwisewith NAN.\n",
      "WARNING!! Missing pointwise/cvar/0.01 in run 6bs3qdex on sweep <Sweep alelab/Autoformer/u0lojdmu (FINISHED)>. Filling all poitwisewith NAN.\n",
      "WARNING!! Missing pointwise/cvar/0.01 in run 5kguw0kl on sweep <Sweep alelab/Autoformer/u0lojdmu (FINISHED)>. Filling all poitwisewith NAN.\n"
     ]
    },
    {
     "name": "stderr",
     "output_type": "stream",
     "text": [
      " 55%|█████▌    | 33/60 [00:00<00:00, 38.61it/s]"
     ]
    },
    {
     "name": "stdout",
     "output_type": "stream",
     "text": [
      "WARNING!! Missing pointwise/cvar/0.01 in run s35nyyz5 on sweep <Sweep alelab/Autoformer/u0lojdmu (FINISHED)>. Filling all poitwisewith NAN.\n",
      "WARNING!! Missing pointwise/cvar/0.01 in run v7ulgng3 on sweep <Sweep alelab/Autoformer/u0lojdmu (FINISHED)>. Filling all poitwisewith NAN.\n",
      "WARNING!! Missing pointwise/cvar/0.01 in run fl0m6lyk on sweep <Sweep alelab/Autoformer/u0lojdmu (FINISHED)>. Filling all poitwisewith NAN.\n",
      "WARNING!! Missing pointwise/cvar/0.01 in run oadzjb4e on sweep <Sweep alelab/Autoformer/u0lojdmu (FINISHED)>. Filling all poitwisewith NAN.\n",
      "WARNING!! Missing pointwise/cvar/0.01 in run irz3wuvd on sweep <Sweep alelab/Autoformer/u0lojdmu (FINISHED)>. Filling all poitwisewith NAN.\n",
      "WARNING!! Missing pointwise/cvar/0.01 in run f5cv1n58 on sweep <Sweep alelab/Autoformer/u0lojdmu (FINISHED)>. Filling all poitwisewith NAN.\n",
      "WARNING!! Missing pointwise/cvar/0.01 in run st2116i4 on sweep <Sweep alelab/Autoformer/u0lojdmu (FINISHED)>. Filling all poitwisewith NAN.\n",
      "WARNING!! Missing pointwise/cvar/0.01 in run z0n1kzla on sweep <Sweep alelab/Autoformer/u0lojdmu (FINISHED)>. Filling all poitwisewith NAN.\n",
      "WARNING!! Missing pointwise/cvar/0.01 in run leonfqd6 on sweep <Sweep alelab/Autoformer/u0lojdmu (FINISHED)>. Filling all poitwisewith NAN.\n"
     ]
    },
    {
     "name": "stderr",
     "output_type": "stream",
     "text": [
      " 72%|███████▏  | 43/60 [00:01<00:00, 40.18it/s]"
     ]
    },
    {
     "name": "stdout",
     "output_type": "stream",
     "text": [
      "WARNING!! Missing pointwise/cvar/0.01 in run x04zqmxx on sweep <Sweep alelab/Autoformer/u0lojdmu (FINISHED)>. Filling all poitwisewith NAN.\n",
      "WARNING!! Missing pointwise/cvar/0.01 in run b42w3y1u on sweep <Sweep alelab/Autoformer/bqtrywm8 (FINISHED)>. Filling all poitwisewith NAN.\n",
      "WARNING!! Missing pointwise/cvar/0.01 in run wqy2uh2x on sweep <Sweep alelab/Autoformer/bqtrywm8 (FINISHED)>. Filling all poitwisewith NAN.\n",
      "WARNING!! Missing pointwise/cvar/0.01 in run mx0sx3gb on sweep <Sweep alelab/Autoformer/bqtrywm8 (FINISHED)>. Filling all poitwisewith NAN.\n",
      "WARNING!! Missing pointwise/cvar/0.01 in run r3ty5hvz on sweep <Sweep alelab/Autoformer/bqtrywm8 (FINISHED)>. Filling all poitwisewith NAN.\n",
      "WARNING!! Missing pointwise/cvar/0.01 in run fbvd59y4 on sweep <Sweep alelab/Autoformer/bqtrywm8 (FINISHED)>. Filling all poitwisewith NAN.\n",
      "WARNING!! Missing pointwise/cvar/0.01 in run bo1uuvkm on sweep <Sweep alelab/Autoformer/bqtrywm8 (FINISHED)>. Filling all poitwisewith NAN.\n",
      "WARNING!! Missing pointwise/cvar/0.01 in run iv6c5u7s on sweep <Sweep alelab/Autoformer/bqtrywm8 (FINISHED)>. Filling all poitwisewith NAN.\n",
      "WARNING!! Missing pointwise/cvar/0.01 in run mwq1wa1h on sweep <Sweep alelab/Autoformer/bqtrywm8 (FINISHED)>. Filling all poitwisewith NAN.\n",
      "WARNING!! Missing pointwise/cvar/0.01 in run rkkwtag4 on sweep <Sweep alelab/Autoformer/titj42q0 (FINISHED)>. Filling all poitwisewith NAN.\n"
     ]
    },
    {
     "name": "stderr",
     "output_type": "stream",
     "text": [
      " 82%|████████▏ | 49/60 [00:01<00:00, 43.65it/s]"
     ]
    },
    {
     "name": "stdout",
     "output_type": "stream",
     "text": [
      "WARNING!! Missing pointwise/cvar/0.01 in run uysc5mwd on sweep <Sweep alelab/Autoformer/titj42q0 (FINISHED)>. Filling all poitwisewith NAN.\n",
      "WARNING!! Missing pointwise/cvar/0.01 in run m6an8bf0 on sweep <Sweep alelab/Autoformer/titj42q0 (FINISHED)>. Filling all poitwisewith NAN.\n",
      "WARNING!! Missing pointwise/cvar/0.01 in run akovm61d on sweep <Sweep alelab/Autoformer/titj42q0 (FINISHED)>. Filling all poitwisewith NAN.\n",
      "WARNING!! Missing pointwise/cvar/0.01 in run h6i355fv on sweep <Sweep alelab/Autoformer/bqtrywm8 (FINISHED)>. Filling all poitwisewith NAN.\n",
      "WARNING!! Missing pointwise/cvar/0.01 in run 6gfdnrgl on sweep <Sweep alelab/Autoformer/titj42q0 (FINISHED)>. Filling all poitwisewith NAN.\n"
     ]
    },
    {
     "name": "stderr",
     "output_type": "stream",
     "text": [
      "100%|██████████| 60/60 [00:27<00:00,  2.15it/s]"
     ]
    },
    {
     "name": "stdout",
     "output_type": "stream",
     "text": [
      "WARNING!! Missing pointwise/cvar/0.01 in run mu0i3c1m on sweep <Sweep alelab/Autoformer/titj42q0 (FINISHED)>. Filling all poitwisewith NAN.\n",
      "WARNING!! Missing pointwise/cvar/0.01 in run 6lzlv5cj on sweep <Sweep alelab/Autoformer/titj42q0 (FINISHED)>. Filling all poitwisewith NAN.\n",
      "WARNING!! Missing pointwise/cvar/0.01 in run duktoqyo on sweep <Sweep alelab/Autoformer/titj42q0 (FINISHED)>. Filling all poitwisewith NAN.\n",
      "WARNING!! Missing pointwise/cvar/0.01 in run ifr8adio on sweep <Sweep alelab/Autoformer/bqtrywm8 (FINISHED)>. Filling all poitwisewith NAN.\n",
      "WARNING!! Missing pointwise/cvar/0.01 in run ctqnftx6 on sweep <Sweep alelab/Autoformer/titj42q0 (FINISHED)>. Filling all poitwisewith NAN.\n",
      "WARNING!! Missing pointwise/cvar/0.01 in run dko1vj5w on sweep <Sweep alelab/Autoformer/titj42q0 (FINISHED)>. Filling all poitwisewith NAN.\n",
      "WARNING!! Missing pointwise/cvar/0.01 in run xkfjq7y3 on sweep <Sweep alelab/Autoformer/titj42q0 (FINISHED)>. Filling all poitwisewith NAN.\n",
      "WARNING!! Missing pointwise/cvar/0.01 in run sybnlasw on sweep <Sweep alelab/Autoformer/bqtrywm8 (FINISHED)>. Filling all poitwisewith NAN.\n",
      "WARNING!! Missing pointwise/cvar/0.01 in run ori47ohy on sweep <Sweep alelab/Autoformer/titj42q0 (FINISHED)>. Filling all poitwisewith NAN.\n",
      "WARNING!! Missing pointwise/cvar/0.01 in run pa1dv6it on sweep <Sweep alelab/Autoformer/bqtrywm8 (FINISHED)>. Filling all poitwisewith NAN.\n",
      "Fetched 60 runs\n"
     ]
    },
    {
     "name": "stderr",
     "output_type": "stream",
     "text": [
      "\n"
     ]
    },
    {
     "name": "stdout",
     "output_type": "stream",
     "text": [
      "Total records: (49896, 120)\n",
      "Total runs: 60\n"
     ]
    }
   ],
   "source": [
    "from utils import wandb_utils\n",
    "# Todo save in a file\n",
    "\n",
    "df = wandb_utils.get_experiment_data(\"Autoformer\",\"alelab\",[\"e32_icml_erm_newdatasets_newmodels\"])"
   ]
  },
  {
   "cell_type": "code",
   "execution_count": 7,
   "id": "b3fc0bc0",
   "metadata": {},
   "outputs": [
    {
     "data": {
      "text/plain": [
       "0        erm\n",
       "1        erm\n",
       "2        erm\n",
       "3        erm\n",
       "4        erm\n",
       "        ... \n",
       "49891    erm\n",
       "49892    erm\n",
       "49893    erm\n",
       "49894    erm\n",
       "49895    erm\n",
       "Name: constraint_type, Length: 49896, dtype: object"
      ]
     },
     "execution_count": 7,
     "metadata": {},
     "output_type": "execute_result"
    }
   ],
   "source": [
    "erm_df=df.query(f'constraint_type==\"erm\" and split==\"train\"').copy()\n",
    "df.constraint_type"
   ]
  },
  {
   "cell_type": "markdown",
   "id": "770f1ed0",
   "metadata": {},
   "source": [
    "# Train constraints"
   ]
  },
  {
   "cell_type": "code",
   "execution_count": 8,
   "id": "7ab78706",
   "metadata": {},
   "outputs": [
    {
     "name": "stdout",
     "output_type": "stream",
     "text": [
      "Generating constraints based on the following runs (one per param set)\n",
      "['z6kz9o4d', 'ljdxqmht', 'ir9pk3lh', '0u5b4zyq', 'tv7knask', 'ecffu7kw', 'brvouvx5', '23dxo7xy', 'coiuaeiq', '2lhbhxc3', 's6nnwy9r', 'czfae35h', '9khoj0f2', '53oes01x', 'vgaeavml', 'uygvj8di', '989161un', 'w54fawmv', '7bvnovg8', 'hnw778d7', 'lwqoi4bz', 's5yg6mvk', 'nche0a44', 'jgrqnu7g', '6bs3qdex', '5kguw0kl', 's35nyyz5', 'v7ulgng3', 'fl0m6lyk', 'oadzjb4e', 'irz3wuvd', 'f5cv1n58', 'st2116i4', 'z0n1kzla', 'leonfqd6', 'x04zqmxx', 'b42w3y1u', 'wqy2uh2x', 'mx0sx3gb', 'r3ty5hvz', 'fbvd59y4', 'bo1uuvkm', 'iv6c5u7s', 'mwq1wa1h', 'rkkwtag4', 'uysc5mwd', 'm6an8bf0', 'akovm61d', 'h6i355fv', '6gfdnrgl', 'mu0i3c1m', '6lzlv5cj', 'duktoqyo', 'ifr8adio', 'ctqnftx6', 'dko1vj5w', 'xkfjq7y3', 'sybnlasw', 'ori47ohy', 'pa1dv6it']\n"
     ]
    },
    {
     "data": {
      "text/plain": [
       "{'ETTh1.csv': {'Nonstationary_Transformer': {96: [0.128, 0.133, 0.135],\n",
       "   192: [0.166, 0.168, 0.17],\n",
       "   336: [0.189, 0.191, 0.194],\n",
       "   720: [0.226, 0.233, 0.236]},\n",
       "  'Pyraformer': {96: [0.249, 0.261, 0.27],\n",
       "   192: [0.28, 0.284, 0.288],\n",
       "   336: [0.297, 0.301, 0.306],\n",
       "   720: [0.33, 0.336, 0.34]},\n",
       "  'iTransformer': {96: [0.249, 0.298, 0.337],\n",
       "   192: [0.32, 0.379, 0.434],\n",
       "   336: [0.398, 0.459, 0.505],\n",
       "   720: [0.51, 0.572, 0.634]}},\n",
       " 'ETTh2.csv': {'Nonstationary_Transformer': {96: [0.086, 0.099, 0.114],\n",
       "   192: [0.112, 0.145, 0.169],\n",
       "   336: [0.147, 0.194, 0.239],\n",
       "   720: [0.227, 0.329, 0.401]},\n",
       "  'Pyraformer': {96: [0.135, 0.148, 0.157],\n",
       "   192: [0.158, 0.168, 0.176],\n",
       "   336: [0.183, 0.191, 0.201],\n",
       "   720: [0.222, 0.235, 0.253]},\n",
       "  'iTransformer': {96: [0.154, 0.199, 0.24],\n",
       "   192: [0.22, 0.297, 0.338],\n",
       "   336: [0.306, 0.38, 0.459],\n",
       "   720: [0.419, 0.575, 0.729]}},\n",
       " 'ETTm1.csv': {'Nonstationary_Transformer': {96: [0.054, 0.058, 0.059],\n",
       "   192: [0.07, 0.073, 0.08],\n",
       "   336: [0.083, 0.092, 0.098],\n",
       "   720: [0.115, 0.123, 0.132]},\n",
       "  'Pyraformer': {96: [0.131, 0.143, 0.155],\n",
       "   192: [0.165, 0.175, 0.184],\n",
       "   336: [0.192, 0.204, 0.211],\n",
       "   720: [0.23, 0.237, 0.243]},\n",
       "  'iTransformer': {96: [0.164, 0.191, 0.201],\n",
       "   192: [0.218, 0.226, 0.278],\n",
       "   336: [0.243, 0.292, 0.332],\n",
       "   720: [0.325, 0.379, 0.423]}},\n",
       " 'ETTm2.csv': {'Nonstationary_Transformer': {96: [0.038, 0.043, 0.049],\n",
       "   192: [0.052, 0.061, 0.073],\n",
       "   336: [0.066, 0.086, 0.099],\n",
       "   720: [0.102, 0.124, 0.192]},\n",
       "  'Pyraformer': {96: [0.074, 0.084, 0.092],\n",
       "   192: [0.09, 0.096, 0.111],\n",
       "   336: [0.102, 0.11, 0.118],\n",
       "   720: [0.123, 0.133, 0.136]},\n",
       "  'iTransformer': {96: [0.083, 0.108, 0.128],\n",
       "   192: [0.123, 0.157, 0.191],\n",
       "   336: [0.17, 0.223, 0.261],\n",
       "   720: [0.245, 0.313, 0.408]}},\n",
       " 'national_illness.csv': {'Nonstationary_Transformer': {24: [0.36,\n",
       "    0.38,\n",
       "    0.403],\n",
       "   36: [0.36, 0.396, 0.419],\n",
       "   48: [0.445, 0.465, 0.474],\n",
       "   60: [0.412, 0.457, 0.473]},\n",
       "  'Pyraformer': {24: [0.296, 0.301, 0.31],\n",
       "   36: [0.321, 0.327, 0.336],\n",
       "   48: [0.342, 0.352, 0.374],\n",
       "   60: [0.372, 0.385, 0.41]},\n",
       "  'iTransformer': {24: [0.314, 0.383, 0.395],\n",
       "   36: [0.4, 0.413, 0.42],\n",
       "   48: [0.419, 0.442, 0.453],\n",
       "   60: [0.442, 0.462, 0.479]}}}"
      ]
     },
     "execution_count": 8,
     "metadata": {},
     "output_type": "execute_result"
    }
   ],
   "source": [
    "constraint_levels_train=wandb_utils.generate_constraint_levels(df)\n",
    "constraint_levels_train"
   ]
  },
  {
   "cell_type": "markdown",
   "id": "1009a2d4",
   "metadata": {},
   "source": [
    "# Val constraints"
   ]
  },
  {
   "cell_type": "code",
   "execution_count": 9,
   "id": "153c9c0c",
   "metadata": {},
   "outputs": [
    {
     "name": "stdout",
     "output_type": "stream",
     "text": [
      "Generating constraints based on the following runs (one per param set)\n",
      "['z6kz9o4d', 'ljdxqmht', 'ir9pk3lh', '0u5b4zyq', 'tv7knask', 'ecffu7kw', 'brvouvx5', '23dxo7xy', 'coiuaeiq', '2lhbhxc3', 's6nnwy9r', 'czfae35h', '9khoj0f2', '53oes01x', 'vgaeavml', 'uygvj8di', '989161un', 'w54fawmv', '7bvnovg8', 'hnw778d7', 'lwqoi4bz', 's5yg6mvk', 'nche0a44', 'jgrqnu7g', '6bs3qdex', '5kguw0kl', 's35nyyz5', 'v7ulgng3', 'fl0m6lyk', 'oadzjb4e', 'irz3wuvd', 'f5cv1n58', 'st2116i4', 'z0n1kzla', 'leonfqd6', 'x04zqmxx', 'b42w3y1u', 'wqy2uh2x', 'mx0sx3gb', 'r3ty5hvz', 'fbvd59y4', 'bo1uuvkm', 'iv6c5u7s', 'mwq1wa1h', 'rkkwtag4', 'uysc5mwd', 'm6an8bf0', 'akovm61d', 'h6i355fv', '6gfdnrgl', 'mu0i3c1m', '6lzlv5cj', 'duktoqyo', 'ifr8adio', 'ctqnftx6', 'dko1vj5w', 'xkfjq7y3', 'sybnlasw', 'ori47ohy', 'pa1dv6it']\n"
     ]
    },
    {
     "data": {
      "text/plain": [
       "{'ETTh1.csv': {'Nonstationary_Transformer': {96: [0.422, 0.451, 0.459],\n",
       "   192: [0.481, 0.531, 0.596],\n",
       "   336: [0.577, 0.639, 0.743],\n",
       "   720: [0.579, 0.648, 0.72]},\n",
       "  'Pyraformer': {96: [0.363, 0.43, 0.5],\n",
       "   192: [0.458, 0.544, 0.618],\n",
       "   336: [0.547, 0.692, 0.895],\n",
       "   720: [0.881, 1.053, 1.187]},\n",
       "  'iTransformer': {96: [0.321, 0.379, 0.412],\n",
       "   192: [0.364, 0.419, 0.439],\n",
       "   336: [0.411, 0.446, 0.483],\n",
       "   720: [0.397, 0.431, 0.466]}},\n",
       " 'ETTh2.csv': {'Nonstationary_Transformer': {96: [0.281, 0.371, 0.4],\n",
       "   192: [0.472, 0.517, 0.638],\n",
       "   336: [0.384, 0.523, 0.559],\n",
       "   720: [0.413, 0.437, 0.492]},\n",
       "  'Pyraformer': {96: [0.359, 0.766, 1.181],\n",
       "   192: [1.117, 1.519, 3.002],\n",
       "   336: [1.128, 1.631, 1.887],\n",
       "   720: [0.595, 0.682, 0.772]},\n",
       "  'iTransformer': {96: [0.239, 0.335, 0.373],\n",
       "   192: [0.32, 0.394, 0.474],\n",
       "   336: [0.352, 0.478, 0.503],\n",
       "   720: [0.373, 0.4, 0.425]}},\n",
       " 'ETTm1.csv': {'Nonstationary_Transformer': {96: [0.314, 0.351, 0.365],\n",
       "   192: [0.35, 0.394, 0.433],\n",
       "   336: [0.366, 0.452, 0.518],\n",
       "   720: [0.468, 0.514, 0.555]},\n",
       "  'Pyraformer': {96: [0.393, 0.427, 0.484],\n",
       "   192: [0.409, 0.452, 0.474],\n",
       "   336: [0.432, 0.468, 0.55],\n",
       "   720: [0.503, 0.688, 0.744]},\n",
       "  'iTransformer': {96: [0.284, 0.319, 0.323],\n",
       "   192: [0.313, 0.323, 0.399],\n",
       "   336: [0.315, 0.395, 0.45],\n",
       "   720: [0.381, 0.486, 0.503]}},\n",
       " 'ETTm2.csv': {'Nonstationary_Transformer': {96: [0.148, 0.19, 0.234],\n",
       "   192: [0.191, 0.296, 0.376],\n",
       "   336: [0.277, 0.369, 0.381],\n",
       "   720: [0.402, 0.437, 0.456]},\n",
       "  'Pyraformer': {96: [0.172, 0.202, 0.218],\n",
       "   192: [0.242, 0.256, 0.341],\n",
       "   336: [0.358, 0.486, 0.908],\n",
       "   720: [0.399, 1.115, 1.538]},\n",
       "  'iTransformer': {96: [0.127, 0.178, 0.21],\n",
       "   192: [0.175, 0.234, 0.336],\n",
       "   336: [0.226, 0.35, 0.397],\n",
       "   720: [0.353, 0.421, 0.479]}},\n",
       " 'national_illness.csv': {'Nonstationary_Transformer': {24: [0.296,\n",
       "    0.374,\n",
       "    0.425],\n",
       "   36: [0.242, 0.291, 0.332],\n",
       "   48: [0.251, 0.344, 0.443],\n",
       "   60: [0.209, 0.267, 0.602]},\n",
       "  'Pyraformer': {24: [0.219, 0.257, 0.291],\n",
       "   36: [0.185, 0.218, 0.24],\n",
       "   48: [0.167, 0.208, 0.291],\n",
       "   60: [0.114, 0.216, 0.317]},\n",
       "  'iTransformer': {24: [0.222, 0.242, 0.259],\n",
       "   36: [0.181, 0.217, 0.296],\n",
       "   48: [0.164, 0.235, 0.32],\n",
       "   60: [0.142, 0.195, 0.423]}}}"
      ]
     },
     "execution_count": 9,
     "metadata": {},
     "output_type": "execute_result"
    }
   ],
   "source": [
    "constraint_levels_test=wandb_utils.generate_constraint_levels(df,split='val')\n",
    "constraint_levels_test"
   ]
  },
  {
   "cell_type": "code",
   "execution_count": null,
   "metadata": {},
   "outputs": [],
   "source": [
    "# Sanity check Check if there are three distinct constraints on each\n",
    "for dataset in constraint_levels_test.keys():\n",
    "    for model in constraint_levels_test[dataset].keys():\n",
    "        for pred_len in constraint_levels_test[dataset][model].keys():\n",
    "        # Check if the difference between 0,1, and 1,2 is > 1e-5\n",
    "            if abs(constraint_levels_test[dataset][model][pred_len][0]-constraint_levels_test[dataset][model][pred_len][1])<1e-3:\n",
    "                display(Markdown(f\"**{dataset} {model} {pred_len}**\"))\n",
    "                display(constraint_levels_test[dataset][model][pred_len])\n"
   ]
  },
  {
   "cell_type": "code",
   "execution_count": null,
   "id": "5ec3e3b5",
   "metadata": {},
   "outputs": [],
   "source": []
  }
 ],
 "metadata": {
  "kernelspec": {
   "display_name": "Python 3 (ipykernel)",
   "language": "python",
   "name": "python3"
  },
  "language_info": {
   "codemirror_mode": {
    "name": "ipython",
    "version": 3
   },
   "file_extension": ".py",
   "mimetype": "text/x-python",
   "name": "python",
   "nbconvert_exporter": "python",
   "pygments_lexer": "ipython3",
   "version": "3.7.12"
  }
 },
 "nbformat": 4,
 "nbformat_minor": 5
}
