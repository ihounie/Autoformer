{
 "cells": [
  {
   "cell_type": "markdown",
   "id": "461ef4b3",
   "metadata": {},
   "source": [
    "## Libraries and setup"
   ]
  },
  {
   "cell_type": "code",
   "execution_count": 2,
   "id": "31a718a8",
   "metadata": {},
   "outputs": [],
   "source": [
    "%load_ext autoreload\n",
    "%autoreload 2"
   ]
  },
  {
   "cell_type": "code",
   "execution_count": 3,
   "id": "57da5343",
   "metadata": {},
   "outputs": [],
   "source": [
    "import sys\n",
    "import os\n",
    "sys.path.append(os.path.abspath(os.path.join(os.getcwd(), os.pardir)))"
   ]
  },
  {
   "cell_type": "code",
   "execution_count": 4,
   "id": "d4db62bc",
   "metadata": {},
   "outputs": [],
   "source": [
    "import pandas as pd\n",
    "import numpy as np\n",
    "from matplotlib import pyplot as plt\n",
    "import seaborn as sns\n",
    "from IPython.display import display, Markdown, Latex"
   ]
  },
  {
   "cell_type": "code",
   "execution_count": 5,
   "id": "5bb34d2b",
   "metadata": {},
   "outputs": [],
   "source": [
    "from utils import wandb_utils\n",
    "from exp import data_backup"
   ]
  },
  {
   "cell_type": "code",
   "execution_count": null,
   "id": "c7a1bd07",
   "metadata": {},
   "outputs": [],
   "source": [
    "experiment_tags = ['e29_icml_erm_newdatasets']\n",
    "\n",
    "backup_data=wandb_utils.get_experiment_data(\"Autoformer\",\"alelab\",experiment_tags=experiment_tags,query_dict={\"tags\": {\"$in\": experiment_tags}})"
   ]
  },
  {
   "cell_type": "code",
   "execution_count": null,
   "id": "01fc5579",
   "metadata": {},
   "outputs": [],
   "source": [
    "backup_data.to_pickle(\"../data_backups/2024_03_26__icml_rebuttals_erm_newdatasets_backup_data.pkl\")\n",
    "backup_data.to_csv(\"../data_backups/2024_03_26_icml_rebuttals_erm_newdatasets_backup_data.csv\",index=False)"
   ]
  },
  {
   "cell_type": "code",
   "execution_count": null,
   "id": "604d0dd4",
   "metadata": {},
   "outputs": [],
   "source": [
    "# Koopa\n",
    "from utils import wandb_utils\n",
    "# Todo save in a file\n",
    "\n",
    "backup_data = wandb_utils.get_experiment_data(\"Autoformer\",\"alelab\",[\"e22_icml_koopa_erm\",\"e24_icml_koopa_constrained_val\",\"e23_icml_koopa_constrained_train\"])\n",
    "backup_data.to_pickle(\"../data_backups/2024_03_26__icml_rebuttals_erm_newdatasets_backup_data.pkl\")\n",
    "backup_data.to_csv(\"../data_backups/2024_03_26_icml_rebuttals_erm_newdatasets_backup_data.csv\",index=False)"
   ]
  },
  {
   "cell_type": "markdown",
   "id": "ba2f5492",
   "metadata": {},
   "source": [
    "## March 28 Backup new models"
   ]
  },
  {
   "cell_type": "code",
   "execution_count": null,
   "id": "711bafd6",
   "metadata": {},
   "outputs": [],
   "source": [
    "wandb_utils.get_experiment_data(\"Autoformer\",\"alelab\",experiment_tags=[\"\"])"
   ]
  },
  {
   "cell_type": "code",
   "execution_count": 7,
   "id": "cc0e49a9",
   "metadata": {},
   "outputs": [
    {
     "name": "stdout",
     "output_type": "stream",
     "text": [
      "Experiment tags being considered: ['e29_icml_constrained_newmodels', 'erm_rebuttal_newmodels']\n",
      "Saving to backup data filename: ../data_backups/2024_03_29__newmodels_erm_and_constrained\n"
     ]
    },
    {
     "name": "stderr",
     "output_type": "stream",
     "text": [
      "  1%|          | 3/435 [00:00<00:17, 24.70it/s]"
     ]
    },
    {
     "name": "stdout",
     "output_type": "stream",
     "text": [
      "WARNING!! Missing pointwise/cvar/0.01 in run s58ay3m0 on sweep None. Filling all poitwisewith NAN.\n",
      "WARNING!! Missing pointwise/cvar/0.01 in run p21g10is on sweep None. Filling all poitwisewith NAN.\n",
      "WARNING!! Missing pointwise/cvar/0.01 in run stug6yj5 on sweep None. Filling all poitwisewith NAN.\n",
      "WARNING!! Missing pointwise/cvar/0.01 in run hshzha1u on sweep None. Filling all poitwisewith NAN.\n",
      "WARNING!! Missing pointwise/cvar/0.01 in run wm6uys73 on sweep None. Filling all poitwisewith NAN.\n",
      "WARNING!! Missing pointwise/cvar/0.01 in run n6tezaub on sweep None. Filling all poitwisewith NAN.\n",
      "WARNING!! Missing pointwise/cvar/0.01 in run zbuz6u0y on sweep None. Filling all poitwisewith NAN.\n",
      "WARNING!! Missing pointwise/cvar/0.01 in run yxa77ngz on sweep None. Filling all poitwisewith NAN.\n",
      "WARNING!! Missing pointwise/cvar/0.01 in run zp05w6s5 on sweep None. Filling all poitwisewith NAN.\n",
      "WARNING!! Missing pointwise/cvar/0.01 in run h5nx6zca on sweep None. Filling all poitwisewith NAN.\n",
      "WARNING!! Missing pointwise/cvar/0.01 in run dguxgsg4 on sweep None. Filling all poitwisewith NAN.\n",
      "WARNING!! Missing pointwise/cvar/0.01 in run 49k2hw6x on sweep None. Filling all poitwisewith NAN.\n",
      "WARNING!! Missing pointwise/cvar/0.01 in run 4z4j0npo on sweep None. Filling all poitwisewith NAN.\n",
      "WARNING!! Missing pointwise/cvar/0.01 in run hpete4jg on sweep None. Filling all poitwisewith NAN.\n"
     ]
    },
    {
     "name": "stderr",
     "output_type": "stream",
     "text": [
      "  5%|▍         | 21/435 [00:00<00:06, 63.79it/s]"
     ]
    },
    {
     "name": "stdout",
     "output_type": "stream",
     "text": [
      "WARNING!! Missing pointwise/cvar/0.01 in run 5ay81ift on sweep None. Filling all poitwisewith NAN.\n",
      "WARNING!! Missing pointwise/cvar/0.01 in run nsjylp83 on sweep None. Filling all poitwisewith NAN.\n",
      "WARNING!! Missing pointwise/cvar/0.01 in run n9j1ibxe on sweep None. Filling all poitwisewith NAN.\n",
      "WARNING!! Missing pointwise/cvar/0.01 in run vndzrwhz on sweep None. Filling all poitwisewith NAN.\n",
      "WARNING!! Missing pointwise/cvar/0.01 in run z3w4o0sa on sweep None. Filling all poitwisewith NAN.\n",
      "WARNING!! Missing pointwise/cvar/0.01 in run l8uwbvcs on sweep None. Filling all poitwisewith NAN.\n",
      "WARNING!! Missing pointwise/cvar/0.01 in run fhipdebm on sweep None. Filling all poitwisewith NAN.\n",
      "WARNING!! Missing pointwise/cvar/0.01 in run wc50vx6p on sweep None. Filling all poitwisewith NAN.\n",
      "WARNING!! Missing pointwise/cvar/0.01 in run 8yx6rbpq on sweep None. Filling all poitwisewith NAN.\n",
      "WARNING!! Missing pointwise/cvar/0.01 in run y362abye on sweep None. Filling all poitwisewith NAN.\n"
     ]
    },
    {
     "name": "stderr",
     "output_type": "stream",
     "text": [
      " 11%|█         | 48/435 [00:01<00:16, 23.67it/s]"
     ]
    },
    {
     "name": "stdout",
     "output_type": "stream",
     "text": [
      "WARNING!! Missing pointwise/cvar/0.01 in run y2shj0jp on sweep None. Filling all poitwisewith NAN.\n",
      "WARNING!! Missing pointwise/cvar/0.01 in run v1xbb1y6 on sweep None. Filling all poitwisewith NAN.\n",
      "WARNING!! Missing pointwise/cvar/0.01 in run ioqcw2my on sweep None. Filling all poitwisewith NAN.\n",
      "WARNING!! Missing pointwise/cvar/0.01 in run uxw2u4a3 on sweep None. Filling all poitwisewith NAN.\n",
      "WARNING!! Missing pointwise/cvar/0.01 in run nw7ueak2 on sweep None. Filling all poitwisewith NAN.\n",
      "WARNING!! Missing pointwise/cvar/0.01 in run j2ti6pgx on sweep None. Filling all poitwisewith NAN.\n",
      "WARNING!! Missing pointwise/cvar/0.01 in run 8e4vovxv on sweep None. Filling all poitwisewith NAN.\n",
      "WARNING!! Missing pointwise/cvar/0.01 in run aqnlb3kb on sweep None. Filling all poitwisewith NAN.\n",
      "WARNING!! Missing pointwise/cvar/0.01 in run zmfmtrln on sweep None. Filling all poitwisewith NAN.\n",
      "WARNING!! Missing pointwise/cvar/0.01 in run n3trroyo on sweep None. Filling all poitwisewith NAN.\n",
      "WARNING!! Missing pointwise/cvar/0.01 in run 5h6t5jdp on sweep None. Filling all poitwisewith NAN.\n"
     ]
    },
    {
     "name": "stderr",
     "output_type": "stream",
     "text": [
      " 14%|█▍        | 63/435 [00:12<02:11,  2.84it/s]"
     ]
    },
    {
     "name": "stdout",
     "output_type": "stream",
     "text": [
      "WARNING!! Missing pointwise/cvar/0.01 in run vhos4w71 on sweep None. Filling all poitwisewith NAN.\n",
      "WARNING!! Missing pointwise/cvar/0.01 in run t1h4xl81 on sweep None. Filling all poitwisewith NAN.\n",
      "WARNING!! Missing pointwise/cvar/0.01 in run de95idxd on sweep None. Filling all poitwisewith NAN.\n",
      "WARNING!! Missing pointwise/cvar/0.01 in run i9ik77m6 on sweep None. Filling all poitwisewith NAN.\n",
      "WARNING!! Missing pointwise/cvar/0.01 in run xaxgfja0 on sweep None. Filling all poitwisewith NAN.\n",
      "WARNING!! Missing pointwise/cvar/0.01 in run yzj1figh on sweep None. Filling all poitwisewith NAN.\n",
      "WARNING!! Missing pointwise/cvar/0.01 in run jvxuhk02 on sweep None. Filling all poitwisewith NAN.\n",
      "WARNING!! Missing pointwise/cvar/0.01 in run qholfpw3 on sweep None. Filling all poitwisewith NAN.\n",
      "WARNING!! Missing pointwise/cvar/0.01 in run xohdhaw9 on sweep None. Filling all poitwisewith NAN.\n",
      "WARNING!! Missing pointwise/cvar/0.01 in run on4iqkv8 on sweep None. Filling all poitwisewith NAN.\n",
      "WARNING!! Missing pointwise/cvar/0.01 in run 9ar4zrl8 on sweep None. Filling all poitwisewith NAN.\n"
     ]
    },
    {
     "name": "stderr",
     "output_type": "stream",
     "text": [
      " 16%|█▌        | 70/435 [00:13<01:31,  3.98it/s]"
     ]
    },
    {
     "name": "stdout",
     "output_type": "stream",
     "text": [
      "WARNING!! Missing pointwise/cvar/0.01 in run vdvf9ff4 on sweep None. Filling all poitwisewith NAN.\n",
      "WARNING!! Missing pointwise/cvar/0.01 in run rvmv3dg1 on sweep None. Filling all poitwisewith NAN.\n",
      "WARNING!! Missing pointwise/cvar/0.01 in run 2mcf591u on sweep None. Filling all poitwisewith NAN.\n",
      "WARNING!! Missing pointwise/cvar/0.01 in run ethubm8w on sweep None. Filling all poitwisewith NAN.\n",
      "WARNING!! Missing pointwise/cvar/0.01 in run lov1z8ya on sweep None. Filling all poitwisewith NAN.\n",
      "WARNING!! Missing pointwise/cvar/0.01 in run fzhiykh0 on sweep None. Filling all poitwisewith NAN.\n"
     ]
    },
    {
     "name": "stderr",
     "output_type": "stream",
     "text": [
      " 19%|█▉        | 82/435 [00:13<00:50,  6.93it/s]"
     ]
    },
    {
     "name": "stdout",
     "output_type": "stream",
     "text": [
      "WARNING!! Missing pointwise/cvar/0.01 in run e8cqxvar on sweep None. Filling all poitwisewith NAN.\n",
      "WARNING!! Missing pointwise/cvar/0.01 in run bht8asxi on sweep None. Filling all poitwisewith NAN.\n",
      "WARNING!! Missing pointwise/cvar/0.01 in run zdmkeifg on sweep None. Filling all poitwisewith NAN.\n"
     ]
    },
    {
     "name": "stderr",
     "output_type": "stream",
     "text": [
      " 21%|██        | 90/435 [00:13<00:34, 10.12it/s]"
     ]
    },
    {
     "name": "stdout",
     "output_type": "stream",
     "text": [
      "WARNING!! Missing pointwise/cvar/0.01 in run g15gr0ii on sweep None. Filling all poitwisewith NAN.\n",
      "WARNING!! Missing pointwise/cvar/0.01 in run qxtzwike on sweep None. Filling all poitwisewith NAN.\n",
      "WARNING!! Missing pointwise/cvar/0.01 in run 4k212pi5 on sweep None. Filling all poitwisewith NAN.\n",
      "WARNING!! Missing pointwise/cvar/0.01 in run g5v8kf6o on sweep None. Filling all poitwisewith NAN.\n",
      "WARNING!! Missing pointwise/cvar/0.01 in run 5uz71aw0 on sweep None. Filling all poitwisewith NAN.\n",
      "WARNING!! Missing pointwise/cvar/0.01 in run ahasa3n1 on sweep None. Filling all poitwisewith NAN.\n",
      "WARNING!! Missing pointwise/cvar/0.01 in run bf1phk0w on sweep None. Filling all poitwisewith NAN.\n",
      "WARNING!! Missing pointwise/cvar/0.01 in run e6k05jwv on sweep None. Filling all poitwisewith NAN.\n"
     ]
    },
    {
     "name": "stderr",
     "output_type": "stream",
     "text": [
      " 22%|██▏       | 96/435 [00:13<00:27, 12.49it/s]"
     ]
    },
    {
     "name": "stdout",
     "output_type": "stream",
     "text": [
      "WARNING!! Missing pointwise/cvar/0.01 in run nj41npu4 on sweep None. Filling all poitwisewith NAN.\n",
      "WARNING!! Missing pointwise/cvar/0.01 in run 94g7k09h on sweep None. Filling all poitwisewith NAN.\n",
      "WARNING!! Missing pointwise/cvar/0.01 in run ib23rixk on sweep None. Filling all poitwisewith NAN.\n"
     ]
    },
    {
     "name": "stderr",
     "output_type": "stream",
     "text": [
      " 25%|██▍       | 107/435 [00:23<02:02,  2.68it/s]"
     ]
    },
    {
     "name": "stdout",
     "output_type": "stream",
     "text": [
      "WARNING!! Missing pointwise/cvar/0.01 in run 0bmeup5p on sweep None. Filling all poitwisewith NAN.\n",
      "WARNING!! Missing pointwise/cvar/0.01 in run d586v0au on sweep None. Filling all poitwisewith NAN.\n",
      "WARNING!! Missing pointwise/cvar/0.01 in run 75tg177j on sweep None. Filling all poitwisewith NAN.\n",
      "WARNING!! Missing pointwise/cvar/0.01 in run rvo6altq on sweep None. Filling all poitwisewith NAN.\n"
     ]
    },
    {
     "name": "stderr",
     "output_type": "stream",
     "text": [
      " 27%|██▋       | 118/435 [00:23<01:02,  5.09it/s]"
     ]
    },
    {
     "name": "stdout",
     "output_type": "stream",
     "text": [
      "WARNING!! Missing pointwise/cvar/0.01 in run hmi3lxxs on sweep None. Filling all poitwisewith NAN.\n",
      "WARNING!! Missing pointwise/cvar/0.01 in run 9hu9f3df on sweep None. Filling all poitwisewith NAN.\n",
      "WARNING!! Missing pointwise/cvar/0.01 in run c3zzb05x on sweep None. Filling all poitwisewith NAN.\n",
      "WARNING!! Missing pointwise/cvar/0.01 in run vjbq485j on sweep None. Filling all poitwisewith NAN.\n"
     ]
    },
    {
     "name": "stderr",
     "output_type": "stream",
     "text": [
      " 31%|███       | 133/435 [00:23<00:27, 11.15it/s]"
     ]
    },
    {
     "name": "stdout",
     "output_type": "stream",
     "text": [
      "WARNING!! Missing pointwise/cvar/0.01 in run b7s8jptd on sweep None. Filling all poitwisewith NAN.\n",
      "WARNING!! Missing pointwise/cvar/0.01 in run nilwbio1 on sweep None. Filling all poitwisewith NAN.\n"
     ]
    },
    {
     "name": "stderr",
     "output_type": "stream",
     "text": [
      " 34%|███▍      | 149/435 [00:23<00:12, 23.26it/s]"
     ]
    },
    {
     "name": "stdout",
     "output_type": "stream",
     "text": [
      "WARNING!! Missing pointwise/cvar/0.01 in run jgykcbi0 on sweep None. Filling all poitwisewith NAN.\n",
      "WARNING!! Missing pointwise/cvar/0.01 in run ci9ssydd on sweep None. Filling all poitwisewith NAN.\n"
     ]
    },
    {
     "name": "stderr",
     "output_type": "stream",
     "text": [
      " 35%|███▌      | 154/435 [00:35<02:40,  1.75it/s]"
     ]
    },
    {
     "name": "stdout",
     "output_type": "stream",
     "text": [
      "WARNING!! Missing pointwise/cvar/0.01 in run q3x2oux3 on sweep None. Filling all poitwisewith NAN.\n",
      "WARNING!! Missing pointwise/cvar/0.01 in run 1sae8gpd on sweep None. Filling all poitwisewith NAN.\n",
      "WARNING!! Missing pointwise/cvar/0.01 in run rnbsyq2k on sweep None. Filling all poitwisewith NAN.\n"
     ]
    },
    {
     "name": "stderr",
     "output_type": "stream",
     "text": [
      " 38%|███▊      | 166/435 [00:36<01:09,  3.90it/s]"
     ]
    },
    {
     "name": "stdout",
     "output_type": "stream",
     "text": [
      "WARNING!! Missing pointwise/cvar/0.01 in run mw9t2ygl on sweep None. Filling all poitwisewith NAN.\n",
      "WARNING!! Missing pointwise/cvar/0.01 in run nmhkgaj4 on sweep None. Filling all poitwisewith NAN.\n",
      "WARNING!! Missing pointwise/cvar/0.01 in run 9tq2l1wl on sweep None. Filling all poitwisewith NAN.\n",
      "WARNING!! Missing pointwise/cvar/0.01 in run 3d6irhz4 on sweep None. Filling all poitwisewith NAN.\n",
      "WARNING!! Missing pointwise/cvar/0.01 in run vq41zuoi on sweep None. Filling all poitwisewith NAN.\n",
      "WARNING!! Missing pointwise/cvar/0.01 in run qiuxoy0c on sweep None. Filling all poitwisewith NAN.\n",
      "WARNING!! Missing pointwise/cvar/0.01 in run weed7tdo on sweep None. Filling all poitwisewith NAN.\n"
     ]
    },
    {
     "name": "stderr",
     "output_type": "stream",
     "text": [
      " 43%|████▎     | 185/435 [00:36<00:24, 10.14it/s]"
     ]
    },
    {
     "name": "stdout",
     "output_type": "stream",
     "text": [
      "WARNING!! Missing pointwise/cvar/0.01 in run srfnlxpq on sweep None. Filling all poitwisewith NAN.\n",
      "WARNING!! Missing pointwise/cvar/0.01 in run c1vx993c on sweep None. Filling all poitwisewith NAN.\n",
      "WARNING!! Missing pointwise/cvar/0.01 in run t3d3ccl4 on sweep None. Filling all poitwisewith NAN.\n",
      "WARNING!! Missing pointwise/cvar/0.01 in run eapt3xmk on sweep None. Filling all poitwisewith NAN.\n",
      "WARNING!! Missing pointwise/cvar/0.01 in run jrzlhrti on sweep None. Filling all poitwisewith NAN.\n",
      "WARNING!! Missing pointwise/cvar/0.01 in run 45c4k79u on sweep None. Filling all poitwisewith NAN.\n",
      "WARNING!! Missing pointwise/cvar/0.01 in run w08o24yz on sweep None. Filling all poitwisewith NAN.\n"
     ]
    },
    {
     "name": "stderr",
     "output_type": "stream",
     "text": [
      " 44%|████▍     | 192/435 [00:36<00:18, 13.35it/s]"
     ]
    },
    {
     "name": "stdout",
     "output_type": "stream",
     "text": [
      "WARNING!! Missing pointwise/cvar/0.01 in run dee09yde on sweep None. Filling all poitwisewith NAN.\n",
      "WARNING!! Missing pointwise/cvar/0.01 in run jeox5e14 on sweep None. Filling all poitwisewith NAN.\n",
      "WARNING!! Missing pointwise/cvar/0.01 in run f4i2vy5f on sweep None. Filling all poitwisewith NAN.\n"
     ]
    },
    {
     "name": "stderr",
     "output_type": "stream",
     "text": [
      " 48%|████▊     | 210/435 [00:50<01:54,  1.96it/s]"
     ]
    },
    {
     "name": "stdout",
     "output_type": "stream",
     "text": [
      "WARNING!! Missing pointwise/cvar/0.01 in run 9j5ucy1q on sweep None. Filling all poitwisewith NAN.\n"
     ]
    },
    {
     "name": "stderr",
     "output_type": "stream",
     "text": [
      " 51%|█████     | 221/435 [00:51<01:00,  3.53it/s]"
     ]
    },
    {
     "name": "stdout",
     "output_type": "stream",
     "text": [
      "WARNING!! Missing pointwise/cvar/0.01 in run pz2q44tg on sweep None. Filling all poitwisewith NAN.\n"
     ]
    },
    {
     "name": "stderr",
     "output_type": "stream",
     "text": [
      " 56%|█████▌    | 244/435 [00:51<00:15, 12.20it/s]"
     ]
    },
    {
     "name": "stdout",
     "output_type": "stream",
     "text": [
      "WARNING!! Missing pointwise/cvar/0.01 in run i0sw2399 on sweep None. Filling all poitwisewith NAN.\n"
     ]
    },
    {
     "name": "stderr",
     "output_type": "stream",
     "text": [
      " 58%|█████▊    | 253/435 [01:01<02:08,  1.41it/s]"
     ]
    },
    {
     "name": "stdout",
     "output_type": "stream",
     "text": [
      "WARNING!! Missing pointwise/cvar/0.01 in run brnnlxww on sweep None. Filling all poitwisewith NAN.\n"
     ]
    },
    {
     "name": "stderr",
     "output_type": "stream",
     "text": [
      " 66%|██████▋   | 289/435 [01:02<00:09, 15.37it/s]"
     ]
    },
    {
     "name": "stdout",
     "output_type": "stream",
     "text": [
      "WARNING!! Missing pointwise/cvar/0.01 in run vkhak17v on sweep None. Filling all poitwisewith NAN.\n"
     ]
    },
    {
     "name": "stderr",
     "output_type": "stream",
     "text": [
      " 69%|██████▊   | 298/435 [01:03<00:06, 22.24it/s]"
     ]
    },
    {
     "name": "stdout",
     "output_type": "stream",
     "text": [
      "WARNING!! Missing pointwise/cvar/0.01 in run fscgpgxx on sweep None. Filling all poitwisewith NAN.\n"
     ]
    },
    {
     "name": "stderr",
     "output_type": "stream",
     "text": [
      " 70%|██████▉   | 303/435 [01:15<01:46,  1.24it/s]"
     ]
    },
    {
     "name": "stdout",
     "output_type": "stream",
     "text": [
      "WARNING!! Missing pointwise/cvar/0.01 in run o1qr4wlh on sweep None. Filling all poitwisewith NAN.\n"
     ]
    },
    {
     "name": "stderr",
     "output_type": "stream",
     "text": [
      " 75%|███████▌  | 328/435 [01:16<00:13,  7.89it/s]"
     ]
    },
    {
     "name": "stdout",
     "output_type": "stream",
     "text": [
      "WARNING!! Missing pointwise/cvar/0.01 in run yeo1bibv on sweep None. Filling all poitwisewith NAN.\n",
      "!!!!! WARNING: Missing key stepwise metric in run. Skipping yeo1bibv mse/train/0\n",
      "Run skipped yeo1bibv\n",
      "WARNING!! Missing pointwise/cvar/0.01 in run flfhnh21 on sweep None. Filling all poitwisewith NAN.\n",
      "WARNING!! Missing pointwise/cvar/0.01 in run r3a2a0rf on sweep None. Filling all poitwisewith NAN.\n"
     ]
    },
    {
     "name": "stderr",
     "output_type": "stream",
     "text": [
      " 80%|████████  | 349/435 [01:16<00:04, 18.32it/s]"
     ]
    },
    {
     "name": "stdout",
     "output_type": "stream",
     "text": [
      "WARNING!! Missing pointwise/cvar/0.01 in run 9yc098dp on sweep None. Filling all poitwisewith NAN.\n",
      "WARNING!! Missing pointwise/cvar/0.01 in run m51a450t on sweep None. Filling all poitwisewith NAN.\n",
      "WARNING!! Missing pointwise/cvar/0.01 in run 8x8owqor on sweep None. Filling all poitwisewith NAN.\n",
      "WARNING!! Missing pointwise/cvar/0.01 in run f931uh1f on sweep None. Filling all poitwisewith NAN.\n",
      "WARNING!! Missing pointwise/cvar/0.01 in run ssafm6eb on sweep None. Filling all poitwisewith NAN.\n",
      "WARNING!! Missing pointwise/cvar/0.01 in run kgbhb6bl on sweep None. Filling all poitwisewith NAN.\n",
      "WARNING!! Missing pointwise/cvar/0.01 in run bkmm7akj on sweep None. Filling all poitwisewith NAN.\n",
      "WARNING!! Missing pointwise/cvar/0.01 in run t263h1g9 on sweep None. Filling all poitwisewith NAN.\n",
      "WARNING!! Missing pointwise/cvar/0.01 in run r14lwuth on sweep None. Filling all poitwisewith NAN.\n"
     ]
    },
    {
     "name": "stderr",
     "output_type": "stream",
     "text": [
      " 84%|████████▍ | 365/435 [01:25<00:17,  4.07it/s]"
     ]
    },
    {
     "name": "stdout",
     "output_type": "stream",
     "text": [
      "WARNING!! Missing pointwise/cvar/0.01 in run f6i33ek3 on sweep None. Filling all poitwisewith NAN.\n",
      "!!!!! WARNING: Missing key stepwise metric in run. Skipping f6i33ek3 mse/train/0\n",
      "Run skipped f6i33ek3\n",
      "WARNING!! Missing pointwise/cvar/0.01 in run od3h0xqs on sweep None. Filling all poitwisewith NAN.\n",
      "!!!!! WARNING: Missing key stepwise metric in run. Skipping od3h0xqs mse/train/0\n",
      "Run skipped od3h0xqs\n",
      "WARNING!! Missing pointwise/cvar/0.01 in run 8st2iumu on sweep None. Filling all poitwisewith NAN.\n",
      "WARNING!! Missing pointwise/cvar/0.01 in run vptrhcxf on sweep None. Filling all poitwisewith NAN.\n",
      "WARNING!! Missing pointwise/cvar/0.01 in run 0ps2eaux on sweep None. Filling all poitwisewith NAN.\n",
      "WARNING!! Missing pointwise/cvar/0.01 in run ra765y90 on sweep None. Filling all poitwisewith NAN.\n",
      "WARNING!! Missing pointwise/cvar/0.01 in run qulznobb on sweep None. Filling all poitwisewith NAN.\n"
     ]
    },
    {
     "name": "stderr",
     "output_type": "stream",
     "text": [
      " 87%|████████▋ | 379/435 [01:25<00:07,  7.31it/s]"
     ]
    },
    {
     "name": "stdout",
     "output_type": "stream",
     "text": [
      "WARNING!! Missing pointwise/cvar/0.01 in run av75thvu on sweep None. Filling all poitwisewith NAN.\n",
      "WARNING!! Missing pointwise/cvar/0.01 in run 96wcnklv on sweep None. Filling all poitwisewith NAN.\n",
      "WARNING!! Missing pointwise/cvar/0.01 in run hi58ycu8 on sweep None. Filling all poitwisewith NAN.\n",
      "WARNING!! Missing pointwise/cvar/0.01 in run ugo2sq09 on sweep None. Filling all poitwisewith NAN.\n",
      "WARNING!! Missing pointwise/cvar/0.01 in run c2nb9f6u on sweep None. Filling all poitwisewith NAN.\n",
      "WARNING!! Missing pointwise/cvar/0.01 in run 4su66w4s on sweep None. Filling all poitwisewith NAN.\n",
      "WARNING!! Missing pointwise/cvar/0.01 in run 3l8p07md on sweep None. Filling all poitwisewith NAN.\n"
     ]
    },
    {
     "name": "stderr",
     "output_type": "stream",
     "text": [
      " 91%|█████████▏| 397/435 [01:25<00:02, 14.58it/s]"
     ]
    },
    {
     "name": "stdout",
     "output_type": "stream",
     "text": [
      "WARNING!! Missing pointwise/cvar/0.01 in run vsrqp2wj on sweep None. Filling all poitwisewith NAN.\n",
      "WARNING!! Missing pointwise/cvar/0.01 in run x68ozuxw on sweep None. Filling all poitwisewith NAN.\n"
     ]
    },
    {
     "name": "stderr",
     "output_type": "stream",
     "text": [
      " 96%|█████████▌| 416/435 [01:48<00:09,  2.03it/s]"
     ]
    },
    {
     "name": "stdout",
     "output_type": "stream",
     "text": [
      "WARNING!! Missing pointwise/cvar/0.01 in run w6aaoqg5 on sweep None. Filling all poitwisewith NAN.\n",
      "WARNING!! Missing pointwise/cvar/0.01 in run dj3k89lq on sweep None. Filling all poitwisewith NAN.\n",
      "WARNING!! Missing pointwise/cvar/0.01 in run 9few0vri on sweep None. Filling all poitwisewith NAN.\n",
      "WARNING!! Missing pointwise/cvar/0.01 in run 0upvtnu8 on sweep None. Filling all poitwisewith NAN.\n"
     ]
    },
    {
     "name": "stderr",
     "output_type": "stream",
     "text": [
      "100%|██████████| 435/435 [01:48<00:00,  4.01it/s]"
     ]
    },
    {
     "name": "stdout",
     "output_type": "stream",
     "text": [
      "WARNING!! Missing pointwise/cvar/0.01 in run bbedl2fm on sweep None. Filling all poitwisewith NAN.\n",
      "WARNING!! Missing pointwise/cvar/0.01 in run 2u2orrgj on sweep None. Filling all poitwisewith NAN.\n",
      "WARNING!! Missing pointwise/cvar/0.01 in run jpybtu8v on sweep None. Filling all poitwisewith NAN.\n",
      "WARNING!! Missing pointwise/cvar/0.01 in run nusqty14 on sweep None. Filling all poitwisewith NAN.\n",
      "WARNING!! Missing pointwise/cvar/0.01 in run 93jqr60g on sweep None. Filling all poitwisewith NAN.\n",
      "WARNING!! Missing pointwise/cvar/0.01 in run rtu2j4af on sweep None. Filling all poitwisewith NAN.\n",
      "Fetched 435 runs\n"
     ]
    },
    {
     "name": "stderr",
     "output_type": "stream",
     "text": [
      "\n"
     ]
    },
    {
     "name": "stdout",
     "output_type": "stream",
     "text": [
      "Total records: (426528, 120)\n",
      "Total runs: 432\n",
      "Backup data saved as pickle: ../data_backups/2024_03_29__newmodels_erm_and_constrained.pkl\n",
      "Backup data saved as CSV: ../data_backups/2024_03_29__newmodels_erm_and_constrained.csv\n",
      "Returning backed up data as a pandas DF\n"
     ]
    }
   ],
   "source": [
    "saved_data = data_backup.backup_experiment_data(\n",
    "    experiment_tags = [\n",
    "        \"e29_icml_constrained_newmodels\",\n",
    "        \"erm_rebuttal_newmodels\"\n",
    "    ],\n",
    "    filename_prefix=\"../data_backups/2024_03_29__newmodels_erm_and_constrained\"\n",
    ")"
   ]
  },
  {
   "cell_type": "code",
   "execution_count": null,
   "id": "3c32880e",
   "metadata": {},
   "outputs": [
    {
     "data": {
      "text/plain": [
       "(0, 120)"
      ]
     },
     "execution_count": 51,
     "metadata": {},
     "output_type": "execute_result"
    }
   ],
   "source": [
    "# #saved_data.groupby(['model','data_path']).size().reset_index()\n",
    "# saved_data.query(\"model=='FiLM' and constraint_type=='Constrained' and data_path=='weather.csv'\").shape"
   ]
  },
  {
   "cell_type": "markdown",
   "id": "2318e83f",
   "metadata": {},
   "source": [
    "## March 28 new datasets"
   ]
  },
  {
   "cell_type": "code",
   "execution_count": 8,
   "id": "f8b46a2b",
   "metadata": {},
   "outputs": [
    {
     "name": "stdout",
     "output_type": "stream",
     "text": [
      "Experiment tags being considered: ['e29_icml_erm_newdatasets', 'e30_icml_constrained_newdatasets_train']\n",
      "Saving to backup data filename: ../data_backups/2024_03_29__newdatasets_erm_and_constrained\n"
     ]
    },
    {
     "name": "stderr",
     "output_type": "stream",
     "text": [
      "  1%|▏         | 6/401 [00:00<00:14, 26.91it/s]"
     ]
    },
    {
     "name": "stdout",
     "output_type": "stream",
     "text": [
      "WARNING!! Missing pointwise/cvar/0.01 in run diij2u97 on sweep <Sweep alelab/Autoformer/bqpq33zs (FINISHED)>. Filling all poitwisewith NAN.\n",
      "WARNING!! Missing pointwise/cvar/0.01 in run gsgyvklv on sweep <Sweep alelab/Autoformer/wc3e4di4 (FINISHED)>. Filling all poitwisewith NAN.\n",
      "WARNING!! Missing pointwise/cvar/0.01 in run yrq8488g on sweep <Sweep alelab/Autoformer/qvrocaxk (FINISHED)>. Filling all poitwisewith NAN.\n",
      "WARNING!! Missing pointwise/cvar/0.01 in run kzi2mpt6 on sweep <Sweep alelab/Autoformer/qvrocaxk (FINISHED)>. Filling all poitwisewith NAN.\n"
     ]
    },
    {
     "name": "stderr",
     "output_type": "stream",
     "text": [
      "  6%|▌         | 24/401 [00:00<00:09, 39.59it/s]"
     ]
    },
    {
     "name": "stdout",
     "output_type": "stream",
     "text": [
      "WARNING!! Missing pointwise/cvar/0.01 in run yukr1nw3 on sweep <Sweep alelab/Autoformer/wq4yzy4n (FINISHED)>. Filling all poitwisewith NAN.\n",
      "WARNING!! Missing pointwise/cvar/0.01 in run jzulc2zh on sweep <Sweep alelab/Autoformer/wq4yzy4n (FINISHED)>. Filling all poitwisewith NAN.\n",
      "WARNING!! Missing pointwise/cvar/0.01 in run 3rfzwnyo on sweep <Sweep alelab/Autoformer/wq4yzy4n (FINISHED)>. Filling all poitwisewith NAN.\n",
      "WARNING!! Missing pointwise/cvar/0.01 in run pqz067sz on sweep <Sweep alelab/Autoformer/wbsqlsxc (FINISHED)>. Filling all poitwisewith NAN.\n",
      "WARNING!! Missing pointwise/cvar/0.01 in run 7woxemnc on sweep <Sweep alelab/Autoformer/wbsqlsxc (FINISHED)>. Filling all poitwisewith NAN.\n",
      "WARNING!! Missing pointwise/cvar/0.01 in run zily1oo0 on sweep <Sweep alelab/Autoformer/wbsqlsxc (FINISHED)>. Filling all poitwisewith NAN.\n",
      "WARNING!! Missing pointwise/cvar/0.01 in run qh8b15vk on sweep <Sweep alelab/Autoformer/7sr5dni6 (FINISHED)>. Filling all poitwisewith NAN.\n",
      "WARNING!! Missing pointwise/cvar/0.01 in run rrdjhs18 on sweep <Sweep alelab/Autoformer/7sr5dni6 (FINISHED)>. Filling all poitwisewith NAN.\n",
      "WARNING!! Missing pointwise/cvar/0.01 in run de6apgqi on sweep <Sweep alelab/Autoformer/7sr5dni6 (FINISHED)>. Filling all poitwisewith NAN.\n",
      "WARNING!! Missing pointwise/cvar/0.01 in run 5toknm9h on sweep <Sweep alelab/Autoformer/42gvfebi (FINISHED)>. Filling all poitwisewith NAN.\n"
     ]
    },
    {
     "name": "stderr",
     "output_type": "stream",
     "text": [
      "  7%|▋         | 29/401 [00:00<00:10, 35.29it/s]"
     ]
    },
    {
     "name": "stdout",
     "output_type": "stream",
     "text": [
      "WARNING!! Missing pointwise/cvar/0.01 in run lw8zax1d on sweep <Sweep alelab/Autoformer/42gvfebi (FINISHED)>. Filling all poitwisewith NAN.\n"
     ]
    },
    {
     "name": "stderr",
     "output_type": "stream",
     "text": [
      " 11%|█         | 44/401 [00:01<00:08, 42.69it/s]"
     ]
    },
    {
     "name": "stdout",
     "output_type": "stream",
     "text": [
      "WARNING!! Missing pointwise/cvar/0.01 in run m7ppb4ut on sweep <Sweep alelab/Autoformer/a0cmnw82 (FINISHED)>. Filling all poitwisewith NAN.\n",
      "WARNING!! Missing pointwise/cvar/0.01 in run usjhllwl on sweep <Sweep alelab/Autoformer/pq41klha (FINISHED)>. Filling all poitwisewith NAN.\n",
      "WARNING!! Missing pointwise/cvar/0.01 in run 8nurfoup on sweep <Sweep alelab/Autoformer/pq41klha (FINISHED)>. Filling all poitwisewith NAN.\n",
      "WARNING!! Missing pointwise/cvar/0.01 in run p9ql95xq on sweep <Sweep alelab/Autoformer/ta2djhdt (FINISHED)>. Filling all poitwisewith NAN.\n",
      "WARNING!! Missing pointwise/cvar/0.01 in run 5o1fpdlz on sweep <Sweep alelab/Autoformer/hrrx0mey (FINISHED)>. Filling all poitwisewith NAN.\n"
     ]
    },
    {
     "name": "stderr",
     "output_type": "stream",
     "text": [
      " 12%|█▏        | 50/401 [00:01<00:07, 47.13it/s]"
     ]
    },
    {
     "name": "stdout",
     "output_type": "stream",
     "text": [
      "WARNING!! Missing pointwise/cvar/0.01 in run qd76uvsq on sweep <Sweep alelab/Autoformer/hrrx0mey (FINISHED)>. Filling all poitwisewith NAN.\n",
      "WARNING!! Missing pointwise/cvar/0.01 in run 6kidhg2u on sweep <Sweep alelab/Autoformer/hrrx0mey (FINISHED)>. Filling all poitwisewith NAN.\n",
      "WARNING!! Missing pointwise/cvar/0.01 in run o2h7bolw on sweep <Sweep alelab/Autoformer/gix1vjpx (FINISHED)>. Filling all poitwisewith NAN.\n"
     ]
    },
    {
     "name": "stderr",
     "output_type": "stream",
     "text": [
      " 14%|█▎        | 55/401 [00:05<01:37,  3.56it/s]"
     ]
    },
    {
     "name": "stdout",
     "output_type": "stream",
     "text": [
      "WARNING!! Missing pointwise/cvar/0.01 in run pw51adrt on sweep <Sweep alelab/Autoformer/gix1vjpx (FINISHED)>. Filling all poitwisewith NAN.\n",
      "WARNING!! Missing pointwise/cvar/0.01 in run 7ea1bfee on sweep <Sweep alelab/Autoformer/gix1vjpx (FINISHED)>. Filling all poitwisewith NAN.\n",
      "WARNING!! Missing pointwise/cvar/0.01 in run zy8wvge5 on sweep <Sweep alelab/Autoformer/r9k20tgc (FINISHED)>. Filling all poitwisewith NAN.\n",
      "WARNING!! Missing pointwise/cvar/0.01 in run pprpu7qk on sweep <Sweep alelab/Autoformer/r9k20tgc (FINISHED)>. Filling all poitwisewith NAN.\n",
      "WARNING!! Missing pointwise/cvar/0.01 in run dzl0rq0d on sweep <Sweep alelab/Autoformer/r9k20tgc (FINISHED)>. Filling all poitwisewith NAN.\n",
      "WARNING!! Missing pointwise/cvar/0.01 in run 6r1f4z0f on sweep <Sweep alelab/Autoformer/lk7ffz4i (FINISHED)>. Filling all poitwisewith NAN.\n",
      "WARNING!! Missing pointwise/cvar/0.01 in run ipjt6c1u on sweep <Sweep alelab/Autoformer/lk7ffz4i (FINISHED)>. Filling all poitwisewith NAN.\n",
      "WARNING!! Missing pointwise/cvar/0.01 in run c0vsgd57 on sweep <Sweep alelab/Autoformer/lk7ffz4i (FINISHED)>. Filling all poitwisewith NAN.\n",
      "WARNING!! Missing pointwise/cvar/0.01 in run 71fdpwii on sweep <Sweep alelab/Autoformer/2e3um89y (FINISHED)>. Filling all poitwisewith NAN.\n",
      "WARNING!! Missing pointwise/cvar/0.01 in run g239djzn on sweep <Sweep alelab/Autoformer/2e3um89y (FINISHED)>. Filling all poitwisewith NAN.\n"
     ]
    },
    {
     "name": "stderr",
     "output_type": "stream",
     "text": [
      " 17%|█▋        | 67/401 [00:06<00:45,  7.35it/s]"
     ]
    },
    {
     "name": "stdout",
     "output_type": "stream",
     "text": [
      "WARNING!! Missing pointwise/cvar/0.01 in run rv8rz4fn on sweep <Sweep alelab/Autoformer/1zrtosuz (FINISHED)>. Filling all poitwisewith NAN.\n",
      "WARNING!! Missing pointwise/cvar/0.01 in run l1gdbow7 on sweep <Sweep alelab/Autoformer/5eh7bjnr (FINISHED)>. Filling all poitwisewith NAN.\n"
     ]
    },
    {
     "name": "stderr",
     "output_type": "stream",
     "text": [
      " 21%|██        | 85/401 [00:06<00:17, 17.85it/s]"
     ]
    },
    {
     "name": "stdout",
     "output_type": "stream",
     "text": [
      "WARNING!! Missing pointwise/cvar/0.01 in run qqtip8k5 on sweep <Sweep alelab/Autoformer/9cj3md4i (FINISHED)>. Filling all poitwisewith NAN.\n",
      "WARNING!! Missing pointwise/cvar/0.01 in run nuib0bfu on sweep <Sweep alelab/Autoformer/9cj3md4i (FINISHED)>. Filling all poitwisewith NAN.\n",
      "WARNING!! Missing pointwise/cvar/0.01 in run f03c1sr6 on sweep <Sweep alelab/Autoformer/9cj3md4i (FINISHED)>. Filling all poitwisewith NAN.\n",
      "WARNING!! Missing pointwise/cvar/0.01 in run uyrmytvd on sweep <Sweep alelab/Autoformer/nl76kwi4 (FINISHED)>. Filling all poitwisewith NAN.\n",
      "WARNING!! Missing pointwise/cvar/0.01 in run tktfucmd on sweep <Sweep alelab/Autoformer/nl76kwi4 (FINISHED)>. Filling all poitwisewith NAN.\n",
      "WARNING!! Missing pointwise/cvar/0.01 in run dic3llqr on sweep <Sweep alelab/Autoformer/nl76kwi4 (FINISHED)>. Filling all poitwisewith NAN.\n",
      "WARNING!! Missing pointwise/cvar/0.01 in run ci5bgznq on sweep <Sweep alelab/Autoformer/rgw2t2cn (FINISHED)>. Filling all poitwisewith NAN.\n",
      "WARNING!! Missing pointwise/cvar/0.01 in run bsmpeys0 on sweep <Sweep alelab/Autoformer/rgw2t2cn (FINISHED)>. Filling all poitwisewith NAN.\n",
      "WARNING!! Missing pointwise/cvar/0.01 in run smcjbw0h on sweep <Sweep alelab/Autoformer/rgw2t2cn (FINISHED)>. Filling all poitwisewith NAN.\n",
      "WARNING!! Missing pointwise/cvar/0.01 in run 75qrk8sr on sweep <Sweep alelab/Autoformer/mdgenk44 (FINISHED)>. Filling all poitwisewith NAN.\n"
     ]
    },
    {
     "name": "stderr",
     "output_type": "stream",
     "text": [
      " 23%|██▎       | 91/401 [00:06<00:14, 21.05it/s]"
     ]
    },
    {
     "name": "stdout",
     "output_type": "stream",
     "text": [
      "WARNING!! Missing pointwise/cvar/0.01 in run brlwd5t5 on sweep <Sweep alelab/Autoformer/7b0fftu1 (FINISHED)>. Filling all poitwisewith NAN.\n",
      "WARNING!! Missing pointwise/cvar/0.01 in run x9fjws3p on sweep <Sweep alelab/Autoformer/pkc4s5uz (FINISHED)>. Filling all poitwisewith NAN.\n"
     ]
    },
    {
     "name": "stderr",
     "output_type": "stream",
     "text": [
      " 29%|██▉       | 116/401 [00:25<01:51,  2.55it/s]"
     ]
    },
    {
     "name": "stdout",
     "output_type": "stream",
     "text": [
      "WARNING!! Missing pointwise/cvar/0.01 in run 3aid1u8b on sweep <Sweep alelab/Autoformer/pm9djfz5 (FINISHED)>. Filling all poitwisewith NAN.\n",
      "WARNING!! Missing pointwise/cvar/0.01 in run u9i3usdz on sweep <Sweep alelab/Autoformer/aeul26y5 (FINISHED)>. Filling all poitwisewith NAN.\n"
     ]
    },
    {
     "name": "stderr",
     "output_type": "stream",
     "text": [
      " 31%|███▏      | 126/401 [00:25<00:57,  4.79it/s]"
     ]
    },
    {
     "name": "stdout",
     "output_type": "stream",
     "text": [
      "WARNING!! Missing pointwise/cvar/0.01 in run 5suwxzgx on sweep <Sweep alelab/Autoformer/aovoifx5 (FINISHED)>. Filling all poitwisewith NAN.\n",
      "WARNING!! Missing pointwise/cvar/0.01 in run lq18eo2m on sweep <Sweep alelab/Autoformer/aovoifx5 (FINISHED)>. Filling all poitwisewith NAN.\n"
     ]
    },
    {
     "name": "stderr",
     "output_type": "stream",
     "text": [
      " 74%|███████▎  | 295/401 [01:04<00:04, 22.08it/s]"
     ]
    },
    {
     "name": "stdout",
     "output_type": "stream",
     "text": [
      "WARNING!! Missing pointwise/cvar/0.01 in run 2qa1s6bx on sweep <Sweep alelab/Autoformer/mzykvqfn (FINISHED)>. Filling all poitwisewith NAN.\n"
     ]
    },
    {
     "name": "stderr",
     "output_type": "stream",
     "text": [
      " 80%|███████▉  | 320/401 [01:13<00:13,  5.87it/s]"
     ]
    },
    {
     "name": "stdout",
     "output_type": "stream",
     "text": [
      "WARNING!! Missing pointwise/cvar/0.01 in run vuppzm29 on sweep <Sweep alelab/Autoformer/mzykvqfn (FINISHED)>. Filling all poitwisewith NAN.\n",
      "WARNING!! Missing pointwise/cvar/0.01 in run 3l8p07md on sweep None. Filling all poitwisewith NAN.\n"
     ]
    },
    {
     "name": "stderr",
     "output_type": "stream",
     "text": [
      " 86%|████████▋ | 346/401 [01:14<00:02, 19.62it/s]"
     ]
    },
    {
     "name": "stdout",
     "output_type": "stream",
     "text": [
      "WARNING!! Missing pointwise/cvar/0.01 in run bbedl2fm on sweep None. Filling all poitwisewith NAN.\n",
      "WARNING!! Missing pointwise/cvar/0.01 in run 2u2orrgj on sweep None. Filling all poitwisewith NAN.\n",
      "WARNING!! Missing pointwise/cvar/0.01 in run jpybtu8v on sweep None. Filling all poitwisewith NAN.\n",
      "WARNING!! Missing pointwise/cvar/0.01 in run nusqty14 on sweep None. Filling all poitwisewith NAN.\n",
      "WARNING!! Missing pointwise/cvar/0.01 in run 93jqr60g on sweep None. Filling all poitwisewith NAN.\n",
      "WARNING!! Missing pointwise/cvar/0.01 in run rtu2j4af on sweep None. Filling all poitwisewith NAN.\n"
     ]
    },
    {
     "name": "stderr",
     "output_type": "stream",
     "text": [
      " 95%|█████████▌| 382/401 [01:24<00:01, 12.59it/s]"
     ]
    },
    {
     "name": "stdout",
     "output_type": "stream",
     "text": [
      "WARNING!! Missing pointwise/cvar/0.01 in run 98fpmxck on sweep <Sweep alelab/Autoformer/xqpbzr6x (FINISHED)>. Filling all poitwisewith NAN.\n"
     ]
    },
    {
     "name": "stderr",
     "output_type": "stream",
     "text": [
      "100%|██████████| 401/401 [01:25<00:00,  4.69it/s]\n"
     ]
    },
    {
     "name": "stdout",
     "output_type": "stream",
     "text": [
      "Fetched 401 runs\n",
      "Total records: (345456, 120)\n",
      "Total runs: 401\n",
      "Backup data saved as pickle: ../data_backups/2024_03_29__newdatasets_erm_and_constrained.pkl\n",
      "Backup data saved as CSV: ../data_backups/2024_03_29__newdatasets_erm_and_constrained.csv\n",
      "Returning backed up data as a pandas DF\n"
     ]
    }
   ],
   "source": [
    "saved_data = data_backup.backup_experiment_data(\n",
    "    experiment_tags = [\n",
    "        \"e29_icml_erm_newdatasets\",\n",
    "        \"e30_icml_constrained_newdatasets_train\",\n",
    "        #\"e31_icml_constrained_newdatasets_val\" #NOT READY YET AS OF mar 28 9am. expected by ~8pm\n",
    "    ],\n",
    "    filename_prefix=\"../data_backups/2024_03_29__newdatasets_erm_and_constrained\"\n",
    ")"
   ]
  },
  {
   "cell_type": "markdown",
   "id": "06906c97",
   "metadata": {},
   "source": [
    "# Old datasets with new loader (to get MAE)"
   ]
  },
  {
   "cell_type": "code",
   "execution_count": 9,
   "id": "7c180eca",
   "metadata": {},
   "outputs": [
    {
     "name": "stdout",
     "output_type": "stream",
     "text": [
      "Experiment tags being considered: ['e16_finaljan_allerm_replicated', 'e17_finaljan_constant_constrained_replicated', 'e18_icml_constant_constrained_loose', 'e19_icml_resilience_val', 'e19_icml_resilience_train']\n",
      "Saving to backup data filename: ../data_backups/2024_03_29__original_experiments\n"
     ]
    },
    {
     "name": "stderr",
     "output_type": "stream",
     "text": [
      "  0%|          | 3/696 [00:00<00:27, 25.05it/s]"
     ]
    },
    {
     "name": "stdout",
     "output_type": "stream",
     "text": [
      "WARNING!! Missing pointwise/cvar/0.01 in run iukmxn30 on sweep <Sweep alelab/Autoformer/4utzbgx7 (RUNNING)>. Filling all poitwisewith NAN.\n",
      "!!!!! WARNING: Missing key stepwise metric in run. Skipping iukmxn30 mse/train/0\n",
      "Run skipped iukmxn30\n"
     ]
    },
    {
     "name": "stderr",
     "output_type": "stream",
     "text": [
      "  5%|▌         | 38/696 [00:01<00:18, 34.96it/s]"
     ]
    },
    {
     "name": "stdout",
     "output_type": "stream",
     "text": [
      "WARNING!! Missing pointwise/cvar/0.01 in run cpfwsalo on sweep <Sweep alelab/Autoformer/liyvasz6 (FINISHED)>. Filling all poitwisewith NAN.\n",
      "WARNING!! Missing pointwise/cvar/0.01 in run 84tt1mvt on sweep <Sweep alelab/Autoformer/liyvasz6 (FINISHED)>. Filling all poitwisewith NAN.\n",
      "WARNING!! Missing pointwise/cvar/0.01 in run jkrln1p0 on sweep <Sweep alelab/Autoformer/qqgiardt (FINISHED)>. Filling all poitwisewith NAN.\n",
      "WARNING!! Missing pointwise/cvar/0.01 in run 28y4vgx0 on sweep <Sweep alelab/Autoformer/qqgiardt (FINISHED)>. Filling all poitwisewith NAN.\n"
     ]
    },
    {
     "name": "stderr",
     "output_type": "stream",
     "text": [
      "  7%|▋         | 47/696 [00:01<00:16, 38.42it/s]"
     ]
    },
    {
     "name": "stdout",
     "output_type": "stream",
     "text": [
      "WARNING!! Missing pointwise/cvar/0.01 in run q3dnpfaw on sweep <Sweep alelab/Autoformer/tm09n06e (FINISHED)>. Filling all poitwisewith NAN.\n",
      "WARNING!! Missing pointwise/cvar/0.01 in run uouzg5od on sweep <Sweep alelab/Autoformer/tm09n06e (FINISHED)>. Filling all poitwisewith NAN.\n"
     ]
    },
    {
     "name": "stderr",
     "output_type": "stream",
     "text": [
      "  8%|▊         | 59/696 [00:15<05:28,  1.94it/s]"
     ]
    },
    {
     "name": "stdout",
     "output_type": "stream",
     "text": [
      "WARNING!! Missing pointwise/cvar/0.01 in run jvp7i8t0 on sweep <Sweep alelab/Autoformer/g0pv9de4 (FINISHED)>. Filling all poitwisewith NAN.\n",
      "WARNING!! Missing pointwise/cvar/0.01 in run s1iiz6k9 on sweep <Sweep alelab/Autoformer/g0pv9de4 (FINISHED)>. Filling all poitwisewith NAN.\n"
     ]
    },
    {
     "name": "stderr",
     "output_type": "stream",
     "text": [
      " 10%|▉         | 68/696 [00:15<02:39,  3.95it/s]"
     ]
    },
    {
     "name": "stdout",
     "output_type": "stream",
     "text": [
      "WARNING!! Missing pointwise/cvar/0.01 in run 31vy2gud on sweep <Sweep alelab/Autoformer/2c2ygtmh (FINISHED)>. Filling all poitwisewith NAN.\n",
      "WARNING!! Missing pointwise/cvar/0.01 in run kpqj8jfd on sweep <Sweep alelab/Autoformer/2c2ygtmh (FINISHED)>. Filling all poitwisewith NAN.\n"
     ]
    },
    {
     "name": "stderr",
     "output_type": "stream",
     "text": [
      " 11%|█         | 77/696 [00:15<01:22,  7.47it/s]"
     ]
    },
    {
     "name": "stdout",
     "output_type": "stream",
     "text": [
      "WARNING!! Missing pointwise/cvar/0.01 in run 68wcyn8i on sweep <Sweep alelab/Autoformer/e9tc0rit (FINISHED)>. Filling all poitwisewith NAN.\n",
      "WARNING!! Missing pointwise/cvar/0.01 in run tlkpoddq on sweep <Sweep alelab/Autoformer/e9tc0rit (FINISHED)>. Filling all poitwisewith NAN.\n",
      "WARNING!! Missing pointwise/cvar/0.01 in run pwvrhtgw on sweep <Sweep alelab/Autoformer/4j052d84 (FINISHED)>. Filling all poitwisewith NAN.\n",
      "WARNING!! Missing pointwise/cvar/0.01 in run szkufx5u on sweep <Sweep alelab/Autoformer/4j052d84 (FINISHED)>. Filling all poitwisewith NAN.\n",
      "WARNING!! Missing pointwise/cvar/0.01 in run bu41ok5a on sweep <Sweep alelab/Autoformer/oquimtvp (FINISHED)>. Filling all poitwisewith NAN.\n",
      "WARNING!! Missing pointwise/cvar/0.01 in run lykuikfd on sweep <Sweep alelab/Autoformer/oquimtvp (FINISHED)>. Filling all poitwisewith NAN.\n",
      "WARNING!! Missing pointwise/cvar/0.01 in run 143zmuai on sweep <Sweep alelab/Autoformer/yql1eicp (FINISHED)>. Filling all poitwisewith NAN.\n"
     ]
    },
    {
     "name": "stderr",
     "output_type": "stream",
     "text": [
      " 12%|█▏        | 86/696 [00:15<00:48, 12.55it/s]"
     ]
    },
    {
     "name": "stdout",
     "output_type": "stream",
     "text": [
      "WARNING!! Missing pointwise/cvar/0.01 in run 356a0k61 on sweep <Sweep alelab/Autoformer/yql1eicp (FINISHED)>. Filling all poitwisewith NAN.\n",
      "WARNING!! Missing pointwise/cvar/0.01 in run kvuw5biy on sweep <Sweep alelab/Autoformer/k84siwsm (FINISHED)>. Filling all poitwisewith NAN.\n",
      "WARNING!! Missing pointwise/cvar/0.01 in run 8amddm7q on sweep <Sweep alelab/Autoformer/k84siwsm (FINISHED)>. Filling all poitwisewith NAN.\n",
      "WARNING!! Missing pointwise/cvar/0.01 in run tb82r87g on sweep <Sweep alelab/Autoformer/1sz467fo (FINISHED)>. Filling all poitwisewith NAN.\n",
      "WARNING!! Missing pointwise/cvar/0.01 in run rb8udosq on sweep <Sweep alelab/Autoformer/9aju5k5u (FINISHED)>. Filling all poitwisewith NAN.\n",
      "WARNING!! Missing pointwise/cvar/0.01 in run 1pk2nlug on sweep <Sweep alelab/Autoformer/1sz467fo (FINISHED)>. Filling all poitwisewith NAN.\n",
      "WARNING!! Missing pointwise/cvar/0.01 in run bwxabf9k on sweep <Sweep alelab/Autoformer/9aju5k5u (FINISHED)>. Filling all poitwisewith NAN.\n"
     ]
    },
    {
     "name": "stderr",
     "output_type": "stream",
     "text": [
      " 14%|█▎        | 95/696 [00:16<00:31, 18.85it/s]"
     ]
    },
    {
     "name": "stdout",
     "output_type": "stream",
     "text": [
      "WARNING!! Missing pointwise/cvar/0.01 in run gkfopg4h on sweep <Sweep alelab/Autoformer/3m8jz9au (FINISHED)>. Filling all poitwisewith NAN.\n",
      "WARNING!! Missing pointwise/cvar/0.01 in run v4l52f8l on sweep <Sweep alelab/Autoformer/3m8jz9au (FINISHED)>. Filling all poitwisewith NAN.\n",
      "WARNING!! Missing pointwise/cvar/0.01 in run 6rrjdn4w on sweep <Sweep alelab/Autoformer/kstj0au0 (FINISHED)>. Filling all poitwisewith NAN.\n",
      "WARNING!! Missing pointwise/cvar/0.01 in run b90fh63i on sweep <Sweep alelab/Autoformer/kstj0au0 (FINISHED)>. Filling all poitwisewith NAN.\n",
      "WARNING!! Missing pointwise/cvar/0.01 in run y264k44c on sweep <Sweep alelab/Autoformer/vx03r2yf (FINISHED)>. Filling all poitwisewith NAN.\n",
      "WARNING!! Missing pointwise/cvar/0.01 in run b46eyy0c on sweep <Sweep alelab/Autoformer/lql2nhmz (FINISHED)>. Filling all poitwisewith NAN.\n",
      "WARNING!! Missing pointwise/cvar/0.01 in run co3jz42t on sweep <Sweep alelab/Autoformer/vx03r2yf (FINISHED)>. Filling all poitwisewith NAN.\n",
      "WARNING!! Missing pointwise/cvar/0.01 in run yr3c2wlx on sweep <Sweep alelab/Autoformer/lql2nhmz (FINISHED)>. Filling all poitwisewith NAN.\n"
     ]
    },
    {
     "name": "stderr",
     "output_type": "stream",
     "text": [
      " 14%|█▍        | 99/696 [00:16<00:27, 21.75it/s]"
     ]
    },
    {
     "name": "stdout",
     "output_type": "stream",
     "text": [
      "WARNING!! Missing pointwise/cvar/0.01 in run qa18lftd on sweep <Sweep alelab/Autoformer/ruavuo2v (FINISHED)>. Filling all poitwisewith NAN.\n",
      "WARNING!! Missing pointwise/cvar/0.01 in run t64ilpic on sweep <Sweep alelab/Autoformer/azyzwyg6 (FINISHED)>. Filling all poitwisewith NAN.\n",
      "WARNING!! Missing pointwise/cvar/0.01 in run w4ycjlfi on sweep <Sweep alelab/Autoformer/ruavuo2v (FINISHED)>. Filling all poitwisewith NAN.\n"
     ]
    },
    {
     "name": "stderr",
     "output_type": "stream",
     "text": [
      " 15%|█▌        | 106/696 [00:28<06:36,  1.49it/s]"
     ]
    },
    {
     "name": "stdout",
     "output_type": "stream",
     "text": [
      "WARNING!! Missing pointwise/cvar/0.01 in run a9mtoq2n on sweep <Sweep alelab/Autoformer/azyzwyg6 (FINISHED)>. Filling all poitwisewith NAN.\n",
      "WARNING!! Missing pointwise/cvar/0.01 in run 9iq4gisq on sweep <Sweep alelab/Autoformer/7784k4wl (FINISHED)>. Filling all poitwisewith NAN.\n",
      "WARNING!! Missing pointwise/cvar/0.01 in run vc38mynt on sweep <Sweep alelab/Autoformer/7784k4wl (FINISHED)>. Filling all poitwisewith NAN.\n",
      "WARNING!! Missing pointwise/cvar/0.01 in run jq3xdmyx on sweep <Sweep alelab/Autoformer/g0r5odrq (FINISHED)>. Filling all poitwisewith NAN.\n",
      "WARNING!! Missing pointwise/cvar/0.01 in run kk60x0u8 on sweep <Sweep alelab/Autoformer/g0r5odrq (FINISHED)>. Filling all poitwisewith NAN.\n",
      "WARNING!! Missing pointwise/cvar/0.01 in run p9ma29li on sweep <Sweep alelab/Autoformer/6508qt83 (FINISHED)>. Filling all poitwisewith NAN.\n",
      "WARNING!! Missing pointwise/cvar/0.01 in run pbss9tlo on sweep <Sweep alelab/Autoformer/6508qt83 (FINISHED)>. Filling all poitwisewith NAN.\n"
     ]
    },
    {
     "name": "stderr",
     "output_type": "stream",
     "text": [
      " 16%|█▋        | 114/696 [00:29<03:21,  2.89it/s]"
     ]
    },
    {
     "name": "stdout",
     "output_type": "stream",
     "text": [
      "WARNING!! Missing pointwise/cvar/0.01 in run dikehj00 on sweep <Sweep alelab/Autoformer/ehy2bb7v (FINISHED)>. Filling all poitwisewith NAN.\n",
      "WARNING!! Missing pointwise/cvar/0.01 in run c8j9cv9x on sweep <Sweep alelab/Autoformer/ehy2bb7v (FINISHED)>. Filling all poitwisewith NAN.\n",
      "WARNING!! Missing pointwise/cvar/0.01 in run 8sjeundp on sweep <Sweep alelab/Autoformer/hcmsaq56 (FINISHED)>. Filling all poitwisewith NAN.\n",
      "WARNING!! Missing pointwise/cvar/0.01 in run 2p31kne6 on sweep <Sweep alelab/Autoformer/hcmsaq56 (FINISHED)>. Filling all poitwisewith NAN.\n",
      "WARNING!! Missing pointwise/cvar/0.01 in run nd6shmcv on sweep <Sweep alelab/Autoformer/48mp6eve (FINISHED)>. Filling all poitwisewith NAN.\n",
      "WARNING!! Missing pointwise/cvar/0.01 in run h17atae9 on sweep <Sweep alelab/Autoformer/48mp6eve (FINISHED)>. Filling all poitwisewith NAN.\n",
      "WARNING!! Missing pointwise/cvar/0.01 in run xar414qf on sweep <Sweep alelab/Autoformer/7345zmk9 (FINISHED)>. Filling all poitwisewith NAN.\n",
      "WARNING!! Missing pointwise/cvar/0.01 in run zov277h1 on sweep <Sweep alelab/Autoformer/6bxv978l (FINISHED)>. Filling all poitwisewith NAN.\n"
     ]
    },
    {
     "name": "stderr",
     "output_type": "stream",
     "text": [
      " 18%|█▊        | 124/696 [00:29<01:34,  6.08it/s]"
     ]
    },
    {
     "name": "stdout",
     "output_type": "stream",
     "text": [
      "WARNING!! Missing pointwise/cvar/0.01 in run vd13vcot on sweep <Sweep alelab/Autoformer/7345zmk9 (FINISHED)>. Filling all poitwisewith NAN.\n",
      "WARNING!! Missing pointwise/cvar/0.01 in run 4yrvpcmy on sweep <Sweep alelab/Autoformer/6bxv978l (FINISHED)>. Filling all poitwisewith NAN.\n",
      "WARNING!! Missing pointwise/cvar/0.01 in run 22jquez4 on sweep <Sweep alelab/Autoformer/d3p64vdv (FINISHED)>. Filling all poitwisewith NAN.\n",
      "WARNING!! Missing pointwise/cvar/0.01 in run 8f8drvpu on sweep <Sweep alelab/Autoformer/d3p64vdv (FINISHED)>. Filling all poitwisewith NAN.\n",
      "WARNING!! Missing pointwise/cvar/0.01 in run wym9v637 on sweep <Sweep alelab/Autoformer/zbfykikk (FINISHED)>. Filling all poitwisewith NAN.\n",
      "WARNING!! Missing pointwise/cvar/0.01 in run tajvajl2 on sweep <Sweep alelab/Autoformer/zbfykikk (FINISHED)>. Filling all poitwisewith NAN.\n"
     ]
    },
    {
     "name": "stderr",
     "output_type": "stream",
     "text": [
      " 19%|█▉        | 132/696 [00:29<00:56, 10.02it/s]"
     ]
    },
    {
     "name": "stdout",
     "output_type": "stream",
     "text": [
      "WARNING!! Missing pointwise/cvar/0.01 in run wogcr65t on sweep <Sweep alelab/Autoformer/yrypm540 (FINISHED)>. Filling all poitwisewith NAN.\n",
      "WARNING!! Missing pointwise/cvar/0.01 in run hsszps5l on sweep <Sweep alelab/Autoformer/yrypm540 (FINISHED)>. Filling all poitwisewith NAN.\n",
      "WARNING!! Missing pointwise/cvar/0.01 in run e7ni8p7t on sweep <Sweep alelab/Autoformer/di8pn6n3 (FINISHED)>. Filling all poitwisewith NAN.\n",
      "WARNING!! Missing pointwise/cvar/0.01 in run pz2bafz5 on sweep <Sweep alelab/Autoformer/di8pn6n3 (FINISHED)>. Filling all poitwisewith NAN.\n"
     ]
    },
    {
     "name": "stderr",
     "output_type": "stream",
     "text": [
      " 21%|██        | 146/696 [00:29<00:26, 20.53it/s]"
     ]
    },
    {
     "name": "stdout",
     "output_type": "stream",
     "text": [
      "WARNING!! Missing pointwise/cvar/0.01 in run sz9q8b35 on sweep <Sweep alelab/Autoformer/9sxustkl (FINISHED)>. Filling all poitwisewith NAN.\n",
      "WARNING!! Missing pointwise/cvar/0.01 in run 300ydq9n on sweep <Sweep alelab/Autoformer/9sxustkl (FINISHED)>. Filling all poitwisewith NAN.\n",
      "WARNING!! Missing pointwise/cvar/0.01 in run 7b4xxa9i on sweep <Sweep alelab/Autoformer/6fboi37v (FINISHED)>. Filling all poitwisewith NAN.\n",
      "WARNING!! Missing pointwise/cvar/0.01 in run rttdp6ef on sweep <Sweep alelab/Autoformer/6fboi37v (FINISHED)>. Filling all poitwisewith NAN.\n"
     ]
    },
    {
     "name": "stderr",
     "output_type": "stream",
     "text": [
      " 34%|███▍      | 235/696 [00:57<00:39, 11.82it/s]"
     ]
    },
    {
     "name": "stdout",
     "output_type": "stream",
     "text": [
      "WARNING!! Missing pointwise/cvar/0.01 in run 4ubhp9x6 on sweep <Sweep alelab/Autoformer/g3ryg1q1 (FINISHED)>. Filling all poitwisewith NAN.\n",
      "WARNING!! Missing pointwise/cvar/0.01 in run 5tnfrme0 on sweep <Sweep alelab/Autoformer/emt6adzw (FINISHED)>. Filling all poitwisewith NAN.\n",
      "WARNING!! Missing pointwise/cvar/0.01 in run 4zydibwo on sweep <Sweep alelab/Autoformer/vnaopi4h (FINISHED)>. Filling all poitwisewith NAN.\n",
      "WARNING!! Missing pointwise/cvar/0.01 in run ldo23v3z on sweep <Sweep alelab/Autoformer/0gca6u39 (FINISHED)>. Filling all poitwisewith NAN.\n"
     ]
    },
    {
     "name": "stderr",
     "output_type": "stream",
     "text": [
      " 35%|███▌      | 244/696 [00:58<00:24, 18.63it/s]"
     ]
    },
    {
     "name": "stdout",
     "output_type": "stream",
     "text": [
      "WARNING!! Missing pointwise/cvar/0.01 in run m7domm22 on sweep <Sweep alelab/Autoformer/kbgg136c (FINISHED)>. Filling all poitwisewith NAN.\n",
      "WARNING!! Missing pointwise/cvar/0.01 in run uonuzw3h on sweep <Sweep alelab/Autoformer/s3ch05hv (FINISHED)>. Filling all poitwisewith NAN.\n",
      "WARNING!! Missing pointwise/cvar/0.01 in run u3e93625 on sweep <Sweep alelab/Autoformer/994se9cs (FINISHED)>. Filling all poitwisewith NAN.\n",
      "WARNING!! Missing pointwise/cvar/0.01 in run sas9jt3y on sweep <Sweep alelab/Autoformer/w3c4c8jm (FINISHED)>. Filling all poitwisewith NAN.\n",
      "WARNING!! Missing pointwise/cvar/0.01 in run f1kjgyvz on sweep <Sweep alelab/Autoformer/q43gq0aq (FINISHED)>. Filling all poitwisewith NAN.\n",
      "WARNING!! Missing pointwise/cvar/0.01 in run tpe5w5gc on sweep <Sweep alelab/Autoformer/aytjqx9f (FINISHED)>. Filling all poitwisewith NAN.\n",
      "WARNING!! Missing pointwise/cvar/0.01 in run dkzfyxnd on sweep <Sweep alelab/Autoformer/918vnq8m (FINISHED)>. Filling all poitwisewith NAN.\n",
      "WARNING!! Missing pointwise/cvar/0.01 in run 7qclufpy on sweep <Sweep alelab/Autoformer/572o116d (FINISHED)>. Filling all poitwisewith NAN.\n",
      "WARNING!! Missing pointwise/cvar/0.01 in run zdr1jgvh on sweep <Sweep alelab/Autoformer/vxqwjci7 (FINISHED)>. Filling all poitwisewith NAN.\n"
     ]
    },
    {
     "name": "stderr",
     "output_type": "stream",
     "text": [
      " 36%|███▌      | 248/696 [00:58<00:20, 21.80it/s]"
     ]
    },
    {
     "name": "stdout",
     "output_type": "stream",
     "text": [
      "WARNING!! Missing pointwise/cvar/0.01 in run tj0na25o on sweep <Sweep alelab/Autoformer/ej3zt05v (FINISHED)>. Filling all poitwisewith NAN.\n",
      "WARNING!! Missing pointwise/cvar/0.01 in run ayludxlg on sweep <Sweep alelab/Autoformer/jnvj4yph (FINISHED)>. Filling all poitwisewith NAN.\n",
      "WARNING!! Missing pointwise/cvar/0.01 in run thph2zfe on sweep <Sweep alelab/Autoformer/twet28jf (FINISHED)>. Filling all poitwisewith NAN.\n"
     ]
    },
    {
     "name": "stderr",
     "output_type": "stream",
     "text": [
      " 37%|███▋      | 256/696 [01:09<04:21,  1.68it/s]"
     ]
    },
    {
     "name": "stdout",
     "output_type": "stream",
     "text": [
      "WARNING!! Missing pointwise/cvar/0.01 in run 3s68qwg2 on sweep <Sweep alelab/Autoformer/a842mg7p (FINISHED)>. Filling all poitwisewith NAN.\n",
      "WARNING!! Missing pointwise/cvar/0.01 in run 085ns0iv on sweep <Sweep alelab/Autoformer/swgg5ouc (FINISHED)>. Filling all poitwisewith NAN.\n",
      "WARNING!! Missing pointwise/cvar/0.01 in run c6dasulc on sweep <Sweep alelab/Autoformer/szgpooso (FINISHED)>. Filling all poitwisewith NAN.\n",
      "WARNING!! Missing pointwise/cvar/0.01 in run edpc9pww on sweep <Sweep alelab/Autoformer/bhrgcfj2 (FINISHED)>. Filling all poitwisewith NAN.\n",
      "WARNING!! Missing pointwise/cvar/0.01 in run nqy3k26t on sweep <Sweep alelab/Autoformer/kmey6n9q (FINISHED)>. Filling all poitwisewith NAN.\n",
      "WARNING!! Missing pointwise/cvar/0.01 in run 5nnsx02m on sweep <Sweep alelab/Autoformer/nx3nebty (FINISHED)>. Filling all poitwisewith NAN.\n",
      "WARNING!! Missing pointwise/cvar/0.01 in run 7jo9m3ug on sweep <Sweep alelab/Autoformer/o1m7tvwf (FINISHED)>. Filling all poitwisewith NAN.\n"
     ]
    },
    {
     "name": "stderr",
     "output_type": "stream",
     "text": [
      " 38%|███▊      | 264/696 [01:09<02:12,  3.25it/s]"
     ]
    },
    {
     "name": "stdout",
     "output_type": "stream",
     "text": [
      "WARNING!! Missing pointwise/cvar/0.01 in run d7knbbx1 on sweep <Sweep alelab/Autoformer/nwc6rp1a (FINISHED)>. Filling all poitwisewith NAN.\n",
      "WARNING!! Missing pointwise/cvar/0.01 in run gq7s83ed on sweep <Sweep alelab/Autoformer/71d06hl5 (FINISHED)>. Filling all poitwisewith NAN.\n",
      "WARNING!! Missing pointwise/cvar/0.01 in run lxu0fcxz on sweep <Sweep alelab/Autoformer/gbmxatwg (FINISHED)>. Filling all poitwisewith NAN.\n",
      "WARNING!! Missing pointwise/cvar/0.01 in run obkm0dzl on sweep <Sweep alelab/Autoformer/3jx9kgr0 (FINISHED)>. Filling all poitwisewith NAN.\n",
      "WARNING!! Missing pointwise/cvar/0.01 in run ujd7x5e7 on sweep <Sweep alelab/Autoformer/pcx97r4c (FINISHED)>. Filling all poitwisewith NAN.\n",
      "WARNING!! Missing pointwise/cvar/0.01 in run 0d9sptym on sweep <Sweep alelab/Autoformer/2cmemcp5 (FINISHED)>. Filling all poitwisewith NAN.\n",
      "WARNING!! Missing pointwise/cvar/0.01 in run 1ue2lfo7 on sweep <Sweep alelab/Autoformer/09ju025o (FINISHED)>. Filling all poitwisewith NAN.\n",
      "WARNING!! Missing pointwise/cvar/0.01 in run 5nlrqofg on sweep <Sweep alelab/Autoformer/1lk35uq7 (FINISHED)>. Filling all poitwisewith NAN.\n"
     ]
    },
    {
     "name": "stderr",
     "output_type": "stream",
     "text": [
      " 40%|███▉      | 276/696 [01:09<00:51,  8.10it/s]"
     ]
    },
    {
     "name": "stdout",
     "output_type": "stream",
     "text": [
      "WARNING!! Missing pointwise/cvar/0.01 in run a7r7hvtb on sweep <Sweep alelab/Autoformer/n3ns691s (FINISHED)>. Filling all poitwisewith NAN.\n"
     ]
    },
    {
     "name": "stderr",
     "output_type": "stream",
     "text": [
      " 54%|█████▎    | 373/696 [01:34<00:54,  5.95it/s]"
     ]
    },
    {
     "name": "stdout",
     "output_type": "stream",
     "text": [
      "WARNING!! Missing pointwise/cvar/0.01 in run ssmlwzcn on sweep <Sweep alelab/Autoformer/534837ci (FINISHED)>. Filling all poitwisewith NAN.\n",
      "WARNING!! Missing pointwise/cvar/0.01 in run ezmb8tv1 on sweep <Sweep alelab/Autoformer/534837ci (FINISHED)>. Filling all poitwisewith NAN.\n",
      "WARNING!! Missing pointwise/cvar/0.01 in run jhgvk0ev on sweep <Sweep alelab/Autoformer/534837ci (FINISHED)>. Filling all poitwisewith NAN.\n",
      "WARNING!! Missing pointwise/cvar/0.01 in run 7fvtaite on sweep <Sweep alelab/Autoformer/eocwzcye (FINISHED)>. Filling all poitwisewith NAN.\n",
      "WARNING!! Missing pointwise/cvar/0.01 in run 8ac0mh5e on sweep <Sweep alelab/Autoformer/eocwzcye (FINISHED)>. Filling all poitwisewith NAN.\n",
      "WARNING!! Missing pointwise/cvar/0.01 in run 3y41cv0q on sweep <Sweep alelab/Autoformer/eocwzcye (FINISHED)>. Filling all poitwisewith NAN.\n",
      "WARNING!! Missing pointwise/cvar/0.01 in run sik0cm4r on sweep <Sweep alelab/Autoformer/oqhuf229 (FINISHED)>. Filling all poitwisewith NAN.\n",
      "WARNING!! Missing pointwise/cvar/0.01 in run 6yhrotr0 on sweep <Sweep alelab/Autoformer/oqhuf229 (FINISHED)>. Filling all poitwisewith NAN.\n",
      "WARNING!! Missing pointwise/cvar/0.01 in run y6jdlx45 on sweep <Sweep alelab/Autoformer/oqhuf229 (FINISHED)>. Filling all poitwisewith NAN.\n"
     ]
    },
    {
     "name": "stderr",
     "output_type": "stream",
     "text": [
      " 55%|█████▌    | 383/696 [01:34<00:29, 10.78it/s]"
     ]
    },
    {
     "name": "stdout",
     "output_type": "stream",
     "text": [
      "WARNING!! Missing pointwise/cvar/0.01 in run abuwju99 on sweep <Sweep alelab/Autoformer/xqa3ta4o (FINISHED)>. Filling all poitwisewith NAN.\n",
      "WARNING!! Missing pointwise/cvar/0.01 in run us5bax46 on sweep <Sweep alelab/Autoformer/xqa3ta4o (FINISHED)>. Filling all poitwisewith NAN.\n",
      "WARNING!! Missing pointwise/cvar/0.01 in run 7pv0c41i on sweep <Sweep alelab/Autoformer/xqa3ta4o (FINISHED)>. Filling all poitwisewith NAN.\n",
      "WARNING!! Missing pointwise/cvar/0.01 in run madknp6k on sweep <Sweep alelab/Autoformer/zrc1hh4r (FINISHED)>. Filling all poitwisewith NAN.\n",
      "WARNING!! Missing pointwise/cvar/0.01 in run q5i5pku6 on sweep <Sweep alelab/Autoformer/zrc1hh4r (FINISHED)>. Filling all poitwisewith NAN.\n",
      "WARNING!! Missing pointwise/cvar/0.01 in run li8ypl6c on sweep <Sweep alelab/Autoformer/zrc1hh4r (FINISHED)>. Filling all poitwisewith NAN.\n",
      "WARNING!! Missing pointwise/cvar/0.01 in run odbs7us2 on sweep <Sweep alelab/Autoformer/s0os97qg (FINISHED)>. Filling all poitwisewith NAN.\n",
      "WARNING!! Missing pointwise/cvar/0.01 in run 894nm5il on sweep <Sweep alelab/Autoformer/s0os97qg (FINISHED)>. Filling all poitwisewith NAN.\n",
      "WARNING!! Missing pointwise/cvar/0.01 in run abu38yoz on sweep <Sweep alelab/Autoformer/s0os97qg (FINISHED)>. Filling all poitwisewith NAN.\n"
     ]
    },
    {
     "name": "stderr",
     "output_type": "stream",
     "text": [
      " 56%|█████▋    | 393/696 [01:34<00:16, 17.93it/s]"
     ]
    },
    {
     "name": "stdout",
     "output_type": "stream",
     "text": [
      "WARNING!! Missing pointwise/cvar/0.01 in run td48zo48 on sweep <Sweep alelab/Autoformer/vbjib48n (FINISHED)>. Filling all poitwisewith NAN.\n",
      "WARNING!! Missing pointwise/cvar/0.01 in run 443rx55h on sweep <Sweep alelab/Autoformer/vbjib48n (FINISHED)>. Filling all poitwisewith NAN.\n",
      "WARNING!! Missing pointwise/cvar/0.01 in run 0hew9mm3 on sweep <Sweep alelab/Autoformer/vbjib48n (FINISHED)>. Filling all poitwisewith NAN.\n",
      "WARNING!! Missing pointwise/cvar/0.01 in run jsln9kjf on sweep <Sweep alelab/Autoformer/ye066dqi (FINISHED)>. Filling all poitwisewith NAN.\n",
      "WARNING!! Missing pointwise/cvar/0.01 in run 29wc2t7n on sweep <Sweep alelab/Autoformer/ye066dqi (FINISHED)>. Filling all poitwisewith NAN.\n",
      "WARNING!! Missing pointwise/cvar/0.01 in run 5wl36nvq on sweep <Sweep alelab/Autoformer/ye066dqi (FINISHED)>. Filling all poitwisewith NAN.\n",
      "WARNING!! Missing pointwise/cvar/0.01 in run e2jgkwqr on sweep <Sweep alelab/Autoformer/q5dtzuav (FINISHED)>. Filling all poitwisewith NAN.\n",
      "WARNING!! Missing pointwise/cvar/0.01 in run l0va1koj on sweep <Sweep alelab/Autoformer/q5dtzuav (FINISHED)>. Filling all poitwisewith NAN.\n",
      "WARNING!! Missing pointwise/cvar/0.01 in run xqd4nmep on sweep <Sweep alelab/Autoformer/q5dtzuav (FINISHED)>. Filling all poitwisewith NAN.\n"
     ]
    },
    {
     "name": "stderr",
     "output_type": "stream",
     "text": [
      " 57%|█████▋    | 398/696 [01:34<00:14, 20.47it/s]"
     ]
    },
    {
     "name": "stdout",
     "output_type": "stream",
     "text": [
      "WARNING!! Missing pointwise/cvar/0.01 in run ocxv6cev on sweep <Sweep alelab/Autoformer/nd02lqgh (FINISHED)>. Filling all poitwisewith NAN.\n",
      "WARNING!! Missing pointwise/cvar/0.01 in run cuyqrsjl on sweep <Sweep alelab/Autoformer/nd02lqgh (FINISHED)>. Filling all poitwisewith NAN.\n",
      "WARNING!! Missing pointwise/cvar/0.01 in run y3ujycev on sweep <Sweep alelab/Autoformer/nd02lqgh (FINISHED)>. Filling all poitwisewith NAN.\n",
      "WARNING!! Missing pointwise/cvar/0.01 in run enfansuv on sweep <Sweep alelab/Autoformer/h1ok7emk (FINISHED)>. Filling all poitwisewith NAN.\n"
     ]
    },
    {
     "name": "stderr",
     "output_type": "stream",
     "text": [
      " 58%|█████▊    | 406/696 [01:47<02:57,  1.63it/s]"
     ]
    },
    {
     "name": "stdout",
     "output_type": "stream",
     "text": [
      "WARNING!! Missing pointwise/cvar/0.01 in run 149dqicx on sweep <Sweep alelab/Autoformer/h1ok7emk (FINISHED)>. Filling all poitwisewith NAN.\n",
      "WARNING!! Missing pointwise/cvar/0.01 in run d0xdv5w0 on sweep <Sweep alelab/Autoformer/h1ok7emk (FINISHED)>. Filling all poitwisewith NAN.\n",
      "WARNING!! Missing pointwise/cvar/0.01 in run mb7d7u0o on sweep <Sweep alelab/Autoformer/uvb0k4ye (FINISHED)>. Filling all poitwisewith NAN.\n",
      "WARNING!! Missing pointwise/cvar/0.01 in run 3uub8m7n on sweep <Sweep alelab/Autoformer/uvb0k4ye (FINISHED)>. Filling all poitwisewith NAN.\n",
      "WARNING!! Missing pointwise/cvar/0.01 in run dck5zdtt on sweep <Sweep alelab/Autoformer/uvb0k4ye (FINISHED)>. Filling all poitwisewith NAN.\n",
      "WARNING!! Missing pointwise/cvar/0.01 in run qjaht8yy on sweep <Sweep alelab/Autoformer/8xsl9ioc (FINISHED)>. Filling all poitwisewith NAN.\n",
      "WARNING!! Missing pointwise/cvar/0.01 in run z46h4r20 on sweep <Sweep alelab/Autoformer/8xsl9ioc (FINISHED)>. Filling all poitwisewith NAN.\n",
      "WARNING!! Missing pointwise/cvar/0.01 in run pxjpryfw on sweep <Sweep alelab/Autoformer/8xsl9ioc (FINISHED)>. Filling all poitwisewith NAN.\n"
     ]
    },
    {
     "name": "stderr",
     "output_type": "stream",
     "text": [
      " 60%|█████▉    | 415/696 [01:47<01:27,  3.20it/s]"
     ]
    },
    {
     "name": "stdout",
     "output_type": "stream",
     "text": [
      "WARNING!! Missing pointwise/cvar/0.01 in run vafofffn on sweep <Sweep alelab/Autoformer/ltrur3l5 (FINISHED)>. Filling all poitwisewith NAN.\n",
      "WARNING!! Missing pointwise/cvar/0.01 in run 5iio1j6a on sweep <Sweep alelab/Autoformer/ltrur3l5 (FINISHED)>. Filling all poitwisewith NAN.\n",
      "WARNING!! Missing pointwise/cvar/0.01 in run 12le11o2 on sweep <Sweep alelab/Autoformer/ltrur3l5 (FINISHED)>. Filling all poitwisewith NAN.\n",
      "WARNING!! Missing pointwise/cvar/0.01 in run 3pys1sr1 on sweep <Sweep alelab/Autoformer/vk6qre3t (FINISHED)>. Filling all poitwisewith NAN.\n",
      "WARNING!! Missing pointwise/cvar/0.01 in run cewk8geb on sweep <Sweep alelab/Autoformer/vk6qre3t (FINISHED)>. Filling all poitwisewith NAN.\n",
      "WARNING!! Missing pointwise/cvar/0.01 in run 45trk1l0 on sweep <Sweep alelab/Autoformer/vk6qre3t (FINISHED)>. Filling all poitwisewith NAN.\n",
      "WARNING!! Missing pointwise/cvar/0.01 in run 0yp5dfo0 on sweep <Sweep alelab/Autoformer/kiky6hlu (FINISHED)>. Filling all poitwisewith NAN.\n",
      "WARNING!! Missing pointwise/cvar/0.01 in run pjzemwa0 on sweep <Sweep alelab/Autoformer/kiky6hlu (FINISHED)>. Filling all poitwisewith NAN.\n",
      "WARNING!! Missing pointwise/cvar/0.01 in run 3cluutoj on sweep <Sweep alelab/Autoformer/kiky6hlu (FINISHED)>. Filling all poitwisewith NAN.\n"
     ]
    },
    {
     "name": "stderr",
     "output_type": "stream",
     "text": [
      " 69%|██████▊   | 478/696 [01:57<00:20, 10.52it/s]"
     ]
    },
    {
     "name": "stdout",
     "output_type": "stream",
     "text": [
      "WARNING!! Missing pointwise/cvar/0.01 in run 35735x1j on sweep <Sweep alelab/Autoformer/chvonje1 (FINISHED)>. Filling all poitwisewith NAN.\n",
      "WARNING!! Missing pointwise/cvar/0.01 in run poayaf3m on sweep <Sweep alelab/Autoformer/chvonje1 (FINISHED)>. Filling all poitwisewith NAN.\n",
      "WARNING!! Missing pointwise/cvar/0.01 in run 8ieeirpi on sweep <Sweep alelab/Autoformer/chvonje1 (FINISHED)>. Filling all poitwisewith NAN.\n",
      "WARNING!! Missing pointwise/cvar/0.01 in run 8uxsilax on sweep <Sweep alelab/Autoformer/chvonje1 (FINISHED)>. Filling all poitwisewith NAN.\n",
      "WARNING!! Missing pointwise/cvar/0.01 in run li5t330d on sweep <Sweep alelab/Autoformer/chvonje1 (FINISHED)>. Filling all poitwisewith NAN.\n",
      "WARNING!! Missing pointwise/cvar/0.01 in run kshrpq3s on sweep <Sweep alelab/Autoformer/chvonje1 (FINISHED)>. Filling all poitwisewith NAN.\n",
      "WARNING!! Missing pointwise/cvar/0.01 in run 8ja7o6jn on sweep <Sweep alelab/Autoformer/chvonje1 (FINISHED)>. Filling all poitwisewith NAN.\n",
      "WARNING!! Missing pointwise/cvar/0.01 in run d2xlb5rf on sweep <Sweep alelab/Autoformer/chvonje1 (FINISHED)>. Filling all poitwisewith NAN.\n",
      "WARNING!! Missing pointwise/cvar/0.01 in run y6ciggbo on sweep <Sweep alelab/Autoformer/chvonje1 (FINISHED)>. Filling all poitwisewith NAN.\n"
     ]
    },
    {
     "name": "stderr",
     "output_type": "stream",
     "text": [
      " 70%|██████▉   | 486/696 [01:57<00:12, 16.54it/s]"
     ]
    },
    {
     "name": "stdout",
     "output_type": "stream",
     "text": [
      "WARNING!! Missing pointwise/cvar/0.01 in run iew85sck on sweep <Sweep alelab/Autoformer/chvonje1 (FINISHED)>. Filling all poitwisewith NAN.\n",
      "WARNING!! Missing pointwise/cvar/0.01 in run p2iu3w6t on sweep <Sweep alelab/Autoformer/chvonje1 (FINISHED)>. Filling all poitwisewith NAN.\n",
      "WARNING!! Missing pointwise/cvar/0.01 in run g8ajpgu9 on sweep <Sweep alelab/Autoformer/chvonje1 (FINISHED)>. Filling all poitwisewith NAN.\n",
      "WARNING!! Missing pointwise/cvar/0.01 in run dnhgyj1h on sweep <Sweep alelab/Autoformer/chvonje1 (FINISHED)>. Filling all poitwisewith NAN.\n",
      "WARNING!! Missing pointwise/cvar/0.01 in run e24epvkh on sweep <Sweep alelab/Autoformer/chvonje1 (FINISHED)>. Filling all poitwisewith NAN.\n",
      "WARNING!! Missing pointwise/cvar/0.01 in run mtazn79p on sweep <Sweep alelab/Autoformer/chvonje1 (FINISHED)>. Filling all poitwisewith NAN.\n",
      "WARNING!! Missing pointwise/cvar/0.01 in run hwcf6izm on sweep <Sweep alelab/Autoformer/chvonje1 (FINISHED)>. Filling all poitwisewith NAN.\n"
     ]
    },
    {
     "name": "stderr",
     "output_type": "stream",
     "text": [
      " 80%|████████  | 559/696 [02:24<01:00,  2.26it/s]"
     ]
    },
    {
     "name": "stdout",
     "output_type": "stream",
     "text": [
      "WARNING!! Missing pointwise/cvar/0.01 in run b6jlkh0u on sweep <Sweep alelab/Autoformer/5ogbdvpd (FINISHED)>. Filling all poitwisewith NAN.\n",
      "WARNING!! Missing pointwise/cvar/0.01 in run o6ru6lmv on sweep <Sweep alelab/Autoformer/5ogbdvpd (FINISHED)>. Filling all poitwisewith NAN.\n",
      "WARNING!! Missing pointwise/cvar/0.01 in run 5ryu1pw9 on sweep <Sweep alelab/Autoformer/5ogbdvpd (FINISHED)>. Filling all poitwisewith NAN.\n",
      "WARNING!! Missing pointwise/cvar/0.01 in run 4yzhu9ye on sweep <Sweep alelab/Autoformer/3sxb6jat (FINISHED)>. Filling all poitwisewith NAN.\n",
      "WARNING!! Missing pointwise/cvar/0.01 in run nogyccx6 on sweep <Sweep alelab/Autoformer/3sxb6jat (FINISHED)>. Filling all poitwisewith NAN.\n",
      "WARNING!! Missing pointwise/cvar/0.01 in run x2e10vmx on sweep <Sweep alelab/Autoformer/3sxb6jat (FINISHED)>. Filling all poitwisewith NAN.\n",
      "WARNING!! Missing pointwise/cvar/0.01 in run rwb5vm9x on sweep <Sweep alelab/Autoformer/betdn4wr (FINISHED)>. Filling all poitwisewith NAN.\n",
      "WARNING!! Missing pointwise/cvar/0.01 in run 7itz42ep on sweep <Sweep alelab/Autoformer/betdn4wr (FINISHED)>. Filling all poitwisewith NAN.\n"
     ]
    },
    {
     "name": "stderr",
     "output_type": "stream",
     "text": [
      " 82%|████████▏ | 568/696 [02:24<00:27,  4.59it/s]"
     ]
    },
    {
     "name": "stdout",
     "output_type": "stream",
     "text": [
      "WARNING!! Missing pointwise/cvar/0.01 in run 4nj3nw4j on sweep <Sweep alelab/Autoformer/betdn4wr (FINISHED)>. Filling all poitwisewith NAN.\n",
      "WARNING!! Missing pointwise/cvar/0.01 in run foiycrdy on sweep <Sweep alelab/Autoformer/bzhmvyrv (FINISHED)>. Filling all poitwisewith NAN.\n",
      "WARNING!! Missing pointwise/cvar/0.01 in run nqe5jg1u on sweep <Sweep alelab/Autoformer/bzhmvyrv (FINISHED)>. Filling all poitwisewith NAN.\n",
      "WARNING!! Missing pointwise/cvar/0.01 in run hssqdsrp on sweep <Sweep alelab/Autoformer/bzhmvyrv (FINISHED)>. Filling all poitwisewith NAN.\n",
      "WARNING!! Missing pointwise/cvar/0.01 in run m5r6sags on sweep <Sweep alelab/Autoformer/i5nskqwf (FINISHED)>. Filling all poitwisewith NAN.\n",
      "WARNING!! Missing pointwise/cvar/0.01 in run cd5ydx1x on sweep <Sweep alelab/Autoformer/i5nskqwf (FINISHED)>. Filling all poitwisewith NAN.\n",
      "WARNING!! Missing pointwise/cvar/0.01 in run 50zmg7wf on sweep <Sweep alelab/Autoformer/i5nskqwf (FINISHED)>. Filling all poitwisewith NAN.\n",
      "WARNING!! Missing pointwise/cvar/0.01 in run q0q4ra43 on sweep <Sweep alelab/Autoformer/20o1sq0g (FINISHED)>. Filling all poitwisewith NAN.\n",
      "WARNING!! Missing pointwise/cvar/0.01 in run ozi01x7z on sweep <Sweep alelab/Autoformer/20o1sq0g (FINISHED)>. Filling all poitwisewith NAN.\n"
     ]
    },
    {
     "name": "stderr",
     "output_type": "stream",
     "text": [
      " 83%|████████▎ | 577/696 [02:24<00:13,  8.80it/s]"
     ]
    },
    {
     "name": "stdout",
     "output_type": "stream",
     "text": [
      "WARNING!! Missing pointwise/cvar/0.01 in run 7kgn4u8p on sweep <Sweep alelab/Autoformer/20o1sq0g (FINISHED)>. Filling all poitwisewith NAN.\n",
      "WARNING!! Missing pointwise/cvar/0.01 in run ddsz5oxa on sweep <Sweep alelab/Autoformer/frpb4tcn (FINISHED)>. Filling all poitwisewith NAN.\n",
      "WARNING!! Missing pointwise/cvar/0.01 in run ehe6w4v2 on sweep <Sweep alelab/Autoformer/frpb4tcn (FINISHED)>. Filling all poitwisewith NAN.\n",
      "WARNING!! Missing pointwise/cvar/0.01 in run k63ym4xd on sweep <Sweep alelab/Autoformer/frpb4tcn (FINISHED)>. Filling all poitwisewith NAN.\n",
      "WARNING!! Missing pointwise/cvar/0.01 in run w786rkrq on sweep <Sweep alelab/Autoformer/6wutk2eb (FINISHED)>. Filling all poitwisewith NAN.\n",
      "WARNING!! Missing pointwise/cvar/0.01 in run 95n01cbo on sweep <Sweep alelab/Autoformer/6wutk2eb (FINISHED)>. Filling all poitwisewith NAN.\n",
      "WARNING!! Missing pointwise/cvar/0.01 in run naqjxbdu on sweep <Sweep alelab/Autoformer/6wutk2eb (FINISHED)>. Filling all poitwisewith NAN.\n",
      "WARNING!! Missing pointwise/cvar/0.01 in run gq4o3l2u on sweep <Sweep alelab/Autoformer/enz9wsys (FINISHED)>. Filling all poitwisewith NAN.\n",
      "WARNING!! Missing pointwise/cvar/0.01 in run zbxw8wgb on sweep <Sweep alelab/Autoformer/enz9wsys (FINISHED)>. Filling all poitwisewith NAN.\n",
      "WARNING!! Missing pointwise/cvar/0.01 in run n2vw75gt on sweep <Sweep alelab/Autoformer/enz9wsys (FINISHED)>. Filling all poitwisewith NAN.\n"
     ]
    },
    {
     "name": "stderr",
     "output_type": "stream",
     "text": [
      " 84%|████████▍ | 586/696 [02:25<00:07, 14.53it/s]"
     ]
    },
    {
     "name": "stdout",
     "output_type": "stream",
     "text": [
      "WARNING!! Missing pointwise/cvar/0.01 in run a4vc8kc7 on sweep <Sweep alelab/Autoformer/giiycekf (FINISHED)>. Filling all poitwisewith NAN.\n",
      "WARNING!! Missing pointwise/cvar/0.01 in run 78dqnnb6 on sweep <Sweep alelab/Autoformer/giiycekf (FINISHED)>. Filling all poitwisewith NAN.\n",
      "WARNING!! Missing pointwise/cvar/0.01 in run 493vxihu on sweep <Sweep alelab/Autoformer/giiycekf (FINISHED)>. Filling all poitwisewith NAN.\n",
      "WARNING!! Missing pointwise/cvar/0.01 in run 3smhuyue on sweep <Sweep alelab/Autoformer/4o2frr5s (FINISHED)>. Filling all poitwisewith NAN.\n",
      "WARNING!! Missing pointwise/cvar/0.01 in run tyvbd19a on sweep <Sweep alelab/Autoformer/4o2frr5s (FINISHED)>. Filling all poitwisewith NAN.\n",
      "WARNING!! Missing pointwise/cvar/0.01 in run ivhfavos on sweep <Sweep alelab/Autoformer/evkdpvjp (FINISHED)>. Filling all poitwisewith NAN.\n",
      "WARNING!! Missing pointwise/cvar/0.01 in run un6q5ehw on sweep <Sweep alelab/Autoformer/evkdpvjp (FINISHED)>. Filling all poitwisewith NAN.\n",
      "WARNING!! Missing pointwise/cvar/0.01 in run 433logkk on sweep <Sweep alelab/Autoformer/evkdpvjp (FINISHED)>. Filling all poitwisewith NAN.\n",
      "WARNING!! Missing pointwise/cvar/0.01 in run garx6wl0 on sweep <Sweep alelab/Autoformer/2xvl8jh1 (FINISHED)>. Filling all poitwisewith NAN.\n"
     ]
    },
    {
     "name": "stderr",
     "output_type": "stream",
     "text": [
      " 85%|████████▌ | 594/696 [02:25<00:05, 19.82it/s]"
     ]
    },
    {
     "name": "stdout",
     "output_type": "stream",
     "text": [
      "WARNING!! Missing pointwise/cvar/0.01 in run rbwqcne2 on sweep <Sweep alelab/Autoformer/2xvl8jh1 (FINISHED)>. Filling all poitwisewith NAN.\n",
      "WARNING!! Missing pointwise/cvar/0.01 in run mlsmhyu1 on sweep <Sweep alelab/Autoformer/2xvl8jh1 (FINISHED)>. Filling all poitwisewith NAN.\n",
      "WARNING!! Missing pointwise/cvar/0.01 in run 0dqm40i7 on sweep <Sweep alelab/Autoformer/7zfue0kq (FINISHED)>. Filling all poitwisewith NAN.\n",
      "WARNING!! Missing pointwise/cvar/0.01 in run 04dwv70b on sweep <Sweep alelab/Autoformer/7zfue0kq (FINISHED)>. Filling all poitwisewith NAN.\n",
      "WARNING!! Missing pointwise/cvar/0.01 in run 7zrxb96n on sweep <Sweep alelab/Autoformer/7zfue0kq (FINISHED)>. Filling all poitwisewith NAN.\n",
      "WARNING!! Missing pointwise/cvar/0.01 in run tickbccb on sweep <Sweep alelab/Autoformer/5tcpf9nl (FINISHED)>. Filling all poitwisewith NAN.\n",
      "WARNING!! Missing pointwise/cvar/0.01 in run c4z5umai on sweep <Sweep alelab/Autoformer/5tcpf9nl (FINISHED)>. Filling all poitwisewith NAN.\n",
      "WARNING!! Missing pointwise/cvar/0.01 in run idtz7hic on sweep <Sweep alelab/Autoformer/5tcpf9nl (FINISHED)>. Filling all poitwisewith NAN.\n"
     ]
    },
    {
     "name": "stderr",
     "output_type": "stream",
     "text": [
      " 89%|████████▊ | 617/696 [02:35<00:18,  4.30it/s]"
     ]
    },
    {
     "name": "stdout",
     "output_type": "stream",
     "text": [
      "WARNING!! Missing pointwise/cvar/0.01 in run hf4djmbq on sweep <Sweep alelab/Autoformer/hg459ux2 (FINISHED)>. Filling all poitwisewith NAN.\n",
      "WARNING!! Missing pointwise/cvar/0.01 in run wauroaxv on sweep <Sweep alelab/Autoformer/hg459ux2 (FINISHED)>. Filling all poitwisewith NAN.\n",
      "WARNING!! Missing pointwise/cvar/0.01 in run 9dubv32g on sweep <Sweep alelab/Autoformer/hg459ux2 (FINISHED)>. Filling all poitwisewith NAN.\n"
     ]
    },
    {
     "name": "stderr",
     "output_type": "stream",
     "text": [
      " 96%|█████████▌| 669/696 [02:50<00:07,  3.62it/s]"
     ]
    },
    {
     "name": "stdout",
     "output_type": "stream",
     "text": [
      "WARNING!! Missing pointwise/cvar/0.01 in run ks36on6j on sweep <Sweep alelab/Autoformer/kuvo82ub (FINISHED)>. Filling all poitwisewith NAN.\n",
      "WARNING!! Missing pointwise/cvar/0.01 in run x03d8gyt on sweep <Sweep alelab/Autoformer/kuvo82ub (FINISHED)>. Filling all poitwisewith NAN.\n",
      "WARNING!! Missing pointwise/cvar/0.01 in run h2qh7sdt on sweep <Sweep alelab/Autoformer/kuvo82ub (FINISHED)>. Filling all poitwisewith NAN.\n",
      "WARNING!! Missing pointwise/cvar/0.01 in run ex45lpjw on sweep <Sweep alelab/Autoformer/kuvo82ub (FINISHED)>. Filling all poitwisewith NAN.\n",
      "WARNING!! Missing pointwise/cvar/0.01 in run vxcdnkp8 on sweep <Sweep alelab/Autoformer/kuvo82ub (FINISHED)>. Filling all poitwisewith NAN.\n",
      "WARNING!! Missing pointwise/cvar/0.01 in run nyr0i9ht on sweep <Sweep alelab/Autoformer/kuvo82ub (FINISHED)>. Filling all poitwisewith NAN.\n",
      "WARNING!! Missing pointwise/cvar/0.01 in run fy68ul7h on sweep <Sweep alelab/Autoformer/kuvo82ub (FINISHED)>. Filling all poitwisewith NAN.\n",
      "WARNING!! Missing pointwise/cvar/0.01 in run ov93q8te on sweep <Sweep alelab/Autoformer/kuvo82ub (FINISHED)>. Filling all poitwisewith NAN.\n"
     ]
    },
    {
     "name": "stderr",
     "output_type": "stream",
     "text": [
      " 97%|█████████▋| 677/696 [02:50<00:02,  6.57it/s]"
     ]
    },
    {
     "name": "stdout",
     "output_type": "stream",
     "text": [
      "WARNING!! Missing pointwise/cvar/0.01 in run 0wvmszxw on sweep <Sweep alelab/Autoformer/kuvo82ub (FINISHED)>. Filling all poitwisewith NAN.\n",
      "WARNING!! Missing pointwise/cvar/0.01 in run mo4lpvuo on sweep <Sweep alelab/Autoformer/kuvo82ub (FINISHED)>. Filling all poitwisewith NAN.\n",
      "WARNING!! Missing pointwise/cvar/0.01 in run ewl2bwc9 on sweep <Sweep alelab/Autoformer/kuvo82ub (FINISHED)>. Filling all poitwisewith NAN.\n",
      "WARNING!! Missing pointwise/cvar/0.01 in run 092u33lj on sweep <Sweep alelab/Autoformer/kuvo82ub (FINISHED)>. Filling all poitwisewith NAN.\n",
      "WARNING!! Missing pointwise/cvar/0.01 in run gi0mw9h7 on sweep <Sweep alelab/Autoformer/kuvo82ub (FINISHED)>. Filling all poitwisewith NAN.\n",
      "WARNING!! Missing pointwise/cvar/0.01 in run 0roswz2a on sweep <Sweep alelab/Autoformer/kuvo82ub (FINISHED)>. Filling all poitwisewith NAN.\n",
      "WARNING!! Missing pointwise/cvar/0.01 in run j30xdff9 on sweep <Sweep alelab/Autoformer/kuvo82ub (FINISHED)>. Filling all poitwisewith NAN.\n",
      "WARNING!! Missing pointwise/cvar/0.01 in run uglzgsuo on sweep <Sweep alelab/Autoformer/kuvo82ub (FINISHED)>. Filling all poitwisewith NAN.\n"
     ]
    },
    {
     "name": "stderr",
     "output_type": "stream",
     "text": [
      "100%|██████████| 696/696 [02:51<00:00,  4.06it/s]\n"
     ]
    },
    {
     "name": "stdout",
     "output_type": "stream",
     "text": [
      "Fetched 696 runs\n",
      "Total records: (693648, 108)\n",
      "Total runs: 695\n",
      "Backup data saved as pickle: ../data_backups/2024_03_29__original_experiments.pkl\n",
      "Backup data saved as CSV: ../data_backups/2024_03_29__original_experiments.csv\n",
      "Returning backed up data as a pandas DF\n"
     ]
    }
   ],
   "source": [
    "experiment_tags = [\n",
    "'e16_finaljan_allerm_replicated',\n",
    "'e17_finaljan_constant_constrained_replicated',\n",
    "'e18_icml_constant_constrained_loose',\n",
    "'e19_icml_resilience_val',\n",
    "'e19_icml_resilience_train',\n",
    "# 'e20_icml_monotonic',\n",
    "# 'e20_icml_monotonic_no_resilience',\n",
    "# 'e21_icml_static_linear_no_resilience',\n",
    "# 'e21_icml_static_linear_resilience',\n",
    "]\n",
    "saved_data = data_backup.backup_experiment_data(\n",
    "    experiment_tags = experiment_tags,\n",
    "    filename_prefix=\"../data_backups/2024_03_29__original_experiments\"\n",
    ")"
   ]
  },
  {
   "cell_type": "code",
   "execution_count": 7,
   "id": "5c6e9d8a",
   "metadata": {},
   "outputs": [
    {
     "name": "stdout",
     "output_type": "stream",
     "text": [
      "Experiment tags being considered: ['e16_finaljan_allerm_replicated', 'e20_icml_monotonic', 'e20_icml_monotonic_no_resilience']\n",
      "Saving to backup data filename: ../data_backups/2024_03_29__original_monotonic_plus_erm\n"
     ]
    },
    {
     "name": "stderr",
     "output_type": "stream",
     "text": [
      "  2%|▏         | 3/192 [00:00<00:07, 25.32it/s]"
     ]
    },
    {
     "name": "stdout",
     "output_type": "stream",
     "text": [
      "WARNING!! Missing pointwise/cvar/0.01 in run 46eiylr4 on sweep <Sweep alelab/Autoformer/lt83n39t (FINISHED)>. Filling all poitwisewith NAN.\n",
      "WARNING!! Missing pointwise/cvar/0.01 in run kqafceog on sweep <Sweep alelab/Autoformer/sbttl446 (FINISHED)>. Filling all poitwisewith NAN.\n",
      "WARNING!! Missing pointwise/cvar/0.01 in run w8ciowhu on sweep <Sweep alelab/Autoformer/bdqgoved (FINISHED)>. Filling all poitwisewith NAN.\n",
      "WARNING!! Missing pointwise/cvar/0.01 in run 7oz8ja72 on sweep <Sweep alelab/Autoformer/qmtf2khh (FINISHED)>. Filling all poitwisewith NAN.\n",
      "WARNING!! Missing pointwise/cvar/0.01 in run jjsj4739 on sweep <Sweep alelab/Autoformer/jovrq4s9 (FINISHED)>. Filling all poitwisewith NAN.\n",
      "WARNING!! Missing pointwise/cvar/0.01 in run ay9ibumy on sweep <Sweep alelab/Autoformer/jgu3zr4j (FINISHED)>. Filling all poitwisewith NAN.\n",
      "WARNING!! Missing pointwise/cvar/0.01 in run 1xkus39z on sweep <Sweep alelab/Autoformer/ih7ztgdb (FINISHED)>. Filling all poitwisewith NAN.\n"
     ]
    },
    {
     "name": "stderr",
     "output_type": "stream",
     "text": [
      "  7%|▋         | 13/192 [00:00<00:04, 37.15it/s]"
     ]
    },
    {
     "name": "stdout",
     "output_type": "stream",
     "text": [
      "WARNING!! Missing pointwise/cvar/0.01 in run gpoxp0x1 on sweep <Sweep alelab/Autoformer/ij5rifgr (FINISHED)>. Filling all poitwisewith NAN.\n",
      "WARNING!! Missing pointwise/cvar/0.01 in run nd19yoes on sweep <Sweep alelab/Autoformer/6epg921u (FINISHED)>. Filling all poitwisewith NAN.\n",
      "WARNING!! Missing pointwise/cvar/0.01 in run 50h0t7of on sweep <Sweep alelab/Autoformer/vqgzd86m (FINISHED)>. Filling all poitwisewith NAN.\n",
      "WARNING!! Missing pointwise/cvar/0.01 in run tui58mt3 on sweep <Sweep alelab/Autoformer/pn2yjox2 (FINISHED)>. Filling all poitwisewith NAN.\n",
      "WARNING!! Missing pointwise/cvar/0.01 in run gnk48xkp on sweep <Sweep alelab/Autoformer/x7avaixr (FINISHED)>. Filling all poitwisewith NAN.\n",
      "WARNING!! Missing pointwise/cvar/0.01 in run 6j2noc51 on sweep <Sweep alelab/Autoformer/g64vvc0h (FINISHED)>. Filling all poitwisewith NAN.\n",
      "WARNING!! Missing pointwise/cvar/0.01 in run xfb5tk8w on sweep <Sweep alelab/Autoformer/4hayxhai (FINISHED)>. Filling all poitwisewith NAN.\n",
      "WARNING!! Missing pointwise/cvar/0.01 in run ksfevn28 on sweep <Sweep alelab/Autoformer/malxty8x (FINISHED)>. Filling all poitwisewith NAN.\n",
      "WARNING!! Missing pointwise/cvar/0.01 in run cwjbes7f on sweep <Sweep alelab/Autoformer/4jr08uyp (FINISHED)>. Filling all poitwisewith NAN.\n",
      "WARNING!! Missing pointwise/cvar/0.01 in run kfuuukti on sweep <Sweep alelab/Autoformer/2ysggjyi (FINISHED)>. Filling all poitwisewith NAN.\n"
     ]
    },
    {
     "name": "stderr",
     "output_type": "stream",
     "text": [
      " 12%|█▏        | 23/192 [00:00<00:04, 40.21it/s]"
     ]
    },
    {
     "name": "stdout",
     "output_type": "stream",
     "text": [
      "WARNING!! Missing pointwise/cvar/0.01 in run 439yla73 on sweep <Sweep alelab/Autoformer/jleouwk7 (FINISHED)>. Filling all poitwisewith NAN.\n",
      "WARNING!! Missing pointwise/cvar/0.01 in run eytsqy7m on sweep <Sweep alelab/Autoformer/ms94lurw (FINISHED)>. Filling all poitwisewith NAN.\n",
      "WARNING!! Missing pointwise/cvar/0.01 in run ip9y6a4k on sweep <Sweep alelab/Autoformer/q2t9mtr4 (FINISHED)>. Filling all poitwisewith NAN.\n",
      "WARNING!! Missing pointwise/cvar/0.01 in run 86dc8cwx on sweep <Sweep alelab/Autoformer/zg6f9iii (FINISHED)>. Filling all poitwisewith NAN.\n",
      "WARNING!! Missing pointwise/cvar/0.01 in run 3qoeuaat on sweep <Sweep alelab/Autoformer/lphl6s91 (FINISHED)>. Filling all poitwisewith NAN.\n",
      "WARNING!! Missing pointwise/cvar/0.01 in run uprohtvz on sweep <Sweep alelab/Autoformer/7sr9knsu (FINISHED)>. Filling all poitwisewith NAN.\n",
      "WARNING!! Missing pointwise/cvar/0.01 in run yxhpr6ic on sweep <Sweep alelab/Autoformer/wu4k3c1o (FINISHED)>. Filling all poitwisewith NAN.\n",
      "WARNING!! Missing pointwise/cvar/0.01 in run sk7sg3n3 on sweep <Sweep alelab/Autoformer/7e5oibix (FINISHED)>. Filling all poitwisewith NAN.\n",
      "WARNING!! Missing pointwise/cvar/0.01 in run dcfna4az on sweep <Sweep alelab/Autoformer/beei2j6d (FINISHED)>. Filling all poitwisewith NAN.\n"
     ]
    },
    {
     "name": "stderr",
     "output_type": "stream",
     "text": [
      " 17%|█▋        | 33/192 [00:00<00:03, 40.26it/s]"
     ]
    },
    {
     "name": "stdout",
     "output_type": "stream",
     "text": [
      "WARNING!! Missing pointwise/cvar/0.01 in run 5uto0nxr on sweep <Sweep alelab/Autoformer/0kwiroaf (FINISHED)>. Filling all poitwisewith NAN.\n",
      "WARNING!! Missing pointwise/cvar/0.01 in run l7jvpe39 on sweep <Sweep alelab/Autoformer/mhdrbll3 (FINISHED)>. Filling all poitwisewith NAN.\n",
      "WARNING!! Missing pointwise/cvar/0.01 in run db3i21fz on sweep <Sweep alelab/Autoformer/7celq6eh (FINISHED)>. Filling all poitwisewith NAN.\n",
      "WARNING!! Missing pointwise/cvar/0.01 in run b1caisae on sweep <Sweep alelab/Autoformer/yawhqlpn (FINISHED)>. Filling all poitwisewith NAN.\n",
      "WARNING!! Missing pointwise/cvar/0.01 in run 62dnzdxi on sweep <Sweep alelab/Autoformer/nf72fk0z (FINISHED)>. Filling all poitwisewith NAN.\n",
      "WARNING!! Missing pointwise/cvar/0.01 in run k412jc7r on sweep <Sweep alelab/Autoformer/8prc32x7 (FINISHED)>. Filling all poitwisewith NAN.\n",
      "WARNING!! Missing pointwise/cvar/0.01 in run j3yo6fq8 on sweep <Sweep alelab/Autoformer/gqq1b8r8 (FINISHED)>. Filling all poitwisewith NAN.\n",
      "WARNING!! Missing pointwise/cvar/0.01 in run o0qhncz7 on sweep <Sweep alelab/Autoformer/umtzz0hw (FINISHED)>. Filling all poitwisewith NAN.\n",
      "WARNING!! Missing pointwise/cvar/0.01 in run 6mmjgtah on sweep <Sweep alelab/Autoformer/fk4os6sx (FINISHED)>. Filling all poitwisewith NAN.\n",
      "WARNING!! Missing pointwise/cvar/0.01 in run 2wewampa on sweep <Sweep alelab/Autoformer/7vqy5011 (FINISHED)>. Filling all poitwisewith NAN.\n",
      "WARNING!! Missing pointwise/cvar/0.01 in run ks32q5jx on sweep <Sweep alelab/Autoformer/muicf0pt (FINISHED)>. Filling all poitwisewith NAN.\n"
     ]
    },
    {
     "name": "stderr",
     "output_type": "stream",
     "text": [
      " 22%|██▏       | 43/192 [00:01<00:03, 41.38it/s]"
     ]
    },
    {
     "name": "stdout",
     "output_type": "stream",
     "text": [
      "WARNING!! Missing pointwise/cvar/0.01 in run g52o4jwl on sweep <Sweep alelab/Autoformer/dm3sc6v1 (FINISHED)>. Filling all poitwisewith NAN.\n",
      "WARNING!! Missing pointwise/cvar/0.01 in run 5ek1fc7e on sweep <Sweep alelab/Autoformer/ipvccq3y (FINISHED)>. Filling all poitwisewith NAN.\n",
      "WARNING!! Missing pointwise/cvar/0.01 in run vdaqi82n on sweep <Sweep alelab/Autoformer/ec4c4bc9 (FINISHED)>. Filling all poitwisewith NAN.\n",
      "WARNING!! Missing pointwise/cvar/0.01 in run ba8ap51c on sweep <Sweep alelab/Autoformer/m0vv03l6 (FINISHED)>. Filling all poitwisewith NAN.\n",
      "WARNING!! Missing pointwise/cvar/0.01 in run 11qp3e06 on sweep <Sweep alelab/Autoformer/yg5sphit (FINISHED)>. Filling all poitwisewith NAN.\n",
      "WARNING!! Missing pointwise/cvar/0.01 in run o6zjneop on sweep <Sweep alelab/Autoformer/krwdbmny (FINISHED)>. Filling all poitwisewith NAN.\n",
      "WARNING!! Missing pointwise/cvar/0.01 in run y7zsdtty on sweep <Sweep alelab/Autoformer/ka8yc8l6 (FINISHED)>. Filling all poitwisewith NAN.\n",
      "WARNING!! Missing pointwise/cvar/0.01 in run txmp81ud on sweep <Sweep alelab/Autoformer/6fmwev9y (FINISHED)>. Filling all poitwisewith NAN.\n",
      "WARNING!! Missing pointwise/cvar/0.01 in run h64i8mkd on sweep <Sweep alelab/Autoformer/ut1fbrt5 (FINISHED)>. Filling all poitwisewith NAN.\n",
      "WARNING!! Missing pointwise/cvar/0.01 in run 3ei59lp3 on sweep <Sweep alelab/Autoformer/geap6ti6 (FINISHED)>. Filling all poitwisewith NAN.\n"
     ]
    },
    {
     "name": "stderr",
     "output_type": "stream",
     "text": [
      " 25%|██▌       | 48/192 [00:01<00:03, 42.15it/s]"
     ]
    },
    {
     "name": "stdout",
     "output_type": "stream",
     "text": [
      "WARNING!! Missing pointwise/cvar/0.01 in run ja0rn2gv on sweep <Sweep alelab/Autoformer/foko19vi (FINISHED)>. Filling all poitwisewith NAN.\n",
      "WARNING!! Missing pointwise/cvar/0.01 in run b70rydp4 on sweep <Sweep alelab/Autoformer/6086greh (FINISHED)>. Filling all poitwisewith NAN.\n",
      "WARNING!! Missing pointwise/cvar/0.01 in run kpnkn1r2 on sweep <Sweep alelab/Autoformer/nb5kttk8 (FINISHED)>. Filling all poitwisewith NAN.\n"
     ]
    },
    {
     "name": "stderr",
     "output_type": "stream",
     "text": [
      " 29%|██▊       | 55/192 [00:15<01:37,  1.40it/s]"
     ]
    },
    {
     "name": "stdout",
     "output_type": "stream",
     "text": [
      "WARNING!! Missing pointwise/cvar/0.01 in run bhviq1q1 on sweep <Sweep alelab/Autoformer/tn4bxfln (FINISHED)>. Filling all poitwisewith NAN.\n",
      "WARNING!! Missing pointwise/cvar/0.01 in run pr9dq59i on sweep <Sweep alelab/Autoformer/gwu84886 (FINISHED)>. Filling all poitwisewith NAN.\n",
      "WARNING!! Missing pointwise/cvar/0.01 in run rdvtzdu0 on sweep <Sweep alelab/Autoformer/guvabvpo (FINISHED)>. Filling all poitwisewith NAN.\n",
      "WARNING!! Missing pointwise/cvar/0.01 in run d6gw6vlr on sweep <Sweep alelab/Autoformer/5bcsrvnl (FINISHED)>. Filling all poitwisewith NAN.\n",
      "WARNING!! Missing pointwise/cvar/0.01 in run k1aosmmt on sweep <Sweep alelab/Autoformer/fiy8h5az (FINISHED)>. Filling all poitwisewith NAN.\n",
      "WARNING!! Missing pointwise/cvar/0.01 in run uep6h233 on sweep <Sweep alelab/Autoformer/k3dmlfro (FINISHED)>. Filling all poitwisewith NAN.\n",
      "WARNING!! Missing pointwise/cvar/0.01 in run yzczzq3k on sweep <Sweep alelab/Autoformer/yzsnf55y (FINISHED)>. Filling all poitwisewith NAN.\n",
      "WARNING!! Missing pointwise/cvar/0.01 in run mlmc38hm on sweep <Sweep alelab/Autoformer/uoh7i5rc (FINISHED)>. Filling all poitwisewith NAN.\n"
     ]
    },
    {
     "name": "stderr",
     "output_type": "stream",
     "text": [
      " 34%|███▍      | 65/192 [00:15<00:42,  3.01it/s]"
     ]
    },
    {
     "name": "stdout",
     "output_type": "stream",
     "text": [
      "WARNING!! Missing pointwise/cvar/0.01 in run yu9b53b8 on sweep <Sweep alelab/Autoformer/zob1igh4 (FINISHED)>. Filling all poitwisewith NAN.\n",
      "WARNING!! Missing pointwise/cvar/0.01 in run 5l0zgu6c on sweep <Sweep alelab/Autoformer/weuxhx1e (FINISHED)>. Filling all poitwisewith NAN.\n",
      "WARNING!! Missing pointwise/cvar/0.01 in run 05ldp6w5 on sweep <Sweep alelab/Autoformer/b42q8ht9 (FINISHED)>. Filling all poitwisewith NAN.\n",
      "WARNING!! Missing pointwise/cvar/0.01 in run l3bpw796 on sweep <Sweep alelab/Autoformer/06ih897h (FINISHED)>. Filling all poitwisewith NAN.\n",
      "WARNING!! Missing pointwise/cvar/0.01 in run 4qlccmoa on sweep <Sweep alelab/Autoformer/ttuyqvng (FINISHED)>. Filling all poitwisewith NAN.\n",
      "WARNING!! Missing pointwise/cvar/0.01 in run u1iukrhd on sweep <Sweep alelab/Autoformer/2z5n2cwk (FINISHED)>. Filling all poitwisewith NAN.\n",
      "WARNING!! Missing pointwise/cvar/0.01 in run sw5t7xek on sweep <Sweep alelab/Autoformer/791d07s2 (FINISHED)>. Filling all poitwisewith NAN.\n",
      "WARNING!! Missing pointwise/cvar/0.01 in run zsadrz2y on sweep <Sweep alelab/Autoformer/eravqb9r (FINISHED)>. Filling all poitwisewith NAN.\n",
      "WARNING!! Missing pointwise/cvar/0.01 in run s0mrw3ye on sweep <Sweep alelab/Autoformer/mve9obua (FINISHED)>. Filling all poitwisewith NAN.\n",
      "WARNING!! Missing pointwise/cvar/0.01 in run j2m09yy2 on sweep <Sweep alelab/Autoformer/xzi7bo8j (FINISHED)>. Filling all poitwisewith NAN.\n",
      "WARNING!! Missing pointwise/cvar/0.01 in run ur1azjs9 on sweep <Sweep alelab/Autoformer/k557eg9z (FINISHED)>. Filling all poitwisewith NAN.\n"
     ]
    },
    {
     "name": "stderr",
     "output_type": "stream",
     "text": [
      " 39%|███▉      | 75/192 [00:15<00:19,  5.94it/s]"
     ]
    },
    {
     "name": "stdout",
     "output_type": "stream",
     "text": [
      "WARNING!! Missing pointwise/cvar/0.01 in run q1r4yiu9 on sweep <Sweep alelab/Autoformer/vhwknc8m (FINISHED)>. Filling all poitwisewith NAN.\n",
      "WARNING!! Missing pointwise/cvar/0.01 in run bb6twx2q on sweep <Sweep alelab/Autoformer/7t0qxjcb (FINISHED)>. Filling all poitwisewith NAN.\n",
      "WARNING!! Missing pointwise/cvar/0.01 in run nsiwidck on sweep <Sweep alelab/Autoformer/ilvbuaoy (FINISHED)>. Filling all poitwisewith NAN.\n",
      "WARNING!! Missing pointwise/cvar/0.01 in run ibbyuqn3 on sweep <Sweep alelab/Autoformer/jd1tfgpq (FINISHED)>. Filling all poitwisewith NAN.\n",
      "WARNING!! Missing pointwise/cvar/0.01 in run hvqu1tfr on sweep <Sweep alelab/Autoformer/4z2ybqz7 (FINISHED)>. Filling all poitwisewith NAN.\n",
      "WARNING!! Missing pointwise/cvar/0.01 in run 91fw9zex on sweep <Sweep alelab/Autoformer/w84kyhyg (FINISHED)>. Filling all poitwisewith NAN.\n",
      "WARNING!! Missing pointwise/cvar/0.01 in run ffl7oth7 on sweep <Sweep alelab/Autoformer/1oex1295 (FINISHED)>. Filling all poitwisewith NAN.\n",
      "WARNING!! Missing pointwise/cvar/0.01 in run mpgx51bw on sweep <Sweep alelab/Autoformer/jo0t4rer (FINISHED)>. Filling all poitwisewith NAN.\n",
      "WARNING!! Missing pointwise/cvar/0.01 in run 62cemmyy on sweep <Sweep alelab/Autoformer/o90zpuvs (FINISHED)>. Filling all poitwisewith NAN.\n"
     ]
    },
    {
     "name": "stderr",
     "output_type": "stream",
     "text": [
      " 44%|████▍     | 85/192 [00:15<00:10, 10.66it/s]"
     ]
    },
    {
     "name": "stdout",
     "output_type": "stream",
     "text": [
      "WARNING!! Missing pointwise/cvar/0.01 in run 4olsvawh on sweep <Sweep alelab/Autoformer/2okec97v (FINISHED)>. Filling all poitwisewith NAN.\n",
      "WARNING!! Missing pointwise/cvar/0.01 in run w1wn4qqx on sweep <Sweep alelab/Autoformer/3k5qav7y (FINISHED)>. Filling all poitwisewith NAN.\n",
      "WARNING!! Missing pointwise/cvar/0.01 in run c2z9d0t8 on sweep <Sweep alelab/Autoformer/sgbpcs4q (FINISHED)>. Filling all poitwisewith NAN.\n",
      "WARNING!! Missing pointwise/cvar/0.01 in run e455h1k0 on sweep <Sweep alelab/Autoformer/u5e8ow3y (FINISHED)>. Filling all poitwisewith NAN.\n",
      "WARNING!! Missing pointwise/cvar/0.01 in run ox8algen on sweep <Sweep alelab/Autoformer/yt5ayx5e (FINISHED)>. Filling all poitwisewith NAN.\n",
      "WARNING!! Missing pointwise/cvar/0.01 in run xr2jk7lt on sweep <Sweep alelab/Autoformer/p9k1mt0c (FINISHED)>. Filling all poitwisewith NAN.\n",
      "WARNING!! Missing pointwise/cvar/0.01 in run k00insgj on sweep <Sweep alelab/Autoformer/6l3c737s (FINISHED)>. Filling all poitwisewith NAN.\n",
      "WARNING!! Missing pointwise/cvar/0.01 in run ffd4818l on sweep <Sweep alelab/Autoformer/lwfa4yvw (FINISHED)>. Filling all poitwisewith NAN.\n",
      "WARNING!! Missing pointwise/cvar/0.01 in run 64efpyc2 on sweep <Sweep alelab/Autoformer/ay8bzncm (FINISHED)>. Filling all poitwisewith NAN.\n",
      "WARNING!! Missing pointwise/cvar/0.01 in run 7my0l1si on sweep <Sweep alelab/Autoformer/cc4fxsi8 (FINISHED)>. Filling all poitwisewith NAN.\n",
      "WARNING!! Missing pointwise/cvar/0.01 in run ww4kpulq on sweep <Sweep alelab/Autoformer/8sm95l0r (FINISHED)>. Filling all poitwisewith NAN.\n"
     ]
    },
    {
     "name": "stderr",
     "output_type": "stream",
     "text": [
      " 49%|████▉     | 95/192 [00:16<00:05, 17.34it/s]"
     ]
    },
    {
     "name": "stdout",
     "output_type": "stream",
     "text": [
      "WARNING!! Missing pointwise/cvar/0.01 in run qeenbsu5 on sweep <Sweep alelab/Autoformer/75n9vzks (FINISHED)>. Filling all poitwisewith NAN.\n",
      "WARNING!! Missing pointwise/cvar/0.01 in run tqley6a5 on sweep <Sweep alelab/Autoformer/g0hic2vn (FINISHED)>. Filling all poitwisewith NAN.\n",
      "WARNING!! Missing pointwise/cvar/0.01 in run jw4e9epr on sweep <Sweep alelab/Autoformer/ntzatkhy (FINISHED)>. Filling all poitwisewith NAN.\n",
      "WARNING!! Missing pointwise/cvar/0.01 in run 6l7um9wg on sweep <Sweep alelab/Autoformer/gn006mm1 (FINISHED)>. Filling all poitwisewith NAN.\n",
      "WARNING!! Missing pointwise/cvar/0.01 in run ayww0muj on sweep <Sweep alelab/Autoformer/mw4r77si (FINISHED)>. Filling all poitwisewith NAN.\n",
      "WARNING!! Missing pointwise/cvar/0.01 in run q6cb9nhs on sweep <Sweep alelab/Autoformer/2tz5kkc8 (FINISHED)>. Filling all poitwisewith NAN.\n",
      "WARNING!! Missing pointwise/cvar/0.01 in run 38y472rp on sweep <Sweep alelab/Autoformer/sfa8rh7p (FINISHED)>. Filling all poitwisewith NAN.\n"
     ]
    },
    {
     "name": "stderr",
     "output_type": "stream",
     "text": [
      " 62%|██████▏   | 119/192 [00:27<00:18,  3.96it/s]"
     ]
    },
    {
     "name": "stdout",
     "output_type": "stream",
     "text": [
      "WARNING!! Missing pointwise/cvar/0.01 in run 35735x1j on sweep <Sweep alelab/Autoformer/chvonje1 (FINISHED)>. Filling all poitwisewith NAN.\n",
      "WARNING!! Missing pointwise/cvar/0.01 in run poayaf3m on sweep <Sweep alelab/Autoformer/chvonje1 (FINISHED)>. Filling all poitwisewith NAN.\n",
      "WARNING!! Missing pointwise/cvar/0.01 in run 8ieeirpi on sweep <Sweep alelab/Autoformer/chvonje1 (FINISHED)>. Filling all poitwisewith NAN.\n",
      "WARNING!! Missing pointwise/cvar/0.01 in run 8uxsilax on sweep <Sweep alelab/Autoformer/chvonje1 (FINISHED)>. Filling all poitwisewith NAN.\n",
      "WARNING!! Missing pointwise/cvar/0.01 in run li5t330d on sweep <Sweep alelab/Autoformer/chvonje1 (FINISHED)>. Filling all poitwisewith NAN.\n",
      "WARNING!! Missing pointwise/cvar/0.01 in run kshrpq3s on sweep <Sweep alelab/Autoformer/chvonje1 (FINISHED)>. Filling all poitwisewith NAN.\n",
      "WARNING!! Missing pointwise/cvar/0.01 in run 8ja7o6jn on sweep <Sweep alelab/Autoformer/chvonje1 (FINISHED)>. Filling all poitwisewith NAN.\n",
      "WARNING!! Missing pointwise/cvar/0.01 in run d2xlb5rf on sweep <Sweep alelab/Autoformer/chvonje1 (FINISHED)>. Filling all poitwisewith NAN.\n",
      "WARNING!! Missing pointwise/cvar/0.01 in run y6ciggbo on sweep <Sweep alelab/Autoformer/chvonje1 (FINISHED)>. Filling all poitwisewith NAN.\n"
     ]
    },
    {
     "name": "stderr",
     "output_type": "stream",
     "text": [
      " 66%|██████▌   | 127/192 [00:27<00:09,  6.72it/s]"
     ]
    },
    {
     "name": "stdout",
     "output_type": "stream",
     "text": [
      "WARNING!! Missing pointwise/cvar/0.01 in run iew85sck on sweep <Sweep alelab/Autoformer/chvonje1 (FINISHED)>. Filling all poitwisewith NAN.\n",
      "WARNING!! Missing pointwise/cvar/0.01 in run p2iu3w6t on sweep <Sweep alelab/Autoformer/chvonje1 (FINISHED)>. Filling all poitwisewith NAN.\n",
      "WARNING!! Missing pointwise/cvar/0.01 in run g8ajpgu9 on sweep <Sweep alelab/Autoformer/chvonje1 (FINISHED)>. Filling all poitwisewith NAN.\n",
      "WARNING!! Missing pointwise/cvar/0.01 in run dnhgyj1h on sweep <Sweep alelab/Autoformer/chvonje1 (FINISHED)>. Filling all poitwisewith NAN.\n",
      "WARNING!! Missing pointwise/cvar/0.01 in run e24epvkh on sweep <Sweep alelab/Autoformer/chvonje1 (FINISHED)>. Filling all poitwisewith NAN.\n",
      "WARNING!! Missing pointwise/cvar/0.01 in run mtazn79p on sweep <Sweep alelab/Autoformer/chvonje1 (FINISHED)>. Filling all poitwisewith NAN.\n",
      "WARNING!! Missing pointwise/cvar/0.01 in run hwcf6izm on sweep <Sweep alelab/Autoformer/chvonje1 (FINISHED)>. Filling all poitwisewith NAN.\n"
     ]
    },
    {
     "name": "stderr",
     "output_type": "stream",
     "text": [
      " 88%|████████▊ | 168/192 [00:37<00:04,  5.44it/s]"
     ]
    },
    {
     "name": "stdout",
     "output_type": "stream",
     "text": [
      "WARNING!! Missing pointwise/cvar/0.01 in run ks36on6j on sweep <Sweep alelab/Autoformer/kuvo82ub (FINISHED)>. Filling all poitwisewith NAN.\n",
      "WARNING!! Missing pointwise/cvar/0.01 in run x03d8gyt on sweep <Sweep alelab/Autoformer/kuvo82ub (FINISHED)>. Filling all poitwisewith NAN.\n",
      "WARNING!! Missing pointwise/cvar/0.01 in run h2qh7sdt on sweep <Sweep alelab/Autoformer/kuvo82ub (FINISHED)>. Filling all poitwisewith NAN.\n",
      "WARNING!! Missing pointwise/cvar/0.01 in run ex45lpjw on sweep <Sweep alelab/Autoformer/kuvo82ub (FINISHED)>. Filling all poitwisewith NAN.\n",
      "WARNING!! Missing pointwise/cvar/0.01 in run vxcdnkp8 on sweep <Sweep alelab/Autoformer/kuvo82ub (FINISHED)>. Filling all poitwisewith NAN.\n",
      "WARNING!! Missing pointwise/cvar/0.01 in run nyr0i9ht on sweep <Sweep alelab/Autoformer/kuvo82ub (FINISHED)>. Filling all poitwisewith NAN.\n",
      "WARNING!! Missing pointwise/cvar/0.01 in run fy68ul7h on sweep <Sweep alelab/Autoformer/kuvo82ub (FINISHED)>. Filling all poitwisewith NAN.\n",
      "WARNING!! Missing pointwise/cvar/0.01 in run ov93q8te on sweep <Sweep alelab/Autoformer/kuvo82ub (FINISHED)>. Filling all poitwisewith NAN.\n",
      "WARNING!! Missing pointwise/cvar/0.01 in run 0wvmszxw on sweep <Sweep alelab/Autoformer/kuvo82ub (FINISHED)>. Filling all poitwisewith NAN.\n"
     ]
    },
    {
     "name": "stderr",
     "output_type": "stream",
     "text": [
      " 92%|█████████▏| 176/192 [00:37<00:01,  9.51it/s]"
     ]
    },
    {
     "name": "stdout",
     "output_type": "stream",
     "text": [
      "WARNING!! Missing pointwise/cvar/0.01 in run mo4lpvuo on sweep <Sweep alelab/Autoformer/kuvo82ub (FINISHED)>. Filling all poitwisewith NAN.\n",
      "WARNING!! Missing pointwise/cvar/0.01 in run ewl2bwc9 on sweep <Sweep alelab/Autoformer/kuvo82ub (FINISHED)>. Filling all poitwisewith NAN.\n",
      "WARNING!! Missing pointwise/cvar/0.01 in run 092u33lj on sweep <Sweep alelab/Autoformer/kuvo82ub (FINISHED)>. Filling all poitwisewith NAN.\n",
      "WARNING!! Missing pointwise/cvar/0.01 in run gi0mw9h7 on sweep <Sweep alelab/Autoformer/kuvo82ub (FINISHED)>. Filling all poitwisewith NAN.\n",
      "WARNING!! Missing pointwise/cvar/0.01 in run 0roswz2a on sweep <Sweep alelab/Autoformer/kuvo82ub (FINISHED)>. Filling all poitwisewith NAN.\n",
      "WARNING!! Missing pointwise/cvar/0.01 in run j30xdff9 on sweep <Sweep alelab/Autoformer/kuvo82ub (FINISHED)>. Filling all poitwisewith NAN.\n",
      "WARNING!! Missing pointwise/cvar/0.01 in run uglzgsuo on sweep <Sweep alelab/Autoformer/kuvo82ub (FINISHED)>. Filling all poitwisewith NAN.\n"
     ]
    },
    {
     "name": "stderr",
     "output_type": "stream",
     "text": [
      "100%|██████████| 192/192 [00:38<00:00,  5.04it/s]\n"
     ]
    },
    {
     "name": "stdout",
     "output_type": "stream",
     "text": [
      "Fetched 192 runs\n",
      "Total records: (193536, 108)\n",
      "Total runs: 192\n",
      "Backup data saved as pickle: ../data_backups/2024_03_29__original_monotonic_plus_erm.pkl\n",
      "Backup data saved as CSV: ../data_backups/2024_03_29__original_monotonic_plus_erm.csv\n",
      "Returning backed up data as a pandas DF\n"
     ]
    }
   ],
   "source": [
    "experiment_tags = [\n",
    "'e16_finaljan_allerm_replicated',\n",
    "#'e17_finaljan_constant_constrained_replicated',\n",
    "# 'e18_icml_constant_constrained_loose',\n",
    "# 'e19_icml_resilience_val',\n",
    "# 'e19_icml_resilience_train',\n",
    "'e20_icml_monotonic',\n",
    "'e20_icml_monotonic_no_resilience',\n",
    "# 'e21_icml_static_linear_no_resilience',\n",
    "# 'e21_icml_static_linear_resilience',\n",
    "]\n",
    "saved_data = data_backup.backup_experiment_data(\n",
    "    experiment_tags = experiment_tags,\n",
    "    filename_prefix=\"../data_backups/2024_03_29__original_monotonic_plus_erm\"\n",
    ")"
   ]
  },
  {
   "cell_type": "markdown",
   "id": "6b6382fe",
   "metadata": {},
   "source": [
    "## Debug and benchmark"
   ]
  },
  {
   "cell_type": "code",
   "execution_count": 5,
   "id": "c0f13f7e",
   "metadata": {},
   "outputs": [
    {
     "name": "stdout",
     "output_type": "stream",
     "text": [
      "Benchmarking three metrics \n",
      "Experiment tags being considered: ['dev_benchmark_wandb_dl']\n",
      "Saving to backup data filename: ../data_backups/deleteme_speed_benchmark\n"
     ]
    },
    {
     "name": "stderr",
     "output_type": "stream",
     "text": [
      "100%|██████████| 15/15 [00:00<00:00, 96.03it/s] \n"
     ]
    },
    {
     "name": "stdout",
     "output_type": "stream",
     "text": [
      "WARNING!! Missing pointwise/cvar/0.01 in run srfnlxpq on sweep None. Filling all poitwisewith NAN.\n",
      "WARNING!! Missing pointwise/cvar/0.01 in run 29z2zody on sweep None. Filling all poitwisewith NAN.\n",
      "WARNING!! Missing pointwise/cvar/0.01 in run c1vx993c on sweep None. Filling all poitwisewith NAN.\n",
      "WARNING!! Missing pointwise/cvar/0.01 in run dee09yde on sweep None. Filling all poitwisewith NAN.\n",
      "WARNING!! Missing pointwise/cvar/0.01 in run 93mstn5t on sweep None. Filling all poitwisewith NAN.\n",
      "WARNING!! Missing pointwise/cvar/0.01 in run 8v5a5rd9 on sweep None. Filling all poitwisewith NAN.\n",
      "WARNING!! Missing pointwise/cvar/0.01 in run 4ccjigue on sweep None. Filling all poitwisewith NAN.\n",
      "WARNING!! Missing pointwise/cvar/0.01 in run v8l2gqvu on sweep None. Filling all poitwisewith NAN.\n",
      "WARNING!! Missing pointwise/cvar/0.01 in run i1zkvnim on sweep None. Filling all poitwisewith NAN.\n",
      "WARNING!! Missing pointwise/cvar/0.01 in run f5g7pedj on sweep None. Filling all poitwisewith NAN.\n",
      "WARNING!! Missing pointwise/cvar/0.01 in run 8st2iumu on sweep None. Filling all poitwisewith NAN.\n",
      "WARNING!! Missing pointwise/cvar/0.01 in run 0ps2eaux on sweep None. Filling all poitwisewith NAN.\n",
      "WARNING!! Missing pointwise/cvar/0.01 in run lj5bfyj3 on sweep None. Filling all poitwisewith NAN.\n",
      "WARNING!! Missing pointwise/cvar/0.01 in run 6f89gond on sweep None. Filling all poitwisewith NAN.\n",
      "WARNING!! Missing pointwise/cvar/0.01 in run 96wcnklv on sweep None. Filling all poitwisewith NAN.\n",
      "Fetched 15 runs\n",
      "Total records: (8640, 119)\n",
      "Total runs: 15\n",
      "Backup data saved as pickle: ../data_backups/deleteme_speed_benchmark.pkl\n",
      "Backup data saved as CSV: ../data_backups/deleteme_speed_benchmark.csv\n",
      "Returning backed up data as a pandas DF\n",
      "CPU times: user 1.2 s, sys: 172 ms, total: 1.37 s\n",
      "Wall time: 3.63 s\n"
     ]
    }
   ],
   "source": [
    "%%time\n",
    "print(\"Benchmarking three metrics \")\n",
    "saved_data = data_backup.backup_experiment_data(\n",
    "    experiment_tags = [\n",
    "        \"dev_benchmark_wandb_dl\",\n",
    "    ],\n",
    "    filename_prefix=\"../data_backups/deleteme_speed_benchmark\"\n",
    ")"
   ]
  },
  {
   "cell_type": "code",
   "execution_count": 39,
   "id": "1e41b97f",
   "metadata": {},
   "outputs": [
    {
     "name": "stdout",
     "output_type": "stream",
     "text": [
      "Experiment tags being considered: ['erm_rebuttal_newmodels']\n",
      "Saving to backup data filename: ../data_backups/deleteme_dev\n"
     ]
    },
    {
     "name": "stderr",
     "output_type": "stream",
     "text": [
      "  6%|▌         | 5/83 [00:00<00:02, 34.60it/s]"
     ]
    },
    {
     "name": "stdout",
     "output_type": "stream",
     "text": [
      "WARNING!! Missing pointwise/cvar/0.01 in run y2shj0jp on sweep None. Filling all poitwisewith NAN.\n",
      "WARNING!! Missing pointwise/cvar/0.01 in run v1xbb1y6 on sweep None. Filling all poitwisewith NAN.\n",
      "WARNING!! Missing pointwise/cvar/0.01 in run hmi3lxxs on sweep None. Filling all poitwisewith NAN.\n",
      "WARNING!! Missing pointwise/cvar/0.01 in run 9hu9f3df on sweep None. Filling all poitwisewith NAN.\n",
      "WARNING!! Missing pointwise/cvar/0.01 in run c3zzb05x on sweep None. Filling all poitwisewith NAN.\n",
      "WARNING!! Missing pointwise/cvar/0.01 in run vjbq485j on sweep None. Filling all poitwisewith NAN.\n",
      "WARNING!! Missing pointwise/cvar/0.01 in run b7s8jptd on sweep None. Filling all poitwisewith NAN.\n"
     ]
    },
    {
     "name": "stderr",
     "output_type": "stream",
     "text": [
      " 17%|█▋        | 14/83 [00:00<00:01, 36.72it/s]"
     ]
    },
    {
     "name": "stdout",
     "output_type": "stream",
     "text": [
      "WARNING!! Missing pointwise/cvar/0.01 in run nilwbio1 on sweep None. Filling all poitwisewith NAN.\n",
      "WARNING!! Missing pointwise/cvar/0.01 in run jgykcbi0 on sweep None. Filling all poitwisewith NAN.\n",
      "WARNING!! Missing pointwise/cvar/0.01 in run ci9ssydd on sweep None. Filling all poitwisewith NAN.\n",
      "WARNING!! Missing pointwise/cvar/0.01 in run q3x2oux3 on sweep None. Filling all poitwisewith NAN.\n",
      "WARNING!! Missing pointwise/cvar/0.01 in run rnbsyq2k on sweep None. Filling all poitwisewith NAN.\n",
      "WARNING!! Missing pointwise/cvar/0.01 in run mw9t2ygl on sweep None. Filling all poitwisewith NAN.\n",
      "WARNING!! Missing pointwise/cvar/0.01 in run nmhkgaj4 on sweep None. Filling all poitwisewith NAN.\n",
      "WARNING!! Missing pointwise/cvar/0.01 in run f4i2vy5f on sweep None. Filling all poitwisewith NAN.\n",
      "WARNING!! Missing pointwise/cvar/0.01 in run o1qr4wlh on sweep None. Filling all poitwisewith NAN.\n"
     ]
    },
    {
     "name": "stderr",
     "output_type": "stream",
     "text": [
      " 27%|██▋       | 22/83 [00:00<00:01, 36.64it/s]"
     ]
    },
    {
     "name": "stdout",
     "output_type": "stream",
     "text": [
      "WARNING!! Missing pointwise/cvar/0.01 in run flfhnh21 on sweep None. Filling all poitwisewith NAN.\n"
     ]
    },
    {
     "name": "stderr",
     "output_type": "stream",
     "text": [
      " 36%|███▌      | 30/83 [00:01<00:04, 11.62it/s]"
     ]
    },
    {
     "name": "stdout",
     "output_type": "stream",
     "text": [
      "WARNING!! Missing pointwise/cvar/0.01 in run ssafm6eb on sweep None. Filling all poitwisewith NAN.\n",
      "WARNING!! Missing pointwise/cvar/0.01 in run hi58ycu8 on sweep None. Filling all poitwisewith NAN.\n",
      "WARNING!! Missing pointwise/cvar/0.01 in run ugo2sq09 on sweep None. Filling all poitwisewith NAN.\n",
      "WARNING!! Missing pointwise/cvar/0.01 in run c2nb9f6u on sweep None. Filling all poitwisewith NAN.\n",
      "WARNING!! Missing pointwise/cvar/0.01 in run 4su66w4s on sweep None. Filling all poitwisewith NAN.\n"
     ]
    },
    {
     "name": "stderr",
     "output_type": "stream",
     "text": [
      " 47%|████▋     | 39/83 [00:02<00:02, 19.82it/s]"
     ]
    },
    {
     "name": "stdout",
     "output_type": "stream",
     "text": [
      "WARNING!! Missing pointwise/cvar/0.01 in run 3l8p07md on sweep None. Filling all poitwisewith NAN.\n",
      "WARNING!! Missing pointwise/cvar/0.01 in run vsrqp2wj on sweep None. Filling all poitwisewith NAN.\n",
      "WARNING!! Missing pointwise/cvar/0.01 in run x68ozuxw on sweep None. Filling all poitwisewith NAN.\n"
     ]
    },
    {
     "name": "stderr",
     "output_type": "stream",
     "text": [
      " 67%|██████▋   | 56/83 [00:09<00:09,  2.74it/s]"
     ]
    },
    {
     "name": "stdout",
     "output_type": "stream",
     "text": [
      "WARNING!! Missing pointwise/cvar/0.01 in run w6aaoqg5 on sweep None. Filling all poitwisewith NAN.\n",
      "WARNING!! Missing pointwise/cvar/0.01 in run dj3k89lq on sweep None. Filling all poitwisewith NAN.\n",
      "WARNING!! Missing pointwise/cvar/0.01 in run 9few0vri on sweep None. Filling all poitwisewith NAN.\n",
      "WARNING!! Missing pointwise/cvar/0.01 in run 0upvtnu8 on sweep None. Filling all poitwisewith NAN.\n"
     ]
    },
    {
     "name": "stderr",
     "output_type": "stream",
     "text": [
      " 88%|████████▊ | 73/83 [00:09<00:01,  9.27it/s]"
     ]
    },
    {
     "name": "stdout",
     "output_type": "stream",
     "text": [
      "WARNING!! Missing pointwise/cvar/0.01 in run bbedl2fm on sweep None. Filling all poitwisewith NAN.\n",
      "WARNING!! Missing pointwise/cvar/0.01 in run 2u2orrgj on sweep None. Filling all poitwisewith NAN.\n",
      "WARNING!! Missing pointwise/cvar/0.01 in run jpybtu8v on sweep None. Filling all poitwisewith NAN.\n",
      "WARNING!! Missing pointwise/cvar/0.01 in run nusqty14 on sweep None. Filling all poitwisewith NAN.\n"
     ]
    },
    {
     "name": "stderr",
     "output_type": "stream",
     "text": [
      "100%|██████████| 83/83 [00:10<00:00,  8.09it/s]\n"
     ]
    },
    {
     "name": "stdout",
     "output_type": "stream",
     "text": [
      "WARNING!! Missing pointwise/cvar/0.01 in run 93jqr60g on sweep None. Filling all poitwisewith NAN.\n",
      "WARNING!! Missing pointwise/cvar/0.01 in run rtu2j4af on sweep None. Filling all poitwisewith NAN.\n",
      "Fetched 83 runs\n",
      "Total records: (82512, 120)\n",
      "Total runs: 83\n",
      "Backup data saved as pickle: ../data_backups/deleteme_dev.pkl\n",
      "Backup data saved as CSV: ../data_backups/deleteme_dev.csv\n",
      "Returning backed up data as a pandas DF\n"
     ]
    }
   ],
   "source": [
    "#dev\n",
    "dd = data_backup.backup_experiment_data(\n",
    "    experiment_tags = [\n",
    "        \"erm_rebuttal_newmodels\"\n",
    "    ],\n",
    "    filename_prefix=\"../data_backups/deleteme_dev\"\n",
    ")"
   ]
  },
  {
   "cell_type": "code",
   "execution_count": 44,
   "id": "728d048f",
   "metadata": {},
   "outputs": [
    {
     "data": {
      "text/html": [
       "<div>\n",
       "<style scoped>\n",
       "    .dataframe tbody tr th:only-of-type {\n",
       "        vertical-align: middle;\n",
       "    }\n",
       "\n",
       "    .dataframe tbody tr th {\n",
       "        vertical-align: top;\n",
       "    }\n",
       "\n",
       "    .dataframe thead th {\n",
       "        text-align: right;\n",
       "    }\n",
       "</style>\n",
       "<table border=\"1\" class=\"dataframe\">\n",
       "  <thead>\n",
       "    <tr style=\"text-align: right;\">\n",
       "      <th></th>\n",
       "      <th>model</th>\n",
       "      <th>constraint_type</th>\n",
       "      <th>data_path</th>\n",
       "      <th>run_id</th>\n",
       "    </tr>\n",
       "  </thead>\n",
       "  <tbody>\n",
       "    <tr>\n",
       "      <th>10</th>\n",
       "      <td>Pyraformer</td>\n",
       "      <td>erm</td>\n",
       "      <td>traffic.csv</td>\n",
       "      <td>3</td>\n",
       "    </tr>\n",
       "    <tr>\n",
       "      <th>0</th>\n",
       "      <td>FiLM</td>\n",
       "      <td>erm</td>\n",
       "      <td>electricity.csv</td>\n",
       "      <td>4</td>\n",
       "    </tr>\n",
       "    <tr>\n",
       "      <th>16</th>\n",
       "      <td>iTransformer</td>\n",
       "      <td>erm</td>\n",
       "      <td>electricity.csv</td>\n",
       "      <td>4</td>\n",
       "    </tr>\n",
       "    <tr>\n",
       "      <th>15</th>\n",
       "      <td>TimesNet</td>\n",
       "      <td>erm</td>\n",
       "      <td>weather.csv</td>\n",
       "      <td>4</td>\n",
       "    </tr>\n",
       "    <tr>\n",
       "      <th>14</th>\n",
       "      <td>TimesNet</td>\n",
       "      <td>erm</td>\n",
       "      <td>traffic.csv</td>\n",
       "      <td>4</td>\n",
       "    </tr>\n",
       "    <tr>\n",
       "      <th>13</th>\n",
       "      <td>TimesNet</td>\n",
       "      <td>erm</td>\n",
       "      <td>exchange_rate.csv</td>\n",
       "      <td>4</td>\n",
       "    </tr>\n",
       "    <tr>\n",
       "      <th>12</th>\n",
       "      <td>TimesNet</td>\n",
       "      <td>erm</td>\n",
       "      <td>electricity.csv</td>\n",
       "      <td>4</td>\n",
       "    </tr>\n",
       "    <tr>\n",
       "      <th>11</th>\n",
       "      <td>Pyraformer</td>\n",
       "      <td>erm</td>\n",
       "      <td>weather.csv</td>\n",
       "      <td>4</td>\n",
       "    </tr>\n",
       "    <tr>\n",
       "      <th>17</th>\n",
       "      <td>iTransformer</td>\n",
       "      <td>erm</td>\n",
       "      <td>traffic.csv</td>\n",
       "      <td>4</td>\n",
       "    </tr>\n",
       "    <tr>\n",
       "      <th>18</th>\n",
       "      <td>iTransformer</td>\n",
       "      <td>erm</td>\n",
       "      <td>weather.csv</td>\n",
       "      <td>4</td>\n",
       "    </tr>\n",
       "    <tr>\n",
       "      <th>7</th>\n",
       "      <td>Nonstationary_Transformer</td>\n",
       "      <td>erm</td>\n",
       "      <td>weather.csv</td>\n",
       "      <td>4</td>\n",
       "    </tr>\n",
       "    <tr>\n",
       "      <th>6</th>\n",
       "      <td>Nonstationary_Transformer</td>\n",
       "      <td>erm</td>\n",
       "      <td>traffic.csv</td>\n",
       "      <td>4</td>\n",
       "    </tr>\n",
       "    <tr>\n",
       "      <th>5</th>\n",
       "      <td>Nonstationary_Transformer</td>\n",
       "      <td>erm</td>\n",
       "      <td>exchange_rate.csv</td>\n",
       "      <td>4</td>\n",
       "    </tr>\n",
       "    <tr>\n",
       "      <th>4</th>\n",
       "      <td>Nonstationary_Transformer</td>\n",
       "      <td>erm</td>\n",
       "      <td>electricity.csv</td>\n",
       "      <td>4</td>\n",
       "    </tr>\n",
       "    <tr>\n",
       "      <th>3</th>\n",
       "      <td>FiLM</td>\n",
       "      <td>erm</td>\n",
       "      <td>weather.csv</td>\n",
       "      <td>4</td>\n",
       "    </tr>\n",
       "    <tr>\n",
       "      <th>2</th>\n",
       "      <td>FiLM</td>\n",
       "      <td>erm</td>\n",
       "      <td>traffic.csv</td>\n",
       "      <td>4</td>\n",
       "    </tr>\n",
       "    <tr>\n",
       "      <th>1</th>\n",
       "      <td>FiLM</td>\n",
       "      <td>erm</td>\n",
       "      <td>exchange_rate.csv</td>\n",
       "      <td>4</td>\n",
       "    </tr>\n",
       "    <tr>\n",
       "      <th>8</th>\n",
       "      <td>Pyraformer</td>\n",
       "      <td>erm</td>\n",
       "      <td>electricity.csv</td>\n",
       "      <td>8</td>\n",
       "    </tr>\n",
       "    <tr>\n",
       "      <th>9</th>\n",
       "      <td>Pyraformer</td>\n",
       "      <td>erm</td>\n",
       "      <td>exchange_rate.csv</td>\n",
       "      <td>8</td>\n",
       "    </tr>\n",
       "  </tbody>\n",
       "</table>\n",
       "</div>"
      ],
      "text/plain": [
       "                        model constraint_type          data_path  run_id\n",
       "10                 Pyraformer             erm        traffic.csv       3\n",
       "0                        FiLM             erm    electricity.csv       4\n",
       "16               iTransformer             erm    electricity.csv       4\n",
       "15                   TimesNet             erm        weather.csv       4\n",
       "14                   TimesNet             erm        traffic.csv       4\n",
       "13                   TimesNet             erm  exchange_rate.csv       4\n",
       "12                   TimesNet             erm    electricity.csv       4\n",
       "11                 Pyraformer             erm        weather.csv       4\n",
       "17               iTransformer             erm        traffic.csv       4\n",
       "18               iTransformer             erm        weather.csv       4\n",
       "7   Nonstationary_Transformer             erm        weather.csv       4\n",
       "6   Nonstationary_Transformer             erm        traffic.csv       4\n",
       "5   Nonstationary_Transformer             erm  exchange_rate.csv       4\n",
       "4   Nonstationary_Transformer             erm    electricity.csv       4\n",
       "3                        FiLM             erm        weather.csv       4\n",
       "2                        FiLM             erm        traffic.csv       4\n",
       "1                        FiLM             erm  exchange_rate.csv       4\n",
       "8                  Pyraformer             erm    electricity.csv       8\n",
       "9                  Pyraformer             erm  exchange_rate.csv       8"
      ]
     },
     "execution_count": 44,
     "metadata": {},
     "output_type": "execute_result"
    }
   ],
   "source": [
    "dd.groupby(['model','constraint_type','data_path'])['run_id'].nunique().reset_index().sort_values(by='run_id')"
   ]
  },
  {
   "cell_type": "code",
   "execution_count": null,
   "id": "d1405d70",
   "metadata": {},
   "outputs": [],
   "source": [
    "dd.groupby(['model','constraint_type','data_path'])['run_id'].nunique().reset_index().sort_values(by='run_id')"
   ]
  }
 ],
 "metadata": {
  "kernelspec": {
   "display_name": "Python 3 (ipykernel)",
   "language": "python",
   "name": "python3"
  },
  "language_info": {
   "codemirror_mode": {
    "name": "ipython",
    "version": 3
   },
   "file_extension": ".py",
   "mimetype": "text/x-python",
   "name": "python",
   "nbconvert_exporter": "python",
   "pygments_lexer": "ipython3",
   "version": "3.7.12"
  }
 },
 "nbformat": 4,
 "nbformat_minor": 5
}
