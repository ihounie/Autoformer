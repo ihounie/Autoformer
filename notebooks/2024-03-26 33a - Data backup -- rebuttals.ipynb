{
 "cells": [
  {
   "cell_type": "markdown",
   "id": "461ef4b3",
   "metadata": {},
   "source": [
    "## Libraries and setup"
   ]
  },
  {
   "cell_type": "code",
   "execution_count": 1,
   "id": "31a718a8",
   "metadata": {},
   "outputs": [],
   "source": [
    "%load_ext autoreload\n",
    "%autoreload 2"
   ]
  },
  {
   "cell_type": "code",
   "execution_count": 2,
   "id": "57da5343",
   "metadata": {},
   "outputs": [],
   "source": [
    "import sys\n",
    "import os\n",
    "sys.path.append(os.path.abspath(os.path.join(os.getcwd(), os.pardir)))"
   ]
  },
  {
   "cell_type": "code",
   "execution_count": 3,
   "id": "d4db62bc",
   "metadata": {},
   "outputs": [],
   "source": [
    "import pandas as pd\n",
    "import numpy as np\n",
    "from matplotlib import pyplot as plt\n",
    "import seaborn as sns\n",
    "from IPython.display import display, Markdown, Latex"
   ]
  },
  {
   "cell_type": "code",
   "execution_count": 4,
   "id": "5bb34d2b",
   "metadata": {},
   "outputs": [],
   "source": [
    "from utils import wandb_utils\n",
    "from exp import data_backup"
   ]
  },
  {
   "cell_type": "code",
   "execution_count": 12,
   "id": "c7a1bd07",
   "metadata": {},
   "outputs": [
    {
     "ename": "KeyboardInterrupt",
     "evalue": "",
     "output_type": "error",
     "traceback": [
      "\u001b[0;31m---------------------------------------------------------------------------\u001b[0m",
      "\u001b[0;31mKeyboardInterrupt\u001b[0m                         Traceback (most recent call last)",
      "\u001b[0;32m/tmp/ipykernel_2477512/2403511990.py\u001b[0m in \u001b[0;36m<module>\u001b[0;34m\u001b[0m\n\u001b[1;32m      1\u001b[0m \u001b[0mexperiment_tags\u001b[0m \u001b[0;34m=\u001b[0m \u001b[0;34m[\u001b[0m\u001b[0;34m'e29_icml_erm_newdatasets'\u001b[0m\u001b[0;34m]\u001b[0m\u001b[0;34m\u001b[0m\u001b[0;34m\u001b[0m\u001b[0m\n\u001b[1;32m      2\u001b[0m \u001b[0;34m\u001b[0m\u001b[0m\n\u001b[0;32m----> 3\u001b[0;31m \u001b[0mbackup_data\u001b[0m\u001b[0;34m=\u001b[0m\u001b[0mwandb_utils\u001b[0m\u001b[0;34m.\u001b[0m\u001b[0mget_experiment_data\u001b[0m\u001b[0;34m(\u001b[0m\u001b[0;34m\"Autoformer\"\u001b[0m\u001b[0;34m,\u001b[0m\u001b[0;34m\"alelab\"\u001b[0m\u001b[0;34m,\u001b[0m\u001b[0mexperiment_tags\u001b[0m\u001b[0;34m=\u001b[0m\u001b[0mexperiment_tags\u001b[0m\u001b[0;34m,\u001b[0m\u001b[0mquery_dict\u001b[0m\u001b[0;34m=\u001b[0m\u001b[0;34m{\u001b[0m\u001b[0;34m\"tags\"\u001b[0m\u001b[0;34m:\u001b[0m \u001b[0;34m{\u001b[0m\u001b[0;34m\"$in\"\u001b[0m\u001b[0;34m:\u001b[0m \u001b[0mexperiment_tags\u001b[0m\u001b[0;34m}\u001b[0m\u001b[0;34m}\u001b[0m\u001b[0;34m)\u001b[0m\u001b[0;34m\u001b[0m\u001b[0;34m\u001b[0m\u001b[0m\n\u001b[0m",
      "\u001b[0;32m~/sourcecode/Autoformer/utils/wandb_utils.py\u001b[0m in \u001b[0;36mget_experiment_data\u001b[0;34m(project, workspace, experiment_tags, state, query_dict, timeout)\u001b[0m\n\u001b[1;32m     30\u001b[0m     \u001b[0mall_runs\u001b[0m \u001b[0;34m=\u001b[0m \u001b[0;34m[\u001b[0m\u001b[0;34m]\u001b[0m\u001b[0;34m\u001b[0m\u001b[0;34m\u001b[0m\u001b[0m\n\u001b[1;32m     31\u001b[0m     \u001b[0mrun_counter\u001b[0m \u001b[0;34m=\u001b[0m \u001b[0;36m0\u001b[0m\u001b[0;34m\u001b[0m\u001b[0;34m\u001b[0m\u001b[0m\n\u001b[0;32m---> 32\u001b[0;31m     \u001b[0;32mfor\u001b[0m \u001b[0mrun\u001b[0m \u001b[0;32min\u001b[0m \u001b[0mtqdm\u001b[0m\u001b[0;34m(\u001b[0m\u001b[0mruns\u001b[0m\u001b[0;34m)\u001b[0m\u001b[0;34m:\u001b[0m\u001b[0;34m\u001b[0m\u001b[0;34m\u001b[0m\u001b[0m\n\u001b[0m\u001b[1;32m     33\u001b[0m         \u001b[0mattempts\u001b[0m\u001b[0;34m=\u001b[0m\u001b[0;36m0\u001b[0m\u001b[0;34m\u001b[0m\u001b[0;34m\u001b[0m\u001b[0m\n\u001b[1;32m     34\u001b[0m         \u001b[0;32mwhile\u001b[0m \u001b[0mattempts\u001b[0m\u001b[0;34m<\u001b[0m\u001b[0;36m5\u001b[0m\u001b[0;34m:\u001b[0m\u001b[0;34m\u001b[0m\u001b[0;34m\u001b[0m\u001b[0m\n",
      "\u001b[0;32m~/miniconda3/envs/autoformer/lib/python3.7/site-packages/tqdm/std.py\u001b[0m in \u001b[0;36m__init__\u001b[0;34m(self, iterable, desc, total, leave, file, ncols, mininterval, maxinterval, miniters, ascii, disable, unit, unit_scale, dynamic_ncols, smoothing, bar_format, initial, position, postfix, unit_divisor, write_bytes, lock_args, nrows, colour, delay, gui, **kwargs)\u001b[0m\n\u001b[1;32m    977\u001b[0m         \u001b[0;32mif\u001b[0m \u001b[0mtotal\u001b[0m \u001b[0;32mis\u001b[0m \u001b[0;32mNone\u001b[0m \u001b[0;32mand\u001b[0m \u001b[0miterable\u001b[0m \u001b[0;32mis\u001b[0m \u001b[0;32mnot\u001b[0m \u001b[0;32mNone\u001b[0m\u001b[0;34m:\u001b[0m\u001b[0;34m\u001b[0m\u001b[0;34m\u001b[0m\u001b[0m\n\u001b[1;32m    978\u001b[0m             \u001b[0;32mtry\u001b[0m\u001b[0;34m:\u001b[0m\u001b[0;34m\u001b[0m\u001b[0;34m\u001b[0m\u001b[0m\n\u001b[0;32m--> 979\u001b[0;31m                 \u001b[0mtotal\u001b[0m \u001b[0;34m=\u001b[0m \u001b[0mlen\u001b[0m\u001b[0;34m(\u001b[0m\u001b[0miterable\u001b[0m\u001b[0;34m)\u001b[0m\u001b[0;34m\u001b[0m\u001b[0;34m\u001b[0m\u001b[0m\n\u001b[0m\u001b[1;32m    980\u001b[0m             \u001b[0;32mexcept\u001b[0m \u001b[0;34m(\u001b[0m\u001b[0mTypeError\u001b[0m\u001b[0;34m,\u001b[0m \u001b[0mAttributeError\u001b[0m\u001b[0;34m)\u001b[0m\u001b[0;34m:\u001b[0m\u001b[0;34m\u001b[0m\u001b[0;34m\u001b[0m\u001b[0m\n\u001b[1;32m    981\u001b[0m                 \u001b[0mtotal\u001b[0m \u001b[0;34m=\u001b[0m \u001b[0;32mNone\u001b[0m\u001b[0;34m\u001b[0m\u001b[0;34m\u001b[0m\u001b[0m\n",
      "\u001b[0;32m~/miniconda3/envs/autoformer/lib/python3.7/site-packages/wandb/apis/public.py\u001b[0m in \u001b[0;36m__len__\u001b[0;34m(self)\u001b[0m\n\u001b[1;32m   1182\u001b[0m     \u001b[0;32mdef\u001b[0m \u001b[0m__len__\u001b[0m\u001b[0;34m(\u001b[0m\u001b[0mself\u001b[0m\u001b[0;34m)\u001b[0m\u001b[0;34m:\u001b[0m\u001b[0;34m\u001b[0m\u001b[0;34m\u001b[0m\u001b[0m\n\u001b[1;32m   1183\u001b[0m         \u001b[0;32mif\u001b[0m \u001b[0mself\u001b[0m\u001b[0;34m.\u001b[0m\u001b[0mlength\u001b[0m \u001b[0;32mis\u001b[0m \u001b[0;32mNone\u001b[0m\u001b[0;34m:\u001b[0m\u001b[0;34m\u001b[0m\u001b[0;34m\u001b[0m\u001b[0m\n\u001b[0;32m-> 1184\u001b[0;31m             \u001b[0mself\u001b[0m\u001b[0;34m.\u001b[0m\u001b[0m_load_page\u001b[0m\u001b[0;34m(\u001b[0m\u001b[0;34m)\u001b[0m\u001b[0;34m\u001b[0m\u001b[0;34m\u001b[0m\u001b[0m\n\u001b[0m\u001b[1;32m   1185\u001b[0m         \u001b[0;32mif\u001b[0m \u001b[0mself\u001b[0m\u001b[0;34m.\u001b[0m\u001b[0mlength\u001b[0m \u001b[0;32mis\u001b[0m \u001b[0;32mNone\u001b[0m\u001b[0;34m:\u001b[0m\u001b[0;34m\u001b[0m\u001b[0;34m\u001b[0m\u001b[0m\n\u001b[1;32m   1186\u001b[0m             \u001b[0;32mraise\u001b[0m \u001b[0mValueError\u001b[0m\u001b[0;34m(\u001b[0m\u001b[0;34m\"Object doesn't provide length\"\u001b[0m\u001b[0;34m)\u001b[0m\u001b[0;34m\u001b[0m\u001b[0;34m\u001b[0m\u001b[0m\n",
      "\u001b[0;32m~/miniconda3/envs/autoformer/lib/python3.7/site-packages/wandb/apis/public.py\u001b[0m in \u001b[0;36m_load_page\u001b[0;34m(self)\u001b[0m\n\u001b[1;32m   1210\u001b[0m         \u001b[0mself\u001b[0m\u001b[0;34m.\u001b[0m\u001b[0mupdate_variables\u001b[0m\u001b[0;34m(\u001b[0m\u001b[0;34m)\u001b[0m\u001b[0;34m\u001b[0m\u001b[0;34m\u001b[0m\u001b[0m\n\u001b[1;32m   1211\u001b[0m         self.last_response = self.client.execute(\n\u001b[0;32m-> 1212\u001b[0;31m             \u001b[0mself\u001b[0m\u001b[0;34m.\u001b[0m\u001b[0mQUERY\u001b[0m\u001b[0;34m,\u001b[0m \u001b[0mvariable_values\u001b[0m\u001b[0;34m=\u001b[0m\u001b[0mself\u001b[0m\u001b[0;34m.\u001b[0m\u001b[0mvariables\u001b[0m\u001b[0;34m\u001b[0m\u001b[0;34m\u001b[0m\u001b[0m\n\u001b[0m\u001b[1;32m   1213\u001b[0m         )\n\u001b[1;32m   1214\u001b[0m         \u001b[0mself\u001b[0m\u001b[0;34m.\u001b[0m\u001b[0mobjects\u001b[0m\u001b[0;34m.\u001b[0m\u001b[0mextend\u001b[0m\u001b[0;34m(\u001b[0m\u001b[0mself\u001b[0m\u001b[0;34m.\u001b[0m\u001b[0mconvert_objects\u001b[0m\u001b[0;34m(\u001b[0m\u001b[0;34m)\u001b[0m\u001b[0;34m)\u001b[0m\u001b[0;34m\u001b[0m\u001b[0;34m\u001b[0m\u001b[0m\n",
      "\u001b[0;32m~/miniconda3/envs/autoformer/lib/python3.7/site-packages/wandb/sdk/lib/retry.py\u001b[0m in \u001b[0;36mwrapped_fn\u001b[0;34m(*args, **kargs)\u001b[0m\n\u001b[1;32m    210\u001b[0m         \u001b[0;34m@\u001b[0m\u001b[0mfunctools\u001b[0m\u001b[0;34m.\u001b[0m\u001b[0mwraps\u001b[0m\u001b[0;34m(\u001b[0m\u001b[0mfn\u001b[0m\u001b[0;34m)\u001b[0m\u001b[0;34m\u001b[0m\u001b[0;34m\u001b[0m\u001b[0m\n\u001b[1;32m    211\u001b[0m         \u001b[0;32mdef\u001b[0m \u001b[0mwrapped_fn\u001b[0m\u001b[0;34m(\u001b[0m\u001b[0;34m*\u001b[0m\u001b[0margs\u001b[0m\u001b[0;34m:\u001b[0m \u001b[0mAny\u001b[0m\u001b[0;34m,\u001b[0m \u001b[0;34m**\u001b[0m\u001b[0mkargs\u001b[0m\u001b[0;34m:\u001b[0m \u001b[0mAny\u001b[0m\u001b[0;34m)\u001b[0m \u001b[0;34m->\u001b[0m \u001b[0mAny\u001b[0m\u001b[0;34m:\u001b[0m\u001b[0;34m\u001b[0m\u001b[0;34m\u001b[0m\u001b[0m\n\u001b[0;32m--> 212\u001b[0;31m             \u001b[0;32mreturn\u001b[0m \u001b[0mretrier\u001b[0m\u001b[0;34m(\u001b[0m\u001b[0;34m*\u001b[0m\u001b[0margs\u001b[0m\u001b[0;34m,\u001b[0m \u001b[0;34m**\u001b[0m\u001b[0mkargs\u001b[0m\u001b[0;34m)\u001b[0m\u001b[0;34m\u001b[0m\u001b[0;34m\u001b[0m\u001b[0m\n\u001b[0m\u001b[1;32m    213\u001b[0m \u001b[0;34m\u001b[0m\u001b[0m\n\u001b[1;32m    214\u001b[0m         \u001b[0;32mreturn\u001b[0m \u001b[0mwrapped_fn\u001b[0m  \u001b[0;31m# type: ignore\u001b[0m\u001b[0;34m\u001b[0m\u001b[0;34m\u001b[0m\u001b[0m\n",
      "\u001b[0;32m~/miniconda3/envs/autoformer/lib/python3.7/site-packages/wandb/sdk/lib/retry.py\u001b[0m in \u001b[0;36m__call__\u001b[0;34m(self, *args, **kwargs)\u001b[0m\n\u001b[1;32m    129\u001b[0m         \u001b[0;32mwhile\u001b[0m \u001b[0;32mTrue\u001b[0m\u001b[0;34m:\u001b[0m\u001b[0;34m\u001b[0m\u001b[0;34m\u001b[0m\u001b[0m\n\u001b[1;32m    130\u001b[0m             \u001b[0;32mtry\u001b[0m\u001b[0;34m:\u001b[0m\u001b[0;34m\u001b[0m\u001b[0;34m\u001b[0m\u001b[0m\n\u001b[0;32m--> 131\u001b[0;31m                 \u001b[0mresult\u001b[0m \u001b[0;34m=\u001b[0m \u001b[0mself\u001b[0m\u001b[0;34m.\u001b[0m\u001b[0m_call_fn\u001b[0m\u001b[0;34m(\u001b[0m\u001b[0;34m*\u001b[0m\u001b[0margs\u001b[0m\u001b[0;34m,\u001b[0m \u001b[0;34m**\u001b[0m\u001b[0mkwargs\u001b[0m\u001b[0;34m)\u001b[0m\u001b[0;34m\u001b[0m\u001b[0;34m\u001b[0m\u001b[0m\n\u001b[0m\u001b[1;32m    132\u001b[0m                 \u001b[0;31m# Only print resolved attempts once every minute\u001b[0m\u001b[0;34m\u001b[0m\u001b[0;34m\u001b[0m\u001b[0;34m\u001b[0m\u001b[0m\n\u001b[1;32m    133\u001b[0m                 if self._num_iter > 2 and now - self._last_print > datetime.timedelta(\n",
      "\u001b[0;32m~/miniconda3/envs/autoformer/lib/python3.7/site-packages/wandb/apis/public.py\u001b[0m in \u001b[0;36mexecute\u001b[0;34m(self, *args, **kwargs)\u001b[0m\n\u001b[1;32m    213\u001b[0m     \u001b[0;32mdef\u001b[0m \u001b[0mexecute\u001b[0m\u001b[0;34m(\u001b[0m\u001b[0mself\u001b[0m\u001b[0;34m,\u001b[0m \u001b[0;34m*\u001b[0m\u001b[0margs\u001b[0m\u001b[0;34m,\u001b[0m \u001b[0;34m**\u001b[0m\u001b[0mkwargs\u001b[0m\u001b[0;34m)\u001b[0m\u001b[0;34m:\u001b[0m\u001b[0;34m\u001b[0m\u001b[0;34m\u001b[0m\u001b[0m\n\u001b[1;32m    214\u001b[0m         \u001b[0;32mtry\u001b[0m\u001b[0;34m:\u001b[0m\u001b[0;34m\u001b[0m\u001b[0;34m\u001b[0m\u001b[0m\n\u001b[0;32m--> 215\u001b[0;31m             \u001b[0;32mreturn\u001b[0m \u001b[0mself\u001b[0m\u001b[0;34m.\u001b[0m\u001b[0m_client\u001b[0m\u001b[0;34m.\u001b[0m\u001b[0mexecute\u001b[0m\u001b[0;34m(\u001b[0m\u001b[0;34m*\u001b[0m\u001b[0margs\u001b[0m\u001b[0;34m,\u001b[0m \u001b[0;34m**\u001b[0m\u001b[0mkwargs\u001b[0m\u001b[0;34m)\u001b[0m\u001b[0;34m\u001b[0m\u001b[0;34m\u001b[0m\u001b[0m\n\u001b[0m\u001b[1;32m    216\u001b[0m         \u001b[0;32mexcept\u001b[0m \u001b[0mrequests\u001b[0m\u001b[0;34m.\u001b[0m\u001b[0mexceptions\u001b[0m\u001b[0;34m.\u001b[0m\u001b[0mReadTimeout\u001b[0m\u001b[0;34m:\u001b[0m\u001b[0;34m\u001b[0m\u001b[0;34m\u001b[0m\u001b[0m\n\u001b[1;32m    217\u001b[0m             \u001b[0;32mif\u001b[0m \u001b[0;34m\"timeout\"\u001b[0m \u001b[0;32mnot\u001b[0m \u001b[0;32min\u001b[0m \u001b[0mkwargs\u001b[0m\u001b[0;34m:\u001b[0m\u001b[0;34m\u001b[0m\u001b[0;34m\u001b[0m\u001b[0m\n",
      "\u001b[0;32m~/miniconda3/envs/autoformer/lib/python3.7/site-packages/wandb/vendor/gql-0.2.0/wandb_gql/client.py\u001b[0m in \u001b[0;36mexecute\u001b[0;34m(self, document, *args, **kwargs)\u001b[0m\n\u001b[1;32m     50\u001b[0m             \u001b[0mself\u001b[0m\u001b[0;34m.\u001b[0m\u001b[0mvalidate\u001b[0m\u001b[0;34m(\u001b[0m\u001b[0mdocument\u001b[0m\u001b[0;34m)\u001b[0m\u001b[0;34m\u001b[0m\u001b[0;34m\u001b[0m\u001b[0m\n\u001b[1;32m     51\u001b[0m \u001b[0;34m\u001b[0m\u001b[0m\n\u001b[0;32m---> 52\u001b[0;31m         \u001b[0mresult\u001b[0m \u001b[0;34m=\u001b[0m \u001b[0mself\u001b[0m\u001b[0;34m.\u001b[0m\u001b[0m_get_result\u001b[0m\u001b[0;34m(\u001b[0m\u001b[0mdocument\u001b[0m\u001b[0;34m,\u001b[0m \u001b[0;34m*\u001b[0m\u001b[0margs\u001b[0m\u001b[0;34m,\u001b[0m \u001b[0;34m**\u001b[0m\u001b[0mkwargs\u001b[0m\u001b[0;34m)\u001b[0m\u001b[0;34m\u001b[0m\u001b[0;34m\u001b[0m\u001b[0m\n\u001b[0m\u001b[1;32m     53\u001b[0m         \u001b[0;32mif\u001b[0m \u001b[0mresult\u001b[0m\u001b[0;34m.\u001b[0m\u001b[0merrors\u001b[0m\u001b[0;34m:\u001b[0m\u001b[0;34m\u001b[0m\u001b[0;34m\u001b[0m\u001b[0m\n\u001b[1;32m     54\u001b[0m             \u001b[0;32mraise\u001b[0m \u001b[0mException\u001b[0m\u001b[0;34m(\u001b[0m\u001b[0mstr\u001b[0m\u001b[0;34m(\u001b[0m\u001b[0mresult\u001b[0m\u001b[0;34m.\u001b[0m\u001b[0merrors\u001b[0m\u001b[0;34m[\u001b[0m\u001b[0;36m0\u001b[0m\u001b[0;34m]\u001b[0m\u001b[0;34m)\u001b[0m\u001b[0;34m)\u001b[0m\u001b[0;34m\u001b[0m\u001b[0;34m\u001b[0m\u001b[0m\n",
      "\u001b[0;32m~/miniconda3/envs/autoformer/lib/python3.7/site-packages/wandb/vendor/gql-0.2.0/wandb_gql/client.py\u001b[0m in \u001b[0;36m_get_result\u001b[0;34m(self, document, *args, **kwargs)\u001b[0m\n\u001b[1;32m     58\u001b[0m     \u001b[0;32mdef\u001b[0m \u001b[0m_get_result\u001b[0m\u001b[0;34m(\u001b[0m\u001b[0mself\u001b[0m\u001b[0;34m,\u001b[0m \u001b[0mdocument\u001b[0m\u001b[0;34m,\u001b[0m \u001b[0;34m*\u001b[0m\u001b[0margs\u001b[0m\u001b[0;34m,\u001b[0m \u001b[0;34m**\u001b[0m\u001b[0mkwargs\u001b[0m\u001b[0;34m)\u001b[0m\u001b[0;34m:\u001b[0m\u001b[0;34m\u001b[0m\u001b[0;34m\u001b[0m\u001b[0m\n\u001b[1;32m     59\u001b[0m         \u001b[0;32mif\u001b[0m \u001b[0;32mnot\u001b[0m \u001b[0mself\u001b[0m\u001b[0;34m.\u001b[0m\u001b[0mretries\u001b[0m\u001b[0;34m:\u001b[0m\u001b[0;34m\u001b[0m\u001b[0;34m\u001b[0m\u001b[0m\n\u001b[0;32m---> 60\u001b[0;31m             \u001b[0;32mreturn\u001b[0m \u001b[0mself\u001b[0m\u001b[0;34m.\u001b[0m\u001b[0mtransport\u001b[0m\u001b[0;34m.\u001b[0m\u001b[0mexecute\u001b[0m\u001b[0;34m(\u001b[0m\u001b[0mdocument\u001b[0m\u001b[0;34m,\u001b[0m \u001b[0;34m*\u001b[0m\u001b[0margs\u001b[0m\u001b[0;34m,\u001b[0m \u001b[0;34m**\u001b[0m\u001b[0mkwargs\u001b[0m\u001b[0;34m)\u001b[0m\u001b[0;34m\u001b[0m\u001b[0;34m\u001b[0m\u001b[0m\n\u001b[0m\u001b[1;32m     61\u001b[0m \u001b[0;34m\u001b[0m\u001b[0m\n\u001b[1;32m     62\u001b[0m         \u001b[0mlast_exception\u001b[0m \u001b[0;34m=\u001b[0m \u001b[0;32mNone\u001b[0m\u001b[0;34m\u001b[0m\u001b[0;34m\u001b[0m\u001b[0m\n",
      "\u001b[0;32m~/miniconda3/envs/autoformer/lib/python3.7/site-packages/wandb/sdk/lib/gql_request.py\u001b[0m in \u001b[0;36mexecute\u001b[0;34m(self, document, variable_values, timeout)\u001b[0m\n\u001b[1;32m     53\u001b[0m             \u001b[0mdata_key\u001b[0m\u001b[0;34m:\u001b[0m \u001b[0mpayload\u001b[0m\u001b[0;34m,\u001b[0m\u001b[0;34m\u001b[0m\u001b[0;34m\u001b[0m\u001b[0m\n\u001b[1;32m     54\u001b[0m         }\n\u001b[0;32m---> 55\u001b[0;31m         \u001b[0mrequest\u001b[0m \u001b[0;34m=\u001b[0m \u001b[0mself\u001b[0m\u001b[0;34m.\u001b[0m\u001b[0msession\u001b[0m\u001b[0;34m.\u001b[0m\u001b[0mpost\u001b[0m\u001b[0;34m(\u001b[0m\u001b[0mself\u001b[0m\u001b[0;34m.\u001b[0m\u001b[0murl\u001b[0m\u001b[0;34m,\u001b[0m \u001b[0;34m**\u001b[0m\u001b[0mpost_args\u001b[0m\u001b[0;34m)\u001b[0m\u001b[0;34m\u001b[0m\u001b[0;34m\u001b[0m\u001b[0m\n\u001b[0m\u001b[1;32m     56\u001b[0m         \u001b[0mrequest\u001b[0m\u001b[0;34m.\u001b[0m\u001b[0mraise_for_status\u001b[0m\u001b[0;34m(\u001b[0m\u001b[0;34m)\u001b[0m\u001b[0;34m\u001b[0m\u001b[0;34m\u001b[0m\u001b[0m\n\u001b[1;32m     57\u001b[0m \u001b[0;34m\u001b[0m\u001b[0m\n",
      "\u001b[0;32m~/miniconda3/envs/autoformer/lib/python3.7/site-packages/requests/sessions.py\u001b[0m in \u001b[0;36mpost\u001b[0;34m(self, url, data, json, **kwargs)\u001b[0m\n\u001b[1;32m    635\u001b[0m         \"\"\"\n\u001b[1;32m    636\u001b[0m \u001b[0;34m\u001b[0m\u001b[0m\n\u001b[0;32m--> 637\u001b[0;31m         \u001b[0;32mreturn\u001b[0m \u001b[0mself\u001b[0m\u001b[0;34m.\u001b[0m\u001b[0mrequest\u001b[0m\u001b[0;34m(\u001b[0m\u001b[0;34m\"POST\"\u001b[0m\u001b[0;34m,\u001b[0m \u001b[0murl\u001b[0m\u001b[0;34m,\u001b[0m \u001b[0mdata\u001b[0m\u001b[0;34m=\u001b[0m\u001b[0mdata\u001b[0m\u001b[0;34m,\u001b[0m \u001b[0mjson\u001b[0m\u001b[0;34m=\u001b[0m\u001b[0mjson\u001b[0m\u001b[0;34m,\u001b[0m \u001b[0;34m**\u001b[0m\u001b[0mkwargs\u001b[0m\u001b[0;34m)\u001b[0m\u001b[0;34m\u001b[0m\u001b[0;34m\u001b[0m\u001b[0m\n\u001b[0m\u001b[1;32m    638\u001b[0m \u001b[0;34m\u001b[0m\u001b[0m\n\u001b[1;32m    639\u001b[0m     \u001b[0;32mdef\u001b[0m \u001b[0mput\u001b[0m\u001b[0;34m(\u001b[0m\u001b[0mself\u001b[0m\u001b[0;34m,\u001b[0m \u001b[0murl\u001b[0m\u001b[0;34m,\u001b[0m \u001b[0mdata\u001b[0m\u001b[0;34m=\u001b[0m\u001b[0;32mNone\u001b[0m\u001b[0;34m,\u001b[0m \u001b[0;34m**\u001b[0m\u001b[0mkwargs\u001b[0m\u001b[0;34m)\u001b[0m\u001b[0;34m:\u001b[0m\u001b[0;34m\u001b[0m\u001b[0;34m\u001b[0m\u001b[0m\n",
      "\u001b[0;32m~/miniconda3/envs/autoformer/lib/python3.7/site-packages/requests/sessions.py\u001b[0m in \u001b[0;36mrequest\u001b[0;34m(self, method, url, params, data, headers, cookies, files, auth, timeout, allow_redirects, proxies, hooks, stream, verify, cert, json)\u001b[0m\n\u001b[1;32m    587\u001b[0m         }\n\u001b[1;32m    588\u001b[0m         \u001b[0msend_kwargs\u001b[0m\u001b[0;34m.\u001b[0m\u001b[0mupdate\u001b[0m\u001b[0;34m(\u001b[0m\u001b[0msettings\u001b[0m\u001b[0;34m)\u001b[0m\u001b[0;34m\u001b[0m\u001b[0;34m\u001b[0m\u001b[0m\n\u001b[0;32m--> 589\u001b[0;31m         \u001b[0mresp\u001b[0m \u001b[0;34m=\u001b[0m \u001b[0mself\u001b[0m\u001b[0;34m.\u001b[0m\u001b[0msend\u001b[0m\u001b[0;34m(\u001b[0m\u001b[0mprep\u001b[0m\u001b[0;34m,\u001b[0m \u001b[0;34m**\u001b[0m\u001b[0msend_kwargs\u001b[0m\u001b[0;34m)\u001b[0m\u001b[0;34m\u001b[0m\u001b[0;34m\u001b[0m\u001b[0m\n\u001b[0m\u001b[1;32m    590\u001b[0m \u001b[0;34m\u001b[0m\u001b[0m\n\u001b[1;32m    591\u001b[0m         \u001b[0;32mreturn\u001b[0m \u001b[0mresp\u001b[0m\u001b[0;34m\u001b[0m\u001b[0;34m\u001b[0m\u001b[0m\n",
      "\u001b[0;32m~/miniconda3/envs/autoformer/lib/python3.7/site-packages/requests/sessions.py\u001b[0m in \u001b[0;36msend\u001b[0;34m(self, request, **kwargs)\u001b[0m\n\u001b[1;32m    745\u001b[0m \u001b[0;34m\u001b[0m\u001b[0m\n\u001b[1;32m    746\u001b[0m         \u001b[0;32mif\u001b[0m \u001b[0;32mnot\u001b[0m \u001b[0mstream\u001b[0m\u001b[0;34m:\u001b[0m\u001b[0;34m\u001b[0m\u001b[0;34m\u001b[0m\u001b[0m\n\u001b[0;32m--> 747\u001b[0;31m             \u001b[0mr\u001b[0m\u001b[0;34m.\u001b[0m\u001b[0mcontent\u001b[0m\u001b[0;34m\u001b[0m\u001b[0;34m\u001b[0m\u001b[0m\n\u001b[0m\u001b[1;32m    748\u001b[0m \u001b[0;34m\u001b[0m\u001b[0m\n\u001b[1;32m    749\u001b[0m         \u001b[0;32mreturn\u001b[0m \u001b[0mr\u001b[0m\u001b[0;34m\u001b[0m\u001b[0;34m\u001b[0m\u001b[0m\n",
      "\u001b[0;32m~/miniconda3/envs/autoformer/lib/python3.7/site-packages/requests/models.py\u001b[0m in \u001b[0;36mcontent\u001b[0;34m(self)\u001b[0m\n\u001b[1;32m    897\u001b[0m                 \u001b[0mself\u001b[0m\u001b[0;34m.\u001b[0m\u001b[0m_content\u001b[0m \u001b[0;34m=\u001b[0m \u001b[0;32mNone\u001b[0m\u001b[0;34m\u001b[0m\u001b[0;34m\u001b[0m\u001b[0m\n\u001b[1;32m    898\u001b[0m             \u001b[0;32melse\u001b[0m\u001b[0;34m:\u001b[0m\u001b[0;34m\u001b[0m\u001b[0;34m\u001b[0m\u001b[0m\n\u001b[0;32m--> 899\u001b[0;31m                 \u001b[0mself\u001b[0m\u001b[0;34m.\u001b[0m\u001b[0m_content\u001b[0m \u001b[0;34m=\u001b[0m \u001b[0;34mb\"\"\u001b[0m\u001b[0;34m.\u001b[0m\u001b[0mjoin\u001b[0m\u001b[0;34m(\u001b[0m\u001b[0mself\u001b[0m\u001b[0;34m.\u001b[0m\u001b[0miter_content\u001b[0m\u001b[0;34m(\u001b[0m\u001b[0mCONTENT_CHUNK_SIZE\u001b[0m\u001b[0;34m)\u001b[0m\u001b[0;34m)\u001b[0m \u001b[0;32mor\u001b[0m \u001b[0;34mb\"\"\u001b[0m\u001b[0;34m\u001b[0m\u001b[0;34m\u001b[0m\u001b[0m\n\u001b[0m\u001b[1;32m    900\u001b[0m \u001b[0;34m\u001b[0m\u001b[0m\n\u001b[1;32m    901\u001b[0m         \u001b[0mself\u001b[0m\u001b[0;34m.\u001b[0m\u001b[0m_content_consumed\u001b[0m \u001b[0;34m=\u001b[0m \u001b[0;32mTrue\u001b[0m\u001b[0;34m\u001b[0m\u001b[0;34m\u001b[0m\u001b[0m\n",
      "\u001b[0;32m~/miniconda3/envs/autoformer/lib/python3.7/site-packages/requests/models.py\u001b[0m in \u001b[0;36mgenerate\u001b[0;34m()\u001b[0m\n\u001b[1;32m    814\u001b[0m             \u001b[0;32mif\u001b[0m \u001b[0mhasattr\u001b[0m\u001b[0;34m(\u001b[0m\u001b[0mself\u001b[0m\u001b[0;34m.\u001b[0m\u001b[0mraw\u001b[0m\u001b[0;34m,\u001b[0m \u001b[0;34m\"stream\"\u001b[0m\u001b[0;34m)\u001b[0m\u001b[0;34m:\u001b[0m\u001b[0;34m\u001b[0m\u001b[0;34m\u001b[0m\u001b[0m\n\u001b[1;32m    815\u001b[0m                 \u001b[0;32mtry\u001b[0m\u001b[0;34m:\u001b[0m\u001b[0;34m\u001b[0m\u001b[0;34m\u001b[0m\u001b[0m\n\u001b[0;32m--> 816\u001b[0;31m                     \u001b[0;32myield\u001b[0m \u001b[0;32mfrom\u001b[0m \u001b[0mself\u001b[0m\u001b[0;34m.\u001b[0m\u001b[0mraw\u001b[0m\u001b[0;34m.\u001b[0m\u001b[0mstream\u001b[0m\u001b[0;34m(\u001b[0m\u001b[0mchunk_size\u001b[0m\u001b[0;34m,\u001b[0m \u001b[0mdecode_content\u001b[0m\u001b[0;34m=\u001b[0m\u001b[0;32mTrue\u001b[0m\u001b[0;34m)\u001b[0m\u001b[0;34m\u001b[0m\u001b[0;34m\u001b[0m\u001b[0m\n\u001b[0m\u001b[1;32m    817\u001b[0m                 \u001b[0;32mexcept\u001b[0m \u001b[0mProtocolError\u001b[0m \u001b[0;32mas\u001b[0m \u001b[0me\u001b[0m\u001b[0;34m:\u001b[0m\u001b[0;34m\u001b[0m\u001b[0;34m\u001b[0m\u001b[0m\n\u001b[1;32m    818\u001b[0m                     \u001b[0;32mraise\u001b[0m \u001b[0mChunkedEncodingError\u001b[0m\u001b[0;34m(\u001b[0m\u001b[0me\u001b[0m\u001b[0;34m)\u001b[0m\u001b[0;34m\u001b[0m\u001b[0;34m\u001b[0m\u001b[0m\n",
      "\u001b[0;32m~/miniconda3/envs/autoformer/lib/python3.7/site-packages/urllib3/response.py\u001b[0m in \u001b[0;36mstream\u001b[0;34m(self, amt, decode_content)\u001b[0m\n\u001b[1;32m    935\u001b[0m         \"\"\"\n\u001b[1;32m    936\u001b[0m         \u001b[0;32mif\u001b[0m \u001b[0mself\u001b[0m\u001b[0;34m.\u001b[0m\u001b[0mchunked\u001b[0m \u001b[0;32mand\u001b[0m \u001b[0mself\u001b[0m\u001b[0;34m.\u001b[0m\u001b[0msupports_chunked_reads\u001b[0m\u001b[0;34m(\u001b[0m\u001b[0;34m)\u001b[0m\u001b[0;34m:\u001b[0m\u001b[0;34m\u001b[0m\u001b[0;34m\u001b[0m\u001b[0m\n\u001b[0;32m--> 937\u001b[0;31m             \u001b[0;32myield\u001b[0m \u001b[0;32mfrom\u001b[0m \u001b[0mself\u001b[0m\u001b[0;34m.\u001b[0m\u001b[0mread_chunked\u001b[0m\u001b[0;34m(\u001b[0m\u001b[0mamt\u001b[0m\u001b[0;34m,\u001b[0m \u001b[0mdecode_content\u001b[0m\u001b[0;34m=\u001b[0m\u001b[0mdecode_content\u001b[0m\u001b[0;34m)\u001b[0m\u001b[0;34m\u001b[0m\u001b[0;34m\u001b[0m\u001b[0m\n\u001b[0m\u001b[1;32m    938\u001b[0m         \u001b[0;32melse\u001b[0m\u001b[0;34m:\u001b[0m\u001b[0;34m\u001b[0m\u001b[0;34m\u001b[0m\u001b[0m\n\u001b[1;32m    939\u001b[0m             \u001b[0;32mwhile\u001b[0m \u001b[0;32mnot\u001b[0m \u001b[0mis_fp_closed\u001b[0m\u001b[0;34m(\u001b[0m\u001b[0mself\u001b[0m\u001b[0;34m.\u001b[0m\u001b[0m_fp\u001b[0m\u001b[0;34m)\u001b[0m \u001b[0;32mor\u001b[0m \u001b[0mlen\u001b[0m\u001b[0;34m(\u001b[0m\u001b[0mself\u001b[0m\u001b[0;34m.\u001b[0m\u001b[0m_decoded_buffer\u001b[0m\u001b[0;34m)\u001b[0m \u001b[0;34m>\u001b[0m \u001b[0;36m0\u001b[0m\u001b[0;34m:\u001b[0m\u001b[0;34m\u001b[0m\u001b[0;34m\u001b[0m\u001b[0m\n",
      "\u001b[0;32m~/miniconda3/envs/autoformer/lib/python3.7/site-packages/urllib3/response.py\u001b[0m in \u001b[0;36mread_chunked\u001b[0;34m(self, amt, decode_content)\u001b[0m\n\u001b[1;32m   1075\u001b[0m \u001b[0;34m\u001b[0m\u001b[0m\n\u001b[1;32m   1076\u001b[0m             \u001b[0;32mwhile\u001b[0m \u001b[0;32mTrue\u001b[0m\u001b[0;34m:\u001b[0m\u001b[0;34m\u001b[0m\u001b[0;34m\u001b[0m\u001b[0m\n\u001b[0;32m-> 1077\u001b[0;31m                 \u001b[0mself\u001b[0m\u001b[0;34m.\u001b[0m\u001b[0m_update_chunk_length\u001b[0m\u001b[0;34m(\u001b[0m\u001b[0;34m)\u001b[0m\u001b[0;34m\u001b[0m\u001b[0;34m\u001b[0m\u001b[0m\n\u001b[0m\u001b[1;32m   1078\u001b[0m                 \u001b[0;32mif\u001b[0m \u001b[0mself\u001b[0m\u001b[0;34m.\u001b[0m\u001b[0mchunk_left\u001b[0m \u001b[0;34m==\u001b[0m \u001b[0;36m0\u001b[0m\u001b[0;34m:\u001b[0m\u001b[0;34m\u001b[0m\u001b[0;34m\u001b[0m\u001b[0m\n\u001b[1;32m   1079\u001b[0m                     \u001b[0;32mbreak\u001b[0m\u001b[0;34m\u001b[0m\u001b[0;34m\u001b[0m\u001b[0m\n",
      "\u001b[0;32m~/miniconda3/envs/autoformer/lib/python3.7/site-packages/urllib3/response.py\u001b[0m in \u001b[0;36m_update_chunk_length\u001b[0;34m(self)\u001b[0m\n\u001b[1;32m   1003\u001b[0m         \u001b[0;32mif\u001b[0m \u001b[0mself\u001b[0m\u001b[0;34m.\u001b[0m\u001b[0mchunk_left\u001b[0m \u001b[0;32mis\u001b[0m \u001b[0;32mnot\u001b[0m \u001b[0;32mNone\u001b[0m\u001b[0;34m:\u001b[0m\u001b[0;34m\u001b[0m\u001b[0;34m\u001b[0m\u001b[0m\n\u001b[1;32m   1004\u001b[0m             \u001b[0;32mreturn\u001b[0m \u001b[0;32mNone\u001b[0m\u001b[0;34m\u001b[0m\u001b[0;34m\u001b[0m\u001b[0m\n\u001b[0;32m-> 1005\u001b[0;31m         \u001b[0mline\u001b[0m \u001b[0;34m=\u001b[0m \u001b[0mself\u001b[0m\u001b[0;34m.\u001b[0m\u001b[0m_fp\u001b[0m\u001b[0;34m.\u001b[0m\u001b[0mfp\u001b[0m\u001b[0;34m.\u001b[0m\u001b[0mreadline\u001b[0m\u001b[0;34m(\u001b[0m\u001b[0;34m)\u001b[0m  \u001b[0;31m# type: ignore[union-attr]\u001b[0m\u001b[0;34m\u001b[0m\u001b[0;34m\u001b[0m\u001b[0m\n\u001b[0m\u001b[1;32m   1006\u001b[0m         \u001b[0mline\u001b[0m \u001b[0;34m=\u001b[0m \u001b[0mline\u001b[0m\u001b[0;34m.\u001b[0m\u001b[0msplit\u001b[0m\u001b[0;34m(\u001b[0m\u001b[0;34mb\";\"\u001b[0m\u001b[0;34m,\u001b[0m \u001b[0;36m1\u001b[0m\u001b[0;34m)\u001b[0m\u001b[0;34m[\u001b[0m\u001b[0;36m0\u001b[0m\u001b[0;34m]\u001b[0m\u001b[0;34m\u001b[0m\u001b[0;34m\u001b[0m\u001b[0m\n\u001b[1;32m   1007\u001b[0m         \u001b[0;32mtry\u001b[0m\u001b[0;34m:\u001b[0m\u001b[0;34m\u001b[0m\u001b[0;34m\u001b[0m\u001b[0m\n",
      "\u001b[0;32m~/miniconda3/envs/autoformer/lib/python3.7/socket.py\u001b[0m in \u001b[0;36mreadinto\u001b[0;34m(self, b)\u001b[0m\n\u001b[1;32m    587\u001b[0m         \u001b[0;32mwhile\u001b[0m \u001b[0;32mTrue\u001b[0m\u001b[0;34m:\u001b[0m\u001b[0;34m\u001b[0m\u001b[0;34m\u001b[0m\u001b[0m\n\u001b[1;32m    588\u001b[0m             \u001b[0;32mtry\u001b[0m\u001b[0;34m:\u001b[0m\u001b[0;34m\u001b[0m\u001b[0;34m\u001b[0m\u001b[0m\n\u001b[0;32m--> 589\u001b[0;31m                 \u001b[0;32mreturn\u001b[0m \u001b[0mself\u001b[0m\u001b[0;34m.\u001b[0m\u001b[0m_sock\u001b[0m\u001b[0;34m.\u001b[0m\u001b[0mrecv_into\u001b[0m\u001b[0;34m(\u001b[0m\u001b[0mb\u001b[0m\u001b[0;34m)\u001b[0m\u001b[0;34m\u001b[0m\u001b[0;34m\u001b[0m\u001b[0m\n\u001b[0m\u001b[1;32m    590\u001b[0m             \u001b[0;32mexcept\u001b[0m \u001b[0mtimeout\u001b[0m\u001b[0;34m:\u001b[0m\u001b[0;34m\u001b[0m\u001b[0;34m\u001b[0m\u001b[0m\n\u001b[1;32m    591\u001b[0m                 \u001b[0mself\u001b[0m\u001b[0;34m.\u001b[0m\u001b[0m_timeout_occurred\u001b[0m \u001b[0;34m=\u001b[0m \u001b[0;32mTrue\u001b[0m\u001b[0;34m\u001b[0m\u001b[0;34m\u001b[0m\u001b[0m\n",
      "\u001b[0;32m~/miniconda3/envs/autoformer/lib/python3.7/ssl.py\u001b[0m in \u001b[0;36mrecv_into\u001b[0;34m(self, buffer, nbytes, flags)\u001b[0m\n\u001b[1;32m   1069\u001b[0m                   \u001b[0;34m\"non-zero flags not allowed in calls to recv_into() on %s\"\u001b[0m \u001b[0;34m%\u001b[0m\u001b[0;34m\u001b[0m\u001b[0;34m\u001b[0m\u001b[0m\n\u001b[1;32m   1070\u001b[0m                   self.__class__)\n\u001b[0;32m-> 1071\u001b[0;31m             \u001b[0;32mreturn\u001b[0m \u001b[0mself\u001b[0m\u001b[0;34m.\u001b[0m\u001b[0mread\u001b[0m\u001b[0;34m(\u001b[0m\u001b[0mnbytes\u001b[0m\u001b[0;34m,\u001b[0m \u001b[0mbuffer\u001b[0m\u001b[0;34m)\u001b[0m\u001b[0;34m\u001b[0m\u001b[0;34m\u001b[0m\u001b[0m\n\u001b[0m\u001b[1;32m   1072\u001b[0m         \u001b[0;32melse\u001b[0m\u001b[0;34m:\u001b[0m\u001b[0;34m\u001b[0m\u001b[0;34m\u001b[0m\u001b[0m\n\u001b[1;32m   1073\u001b[0m             \u001b[0;32mreturn\u001b[0m \u001b[0msuper\u001b[0m\u001b[0;34m(\u001b[0m\u001b[0;34m)\u001b[0m\u001b[0;34m.\u001b[0m\u001b[0mrecv_into\u001b[0m\u001b[0;34m(\u001b[0m\u001b[0mbuffer\u001b[0m\u001b[0;34m,\u001b[0m \u001b[0mnbytes\u001b[0m\u001b[0;34m,\u001b[0m \u001b[0mflags\u001b[0m\u001b[0;34m)\u001b[0m\u001b[0;34m\u001b[0m\u001b[0;34m\u001b[0m\u001b[0m\n",
      "\u001b[0;32m~/miniconda3/envs/autoformer/lib/python3.7/ssl.py\u001b[0m in \u001b[0;36mread\u001b[0;34m(self, len, buffer)\u001b[0m\n\u001b[1;32m    927\u001b[0m         \u001b[0;32mtry\u001b[0m\u001b[0;34m:\u001b[0m\u001b[0;34m\u001b[0m\u001b[0;34m\u001b[0m\u001b[0m\n\u001b[1;32m    928\u001b[0m             \u001b[0;32mif\u001b[0m \u001b[0mbuffer\u001b[0m \u001b[0;32mis\u001b[0m \u001b[0;32mnot\u001b[0m \u001b[0;32mNone\u001b[0m\u001b[0;34m:\u001b[0m\u001b[0;34m\u001b[0m\u001b[0;34m\u001b[0m\u001b[0m\n\u001b[0;32m--> 929\u001b[0;31m                 \u001b[0;32mreturn\u001b[0m \u001b[0mself\u001b[0m\u001b[0;34m.\u001b[0m\u001b[0m_sslobj\u001b[0m\u001b[0;34m.\u001b[0m\u001b[0mread\u001b[0m\u001b[0;34m(\u001b[0m\u001b[0mlen\u001b[0m\u001b[0;34m,\u001b[0m \u001b[0mbuffer\u001b[0m\u001b[0;34m)\u001b[0m\u001b[0;34m\u001b[0m\u001b[0;34m\u001b[0m\u001b[0m\n\u001b[0m\u001b[1;32m    930\u001b[0m             \u001b[0;32melse\u001b[0m\u001b[0;34m:\u001b[0m\u001b[0;34m\u001b[0m\u001b[0;34m\u001b[0m\u001b[0m\n\u001b[1;32m    931\u001b[0m                 \u001b[0;32mreturn\u001b[0m \u001b[0mself\u001b[0m\u001b[0;34m.\u001b[0m\u001b[0m_sslobj\u001b[0m\u001b[0;34m.\u001b[0m\u001b[0mread\u001b[0m\u001b[0;34m(\u001b[0m\u001b[0mlen\u001b[0m\u001b[0;34m)\u001b[0m\u001b[0;34m\u001b[0m\u001b[0;34m\u001b[0m\u001b[0m\n",
      "\u001b[0;31mKeyboardInterrupt\u001b[0m: "
     ]
    }
   ],
   "source": [
    "experiment_tags = ['e29_icml_erm_newdatasets']\n",
    "\n",
    "backup_data=wandb_utils.get_experiment_data(\"Autoformer\",\"alelab\",experiment_tags=experiment_tags,query_dict={\"tags\": {\"$in\": experiment_tags}})"
   ]
  },
  {
   "cell_type": "code",
   "execution_count": null,
   "id": "01fc5579",
   "metadata": {},
   "outputs": [],
   "source": [
    "backup_data.to_pickle(\"../data_backups/2024_03_26__icml_rebuttals_erm_newdatasets_backup_data.pkl\")\n",
    "backup_data.to_csv(\"../data_backups/2024_03_26_icml_rebuttals_erm_newdatasets_backup_data.csv\",index=False)"
   ]
  },
  {
   "cell_type": "code",
   "execution_count": null,
   "id": "604d0dd4",
   "metadata": {},
   "outputs": [],
   "source": [
    "# Koopa\n",
    "from utils import wandb_utils\n",
    "# Todo save in a file\n",
    "\n",
    "backup_data = wandb_utils.get_experiment_data(\"Autoformer\",\"alelab\",[\"e22_icml_koopa_erm\",\"e24_icml_koopa_constrained_val\",\"e23_icml_koopa_constrained_train\"])\n",
    "backup_data.to_pickle(\"../data_backups/2024_03_26__icml_rebuttals_erm_newdatasets_backup_data.pkl\")\n",
    "backup_data.to_csv(\"../data_backups/2024_03_26_icml_rebuttals_erm_newdatasets_backup_data.csv\",index=False)"
   ]
  },
  {
   "cell_type": "markdown",
   "id": "ba2f5492",
   "metadata": {},
   "source": [
    "## March 28 Backup new models"
   ]
  },
  {
   "cell_type": "code",
   "execution_count": null,
   "id": "711bafd6",
   "metadata": {},
   "outputs": [],
   "source": [
    "wandb_utils.get_experiment_data(\"Autoformer\",\"alelab\",experiment_tags=[\"\"])"
   ]
  },
  {
   "cell_type": "code",
   "execution_count": 45,
   "id": "cc0e49a9",
   "metadata": {},
   "outputs": [
    {
     "name": "stdout",
     "output_type": "stream",
     "text": [
      "Experiment tags being considered: ['e29_icml_constrained_newmodels', 'erm_rebuttal_newmodels']\n",
      "Saving to backup data filename: ../data_backups/2024_03_28__newmodels_erm_and_constrained\n"
     ]
    },
    {
     "name": "stderr",
     "output_type": "stream",
     "text": [
      "  4%|▍         | 18/411 [00:00<00:10, 37.11it/s]"
     ]
    },
    {
     "name": "stdout",
     "output_type": "stream",
     "text": [
      "WARNING!! Missing pointwise/cvar/0.01 in run y2shj0jp on sweep None. Filling all poitwisewith NAN.\n",
      "WARNING!! Missing pointwise/cvar/0.01 in run v1xbb1y6 on sweep None. Filling all poitwisewith NAN.\n",
      "WARNING!! Missing pointwise/cvar/0.01 in run ioqcw2my on sweep None. Filling all poitwisewith NAN.\n",
      "WARNING!! Missing pointwise/cvar/0.01 in run uxw2u4a3 on sweep None. Filling all poitwisewith NAN.\n",
      "WARNING!! Missing pointwise/cvar/0.01 in run nw7ueak2 on sweep None. Filling all poitwisewith NAN.\n"
     ]
    },
    {
     "name": "stderr",
     "output_type": "stream",
     "text": [
      "  5%|▌         | 22/411 [00:00<00:12, 30.58it/s]"
     ]
    },
    {
     "name": "stdout",
     "output_type": "stream",
     "text": [
      "WARNING!! Missing pointwise/cvar/0.01 in run j2ti6pgx on sweep None. Filling all poitwisewith NAN.\n",
      "WARNING!! Missing pointwise/cvar/0.01 in run 8e4vovxv on sweep None. Filling all poitwisewith NAN.\n",
      "WARNING!! Missing pointwise/cvar/0.01 in run aqnlb3kb on sweep None. Filling all poitwisewith NAN.\n",
      "WARNING!! Missing pointwise/cvar/0.01 in run zmfmtrln on sweep None. Filling all poitwisewith NAN.\n",
      "WARNING!! Missing pointwise/cvar/0.01 in run n3trroyo on sweep None. Filling all poitwisewith NAN.\n",
      "WARNING!! Missing pointwise/cvar/0.01 in run 5h6t5jdp on sweep None. Filling all poitwisewith NAN.\n"
     ]
    },
    {
     "name": "stderr",
     "output_type": "stream",
     "text": [
      "  8%|▊         | 33/411 [00:01<00:13, 27.91it/s]"
     ]
    },
    {
     "name": "stdout",
     "output_type": "stream",
     "text": [
      "WARNING!! Missing pointwise/cvar/0.01 in run vhos4w71 on sweep None. Filling all poitwisewith NAN.\n",
      "WARNING!! Missing pointwise/cvar/0.01 in run t1h4xl81 on sweep None. Filling all poitwisewith NAN.\n",
      "WARNING!! Missing pointwise/cvar/0.01 in run de95idxd on sweep None. Filling all poitwisewith NAN.\n",
      "WARNING!! Missing pointwise/cvar/0.01 in run i9ik77m6 on sweep None. Filling all poitwisewith NAN.\n",
      "WARNING!! Missing pointwise/cvar/0.01 in run xaxgfja0 on sweep None. Filling all poitwisewith NAN.\n",
      "WARNING!! Missing pointwise/cvar/0.01 in run yzj1figh on sweep None. Filling all poitwisewith NAN.\n"
     ]
    },
    {
     "name": "stderr",
     "output_type": "stream",
     "text": [
      " 10%|▉         | 41/411 [00:01<00:12, 29.91it/s]"
     ]
    },
    {
     "name": "stdout",
     "output_type": "stream",
     "text": [
      "WARNING!! Missing pointwise/cvar/0.01 in run jvxuhk02 on sweep None. Filling all poitwisewith NAN.\n",
      "WARNING!! Missing pointwise/cvar/0.01 in run qholfpw3 on sweep None. Filling all poitwisewith NAN.\n",
      "WARNING!! Missing pointwise/cvar/0.01 in run xohdhaw9 on sweep None. Filling all poitwisewith NAN.\n",
      "WARNING!! Missing pointwise/cvar/0.01 in run on4iqkv8 on sweep None. Filling all poitwisewith NAN.\n",
      "WARNING!! Missing pointwise/cvar/0.01 in run 9ar4zrl8 on sweep None. Filling all poitwisewith NAN.\n"
     ]
    },
    {
     "name": "stderr",
     "output_type": "stream",
     "text": [
      " 11%|█         | 45/411 [00:01<00:13, 27.57it/s]"
     ]
    },
    {
     "name": "stdout",
     "output_type": "stream",
     "text": [
      "WARNING!! Missing pointwise/cvar/0.01 in run vdvf9ff4 on sweep None. Filling all poitwisewith NAN.\n",
      "WARNING!! Missing pointwise/cvar/0.01 in run rvmv3dg1 on sweep None. Filling all poitwisewith NAN.\n",
      "WARNING!! Missing pointwise/cvar/0.01 in run 2mcf591u on sweep None. Filling all poitwisewith NAN.\n",
      "WARNING!! Missing pointwise/cvar/0.01 in run ethubm8w on sweep None. Filling all poitwisewith NAN.\n",
      "WARNING!! Missing pointwise/cvar/0.01 in run lov1z8ya on sweep None. Filling all poitwisewith NAN.\n"
     ]
    },
    {
     "name": "stderr",
     "output_type": "stream",
     "text": [
      " 12%|█▏        | 48/411 [00:01<00:16, 22.14it/s]"
     ]
    },
    {
     "name": "stdout",
     "output_type": "stream",
     "text": [
      "WARNING!! Missing pointwise/cvar/0.01 in run fzhiykh0 on sweep None. Filling all poitwisewith NAN.\n"
     ]
    },
    {
     "name": "stderr",
     "output_type": "stream",
     "text": [
      " 13%|█▎        | 53/411 [00:13<05:00,  1.19it/s]"
     ]
    },
    {
     "name": "stdout",
     "output_type": "stream",
     "text": [
      "WARNING!! Missing pointwise/cvar/0.01 in run e8cqxvar on sweep None. Filling all poitwisewith NAN.\n"
     ]
    },
    {
     "name": "stderr",
     "output_type": "stream",
     "text": [
      " 14%|█▍        | 59/411 [00:13<02:33,  2.29it/s]"
     ]
    },
    {
     "name": "stdout",
     "output_type": "stream",
     "text": [
      "WARNING!! Missing pointwise/cvar/0.01 in run bht8asxi on sweep None. Filling all poitwisewith NAN.\n",
      "WARNING!! Missing pointwise/cvar/0.01 in run zdmkeifg on sweep None. Filling all poitwisewith NAN.\n"
     ]
    },
    {
     "name": "stderr",
     "output_type": "stream",
     "text": [
      " 16%|█▌        | 66/411 [00:13<01:13,  4.71it/s]"
     ]
    },
    {
     "name": "stdout",
     "output_type": "stream",
     "text": [
      "WARNING!! Missing pointwise/cvar/0.01 in run g15gr0ii on sweep None. Filling all poitwisewith NAN.\n",
      "WARNING!! Missing pointwise/cvar/0.01 in run qxtzwike on sweep None. Filling all poitwisewith NAN.\n",
      "WARNING!! Missing pointwise/cvar/0.01 in run 4k212pi5 on sweep None. Filling all poitwisewith NAN.\n",
      "WARNING!! Missing pointwise/cvar/0.01 in run g5v8kf6o on sweep None. Filling all poitwisewith NAN.\n"
     ]
    },
    {
     "name": "stderr",
     "output_type": "stream",
     "text": [
      " 17%|█▋        | 69/411 [00:14<00:59,  5.75it/s]"
     ]
    },
    {
     "name": "stdout",
     "output_type": "stream",
     "text": [
      "WARNING!! Missing pointwise/cvar/0.01 in run 5uz71aw0 on sweep None. Filling all poitwisewith NAN.\n",
      "WARNING!! Missing pointwise/cvar/0.01 in run ahasa3n1 on sweep None. Filling all poitwisewith NAN.\n",
      "WARNING!! Missing pointwise/cvar/0.01 in run bf1phk0w on sweep None. Filling all poitwisewith NAN.\n",
      "WARNING!! Missing pointwise/cvar/0.01 in run e6k05jwv on sweep None. Filling all poitwisewith NAN.\n"
     ]
    },
    {
     "name": "stderr",
     "output_type": "stream",
     "text": [
      " 18%|█▊        | 76/411 [00:14<00:34,  9.61it/s]"
     ]
    },
    {
     "name": "stdout",
     "output_type": "stream",
     "text": [
      "WARNING!! Missing pointwise/cvar/0.01 in run nj41npu4 on sweep None. Filling all poitwisewith NAN.\n",
      "WARNING!! Missing pointwise/cvar/0.01 in run 94g7k09h on sweep None. Filling all poitwisewith NAN.\n",
      "WARNING!! Missing pointwise/cvar/0.01 in run ib23rixk on sweep None. Filling all poitwisewith NAN.\n",
      "WARNING!! Missing pointwise/cvar/0.01 in run 0bmeup5p on sweep None. Filling all poitwisewith NAN.\n",
      "WARNING!! Missing pointwise/cvar/0.01 in run d586v0au on sweep None. Filling all poitwisewith NAN.\n"
     ]
    },
    {
     "name": "stderr",
     "output_type": "stream",
     "text": [
      " 20%|██        | 83/411 [00:14<00:22, 14.31it/s]"
     ]
    },
    {
     "name": "stdout",
     "output_type": "stream",
     "text": [
      "WARNING!! Missing pointwise/cvar/0.01 in run 75tg177j on sweep None. Filling all poitwisewith NAN.\n",
      "WARNING!! Missing pointwise/cvar/0.01 in run rvo6altq on sweep None. Filling all poitwisewith NAN.\n"
     ]
    },
    {
     "name": "stderr",
     "output_type": "stream",
     "text": [
      " 22%|██▏       | 92/411 [00:15<00:17, 18.56it/s]"
     ]
    },
    {
     "name": "stdout",
     "output_type": "stream",
     "text": [
      "WARNING!! Missing pointwise/cvar/0.01 in run hmi3lxxs on sweep None. Filling all poitwisewith NAN.\n",
      "WARNING!! Missing pointwise/cvar/0.01 in run 9hu9f3df on sweep None. Filling all poitwisewith NAN.\n",
      "WARNING!! Missing pointwise/cvar/0.01 in run c3zzb05x on sweep None. Filling all poitwisewith NAN.\n",
      "WARNING!! Missing pointwise/cvar/0.01 in run vjbq485j on sweep None. Filling all poitwisewith NAN.\n"
     ]
    },
    {
     "name": "stderr",
     "output_type": "stream",
     "text": [
      " 25%|██▌       | 103/411 [00:24<03:52,  1.32it/s]"
     ]
    },
    {
     "name": "stdout",
     "output_type": "stream",
     "text": [
      "WARNING!! Missing pointwise/cvar/0.01 in run b7s8jptd on sweep None. Filling all poitwisewith NAN.\n",
      "WARNING!! Missing pointwise/cvar/0.01 in run nilwbio1 on sweep None. Filling all poitwisewith NAN.\n"
     ]
    },
    {
     "name": "stderr",
     "output_type": "stream",
     "text": [
      " 28%|██▊       | 116/411 [00:25<00:54,  5.37it/s]"
     ]
    },
    {
     "name": "stdout",
     "output_type": "stream",
     "text": [
      "WARNING!! Missing pointwise/cvar/0.01 in run jgykcbi0 on sweep None. Filling all poitwisewith NAN.\n"
     ]
    },
    {
     "name": "stderr",
     "output_type": "stream",
     "text": [
      " 30%|██▉       | 122/411 [00:25<00:32,  8.99it/s]"
     ]
    },
    {
     "name": "stdout",
     "output_type": "stream",
     "text": [
      "WARNING!! Missing pointwise/cvar/0.01 in run ci9ssydd on sweep None. Filling all poitwisewith NAN.\n"
     ]
    },
    {
     "name": "stderr",
     "output_type": "stream",
     "text": [
      " 31%|███▏      | 129/411 [00:28<01:03,  4.43it/s]"
     ]
    },
    {
     "name": "stdout",
     "output_type": "stream",
     "text": [
      "WARNING!! Missing pointwise/cvar/0.01 in run q3x2oux3 on sweep None. Filling all poitwisewith NAN.\n",
      "WARNING!! Missing pointwise/cvar/0.01 in run 1sae8gpd on sweep None. Filling all poitwisewith NAN.\n"
     ]
    },
    {
     "name": "stderr",
     "output_type": "stream",
     "text": [
      " 33%|███▎      | 136/411 [00:28<00:36,  7.62it/s]"
     ]
    },
    {
     "name": "stdout",
     "output_type": "stream",
     "text": [
      "WARNING!! Missing pointwise/cvar/0.01 in run rnbsyq2k on sweep None. Filling all poitwisewith NAN.\n",
      "WARNING!! Missing pointwise/cvar/0.01 in run mw9t2ygl on sweep None. Filling all poitwisewith NAN.\n",
      "WARNING!! Missing pointwise/cvar/0.01 in run nmhkgaj4 on sweep None. Filling all poitwisewith NAN.\n"
     ]
    },
    {
     "name": "stderr",
     "output_type": "stream",
     "text": [
      " 35%|███▍      | 142/411 [00:28<00:23, 11.37it/s]"
     ]
    },
    {
     "name": "stdout",
     "output_type": "stream",
     "text": [
      "WARNING!! Missing pointwise/cvar/0.01 in run 9tq2l1wl on sweep None. Filling all poitwisewith NAN.\n",
      "WARNING!! Missing pointwise/cvar/0.01 in run 3d6irhz4 on sweep None. Filling all poitwisewith NAN.\n",
      "WARNING!! Missing pointwise/cvar/0.01 in run vq41zuoi on sweep None. Filling all poitwisewith NAN.\n",
      "WARNING!! Missing pointwise/cvar/0.01 in run qiuxoy0c on sweep None. Filling all poitwisewith NAN.\n",
      "WARNING!! Missing pointwise/cvar/0.01 in run weed7tdo on sweep None. Filling all poitwisewith NAN.\n"
     ]
    },
    {
     "name": "stderr",
     "output_type": "stream",
     "text": [
      " 38%|███▊      | 155/411 [00:43<03:29,  1.22it/s]"
     ]
    },
    {
     "name": "stdout",
     "output_type": "stream",
     "text": [
      "WARNING!! Missing pointwise/cvar/0.01 in run srfnlxpq on sweep None. Filling all poitwisewith NAN.\n",
      "WARNING!! Missing pointwise/cvar/0.01 in run c1vx993c on sweep None. Filling all poitwisewith NAN.\n",
      "WARNING!! Missing pointwise/cvar/0.01 in run t3d3ccl4 on sweep None. Filling all poitwisewith NAN.\n",
      "WARNING!! Missing pointwise/cvar/0.01 in run eapt3xmk on sweep None. Filling all poitwisewith NAN.\n",
      "WARNING!! Missing pointwise/cvar/0.01 in run jrzlhrti on sweep None. Filling all poitwisewith NAN.\n"
     ]
    },
    {
     "name": "stderr",
     "output_type": "stream",
     "text": [
      " 40%|████      | 165/411 [00:44<01:33,  2.62it/s]"
     ]
    },
    {
     "name": "stdout",
     "output_type": "stream",
     "text": [
      "WARNING!! Missing pointwise/cvar/0.01 in run 45c4k79u on sweep None. Filling all poitwisewith NAN.\n",
      "WARNING!! Missing pointwise/cvar/0.01 in run w08o24yz on sweep None. Filling all poitwisewith NAN.\n",
      "WARNING!! Missing pointwise/cvar/0.01 in run dee09yde on sweep None. Filling all poitwisewith NAN.\n",
      "WARNING!! Missing pointwise/cvar/0.01 in run jeox5e14 on sweep None. Filling all poitwisewith NAN.\n"
     ]
    },
    {
     "name": "stderr",
     "output_type": "stream",
     "text": [
      " 42%|████▏     | 172/411 [00:44<00:56,  4.24it/s]"
     ]
    },
    {
     "name": "stdout",
     "output_type": "stream",
     "text": [
      "WARNING!! Missing pointwise/cvar/0.01 in run f4i2vy5f on sweep None. Filling all poitwisewith NAN.\n"
     ]
    },
    {
     "name": "stderr",
     "output_type": "stream",
     "text": [
      " 44%|████▍     | 182/411 [00:45<00:32,  7.00it/s]"
     ]
    },
    {
     "name": "stdout",
     "output_type": "stream",
     "text": [
      "WARNING!! Missing pointwise/cvar/0.01 in run 9j5ucy1q on sweep None. Filling all poitwisewith NAN.\n"
     ]
    },
    {
     "name": "stderr",
     "output_type": "stream",
     "text": [
      " 48%|████▊     | 196/411 [00:45<00:16, 12.74it/s]"
     ]
    },
    {
     "name": "stdout",
     "output_type": "stream",
     "text": [
      "WARNING!! Missing pointwise/cvar/0.01 in run pz2q44tg on sweep None. Filling all poitwisewith NAN.\n"
     ]
    },
    {
     "name": "stderr",
     "output_type": "stream",
     "text": [
      " 53%|█████▎    | 216/411 [01:00<00:42,  4.61it/s]"
     ]
    },
    {
     "name": "stdout",
     "output_type": "stream",
     "text": [
      "WARNING!! Missing pointwise/cvar/0.01 in run i0sw2399 on sweep None. Filling all poitwisewith NAN.\n"
     ]
    },
    {
     "name": "stderr",
     "output_type": "stream",
     "text": [
      " 56%|█████▌    | 229/411 [01:01<00:14, 12.44it/s]"
     ]
    },
    {
     "name": "stdout",
     "output_type": "stream",
     "text": [
      "WARNING!! Missing pointwise/cvar/0.01 in run brnnlxww on sweep None. Filling all poitwisewith NAN.\n"
     ]
    },
    {
     "name": "stderr",
     "output_type": "stream",
     "text": [
      " 64%|██████▍   | 264/411 [01:11<00:27,  5.40it/s]"
     ]
    },
    {
     "name": "stdout",
     "output_type": "stream",
     "text": [
      "WARNING!! Missing pointwise/cvar/0.01 in run vkhak17v on sweep None. Filling all poitwisewith NAN.\n"
     ]
    },
    {
     "name": "stderr",
     "output_type": "stream",
     "text": [
      " 68%|██████▊   | 278/411 [01:12<00:08, 15.56it/s]"
     ]
    },
    {
     "name": "stdout",
     "output_type": "stream",
     "text": [
      "WARNING!! Missing pointwise/cvar/0.01 in run fscgpgxx on sweep None. Filling all poitwisewith NAN.\n",
      "WARNING!! Missing pointwise/cvar/0.01 in run o1qr4wlh on sweep None. Filling all poitwisewith NAN.\n"
     ]
    },
    {
     "name": "stderr",
     "output_type": "stream",
     "text": [
      " 72%|███████▏  | 296/411 [01:13<00:04, 24.56it/s]"
     ]
    },
    {
     "name": "stdout",
     "output_type": "stream",
     "text": [
      "WARNING!! Missing pointwise/cvar/0.01 in run yeo1bibv on sweep None. Filling all poitwisewith NAN.\n",
      "!!!!! WARNING: Missing key stepwise metric in run. Skipping yeo1bibv mse/train/0\n",
      "Run skipped yeo1bibv\n",
      "WARNING!! Missing pointwise/cvar/0.01 in run flfhnh21 on sweep None. Filling all poitwisewith NAN.\n",
      "WARNING!! Missing pointwise/cvar/0.01 in run r3a2a0rf on sweep None. Filling all poitwisewith NAN.\n"
     ]
    },
    {
     "name": "stderr",
     "output_type": "stream",
     "text": [
      " 78%|███████▊  | 320/411 [01:26<00:23,  3.87it/s]"
     ]
    },
    {
     "name": "stdout",
     "output_type": "stream",
     "text": [
      "WARNING!! Missing pointwise/cvar/0.01 in run 9yc098dp on sweep None. Filling all poitwisewith NAN.\n",
      "WARNING!! Missing pointwise/cvar/0.01 in run m51a450t on sweep None. Filling all poitwisewith NAN.\n",
      "WARNING!! Missing pointwise/cvar/0.01 in run 8x8owqor on sweep None. Filling all poitwisewith NAN.\n",
      "WARNING!! Missing pointwise/cvar/0.01 in run f931uh1f on sweep None. Filling all poitwisewith NAN.\n",
      "WARNING!! Missing pointwise/cvar/0.01 in run ssafm6eb on sweep None. Filling all poitwisewith NAN.\n",
      "WARNING!! Missing pointwise/cvar/0.01 in run kgbhb6bl on sweep None. Filling all poitwisewith NAN.\n",
      "WARNING!! Missing pointwise/cvar/0.01 in run bkmm7akj on sweep None. Filling all poitwisewith NAN.\n"
     ]
    },
    {
     "name": "stderr",
     "output_type": "stream",
     "text": [
      " 80%|████████  | 330/411 [01:26<00:11,  6.85it/s]"
     ]
    },
    {
     "name": "stdout",
     "output_type": "stream",
     "text": [
      "WARNING!! Missing pointwise/cvar/0.01 in run t263h1g9 on sweep None. Filling all poitwisewith NAN.\n",
      "WARNING!! Missing pointwise/cvar/0.01 in run r14lwuth on sweep None. Filling all poitwisewith NAN.\n",
      "WARNING!! Missing pointwise/cvar/0.01 in run f6i33ek3 on sweep None. Filling all poitwisewith NAN.\n",
      "!!!!! WARNING: Missing key stepwise metric in run. Skipping f6i33ek3 mse/train/0\n",
      "Run skipped f6i33ek3\n",
      "WARNING!! Missing pointwise/cvar/0.01 in run od3h0xqs on sweep None. Filling all poitwisewith NAN.\n",
      "!!!!! WARNING: Missing key stepwise metric in run. Skipping od3h0xqs mse/train/0\n",
      "Run skipped od3h0xqs\n"
     ]
    },
    {
     "name": "stderr",
     "output_type": "stream",
     "text": [
      " 83%|████████▎ | 341/411 [01:26<00:05, 12.31it/s]"
     ]
    },
    {
     "name": "stdout",
     "output_type": "stream",
     "text": [
      "WARNING!! Missing pointwise/cvar/0.01 in run 8st2iumu on sweep None. Filling all poitwisewith NAN.\n",
      "WARNING!! Missing pointwise/cvar/0.01 in run vptrhcxf on sweep None. Filling all poitwisewith NAN.\n",
      "WARNING!! Missing pointwise/cvar/0.01 in run 0ps2eaux on sweep None. Filling all poitwisewith NAN.\n",
      "WARNING!! Missing pointwise/cvar/0.01 in run ra765y90 on sweep None. Filling all poitwisewith NAN.\n"
     ]
    },
    {
     "name": "stderr",
     "output_type": "stream",
     "text": [
      " 84%|████████▍ | 346/411 [01:26<00:04, 15.29it/s]"
     ]
    },
    {
     "name": "stdout",
     "output_type": "stream",
     "text": [
      "WARNING!! Missing pointwise/cvar/0.01 in run qulznobb on sweep None. Filling all poitwisewith NAN.\n",
      "WARNING!! Missing pointwise/cvar/0.01 in run av75thvu on sweep None. Filling all poitwisewith NAN.\n"
     ]
    },
    {
     "name": "stderr",
     "output_type": "stream",
     "text": [
      " 86%|████████▋ | 355/411 [01:35<00:22,  2.45it/s]"
     ]
    },
    {
     "name": "stdout",
     "output_type": "stream",
     "text": [
      "WARNING!! Missing pointwise/cvar/0.01 in run 96wcnklv on sweep None. Filling all poitwisewith NAN.\n",
      "WARNING!! Missing pointwise/cvar/0.01 in run hi58ycu8 on sweep None. Filling all poitwisewith NAN.\n",
      "WARNING!! Missing pointwise/cvar/0.01 in run ugo2sq09 on sweep None. Filling all poitwisewith NAN.\n",
      "WARNING!! Missing pointwise/cvar/0.01 in run c2nb9f6u on sweep None. Filling all poitwisewith NAN.\n",
      "WARNING!! Missing pointwise/cvar/0.01 in run 4su66w4s on sweep None. Filling all poitwisewith NAN.\n"
     ]
    },
    {
     "name": "stderr",
     "output_type": "stream",
     "text": [
      " 89%|████████▉ | 367/411 [01:35<00:08,  5.34it/s]"
     ]
    },
    {
     "name": "stdout",
     "output_type": "stream",
     "text": [
      "WARNING!! Missing pointwise/cvar/0.01 in run 3l8p07md on sweep None. Filling all poitwisewith NAN.\n",
      "WARNING!! Missing pointwise/cvar/0.01 in run vsrqp2wj on sweep None. Filling all poitwisewith NAN.\n",
      "WARNING!! Missing pointwise/cvar/0.01 in run x68ozuxw on sweep None. Filling all poitwisewith NAN.\n"
     ]
    },
    {
     "name": "stderr",
     "output_type": "stream",
     "text": [
      " 94%|█████████▎| 385/411 [01:36<00:01, 13.86it/s]"
     ]
    },
    {
     "name": "stdout",
     "output_type": "stream",
     "text": [
      "WARNING!! Missing pointwise/cvar/0.01 in run w6aaoqg5 on sweep None. Filling all poitwisewith NAN.\n",
      "WARNING!! Missing pointwise/cvar/0.01 in run dj3k89lq on sweep None. Filling all poitwisewith NAN.\n",
      "WARNING!! Missing pointwise/cvar/0.01 in run 9few0vri on sweep None. Filling all poitwisewith NAN.\n",
      "WARNING!! Missing pointwise/cvar/0.01 in run 0upvtnu8 on sweep None. Filling all poitwisewith NAN.\n"
     ]
    },
    {
     "name": "stderr",
     "output_type": "stream",
     "text": [
      " 97%|█████████▋| 400/411 [01:36<00:00, 23.69it/s]"
     ]
    },
    {
     "name": "stdout",
     "output_type": "stream",
     "text": [
      "WARNING!! Missing pointwise/cvar/0.01 in run bbedl2fm on sweep None. Filling all poitwisewith NAN.\n",
      "WARNING!! Missing pointwise/cvar/0.01 in run 2u2orrgj on sweep None. Filling all poitwisewith NAN.\n",
      "WARNING!! Missing pointwise/cvar/0.01 in run jpybtu8v on sweep None. Filling all poitwisewith NAN.\n"
     ]
    },
    {
     "name": "stderr",
     "output_type": "stream",
     "text": [
      "100%|██████████| 411/411 [01:45<00:00,  3.91it/s]"
     ]
    },
    {
     "name": "stdout",
     "output_type": "stream",
     "text": [
      "WARNING!! Missing pointwise/cvar/0.01 in run nusqty14 on sweep None. Filling all poitwisewith NAN.\n",
      "WARNING!! Missing pointwise/cvar/0.01 in run 93jqr60g on sweep None. Filling all poitwisewith NAN.\n",
      "WARNING!! Missing pointwise/cvar/0.01 in run rtu2j4af on sweep None. Filling all poitwisewith NAN.\n",
      "Fetched 411 runs\n"
     ]
    },
    {
     "name": "stderr",
     "output_type": "stream",
     "text": [
      "\n"
     ]
    },
    {
     "name": "stdout",
     "output_type": "stream",
     "text": [
      "Total records: (402336, 120)\n",
      "Total runs: 408\n",
      "Backup data saved as pickle: ../data_backups/2024_03_28__newmodels_erm_and_constrained.pkl\n",
      "Backup data saved as CSV: ../data_backups/2024_03_28__newmodels_erm_and_constrained.csv\n",
      "Returning backed up data as a pandas DF\n"
     ]
    }
   ],
   "source": [
    "saved_data = data_backup.backup_experiment_data(\n",
    "    experiment_tags = [\n",
    "        \"e29_icml_constrained_newmodels\",\n",
    "        \"erm_rebuttal_newmodels\"\n",
    "    ],\n",
    "    filename_prefix=\"../data_backups/2024_03_28__newmodels_erm_and_constrained\"\n",
    ")"
   ]
  },
  {
   "cell_type": "code",
   "execution_count": 51,
   "id": "3c32880e",
   "metadata": {},
   "outputs": [
    {
     "data": {
      "text/plain": [
       "(0, 120)"
      ]
     },
     "execution_count": 51,
     "metadata": {},
     "output_type": "execute_result"
    }
   ],
   "source": [
    "#saved_data.groupby(['model','data_path']).size().reset_index()\n",
    "saved_data.query(\"model=='FiLM' and constraint_type=='Constrained' and data_path=='weather.csv'\").shape"
   ]
  },
  {
   "cell_type": "markdown",
   "id": "2318e83f",
   "metadata": {},
   "source": [
    "## March 28 new datasets"
   ]
  },
  {
   "cell_type": "code",
   "execution_count": 19,
   "id": "f8b46a2b",
   "metadata": {},
   "outputs": [
    {
     "name": "stdout",
     "output_type": "stream",
     "text": [
      "Experiment tags being considered: ['e29_icml_erm_newdatasets', 'e30_icml_constrained_newdatasets_train']\n",
      "Saving to backup data filename: ../data_backups/2024_03_28__newdatasets_erm_and_constrained\n"
     ]
    },
    {
     "name": "stderr",
     "output_type": "stream",
     "text": [
      "  1%|          | 4/378 [00:00<00:35, 10.61it/s]"
     ]
    },
    {
     "name": "stdout",
     "output_type": "stream",
     "text": [
      "WARNING!! Missing pointwise/cvar/0.01 in run diij2u97 on sweep <Sweep alelab/Autoformer/bqpq33zs (FINISHED)>. Filling all poitwisewith NAN.\n",
      "WARNING!! Missing pointwise/cvar/0.01 in run gsgyvklv on sweep <Sweep alelab/Autoformer/wc3e4di4 (FINISHED)>. Filling all poitwisewith NAN.\n"
     ]
    },
    {
     "name": "stderr",
     "output_type": "stream",
     "text": [
      "  3%|▎         | 12/378 [00:00<00:22, 16.38it/s]"
     ]
    },
    {
     "name": "stdout",
     "output_type": "stream",
     "text": [
      "WARNING!! Missing pointwise/cvar/0.01 in run yrq8488g on sweep <Sweep alelab/Autoformer/qvrocaxk (FINISHED)>. Filling all poitwisewith NAN.\n",
      "WARNING!! Missing pointwise/cvar/0.01 in run kzi2mpt6 on sweep <Sweep alelab/Autoformer/qvrocaxk (FINISHED)>. Filling all poitwisewith NAN.\n"
     ]
    },
    {
     "name": "stderr",
     "output_type": "stream",
     "text": [
      "  5%|▍         | 18/378 [00:01<00:25, 13.97it/s]"
     ]
    },
    {
     "name": "stdout",
     "output_type": "stream",
     "text": [
      "WARNING!! Missing pointwise/cvar/0.01 in run yukr1nw3 on sweep <Sweep alelab/Autoformer/wq4yzy4n (FINISHED)>. Filling all poitwisewith NAN.\n",
      "WARNING!! Missing pointwise/cvar/0.01 in run jzulc2zh on sweep <Sweep alelab/Autoformer/wq4yzy4n (FINISHED)>. Filling all poitwisewith NAN.\n",
      "WARNING!! Missing pointwise/cvar/0.01 in run 3rfzwnyo on sweep <Sweep alelab/Autoformer/wq4yzy4n (FINISHED)>. Filling all poitwisewith NAN.\n",
      "WARNING!! Missing pointwise/cvar/0.01 in run pqz067sz on sweep <Sweep alelab/Autoformer/wbsqlsxc (FINISHED)>. Filling all poitwisewith NAN.\n"
     ]
    },
    {
     "name": "stderr",
     "output_type": "stream",
     "text": [
      "  6%|▌         | 22/378 [00:01<00:22, 15.88it/s]"
     ]
    },
    {
     "name": "stdout",
     "output_type": "stream",
     "text": [
      "WARNING!! Missing pointwise/cvar/0.01 in run 7woxemnc on sweep <Sweep alelab/Autoformer/wbsqlsxc (FINISHED)>. Filling all poitwisewith NAN.\n",
      "WARNING!! Missing pointwise/cvar/0.01 in run zily1oo0 on sweep <Sweep alelab/Autoformer/wbsqlsxc (FINISHED)>. Filling all poitwisewith NAN.\n",
      "WARNING!! Missing pointwise/cvar/0.01 in run qh8b15vk on sweep <Sweep alelab/Autoformer/7sr5dni6 (FINISHED)>. Filling all poitwisewith NAN.\n",
      "WARNING!! Missing pointwise/cvar/0.01 in run rrdjhs18 on sweep <Sweep alelab/Autoformer/7sr5dni6 (FINISHED)>. Filling all poitwisewith NAN.\n",
      "WARNING!! Missing pointwise/cvar/0.01 in run de6apgqi on sweep <Sweep alelab/Autoformer/7sr5dni6 (FINISHED)>. Filling all poitwisewith NAN.\n"
     ]
    },
    {
     "name": "stderr",
     "output_type": "stream",
     "text": [
      "  7%|▋         | 25/378 [00:01<00:22, 15.74it/s]"
     ]
    },
    {
     "name": "stdout",
     "output_type": "stream",
     "text": [
      "WARNING!! Missing pointwise/cvar/0.01 in run 5toknm9h on sweep <Sweep alelab/Autoformer/42gvfebi (FINISHED)>. Filling all poitwisewith NAN.\n",
      "WARNING!! Missing pointwise/cvar/0.01 in run lw8zax1d on sweep <Sweep alelab/Autoformer/42gvfebi (FINISHED)>. Filling all poitwisewith NAN.\n"
     ]
    },
    {
     "name": "stderr",
     "output_type": "stream",
     "text": [
      " 10%|█         | 38/378 [00:02<00:22, 15.12it/s]"
     ]
    },
    {
     "name": "stdout",
     "output_type": "stream",
     "text": [
      "WARNING!! Missing pointwise/cvar/0.01 in run m7ppb4ut on sweep <Sweep alelab/Autoformer/a0cmnw82 (FINISHED)>. Filling all poitwisewith NAN.\n",
      "WARNING!! Missing pointwise/cvar/0.01 in run usjhllwl on sweep <Sweep alelab/Autoformer/pq41klha (FINISHED)>. Filling all poitwisewith NAN.\n",
      "WARNING!! Missing pointwise/cvar/0.01 in run 8nurfoup on sweep <Sweep alelab/Autoformer/pq41klha (FINISHED)>. Filling all poitwisewith NAN.\n"
     ]
    },
    {
     "name": "stderr",
     "output_type": "stream",
     "text": [
      " 13%|█▎        | 48/378 [00:03<00:16, 19.57it/s]"
     ]
    },
    {
     "name": "stdout",
     "output_type": "stream",
     "text": [
      "WARNING!! Missing pointwise/cvar/0.01 in run p9ql95xq on sweep <Sweep alelab/Autoformer/ta2djhdt (FINISHED)>. Filling all poitwisewith NAN.\n",
      "WARNING!! Missing pointwise/cvar/0.01 in run 5o1fpdlz on sweep <Sweep alelab/Autoformer/hrrx0mey (FINISHED)>. Filling all poitwisewith NAN.\n",
      "WARNING!! Missing pointwise/cvar/0.01 in run qd76uvsq on sweep <Sweep alelab/Autoformer/hrrx0mey (FINISHED)>. Filling all poitwisewith NAN.\n",
      "WARNING!! Missing pointwise/cvar/0.01 in run 6kidhg2u on sweep <Sweep alelab/Autoformer/hrrx0mey (FINISHED)>. Filling all poitwisewith NAN.\n",
      "WARNING!! Missing pointwise/cvar/0.01 in run o2h7bolw on sweep <Sweep alelab/Autoformer/gix1vjpx (FINISHED)>. Filling all poitwisewith NAN.\n"
     ]
    },
    {
     "name": "stderr",
     "output_type": "stream",
     "text": [
      " 13%|█▎        | 51/378 [00:08<03:20,  1.63it/s]"
     ]
    },
    {
     "name": "stdout",
     "output_type": "stream",
     "text": [
      "WARNING!! Missing pointwise/cvar/0.01 in run pw51adrt on sweep <Sweep alelab/Autoformer/gix1vjpx (FINISHED)>. Filling all poitwisewith NAN.\n",
      "WARNING!! Missing pointwise/cvar/0.01 in run 7ea1bfee on sweep <Sweep alelab/Autoformer/gix1vjpx (FINISHED)>. Filling all poitwisewith NAN.\n",
      "WARNING!! Missing pointwise/cvar/0.01 in run zy8wvge5 on sweep <Sweep alelab/Autoformer/r9k20tgc (FINISHED)>. Filling all poitwisewith NAN.\n",
      "WARNING!! Missing pointwise/cvar/0.01 in run pprpu7qk on sweep <Sweep alelab/Autoformer/r9k20tgc (FINISHED)>. Filling all poitwisewith NAN.\n"
     ]
    },
    {
     "name": "stderr",
     "output_type": "stream",
     "text": [
      " 15%|█▌        | 57/378 [00:08<01:39,  3.24it/s]"
     ]
    },
    {
     "name": "stdout",
     "output_type": "stream",
     "text": [
      "WARNING!! Missing pointwise/cvar/0.01 in run dzl0rq0d on sweep <Sweep alelab/Autoformer/r9k20tgc (FINISHED)>. Filling all poitwisewith NAN.\n",
      "WARNING!! Missing pointwise/cvar/0.01 in run 6r1f4z0f on sweep <Sweep alelab/Autoformer/lk7ffz4i (FINISHED)>. Filling all poitwisewith NAN.\n",
      "WARNING!! Missing pointwise/cvar/0.01 in run ipjt6c1u on sweep <Sweep alelab/Autoformer/lk7ffz4i (FINISHED)>. Filling all poitwisewith NAN.\n",
      "WARNING!! Missing pointwise/cvar/0.01 in run c0vsgd57 on sweep <Sweep alelab/Autoformer/lk7ffz4i (FINISHED)>. Filling all poitwisewith NAN.\n",
      "WARNING!! Missing pointwise/cvar/0.01 in run 71fdpwii on sweep <Sweep alelab/Autoformer/2e3um89y (FINISHED)>. Filling all poitwisewith NAN.\n"
     ]
    },
    {
     "name": "stderr",
     "output_type": "stream",
     "text": [
      " 17%|█▋        | 63/378 [00:08<00:53,  5.86it/s]"
     ]
    },
    {
     "name": "stdout",
     "output_type": "stream",
     "text": [
      "WARNING!! Missing pointwise/cvar/0.01 in run g239djzn on sweep <Sweep alelab/Autoformer/2e3um89y (FINISHED)>. Filling all poitwisewith NAN.\n",
      "WARNING!! Missing pointwise/cvar/0.01 in run rv8rz4fn on sweep <Sweep alelab/Autoformer/1zrtosuz (FINISHED)>. Filling all poitwisewith NAN.\n"
     ]
    },
    {
     "name": "stderr",
     "output_type": "stream",
     "text": [
      " 20%|█▉        | 75/378 [00:09<00:22, 13.25it/s]"
     ]
    },
    {
     "name": "stdout",
     "output_type": "stream",
     "text": [
      "WARNING!! Missing pointwise/cvar/0.01 in run l1gdbow7 on sweep <Sweep alelab/Autoformer/5eh7bjnr (FINISHED)>. Filling all poitwisewith NAN.\n",
      "WARNING!! Missing pointwise/cvar/0.01 in run qqtip8k5 on sweep <Sweep alelab/Autoformer/9cj3md4i (FINISHED)>. Filling all poitwisewith NAN.\n",
      "WARNING!! Missing pointwise/cvar/0.01 in run nuib0bfu on sweep <Sweep alelab/Autoformer/9cj3md4i (FINISHED)>. Filling all poitwisewith NAN.\n",
      "WARNING!! Missing pointwise/cvar/0.01 in run f03c1sr6 on sweep <Sweep alelab/Autoformer/9cj3md4i (FINISHED)>. Filling all poitwisewith NAN.\n",
      "WARNING!! Missing pointwise/cvar/0.01 in run uyrmytvd on sweep <Sweep alelab/Autoformer/nl76kwi4 (FINISHED)>. Filling all poitwisewith NAN.\n"
     ]
    },
    {
     "name": "stderr",
     "output_type": "stream",
     "text": [
      " 21%|██▏       | 81/378 [00:09<00:17, 16.63it/s]"
     ]
    },
    {
     "name": "stdout",
     "output_type": "stream",
     "text": [
      "WARNING!! Missing pointwise/cvar/0.01 in run tktfucmd on sweep <Sweep alelab/Autoformer/nl76kwi4 (FINISHED)>. Filling all poitwisewith NAN.\n",
      "WARNING!! Missing pointwise/cvar/0.01 in run dic3llqr on sweep <Sweep alelab/Autoformer/nl76kwi4 (FINISHED)>. Filling all poitwisewith NAN.\n",
      "WARNING!! Missing pointwise/cvar/0.01 in run ci5bgznq on sweep <Sweep alelab/Autoformer/rgw2t2cn (FINISHED)>. Filling all poitwisewith NAN.\n",
      "WARNING!! Missing pointwise/cvar/0.01 in run bsmpeys0 on sweep <Sweep alelab/Autoformer/rgw2t2cn (FINISHED)>. Filling all poitwisewith NAN.\n",
      "WARNING!! Missing pointwise/cvar/0.01 in run smcjbw0h on sweep <Sweep alelab/Autoformer/rgw2t2cn (FINISHED)>. Filling all poitwisewith NAN.\n"
     ]
    },
    {
     "name": "stderr",
     "output_type": "stream",
     "text": [
      " 22%|██▏       | 84/378 [00:09<00:16, 18.16it/s]"
     ]
    },
    {
     "name": "stdout",
     "output_type": "stream",
     "text": [
      "WARNING!! Missing pointwise/cvar/0.01 in run 75qrk8sr on sweep <Sweep alelab/Autoformer/mdgenk44 (FINISHED)>. Filling all poitwisewith NAN.\n"
     ]
    },
    {
     "name": "stderr",
     "output_type": "stream",
     "text": [
      " 23%|██▎       | 87/378 [00:10<00:18, 15.63it/s]"
     ]
    },
    {
     "name": "stdout",
     "output_type": "stream",
     "text": [
      "WARNING!! Missing pointwise/cvar/0.01 in run brlwd5t5 on sweep <Sweep alelab/Autoformer/7b0fftu1 (FINISHED)>. Filling all poitwisewith NAN.\n",
      "WARNING!! Missing pointwise/cvar/0.01 in run x9fjws3p on sweep <Sweep alelab/Autoformer/pkc4s5uz (FINISHED)>. Filling all poitwisewith NAN.\n"
     ]
    },
    {
     "name": "stderr",
     "output_type": "stream",
     "text": [
      " 30%|███       | 114/378 [00:22<01:05,  4.06it/s]"
     ]
    },
    {
     "name": "stdout",
     "output_type": "stream",
     "text": [
      "WARNING!! Missing pointwise/cvar/0.01 in run 3aid1u8b on sweep <Sweep alelab/Autoformer/pm9djfz5 (FINISHED)>. Filling all poitwisewith NAN.\n"
     ]
    },
    {
     "name": "stderr",
     "output_type": "stream",
     "text": [
      " 31%|███       | 117/378 [00:22<00:46,  5.66it/s]"
     ]
    },
    {
     "name": "stdout",
     "output_type": "stream",
     "text": [
      "WARNING!! Missing pointwise/cvar/0.01 in run u9i3usdz on sweep <Sweep alelab/Autoformer/aeul26y5 (FINISHED)>. Filling all poitwisewith NAN.\n"
     ]
    },
    {
     "name": "stderr",
     "output_type": "stream",
     "text": [
      " 32%|███▏      | 121/378 [00:23<00:33,  7.61it/s]"
     ]
    },
    {
     "name": "stdout",
     "output_type": "stream",
     "text": [
      "WARNING!! Missing pointwise/cvar/0.01 in run 5suwxzgx on sweep <Sweep alelab/Autoformer/aovoifx5 (FINISHED)>. Filling all poitwisewith NAN.\n",
      "WARNING!! Missing pointwise/cvar/0.01 in run lq18eo2m on sweep <Sweep alelab/Autoformer/aovoifx5 (FINISHED)>. Filling all poitwisewith NAN.\n"
     ]
    },
    {
     "name": "stderr",
     "output_type": "stream",
     "text": [
      " 79%|███████▉  | 298/378 [01:17<00:05, 15.11it/s]"
     ]
    },
    {
     "name": "stdout",
     "output_type": "stream",
     "text": [
      "WARNING!! Missing pointwise/cvar/0.01 in run 2qa1s6bx on sweep <Sweep alelab/Autoformer/mzykvqfn (FINISHED)>. Filling all poitwisewith NAN.\n"
     ]
    },
    {
     "name": "stderr",
     "output_type": "stream",
     "text": [
      " 82%|████████▏ | 310/378 [01:31<00:36,  1.88it/s]"
     ]
    },
    {
     "name": "stdout",
     "output_type": "stream",
     "text": [
      "WARNING!! Missing pointwise/cvar/0.01 in run vuppzm29 on sweep <Sweep alelab/Autoformer/mzykvqfn (FINISHED)>. Filling all poitwisewith NAN.\n"
     ]
    },
    {
     "name": "stderr",
     "output_type": "stream",
     "text": [
      " 94%|█████████▎| 354/378 [01:40<00:17,  1.40it/s]"
     ]
    },
    {
     "name": "stdout",
     "output_type": "stream",
     "text": [
      "WARNING!! Missing pointwise/cvar/0.01 in run 98fpmxck on sweep <Sweep alelab/Autoformer/xqpbzr6x (FINISHED)>. Filling all poitwisewith NAN.\n"
     ]
    },
    {
     "name": "stderr",
     "output_type": "stream",
     "text": [
      "100%|██████████| 378/378 [01:42<00:00,  3.69it/s]\n"
     ]
    },
    {
     "name": "stdout",
     "output_type": "stream",
     "text": [
      "Fetched 378 runs\n",
      "Total records: (323424, 120)\n",
      "Total runs: 378\n",
      "Backup data saved as pickle: ../data_backups/2024_03_28__newdatasets_erm_and_constrained.pkl\n",
      "Backup data saved as CSV: ../data_backups/2024_03_28__newdatasets_erm_and_constrained.csv\n",
      "Returning backed up data as a pandas DF\n"
     ]
    }
   ],
   "source": [
    "saved_data = data_backup.backup_experiment_data(\n",
    "    experiment_tags = [\n",
    "        \"e29_icml_erm_newdatasets\",\n",
    "        \"e30_icml_constrained_newdatasets_train\",\n",
    "        #\"e31_icml_constrained_newdatasets_val\" #NOT READY YET AS OF mar 28 9am. expected by ~8pm\n",
    "    ],\n",
    "    filename_prefix=\"../data_backups/2024_03_28__newdatasets_erm_and_constrained\"\n",
    ")"
   ]
  },
  {
   "cell_type": "markdown",
   "id": "6b6382fe",
   "metadata": {},
   "source": [
    "## Debug and benchmark"
   ]
  },
  {
   "cell_type": "code",
   "execution_count": 5,
   "id": "c0f13f7e",
   "metadata": {},
   "outputs": [
    {
     "name": "stdout",
     "output_type": "stream",
     "text": [
      "Benchmarking three metrics \n",
      "Experiment tags being considered: ['dev_benchmark_wandb_dl']\n",
      "Saving to backup data filename: ../data_backups/deleteme_speed_benchmark\n"
     ]
    },
    {
     "name": "stderr",
     "output_type": "stream",
     "text": [
      "100%|██████████| 15/15 [00:00<00:00, 96.03it/s] \n"
     ]
    },
    {
     "name": "stdout",
     "output_type": "stream",
     "text": [
      "WARNING!! Missing pointwise/cvar/0.01 in run srfnlxpq on sweep None. Filling all poitwisewith NAN.\n",
      "WARNING!! Missing pointwise/cvar/0.01 in run 29z2zody on sweep None. Filling all poitwisewith NAN.\n",
      "WARNING!! Missing pointwise/cvar/0.01 in run c1vx993c on sweep None. Filling all poitwisewith NAN.\n",
      "WARNING!! Missing pointwise/cvar/0.01 in run dee09yde on sweep None. Filling all poitwisewith NAN.\n",
      "WARNING!! Missing pointwise/cvar/0.01 in run 93mstn5t on sweep None. Filling all poitwisewith NAN.\n",
      "WARNING!! Missing pointwise/cvar/0.01 in run 8v5a5rd9 on sweep None. Filling all poitwisewith NAN.\n",
      "WARNING!! Missing pointwise/cvar/0.01 in run 4ccjigue on sweep None. Filling all poitwisewith NAN.\n",
      "WARNING!! Missing pointwise/cvar/0.01 in run v8l2gqvu on sweep None. Filling all poitwisewith NAN.\n",
      "WARNING!! Missing pointwise/cvar/0.01 in run i1zkvnim on sweep None. Filling all poitwisewith NAN.\n",
      "WARNING!! Missing pointwise/cvar/0.01 in run f5g7pedj on sweep None. Filling all poitwisewith NAN.\n",
      "WARNING!! Missing pointwise/cvar/0.01 in run 8st2iumu on sweep None. Filling all poitwisewith NAN.\n",
      "WARNING!! Missing pointwise/cvar/0.01 in run 0ps2eaux on sweep None. Filling all poitwisewith NAN.\n",
      "WARNING!! Missing pointwise/cvar/0.01 in run lj5bfyj3 on sweep None. Filling all poitwisewith NAN.\n",
      "WARNING!! Missing pointwise/cvar/0.01 in run 6f89gond on sweep None. Filling all poitwisewith NAN.\n",
      "WARNING!! Missing pointwise/cvar/0.01 in run 96wcnklv on sweep None. Filling all poitwisewith NAN.\n",
      "Fetched 15 runs\n",
      "Total records: (8640, 119)\n",
      "Total runs: 15\n",
      "Backup data saved as pickle: ../data_backups/deleteme_speed_benchmark.pkl\n",
      "Backup data saved as CSV: ../data_backups/deleteme_speed_benchmark.csv\n",
      "Returning backed up data as a pandas DF\n",
      "CPU times: user 1.2 s, sys: 172 ms, total: 1.37 s\n",
      "Wall time: 3.63 s\n"
     ]
    }
   ],
   "source": [
    "%%time\n",
    "print(\"Benchmarking three metrics \")\n",
    "saved_data = data_backup.backup_experiment_data(\n",
    "    experiment_tags = [\n",
    "        \"dev_benchmark_wandb_dl\",\n",
    "    ],\n",
    "    filename_prefix=\"../data_backups/deleteme_speed_benchmark\"\n",
    ")"
   ]
  },
  {
   "cell_type": "code",
   "execution_count": 39,
   "id": "1e41b97f",
   "metadata": {},
   "outputs": [
    {
     "name": "stdout",
     "output_type": "stream",
     "text": [
      "Experiment tags being considered: ['erm_rebuttal_newmodels']\n",
      "Saving to backup data filename: ../data_backups/deleteme_dev\n"
     ]
    },
    {
     "name": "stderr",
     "output_type": "stream",
     "text": [
      "  6%|▌         | 5/83 [00:00<00:02, 34.60it/s]"
     ]
    },
    {
     "name": "stdout",
     "output_type": "stream",
     "text": [
      "WARNING!! Missing pointwise/cvar/0.01 in run y2shj0jp on sweep None. Filling all poitwisewith NAN.\n",
      "WARNING!! Missing pointwise/cvar/0.01 in run v1xbb1y6 on sweep None. Filling all poitwisewith NAN.\n",
      "WARNING!! Missing pointwise/cvar/0.01 in run hmi3lxxs on sweep None. Filling all poitwisewith NAN.\n",
      "WARNING!! Missing pointwise/cvar/0.01 in run 9hu9f3df on sweep None. Filling all poitwisewith NAN.\n",
      "WARNING!! Missing pointwise/cvar/0.01 in run c3zzb05x on sweep None. Filling all poitwisewith NAN.\n",
      "WARNING!! Missing pointwise/cvar/0.01 in run vjbq485j on sweep None. Filling all poitwisewith NAN.\n",
      "WARNING!! Missing pointwise/cvar/0.01 in run b7s8jptd on sweep None. Filling all poitwisewith NAN.\n"
     ]
    },
    {
     "name": "stderr",
     "output_type": "stream",
     "text": [
      " 17%|█▋        | 14/83 [00:00<00:01, 36.72it/s]"
     ]
    },
    {
     "name": "stdout",
     "output_type": "stream",
     "text": [
      "WARNING!! Missing pointwise/cvar/0.01 in run nilwbio1 on sweep None. Filling all poitwisewith NAN.\n",
      "WARNING!! Missing pointwise/cvar/0.01 in run jgykcbi0 on sweep None. Filling all poitwisewith NAN.\n",
      "WARNING!! Missing pointwise/cvar/0.01 in run ci9ssydd on sweep None. Filling all poitwisewith NAN.\n",
      "WARNING!! Missing pointwise/cvar/0.01 in run q3x2oux3 on sweep None. Filling all poitwisewith NAN.\n",
      "WARNING!! Missing pointwise/cvar/0.01 in run rnbsyq2k on sweep None. Filling all poitwisewith NAN.\n",
      "WARNING!! Missing pointwise/cvar/0.01 in run mw9t2ygl on sweep None. Filling all poitwisewith NAN.\n",
      "WARNING!! Missing pointwise/cvar/0.01 in run nmhkgaj4 on sweep None. Filling all poitwisewith NAN.\n",
      "WARNING!! Missing pointwise/cvar/0.01 in run f4i2vy5f on sweep None. Filling all poitwisewith NAN.\n",
      "WARNING!! Missing pointwise/cvar/0.01 in run o1qr4wlh on sweep None. Filling all poitwisewith NAN.\n"
     ]
    },
    {
     "name": "stderr",
     "output_type": "stream",
     "text": [
      " 27%|██▋       | 22/83 [00:00<00:01, 36.64it/s]"
     ]
    },
    {
     "name": "stdout",
     "output_type": "stream",
     "text": [
      "WARNING!! Missing pointwise/cvar/0.01 in run flfhnh21 on sweep None. Filling all poitwisewith NAN.\n"
     ]
    },
    {
     "name": "stderr",
     "output_type": "stream",
     "text": [
      " 36%|███▌      | 30/83 [00:01<00:04, 11.62it/s]"
     ]
    },
    {
     "name": "stdout",
     "output_type": "stream",
     "text": [
      "WARNING!! Missing pointwise/cvar/0.01 in run ssafm6eb on sweep None. Filling all poitwisewith NAN.\n",
      "WARNING!! Missing pointwise/cvar/0.01 in run hi58ycu8 on sweep None. Filling all poitwisewith NAN.\n",
      "WARNING!! Missing pointwise/cvar/0.01 in run ugo2sq09 on sweep None. Filling all poitwisewith NAN.\n",
      "WARNING!! Missing pointwise/cvar/0.01 in run c2nb9f6u on sweep None. Filling all poitwisewith NAN.\n",
      "WARNING!! Missing pointwise/cvar/0.01 in run 4su66w4s on sweep None. Filling all poitwisewith NAN.\n"
     ]
    },
    {
     "name": "stderr",
     "output_type": "stream",
     "text": [
      " 47%|████▋     | 39/83 [00:02<00:02, 19.82it/s]"
     ]
    },
    {
     "name": "stdout",
     "output_type": "stream",
     "text": [
      "WARNING!! Missing pointwise/cvar/0.01 in run 3l8p07md on sweep None. Filling all poitwisewith NAN.\n",
      "WARNING!! Missing pointwise/cvar/0.01 in run vsrqp2wj on sweep None. Filling all poitwisewith NAN.\n",
      "WARNING!! Missing pointwise/cvar/0.01 in run x68ozuxw on sweep None. Filling all poitwisewith NAN.\n"
     ]
    },
    {
     "name": "stderr",
     "output_type": "stream",
     "text": [
      " 67%|██████▋   | 56/83 [00:09<00:09,  2.74it/s]"
     ]
    },
    {
     "name": "stdout",
     "output_type": "stream",
     "text": [
      "WARNING!! Missing pointwise/cvar/0.01 in run w6aaoqg5 on sweep None. Filling all poitwisewith NAN.\n",
      "WARNING!! Missing pointwise/cvar/0.01 in run dj3k89lq on sweep None. Filling all poitwisewith NAN.\n",
      "WARNING!! Missing pointwise/cvar/0.01 in run 9few0vri on sweep None. Filling all poitwisewith NAN.\n",
      "WARNING!! Missing pointwise/cvar/0.01 in run 0upvtnu8 on sweep None. Filling all poitwisewith NAN.\n"
     ]
    },
    {
     "name": "stderr",
     "output_type": "stream",
     "text": [
      " 88%|████████▊ | 73/83 [00:09<00:01,  9.27it/s]"
     ]
    },
    {
     "name": "stdout",
     "output_type": "stream",
     "text": [
      "WARNING!! Missing pointwise/cvar/0.01 in run bbedl2fm on sweep None. Filling all poitwisewith NAN.\n",
      "WARNING!! Missing pointwise/cvar/0.01 in run 2u2orrgj on sweep None. Filling all poitwisewith NAN.\n",
      "WARNING!! Missing pointwise/cvar/0.01 in run jpybtu8v on sweep None. Filling all poitwisewith NAN.\n",
      "WARNING!! Missing pointwise/cvar/0.01 in run nusqty14 on sweep None. Filling all poitwisewith NAN.\n"
     ]
    },
    {
     "name": "stderr",
     "output_type": "stream",
     "text": [
      "100%|██████████| 83/83 [00:10<00:00,  8.09it/s]\n"
     ]
    },
    {
     "name": "stdout",
     "output_type": "stream",
     "text": [
      "WARNING!! Missing pointwise/cvar/0.01 in run 93jqr60g on sweep None. Filling all poitwisewith NAN.\n",
      "WARNING!! Missing pointwise/cvar/0.01 in run rtu2j4af on sweep None. Filling all poitwisewith NAN.\n",
      "Fetched 83 runs\n",
      "Total records: (82512, 120)\n",
      "Total runs: 83\n",
      "Backup data saved as pickle: ../data_backups/deleteme_dev.pkl\n",
      "Backup data saved as CSV: ../data_backups/deleteme_dev.csv\n",
      "Returning backed up data as a pandas DF\n"
     ]
    }
   ],
   "source": [
    "#dev\n",
    "dd = data_backup.backup_experiment_data(\n",
    "    experiment_tags = [\n",
    "        \"erm_rebuttal_newmodels\"\n",
    "    ],\n",
    "    filename_prefix=\"../data_backups/deleteme_dev\"\n",
    ")"
   ]
  },
  {
   "cell_type": "code",
   "execution_count": 44,
   "id": "728d048f",
   "metadata": {},
   "outputs": [
    {
     "data": {
      "text/html": [
       "<div>\n",
       "<style scoped>\n",
       "    .dataframe tbody tr th:only-of-type {\n",
       "        vertical-align: middle;\n",
       "    }\n",
       "\n",
       "    .dataframe tbody tr th {\n",
       "        vertical-align: top;\n",
       "    }\n",
       "\n",
       "    .dataframe thead th {\n",
       "        text-align: right;\n",
       "    }\n",
       "</style>\n",
       "<table border=\"1\" class=\"dataframe\">\n",
       "  <thead>\n",
       "    <tr style=\"text-align: right;\">\n",
       "      <th></th>\n",
       "      <th>model</th>\n",
       "      <th>constraint_type</th>\n",
       "      <th>data_path</th>\n",
       "      <th>run_id</th>\n",
       "    </tr>\n",
       "  </thead>\n",
       "  <tbody>\n",
       "    <tr>\n",
       "      <th>10</th>\n",
       "      <td>Pyraformer</td>\n",
       "      <td>erm</td>\n",
       "      <td>traffic.csv</td>\n",
       "      <td>3</td>\n",
       "    </tr>\n",
       "    <tr>\n",
       "      <th>0</th>\n",
       "      <td>FiLM</td>\n",
       "      <td>erm</td>\n",
       "      <td>electricity.csv</td>\n",
       "      <td>4</td>\n",
       "    </tr>\n",
       "    <tr>\n",
       "      <th>16</th>\n",
       "      <td>iTransformer</td>\n",
       "      <td>erm</td>\n",
       "      <td>electricity.csv</td>\n",
       "      <td>4</td>\n",
       "    </tr>\n",
       "    <tr>\n",
       "      <th>15</th>\n",
       "      <td>TimesNet</td>\n",
       "      <td>erm</td>\n",
       "      <td>weather.csv</td>\n",
       "      <td>4</td>\n",
       "    </tr>\n",
       "    <tr>\n",
       "      <th>14</th>\n",
       "      <td>TimesNet</td>\n",
       "      <td>erm</td>\n",
       "      <td>traffic.csv</td>\n",
       "      <td>4</td>\n",
       "    </tr>\n",
       "    <tr>\n",
       "      <th>13</th>\n",
       "      <td>TimesNet</td>\n",
       "      <td>erm</td>\n",
       "      <td>exchange_rate.csv</td>\n",
       "      <td>4</td>\n",
       "    </tr>\n",
       "    <tr>\n",
       "      <th>12</th>\n",
       "      <td>TimesNet</td>\n",
       "      <td>erm</td>\n",
       "      <td>electricity.csv</td>\n",
       "      <td>4</td>\n",
       "    </tr>\n",
       "    <tr>\n",
       "      <th>11</th>\n",
       "      <td>Pyraformer</td>\n",
       "      <td>erm</td>\n",
       "      <td>weather.csv</td>\n",
       "      <td>4</td>\n",
       "    </tr>\n",
       "    <tr>\n",
       "      <th>17</th>\n",
       "      <td>iTransformer</td>\n",
       "      <td>erm</td>\n",
       "      <td>traffic.csv</td>\n",
       "      <td>4</td>\n",
       "    </tr>\n",
       "    <tr>\n",
       "      <th>18</th>\n",
       "      <td>iTransformer</td>\n",
       "      <td>erm</td>\n",
       "      <td>weather.csv</td>\n",
       "      <td>4</td>\n",
       "    </tr>\n",
       "    <tr>\n",
       "      <th>7</th>\n",
       "      <td>Nonstationary_Transformer</td>\n",
       "      <td>erm</td>\n",
       "      <td>weather.csv</td>\n",
       "      <td>4</td>\n",
       "    </tr>\n",
       "    <tr>\n",
       "      <th>6</th>\n",
       "      <td>Nonstationary_Transformer</td>\n",
       "      <td>erm</td>\n",
       "      <td>traffic.csv</td>\n",
       "      <td>4</td>\n",
       "    </tr>\n",
       "    <tr>\n",
       "      <th>5</th>\n",
       "      <td>Nonstationary_Transformer</td>\n",
       "      <td>erm</td>\n",
       "      <td>exchange_rate.csv</td>\n",
       "      <td>4</td>\n",
       "    </tr>\n",
       "    <tr>\n",
       "      <th>4</th>\n",
       "      <td>Nonstationary_Transformer</td>\n",
       "      <td>erm</td>\n",
       "      <td>electricity.csv</td>\n",
       "      <td>4</td>\n",
       "    </tr>\n",
       "    <tr>\n",
       "      <th>3</th>\n",
       "      <td>FiLM</td>\n",
       "      <td>erm</td>\n",
       "      <td>weather.csv</td>\n",
       "      <td>4</td>\n",
       "    </tr>\n",
       "    <tr>\n",
       "      <th>2</th>\n",
       "      <td>FiLM</td>\n",
       "      <td>erm</td>\n",
       "      <td>traffic.csv</td>\n",
       "      <td>4</td>\n",
       "    </tr>\n",
       "    <tr>\n",
       "      <th>1</th>\n",
       "      <td>FiLM</td>\n",
       "      <td>erm</td>\n",
       "      <td>exchange_rate.csv</td>\n",
       "      <td>4</td>\n",
       "    </tr>\n",
       "    <tr>\n",
       "      <th>8</th>\n",
       "      <td>Pyraformer</td>\n",
       "      <td>erm</td>\n",
       "      <td>electricity.csv</td>\n",
       "      <td>8</td>\n",
       "    </tr>\n",
       "    <tr>\n",
       "      <th>9</th>\n",
       "      <td>Pyraformer</td>\n",
       "      <td>erm</td>\n",
       "      <td>exchange_rate.csv</td>\n",
       "      <td>8</td>\n",
       "    </tr>\n",
       "  </tbody>\n",
       "</table>\n",
       "</div>"
      ],
      "text/plain": [
       "                        model constraint_type          data_path  run_id\n",
       "10                 Pyraformer             erm        traffic.csv       3\n",
       "0                        FiLM             erm    electricity.csv       4\n",
       "16               iTransformer             erm    electricity.csv       4\n",
       "15                   TimesNet             erm        weather.csv       4\n",
       "14                   TimesNet             erm        traffic.csv       4\n",
       "13                   TimesNet             erm  exchange_rate.csv       4\n",
       "12                   TimesNet             erm    electricity.csv       4\n",
       "11                 Pyraformer             erm        weather.csv       4\n",
       "17               iTransformer             erm        traffic.csv       4\n",
       "18               iTransformer             erm        weather.csv       4\n",
       "7   Nonstationary_Transformer             erm        weather.csv       4\n",
       "6   Nonstationary_Transformer             erm        traffic.csv       4\n",
       "5   Nonstationary_Transformer             erm  exchange_rate.csv       4\n",
       "4   Nonstationary_Transformer             erm    electricity.csv       4\n",
       "3                        FiLM             erm        weather.csv       4\n",
       "2                        FiLM             erm        traffic.csv       4\n",
       "1                        FiLM             erm  exchange_rate.csv       4\n",
       "8                  Pyraformer             erm    electricity.csv       8\n",
       "9                  Pyraformer             erm  exchange_rate.csv       8"
      ]
     },
     "execution_count": 44,
     "metadata": {},
     "output_type": "execute_result"
    }
   ],
   "source": [
    "dd.groupby(['model','constraint_type','data_path'])['run_id'].nunique().reset_index().sort_values(by='run_id')"
   ]
  },
  {
   "cell_type": "code",
   "execution_count": null,
   "id": "d1405d70",
   "metadata": {},
   "outputs": [],
   "source": [
    "dd.groupby(['model','constraint_type','data_path'])['run_id'].nunique().reset_index().sort_values(by='run_id')"
   ]
  }
 ],
 "metadata": {
  "kernelspec": {
   "display_name": "Python 3 (ipykernel)",
   "language": "python",
   "name": "python3"
  },
  "language_info": {
   "codemirror_mode": {
    "name": "ipython",
    "version": 3
   },
   "file_extension": ".py",
   "mimetype": "text/x-python",
   "name": "python",
   "nbconvert_exporter": "python",
   "pygments_lexer": "ipython3",
   "version": "3.7.12"
  }
 },
 "nbformat": 4,
 "nbformat_minor": 5
}
