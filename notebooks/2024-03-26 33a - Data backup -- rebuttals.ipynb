{
 "cells": [
  {
   "cell_type": "markdown",
   "id": "461ef4b3",
   "metadata": {},
   "source": [
    "## Libraries and setup"
   ]
  },
  {
   "cell_type": "code",
   "execution_count": 1,
   "id": "31a718a8",
   "metadata": {},
   "outputs": [],
   "source": [
    "%load_ext autoreload\n",
    "%autoreload 2"
   ]
  },
  {
   "cell_type": "code",
   "execution_count": 2,
   "id": "57da5343",
   "metadata": {},
   "outputs": [],
   "source": [
    "import sys\n",
    "import os\n",
    "sys.path.append(os.path.abspath(os.path.join(os.getcwd(), os.pardir)))"
   ]
  },
  {
   "cell_type": "code",
   "execution_count": 3,
   "id": "d4db62bc",
   "metadata": {},
   "outputs": [],
   "source": [
    "import pandas as pd\n",
    "import numpy as np\n",
    "from matplotlib import pyplot as plt\n",
    "import seaborn as sns\n",
    "from IPython.display import display, Markdown, Latex"
   ]
  },
  {
   "cell_type": "code",
   "execution_count": 4,
   "id": "5bb34d2b",
   "metadata": {},
   "outputs": [],
   "source": [
    "from utils import wandb_utils\n",
    "from exp import data_backup"
   ]
  },
  {
   "cell_type": "code",
   "execution_count": 5,
   "id": "c7a1bd07",
   "metadata": {},
   "outputs": [
    {
     "ename": "KeyboardInterrupt",
     "evalue": "",
     "output_type": "error",
     "traceback": [
      "\u001b[0;31m---------------------------------------------------------------------------\u001b[0m",
      "\u001b[0;31mKeyboardInterrupt\u001b[0m                         Traceback (most recent call last)",
      "\u001b[0;32m/tmp/ipykernel_3660/2403511990.py\u001b[0m in \u001b[0;36m<module>\u001b[0;34m\u001b[0m\n\u001b[1;32m      1\u001b[0m \u001b[0mexperiment_tags\u001b[0m \u001b[0;34m=\u001b[0m \u001b[0;34m[\u001b[0m\u001b[0;34m'e29_icml_erm_newdatasets'\u001b[0m\u001b[0;34m]\u001b[0m\u001b[0;34m\u001b[0m\u001b[0;34m\u001b[0m\u001b[0m\n\u001b[1;32m      2\u001b[0m \u001b[0;34m\u001b[0m\u001b[0m\n\u001b[0;32m----> 3\u001b[0;31m \u001b[0mbackup_data\u001b[0m\u001b[0;34m=\u001b[0m\u001b[0mwandb_utils\u001b[0m\u001b[0;34m.\u001b[0m\u001b[0mget_experiment_data\u001b[0m\u001b[0;34m(\u001b[0m\u001b[0;34m\"Autoformer\"\u001b[0m\u001b[0;34m,\u001b[0m\u001b[0;34m\"alelab\"\u001b[0m\u001b[0;34m,\u001b[0m\u001b[0mexperiment_tags\u001b[0m\u001b[0;34m=\u001b[0m\u001b[0mexperiment_tags\u001b[0m\u001b[0;34m,\u001b[0m\u001b[0mquery_dict\u001b[0m\u001b[0;34m=\u001b[0m\u001b[0;34m{\u001b[0m\u001b[0;34m\"tags\"\u001b[0m\u001b[0;34m:\u001b[0m \u001b[0;34m{\u001b[0m\u001b[0;34m\"$in\"\u001b[0m\u001b[0;34m:\u001b[0m \u001b[0mexperiment_tags\u001b[0m\u001b[0;34m}\u001b[0m\u001b[0;34m}\u001b[0m\u001b[0;34m)\u001b[0m\u001b[0;34m\u001b[0m\u001b[0;34m\u001b[0m\u001b[0m\n\u001b[0m",
      "\u001b[0;32m~/sourcecode/Autoformer/utils/wandb_utils.py\u001b[0m in \u001b[0;36mget_experiment_data\u001b[0;34m(project, workspace, experiment_tags, state, query_dict, timeout)\u001b[0m\n\u001b[1;32m     30\u001b[0m     \u001b[0mall_runs\u001b[0m \u001b[0;34m=\u001b[0m \u001b[0;34m[\u001b[0m\u001b[0;34m]\u001b[0m\u001b[0;34m\u001b[0m\u001b[0;34m\u001b[0m\u001b[0m\n\u001b[1;32m     31\u001b[0m     \u001b[0mrun_counter\u001b[0m \u001b[0;34m=\u001b[0m \u001b[0;36m0\u001b[0m\u001b[0;34m\u001b[0m\u001b[0;34m\u001b[0m\u001b[0m\n\u001b[0;32m---> 32\u001b[0;31m     \u001b[0;32mfor\u001b[0m \u001b[0mrun\u001b[0m \u001b[0;32min\u001b[0m \u001b[0mtqdm\u001b[0m\u001b[0;34m(\u001b[0m\u001b[0mruns\u001b[0m\u001b[0;34m)\u001b[0m\u001b[0;34m:\u001b[0m\u001b[0;34m\u001b[0m\u001b[0;34m\u001b[0m\u001b[0m\n\u001b[0m\u001b[1;32m     33\u001b[0m         \u001b[0mattempts\u001b[0m\u001b[0;34m=\u001b[0m\u001b[0;36m0\u001b[0m\u001b[0;34m\u001b[0m\u001b[0;34m\u001b[0m\u001b[0m\n\u001b[1;32m     34\u001b[0m         \u001b[0;32mwhile\u001b[0m \u001b[0mattempts\u001b[0m\u001b[0;34m<\u001b[0m\u001b[0;36m5\u001b[0m\u001b[0;34m:\u001b[0m\u001b[0;34m\u001b[0m\u001b[0;34m\u001b[0m\u001b[0m\n",
      "\u001b[0;32m~/miniconda3/envs/autoformer/lib/python3.7/site-packages/tqdm/std.py\u001b[0m in \u001b[0;36m__init__\u001b[0;34m(self, iterable, desc, total, leave, file, ncols, mininterval, maxinterval, miniters, ascii, disable, unit, unit_scale, dynamic_ncols, smoothing, bar_format, initial, position, postfix, unit_divisor, write_bytes, lock_args, nrows, colour, delay, gui, **kwargs)\u001b[0m\n\u001b[1;32m    977\u001b[0m         \u001b[0;32mif\u001b[0m \u001b[0mtotal\u001b[0m \u001b[0;32mis\u001b[0m \u001b[0;32mNone\u001b[0m \u001b[0;32mand\u001b[0m \u001b[0miterable\u001b[0m \u001b[0;32mis\u001b[0m \u001b[0;32mnot\u001b[0m \u001b[0;32mNone\u001b[0m\u001b[0;34m:\u001b[0m\u001b[0;34m\u001b[0m\u001b[0;34m\u001b[0m\u001b[0m\n\u001b[1;32m    978\u001b[0m             \u001b[0;32mtry\u001b[0m\u001b[0;34m:\u001b[0m\u001b[0;34m\u001b[0m\u001b[0;34m\u001b[0m\u001b[0m\n\u001b[0;32m--> 979\u001b[0;31m                 \u001b[0mtotal\u001b[0m \u001b[0;34m=\u001b[0m \u001b[0mlen\u001b[0m\u001b[0;34m(\u001b[0m\u001b[0miterable\u001b[0m\u001b[0;34m)\u001b[0m\u001b[0;34m\u001b[0m\u001b[0;34m\u001b[0m\u001b[0m\n\u001b[0m\u001b[1;32m    980\u001b[0m             \u001b[0;32mexcept\u001b[0m \u001b[0;34m(\u001b[0m\u001b[0mTypeError\u001b[0m\u001b[0;34m,\u001b[0m \u001b[0mAttributeError\u001b[0m\u001b[0;34m)\u001b[0m\u001b[0;34m:\u001b[0m\u001b[0;34m\u001b[0m\u001b[0;34m\u001b[0m\u001b[0m\n\u001b[1;32m    981\u001b[0m                 \u001b[0mtotal\u001b[0m \u001b[0;34m=\u001b[0m \u001b[0;32mNone\u001b[0m\u001b[0;34m\u001b[0m\u001b[0;34m\u001b[0m\u001b[0m\n",
      "\u001b[0;32m~/miniconda3/envs/autoformer/lib/python3.7/site-packages/wandb/apis/public.py\u001b[0m in \u001b[0;36m__len__\u001b[0;34m(self)\u001b[0m\n\u001b[1;32m   1182\u001b[0m     \u001b[0;32mdef\u001b[0m \u001b[0m__len__\u001b[0m\u001b[0;34m(\u001b[0m\u001b[0mself\u001b[0m\u001b[0;34m)\u001b[0m\u001b[0;34m:\u001b[0m\u001b[0;34m\u001b[0m\u001b[0;34m\u001b[0m\u001b[0m\n\u001b[1;32m   1183\u001b[0m         \u001b[0;32mif\u001b[0m \u001b[0mself\u001b[0m\u001b[0;34m.\u001b[0m\u001b[0mlength\u001b[0m \u001b[0;32mis\u001b[0m \u001b[0;32mNone\u001b[0m\u001b[0;34m:\u001b[0m\u001b[0;34m\u001b[0m\u001b[0;34m\u001b[0m\u001b[0m\n\u001b[0;32m-> 1184\u001b[0;31m             \u001b[0mself\u001b[0m\u001b[0;34m.\u001b[0m\u001b[0m_load_page\u001b[0m\u001b[0;34m(\u001b[0m\u001b[0;34m)\u001b[0m\u001b[0;34m\u001b[0m\u001b[0;34m\u001b[0m\u001b[0m\n\u001b[0m\u001b[1;32m   1185\u001b[0m         \u001b[0;32mif\u001b[0m \u001b[0mself\u001b[0m\u001b[0;34m.\u001b[0m\u001b[0mlength\u001b[0m \u001b[0;32mis\u001b[0m \u001b[0;32mNone\u001b[0m\u001b[0;34m:\u001b[0m\u001b[0;34m\u001b[0m\u001b[0;34m\u001b[0m\u001b[0m\n\u001b[1;32m   1186\u001b[0m             \u001b[0;32mraise\u001b[0m \u001b[0mValueError\u001b[0m\u001b[0;34m(\u001b[0m\u001b[0;34m\"Object doesn't provide length\"\u001b[0m\u001b[0;34m)\u001b[0m\u001b[0;34m\u001b[0m\u001b[0;34m\u001b[0m\u001b[0m\n",
      "\u001b[0;32m~/miniconda3/envs/autoformer/lib/python3.7/site-packages/wandb/apis/public.py\u001b[0m in \u001b[0;36m_load_page\u001b[0;34m(self)\u001b[0m\n\u001b[1;32m   1210\u001b[0m         \u001b[0mself\u001b[0m\u001b[0;34m.\u001b[0m\u001b[0mupdate_variables\u001b[0m\u001b[0;34m(\u001b[0m\u001b[0;34m)\u001b[0m\u001b[0;34m\u001b[0m\u001b[0;34m\u001b[0m\u001b[0m\n\u001b[1;32m   1211\u001b[0m         self.last_response = self.client.execute(\n\u001b[0;32m-> 1212\u001b[0;31m             \u001b[0mself\u001b[0m\u001b[0;34m.\u001b[0m\u001b[0mQUERY\u001b[0m\u001b[0;34m,\u001b[0m \u001b[0mvariable_values\u001b[0m\u001b[0;34m=\u001b[0m\u001b[0mself\u001b[0m\u001b[0;34m.\u001b[0m\u001b[0mvariables\u001b[0m\u001b[0;34m\u001b[0m\u001b[0;34m\u001b[0m\u001b[0m\n\u001b[0m\u001b[1;32m   1213\u001b[0m         )\n\u001b[1;32m   1214\u001b[0m         \u001b[0mself\u001b[0m\u001b[0;34m.\u001b[0m\u001b[0mobjects\u001b[0m\u001b[0;34m.\u001b[0m\u001b[0mextend\u001b[0m\u001b[0;34m(\u001b[0m\u001b[0mself\u001b[0m\u001b[0;34m.\u001b[0m\u001b[0mconvert_objects\u001b[0m\u001b[0;34m(\u001b[0m\u001b[0;34m)\u001b[0m\u001b[0;34m)\u001b[0m\u001b[0;34m\u001b[0m\u001b[0;34m\u001b[0m\u001b[0m\n",
      "\u001b[0;32m~/miniconda3/envs/autoformer/lib/python3.7/site-packages/wandb/sdk/lib/retry.py\u001b[0m in \u001b[0;36mwrapped_fn\u001b[0;34m(*args, **kargs)\u001b[0m\n\u001b[1;32m    210\u001b[0m         \u001b[0;34m@\u001b[0m\u001b[0mfunctools\u001b[0m\u001b[0;34m.\u001b[0m\u001b[0mwraps\u001b[0m\u001b[0;34m(\u001b[0m\u001b[0mfn\u001b[0m\u001b[0;34m)\u001b[0m\u001b[0;34m\u001b[0m\u001b[0;34m\u001b[0m\u001b[0m\n\u001b[1;32m    211\u001b[0m         \u001b[0;32mdef\u001b[0m \u001b[0mwrapped_fn\u001b[0m\u001b[0;34m(\u001b[0m\u001b[0;34m*\u001b[0m\u001b[0margs\u001b[0m\u001b[0;34m:\u001b[0m \u001b[0mAny\u001b[0m\u001b[0;34m,\u001b[0m \u001b[0;34m**\u001b[0m\u001b[0mkargs\u001b[0m\u001b[0;34m:\u001b[0m \u001b[0mAny\u001b[0m\u001b[0;34m)\u001b[0m \u001b[0;34m->\u001b[0m \u001b[0mAny\u001b[0m\u001b[0;34m:\u001b[0m\u001b[0;34m\u001b[0m\u001b[0;34m\u001b[0m\u001b[0m\n\u001b[0;32m--> 212\u001b[0;31m             \u001b[0;32mreturn\u001b[0m \u001b[0mretrier\u001b[0m\u001b[0;34m(\u001b[0m\u001b[0;34m*\u001b[0m\u001b[0margs\u001b[0m\u001b[0;34m,\u001b[0m \u001b[0;34m**\u001b[0m\u001b[0mkargs\u001b[0m\u001b[0;34m)\u001b[0m\u001b[0;34m\u001b[0m\u001b[0;34m\u001b[0m\u001b[0m\n\u001b[0m\u001b[1;32m    213\u001b[0m \u001b[0;34m\u001b[0m\u001b[0m\n\u001b[1;32m    214\u001b[0m         \u001b[0;32mreturn\u001b[0m \u001b[0mwrapped_fn\u001b[0m  \u001b[0;31m# type: ignore\u001b[0m\u001b[0;34m\u001b[0m\u001b[0;34m\u001b[0m\u001b[0m\n",
      "\u001b[0;32m~/miniconda3/envs/autoformer/lib/python3.7/site-packages/wandb/sdk/lib/retry.py\u001b[0m in \u001b[0;36m__call__\u001b[0;34m(self, *args, **kwargs)\u001b[0m\n\u001b[1;32m    129\u001b[0m         \u001b[0;32mwhile\u001b[0m \u001b[0;32mTrue\u001b[0m\u001b[0;34m:\u001b[0m\u001b[0;34m\u001b[0m\u001b[0;34m\u001b[0m\u001b[0m\n\u001b[1;32m    130\u001b[0m             \u001b[0;32mtry\u001b[0m\u001b[0;34m:\u001b[0m\u001b[0;34m\u001b[0m\u001b[0;34m\u001b[0m\u001b[0m\n\u001b[0;32m--> 131\u001b[0;31m                 \u001b[0mresult\u001b[0m \u001b[0;34m=\u001b[0m \u001b[0mself\u001b[0m\u001b[0;34m.\u001b[0m\u001b[0m_call_fn\u001b[0m\u001b[0;34m(\u001b[0m\u001b[0;34m*\u001b[0m\u001b[0margs\u001b[0m\u001b[0;34m,\u001b[0m \u001b[0;34m**\u001b[0m\u001b[0mkwargs\u001b[0m\u001b[0;34m)\u001b[0m\u001b[0;34m\u001b[0m\u001b[0;34m\u001b[0m\u001b[0m\n\u001b[0m\u001b[1;32m    132\u001b[0m                 \u001b[0;31m# Only print resolved attempts once every minute\u001b[0m\u001b[0;34m\u001b[0m\u001b[0;34m\u001b[0m\u001b[0;34m\u001b[0m\u001b[0m\n\u001b[1;32m    133\u001b[0m                 if self._num_iter > 2 and now - self._last_print > datetime.timedelta(\n",
      "\u001b[0;32m~/miniconda3/envs/autoformer/lib/python3.7/site-packages/wandb/apis/public.py\u001b[0m in \u001b[0;36mexecute\u001b[0;34m(self, *args, **kwargs)\u001b[0m\n\u001b[1;32m    213\u001b[0m     \u001b[0;32mdef\u001b[0m \u001b[0mexecute\u001b[0m\u001b[0;34m(\u001b[0m\u001b[0mself\u001b[0m\u001b[0;34m,\u001b[0m \u001b[0;34m*\u001b[0m\u001b[0margs\u001b[0m\u001b[0;34m,\u001b[0m \u001b[0;34m**\u001b[0m\u001b[0mkwargs\u001b[0m\u001b[0;34m)\u001b[0m\u001b[0;34m:\u001b[0m\u001b[0;34m\u001b[0m\u001b[0;34m\u001b[0m\u001b[0m\n\u001b[1;32m    214\u001b[0m         \u001b[0;32mtry\u001b[0m\u001b[0;34m:\u001b[0m\u001b[0;34m\u001b[0m\u001b[0;34m\u001b[0m\u001b[0m\n\u001b[0;32m--> 215\u001b[0;31m             \u001b[0;32mreturn\u001b[0m \u001b[0mself\u001b[0m\u001b[0;34m.\u001b[0m\u001b[0m_client\u001b[0m\u001b[0;34m.\u001b[0m\u001b[0mexecute\u001b[0m\u001b[0;34m(\u001b[0m\u001b[0;34m*\u001b[0m\u001b[0margs\u001b[0m\u001b[0;34m,\u001b[0m \u001b[0;34m**\u001b[0m\u001b[0mkwargs\u001b[0m\u001b[0;34m)\u001b[0m\u001b[0;34m\u001b[0m\u001b[0;34m\u001b[0m\u001b[0m\n\u001b[0m\u001b[1;32m    216\u001b[0m         \u001b[0;32mexcept\u001b[0m \u001b[0mrequests\u001b[0m\u001b[0;34m.\u001b[0m\u001b[0mexceptions\u001b[0m\u001b[0;34m.\u001b[0m\u001b[0mReadTimeout\u001b[0m\u001b[0;34m:\u001b[0m\u001b[0;34m\u001b[0m\u001b[0;34m\u001b[0m\u001b[0m\n\u001b[1;32m    217\u001b[0m             \u001b[0;32mif\u001b[0m \u001b[0;34m\"timeout\"\u001b[0m \u001b[0;32mnot\u001b[0m \u001b[0;32min\u001b[0m \u001b[0mkwargs\u001b[0m\u001b[0;34m:\u001b[0m\u001b[0;34m\u001b[0m\u001b[0;34m\u001b[0m\u001b[0m\n",
      "\u001b[0;32m~/miniconda3/envs/autoformer/lib/python3.7/site-packages/wandb/vendor/gql-0.2.0/wandb_gql/client.py\u001b[0m in \u001b[0;36mexecute\u001b[0;34m(self, document, *args, **kwargs)\u001b[0m\n\u001b[1;32m     50\u001b[0m             \u001b[0mself\u001b[0m\u001b[0;34m.\u001b[0m\u001b[0mvalidate\u001b[0m\u001b[0;34m(\u001b[0m\u001b[0mdocument\u001b[0m\u001b[0;34m)\u001b[0m\u001b[0;34m\u001b[0m\u001b[0;34m\u001b[0m\u001b[0m\n\u001b[1;32m     51\u001b[0m \u001b[0;34m\u001b[0m\u001b[0m\n\u001b[0;32m---> 52\u001b[0;31m         \u001b[0mresult\u001b[0m \u001b[0;34m=\u001b[0m \u001b[0mself\u001b[0m\u001b[0;34m.\u001b[0m\u001b[0m_get_result\u001b[0m\u001b[0;34m(\u001b[0m\u001b[0mdocument\u001b[0m\u001b[0;34m,\u001b[0m \u001b[0;34m*\u001b[0m\u001b[0margs\u001b[0m\u001b[0;34m,\u001b[0m \u001b[0;34m**\u001b[0m\u001b[0mkwargs\u001b[0m\u001b[0;34m)\u001b[0m\u001b[0;34m\u001b[0m\u001b[0;34m\u001b[0m\u001b[0m\n\u001b[0m\u001b[1;32m     53\u001b[0m         \u001b[0;32mif\u001b[0m \u001b[0mresult\u001b[0m\u001b[0;34m.\u001b[0m\u001b[0merrors\u001b[0m\u001b[0;34m:\u001b[0m\u001b[0;34m\u001b[0m\u001b[0;34m\u001b[0m\u001b[0m\n\u001b[1;32m     54\u001b[0m             \u001b[0;32mraise\u001b[0m \u001b[0mException\u001b[0m\u001b[0;34m(\u001b[0m\u001b[0mstr\u001b[0m\u001b[0;34m(\u001b[0m\u001b[0mresult\u001b[0m\u001b[0;34m.\u001b[0m\u001b[0merrors\u001b[0m\u001b[0;34m[\u001b[0m\u001b[0;36m0\u001b[0m\u001b[0;34m]\u001b[0m\u001b[0;34m)\u001b[0m\u001b[0;34m)\u001b[0m\u001b[0;34m\u001b[0m\u001b[0;34m\u001b[0m\u001b[0m\n",
      "\u001b[0;32m~/miniconda3/envs/autoformer/lib/python3.7/site-packages/wandb/vendor/gql-0.2.0/wandb_gql/client.py\u001b[0m in \u001b[0;36m_get_result\u001b[0;34m(self, document, *args, **kwargs)\u001b[0m\n\u001b[1;32m     58\u001b[0m     \u001b[0;32mdef\u001b[0m \u001b[0m_get_result\u001b[0m\u001b[0;34m(\u001b[0m\u001b[0mself\u001b[0m\u001b[0;34m,\u001b[0m \u001b[0mdocument\u001b[0m\u001b[0;34m,\u001b[0m \u001b[0;34m*\u001b[0m\u001b[0margs\u001b[0m\u001b[0;34m,\u001b[0m \u001b[0;34m**\u001b[0m\u001b[0mkwargs\u001b[0m\u001b[0;34m)\u001b[0m\u001b[0;34m:\u001b[0m\u001b[0;34m\u001b[0m\u001b[0;34m\u001b[0m\u001b[0m\n\u001b[1;32m     59\u001b[0m         \u001b[0;32mif\u001b[0m \u001b[0;32mnot\u001b[0m \u001b[0mself\u001b[0m\u001b[0;34m.\u001b[0m\u001b[0mretries\u001b[0m\u001b[0;34m:\u001b[0m\u001b[0;34m\u001b[0m\u001b[0;34m\u001b[0m\u001b[0m\n\u001b[0;32m---> 60\u001b[0;31m             \u001b[0;32mreturn\u001b[0m \u001b[0mself\u001b[0m\u001b[0;34m.\u001b[0m\u001b[0mtransport\u001b[0m\u001b[0;34m.\u001b[0m\u001b[0mexecute\u001b[0m\u001b[0;34m(\u001b[0m\u001b[0mdocument\u001b[0m\u001b[0;34m,\u001b[0m \u001b[0;34m*\u001b[0m\u001b[0margs\u001b[0m\u001b[0;34m,\u001b[0m \u001b[0;34m**\u001b[0m\u001b[0mkwargs\u001b[0m\u001b[0;34m)\u001b[0m\u001b[0;34m\u001b[0m\u001b[0;34m\u001b[0m\u001b[0m\n\u001b[0m\u001b[1;32m     61\u001b[0m \u001b[0;34m\u001b[0m\u001b[0m\n\u001b[1;32m     62\u001b[0m         \u001b[0mlast_exception\u001b[0m \u001b[0;34m=\u001b[0m \u001b[0;32mNone\u001b[0m\u001b[0;34m\u001b[0m\u001b[0;34m\u001b[0m\u001b[0m\n",
      "\u001b[0;32m~/miniconda3/envs/autoformer/lib/python3.7/site-packages/wandb/sdk/lib/gql_request.py\u001b[0m in \u001b[0;36mexecute\u001b[0;34m(self, document, variable_values, timeout)\u001b[0m\n\u001b[1;32m     53\u001b[0m             \u001b[0mdata_key\u001b[0m\u001b[0;34m:\u001b[0m \u001b[0mpayload\u001b[0m\u001b[0;34m,\u001b[0m\u001b[0;34m\u001b[0m\u001b[0;34m\u001b[0m\u001b[0m\n\u001b[1;32m     54\u001b[0m         }\n\u001b[0;32m---> 55\u001b[0;31m         \u001b[0mrequest\u001b[0m \u001b[0;34m=\u001b[0m \u001b[0mself\u001b[0m\u001b[0;34m.\u001b[0m\u001b[0msession\u001b[0m\u001b[0;34m.\u001b[0m\u001b[0mpost\u001b[0m\u001b[0;34m(\u001b[0m\u001b[0mself\u001b[0m\u001b[0;34m.\u001b[0m\u001b[0murl\u001b[0m\u001b[0;34m,\u001b[0m \u001b[0;34m**\u001b[0m\u001b[0mpost_args\u001b[0m\u001b[0;34m)\u001b[0m\u001b[0;34m\u001b[0m\u001b[0;34m\u001b[0m\u001b[0m\n\u001b[0m\u001b[1;32m     56\u001b[0m         \u001b[0mrequest\u001b[0m\u001b[0;34m.\u001b[0m\u001b[0mraise_for_status\u001b[0m\u001b[0;34m(\u001b[0m\u001b[0;34m)\u001b[0m\u001b[0;34m\u001b[0m\u001b[0;34m\u001b[0m\u001b[0m\n\u001b[1;32m     57\u001b[0m \u001b[0;34m\u001b[0m\u001b[0m\n",
      "\u001b[0;32m~/miniconda3/envs/autoformer/lib/python3.7/site-packages/requests/sessions.py\u001b[0m in \u001b[0;36mpost\u001b[0;34m(self, url, data, json, **kwargs)\u001b[0m\n\u001b[1;32m    635\u001b[0m         \"\"\"\n\u001b[1;32m    636\u001b[0m \u001b[0;34m\u001b[0m\u001b[0m\n\u001b[0;32m--> 637\u001b[0;31m         \u001b[0;32mreturn\u001b[0m \u001b[0mself\u001b[0m\u001b[0;34m.\u001b[0m\u001b[0mrequest\u001b[0m\u001b[0;34m(\u001b[0m\u001b[0;34m\"POST\"\u001b[0m\u001b[0;34m,\u001b[0m \u001b[0murl\u001b[0m\u001b[0;34m,\u001b[0m \u001b[0mdata\u001b[0m\u001b[0;34m=\u001b[0m\u001b[0mdata\u001b[0m\u001b[0;34m,\u001b[0m \u001b[0mjson\u001b[0m\u001b[0;34m=\u001b[0m\u001b[0mjson\u001b[0m\u001b[0;34m,\u001b[0m \u001b[0;34m**\u001b[0m\u001b[0mkwargs\u001b[0m\u001b[0;34m)\u001b[0m\u001b[0;34m\u001b[0m\u001b[0;34m\u001b[0m\u001b[0m\n\u001b[0m\u001b[1;32m    638\u001b[0m \u001b[0;34m\u001b[0m\u001b[0m\n\u001b[1;32m    639\u001b[0m     \u001b[0;32mdef\u001b[0m \u001b[0mput\u001b[0m\u001b[0;34m(\u001b[0m\u001b[0mself\u001b[0m\u001b[0;34m,\u001b[0m \u001b[0murl\u001b[0m\u001b[0;34m,\u001b[0m \u001b[0mdata\u001b[0m\u001b[0;34m=\u001b[0m\u001b[0;32mNone\u001b[0m\u001b[0;34m,\u001b[0m \u001b[0;34m**\u001b[0m\u001b[0mkwargs\u001b[0m\u001b[0;34m)\u001b[0m\u001b[0;34m:\u001b[0m\u001b[0;34m\u001b[0m\u001b[0;34m\u001b[0m\u001b[0m\n",
      "\u001b[0;32m~/miniconda3/envs/autoformer/lib/python3.7/site-packages/requests/sessions.py\u001b[0m in \u001b[0;36mrequest\u001b[0;34m(self, method, url, params, data, headers, cookies, files, auth, timeout, allow_redirects, proxies, hooks, stream, verify, cert, json)\u001b[0m\n\u001b[1;32m    587\u001b[0m         }\n\u001b[1;32m    588\u001b[0m         \u001b[0msend_kwargs\u001b[0m\u001b[0;34m.\u001b[0m\u001b[0mupdate\u001b[0m\u001b[0;34m(\u001b[0m\u001b[0msettings\u001b[0m\u001b[0;34m)\u001b[0m\u001b[0;34m\u001b[0m\u001b[0;34m\u001b[0m\u001b[0m\n\u001b[0;32m--> 589\u001b[0;31m         \u001b[0mresp\u001b[0m \u001b[0;34m=\u001b[0m \u001b[0mself\u001b[0m\u001b[0;34m.\u001b[0m\u001b[0msend\u001b[0m\u001b[0;34m(\u001b[0m\u001b[0mprep\u001b[0m\u001b[0;34m,\u001b[0m \u001b[0;34m**\u001b[0m\u001b[0msend_kwargs\u001b[0m\u001b[0;34m)\u001b[0m\u001b[0;34m\u001b[0m\u001b[0;34m\u001b[0m\u001b[0m\n\u001b[0m\u001b[1;32m    590\u001b[0m \u001b[0;34m\u001b[0m\u001b[0m\n\u001b[1;32m    591\u001b[0m         \u001b[0;32mreturn\u001b[0m \u001b[0mresp\u001b[0m\u001b[0;34m\u001b[0m\u001b[0;34m\u001b[0m\u001b[0m\n",
      "\u001b[0;32m~/miniconda3/envs/autoformer/lib/python3.7/site-packages/requests/sessions.py\u001b[0m in \u001b[0;36msend\u001b[0;34m(self, request, **kwargs)\u001b[0m\n\u001b[1;32m    701\u001b[0m \u001b[0;34m\u001b[0m\u001b[0m\n\u001b[1;32m    702\u001b[0m         \u001b[0;31m# Send the request\u001b[0m\u001b[0;34m\u001b[0m\u001b[0;34m\u001b[0m\u001b[0;34m\u001b[0m\u001b[0m\n\u001b[0;32m--> 703\u001b[0;31m         \u001b[0mr\u001b[0m \u001b[0;34m=\u001b[0m \u001b[0madapter\u001b[0m\u001b[0;34m.\u001b[0m\u001b[0msend\u001b[0m\u001b[0;34m(\u001b[0m\u001b[0mrequest\u001b[0m\u001b[0;34m,\u001b[0m \u001b[0;34m**\u001b[0m\u001b[0mkwargs\u001b[0m\u001b[0;34m)\u001b[0m\u001b[0;34m\u001b[0m\u001b[0;34m\u001b[0m\u001b[0m\n\u001b[0m\u001b[1;32m    704\u001b[0m \u001b[0;34m\u001b[0m\u001b[0m\n\u001b[1;32m    705\u001b[0m         \u001b[0;31m# Total elapsed time of the request (approximately)\u001b[0m\u001b[0;34m\u001b[0m\u001b[0;34m\u001b[0m\u001b[0;34m\u001b[0m\u001b[0m\n",
      "\u001b[0;32m~/miniconda3/envs/autoformer/lib/python3.7/site-packages/requests/adapters.py\u001b[0m in \u001b[0;36msend\u001b[0;34m(self, request, stream, timeout, verify, cert, proxies)\u001b[0m\n\u001b[1;32m    495\u001b[0m                 \u001b[0mretries\u001b[0m\u001b[0;34m=\u001b[0m\u001b[0mself\u001b[0m\u001b[0;34m.\u001b[0m\u001b[0mmax_retries\u001b[0m\u001b[0;34m,\u001b[0m\u001b[0;34m\u001b[0m\u001b[0;34m\u001b[0m\u001b[0m\n\u001b[1;32m    496\u001b[0m                 \u001b[0mtimeout\u001b[0m\u001b[0;34m=\u001b[0m\u001b[0mtimeout\u001b[0m\u001b[0;34m,\u001b[0m\u001b[0;34m\u001b[0m\u001b[0;34m\u001b[0m\u001b[0m\n\u001b[0;32m--> 497\u001b[0;31m                 \u001b[0mchunked\u001b[0m\u001b[0;34m=\u001b[0m\u001b[0mchunked\u001b[0m\u001b[0;34m,\u001b[0m\u001b[0;34m\u001b[0m\u001b[0;34m\u001b[0m\u001b[0m\n\u001b[0m\u001b[1;32m    498\u001b[0m             )\n\u001b[1;32m    499\u001b[0m \u001b[0;34m\u001b[0m\u001b[0m\n",
      "\u001b[0;32m~/miniconda3/envs/autoformer/lib/python3.7/site-packages/urllib3/connectionpool.py\u001b[0m in \u001b[0;36murlopen\u001b[0;34m(self, method, url, body, headers, retries, redirect, assert_same_host, timeout, pool_timeout, release_conn, chunked, body_pos, preload_content, decode_content, **response_kw)\u001b[0m\n\u001b[1;32m    800\u001b[0m                 \u001b[0mpreload_content\u001b[0m\u001b[0;34m=\u001b[0m\u001b[0mpreload_content\u001b[0m\u001b[0;34m,\u001b[0m\u001b[0;34m\u001b[0m\u001b[0;34m\u001b[0m\u001b[0m\n\u001b[1;32m    801\u001b[0m                 \u001b[0mdecode_content\u001b[0m\u001b[0;34m=\u001b[0m\u001b[0mdecode_content\u001b[0m\u001b[0;34m,\u001b[0m\u001b[0;34m\u001b[0m\u001b[0;34m\u001b[0m\u001b[0m\n\u001b[0;32m--> 802\u001b[0;31m                 \u001b[0;34m**\u001b[0m\u001b[0mresponse_kw\u001b[0m\u001b[0;34m,\u001b[0m\u001b[0;34m\u001b[0m\u001b[0;34m\u001b[0m\u001b[0m\n\u001b[0m\u001b[1;32m    803\u001b[0m             )\n\u001b[1;32m    804\u001b[0m \u001b[0;34m\u001b[0m\u001b[0m\n",
      "\u001b[0;32m~/miniconda3/envs/autoformer/lib/python3.7/site-packages/urllib3/connectionpool.py\u001b[0m in \u001b[0;36m_make_request\u001b[0;34m(self, conn, method, url, body, headers, retries, timeout, chunked, response_conn, preload_content, decode_content, enforce_content_length)\u001b[0m\n\u001b[1;32m    534\u001b[0m         \u001b[0;31m# Receive the response from the server\u001b[0m\u001b[0;34m\u001b[0m\u001b[0;34m\u001b[0m\u001b[0;34m\u001b[0m\u001b[0m\n\u001b[1;32m    535\u001b[0m         \u001b[0;32mtry\u001b[0m\u001b[0;34m:\u001b[0m\u001b[0;34m\u001b[0m\u001b[0;34m\u001b[0m\u001b[0m\n\u001b[0;32m--> 536\u001b[0;31m             \u001b[0mresponse\u001b[0m \u001b[0;34m=\u001b[0m \u001b[0mconn\u001b[0m\u001b[0;34m.\u001b[0m\u001b[0mgetresponse\u001b[0m\u001b[0;34m(\u001b[0m\u001b[0;34m)\u001b[0m\u001b[0;34m\u001b[0m\u001b[0;34m\u001b[0m\u001b[0m\n\u001b[0m\u001b[1;32m    537\u001b[0m         \u001b[0;32mexcept\u001b[0m \u001b[0;34m(\u001b[0m\u001b[0mBaseSSLError\u001b[0m\u001b[0;34m,\u001b[0m \u001b[0mOSError\u001b[0m\u001b[0;34m)\u001b[0m \u001b[0;32mas\u001b[0m \u001b[0me\u001b[0m\u001b[0;34m:\u001b[0m\u001b[0;34m\u001b[0m\u001b[0;34m\u001b[0m\u001b[0m\n\u001b[1;32m    538\u001b[0m             \u001b[0mself\u001b[0m\u001b[0;34m.\u001b[0m\u001b[0m_raise_timeout\u001b[0m\u001b[0;34m(\u001b[0m\u001b[0merr\u001b[0m\u001b[0;34m=\u001b[0m\u001b[0me\u001b[0m\u001b[0;34m,\u001b[0m \u001b[0murl\u001b[0m\u001b[0;34m=\u001b[0m\u001b[0murl\u001b[0m\u001b[0;34m,\u001b[0m \u001b[0mtimeout_value\u001b[0m\u001b[0;34m=\u001b[0m\u001b[0mread_timeout\u001b[0m\u001b[0;34m)\u001b[0m\u001b[0;34m\u001b[0m\u001b[0;34m\u001b[0m\u001b[0m\n",
      "\u001b[0;32m~/miniconda3/envs/autoformer/lib/python3.7/site-packages/urllib3/connection.py\u001b[0m in \u001b[0;36mgetresponse\u001b[0;34m(self)\u001b[0m\n\u001b[1;32m    459\u001b[0m \u001b[0;34m\u001b[0m\u001b[0m\n\u001b[1;32m    460\u001b[0m         \u001b[0;31m# Get the response from http.client.HTTPConnection\u001b[0m\u001b[0;34m\u001b[0m\u001b[0;34m\u001b[0m\u001b[0;34m\u001b[0m\u001b[0m\n\u001b[0;32m--> 461\u001b[0;31m         \u001b[0mhttplib_response\u001b[0m \u001b[0;34m=\u001b[0m \u001b[0msuper\u001b[0m\u001b[0;34m(\u001b[0m\u001b[0;34m)\u001b[0m\u001b[0;34m.\u001b[0m\u001b[0mgetresponse\u001b[0m\u001b[0;34m(\u001b[0m\u001b[0;34m)\u001b[0m\u001b[0;34m\u001b[0m\u001b[0;34m\u001b[0m\u001b[0m\n\u001b[0m\u001b[1;32m    462\u001b[0m \u001b[0;34m\u001b[0m\u001b[0m\n\u001b[1;32m    463\u001b[0m         \u001b[0;32mtry\u001b[0m\u001b[0;34m:\u001b[0m\u001b[0;34m\u001b[0m\u001b[0;34m\u001b[0m\u001b[0m\n",
      "\u001b[0;32m~/miniconda3/envs/autoformer/lib/python3.7/http/client.py\u001b[0m in \u001b[0;36mgetresponse\u001b[0;34m(self)\u001b[0m\n\u001b[1;32m   1371\u001b[0m         \u001b[0;32mtry\u001b[0m\u001b[0;34m:\u001b[0m\u001b[0;34m\u001b[0m\u001b[0;34m\u001b[0m\u001b[0m\n\u001b[1;32m   1372\u001b[0m             \u001b[0;32mtry\u001b[0m\u001b[0;34m:\u001b[0m\u001b[0;34m\u001b[0m\u001b[0;34m\u001b[0m\u001b[0m\n\u001b[0;32m-> 1373\u001b[0;31m                 \u001b[0mresponse\u001b[0m\u001b[0;34m.\u001b[0m\u001b[0mbegin\u001b[0m\u001b[0;34m(\u001b[0m\u001b[0;34m)\u001b[0m\u001b[0;34m\u001b[0m\u001b[0;34m\u001b[0m\u001b[0m\n\u001b[0m\u001b[1;32m   1374\u001b[0m             \u001b[0;32mexcept\u001b[0m \u001b[0mConnectionError\u001b[0m\u001b[0;34m:\u001b[0m\u001b[0;34m\u001b[0m\u001b[0;34m\u001b[0m\u001b[0m\n\u001b[1;32m   1375\u001b[0m                 \u001b[0mself\u001b[0m\u001b[0;34m.\u001b[0m\u001b[0mclose\u001b[0m\u001b[0;34m(\u001b[0m\u001b[0;34m)\u001b[0m\u001b[0;34m\u001b[0m\u001b[0;34m\u001b[0m\u001b[0m\n",
      "\u001b[0;32m~/miniconda3/envs/autoformer/lib/python3.7/http/client.py\u001b[0m in \u001b[0;36mbegin\u001b[0;34m(self)\u001b[0m\n\u001b[1;32m    317\u001b[0m         \u001b[0;31m# read until we get a non-100 response\u001b[0m\u001b[0;34m\u001b[0m\u001b[0;34m\u001b[0m\u001b[0;34m\u001b[0m\u001b[0m\n\u001b[1;32m    318\u001b[0m         \u001b[0;32mwhile\u001b[0m \u001b[0;32mTrue\u001b[0m\u001b[0;34m:\u001b[0m\u001b[0;34m\u001b[0m\u001b[0;34m\u001b[0m\u001b[0m\n\u001b[0;32m--> 319\u001b[0;31m             \u001b[0mversion\u001b[0m\u001b[0;34m,\u001b[0m \u001b[0mstatus\u001b[0m\u001b[0;34m,\u001b[0m \u001b[0mreason\u001b[0m \u001b[0;34m=\u001b[0m \u001b[0mself\u001b[0m\u001b[0;34m.\u001b[0m\u001b[0m_read_status\u001b[0m\u001b[0;34m(\u001b[0m\u001b[0;34m)\u001b[0m\u001b[0;34m\u001b[0m\u001b[0;34m\u001b[0m\u001b[0m\n\u001b[0m\u001b[1;32m    320\u001b[0m             \u001b[0;32mif\u001b[0m \u001b[0mstatus\u001b[0m \u001b[0;34m!=\u001b[0m \u001b[0mCONTINUE\u001b[0m\u001b[0;34m:\u001b[0m\u001b[0;34m\u001b[0m\u001b[0;34m\u001b[0m\u001b[0m\n\u001b[1;32m    321\u001b[0m                 \u001b[0;32mbreak\u001b[0m\u001b[0;34m\u001b[0m\u001b[0;34m\u001b[0m\u001b[0m\n",
      "\u001b[0;32m~/miniconda3/envs/autoformer/lib/python3.7/http/client.py\u001b[0m in \u001b[0;36m_read_status\u001b[0;34m(self)\u001b[0m\n\u001b[1;32m    278\u001b[0m \u001b[0;34m\u001b[0m\u001b[0m\n\u001b[1;32m    279\u001b[0m     \u001b[0;32mdef\u001b[0m \u001b[0m_read_status\u001b[0m\u001b[0;34m(\u001b[0m\u001b[0mself\u001b[0m\u001b[0;34m)\u001b[0m\u001b[0;34m:\u001b[0m\u001b[0;34m\u001b[0m\u001b[0;34m\u001b[0m\u001b[0m\n\u001b[0;32m--> 280\u001b[0;31m         \u001b[0mline\u001b[0m \u001b[0;34m=\u001b[0m \u001b[0mstr\u001b[0m\u001b[0;34m(\u001b[0m\u001b[0mself\u001b[0m\u001b[0;34m.\u001b[0m\u001b[0mfp\u001b[0m\u001b[0;34m.\u001b[0m\u001b[0mreadline\u001b[0m\u001b[0;34m(\u001b[0m\u001b[0m_MAXLINE\u001b[0m \u001b[0;34m+\u001b[0m \u001b[0;36m1\u001b[0m\u001b[0;34m)\u001b[0m\u001b[0;34m,\u001b[0m \u001b[0;34m\"iso-8859-1\"\u001b[0m\u001b[0;34m)\u001b[0m\u001b[0;34m\u001b[0m\u001b[0;34m\u001b[0m\u001b[0m\n\u001b[0m\u001b[1;32m    281\u001b[0m         \u001b[0;32mif\u001b[0m \u001b[0mlen\u001b[0m\u001b[0;34m(\u001b[0m\u001b[0mline\u001b[0m\u001b[0;34m)\u001b[0m \u001b[0;34m>\u001b[0m \u001b[0m_MAXLINE\u001b[0m\u001b[0;34m:\u001b[0m\u001b[0;34m\u001b[0m\u001b[0;34m\u001b[0m\u001b[0m\n\u001b[1;32m    282\u001b[0m             \u001b[0;32mraise\u001b[0m \u001b[0mLineTooLong\u001b[0m\u001b[0;34m(\u001b[0m\u001b[0;34m\"status line\"\u001b[0m\u001b[0;34m)\u001b[0m\u001b[0;34m\u001b[0m\u001b[0;34m\u001b[0m\u001b[0m\n",
      "\u001b[0;32m~/miniconda3/envs/autoformer/lib/python3.7/socket.py\u001b[0m in \u001b[0;36mreadinto\u001b[0;34m(self, b)\u001b[0m\n\u001b[1;32m    587\u001b[0m         \u001b[0;32mwhile\u001b[0m \u001b[0;32mTrue\u001b[0m\u001b[0;34m:\u001b[0m\u001b[0;34m\u001b[0m\u001b[0;34m\u001b[0m\u001b[0m\n\u001b[1;32m    588\u001b[0m             \u001b[0;32mtry\u001b[0m\u001b[0;34m:\u001b[0m\u001b[0;34m\u001b[0m\u001b[0;34m\u001b[0m\u001b[0m\n\u001b[0;32m--> 589\u001b[0;31m                 \u001b[0;32mreturn\u001b[0m \u001b[0mself\u001b[0m\u001b[0;34m.\u001b[0m\u001b[0m_sock\u001b[0m\u001b[0;34m.\u001b[0m\u001b[0mrecv_into\u001b[0m\u001b[0;34m(\u001b[0m\u001b[0mb\u001b[0m\u001b[0;34m)\u001b[0m\u001b[0;34m\u001b[0m\u001b[0;34m\u001b[0m\u001b[0m\n\u001b[0m\u001b[1;32m    590\u001b[0m             \u001b[0;32mexcept\u001b[0m \u001b[0mtimeout\u001b[0m\u001b[0;34m:\u001b[0m\u001b[0;34m\u001b[0m\u001b[0;34m\u001b[0m\u001b[0m\n\u001b[1;32m    591\u001b[0m                 \u001b[0mself\u001b[0m\u001b[0;34m.\u001b[0m\u001b[0m_timeout_occurred\u001b[0m \u001b[0;34m=\u001b[0m \u001b[0;32mTrue\u001b[0m\u001b[0;34m\u001b[0m\u001b[0;34m\u001b[0m\u001b[0m\n",
      "\u001b[0;32m~/miniconda3/envs/autoformer/lib/python3.7/ssl.py\u001b[0m in \u001b[0;36mrecv_into\u001b[0;34m(self, buffer, nbytes, flags)\u001b[0m\n\u001b[1;32m   1069\u001b[0m                   \u001b[0;34m\"non-zero flags not allowed in calls to recv_into() on %s\"\u001b[0m \u001b[0;34m%\u001b[0m\u001b[0;34m\u001b[0m\u001b[0;34m\u001b[0m\u001b[0m\n\u001b[1;32m   1070\u001b[0m                   self.__class__)\n\u001b[0;32m-> 1071\u001b[0;31m             \u001b[0;32mreturn\u001b[0m \u001b[0mself\u001b[0m\u001b[0;34m.\u001b[0m\u001b[0mread\u001b[0m\u001b[0;34m(\u001b[0m\u001b[0mnbytes\u001b[0m\u001b[0;34m,\u001b[0m \u001b[0mbuffer\u001b[0m\u001b[0;34m)\u001b[0m\u001b[0;34m\u001b[0m\u001b[0;34m\u001b[0m\u001b[0m\n\u001b[0m\u001b[1;32m   1072\u001b[0m         \u001b[0;32melse\u001b[0m\u001b[0;34m:\u001b[0m\u001b[0;34m\u001b[0m\u001b[0;34m\u001b[0m\u001b[0m\n\u001b[1;32m   1073\u001b[0m             \u001b[0;32mreturn\u001b[0m \u001b[0msuper\u001b[0m\u001b[0;34m(\u001b[0m\u001b[0;34m)\u001b[0m\u001b[0;34m.\u001b[0m\u001b[0mrecv_into\u001b[0m\u001b[0;34m(\u001b[0m\u001b[0mbuffer\u001b[0m\u001b[0;34m,\u001b[0m \u001b[0mnbytes\u001b[0m\u001b[0;34m,\u001b[0m \u001b[0mflags\u001b[0m\u001b[0;34m)\u001b[0m\u001b[0;34m\u001b[0m\u001b[0;34m\u001b[0m\u001b[0m\n",
      "\u001b[0;32m~/miniconda3/envs/autoformer/lib/python3.7/ssl.py\u001b[0m in \u001b[0;36mread\u001b[0;34m(self, len, buffer)\u001b[0m\n\u001b[1;32m    927\u001b[0m         \u001b[0;32mtry\u001b[0m\u001b[0;34m:\u001b[0m\u001b[0;34m\u001b[0m\u001b[0;34m\u001b[0m\u001b[0m\n\u001b[1;32m    928\u001b[0m             \u001b[0;32mif\u001b[0m \u001b[0mbuffer\u001b[0m \u001b[0;32mis\u001b[0m \u001b[0;32mnot\u001b[0m \u001b[0;32mNone\u001b[0m\u001b[0;34m:\u001b[0m\u001b[0;34m\u001b[0m\u001b[0;34m\u001b[0m\u001b[0m\n\u001b[0;32m--> 929\u001b[0;31m                 \u001b[0;32mreturn\u001b[0m \u001b[0mself\u001b[0m\u001b[0;34m.\u001b[0m\u001b[0m_sslobj\u001b[0m\u001b[0;34m.\u001b[0m\u001b[0mread\u001b[0m\u001b[0;34m(\u001b[0m\u001b[0mlen\u001b[0m\u001b[0;34m,\u001b[0m \u001b[0mbuffer\u001b[0m\u001b[0;34m)\u001b[0m\u001b[0;34m\u001b[0m\u001b[0;34m\u001b[0m\u001b[0m\n\u001b[0m\u001b[1;32m    930\u001b[0m             \u001b[0;32melse\u001b[0m\u001b[0;34m:\u001b[0m\u001b[0;34m\u001b[0m\u001b[0;34m\u001b[0m\u001b[0m\n\u001b[1;32m    931\u001b[0m                 \u001b[0;32mreturn\u001b[0m \u001b[0mself\u001b[0m\u001b[0;34m.\u001b[0m\u001b[0m_sslobj\u001b[0m\u001b[0;34m.\u001b[0m\u001b[0mread\u001b[0m\u001b[0;34m(\u001b[0m\u001b[0mlen\u001b[0m\u001b[0;34m)\u001b[0m\u001b[0;34m\u001b[0m\u001b[0;34m\u001b[0m\u001b[0m\n",
      "\u001b[0;31mKeyboardInterrupt\u001b[0m: "
     ]
    }
   ],
   "source": [
    "experiment_tags = ['e29_icml_erm_newdatasets']\n",
    "\n",
    "backup_data=wandb_utils.get_experiment_data(\"Autoformer\",\"alelab\",experiment_tags=experiment_tags,query_dict={\"tags\": {\"$in\": experiment_tags}})"
   ]
  },
  {
   "cell_type": "code",
   "execution_count": null,
   "id": "01fc5579",
   "metadata": {},
   "outputs": [],
   "source": [
    "backup_data.to_pickle(\"../data_backups/2024_03_26__icml_rebuttals_erm_newdatasets_backup_data.pkl\")\n",
    "backup_data.to_csv(\"../data_backups/2024_03_26_icml_rebuttals_erm_newdatasets_backup_data.csv\",index=False)"
   ]
  },
  {
   "cell_type": "code",
   "execution_count": null,
   "id": "604d0dd4",
   "metadata": {},
   "outputs": [],
   "source": [
    "# Koopa\n",
    "from utils import wandb_utils\n",
    "# Todo save in a file\n",
    "\n",
    "backup_data = wandb_utils.get_experiment_data(\"Autoformer\",\"alelab\",[\"e22_icml_koopa_erm\",\"e24_icml_koopa_constrained_val\",\"e23_icml_koopa_constrained_train\"])\n",
    "backup_data.to_pickle(\"../data_backups/2024_03_26__icml_rebuttals_erm_newdatasets_backup_data.pkl\")\n",
    "backup_data.to_csv(\"../data_backups/2024_03_26_icml_rebuttals_erm_newdatasets_backup_data.csv\",index=False)"
   ]
  },
  {
   "cell_type": "markdown",
   "id": "ba2f5492",
   "metadata": {},
   "source": [
    "## March 28 Backup new models"
   ]
  },
  {
   "cell_type": "code",
   "execution_count": 6,
   "id": "cc0e49a9",
   "metadata": {},
   "outputs": [
    {
     "name": "stdout",
     "output_type": "stream",
     "text": [
      "Experiment tags being considered: ['e29_icml_constrained_newmodels', 'erm_rebuttal_newmodels']\n",
      "Saving to backup data filename: ../data_backups/2024_03_29__newmodels_erm_and_constrained\n"
     ]
    },
    {
     "name": "stderr",
     "output_type": "stream",
     "text": [
      "  1%|          | 3/435 [00:00<00:15, 28.14it/s]"
     ]
    },
    {
     "name": "stdout",
     "output_type": "stream",
     "text": [
      "WARNING!! Missing pointwise/cvar/0.01 in run s58ay3m0 on sweep None. Filling all poitwisewith NAN.\n",
      "WARNING!! Missing pointwise/cvar/0.01 in run p21g10is on sweep None. Filling all poitwisewith NAN.\n",
      "WARNING!! Missing pointwise/cvar/0.01 in run stug6yj5 on sweep None. Filling all poitwisewith NAN.\n",
      "WARNING!! Missing pointwise/cvar/0.01 in run hshzha1u on sweep None. Filling all poitwisewith NAN.\n",
      "WARNING!! Missing pointwise/cvar/0.01 in run wm6uys73 on sweep None. Filling all poitwisewith NAN.\n",
      "WARNING!! Missing pointwise/cvar/0.01 in run n6tezaub on sweep None. Filling all poitwisewith NAN.\n",
      "WARNING!! Missing pointwise/cvar/0.01 in run zbuz6u0y on sweep None. Filling all poitwisewith NAN.\n",
      "WARNING!! Missing pointwise/cvar/0.01 in run yxa77ngz on sweep None. Filling all poitwisewith NAN.\n",
      "WARNING!! Missing pointwise/cvar/0.01 in run zp05w6s5 on sweep None. Filling all poitwisewith NAN.\n",
      "WARNING!! Missing pointwise/cvar/0.01 in run h5nx6zca on sweep None. Filling all poitwisewith NAN.\n",
      "WARNING!! Missing pointwise/cvar/0.01 in run dguxgsg4 on sweep None. Filling all poitwisewith NAN.\n",
      "WARNING!! Missing pointwise/cvar/0.01 in run 49k2hw6x on sweep None. Filling all poitwisewith NAN.\n",
      "WARNING!! Missing pointwise/cvar/0.01 in run 4z4j0npo on sweep None. Filling all poitwisewith NAN.\n"
     ]
    },
    {
     "name": "stderr",
     "output_type": "stream",
     "text": [
      "  5%|▍         | 20/435 [00:00<00:06, 65.64it/s]"
     ]
    },
    {
     "name": "stdout",
     "output_type": "stream",
     "text": [
      "WARNING!! Missing pointwise/cvar/0.01 in run hpete4jg on sweep None. Filling all poitwisewith NAN.\n",
      "WARNING!! Missing pointwise/cvar/0.01 in run 5ay81ift on sweep None. Filling all poitwisewith NAN.\n",
      "WARNING!! Missing pointwise/cvar/0.01 in run nsjylp83 on sweep None. Filling all poitwisewith NAN.\n",
      "WARNING!! Missing pointwise/cvar/0.01 in run n9j1ibxe on sweep None. Filling all poitwisewith NAN.\n",
      "WARNING!! Missing pointwise/cvar/0.01 in run vndzrwhz on sweep None. Filling all poitwisewith NAN.\n",
      "WARNING!! Missing pointwise/cvar/0.01 in run z3w4o0sa on sweep None. Filling all poitwisewith NAN.\n",
      "WARNING!! Missing pointwise/cvar/0.01 in run l8uwbvcs on sweep None. Filling all poitwisewith NAN.\n",
      "WARNING!! Missing pointwise/cvar/0.01 in run fhipdebm on sweep None. Filling all poitwisewith NAN.\n",
      "WARNING!! Missing pointwise/cvar/0.01 in run wc50vx6p on sweep None. Filling all poitwisewith NAN.\n",
      "WARNING!! Missing pointwise/cvar/0.01 in run 8yx6rbpq on sweep None. Filling all poitwisewith NAN.\n",
      "WARNING!! Missing pointwise/cvar/0.01 in run y362abye on sweep None. Filling all poitwisewith NAN.\n"
     ]
    },
    {
     "name": "stderr",
     "output_type": "stream",
     "text": [
      " 11%|█         | 48/435 [00:00<00:05, 65.71it/s]"
     ]
    },
    {
     "name": "stdout",
     "output_type": "stream",
     "text": [
      "WARNING!! Missing pointwise/cvar/0.01 in run y2shj0jp on sweep None. Filling all poitwisewith NAN.\n",
      "WARNING!! Missing pointwise/cvar/0.01 in run v1xbb1y6 on sweep None. Filling all poitwisewith NAN.\n",
      "WARNING!! Missing pointwise/cvar/0.01 in run ioqcw2my on sweep None. Filling all poitwisewith NAN.\n",
      "WARNING!! Missing pointwise/cvar/0.01 in run uxw2u4a3 on sweep None. Filling all poitwisewith NAN.\n",
      "WARNING!! Missing pointwise/cvar/0.01 in run nw7ueak2 on sweep None. Filling all poitwisewith NAN.\n",
      "WARNING!! Missing pointwise/cvar/0.01 in run j2ti6pgx on sweep None. Filling all poitwisewith NAN.\n",
      "WARNING!! Missing pointwise/cvar/0.01 in run 8e4vovxv on sweep None. Filling all poitwisewith NAN.\n",
      "WARNING!! Missing pointwise/cvar/0.01 in run aqnlb3kb on sweep None. Filling all poitwisewith NAN.\n",
      "WARNING!! Missing pointwise/cvar/0.01 in run zmfmtrln on sweep None. Filling all poitwisewith NAN.\n",
      "WARNING!! Missing pointwise/cvar/0.01 in run n3trroyo on sweep None. Filling all poitwisewith NAN.\n",
      "WARNING!! Missing pointwise/cvar/0.01 in run 5h6t5jdp on sweep None. Filling all poitwisewith NAN.\n"
     ]
    },
    {
     "name": "stderr",
     "output_type": "stream",
     "text": [
      " 13%|█▎        | 58/435 [00:16<03:11,  1.97it/s]"
     ]
    },
    {
     "name": "stdout",
     "output_type": "stream",
     "text": [
      "WARNING!! Missing pointwise/cvar/0.01 in run vhos4w71 on sweep None. Filling all poitwisewith NAN.\n",
      "WARNING!! Missing pointwise/cvar/0.01 in run t1h4xl81 on sweep None. Filling all poitwisewith NAN.\n",
      "WARNING!! Missing pointwise/cvar/0.01 in run de95idxd on sweep None. Filling all poitwisewith NAN.\n",
      "WARNING!! Missing pointwise/cvar/0.01 in run i9ik77m6 on sweep None. Filling all poitwisewith NAN.\n",
      "WARNING!! Missing pointwise/cvar/0.01 in run xaxgfja0 on sweep None. Filling all poitwisewith NAN.\n",
      "WARNING!! Missing pointwise/cvar/0.01 in run yzj1figh on sweep None. Filling all poitwisewith NAN.\n",
      "WARNING!! Missing pointwise/cvar/0.01 in run jvxuhk02 on sweep None. Filling all poitwisewith NAN.\n",
      "WARNING!! Missing pointwise/cvar/0.01 in run qholfpw3 on sweep None. Filling all poitwisewith NAN.\n",
      "WARNING!! Missing pointwise/cvar/0.01 in run xohdhaw9 on sweep None. Filling all poitwisewith NAN.\n",
      "WARNING!! Missing pointwise/cvar/0.01 in run on4iqkv8 on sweep None. Filling all poitwisewith NAN.\n",
      "WARNING!! Missing pointwise/cvar/0.01 in run 9ar4zrl8 on sweep None. Filling all poitwisewith NAN.\n",
      "WARNING!! Missing pointwise/cvar/0.01 in run vdvf9ff4 on sweep None. Filling all poitwisewith NAN.\n",
      "WARNING!! Missing pointwise/cvar/0.01 in run rvmv3dg1 on sweep None. Filling all poitwisewith NAN.\n"
     ]
    },
    {
     "name": "stderr",
     "output_type": "stream",
     "text": [
      " 17%|█▋        | 76/435 [00:16<01:20,  4.48it/s]"
     ]
    },
    {
     "name": "stdout",
     "output_type": "stream",
     "text": [
      "WARNING!! Missing pointwise/cvar/0.01 in run 2mcf591u on sweep None. Filling all poitwisewith NAN.\n",
      "WARNING!! Missing pointwise/cvar/0.01 in run ethubm8w on sweep None. Filling all poitwisewith NAN.\n",
      "WARNING!! Missing pointwise/cvar/0.01 in run lov1z8ya on sweep None. Filling all poitwisewith NAN.\n",
      "WARNING!! Missing pointwise/cvar/0.01 in run fzhiykh0 on sweep None. Filling all poitwisewith NAN.\n",
      "WARNING!! Missing pointwise/cvar/0.01 in run e8cqxvar on sweep None. Filling all poitwisewith NAN.\n"
     ]
    },
    {
     "name": "stderr",
     "output_type": "stream",
     "text": [
      " 21%|██        | 91/435 [00:16<00:40,  8.40it/s]"
     ]
    },
    {
     "name": "stdout",
     "output_type": "stream",
     "text": [
      "WARNING!! Missing pointwise/cvar/0.01 in run bht8asxi on sweep None. Filling all poitwisewith NAN.\n",
      "WARNING!! Missing pointwise/cvar/0.01 in run zdmkeifg on sweep None. Filling all poitwisewith NAN.\n",
      "WARNING!! Missing pointwise/cvar/0.01 in run g15gr0ii on sweep None. Filling all poitwisewith NAN.\n",
      "WARNING!! Missing pointwise/cvar/0.01 in run qxtzwike on sweep None. Filling all poitwisewith NAN.\n",
      "WARNING!! Missing pointwise/cvar/0.01 in run 4k212pi5 on sweep None. Filling all poitwisewith NAN.\n",
      "WARNING!! Missing pointwise/cvar/0.01 in run g5v8kf6o on sweep None. Filling all poitwisewith NAN.\n",
      "WARNING!! Missing pointwise/cvar/0.01 in run 5uz71aw0 on sweep None. Filling all poitwisewith NAN.\n",
      "WARNING!! Missing pointwise/cvar/0.01 in run ahasa3n1 on sweep None. Filling all poitwisewith NAN.\n"
     ]
    },
    {
     "name": "stderr",
     "output_type": "stream",
     "text": [
      " 23%|██▎       | 98/435 [00:17<00:30, 11.02it/s]"
     ]
    },
    {
     "name": "stdout",
     "output_type": "stream",
     "text": [
      "WARNING!! Missing pointwise/cvar/0.01 in run bf1phk0w on sweep None. Filling all poitwisewith NAN.\n",
      "WARNING!! Missing pointwise/cvar/0.01 in run e6k05jwv on sweep None. Filling all poitwisewith NAN.\n",
      "WARNING!! Missing pointwise/cvar/0.01 in run nj41npu4 on sweep None. Filling all poitwisewith NAN.\n",
      "WARNING!! Missing pointwise/cvar/0.01 in run 94g7k09h on sweep None. Filling all poitwisewith NAN.\n",
      "WARNING!! Missing pointwise/cvar/0.01 in run ib23rixk on sweep None. Filling all poitwisewith NAN.\n"
     ]
    },
    {
     "name": "stderr",
     "output_type": "stream",
     "text": [
      " 25%|██▌       | 109/435 [00:28<02:18,  2.35it/s]"
     ]
    },
    {
     "name": "stdout",
     "output_type": "stream",
     "text": [
      "WARNING!! Missing pointwise/cvar/0.01 in run 0bmeup5p on sweep None. Filling all poitwisewith NAN.\n",
      "WARNING!! Missing pointwise/cvar/0.01 in run d586v0au on sweep None. Filling all poitwisewith NAN.\n",
      "WARNING!! Missing pointwise/cvar/0.01 in run 75tg177j on sweep None. Filling all poitwisewith NAN.\n",
      "WARNING!! Missing pointwise/cvar/0.01 in run rvo6altq on sweep None. Filling all poitwisewith NAN.\n"
     ]
    },
    {
     "name": "stderr",
     "output_type": "stream",
     "text": [
      " 28%|██▊       | 121/435 [00:28<01:10,  4.45it/s]"
     ]
    },
    {
     "name": "stdout",
     "output_type": "stream",
     "text": [
      "WARNING!! Missing pointwise/cvar/0.01 in run hmi3lxxs on sweep None. Filling all poitwisewith NAN.\n",
      "WARNING!! Missing pointwise/cvar/0.01 in run 9hu9f3df on sweep None. Filling all poitwisewith NAN.\n",
      "WARNING!! Missing pointwise/cvar/0.01 in run c3zzb05x on sweep None. Filling all poitwisewith NAN.\n",
      "WARNING!! Missing pointwise/cvar/0.01 in run vjbq485j on sweep None. Filling all poitwisewith NAN.\n"
     ]
    },
    {
     "name": "stderr",
     "output_type": "stream",
     "text": [
      " 31%|███       | 133/435 [00:28<00:36,  8.17it/s]"
     ]
    },
    {
     "name": "stdout",
     "output_type": "stream",
     "text": [
      "WARNING!! Missing pointwise/cvar/0.01 in run b7s8jptd on sweep None. Filling all poitwisewith NAN.\n",
      "WARNING!! Missing pointwise/cvar/0.01 in run nilwbio1 on sweep None. Filling all poitwisewith NAN.\n"
     ]
    },
    {
     "name": "stderr",
     "output_type": "stream",
     "text": [
      " 34%|███▍      | 149/435 [00:29<00:16, 17.18it/s]"
     ]
    },
    {
     "name": "stdout",
     "output_type": "stream",
     "text": [
      "WARNING!! Missing pointwise/cvar/0.01 in run jgykcbi0 on sweep None. Filling all poitwisewith NAN.\n",
      "WARNING!! Missing pointwise/cvar/0.01 in run ci9ssydd on sweep None. Filling all poitwisewith NAN.\n"
     ]
    },
    {
     "name": "stderr",
     "output_type": "stream",
     "text": [
      " 36%|███▌      | 156/435 [00:41<02:42,  1.72it/s]"
     ]
    },
    {
     "name": "stdout",
     "output_type": "stream",
     "text": [
      "WARNING!! Missing pointwise/cvar/0.01 in run q3x2oux3 on sweep None. Filling all poitwisewith NAN.\n",
      "WARNING!! Missing pointwise/cvar/0.01 in run 1sae8gpd on sweep None. Filling all poitwisewith NAN.\n",
      "WARNING!! Missing pointwise/cvar/0.01 in run rnbsyq2k on sweep None. Filling all poitwisewith NAN.\n",
      "WARNING!! Missing pointwise/cvar/0.01 in run mw9t2ygl on sweep None. Filling all poitwisewith NAN.\n",
      "WARNING!! Missing pointwise/cvar/0.01 in run nmhkgaj4 on sweep None. Filling all poitwisewith NAN.\n"
     ]
    },
    {
     "name": "stderr",
     "output_type": "stream",
     "text": [
      " 40%|███▉      | 172/435 [00:42<01:11,  3.66it/s]"
     ]
    },
    {
     "name": "stdout",
     "output_type": "stream",
     "text": [
      "WARNING!! Missing pointwise/cvar/0.01 in run 9tq2l1wl on sweep None. Filling all poitwisewith NAN.\n",
      "WARNING!! Missing pointwise/cvar/0.01 in run 3d6irhz4 on sweep None. Filling all poitwisewith NAN.\n",
      "WARNING!! Missing pointwise/cvar/0.01 in run vq41zuoi on sweep None. Filling all poitwisewith NAN.\n",
      "WARNING!! Missing pointwise/cvar/0.01 in run qiuxoy0c on sweep None. Filling all poitwisewith NAN.\n",
      "WARNING!! Missing pointwise/cvar/0.01 in run weed7tdo on sweep None. Filling all poitwisewith NAN.\n",
      "WARNING!! Missing pointwise/cvar/0.01 in run srfnlxpq on sweep None. Filling all poitwisewith NAN.\n",
      "WARNING!! Missing pointwise/cvar/0.01 in run c1vx993c on sweep None. Filling all poitwisewith NAN.\n",
      "WARNING!! Missing pointwise/cvar/0.01 in run t3d3ccl4 on sweep None. Filling all poitwisewith NAN.\n",
      "WARNING!! Missing pointwise/cvar/0.01 in run eapt3xmk on sweep None. Filling all poitwisewith NAN.\n",
      "WARNING!! Missing pointwise/cvar/0.01 in run jrzlhrti on sweep None. Filling all poitwisewith NAN.\n"
     ]
    },
    {
     "name": "stderr",
     "output_type": "stream",
     "text": [
      " 44%|████▍     | 193/435 [00:42<00:29,  8.24it/s]"
     ]
    },
    {
     "name": "stdout",
     "output_type": "stream",
     "text": [
      "WARNING!! Missing pointwise/cvar/0.01 in run 45c4k79u on sweep None. Filling all poitwisewith NAN.\n",
      "WARNING!! Missing pointwise/cvar/0.01 in run w08o24yz on sweep None. Filling all poitwisewith NAN.\n",
      "WARNING!! Missing pointwise/cvar/0.01 in run dee09yde on sweep None. Filling all poitwisewith NAN.\n",
      "WARNING!! Missing pointwise/cvar/0.01 in run jeox5e14 on sweep None. Filling all poitwisewith NAN.\n",
      "WARNING!! Missing pointwise/cvar/0.01 in run f4i2vy5f on sweep None. Filling all poitwisewith NAN.\n"
     ]
    },
    {
     "name": "stderr",
     "output_type": "stream",
     "text": [
      " 49%|████▊     | 212/435 [00:56<01:17,  2.86it/s]"
     ]
    },
    {
     "name": "stdout",
     "output_type": "stream",
     "text": [
      "WARNING!! Missing pointwise/cvar/0.01 in run 9j5ucy1q on sweep None. Filling all poitwisewith NAN.\n"
     ]
    },
    {
     "name": "stderr",
     "output_type": "stream",
     "text": [
      " 51%|█████▏    | 224/435 [00:57<00:42,  5.01it/s]"
     ]
    },
    {
     "name": "stdout",
     "output_type": "stream",
     "text": [
      "WARNING!! Missing pointwise/cvar/0.01 in run pz2q44tg on sweep None. Filling all poitwisewith NAN.\n"
     ]
    },
    {
     "name": "stderr",
     "output_type": "stream",
     "text": [
      " 56%|█████▌    | 244/435 [00:57<00:14, 12.97it/s]"
     ]
    },
    {
     "name": "stdout",
     "output_type": "stream",
     "text": [
      "WARNING!! Missing pointwise/cvar/0.01 in run i0sw2399 on sweep None. Filling all poitwisewith NAN.\n"
     ]
    },
    {
     "name": "stderr",
     "output_type": "stream",
     "text": [
      " 58%|█████▊    | 254/435 [01:10<02:18,  1.31it/s]"
     ]
    },
    {
     "name": "stdout",
     "output_type": "stream",
     "text": [
      "WARNING!! Missing pointwise/cvar/0.01 in run brnnlxww on sweep None. Filling all poitwisewith NAN.\n"
     ]
    },
    {
     "name": "stderr",
     "output_type": "stream",
     "text": [
      " 66%|██████▌   | 288/435 [01:11<00:12, 11.38it/s]"
     ]
    },
    {
     "name": "stdout",
     "output_type": "stream",
     "text": [
      "WARNING!! Missing pointwise/cvar/0.01 in run vkhak17v on sweep None. Filling all poitwisewith NAN.\n"
     ]
    },
    {
     "name": "stderr",
     "output_type": "stream",
     "text": [
      " 68%|██████▊   | 297/435 [01:11<00:08, 16.65it/s]"
     ]
    },
    {
     "name": "stdout",
     "output_type": "stream",
     "text": [
      "WARNING!! Missing pointwise/cvar/0.01 in run fscgpgxx on sweep None. Filling all poitwisewith NAN.\n"
     ]
    },
    {
     "name": "stderr",
     "output_type": "stream",
     "text": [
      " 70%|██████▉   | 304/435 [01:27<01:57,  1.12it/s]"
     ]
    },
    {
     "name": "stdout",
     "output_type": "stream",
     "text": [
      "WARNING!! Missing pointwise/cvar/0.01 in run o1qr4wlh on sweep None. Filling all poitwisewith NAN.\n"
     ]
    },
    {
     "name": "stderr",
     "output_type": "stream",
     "text": [
      " 74%|███████▍  | 324/435 [01:28<00:24,  4.50it/s]"
     ]
    },
    {
     "name": "stdout",
     "output_type": "stream",
     "text": [
      "WARNING!! Missing pointwise/cvar/0.01 in run yeo1bibv on sweep None. Filling all poitwisewith NAN.\n",
      "!!!!! WARNING: Missing key stepwise metric in run. Skipping yeo1bibv mse/train/0\n",
      "Run skipped yeo1bibv\n",
      "WARNING!! Missing pointwise/cvar/0.01 in run flfhnh21 on sweep None. Filling all poitwisewith NAN.\n",
      "WARNING!! Missing pointwise/cvar/0.01 in run r3a2a0rf on sweep None. Filling all poitwisewith NAN.\n"
     ]
    },
    {
     "name": "stderr",
     "output_type": "stream",
     "text": [
      " 80%|███████▉  | 346/435 [01:28<00:07, 12.10it/s]"
     ]
    },
    {
     "name": "stdout",
     "output_type": "stream",
     "text": [
      "WARNING!! Missing pointwise/cvar/0.01 in run 9yc098dp on sweep None. Filling all poitwisewith NAN.\n",
      "WARNING!! Missing pointwise/cvar/0.01 in run m51a450t on sweep None. Filling all poitwisewith NAN.\n",
      "WARNING!! Missing pointwise/cvar/0.01 in run 8x8owqor on sweep None. Filling all poitwisewith NAN.\n",
      "WARNING!! Missing pointwise/cvar/0.01 in run f931uh1f on sweep None. Filling all poitwisewith NAN.\n",
      "WARNING!! Missing pointwise/cvar/0.01 in run ssafm6eb on sweep None. Filling all poitwisewith NAN.\n",
      "WARNING!! Missing pointwise/cvar/0.01 in run kgbhb6bl on sweep None. Filling all poitwisewith NAN.\n",
      "WARNING!! Missing pointwise/cvar/0.01 in run bkmm7akj on sweep None. Filling all poitwisewith NAN.\n",
      "WARNING!! Missing pointwise/cvar/0.01 in run t263h1g9 on sweep None. Filling all poitwisewith NAN.\n",
      "WARNING!! Missing pointwise/cvar/0.01 in run r14lwuth on sweep None. Filling all poitwisewith NAN.\n"
     ]
    },
    {
     "name": "stderr",
     "output_type": "stream",
     "text": [
      " 84%|████████▍ | 365/435 [01:41<00:24,  2.86it/s]"
     ]
    },
    {
     "name": "stdout",
     "output_type": "stream",
     "text": [
      "WARNING!! Missing pointwise/cvar/0.01 in run f6i33ek3 on sweep None. Filling all poitwisewith NAN.\n",
      "!!!!! WARNING: Missing key stepwise metric in run. Skipping f6i33ek3 mse/train/0\n",
      "Run skipped f6i33ek3\n",
      "WARNING!! Missing pointwise/cvar/0.01 in run od3h0xqs on sweep None. Filling all poitwisewith NAN.\n",
      "!!!!! WARNING: Missing key stepwise metric in run. Skipping od3h0xqs mse/train/0\n",
      "Run skipped od3h0xqs\n",
      "WARNING!! Missing pointwise/cvar/0.01 in run 8st2iumu on sweep None. Filling all poitwisewith NAN.\n",
      "WARNING!! Missing pointwise/cvar/0.01 in run vptrhcxf on sweep None. Filling all poitwisewith NAN.\n",
      "WARNING!! Missing pointwise/cvar/0.01 in run 0ps2eaux on sweep None. Filling all poitwisewith NAN.\n",
      "WARNING!! Missing pointwise/cvar/0.01 in run ra765y90 on sweep None. Filling all poitwisewith NAN.\n",
      "WARNING!! Missing pointwise/cvar/0.01 in run qulznobb on sweep None. Filling all poitwisewith NAN.\n",
      "WARNING!! Missing pointwise/cvar/0.01 in run av75thvu on sweep None. Filling all poitwisewith NAN.\n"
     ]
    },
    {
     "name": "stderr",
     "output_type": "stream",
     "text": [
      " 88%|████████▊ | 383/435 [01:42<00:09,  5.59it/s]"
     ]
    },
    {
     "name": "stdout",
     "output_type": "stream",
     "text": [
      "WARNING!! Missing pointwise/cvar/0.01 in run 96wcnklv on sweep None. Filling all poitwisewith NAN.\n",
      "WARNING!! Missing pointwise/cvar/0.01 in run hi58ycu8 on sweep None. Filling all poitwisewith NAN.\n",
      "WARNING!! Missing pointwise/cvar/0.01 in run ugo2sq09 on sweep None. Filling all poitwisewith NAN.\n",
      "WARNING!! Missing pointwise/cvar/0.01 in run c2nb9f6u on sweep None. Filling all poitwisewith NAN.\n",
      "WARNING!! Missing pointwise/cvar/0.01 in run 4su66w4s on sweep None. Filling all poitwisewith NAN.\n",
      "WARNING!! Missing pointwise/cvar/0.01 in run 3l8p07md on sweep None. Filling all poitwisewith NAN.\n",
      "WARNING!! Missing pointwise/cvar/0.01 in run vsrqp2wj on sweep None. Filling all poitwisewith NAN.\n",
      "WARNING!! Missing pointwise/cvar/0.01 in run x68ozuxw on sweep None. Filling all poitwisewith NAN.\n"
     ]
    },
    {
     "name": "stderr",
     "output_type": "stream",
     "text": [
      " 94%|█████████▍| 410/435 [02:21<00:24,  1.02it/s]"
     ]
    },
    {
     "name": "stdout",
     "output_type": "stream",
     "text": [
      "WARNING!! Missing pointwise/cvar/0.01 in run w6aaoqg5 on sweep None. Filling all poitwisewith NAN.\n",
      "WARNING!! Missing pointwise/cvar/0.01 in run dj3k89lq on sweep None. Filling all poitwisewith NAN.\n",
      "WARNING!! Missing pointwise/cvar/0.01 in run 9few0vri on sweep None. Filling all poitwisewith NAN.\n",
      "WARNING!! Missing pointwise/cvar/0.01 in run 0upvtnu8 on sweep None. Filling all poitwisewith NAN.\n"
     ]
    },
    {
     "name": "stderr",
     "output_type": "stream",
     "text": [
      "100%|██████████| 435/435 [02:21<00:00,  3.08it/s]"
     ]
    },
    {
     "name": "stdout",
     "output_type": "stream",
     "text": [
      "WARNING!! Missing pointwise/cvar/0.01 in run bbedl2fm on sweep None. Filling all poitwisewith NAN.\n",
      "WARNING!! Missing pointwise/cvar/0.01 in run 2u2orrgj on sweep None. Filling all poitwisewith NAN.\n",
      "WARNING!! Missing pointwise/cvar/0.01 in run jpybtu8v on sweep None. Filling all poitwisewith NAN.\n",
      "WARNING!! Missing pointwise/cvar/0.01 in run nusqty14 on sweep None. Filling all poitwisewith NAN.\n",
      "WARNING!! Missing pointwise/cvar/0.01 in run 93jqr60g on sweep None. Filling all poitwisewith NAN.\n",
      "WARNING!! Missing pointwise/cvar/0.01 in run rtu2j4af on sweep None. Filling all poitwisewith NAN.\n",
      "Fetched 435 runs\n"
     ]
    },
    {
     "name": "stderr",
     "output_type": "stream",
     "text": [
      "\n"
     ]
    },
    {
     "name": "stdout",
     "output_type": "stream",
     "text": [
      "Total records: (426528, 120)\n",
      "Total runs: 432\n",
      "Backup data saved as pickle: ../data_backups/2024_03_29__newmodels_erm_and_constrained.pkl\n",
      "Backup data saved as CSV: ../data_backups/2024_03_29__newmodels_erm_and_constrained.csv\n",
      "Returning backed up data as a pandas DF\n"
     ]
    }
   ],
   "source": [
    "saved_data = data_backup.backup_experiment_data(\n",
    "    experiment_tags = [\n",
    "        \"e29_icml_constrained_newmodels\",\n",
    "        \"erm_rebuttal_newmodels\"\n",
    "    ],\n",
    "    filename_prefix=\"../data_backups/2024_03_29__newmodels_erm_and_constrained\"\n",
    ")"
   ]
  },
  {
   "cell_type": "code",
   "execution_count": null,
   "id": "3c32880e",
   "metadata": {},
   "outputs": [
    {
     "data": {
      "text/plain": [
       "(0, 120)"
      ]
     },
     "execution_count": 51,
     "metadata": {},
     "output_type": "execute_result"
    }
   ],
   "source": [
    "# #saved_data.groupby(['model','data_path']).size().reset_index()\n",
    "# saved_data.query(\"model=='FiLM' and constraint_type=='Constrained' and data_path=='weather.csv'\").shape"
   ]
  },
  {
   "cell_type": "markdown",
   "id": "2318e83f",
   "metadata": {},
   "source": [
    "## March 28 new datasets"
   ]
  },
  {
   "cell_type": "code",
   "execution_count": 21,
   "id": "f8b46a2b",
   "metadata": {},
   "outputs": [
    {
     "name": "stdout",
     "output_type": "stream",
     "text": [
      "Experiment tags being considered: ['e29_icml_erm_newdatasets', 'e30_icml_constrained_newdatasets_train', 'e31_icml_constrained_newdatasets_val']\n",
      "Saving to backup data filename: ../data_backups/2024_04_17__newdatasets_erm_and_constrained_val\n"
     ]
    },
    {
     "name": "stderr",
     "output_type": "stream",
     "text": [
      "  1%|          | 7/679 [00:00<00:10, 62.06it/s]"
     ]
    },
    {
     "name": "stdout",
     "output_type": "stream",
     "text": [
      "WARNING!! Missing pointwise/cvar/0.01 in run 4myty8ym on sweep <Sweep alelab/Autoformer/8cy2k527 (FINISHED)>. Filling all poitwisewith NAN.\n",
      "WARNING!! Missing pointwise/cvar/0.01 in run uofu7eeo on sweep <Sweep alelab/Autoformer/8cy2k527 (FINISHED)>. Filling all poitwisewith NAN.\n",
      "WARNING!! Missing pointwise/cvar/0.01 in run 7tfuhbjk on sweep <Sweep alelab/Autoformer/8cy2k527 (FINISHED)>. Filling all poitwisewith NAN.\n",
      "WARNING!! Missing pointwise/cvar/0.01 in run 1fe4u69o on sweep <Sweep alelab/Autoformer/mnad6jre (FINISHED)>. Filling all poitwisewith NAN.\n",
      "WARNING!! Missing pointwise/cvar/0.01 in run rb48p7jy on sweep <Sweep alelab/Autoformer/mnad6jre (FINISHED)>. Filling all poitwisewith NAN.\n",
      "WARNING!! Missing pointwise/cvar/0.01 in run czk4yyms on sweep <Sweep alelab/Autoformer/mnad6jre (FINISHED)>. Filling all poitwisewith NAN.\n",
      "WARNING!! Missing pointwise/cvar/0.01 in run ixaa1zav on sweep <Sweep alelab/Autoformer/sqfrl7y3 (FINISHED)>. Filling all poitwisewith NAN.\n",
      "WARNING!! Missing pointwise/cvar/0.01 in run a123e82j on sweep <Sweep alelab/Autoformer/sqfrl7y3 (FINISHED)>. Filling all poitwisewith NAN.\n",
      "WARNING!! Missing pointwise/cvar/0.01 in run khmpuz2i on sweep <Sweep alelab/Autoformer/sqfrl7y3 (FINISHED)>. Filling all poitwisewith NAN.\n",
      "WARNING!! Missing pointwise/cvar/0.01 in run meulzbey on sweep <Sweep alelab/Autoformer/dprkx65k (FINISHED)>. Filling all poitwisewith NAN.\n",
      "WARNING!! Missing pointwise/cvar/0.01 in run 3s2uedpr on sweep <Sweep alelab/Autoformer/dprkx65k (FINISHED)>. Filling all poitwisewith NAN.\n",
      "WARNING!! Missing pointwise/cvar/0.01 in run uami03wy on sweep <Sweep alelab/Autoformer/dprkx65k (FINISHED)>. Filling all poitwisewith NAN.\n",
      "WARNING!! Missing pointwise/cvar/0.01 in run djt57zjk on sweep <Sweep alelab/Autoformer/ykkn0mwh (FINISHED)>. Filling all poitwisewith NAN.\n"
     ]
    },
    {
     "name": "stderr",
     "output_type": "stream",
     "text": [
      "  3%|▎         | 21/679 [00:00<00:10, 61.49it/s]"
     ]
    },
    {
     "name": "stdout",
     "output_type": "stream",
     "text": [
      "WARNING!! Missing pointwise/cvar/0.01 in run 5jlhzby7 on sweep <Sweep alelab/Autoformer/ykkn0mwh (FINISHED)>. Filling all poitwisewith NAN.\n",
      "WARNING!! Missing pointwise/cvar/0.01 in run mm8hgwnf on sweep <Sweep alelab/Autoformer/ykkn0mwh (FINISHED)>. Filling all poitwisewith NAN.\n",
      "WARNING!! Missing pointwise/cvar/0.01 in run vyy8xt6e on sweep <Sweep alelab/Autoformer/b0zkxk6p (FINISHED)>. Filling all poitwisewith NAN.\n",
      "WARNING!! Missing pointwise/cvar/0.01 in run ou47mcgv on sweep <Sweep alelab/Autoformer/b0zkxk6p (FINISHED)>. Filling all poitwisewith NAN.\n",
      "WARNING!! Missing pointwise/cvar/0.01 in run 7b8x93n6 on sweep <Sweep alelab/Autoformer/b0zkxk6p (FINISHED)>. Filling all poitwisewith NAN.\n",
      "WARNING!! Missing pointwise/cvar/0.01 in run oyjw1x7x on sweep <Sweep alelab/Autoformer/1otz1qgx (FINISHED)>. Filling all poitwisewith NAN.\n",
      "WARNING!! Missing pointwise/cvar/0.01 in run 6w9xjxpe on sweep <Sweep alelab/Autoformer/1otz1qgx (FINISHED)>. Filling all poitwisewith NAN.\n",
      "WARNING!! Missing pointwise/cvar/0.01 in run 6sbo8ow6 on sweep <Sweep alelab/Autoformer/1otz1qgx (FINISHED)>. Filling all poitwisewith NAN.\n",
      "WARNING!! Missing pointwise/cvar/0.01 in run d1u0ewrv on sweep <Sweep alelab/Autoformer/s3vk475j (FINISHED)>. Filling all poitwisewith NAN.\n",
      "WARNING!! Missing pointwise/cvar/0.01 in run 203v6f6z on sweep <Sweep alelab/Autoformer/s3vk475j (FINISHED)>. Filling all poitwisewith NAN.\n",
      "WARNING!! Missing pointwise/cvar/0.01 in run ixub90cp on sweep <Sweep alelab/Autoformer/s3vk475j (FINISHED)>. Filling all poitwisewith NAN.\n",
      "WARNING!! Missing pointwise/cvar/0.01 in run dvzw8fr6 on sweep <Sweep alelab/Autoformer/fpl4drkv (FINISHED)>. Filling all poitwisewith NAN.\n",
      "WARNING!! Missing pointwise/cvar/0.01 in run 84ad068n on sweep <Sweep alelab/Autoformer/fpl4drkv (FINISHED)>. Filling all poitwisewith NAN.\n"
     ]
    },
    {
     "name": "stderr",
     "output_type": "stream",
     "text": [
      "  5%|▌         | 35/679 [00:00<00:10, 61.93it/s]"
     ]
    },
    {
     "name": "stdout",
     "output_type": "stream",
     "text": [
      "WARNING!! Missing pointwise/cvar/0.01 in run dwaqapal on sweep <Sweep alelab/Autoformer/fpl4drkv (FINISHED)>. Filling all poitwisewith NAN.\n",
      "WARNING!! Missing pointwise/cvar/0.01 in run fdwlnv9l on sweep <Sweep alelab/Autoformer/f2tmrlw4 (FINISHED)>. Filling all poitwisewith NAN.\n",
      "WARNING!! Missing pointwise/cvar/0.01 in run qyieitjw on sweep <Sweep alelab/Autoformer/f2tmrlw4 (FINISHED)>. Filling all poitwisewith NAN.\n",
      "WARNING!! Missing pointwise/cvar/0.01 in run uzkpbufm on sweep <Sweep alelab/Autoformer/f2tmrlw4 (FINISHED)>. Filling all poitwisewith NAN.\n",
      "WARNING!! Missing pointwise/cvar/0.01 in run gld96u6w on sweep <Sweep alelab/Autoformer/ymq7w44j (FINISHED)>. Filling all poitwisewith NAN.\n",
      "WARNING!! Missing pointwise/cvar/0.01 in run k6h6hbd7 on sweep <Sweep alelab/Autoformer/ymq7w44j (FINISHED)>. Filling all poitwisewith NAN.\n",
      "WARNING!! Missing pointwise/cvar/0.01 in run v9wdrr71 on sweep <Sweep alelab/Autoformer/ymq7w44j (FINISHED)>. Filling all poitwisewith NAN.\n",
      "WARNING!! Missing pointwise/cvar/0.01 in run 3lxsynt3 on sweep <Sweep alelab/Autoformer/omz7ecv0 (FINISHED)>. Filling all poitwisewith NAN.\n",
      "WARNING!! Missing pointwise/cvar/0.01 in run 4ipib3hx on sweep <Sweep alelab/Autoformer/omz7ecv0 (FINISHED)>. Filling all poitwisewith NAN.\n",
      "WARNING!! Missing pointwise/cvar/0.01 in run jr4yw96f on sweep <Sweep alelab/Autoformer/omz7ecv0 (FINISHED)>. Filling all poitwisewith NAN.\n",
      "WARNING!! Missing pointwise/cvar/0.01 in run f69bmz51 on sweep <Sweep alelab/Autoformer/a9w9oys5 (FINISHED)>. Filling all poitwisewith NAN.\n",
      "WARNING!! Missing pointwise/cvar/0.01 in run 7hphwc5y on sweep <Sweep alelab/Autoformer/a9w9oys5 (FINISHED)>. Filling all poitwisewith NAN.\n",
      "WARNING!! Missing pointwise/cvar/0.01 in run hlrrsj50 on sweep <Sweep alelab/Autoformer/a9w9oys5 (FINISHED)>. Filling all poitwisewith NAN.\n",
      "WARNING!! Missing pointwise/cvar/0.01 in run x3adj7qr on sweep <Sweep alelab/Autoformer/wp2bage7 (FINISHED)>. Filling all poitwisewith NAN.\n",
      "WARNING!! Missing pointwise/cvar/0.01 in run z82gh452 on sweep <Sweep alelab/Autoformer/wp2bage7 (FINISHED)>. Filling all poitwisewith NAN.\n"
     ]
    },
    {
     "name": "stderr",
     "output_type": "stream",
     "text": [
      "  7%|▋         | 49/679 [00:00<00:10, 60.61it/s]"
     ]
    },
    {
     "name": "stdout",
     "output_type": "stream",
     "text": [
      "WARNING!! Missing pointwise/cvar/0.01 in run jwot0m5y on sweep <Sweep alelab/Autoformer/wp2bage7 (FINISHED)>. Filling all poitwisewith NAN.\n",
      "WARNING!! Missing pointwise/cvar/0.01 in run k87guv2z on sweep <Sweep alelab/Autoformer/3u52hs20 (FINISHED)>. Filling all poitwisewith NAN.\n",
      "WARNING!! Missing pointwise/cvar/0.01 in run les3x62d on sweep <Sweep alelab/Autoformer/3u52hs20 (FINISHED)>. Filling all poitwisewith NAN.\n",
      "WARNING!! Missing pointwise/cvar/0.01 in run r9jova41 on sweep <Sweep alelab/Autoformer/3u52hs20 (FINISHED)>. Filling all poitwisewith NAN.\n",
      "WARNING!! Missing pointwise/cvar/0.01 in run dsdylnrj on sweep <Sweep alelab/Autoformer/zz1x46z0 (FINISHED)>. Filling all poitwisewith NAN.\n",
      "WARNING!! Missing pointwise/cvar/0.01 in run yit0fl5a on sweep <Sweep alelab/Autoformer/zz1x46z0 (FINISHED)>. Filling all poitwisewith NAN.\n",
      "WARNING!! Missing pointwise/cvar/0.01 in run 7t553usy on sweep <Sweep alelab/Autoformer/zz1x46z0 (FINISHED)>. Filling all poitwisewith NAN.\n",
      "WARNING!! Missing pointwise/cvar/0.01 in run 6nprm95g on sweep <Sweep alelab/Autoformer/e2zb354r (FINISHED)>. Filling all poitwisewith NAN.\n",
      "WARNING!! Missing pointwise/cvar/0.01 in run qu9fhg31 on sweep <Sweep alelab/Autoformer/e2zb354r (FINISHED)>. Filling all poitwisewith NAN.\n"
     ]
    },
    {
     "name": "stderr",
     "output_type": "stream",
     "text": [
      "  8%|▊         | 56/679 [00:18<07:33,  1.37it/s]"
     ]
    },
    {
     "name": "stdout",
     "output_type": "stream",
     "text": [
      "WARNING!! Missing pointwise/cvar/0.01 in run uojz3w9j on sweep <Sweep alelab/Autoformer/e2zb354r (FINISHED)>. Filling all poitwisewith NAN.\n",
      "WARNING!! Missing pointwise/cvar/0.01 in run y2ktnzj2 on sweep <Sweep alelab/Autoformer/mzgz4n7k (FINISHED)>. Filling all poitwisewith NAN.\n",
      "WARNING!! Missing pointwise/cvar/0.01 in run k6q90waf on sweep <Sweep alelab/Autoformer/mzgz4n7k (FINISHED)>. Filling all poitwisewith NAN.\n",
      "WARNING!! Missing pointwise/cvar/0.01 in run 2tsxyyil on sweep <Sweep alelab/Autoformer/mzgz4n7k (FINISHED)>. Filling all poitwisewith NAN.\n",
      "WARNING!! Missing pointwise/cvar/0.01 in run o1wfsjdu on sweep <Sweep alelab/Autoformer/8mnayvy0 (FINISHED)>. Filling all poitwisewith NAN.\n",
      "WARNING!! Missing pointwise/cvar/0.01 in run 8b7tv8gf on sweep <Sweep alelab/Autoformer/8mnayvy0 (FINISHED)>. Filling all poitwisewith NAN.\n",
      "WARNING!! Missing pointwise/cvar/0.01 in run cjz7ts3h on sweep <Sweep alelab/Autoformer/8mnayvy0 (FINISHED)>. Filling all poitwisewith NAN.\n",
      "WARNING!! Missing pointwise/cvar/0.01 in run gffi2r4g on sweep <Sweep alelab/Autoformer/8luge4p5 (FINISHED)>. Filling all poitwisewith NAN.\n"
     ]
    },
    {
     "name": "stderr",
     "output_type": "stream",
     "text": [
      "  9%|▉         | 62/679 [00:18<05:02,  2.04it/s]"
     ]
    },
    {
     "name": "stdout",
     "output_type": "stream",
     "text": [
      "WARNING!! Missing pointwise/cvar/0.01 in run yex2v4on on sweep <Sweep alelab/Autoformer/8luge4p5 (FINISHED)>. Filling all poitwisewith NAN.\n",
      "WARNING!! Missing pointwise/cvar/0.01 in run q4l4b4s5 on sweep <Sweep alelab/Autoformer/8luge4p5 (FINISHED)>. Filling all poitwisewith NAN.\n",
      "WARNING!! Missing pointwise/cvar/0.01 in run 0pgbnet9 on sweep <Sweep alelab/Autoformer/bnp4reor (FINISHED)>. Filling all poitwisewith NAN.\n",
      "WARNING!! Missing pointwise/cvar/0.01 in run gyo37n1r on sweep <Sweep alelab/Autoformer/bnp4reor (FINISHED)>. Filling all poitwisewith NAN.\n",
      "WARNING!! Missing pointwise/cvar/0.01 in run x8nkp96v on sweep <Sweep alelab/Autoformer/bnp4reor (FINISHED)>. Filling all poitwisewith NAN.\n",
      "WARNING!! Missing pointwise/cvar/0.01 in run d2dgcrez on sweep <Sweep alelab/Autoformer/zzpd5r4n (FINISHED)>. Filling all poitwisewith NAN.\n",
      "WARNING!! Missing pointwise/cvar/0.01 in run c1sw8x0r on sweep <Sweep alelab/Autoformer/zzpd5r4n (FINISHED)>. Filling all poitwisewith NAN.\n",
      "WARNING!! Missing pointwise/cvar/0.01 in run 4esay62d on sweep <Sweep alelab/Autoformer/zzpd5r4n (FINISHED)>. Filling all poitwisewith NAN.\n"
     ]
    },
    {
     "name": "stderr",
     "output_type": "stream",
     "text": [
      " 11%|█         | 73/679 [00:18<02:32,  3.97it/s]"
     ]
    },
    {
     "name": "stdout",
     "output_type": "stream",
     "text": [
      "WARNING!! Missing pointwise/cvar/0.01 in run togk3ib2 on sweep <Sweep alelab/Autoformer/t3euixqw (FINISHED)>. Filling all poitwisewith NAN.\n",
      "WARNING!! Missing pointwise/cvar/0.01 in run bsqktncr on sweep <Sweep alelab/Autoformer/t3euixqw (FINISHED)>. Filling all poitwisewith NAN.\n",
      "WARNING!! Missing pointwise/cvar/0.01 in run dhefnir1 on sweep <Sweep alelab/Autoformer/t3euixqw (FINISHED)>. Filling all poitwisewith NAN.\n",
      "WARNING!! Missing pointwise/cvar/0.01 in run 619aisdq on sweep <Sweep alelab/Autoformer/i0bzh8g7 (FINISHED)>. Filling all poitwisewith NAN.\n",
      "WARNING!! Missing pointwise/cvar/0.01 in run 2ifac8tz on sweep <Sweep alelab/Autoformer/i0bzh8g7 (FINISHED)>. Filling all poitwisewith NAN.\n",
      "WARNING!! Missing pointwise/cvar/0.01 in run 6yxfjfou on sweep <Sweep alelab/Autoformer/i0bzh8g7 (FINISHED)>. Filling all poitwisewith NAN.\n",
      "WARNING!! Missing pointwise/cvar/0.01 in run x8fc5z5o on sweep <Sweep alelab/Autoformer/6g0ca8np (FINISHED)>. Filling all poitwisewith NAN.\n",
      "WARNING!! Missing pointwise/cvar/0.01 in run zmdbadym on sweep <Sweep alelab/Autoformer/6g0ca8np (FINISHED)>. Filling all poitwisewith NAN.\n",
      "WARNING!! Missing pointwise/cvar/0.01 in run irt08vad on sweep <Sweep alelab/Autoformer/6g0ca8np (FINISHED)>. Filling all poitwisewith NAN.\n"
     ]
    },
    {
     "name": "stderr",
     "output_type": "stream",
     "text": [
      " 12%|█▏        | 84/679 [00:18<01:19,  7.50it/s]"
     ]
    },
    {
     "name": "stdout",
     "output_type": "stream",
     "text": [
      "WARNING!! Missing pointwise/cvar/0.01 in run 2lyjmaq5 on sweep <Sweep alelab/Autoformer/lr0cvil9 (FINISHED)>. Filling all poitwisewith NAN.\n",
      "WARNING!! Missing pointwise/cvar/0.01 in run 68gn16b6 on sweep <Sweep alelab/Autoformer/lr0cvil9 (FINISHED)>. Filling all poitwisewith NAN.\n",
      "WARNING!! Missing pointwise/cvar/0.01 in run gs2s572c on sweep <Sweep alelab/Autoformer/lr0cvil9 (FINISHED)>. Filling all poitwisewith NAN.\n",
      "WARNING!! Missing pointwise/cvar/0.01 in run jgucfyqh on sweep <Sweep alelab/Autoformer/1p3iso24 (FINISHED)>. Filling all poitwisewith NAN.\n",
      "WARNING!! Missing pointwise/cvar/0.01 in run ntvkeu94 on sweep <Sweep alelab/Autoformer/1p3iso24 (FINISHED)>. Filling all poitwisewith NAN.\n",
      "WARNING!! Missing pointwise/cvar/0.01 in run ggesck0m on sweep <Sweep alelab/Autoformer/1p3iso24 (FINISHED)>. Filling all poitwisewith NAN.\n",
      "WARNING!! Missing pointwise/cvar/0.01 in run dpm55vx4 on sweep <Sweep alelab/Autoformer/0jbdx1vt (FINISHED)>. Filling all poitwisewith NAN.\n",
      "WARNING!! Missing pointwise/cvar/0.01 in run 9ouc53fw on sweep <Sweep alelab/Autoformer/0jbdx1vt (FINISHED)>. Filling all poitwisewith NAN.\n",
      "WARNING!! Missing pointwise/cvar/0.01 in run pp899329 on sweep <Sweep alelab/Autoformer/0jbdx1vt (FINISHED)>. Filling all poitwisewith NAN.\n",
      "WARNING!! Missing pointwise/cvar/0.01 in run dkt9m9r5 on sweep <Sweep alelab/Autoformer/fyntydug (FINISHED)>. Filling all poitwisewith NAN.\n"
     ]
    },
    {
     "name": "stderr",
     "output_type": "stream",
     "text": [
      " 13%|█▎        | 89/679 [00:18<01:00,  9.74it/s]"
     ]
    },
    {
     "name": "stdout",
     "output_type": "stream",
     "text": [
      "WARNING!! Missing pointwise/cvar/0.01 in run j0q6ehzz on sweep <Sweep alelab/Autoformer/fyntydug (FINISHED)>. Filling all poitwisewith NAN.\n",
      "WARNING!! Missing pointwise/cvar/0.01 in run pyueb23u on sweep <Sweep alelab/Autoformer/fyntydug (FINISHED)>. Filling all poitwisewith NAN.\n",
      "WARNING!! Missing pointwise/cvar/0.01 in run bfap5kpk on sweep <Sweep alelab/Autoformer/arlshawh (FINISHED)>. Filling all poitwisewith NAN.\n",
      "WARNING!! Missing pointwise/cvar/0.01 in run 6z5ofi6v on sweep <Sweep alelab/Autoformer/arlshawh (FINISHED)>. Filling all poitwisewith NAN.\n",
      "WARNING!! Missing pointwise/cvar/0.01 in run opekgfz1 on sweep <Sweep alelab/Autoformer/arlshawh (FINISHED)>. Filling all poitwisewith NAN.\n",
      "WARNING!! Missing pointwise/cvar/0.01 in run cynv06y9 on sweep <Sweep alelab/Autoformer/rananuhy (FINISHED)>. Filling all poitwisewith NAN.\n",
      "WARNING!! Missing pointwise/cvar/0.01 in run y01s1tcz on sweep <Sweep alelab/Autoformer/rananuhy (FINISHED)>. Filling all poitwisewith NAN.\n",
      "WARNING!! Missing pointwise/cvar/0.01 in run qt5hsw12 on sweep <Sweep alelab/Autoformer/rananuhy (FINISHED)>. Filling all poitwisewith NAN.\n",
      "WARNING!! Missing pointwise/cvar/0.01 in run 5eh961az on sweep <Sweep alelab/Autoformer/t7f4jgol (FINISHED)>. Filling all poitwisewith NAN.\n"
     ]
    },
    {
     "name": "stderr",
     "output_type": "stream",
     "text": [
      " 15%|█▍        | 99/679 [00:19<00:38, 15.19it/s]"
     ]
    },
    {
     "name": "stdout",
     "output_type": "stream",
     "text": [
      "WARNING!! Missing pointwise/cvar/0.01 in run h1r1jlkk on sweep <Sweep alelab/Autoformer/t7f4jgol (FINISHED)>. Filling all poitwisewith NAN.\n",
      "WARNING!! Missing pointwise/cvar/0.01 in run f3rtfirf on sweep <Sweep alelab/Autoformer/t7f4jgol (FINISHED)>. Filling all poitwisewith NAN.\n",
      "WARNING!! Missing pointwise/cvar/0.01 in run dzzya090 on sweep <Sweep alelab/Autoformer/cq5qmuzo (FINISHED)>. Filling all poitwisewith NAN.\n",
      "WARNING!! Missing pointwise/cvar/0.01 in run 7x7la1ik on sweep <Sweep alelab/Autoformer/cq5qmuzo (FINISHED)>. Filling all poitwisewith NAN.\n",
      "WARNING!! Missing pointwise/cvar/0.01 in run ux0ergxs on sweep <Sweep alelab/Autoformer/xrnr4kmx (FINISHED)>. Filling all poitwisewith NAN.\n"
     ]
    },
    {
     "name": "stderr",
     "output_type": "stream",
     "text": [
      " 16%|█▌        | 107/679 [00:29<05:03,  1.89it/s]"
     ]
    },
    {
     "name": "stdout",
     "output_type": "stream",
     "text": [
      "WARNING!! Missing pointwise/cvar/0.01 in run c26elxpd on sweep <Sweep alelab/Autoformer/xrnr4kmx (FINISHED)>. Filling all poitwisewith NAN.\n",
      "WARNING!! Missing pointwise/cvar/0.01 in run oe7u0lcr on sweep <Sweep alelab/Autoformer/xrnr4kmx (FINISHED)>. Filling all poitwisewith NAN.\n",
      "WARNING!! Missing pointwise/cvar/0.01 in run jmn16m8a on sweep <Sweep alelab/Autoformer/lsiwaibl (FINISHED)>. Filling all poitwisewith NAN.\n",
      "WARNING!! Missing pointwise/cvar/0.01 in run q9t8nrmm on sweep <Sweep alelab/Autoformer/lsiwaibl (FINISHED)>. Filling all poitwisewith NAN.\n",
      "WARNING!! Missing pointwise/cvar/0.01 in run u4k6kx9i on sweep <Sweep alelab/Autoformer/lsiwaibl (FINISHED)>. Filling all poitwisewith NAN.\n",
      "WARNING!! Missing pointwise/cvar/0.01 in run 13q8zbck on sweep <Sweep alelab/Autoformer/lxjux473 (FINISHED)>. Filling all poitwisewith NAN.\n",
      "WARNING!! Missing pointwise/cvar/0.01 in run 5j231ez0 on sweep <Sweep alelab/Autoformer/lxjux473 (FINISHED)>. Filling all poitwisewith NAN.\n",
      "WARNING!! Missing pointwise/cvar/0.01 in run tblb6u7g on sweep <Sweep alelab/Autoformer/lxjux473 (FINISHED)>. Filling all poitwisewith NAN.\n"
     ]
    },
    {
     "name": "stderr",
     "output_type": "stream",
     "text": [
      " 17%|█▋        | 116/679 [00:30<02:32,  3.68it/s]"
     ]
    },
    {
     "name": "stdout",
     "output_type": "stream",
     "text": [
      "WARNING!! Missing pointwise/cvar/0.01 in run dirgj7jo on sweep <Sweep alelab/Autoformer/arrci7cw (FINISHED)>. Filling all poitwisewith NAN.\n",
      "WARNING!! Missing pointwise/cvar/0.01 in run 64oht4f2 on sweep <Sweep alelab/Autoformer/arrci7cw (FINISHED)>. Filling all poitwisewith NAN.\n",
      "WARNING!! Missing pointwise/cvar/0.01 in run hu84n9ht on sweep <Sweep alelab/Autoformer/arrci7cw (FINISHED)>. Filling all poitwisewith NAN.\n",
      "WARNING!! Missing pointwise/cvar/0.01 in run uw0wvq0i on sweep <Sweep alelab/Autoformer/63buq6gu (FINISHED)>. Filling all poitwisewith NAN.\n",
      "WARNING!! Missing pointwise/cvar/0.01 in run rbf8bmb7 on sweep <Sweep alelab/Autoformer/63buq6gu (FINISHED)>. Filling all poitwisewith NAN.\n",
      "WARNING!! Missing pointwise/cvar/0.01 in run 6hh90i0l on sweep <Sweep alelab/Autoformer/63buq6gu (FINISHED)>. Filling all poitwisewith NAN.\n",
      "WARNING!! Missing pointwise/cvar/0.01 in run e5euskb5 on sweep <Sweep alelab/Autoformer/qoxwtnjk (FINISHED)>. Filling all poitwisewith NAN.\n"
     ]
    },
    {
     "name": "stderr",
     "output_type": "stream",
     "text": [
      " 19%|█▊        | 126/679 [00:30<01:17,  7.12it/s]"
     ]
    },
    {
     "name": "stdout",
     "output_type": "stream",
     "text": [
      "WARNING!! Missing pointwise/cvar/0.01 in run cg2lcwgv on sweep <Sweep alelab/Autoformer/qoxwtnjk (FINISHED)>. Filling all poitwisewith NAN.\n",
      "WARNING!! Missing pointwise/cvar/0.01 in run j5baubtw on sweep <Sweep alelab/Autoformer/ggxij7q3 (FINISHED)>. Filling all poitwisewith NAN.\n",
      "WARNING!! Missing pointwise/cvar/0.01 in run rey3liu2 on sweep <Sweep alelab/Autoformer/ggxij7q3 (FINISHED)>. Filling all poitwisewith NAN.\n",
      "WARNING!! Missing pointwise/cvar/0.01 in run di9if0vt on sweep <Sweep alelab/Autoformer/ggxij7q3 (FINISHED)>. Filling all poitwisewith NAN.\n",
      "WARNING!! Missing pointwise/cvar/0.01 in run afytw7ji on sweep <Sweep alelab/Autoformer/r5chdban (FINISHED)>. Filling all poitwisewith NAN.\n",
      "WARNING!! Missing pointwise/cvar/0.01 in run pwptxwbr on sweep <Sweep alelab/Autoformer/r5chdban (FINISHED)>. Filling all poitwisewith NAN.\n",
      "WARNING!! Missing pointwise/cvar/0.01 in run r0aegxp4 on sweep <Sweep alelab/Autoformer/r5chdban (FINISHED)>. Filling all poitwisewith NAN.\n",
      "WARNING!! Missing pointwise/cvar/0.01 in run v54637b5 on sweep <Sweep alelab/Autoformer/cgv03ehh (FINISHED)>. Filling all poitwisewith NAN.\n",
      "WARNING!! Missing pointwise/cvar/0.01 in run 9bwcw7ji on sweep <Sweep alelab/Autoformer/cgv03ehh (FINISHED)>. Filling all poitwisewith NAN.\n"
     ]
    },
    {
     "name": "stderr",
     "output_type": "stream",
     "text": [
      " 19%|█▉        | 131/679 [00:30<00:57,  9.52it/s]"
     ]
    },
    {
     "name": "stdout",
     "output_type": "stream",
     "text": [
      "WARNING!! Missing pointwise/cvar/0.01 in run d9053aro on sweep <Sweep alelab/Autoformer/cgv03ehh (FINISHED)>. Filling all poitwisewith NAN.\n",
      "WARNING!! Missing pointwise/cvar/0.01 in run ucqcy5n4 on sweep <Sweep alelab/Autoformer/n1u2bcmu (FINISHED)>. Filling all poitwisewith NAN.\n",
      "WARNING!! Missing pointwise/cvar/0.01 in run ktub4e4v on sweep <Sweep alelab/Autoformer/9hn9ux81 (FINISHED)>. Filling all poitwisewith NAN.\n",
      "WARNING!! Missing pointwise/cvar/0.01 in run nwfydml5 on sweep <Sweep alelab/Autoformer/9hn9ux81 (FINISHED)>. Filling all poitwisewith NAN.\n",
      "WARNING!! Missing pointwise/cvar/0.01 in run cyieic6o on sweep <Sweep alelab/Autoformer/9hn9ux81 (FINISHED)>. Filling all poitwisewith NAN.\n",
      "WARNING!! Missing pointwise/cvar/0.01 in run tijp9gmd on sweep <Sweep alelab/Autoformer/ltr184h2 (FINISHED)>. Filling all poitwisewith NAN.\n",
      "WARNING!! Missing pointwise/cvar/0.01 in run srq12j7b on sweep <Sweep alelab/Autoformer/ltr184h2 (FINISHED)>. Filling all poitwisewith NAN.\n",
      "WARNING!! Missing pointwise/cvar/0.01 in run adxlajyu on sweep <Sweep alelab/Autoformer/ltr184h2 (FINISHED)>. Filling all poitwisewith NAN.\n",
      "WARNING!! Missing pointwise/cvar/0.01 in run pqoi8bg8 on sweep <Sweep alelab/Autoformer/r703q8jk (FINISHED)>. Filling all poitwisewith NAN.\n"
     ]
    },
    {
     "name": "stderr",
     "output_type": "stream",
     "text": [
      " 21%|██        | 141/679 [00:30<00:34, 15.57it/s]"
     ]
    },
    {
     "name": "stdout",
     "output_type": "stream",
     "text": [
      "WARNING!! Missing pointwise/cvar/0.01 in run 9n3r279o on sweep <Sweep alelab/Autoformer/r703q8jk (FINISHED)>. Filling all poitwisewith NAN.\n",
      "WARNING!! Missing pointwise/cvar/0.01 in run xwe1okbo on sweep <Sweep alelab/Autoformer/r703q8jk (FINISHED)>. Filling all poitwisewith NAN.\n",
      "WARNING!! Missing pointwise/cvar/0.01 in run bpuejhxr on sweep <Sweep alelab/Autoformer/rjmnhezj (FINISHED)>. Filling all poitwisewith NAN.\n",
      "WARNING!! Missing pointwise/cvar/0.01 in run twusn009 on sweep <Sweep alelab/Autoformer/rjmnhezj (FINISHED)>. Filling all poitwisewith NAN.\n",
      "WARNING!! Missing pointwise/cvar/0.01 in run oqp9o9t0 on sweep <Sweep alelab/Autoformer/rjmnhezj (FINISHED)>. Filling all poitwisewith NAN.\n",
      "WARNING!! Missing pointwise/cvar/0.01 in run wrz09wka on sweep <Sweep alelab/Autoformer/r15s3ut3 (FINISHED)>. Filling all poitwisewith NAN.\n",
      "WARNING!! Missing pointwise/cvar/0.01 in run hdb0k326 on sweep <Sweep alelab/Autoformer/r15s3ut3 (FINISHED)>. Filling all poitwisewith NAN.\n"
     ]
    },
    {
     "name": "stderr",
     "output_type": "stream",
     "text": [
      " 22%|██▏       | 146/679 [00:30<00:27, 19.33it/s]"
     ]
    },
    {
     "name": "stdout",
     "output_type": "stream",
     "text": [
      "WARNING!! Missing pointwise/cvar/0.01 in run 4f0zzfzn on sweep <Sweep alelab/Autoformer/rdh4zp4c (FINISHED)>. Filling all poitwisewith NAN.\n",
      "WARNING!! Missing pointwise/cvar/0.01 in run za2rrg7c on sweep <Sweep alelab/Autoformer/rdh4zp4c (FINISHED)>. Filling all poitwisewith NAN.\n",
      "WARNING!! Missing pointwise/cvar/0.01 in run yn3n0bsi on sweep <Sweep alelab/Autoformer/rdh4zp4c (FINISHED)>. Filling all poitwisewith NAN.\n",
      "WARNING!! Missing pointwise/cvar/0.01 in run k55ox982 on sweep <Sweep alelab/Autoformer/w4uvcm7o (FINISHED)>. Filling all poitwisewith NAN.\n",
      "WARNING!! Missing pointwise/cvar/0.01 in run 24k41dzs on sweep <Sweep alelab/Autoformer/w4uvcm7o (FINISHED)>. Filling all poitwisewith NAN.\n",
      "WARNING!! Missing pointwise/cvar/0.01 in run edm85elh on sweep <Sweep alelab/Autoformer/w4uvcm7o (FINISHED)>. Filling all poitwisewith NAN.\n"
     ]
    },
    {
     "name": "stderr",
     "output_type": "stream",
     "text": [
      " 23%|██▎       | 155/679 [00:47<06:53,  1.27it/s]"
     ]
    },
    {
     "name": "stdout",
     "output_type": "stream",
     "text": [
      "WARNING!! Missing pointwise/cvar/0.01 in run 2q6d7zof on sweep <Sweep alelab/Autoformer/xqkh6viw (FINISHED)>. Filling all poitwisewith NAN.\n",
      "WARNING!! Missing pointwise/cvar/0.01 in run hy8crtrw on sweep <Sweep alelab/Autoformer/xqkh6viw (FINISHED)>. Filling all poitwisewith NAN.\n",
      "WARNING!! Missing pointwise/cvar/0.01 in run dpfo2ugn on sweep <Sweep alelab/Autoformer/xqkh6viw (FINISHED)>. Filling all poitwisewith NAN.\n",
      "WARNING!! Missing pointwise/cvar/0.01 in run ta2wfioq on sweep <Sweep alelab/Autoformer/famlrbwk (FINISHED)>. Filling all poitwisewith NAN.\n",
      "WARNING!! Missing pointwise/cvar/0.01 in run 233mg13o on sweep <Sweep alelab/Autoformer/famlrbwk (FINISHED)>. Filling all poitwisewith NAN.\n",
      "WARNING!! Missing pointwise/cvar/0.01 in run x9qj009v on sweep <Sweep alelab/Autoformer/famlrbwk (FINISHED)>. Filling all poitwisewith NAN.\n",
      "WARNING!! Missing pointwise/cvar/0.01 in run kyy15xvj on sweep <Sweep alelab/Autoformer/e34bunae (FINISHED)>. Filling all poitwisewith NAN.\n"
     ]
    },
    {
     "name": "stderr",
     "output_type": "stream",
     "text": [
      " 24%|██▎       | 161/679 [00:47<04:27,  1.94it/s]"
     ]
    },
    {
     "name": "stdout",
     "output_type": "stream",
     "text": [
      "WARNING!! Missing pointwise/cvar/0.01 in run y7fuvkdk on sweep <Sweep alelab/Autoformer/e34bunae (FINISHED)>. Filling all poitwisewith NAN.\n",
      "WARNING!! Missing pointwise/cvar/0.01 in run ct73iagg on sweep <Sweep alelab/Autoformer/e34bunae (FINISHED)>. Filling all poitwisewith NAN.\n",
      "WARNING!! Missing pointwise/cvar/0.01 in run 55pquuw8 on sweep <Sweep alelab/Autoformer/pm80leai (FINISHED)>. Filling all poitwisewith NAN.\n",
      "WARNING!! Missing pointwise/cvar/0.01 in run shbwnth1 on sweep <Sweep alelab/Autoformer/pm80leai (FINISHED)>. Filling all poitwisewith NAN.\n",
      "WARNING!! Missing pointwise/cvar/0.01 in run 4vhi4vw3 on sweep <Sweep alelab/Autoformer/pm80leai (FINISHED)>. Filling all poitwisewith NAN.\n",
      "WARNING!! Missing pointwise/cvar/0.01 in run jgjhewy1 on sweep <Sweep alelab/Autoformer/722ix5d1 (FINISHED)>. Filling all poitwisewith NAN.\n",
      "WARNING!! Missing pointwise/cvar/0.01 in run tjnqb1sy on sweep <Sweep alelab/Autoformer/722ix5d1 (FINISHED)>. Filling all poitwisewith NAN.\n",
      "WARNING!! Missing pointwise/cvar/0.01 in run 85na9i1k on sweep <Sweep alelab/Autoformer/a5lj8v9n (FINISHED)>. Filling all poitwisewith NAN.\n"
     ]
    },
    {
     "name": "stderr",
     "output_type": "stream",
     "text": [
      " 25%|██▌       | 171/679 [00:48<02:15,  3.75it/s]"
     ]
    },
    {
     "name": "stdout",
     "output_type": "stream",
     "text": [
      "WARNING!! Missing pointwise/cvar/0.01 in run vkwgpwgx on sweep <Sweep alelab/Autoformer/a5lj8v9n (FINISHED)>. Filling all poitwisewith NAN.\n",
      "WARNING!! Missing pointwise/cvar/0.01 in run cbdw3c0w on sweep <Sweep alelab/Autoformer/rw90dvf6 (FINISHED)>. Filling all poitwisewith NAN.\n",
      "WARNING!! Missing pointwise/cvar/0.01 in run jjodri2q on sweep <Sweep alelab/Autoformer/rw90dvf6 (FINISHED)>. Filling all poitwisewith NAN.\n",
      "WARNING!! Missing pointwise/cvar/0.01 in run 2u2o8kei on sweep <Sweep alelab/Autoformer/ly2r2vzf (FINISHED)>. Filling all poitwisewith NAN.\n",
      "WARNING!! Missing pointwise/cvar/0.01 in run mgy7ioa2 on sweep <Sweep alelab/Autoformer/ly2r2vzf (FINISHED)>. Filling all poitwisewith NAN.\n",
      "WARNING!! Missing pointwise/cvar/0.01 in run ekr2sgou on sweep <Sweep alelab/Autoformer/lvboaich (FINISHED)>. Filling all poitwisewith NAN.\n"
     ]
    },
    {
     "name": "stderr",
     "output_type": "stream",
     "text": [
      " 27%|██▋       | 186/679 [00:48<00:53,  9.30it/s]"
     ]
    },
    {
     "name": "stdout",
     "output_type": "stream",
     "text": [
      "WARNING!! Missing pointwise/cvar/0.01 in run 27ejqswc on sweep <Sweep alelab/Autoformer/dhhv0yi5 (FINISHED)>. Filling all poitwisewith NAN.\n",
      "WARNING!! Missing pointwise/cvar/0.01 in run nly7bwwg on sweep <Sweep alelab/Autoformer/g636qp5n (FINISHED)>. Filling all poitwisewith NAN.\n"
     ]
    },
    {
     "name": "stderr",
     "output_type": "stream",
     "text": [
      " 29%|██▉       | 197/679 [00:48<00:29, 16.13it/s]"
     ]
    },
    {
     "name": "stdout",
     "output_type": "stream",
     "text": [
      "WARNING!! Missing pointwise/cvar/0.01 in run ii0at8yc on sweep <Sweep alelab/Autoformer/xuf4ofu8 (FINISHED)>. Filling all poitwisewith NAN.\n"
     ]
    },
    {
     "name": "stderr",
     "output_type": "stream",
     "text": [
      " 32%|███▏      | 219/679 [01:04<02:20,  3.26it/s]"
     ]
    },
    {
     "name": "stdout",
     "output_type": "stream",
     "text": [
      "WARNING!! Missing pointwise/cvar/0.01 in run m012c6g8 on sweep <Sweep alelab/Autoformer/fu0wq5y4 (FINISHED)>. Filling all poitwisewith NAN.\n"
     ]
    },
    {
     "name": "stderr",
     "output_type": "stream",
     "text": [
      " 34%|███▍      | 234/679 [01:04<00:56,  7.87it/s]"
     ]
    },
    {
     "name": "stdout",
     "output_type": "stream",
     "text": [
      "WARNING!! Missing pointwise/cvar/0.01 in run yw5idkg3 on sweep <Sweep alelab/Autoformer/0k7fh52d (FINISHED)>. Filling all poitwisewith NAN.\n"
     ]
    },
    {
     "name": "stderr",
     "output_type": "stream",
     "text": [
      " 36%|███▌      | 245/679 [01:04<00:30, 14.01it/s]"
     ]
    },
    {
     "name": "stdout",
     "output_type": "stream",
     "text": [
      "WARNING!! Missing pointwise/cvar/0.01 in run bdeakraj on sweep <Sweep alelab/Autoformer/anlmsfys (FINISHED)>. Filling all poitwisewith NAN.\n",
      "WARNING!! Missing pointwise/cvar/0.01 in run xy024j06 on sweep <Sweep alelab/Autoformer/e2j7yihu (FINISHED)>. Filling all poitwisewith NAN.\n",
      "WARNING!! Missing pointwise/cvar/0.01 in run zz16pm64 on sweep <Sweep alelab/Autoformer/e2j7yihu (FINISHED)>. Filling all poitwisewith NAN.\n",
      "WARNING!! Missing pointwise/cvar/0.01 in run qhduwe68 on sweep <Sweep alelab/Autoformer/e2j7yihu (FINISHED)>. Filling all poitwisewith NAN.\n"
     ]
    },
    {
     "name": "stderr",
     "output_type": "stream",
     "text": [
      " 37%|███▋      | 250/679 [01:04<00:25, 16.97it/s]"
     ]
    },
    {
     "name": "stdout",
     "output_type": "stream",
     "text": [
      "WARNING!! Missing pointwise/cvar/0.01 in run 9xafh37z on sweep <Sweep alelab/Autoformer/9c0jheq0 (FINISHED)>. Filling all poitwisewith NAN.\n",
      "WARNING!! Missing pointwise/cvar/0.01 in run 6mrvxyf1 on sweep <Sweep alelab/Autoformer/9c0jheq0 (FINISHED)>. Filling all poitwisewith NAN.\n"
     ]
    },
    {
     "name": "stderr",
     "output_type": "stream",
     "text": [
      " 38%|███▊      | 256/679 [01:17<04:39,  1.51it/s]"
     ]
    },
    {
     "name": "stdout",
     "output_type": "stream",
     "text": [
      "WARNING!! Missing pointwise/cvar/0.01 in run 9m5j2hlp on sweep <Sweep alelab/Autoformer/isriflxb (FINISHED)>. Filling all poitwisewith NAN.\n",
      "WARNING!! Missing pointwise/cvar/0.01 in run oiqrpdi2 on sweep <Sweep alelab/Autoformer/isriflxb (FINISHED)>. Filling all poitwisewith NAN.\n",
      "WARNING!! Missing pointwise/cvar/0.01 in run cya88equ on sweep <Sweep alelab/Autoformer/isriflxb (FINISHED)>. Filling all poitwisewith NAN.\n",
      "WARNING!! Missing pointwise/cvar/0.01 in run 8iehts32 on sweep <Sweep alelab/Autoformer/sokw07xl (FINISHED)>. Filling all poitwisewith NAN.\n",
      "WARNING!! Missing pointwise/cvar/0.01 in run zcdyneoa on sweep <Sweep alelab/Autoformer/sokw07xl (FINISHED)>. Filling all poitwisewith NAN.\n",
      "WARNING!! Missing pointwise/cvar/0.01 in run 6ytqw0d6 on sweep <Sweep alelab/Autoformer/sokw07xl (FINISHED)>. Filling all poitwisewith NAN.\n",
      "WARNING!! Missing pointwise/cvar/0.01 in run owdafgd4 on sweep <Sweep alelab/Autoformer/rcvwmnnr (FINISHED)>. Filling all poitwisewith NAN.\n",
      "WARNING!! Missing pointwise/cvar/0.01 in run 7jqkb484 on sweep <Sweep alelab/Autoformer/4mqnpav2 (FINISHED)>. Filling all poitwisewith NAN.\n"
     ]
    },
    {
     "name": "stderr",
     "output_type": "stream",
     "text": [
      " 39%|███▉      | 267/679 [01:17<02:01,  3.39it/s]"
     ]
    },
    {
     "name": "stdout",
     "output_type": "stream",
     "text": [
      "WARNING!! Missing pointwise/cvar/0.01 in run y4e8q59i on sweep <Sweep alelab/Autoformer/4mqnpav2 (FINISHED)>. Filling all poitwisewith NAN.\n",
      "WARNING!! Missing pointwise/cvar/0.01 in run an05zwy4 on sweep <Sweep alelab/Autoformer/24elc966 (FINISHED)>. Filling all poitwisewith NAN.\n",
      "WARNING!! Missing pointwise/cvar/0.01 in run r4trxbil on sweep <Sweep alelab/Autoformer/24elc966 (FINISHED)>. Filling all poitwisewith NAN.\n",
      "WARNING!! Missing pointwise/cvar/0.01 in run 076y6rbc on sweep <Sweep alelab/Autoformer/gopf6s87 (FINISHED)>. Filling all poitwisewith NAN.\n",
      "WARNING!! Missing pointwise/cvar/0.01 in run hqt6afnz on sweep <Sweep alelab/Autoformer/gopf6s87 (FINISHED)>. Filling all poitwisewith NAN.\n",
      "WARNING!! Missing pointwise/cvar/0.01 in run cm7e2qn1 on sweep <Sweep alelab/Autoformer/gopf6s87 (FINISHED)>. Filling all poitwisewith NAN.\n",
      "WARNING!! Missing pointwise/cvar/0.01 in run 8iomhfsi on sweep <Sweep alelab/Autoformer/1c4ke3i9 (FINISHED)>. Filling all poitwisewith NAN.\n",
      "WARNING!! Missing pointwise/cvar/0.01 in run 1beem2b1 on sweep <Sweep alelab/Autoformer/1c4ke3i9 (FINISHED)>. Filling all poitwisewith NAN.\n"
     ]
    },
    {
     "name": "stderr",
     "output_type": "stream",
     "text": [
      " 41%|████      | 278/679 [01:18<00:59,  6.78it/s]"
     ]
    },
    {
     "name": "stdout",
     "output_type": "stream",
     "text": [
      "WARNING!! Missing pointwise/cvar/0.01 in run o1f53i23 on sweep <Sweep alelab/Autoformer/jzsb719m (FINISHED)>. Filling all poitwisewith NAN.\n",
      "WARNING!! Missing pointwise/cvar/0.01 in run p2zr2k2f on sweep <Sweep alelab/Autoformer/jzsb719m (FINISHED)>. Filling all poitwisewith NAN.\n",
      "WARNING!! Missing pointwise/cvar/0.01 in run 64nsbzu1 on sweep <Sweep alelab/Autoformer/jzsb719m (FINISHED)>. Filling all poitwisewith NAN.\n",
      "WARNING!! Missing pointwise/cvar/0.01 in run 93aollyx on sweep <Sweep alelab/Autoformer/1nddttg9 (FINISHED)>. Filling all poitwisewith NAN.\n",
      "WARNING!! Missing pointwise/cvar/0.01 in run jx1ifmst on sweep <Sweep alelab/Autoformer/1nddttg9 (FINISHED)>. Filling all poitwisewith NAN.\n",
      "WARNING!! Missing pointwise/cvar/0.01 in run dfmbl42q on sweep <Sweep alelab/Autoformer/1nddttg9 (FINISHED)>. Filling all poitwisewith NAN.\n",
      "WARNING!! Missing pointwise/cvar/0.01 in run 3hvv22lo on sweep <Sweep alelab/Autoformer/dxwix0gt (FINISHED)>. Filling all poitwisewith NAN.\n",
      "WARNING!! Missing pointwise/cvar/0.01 in run gn7a0udq on sweep <Sweep alelab/Autoformer/dxwix0gt (FINISHED)>. Filling all poitwisewith NAN.\n",
      "WARNING!! Missing pointwise/cvar/0.01 in run 973i1rdy on sweep <Sweep alelab/Autoformer/dxwix0gt (FINISHED)>. Filling all poitwisewith NAN.\n"
     ]
    },
    {
     "name": "stderr",
     "output_type": "stream",
     "text": [
      " 42%|████▏     | 288/679 [01:18<00:33, 11.55it/s]"
     ]
    },
    {
     "name": "stdout",
     "output_type": "stream",
     "text": [
      "WARNING!! Missing pointwise/cvar/0.01 in run diij2u97 on sweep <Sweep alelab/Autoformer/bqpq33zs (FINISHED)>. Filling all poitwisewith NAN.\n",
      "WARNING!! Missing pointwise/cvar/0.01 in run gsgyvklv on sweep <Sweep alelab/Autoformer/wc3e4di4 (FINISHED)>. Filling all poitwisewith NAN.\n",
      "WARNING!! Missing pointwise/cvar/0.01 in run yrq8488g on sweep <Sweep alelab/Autoformer/qvrocaxk (FINISHED)>. Filling all poitwisewith NAN.\n",
      "WARNING!! Missing pointwise/cvar/0.01 in run kzi2mpt6 on sweep <Sweep alelab/Autoformer/qvrocaxk (FINISHED)>. Filling all poitwisewith NAN.\n"
     ]
    },
    {
     "name": "stderr",
     "output_type": "stream",
     "text": [
      " 44%|████▍     | 298/679 [01:18<00:21, 17.99it/s]"
     ]
    },
    {
     "name": "stdout",
     "output_type": "stream",
     "text": [
      "WARNING!! Missing pointwise/cvar/0.01 in run yukr1nw3 on sweep <Sweep alelab/Autoformer/wq4yzy4n (FINISHED)>. Filling all poitwisewith NAN.\n",
      "WARNING!! Missing pointwise/cvar/0.01 in run jzulc2zh on sweep <Sweep alelab/Autoformer/wq4yzy4n (FINISHED)>. Filling all poitwisewith NAN.\n",
      "WARNING!! Missing pointwise/cvar/0.01 in run 3rfzwnyo on sweep <Sweep alelab/Autoformer/wq4yzy4n (FINISHED)>. Filling all poitwisewith NAN.\n",
      "WARNING!! Missing pointwise/cvar/0.01 in run pqz067sz on sweep <Sweep alelab/Autoformer/wbsqlsxc (FINISHED)>. Filling all poitwisewith NAN.\n",
      "WARNING!! Missing pointwise/cvar/0.01 in run 7woxemnc on sweep <Sweep alelab/Autoformer/wbsqlsxc (FINISHED)>. Filling all poitwisewith NAN.\n",
      "WARNING!! Missing pointwise/cvar/0.01 in run zily1oo0 on sweep <Sweep alelab/Autoformer/wbsqlsxc (FINISHED)>. Filling all poitwisewith NAN.\n",
      "WARNING!! Missing pointwise/cvar/0.01 in run qh8b15vk on sweep <Sweep alelab/Autoformer/7sr5dni6 (FINISHED)>. Filling all poitwisewith NAN.\n"
     ]
    },
    {
     "name": "stderr",
     "output_type": "stream",
     "text": [
      " 45%|████▍     | 303/679 [01:23<02:12,  2.83it/s]"
     ]
    },
    {
     "name": "stdout",
     "output_type": "stream",
     "text": [
      "WARNING!! Missing pointwise/cvar/0.01 in run rrdjhs18 on sweep <Sweep alelab/Autoformer/7sr5dni6 (FINISHED)>. Filling all poitwisewith NAN.\n",
      "WARNING!! Missing pointwise/cvar/0.01 in run de6apgqi on sweep <Sweep alelab/Autoformer/7sr5dni6 (FINISHED)>. Filling all poitwisewith NAN.\n",
      "WARNING!! Missing pointwise/cvar/0.01 in run 5toknm9h on sweep <Sweep alelab/Autoformer/42gvfebi (FINISHED)>. Filling all poitwisewith NAN.\n",
      "WARNING!! Missing pointwise/cvar/0.01 in run lw8zax1d on sweep <Sweep alelab/Autoformer/42gvfebi (FINISHED)>. Filling all poitwisewith NAN.\n"
     ]
    },
    {
     "name": "stderr",
     "output_type": "stream",
     "text": [
      " 48%|████▊     | 323/679 [01:24<00:34, 10.32it/s]"
     ]
    },
    {
     "name": "stdout",
     "output_type": "stream",
     "text": [
      "WARNING!! Missing pointwise/cvar/0.01 in run m7ppb4ut on sweep <Sweep alelab/Autoformer/a0cmnw82 (FINISHED)>. Filling all poitwisewith NAN.\n",
      "WARNING!! Missing pointwise/cvar/0.01 in run usjhllwl on sweep <Sweep alelab/Autoformer/pq41klha (FINISHED)>. Filling all poitwisewith NAN.\n",
      "WARNING!! Missing pointwise/cvar/0.01 in run 8nurfoup on sweep <Sweep alelab/Autoformer/pq41klha (FINISHED)>. Filling all poitwisewith NAN.\n",
      "WARNING!! Missing pointwise/cvar/0.01 in run p9ql95xq on sweep <Sweep alelab/Autoformer/ta2djhdt (FINISHED)>. Filling all poitwisewith NAN.\n",
      "WARNING!! Missing pointwise/cvar/0.01 in run 5o1fpdlz on sweep <Sweep alelab/Autoformer/hrrx0mey (FINISHED)>. Filling all poitwisewith NAN.\n",
      "WARNING!! Missing pointwise/cvar/0.01 in run qd76uvsq on sweep <Sweep alelab/Autoformer/hrrx0mey (FINISHED)>. Filling all poitwisewith NAN.\n"
     ]
    },
    {
     "name": "stderr",
     "output_type": "stream",
     "text": [
      " 50%|████▉     | 337/679 [01:24<00:17, 19.95it/s]"
     ]
    },
    {
     "name": "stdout",
     "output_type": "stream",
     "text": [
      "WARNING!! Missing pointwise/cvar/0.01 in run 6kidhg2u on sweep <Sweep alelab/Autoformer/hrrx0mey (FINISHED)>. Filling all poitwisewith NAN.\n",
      "WARNING!! Missing pointwise/cvar/0.01 in run o2h7bolw on sweep <Sweep alelab/Autoformer/gix1vjpx (FINISHED)>. Filling all poitwisewith NAN.\n",
      "WARNING!! Missing pointwise/cvar/0.01 in run pw51adrt on sweep <Sweep alelab/Autoformer/gix1vjpx (FINISHED)>. Filling all poitwisewith NAN.\n",
      "WARNING!! Missing pointwise/cvar/0.01 in run 7ea1bfee on sweep <Sweep alelab/Autoformer/gix1vjpx (FINISHED)>. Filling all poitwisewith NAN.\n",
      "WARNING!! Missing pointwise/cvar/0.01 in run zy8wvge5 on sweep <Sweep alelab/Autoformer/r9k20tgc (FINISHED)>. Filling all poitwisewith NAN.\n",
      "WARNING!! Missing pointwise/cvar/0.01 in run pprpu7qk on sweep <Sweep alelab/Autoformer/r9k20tgc (FINISHED)>. Filling all poitwisewith NAN.\n",
      "WARNING!! Missing pointwise/cvar/0.01 in run dzl0rq0d on sweep <Sweep alelab/Autoformer/r9k20tgc (FINISHED)>. Filling all poitwisewith NAN.\n",
      "WARNING!! Missing pointwise/cvar/0.01 in run 6r1f4z0f on sweep <Sweep alelab/Autoformer/lk7ffz4i (FINISHED)>. Filling all poitwisewith NAN.\n",
      "WARNING!! Missing pointwise/cvar/0.01 in run ipjt6c1u on sweep <Sweep alelab/Autoformer/lk7ffz4i (FINISHED)>. Filling all poitwisewith NAN.\n",
      "WARNING!! Missing pointwise/cvar/0.01 in run c0vsgd57 on sweep <Sweep alelab/Autoformer/lk7ffz4i (FINISHED)>. Filling all poitwisewith NAN.\n",
      "WARNING!! Missing pointwise/cvar/0.01 in run 71fdpwii on sweep <Sweep alelab/Autoformer/2e3um89y (FINISHED)>. Filling all poitwisewith NAN.\n",
      "WARNING!! Missing pointwise/cvar/0.01 in run g239djzn on sweep <Sweep alelab/Autoformer/2e3um89y (FINISHED)>. Filling all poitwisewith NAN.\n",
      "WARNING!! Missing pointwise/cvar/0.01 in run rv8rz4fn on sweep <Sweep alelab/Autoformer/1zrtosuz (FINISHED)>. Filling all poitwisewith NAN.\n"
     ]
    },
    {
     "name": "stderr",
     "output_type": "stream",
     "text": [
      " 52%|█████▏    | 356/679 [01:36<02:13,  2.42it/s]"
     ]
    },
    {
     "name": "stdout",
     "output_type": "stream",
     "text": [
      "WARNING!! Missing pointwise/cvar/0.01 in run l1gdbow7 on sweep <Sweep alelab/Autoformer/5eh7bjnr (FINISHED)>. Filling all poitwisewith NAN.\n",
      "WARNING!! Missing pointwise/cvar/0.01 in run qqtip8k5 on sweep <Sweep alelab/Autoformer/9cj3md4i (FINISHED)>. Filling all poitwisewith NAN.\n",
      "WARNING!! Missing pointwise/cvar/0.01 in run nuib0bfu on sweep <Sweep alelab/Autoformer/9cj3md4i (FINISHED)>. Filling all poitwisewith NAN.\n",
      "WARNING!! Missing pointwise/cvar/0.01 in run f03c1sr6 on sweep <Sweep alelab/Autoformer/9cj3md4i (FINISHED)>. Filling all poitwisewith NAN.\n",
      "WARNING!! Missing pointwise/cvar/0.01 in run uyrmytvd on sweep <Sweep alelab/Autoformer/nl76kwi4 (FINISHED)>. Filling all poitwisewith NAN.\n",
      "WARNING!! Missing pointwise/cvar/0.01 in run tktfucmd on sweep <Sweep alelab/Autoformer/nl76kwi4 (FINISHED)>. Filling all poitwisewith NAN.\n",
      "WARNING!! Missing pointwise/cvar/0.01 in run dic3llqr on sweep <Sweep alelab/Autoformer/nl76kwi4 (FINISHED)>. Filling all poitwisewith NAN.\n",
      "WARNING!! Missing pointwise/cvar/0.01 in run ci5bgznq on sweep <Sweep alelab/Autoformer/rgw2t2cn (FINISHED)>. Filling all poitwisewith NAN.\n",
      "WARNING!! Missing pointwise/cvar/0.01 in run bsmpeys0 on sweep <Sweep alelab/Autoformer/rgw2t2cn (FINISHED)>. Filling all poitwisewith NAN.\n",
      "WARNING!! Missing pointwise/cvar/0.01 in run smcjbw0h on sweep <Sweep alelab/Autoformer/rgw2t2cn (FINISHED)>. Filling all poitwisewith NAN.\n",
      "WARNING!! Missing pointwise/cvar/0.01 in run 75qrk8sr on sweep <Sweep alelab/Autoformer/mdgenk44 (FINISHED)>. Filling all poitwisewith NAN.\n"
     ]
    },
    {
     "name": "stderr",
     "output_type": "stream",
     "text": [
      " 54%|█████▍    | 369/679 [01:36<01:04,  4.80it/s]"
     ]
    },
    {
     "name": "stdout",
     "output_type": "stream",
     "text": [
      "WARNING!! Missing pointwise/cvar/0.01 in run brlwd5t5 on sweep <Sweep alelab/Autoformer/7b0fftu1 (FINISHED)>. Filling all poitwisewith NAN.\n",
      "WARNING!! Missing pointwise/cvar/0.01 in run x9fjws3p on sweep <Sweep alelab/Autoformer/pkc4s5uz (FINISHED)>. Filling all poitwisewith NAN.\n"
     ]
    },
    {
     "name": "stderr",
     "output_type": "stream",
     "text": [
      " 58%|█████▊    | 395/679 [01:36<00:17, 16.50it/s]"
     ]
    },
    {
     "name": "stdout",
     "output_type": "stream",
     "text": [
      "WARNING!! Missing pointwise/cvar/0.01 in run 3aid1u8b on sweep <Sweep alelab/Autoformer/pm9djfz5 (FINISHED)>. Filling all poitwisewith NAN.\n",
      "WARNING!! Missing pointwise/cvar/0.01 in run u9i3usdz on sweep <Sweep alelab/Autoformer/aeul26y5 (FINISHED)>. Filling all poitwisewith NAN.\n"
     ]
    },
    {
     "name": "stderr",
     "output_type": "stream",
     "text": [
      " 59%|█████▉    | 400/679 [01:37<00:14, 19.37it/s]"
     ]
    },
    {
     "name": "stdout",
     "output_type": "stream",
     "text": [
      "WARNING!! Missing pointwise/cvar/0.01 in run 5suwxzgx on sweep <Sweep alelab/Autoformer/aovoifx5 (FINISHED)>. Filling all poitwisewith NAN.\n",
      "WARNING!! Missing pointwise/cvar/0.01 in run lq18eo2m on sweep <Sweep alelab/Autoformer/aovoifx5 (FINISHED)>. Filling all poitwisewith NAN.\n"
     ]
    },
    {
     "name": "stderr",
     "output_type": "stream",
     "text": [
      " 86%|████████▌ | 582/679 [02:31<00:06, 13.96it/s]"
     ]
    },
    {
     "name": "stdout",
     "output_type": "stream",
     "text": [
      "WARNING!! Missing pointwise/cvar/0.01 in run 2qa1s6bx on sweep <Sweep alelab/Autoformer/mzykvqfn (FINISHED)>. Filling all poitwisewith NAN.\n",
      "WARNING!! Missing pointwise/cvar/0.01 in run vuppzm29 on sweep <Sweep alelab/Autoformer/mzykvqfn (FINISHED)>. Filling all poitwisewith NAN.\n"
     ]
    },
    {
     "name": "stderr",
     "output_type": "stream",
     "text": [
      " 87%|████████▋ | 594/679 [02:32<00:03, 23.50it/s]"
     ]
    },
    {
     "name": "stdout",
     "output_type": "stream",
     "text": [
      "WARNING!! Missing pointwise/cvar/0.01 in run 3l8p07md on sweep None. Filling all poitwisewith NAN.\n"
     ]
    },
    {
     "name": "stderr",
     "output_type": "stream",
     "text": [
      " 91%|█████████ | 619/679 [02:48<00:16,  3.55it/s]"
     ]
    },
    {
     "name": "stdout",
     "output_type": "stream",
     "text": [
      "WARNING!! Missing pointwise/cvar/0.01 in run bbedl2fm on sweep None. Filling all poitwisewith NAN.\n",
      "WARNING!! Missing pointwise/cvar/0.01 in run 2u2orrgj on sweep None. Filling all poitwisewith NAN.\n",
      "WARNING!! Missing pointwise/cvar/0.01 in run jpybtu8v on sweep None. Filling all poitwisewith NAN.\n",
      "WARNING!! Missing pointwise/cvar/0.01 in run nusqty14 on sweep None. Filling all poitwisewith NAN.\n",
      "WARNING!! Missing pointwise/cvar/0.01 in run 93jqr60g on sweep None. Filling all poitwisewith NAN.\n",
      "WARNING!! Missing pointwise/cvar/0.01 in run rtu2j4af on sweep None. Filling all poitwisewith NAN.\n"
     ]
    },
    {
     "name": "stderr",
     "output_type": "stream",
     "text": [
      " 97%|█████████▋| 660/679 [03:14<00:16,  1.18it/s]"
     ]
    },
    {
     "name": "stdout",
     "output_type": "stream",
     "text": [
      "WARNING!! Missing pointwise/cvar/0.01 in run 98fpmxck on sweep <Sweep alelab/Autoformer/xqpbzr6x (FINISHED)>. Filling all poitwisewith NAN.\n"
     ]
    },
    {
     "name": "stderr",
     "output_type": "stream",
     "text": [
      "100%|██████████| 679/679 [03:14<00:00,  3.48it/s]\n"
     ]
    },
    {
     "name": "stdout",
     "output_type": "stream",
     "text": [
      "Fetched 679 runs\n",
      "Total records: (571824, 120)\n",
      "Total runs: 679\n",
      "Backup data saved as pickle: ../data_backups/2024_04_17__newdatasets_erm_and_constrained_val.pkl\n",
      "Backup data saved as CSV: ../data_backups/2024_04_17__newdatasets_erm_and_constrained_val.csv\n",
      "Returning backed up data as a pandas DF\n"
     ]
    }
   ],
   "source": [
    "saved_data = data_backup.backup_experiment_data(\n",
    "    experiment_tags = [\n",
    "        \"e29_icml_erm_newdatasets\",\n",
    "        \"e30_icml_constrained_newdatasets_train\",\n",
    "        \"e31_icml_constrained_newdatasets_val\"\n",
    "    ],\n",
    "    filename_prefix=\"../data_backups/2024_04_17__newdatasets_erm_and_constrained_w_val\"\n",
    ")"
   ]
  },
  {
   "cell_type": "markdown",
   "id": "e69afe59",
   "metadata": {},
   "source": [
    "# April 17 New datasets $\\times$ new model"
   ]
  },
  {
   "cell_type": "code",
   "execution_count": 6,
   "id": "fad2897e",
   "metadata": {},
   "outputs": [
    {
     "name": "stdout",
     "output_type": "stream",
     "text": [
      "Experiment tags being considered: ['e32_icml_erm_newdatasets_newmodels', 'e33_icml_constrained_newdatasets_newmodels']\n",
      "Saving to backup data filename: ../data_backups/2024_04_17__newdatasets_newmodels_erm_and_constrained\n"
     ]
    },
    {
     "name": "stderr",
     "output_type": "stream",
     "text": [
      "  3%|▎         | 11/420 [00:00<00:07, 54.68it/s]"
     ]
    },
    {
     "name": "stdout",
     "output_type": "stream",
     "text": [
      "WARNING!! Missing pointwise/cvar/0.01 in run 40mnc82s on sweep <Sweep alelab/Autoformer/wu5j23fy (FINISHED)>. Filling all poitwisewith NAN.\n",
      "WARNING!! Missing pointwise/cvar/0.01 in run x606hsk4 on sweep <Sweep alelab/Autoformer/wu5j23fy (FINISHED)>. Filling all poitwisewith NAN.\n",
      "WARNING!! Missing pointwise/cvar/0.01 in run gbm3mm0r on sweep <Sweep alelab/Autoformer/wu5j23fy (FINISHED)>. Filling all poitwisewith NAN.\n",
      "WARNING!! Missing pointwise/cvar/0.01 in run ryn5jas5 on sweep <Sweep alelab/Autoformer/xyjytk0l (FINISHED)>. Filling all poitwisewith NAN.\n",
      "WARNING!! Missing pointwise/cvar/0.01 in run y2vshbwg on sweep <Sweep alelab/Autoformer/xyjytk0l (FINISHED)>. Filling all poitwisewith NAN.\n",
      "WARNING!! Missing pointwise/cvar/0.01 in run fdk9l544 on sweep <Sweep alelab/Autoformer/xyjytk0l (FINISHED)>. Filling all poitwisewith NAN.\n",
      "WARNING!! Missing pointwise/cvar/0.01 in run c7dzt0t8 on sweep <Sweep alelab/Autoformer/3o4yuvp9 (FINISHED)>. Filling all poitwisewith NAN.\n",
      "WARNING!! Missing pointwise/cvar/0.01 in run za7a8h7j on sweep <Sweep alelab/Autoformer/3o4yuvp9 (FINISHED)>. Filling all poitwisewith NAN.\n",
      "WARNING!! Missing pointwise/cvar/0.01 in run eb6q2r5l on sweep <Sweep alelab/Autoformer/3o4yuvp9 (FINISHED)>. Filling all poitwisewith NAN.\n",
      "WARNING!! Missing pointwise/cvar/0.01 in run m86a8szp on sweep <Sweep alelab/Autoformer/c98pmx9o (FINISHED)>. Filling all poitwisewith NAN.\n",
      "WARNING!! Missing pointwise/cvar/0.01 in run n6760v1d on sweep <Sweep alelab/Autoformer/c98pmx9o (FINISHED)>. Filling all poitwisewith NAN.\n",
      "WARNING!! Missing pointwise/cvar/0.01 in run imo7spva on sweep <Sweep alelab/Autoformer/c98pmx9o (FINISHED)>. Filling all poitwisewith NAN.\n"
     ]
    },
    {
     "name": "stderr",
     "output_type": "stream",
     "text": [
      "  6%|▌         | 25/420 [00:00<00:06, 61.41it/s]"
     ]
    },
    {
     "name": "stdout",
     "output_type": "stream",
     "text": [
      "WARNING!! Missing pointwise/cvar/0.01 in run 95rb2uao on sweep <Sweep alelab/Autoformer/lw8hytse (FINISHED)>. Filling all poitwisewith NAN.\n",
      "WARNING!! Missing pointwise/cvar/0.01 in run lq436idj on sweep <Sweep alelab/Autoformer/lw8hytse (FINISHED)>. Filling all poitwisewith NAN.\n",
      "WARNING!! Missing pointwise/cvar/0.01 in run k6an08c2 on sweep <Sweep alelab/Autoformer/lw8hytse (FINISHED)>. Filling all poitwisewith NAN.\n",
      "WARNING!! Missing pointwise/cvar/0.01 in run ak4v8l4i on sweep <Sweep alelab/Autoformer/mvb7tewo (FINISHED)>. Filling all poitwisewith NAN.\n",
      "WARNING!! Missing pointwise/cvar/0.01 in run 2trtmqbq on sweep <Sweep alelab/Autoformer/mvb7tewo (FINISHED)>. Filling all poitwisewith NAN.\n",
      "WARNING!! Missing pointwise/cvar/0.01 in run 2j67ks1s on sweep <Sweep alelab/Autoformer/mvb7tewo (FINISHED)>. Filling all poitwisewith NAN.\n",
      "WARNING!! Missing pointwise/cvar/0.01 in run baf1ey3c on sweep <Sweep alelab/Autoformer/h1lddc0c (FINISHED)>. Filling all poitwisewith NAN.\n",
      "WARNING!! Missing pointwise/cvar/0.01 in run 6tmyt8u7 on sweep <Sweep alelab/Autoformer/h1lddc0c (FINISHED)>. Filling all poitwisewith NAN.\n",
      "WARNING!! Missing pointwise/cvar/0.01 in run d3iw8yfo on sweep <Sweep alelab/Autoformer/h1lddc0c (FINISHED)>. Filling all poitwisewith NAN.\n",
      "WARNING!! Missing pointwise/cvar/0.01 in run hj8hboj8 on sweep <Sweep alelab/Autoformer/dtudj1dv (FINISHED)>. Filling all poitwisewith NAN.\n",
      "WARNING!! Missing pointwise/cvar/0.01 in run 9ro3dd7d on sweep <Sweep alelab/Autoformer/dtudj1dv (FINISHED)>. Filling all poitwisewith NAN.\n",
      "WARNING!! Missing pointwise/cvar/0.01 in run 9w7iwo4w on sweep <Sweep alelab/Autoformer/dtudj1dv (FINISHED)>. Filling all poitwisewith NAN.\n",
      "WARNING!! Missing pointwise/cvar/0.01 in run v79u4l2i on sweep <Sweep alelab/Autoformer/wke61cfm (FINISHED)>. Filling all poitwisewith NAN.\n",
      "WARNING!! Missing pointwise/cvar/0.01 in run yjj82i4q on sweep <Sweep alelab/Autoformer/wke61cfm (FINISHED)>. Filling all poitwisewith NAN.\n"
     ]
    },
    {
     "name": "stderr",
     "output_type": "stream",
     "text": [
      "  8%|▊         | 32/420 [00:00<00:06, 63.25it/s]"
     ]
    },
    {
     "name": "stdout",
     "output_type": "stream",
     "text": [
      "WARNING!! Missing pointwise/cvar/0.01 in run knq105im on sweep <Sweep alelab/Autoformer/wke61cfm (FINISHED)>. Filling all poitwisewith NAN.\n",
      "WARNING!! Missing pointwise/cvar/0.01 in run fajehfpr on sweep <Sweep alelab/Autoformer/45cpl54h (FINISHED)>. Filling all poitwisewith NAN.\n",
      "WARNING!! Missing pointwise/cvar/0.01 in run ddpgftjy on sweep <Sweep alelab/Autoformer/45cpl54h (FINISHED)>. Filling all poitwisewith NAN.\n",
      "WARNING!! Missing pointwise/cvar/0.01 in run 8aj3ce7m on sweep <Sweep alelab/Autoformer/45cpl54h (FINISHED)>. Filling all poitwisewith NAN.\n",
      "WARNING!! Missing pointwise/cvar/0.01 in run pg8zy2b4 on sweep <Sweep alelab/Autoformer/4o9wcxbw (FINISHED)>. Filling all poitwisewith NAN.\n",
      "WARNING!! Missing pointwise/cvar/0.01 in run egprbr8k on sweep <Sweep alelab/Autoformer/4o9wcxbw (FINISHED)>. Filling all poitwisewith NAN.\n",
      "WARNING!! Missing pointwise/cvar/0.01 in run mohmvfzq on sweep <Sweep alelab/Autoformer/4o9wcxbw (FINISHED)>. Filling all poitwisewith NAN.\n",
      "WARNING!! Missing pointwise/cvar/0.01 in run av1ntywm on sweep <Sweep alelab/Autoformer/woz0d58q (FINISHED)>. Filling all poitwisewith NAN.\n",
      "WARNING!! Missing pointwise/cvar/0.01 in run u938vbl4 on sweep <Sweep alelab/Autoformer/woz0d58q (FINISHED)>. Filling all poitwisewith NAN.\n",
      "WARNING!! Missing pointwise/cvar/0.01 in run 1nfjuven on sweep <Sweep alelab/Autoformer/woz0d58q (FINISHED)>. Filling all poitwisewith NAN.\n",
      "WARNING!! Missing pointwise/cvar/0.01 in run hopoomuc on sweep <Sweep alelab/Autoformer/421ve0a6 (FINISHED)>. Filling all poitwisewith NAN.\n",
      "WARNING!! Missing pointwise/cvar/0.01 in run 5b4a1n68 on sweep <Sweep alelab/Autoformer/421ve0a6 (FINISHED)>. Filling all poitwisewith NAN.\n"
     ]
    },
    {
     "name": "stderr",
     "output_type": "stream",
     "text": [
      " 11%|█         | 45/420 [00:00<00:07, 51.21it/s]"
     ]
    },
    {
     "name": "stdout",
     "output_type": "stream",
     "text": [
      "WARNING!! Missing pointwise/cvar/0.01 in run 1p8esyn6 on sweep <Sweep alelab/Autoformer/421ve0a6 (FINISHED)>. Filling all poitwisewith NAN.\n",
      "WARNING!! Missing pointwise/cvar/0.01 in run rt4ku3bu on sweep <Sweep alelab/Autoformer/ke0yovkk (FINISHED)>. Filling all poitwisewith NAN.\n",
      "WARNING!! Missing pointwise/cvar/0.01 in run yty83w2l on sweep <Sweep alelab/Autoformer/ke0yovkk (FINISHED)>. Filling all poitwisewith NAN.\n",
      "WARNING!! Missing pointwise/cvar/0.01 in run gplk3w17 on sweep <Sweep alelab/Autoformer/ke0yovkk (FINISHED)>. Filling all poitwisewith NAN.\n",
      "WARNING!! Missing pointwise/cvar/0.01 in run 7knw1cfu on sweep <Sweep alelab/Autoformer/7xixlosr (FINISHED)>. Filling all poitwisewith NAN.\n",
      "WARNING!! Missing pointwise/cvar/0.01 in run bywn8d18 on sweep <Sweep alelab/Autoformer/7xixlosr (FINISHED)>. Filling all poitwisewith NAN.\n",
      "WARNING!! Missing pointwise/cvar/0.01 in run y45mvqqh on sweep <Sweep alelab/Autoformer/7xixlosr (FINISHED)>. Filling all poitwisewith NAN.\n",
      "WARNING!! Missing pointwise/cvar/0.01 in run 185s4fbh on sweep <Sweep alelab/Autoformer/33hizgtz (FINISHED)>. Filling all poitwisewith NAN.\n",
      "WARNING!! Missing pointwise/cvar/0.01 in run nuvovwgl on sweep <Sweep alelab/Autoformer/33hizgtz (FINISHED)>. Filling all poitwisewith NAN.\n",
      "WARNING!! Missing pointwise/cvar/0.01 in run u1vpnpxj on sweep <Sweep alelab/Autoformer/33hizgtz (FINISHED)>. Filling all poitwisewith NAN.\n",
      "WARNING!! Missing pointwise/cvar/0.01 in run u2d9pltq on sweep <Sweep alelab/Autoformer/xqsiahl1 (FINISHED)>. Filling all poitwisewith NAN.\n",
      "WARNING!! Missing pointwise/cvar/0.01 in run icblo1l7 on sweep <Sweep alelab/Autoformer/xqsiahl1 (FINISHED)>. Filling all poitwisewith NAN.\n"
     ]
    },
    {
     "name": "stderr",
     "output_type": "stream",
     "text": [
      " 13%|█▎        | 55/420 [00:25<05:47,  1.05it/s]"
     ]
    },
    {
     "name": "stdout",
     "output_type": "stream",
     "text": [
      "WARNING!! Missing pointwise/cvar/0.01 in run uebge8n9 on sweep <Sweep alelab/Autoformer/xqsiahl1 (FINISHED)>. Filling all poitwisewith NAN.\n",
      "WARNING!! Missing pointwise/cvar/0.01 in run 7qs43u90 on sweep <Sweep alelab/Autoformer/czykzsyd (FINISHED)>. Filling all poitwisewith NAN.\n",
      "WARNING!! Missing pointwise/cvar/0.01 in run t1baeau7 on sweep <Sweep alelab/Autoformer/czykzsyd (FINISHED)>. Filling all poitwisewith NAN.\n",
      "WARNING!! Missing pointwise/cvar/0.01 in run 8we1c45b on sweep <Sweep alelab/Autoformer/czykzsyd (FINISHED)>. Filling all poitwisewith NAN.\n",
      "WARNING!! Missing pointwise/cvar/0.01 in run wg86owjs on sweep <Sweep alelab/Autoformer/gt5m29aq (FINISHED)>. Filling all poitwisewith NAN.\n",
      "WARNING!! Missing pointwise/cvar/0.01 in run i0ztk59s on sweep <Sweep alelab/Autoformer/gt5m29aq (FINISHED)>. Filling all poitwisewith NAN.\n",
      "WARNING!! Missing pointwise/cvar/0.01 in run o7wnxjl9 on sweep <Sweep alelab/Autoformer/gt5m29aq (FINISHED)>. Filling all poitwisewith NAN.\n",
      "WARNING!! Missing pointwise/cvar/0.01 in run lvqo5ar9 on sweep <Sweep alelab/Autoformer/42ehf6du (FINISHED)>. Filling all poitwisewith NAN.\n"
     ]
    },
    {
     "name": "stderr",
     "output_type": "stream",
     "text": [
      " 15%|█▍        | 61/420 [00:25<03:54,  1.53it/s]"
     ]
    },
    {
     "name": "stdout",
     "output_type": "stream",
     "text": [
      "WARNING!! Missing pointwise/cvar/0.01 in run k7k53q4a on sweep <Sweep alelab/Autoformer/42ehf6du (FINISHED)>. Filling all poitwisewith NAN.\n",
      "WARNING!! Missing pointwise/cvar/0.01 in run kroymet5 on sweep <Sweep alelab/Autoformer/42ehf6du (FINISHED)>. Filling all poitwisewith NAN.\n",
      "WARNING!! Missing pointwise/cvar/0.01 in run 5nq13u74 on sweep <Sweep alelab/Autoformer/ks7npoto (FINISHED)>. Filling all poitwisewith NAN.\n",
      "WARNING!! Missing pointwise/cvar/0.01 in run ojioxus8 on sweep <Sweep alelab/Autoformer/ks7npoto (FINISHED)>. Filling all poitwisewith NAN.\n",
      "WARNING!! Missing pointwise/cvar/0.01 in run legovtsx on sweep <Sweep alelab/Autoformer/ks7npoto (FINISHED)>. Filling all poitwisewith NAN.\n",
      "WARNING!! Missing pointwise/cvar/0.01 in run 2iqas5v5 on sweep <Sweep alelab/Autoformer/i2p580ze (FINISHED)>. Filling all poitwisewith NAN.\n",
      "WARNING!! Missing pointwise/cvar/0.01 in run 8nj7e3jc on sweep <Sweep alelab/Autoformer/i2p580ze (FINISHED)>. Filling all poitwisewith NAN.\n",
      "WARNING!! Missing pointwise/cvar/0.01 in run 36w2uct7 on sweep <Sweep alelab/Autoformer/i2p580ze (FINISHED)>. Filling all poitwisewith NAN.\n"
     ]
    },
    {
     "name": "stderr",
     "output_type": "stream",
     "text": [
      " 17%|█▋        | 72/420 [00:25<01:55,  3.02it/s]"
     ]
    },
    {
     "name": "stdout",
     "output_type": "stream",
     "text": [
      "WARNING!! Missing pointwise/cvar/0.01 in run gz2hd7a1 on sweep <Sweep alelab/Autoformer/79tz1afs (FINISHED)>. Filling all poitwisewith NAN.\n",
      "WARNING!! Missing pointwise/cvar/0.01 in run ixo5cqgz on sweep <Sweep alelab/Autoformer/79tz1afs (FINISHED)>. Filling all poitwisewith NAN.\n",
      "WARNING!! Missing pointwise/cvar/0.01 in run 404krntp on sweep <Sweep alelab/Autoformer/79tz1afs (FINISHED)>. Filling all poitwisewith NAN.\n",
      "WARNING!! Missing pointwise/cvar/0.01 in run 1guqzqna on sweep <Sweep alelab/Autoformer/wljpqhs8 (FINISHED)>. Filling all poitwisewith NAN.\n",
      "WARNING!! Missing pointwise/cvar/0.01 in run vhqxn9hx on sweep <Sweep alelab/Autoformer/wljpqhs8 (FINISHED)>. Filling all poitwisewith NAN.\n",
      "WARNING!! Missing pointwise/cvar/0.01 in run b28c3dbl on sweep <Sweep alelab/Autoformer/wljpqhs8 (FINISHED)>. Filling all poitwisewith NAN.\n",
      "WARNING!! Missing pointwise/cvar/0.01 in run rwunyzc8 on sweep <Sweep alelab/Autoformer/337s3kdo (FINISHED)>. Filling all poitwisewith NAN.\n",
      "WARNING!! Missing pointwise/cvar/0.01 in run rz04aun2 on sweep <Sweep alelab/Autoformer/337s3kdo (FINISHED)>. Filling all poitwisewith NAN.\n",
      "WARNING!! Missing pointwise/cvar/0.01 in run tq5abn0c on sweep <Sweep alelab/Autoformer/337s3kdo (FINISHED)>. Filling all poitwisewith NAN.\n",
      "WARNING!! Missing pointwise/cvar/0.01 in run f5xkng5h on sweep <Sweep alelab/Autoformer/etotj3wt (FINISHED)>. Filling all poitwisewith NAN.\n"
     ]
    },
    {
     "name": "stderr",
     "output_type": "stream",
     "text": [
      " 20%|█▉        | 82/420 [00:25<01:01,  5.45it/s]"
     ]
    },
    {
     "name": "stdout",
     "output_type": "stream",
     "text": [
      "WARNING!! Missing pointwise/cvar/0.01 in run luf7zzie on sweep <Sweep alelab/Autoformer/etotj3wt (FINISHED)>. Filling all poitwisewith NAN.\n",
      "WARNING!! Missing pointwise/cvar/0.01 in run vnwz2zu3 on sweep <Sweep alelab/Autoformer/etotj3wt (FINISHED)>. Filling all poitwisewith NAN.\n",
      "WARNING!! Missing pointwise/cvar/0.01 in run ukkln2ow on sweep <Sweep alelab/Autoformer/ox9cbikm (FINISHED)>. Filling all poitwisewith NAN.\n",
      "WARNING!! Missing pointwise/cvar/0.01 in run bq84g9if on sweep <Sweep alelab/Autoformer/ox9cbikm (FINISHED)>. Filling all poitwisewith NAN.\n",
      "WARNING!! Missing pointwise/cvar/0.01 in run f92ncq6a on sweep <Sweep alelab/Autoformer/ox9cbikm (FINISHED)>. Filling all poitwisewith NAN.\n",
      "WARNING!! Missing pointwise/cvar/0.01 in run hhcuq4ie on sweep <Sweep alelab/Autoformer/546un3gm (FINISHED)>. Filling all poitwisewith NAN.\n",
      "WARNING!! Missing pointwise/cvar/0.01 in run 2q7lfu0d on sweep <Sweep alelab/Autoformer/546un3gm (FINISHED)>. Filling all poitwisewith NAN.\n",
      "WARNING!! Missing pointwise/cvar/0.01 in run 42lbnyrv on sweep <Sweep alelab/Autoformer/546un3gm (FINISHED)>. Filling all poitwisewith NAN.\n",
      "WARNING!! Missing pointwise/cvar/0.01 in run a3ra7pxe on sweep <Sweep alelab/Autoformer/f3g6aj8s (FINISHED)>. Filling all poitwisewith NAN.\n",
      "WARNING!! Missing pointwise/cvar/0.01 in run uggddl30 on sweep <Sweep alelab/Autoformer/f3g6aj8s (FINISHED)>. Filling all poitwisewith NAN.\n"
     ]
    },
    {
     "name": "stderr",
     "output_type": "stream",
     "text": [
      " 22%|██▏       | 92/420 [00:25<00:34,  9.52it/s]"
     ]
    },
    {
     "name": "stdout",
     "output_type": "stream",
     "text": [
      "WARNING!! Missing pointwise/cvar/0.01 in run qzo90lfp on sweep <Sweep alelab/Autoformer/f3g6aj8s (FINISHED)>. Filling all poitwisewith NAN.\n",
      "WARNING!! Missing pointwise/cvar/0.01 in run iud9x1r5 on sweep <Sweep alelab/Autoformer/smknlu6z (FINISHED)>. Filling all poitwisewith NAN.\n",
      "WARNING!! Missing pointwise/cvar/0.01 in run ypnkn39r on sweep <Sweep alelab/Autoformer/smknlu6z (FINISHED)>. Filling all poitwisewith NAN.\n",
      "WARNING!! Missing pointwise/cvar/0.01 in run j6zrolg9 on sweep <Sweep alelab/Autoformer/smknlu6z (FINISHED)>. Filling all poitwisewith NAN.\n",
      "WARNING!! Missing pointwise/cvar/0.01 in run g6eh1091 on sweep <Sweep alelab/Autoformer/mp84yrqr (FINISHED)>. Filling all poitwisewith NAN.\n",
      "WARNING!! Missing pointwise/cvar/0.01 in run fil1a9wq on sweep <Sweep alelab/Autoformer/mp84yrqr (FINISHED)>. Filling all poitwisewith NAN.\n",
      "WARNING!! Missing pointwise/cvar/0.01 in run 9umaiybd on sweep <Sweep alelab/Autoformer/mp84yrqr (FINISHED)>. Filling all poitwisewith NAN.\n",
      "WARNING!! Missing pointwise/cvar/0.01 in run hxiizlaa on sweep <Sweep alelab/Autoformer/j1hpbmp3 (FINISHED)>. Filling all poitwisewith NAN.\n",
      "WARNING!! Missing pointwise/cvar/0.01 in run t9gr19af on sweep <Sweep alelab/Autoformer/j1hpbmp3 (FINISHED)>. Filling all poitwisewith NAN.\n",
      "WARNING!! Missing pointwise/cvar/0.01 in run 5k6cedbn on sweep <Sweep alelab/Autoformer/j1hpbmp3 (FINISHED)>. Filling all poitwisewith NAN.\n"
     ]
    },
    {
     "name": "stderr",
     "output_type": "stream",
     "text": [
      " 23%|██▎       | 97/420 [00:26<00:25, 12.46it/s]"
     ]
    },
    {
     "name": "stdout",
     "output_type": "stream",
     "text": [
      "WARNING!! Missing pointwise/cvar/0.01 in run xxl0sot9 on sweep <Sweep alelab/Autoformer/qf7yoyjr (FINISHED)>. Filling all poitwisewith NAN.\n",
      "WARNING!! Missing pointwise/cvar/0.01 in run 458m2gbf on sweep <Sweep alelab/Autoformer/qf7yoyjr (FINISHED)>. Filling all poitwisewith NAN.\n",
      "WARNING!! Missing pointwise/cvar/0.01 in run 2yi4s3oj on sweep <Sweep alelab/Autoformer/qf7yoyjr (FINISHED)>. Filling all poitwisewith NAN.\n",
      "WARNING!! Missing pointwise/cvar/0.01 in run ydmujlk2 on sweep <Sweep alelab/Autoformer/gew3zfp5 (FINISHED)>. Filling all poitwisewith NAN.\n"
     ]
    },
    {
     "name": "stderr",
     "output_type": "stream",
     "text": [
      " 25%|██▌       | 106/420 [00:38<03:06,  1.69it/s]"
     ]
    },
    {
     "name": "stdout",
     "output_type": "stream",
     "text": [
      "WARNING!! Missing pointwise/cvar/0.01 in run tw9f1htj on sweep <Sweep alelab/Autoformer/gew3zfp5 (FINISHED)>. Filling all poitwisewith NAN.\n",
      "WARNING!! Missing pointwise/cvar/0.01 in run ydxl6zzo on sweep <Sweep alelab/Autoformer/gew3zfp5 (FINISHED)>. Filling all poitwisewith NAN.\n",
      "WARNING!! Missing pointwise/cvar/0.01 in run 542h2kvq on sweep <Sweep alelab/Autoformer/g9a98ju6 (FINISHED)>. Filling all poitwisewith NAN.\n",
      "WARNING!! Missing pointwise/cvar/0.01 in run leoc2tho on sweep <Sweep alelab/Autoformer/g9a98ju6 (FINISHED)>. Filling all poitwisewith NAN.\n",
      "WARNING!! Missing pointwise/cvar/0.01 in run xjzzheai on sweep <Sweep alelab/Autoformer/g9a98ju6 (FINISHED)>. Filling all poitwisewith NAN.\n",
      "WARNING!! Missing pointwise/cvar/0.01 in run rk2g5250 on sweep <Sweep alelab/Autoformer/li1a13dd (FINISHED)>. Filling all poitwisewith NAN.\n",
      "WARNING!! Missing pointwise/cvar/0.01 in run 592ejniy on sweep <Sweep alelab/Autoformer/li1a13dd (FINISHED)>. Filling all poitwisewith NAN.\n",
      "WARNING!! Missing pointwise/cvar/0.01 in run yez2rsk8 on sweep <Sweep alelab/Autoformer/li1a13dd (FINISHED)>. Filling all poitwisewith NAN.\n",
      "WARNING!! Missing pointwise/cvar/0.01 in run zvzpd69b on sweep <Sweep alelab/Autoformer/yosxdnf0 (FINISHED)>. Filling all poitwisewith NAN.\n"
     ]
    },
    {
     "name": "stderr",
     "output_type": "stream",
     "text": [
      " 28%|██▊       | 116/420 [00:38<01:30,  3.35it/s]"
     ]
    },
    {
     "name": "stdout",
     "output_type": "stream",
     "text": [
      "WARNING!! Missing pointwise/cvar/0.01 in run 7iimsbcx on sweep <Sweep alelab/Autoformer/yosxdnf0 (FINISHED)>. Filling all poitwisewith NAN.\n",
      "WARNING!! Missing pointwise/cvar/0.01 in run 3w7d929r on sweep <Sweep alelab/Autoformer/yosxdnf0 (FINISHED)>. Filling all poitwisewith NAN.\n",
      "WARNING!! Missing pointwise/cvar/0.01 in run 82kdzwtt on sweep <Sweep alelab/Autoformer/i28qgw4s (FINISHED)>. Filling all poitwisewith NAN.\n",
      "WARNING!! Missing pointwise/cvar/0.01 in run ovt3pblk on sweep <Sweep alelab/Autoformer/i28qgw4s (FINISHED)>. Filling all poitwisewith NAN.\n",
      "WARNING!! Missing pointwise/cvar/0.01 in run 23vvbhmp on sweep <Sweep alelab/Autoformer/i28qgw4s (FINISHED)>. Filling all poitwisewith NAN.\n",
      "WARNING!! Missing pointwise/cvar/0.01 in run ih7flexd on sweep <Sweep alelab/Autoformer/qic3hm6i (FINISHED)>. Filling all poitwisewith NAN.\n",
      "WARNING!! Missing pointwise/cvar/0.01 in run k2kvjeer on sweep <Sweep alelab/Autoformer/qic3hm6i (FINISHED)>. Filling all poitwisewith NAN.\n",
      "WARNING!! Missing pointwise/cvar/0.01 in run n9u76mpo on sweep <Sweep alelab/Autoformer/qic3hm6i (FINISHED)>. Filling all poitwisewith NAN.\n",
      "WARNING!! Missing pointwise/cvar/0.01 in run 9ib8wl3o on sweep <Sweep alelab/Autoformer/y97lk00a (FINISHED)>. Filling all poitwisewith NAN.\n",
      "WARNING!! Missing pointwise/cvar/0.01 in run eu10vpkk on sweep <Sweep alelab/Autoformer/y97lk00a (FINISHED)>. Filling all poitwisewith NAN.\n"
     ]
    },
    {
     "name": "stderr",
     "output_type": "stream",
     "text": [
      " 30%|███       | 126/420 [00:39<00:46,  6.32it/s]"
     ]
    },
    {
     "name": "stdout",
     "output_type": "stream",
     "text": [
      "WARNING!! Missing pointwise/cvar/0.01 in run fc0ssq9e on sweep <Sweep alelab/Autoformer/y97lk00a (FINISHED)>. Filling all poitwisewith NAN.\n",
      "WARNING!! Missing pointwise/cvar/0.01 in run 1zqx4vkj on sweep <Sweep alelab/Autoformer/tcxifv8q (FINISHED)>. Filling all poitwisewith NAN.\n",
      "WARNING!! Missing pointwise/cvar/0.01 in run 7pof7kau on sweep <Sweep alelab/Autoformer/tcxifv8q (FINISHED)>. Filling all poitwisewith NAN.\n",
      "WARNING!! Missing pointwise/cvar/0.01 in run zv8x7pwu on sweep <Sweep alelab/Autoformer/tcxifv8q (FINISHED)>. Filling all poitwisewith NAN.\n",
      "WARNING!! Missing pointwise/cvar/0.01 in run 1gu0lj6n on sweep <Sweep alelab/Autoformer/96r8wzhl (FINISHED)>. Filling all poitwisewith NAN.\n",
      "WARNING!! Missing pointwise/cvar/0.01 in run k951v7l1 on sweep <Sweep alelab/Autoformer/96r8wzhl (FINISHED)>. Filling all poitwisewith NAN.\n",
      "WARNING!! Missing pointwise/cvar/0.01 in run wsubmfqs on sweep <Sweep alelab/Autoformer/96r8wzhl (FINISHED)>. Filling all poitwisewith NAN.\n",
      "WARNING!! Missing pointwise/cvar/0.01 in run 5pk7eu9f on sweep <Sweep alelab/Autoformer/3m87a6q5 (FINISHED)>. Filling all poitwisewith NAN.\n"
     ]
    },
    {
     "name": "stderr",
     "output_type": "stream",
     "text": [
      " 31%|███▏      | 132/420 [00:39<00:31,  9.05it/s]"
     ]
    },
    {
     "name": "stdout",
     "output_type": "stream",
     "text": [
      "WARNING!! Missing pointwise/cvar/0.01 in run kka8ci88 on sweep <Sweep alelab/Autoformer/3m87a6q5 (FINISHED)>. Filling all poitwisewith NAN.\n",
      "WARNING!! Missing pointwise/cvar/0.01 in run h714yapy on sweep <Sweep alelab/Autoformer/3m87a6q5 (FINISHED)>. Filling all poitwisewith NAN.\n",
      "WARNING!! Missing pointwise/cvar/0.01 in run uf5b3cnm on sweep <Sweep alelab/Autoformer/y88fdwfc (FINISHED)>. Filling all poitwisewith NAN.\n",
      "WARNING!! Missing pointwise/cvar/0.01 in run deeemt13 on sweep <Sweep alelab/Autoformer/y88fdwfc (FINISHED)>. Filling all poitwisewith NAN.\n",
      "WARNING!! Missing pointwise/cvar/0.01 in run mmyk057y on sweep <Sweep alelab/Autoformer/y88fdwfc (FINISHED)>. Filling all poitwisewith NAN.\n",
      "WARNING!! Missing pointwise/cvar/0.01 in run m6lkttwr on sweep <Sweep alelab/Autoformer/zjqim9s2 (FINISHED)>. Filling all poitwisewith NAN.\n",
      "WARNING!! Missing pointwise/cvar/0.01 in run j8lp45ca on sweep <Sweep alelab/Autoformer/zjqim9s2 (FINISHED)>. Filling all poitwisewith NAN.\n",
      "WARNING!! Missing pointwise/cvar/0.01 in run ukiuuuqk on sweep <Sweep alelab/Autoformer/zjqim9s2 (FINISHED)>. Filling all poitwisewith NAN.\n",
      "WARNING!! Missing pointwise/cvar/0.01 in run 34chbznm on sweep <Sweep alelab/Autoformer/hgoyooq2 (FINISHED)>. Filling all poitwisewith NAN.\n",
      "WARNING!! Missing pointwise/cvar/0.01 in run txru03rt on sweep <Sweep alelab/Autoformer/hgoyooq2 (FINISHED)>. Filling all poitwisewith NAN.\n"
     ]
    },
    {
     "name": "stderr",
     "output_type": "stream",
     "text": [
      " 34%|███▍      | 143/420 [00:39<00:17, 15.40it/s]"
     ]
    },
    {
     "name": "stdout",
     "output_type": "stream",
     "text": [
      "WARNING!! Missing pointwise/cvar/0.01 in run 0v0y20yn on sweep <Sweep alelab/Autoformer/hgoyooq2 (FINISHED)>. Filling all poitwisewith NAN.\n",
      "WARNING!! Missing pointwise/cvar/0.01 in run 1nfd7pbf on sweep <Sweep alelab/Autoformer/f3rkb20w (FINISHED)>. Filling all poitwisewith NAN.\n",
      "WARNING!! Missing pointwise/cvar/0.01 in run 2udb1sb2 on sweep <Sweep alelab/Autoformer/f3rkb20w (FINISHED)>. Filling all poitwisewith NAN.\n",
      "WARNING!! Missing pointwise/cvar/0.01 in run omqcj2hn on sweep <Sweep alelab/Autoformer/f3rkb20w (FINISHED)>. Filling all poitwisewith NAN.\n",
      "WARNING!! Missing pointwise/cvar/0.01 in run 4an6bevw on sweep <Sweep alelab/Autoformer/sloqngeh (FINISHED)>. Filling all poitwisewith NAN.\n",
      "WARNING!! Missing pointwise/cvar/0.01 in run hwaah1tv on sweep <Sweep alelab/Autoformer/sloqngeh (FINISHED)>. Filling all poitwisewith NAN.\n",
      "WARNING!! Missing pointwise/cvar/0.01 in run kboc6we8 on sweep <Sweep alelab/Autoformer/sloqngeh (FINISHED)>. Filling all poitwisewith NAN.\n",
      "WARNING!! Missing pointwise/cvar/0.01 in run 2c630xmk on sweep <Sweep alelab/Autoformer/mh4quzt2 (FINISHED)>. Filling all poitwisewith NAN.\n",
      "WARNING!! Missing pointwise/cvar/0.01 in run mfgrfd1e on sweep <Sweep alelab/Autoformer/mh4quzt2 (FINISHED)>. Filling all poitwisewith NAN.\n",
      "WARNING!! Missing pointwise/cvar/0.01 in run kyqsmcft on sweep <Sweep alelab/Autoformer/mh4quzt2 (FINISHED)>. Filling all poitwisewith NAN.\n"
     ]
    },
    {
     "name": "stderr",
     "output_type": "stream",
     "text": [
      " 35%|███▌      | 148/420 [00:39<00:14, 18.23it/s]"
     ]
    },
    {
     "name": "stdout",
     "output_type": "stream",
     "text": [
      "WARNING!! Missing pointwise/cvar/0.01 in run av67bzlr on sweep <Sweep alelab/Autoformer/psu8ikin (FINISHED)>. Filling all poitwisewith NAN.\n",
      "WARNING!! Missing pointwise/cvar/0.01 in run ugzgcckv on sweep <Sweep alelab/Autoformer/psu8ikin (FINISHED)>. Filling all poitwisewith NAN.\n",
      "WARNING!! Missing pointwise/cvar/0.01 in run qggcxe8c on sweep <Sweep alelab/Autoformer/psu8ikin (FINISHED)>. Filling all poitwisewith NAN.\n"
     ]
    },
    {
     "name": "stderr",
     "output_type": "stream",
     "text": [
      " 38%|███▊      | 158/420 [00:47<01:33,  2.82it/s]"
     ]
    },
    {
     "name": "stdout",
     "output_type": "stream",
     "text": [
      "WARNING!! Missing pointwise/cvar/0.01 in run 4dznhmgk on sweep <Sweep alelab/Autoformer/iz2itgzb (FINISHED)>. Filling all poitwisewith NAN.\n",
      "WARNING!! Missing pointwise/cvar/0.01 in run 3inq3m4p on sweep <Sweep alelab/Autoformer/iz2itgzb (FINISHED)>. Filling all poitwisewith NAN.\n",
      "WARNING!! Missing pointwise/cvar/0.01 in run q87b2ofx on sweep <Sweep alelab/Autoformer/iz2itgzb (FINISHED)>. Filling all poitwisewith NAN.\n",
      "WARNING!! Missing pointwise/cvar/0.01 in run 8c5uhsqz on sweep <Sweep alelab/Autoformer/irtd421b (FINISHED)>. Filling all poitwisewith NAN.\n",
      "WARNING!! Missing pointwise/cvar/0.01 in run alkt52u6 on sweep <Sweep alelab/Autoformer/irtd421b (FINISHED)>. Filling all poitwisewith NAN.\n",
      "WARNING!! Missing pointwise/cvar/0.01 in run t8k9euzp on sweep <Sweep alelab/Autoformer/irtd421b (FINISHED)>. Filling all poitwisewith NAN.\n",
      "WARNING!! Missing pointwise/cvar/0.01 in run m3911g6p on sweep <Sweep alelab/Autoformer/j74ictjv (FINISHED)>. Filling all poitwisewith NAN.\n",
      "WARNING!! Missing pointwise/cvar/0.01 in run if907e73 on sweep <Sweep alelab/Autoformer/j74ictjv (FINISHED)>. Filling all poitwisewith NAN.\n",
      "WARNING!! Missing pointwise/cvar/0.01 in run qipdzx5y on sweep <Sweep alelab/Autoformer/j74ictjv (FINISHED)>. Filling all poitwisewith NAN.\n"
     ]
    },
    {
     "name": "stderr",
     "output_type": "stream",
     "text": [
      " 40%|████      | 168/420 [00:47<00:46,  5.43it/s]"
     ]
    },
    {
     "name": "stdout",
     "output_type": "stream",
     "text": [
      "WARNING!! Missing pointwise/cvar/0.01 in run 3ih0wxp7 on sweep <Sweep alelab/Autoformer/7cre6m4v (FINISHED)>. Filling all poitwisewith NAN.\n",
      "WARNING!! Missing pointwise/cvar/0.01 in run ey96zzv7 on sweep <Sweep alelab/Autoformer/7cre6m4v (FINISHED)>. Filling all poitwisewith NAN.\n",
      "WARNING!! Missing pointwise/cvar/0.01 in run rdhypywj on sweep <Sweep alelab/Autoformer/7cre6m4v (FINISHED)>. Filling all poitwisewith NAN.\n",
      "WARNING!! Missing pointwise/cvar/0.01 in run hkvvtoyd on sweep <Sweep alelab/Autoformer/bs0ob2rb (FINISHED)>. Filling all poitwisewith NAN.\n",
      "WARNING!! Missing pointwise/cvar/0.01 in run piv7jwdh on sweep <Sweep alelab/Autoformer/bs0ob2rb (FINISHED)>. Filling all poitwisewith NAN.\n",
      "WARNING!! Missing pointwise/cvar/0.01 in run cr3vozbq on sweep <Sweep alelab/Autoformer/bs0ob2rb (FINISHED)>. Filling all poitwisewith NAN.\n",
      "WARNING!! Missing pointwise/cvar/0.01 in run gzj22j40 on sweep <Sweep alelab/Autoformer/afyvsgk7 (FINISHED)>. Filling all poitwisewith NAN.\n",
      "WARNING!! Missing pointwise/cvar/0.01 in run puiqae7l on sweep <Sweep alelab/Autoformer/afyvsgk7 (FINISHED)>. Filling all poitwisewith NAN.\n",
      "WARNING!! Missing pointwise/cvar/0.01 in run g7amvr1p on sweep <Sweep alelab/Autoformer/afyvsgk7 (FINISHED)>. Filling all poitwisewith NAN.\n",
      "WARNING!! Missing pointwise/cvar/0.01 in run ek8llr5w on sweep <Sweep alelab/Autoformer/qo8d8bk6 (FINISHED)>. Filling all poitwisewith NAN.\n"
     ]
    },
    {
     "name": "stderr",
     "output_type": "stream",
     "text": [
      " 41%|████      | 173/420 [00:48<00:34,  7.18it/s]"
     ]
    },
    {
     "name": "stdout",
     "output_type": "stream",
     "text": [
      "WARNING!! Missing pointwise/cvar/0.01 in run 9e3bemaa on sweep <Sweep alelab/Autoformer/qo8d8bk6 (FINISHED)>. Filling all poitwisewith NAN.\n",
      "WARNING!! Missing pointwise/cvar/0.01 in run yjdpgpk1 on sweep <Sweep alelab/Autoformer/qo8d8bk6 (FINISHED)>. Filling all poitwisewith NAN.\n",
      "WARNING!! Missing pointwise/cvar/0.01 in run 5pji0f69 on sweep <Sweep alelab/Autoformer/d2j9u0dq (FINISHED)>. Filling all poitwisewith NAN.\n",
      "WARNING!! Missing pointwise/cvar/0.01 in run 6eoxft93 on sweep <Sweep alelab/Autoformer/d2j9u0dq (FINISHED)>. Filling all poitwisewith NAN.\n",
      "WARNING!! Missing pointwise/cvar/0.01 in run d6xb1o7k on sweep <Sweep alelab/Autoformer/d2j9u0dq (FINISHED)>. Filling all poitwisewith NAN.\n",
      "WARNING!! Missing pointwise/cvar/0.01 in run wnipxqf0 on sweep <Sweep alelab/Autoformer/g1hr7vz6 (FINISHED)>. Filling all poitwisewith NAN.\n",
      "WARNING!! Missing pointwise/cvar/0.01 in run nh60hlgw on sweep <Sweep alelab/Autoformer/g1hr7vz6 (FINISHED)>. Filling all poitwisewith NAN.\n",
      "WARNING!! Missing pointwise/cvar/0.01 in run 3zwnnh9b on sweep <Sweep alelab/Autoformer/g1hr7vz6 (FINISHED)>. Filling all poitwisewith NAN.\n",
      "WARNING!! Missing pointwise/cvar/0.01 in run hj3e4iza on sweep <Sweep alelab/Autoformer/zrkhjvnz (FINISHED)>. Filling all poitwisewith NAN.\n"
     ]
    },
    {
     "name": "stderr",
     "output_type": "stream",
     "text": [
      " 44%|████▍     | 186/420 [00:48<00:16, 14.45it/s]"
     ]
    },
    {
     "name": "stdout",
     "output_type": "stream",
     "text": [
      "WARNING!! Missing pointwise/cvar/0.01 in run 9zaehnhq on sweep <Sweep alelab/Autoformer/zrkhjvnz (FINISHED)>. Filling all poitwisewith NAN.\n",
      "WARNING!! Missing pointwise/cvar/0.01 in run 9a9z3nzz on sweep <Sweep alelab/Autoformer/zrkhjvnz (FINISHED)>. Filling all poitwisewith NAN.\n",
      "WARNING!! Missing pointwise/cvar/0.01 in run 1yibq2wp on sweep <Sweep alelab/Autoformer/ng5s8ffd (FINISHED)>. Filling all poitwisewith NAN.\n",
      "WARNING!! Missing pointwise/cvar/0.01 in run uk93gg4c on sweep <Sweep alelab/Autoformer/ng5s8ffd (FINISHED)>. Filling all poitwisewith NAN.\n",
      "WARNING!! Missing pointwise/cvar/0.01 in run bfaaqcnn on sweep <Sweep alelab/Autoformer/ng5s8ffd (FINISHED)>. Filling all poitwisewith NAN.\n",
      "WARNING!! Missing pointwise/cvar/0.01 in run ss3lr3b1 on sweep <Sweep alelab/Autoformer/4igunqqh (FINISHED)>. Filling all poitwisewith NAN.\n",
      "WARNING!! Missing pointwise/cvar/0.01 in run e3mqgp4q on sweep <Sweep alelab/Autoformer/4igunqqh (FINISHED)>. Filling all poitwisewith NAN.\n",
      "WARNING!! Missing pointwise/cvar/0.01 in run xrz67o55 on sweep <Sweep alelab/Autoformer/4igunqqh (FINISHED)>. Filling all poitwisewith NAN.\n",
      "WARNING!! Missing pointwise/cvar/0.01 in run 9rnfr9sh on sweep <Sweep alelab/Autoformer/zl8axpsm (FINISHED)>. Filling all poitwisewith NAN.\n",
      "WARNING!! Missing pointwise/cvar/0.01 in run etu7pcs3 on sweep <Sweep alelab/Autoformer/zl8axpsm (FINISHED)>. Filling all poitwisewith NAN.\n",
      "WARNING!! Missing pointwise/cvar/0.01 in run z4muthy8 on sweep <Sweep alelab/Autoformer/zl8axpsm (FINISHED)>. Filling all poitwisewith NAN.\n",
      "WARNING!! Missing pointwise/cvar/0.01 in run 8c4cbj1a on sweep <Sweep alelab/Autoformer/urqclcpe (FINISHED)>. Filling all poitwisewith NAN.\n",
      "WARNING!! Missing pointwise/cvar/0.01 in run hjyo8wzk on sweep <Sweep alelab/Autoformer/urqclcpe (FINISHED)>. Filling all poitwisewith NAN.\n",
      "WARNING!! Missing pointwise/cvar/0.01 in run 5ahm83xn on sweep <Sweep alelab/Autoformer/urqclcpe (FINISHED)>. Filling all poitwisewith NAN.\n"
     ]
    },
    {
     "name": "stderr",
     "output_type": "stream",
     "text": [
      " 48%|████▊     | 200/420 [00:48<00:08, 25.54it/s]"
     ]
    },
    {
     "name": "stdout",
     "output_type": "stream",
     "text": [
      "WARNING!! Missing pointwise/cvar/0.01 in run d79aj1h8 on sweep <Sweep alelab/Autoformer/g4t7zfhh (FINISHED)>. Filling all poitwisewith NAN.\n",
      "WARNING!! Missing pointwise/cvar/0.01 in run oliagh5a on sweep <Sweep alelab/Autoformer/g4t7zfhh (FINISHED)>. Filling all poitwisewith NAN.\n",
      "WARNING!! Missing pointwise/cvar/0.01 in run b5hunvvs on sweep <Sweep alelab/Autoformer/g4t7zfhh (FINISHED)>. Filling all poitwisewith NAN.\n",
      "WARNING!! Missing pointwise/cvar/0.01 in run 3egxx7lk on sweep <Sweep alelab/Autoformer/jz557xzu (FINISHED)>. Filling all poitwisewith NAN.\n",
      "WARNING!! Missing pointwise/cvar/0.01 in run lrf44j1k on sweep <Sweep alelab/Autoformer/jz557xzu (FINISHED)>. Filling all poitwisewith NAN.\n",
      "WARNING!! Missing pointwise/cvar/0.01 in run mphn5asa on sweep <Sweep alelab/Autoformer/jz557xzu (FINISHED)>. Filling all poitwisewith NAN.\n",
      "WARNING!! Missing pointwise/cvar/0.01 in run zd994lzz on sweep <Sweep alelab/Autoformer/5vykpvf8 (FINISHED)>. Filling all poitwisewith NAN.\n",
      "WARNING!! Missing pointwise/cvar/0.01 in run jvd6dht7 on sweep <Sweep alelab/Autoformer/5vykpvf8 (FINISHED)>. Filling all poitwisewith NAN.\n"
     ]
    },
    {
     "name": "stderr",
     "output_type": "stream",
     "text": [
      " 49%|████▉     | 207/420 [01:08<02:54,  1.22it/s]"
     ]
    },
    {
     "name": "stdout",
     "output_type": "stream",
     "text": [
      "WARNING!! Missing pointwise/cvar/0.01 in run 81h493ow on sweep <Sweep alelab/Autoformer/5vykpvf8 (FINISHED)>. Filling all poitwisewith NAN.\n",
      "WARNING!! Missing pointwise/cvar/0.01 in run 9hf1v386 on sweep <Sweep alelab/Autoformer/zf85q5wm (FINISHED)>. Filling all poitwisewith NAN.\n",
      "WARNING!! Missing pointwise/cvar/0.01 in run 8g35k5xj on sweep <Sweep alelab/Autoformer/zf85q5wm (FINISHED)>. Filling all poitwisewith NAN.\n",
      "WARNING!! Missing pointwise/cvar/0.01 in run bkds7ig9 on sweep <Sweep alelab/Autoformer/zf85q5wm (FINISHED)>. Filling all poitwisewith NAN.\n",
      "WARNING!! Missing pointwise/cvar/0.01 in run tuvcyi83 on sweep <Sweep alelab/Autoformer/o5oqtkpz (FINISHED)>. Filling all poitwisewith NAN.\n",
      "WARNING!! Missing pointwise/cvar/0.01 in run jjx4zrfd on sweep <Sweep alelab/Autoformer/o5oqtkpz (FINISHED)>. Filling all poitwisewith NAN.\n",
      "WARNING!! Missing pointwise/cvar/0.01 in run msn44ivc on sweep <Sweep alelab/Autoformer/o5oqtkpz (FINISHED)>. Filling all poitwisewith NAN.\n",
      "WARNING!! Missing pointwise/cvar/0.01 in run 87qrdusy on sweep <Sweep alelab/Autoformer/myqt19z3 (FINISHED)>. Filling all poitwisewith NAN.\n",
      "WARNING!! Missing pointwise/cvar/0.01 in run 9ov1fvnj on sweep <Sweep alelab/Autoformer/myqt19z3 (FINISHED)>. Filling all poitwisewith NAN.\n",
      "WARNING!! Missing pointwise/cvar/0.01 in run 9zg4m58n on sweep <Sweep alelab/Autoformer/myqt19z3 (FINISHED)>. Filling all poitwisewith NAN.\n",
      "WARNING!! Missing pointwise/cvar/0.01 in run ku9180r1 on sweep <Sweep alelab/Autoformer/fe53qfl7 (FINISHED)>. Filling all poitwisewith NAN.\n",
      "WARNING!! Missing pointwise/cvar/0.01 in run 7swvt1ca on sweep <Sweep alelab/Autoformer/fe53qfl7 (FINISHED)>. Filling all poitwisewith NAN.\n"
     ]
    },
    {
     "name": "stderr",
     "output_type": "stream",
     "text": [
      " 52%|█████▏    | 220/420 [01:08<01:13,  2.71it/s]"
     ]
    },
    {
     "name": "stdout",
     "output_type": "stream",
     "text": [
      "WARNING!! Missing pointwise/cvar/0.01 in run 965fjf6i on sweep <Sweep alelab/Autoformer/fe53qfl7 (FINISHED)>. Filling all poitwisewith NAN.\n",
      "WARNING!! Missing pointwise/cvar/0.01 in run 6h8wbgmf on sweep <Sweep alelab/Autoformer/2uaxqd8p (FINISHED)>. Filling all poitwisewith NAN.\n",
      "WARNING!! Missing pointwise/cvar/0.01 in run h44kq3mv on sweep <Sweep alelab/Autoformer/2uaxqd8p (FINISHED)>. Filling all poitwisewith NAN.\n",
      "WARNING!! Missing pointwise/cvar/0.01 in run m676hfyb on sweep <Sweep alelab/Autoformer/2uaxqd8p (FINISHED)>. Filling all poitwisewith NAN.\n",
      "WARNING!! Missing pointwise/cvar/0.01 in run 8adpim9f on sweep <Sweep alelab/Autoformer/cwb18lz5 (FINISHED)>. Filling all poitwisewith NAN.\n",
      "WARNING!! Missing pointwise/cvar/0.01 in run v2pn04ff on sweep <Sweep alelab/Autoformer/cwb18lz5 (FINISHED)>. Filling all poitwisewith NAN.\n",
      "WARNING!! Missing pointwise/cvar/0.01 in run 9fj5q1qz on sweep <Sweep alelab/Autoformer/cwb18lz5 (FINISHED)>. Filling all poitwisewith NAN.\n",
      "WARNING!! Missing pointwise/cvar/0.01 in run r9txvs48 on sweep <Sweep alelab/Autoformer/fdrzjt29 (FINISHED)>. Filling all poitwisewith NAN.\n",
      "WARNING!! Missing pointwise/cvar/0.01 in run k6y4l3v1 on sweep <Sweep alelab/Autoformer/fdrzjt29 (FINISHED)>. Filling all poitwisewith NAN.\n"
     ]
    },
    {
     "name": "stderr",
     "output_type": "stream",
     "text": [
      " 54%|█████▍    | 226/420 [01:08<00:50,  3.81it/s]"
     ]
    },
    {
     "name": "stdout",
     "output_type": "stream",
     "text": [
      "WARNING!! Missing pointwise/cvar/0.01 in run zfu37ynt on sweep <Sweep alelab/Autoformer/fdrzjt29 (FINISHED)>. Filling all poitwisewith NAN.\n",
      "WARNING!! Missing pointwise/cvar/0.01 in run larcuw11 on sweep <Sweep alelab/Autoformer/kl3x46uy (FINISHED)>. Filling all poitwisewith NAN.\n",
      "WARNING!! Missing pointwise/cvar/0.01 in run 5is42q4d on sweep <Sweep alelab/Autoformer/kl3x46uy (FINISHED)>. Filling all poitwisewith NAN.\n",
      "WARNING!! Missing pointwise/cvar/0.01 in run njw9un32 on sweep <Sweep alelab/Autoformer/kl3x46uy (FINISHED)>. Filling all poitwisewith NAN.\n",
      "WARNING!! Missing pointwise/cvar/0.01 in run zvc1bcxn on sweep <Sweep alelab/Autoformer/499rptr7 (FINISHED)>. Filling all poitwisewith NAN.\n",
      "WARNING!! Missing pointwise/cvar/0.01 in run f7xpf9je on sweep <Sweep alelab/Autoformer/499rptr7 (FINISHED)>. Filling all poitwisewith NAN.\n",
      "WARNING!! Missing pointwise/cvar/0.01 in run 9ccffbot on sweep <Sweep alelab/Autoformer/499rptr7 (FINISHED)>. Filling all poitwisewith NAN.\n",
      "WARNING!! Missing pointwise/cvar/0.01 in run ojyfc6m5 on sweep <Sweep alelab/Autoformer/fhg2bunz (FINISHED)>. Filling all poitwisewith NAN.\n",
      "WARNING!! Missing pointwise/cvar/0.01 in run ituycjj5 on sweep <Sweep alelab/Autoformer/fhg2bunz (FINISHED)>. Filling all poitwisewith NAN.\n",
      "WARNING!! Missing pointwise/cvar/0.01 in run jiu83mmr on sweep <Sweep alelab/Autoformer/fhg2bunz (FINISHED)>. Filling all poitwisewith NAN.\n"
     ]
    },
    {
     "name": "stderr",
     "output_type": "stream",
     "text": [
      " 56%|█████▋    | 237/420 [01:08<00:26,  6.84it/s]"
     ]
    },
    {
     "name": "stdout",
     "output_type": "stream",
     "text": [
      "WARNING!! Missing pointwise/cvar/0.01 in run 4ihptvy0 on sweep <Sweep alelab/Autoformer/ir8gfufu (FINISHED)>. Filling all poitwisewith NAN.\n",
      "WARNING!! Missing pointwise/cvar/0.01 in run rmeiggak on sweep <Sweep alelab/Autoformer/ir8gfufu (FINISHED)>. Filling all poitwisewith NAN.\n",
      "WARNING!! Missing pointwise/cvar/0.01 in run 3piktham on sweep <Sweep alelab/Autoformer/ir8gfufu (FINISHED)>. Filling all poitwisewith NAN.\n",
      "WARNING!! Missing pointwise/cvar/0.01 in run 6ylv5lr3 on sweep <Sweep alelab/Autoformer/yypl5axy (FINISHED)>. Filling all poitwisewith NAN.\n",
      "WARNING!! Missing pointwise/cvar/0.01 in run e6q4h2dw on sweep <Sweep alelab/Autoformer/yypl5axy (FINISHED)>. Filling all poitwisewith NAN.\n",
      "WARNING!! Missing pointwise/cvar/0.01 in run x9c4ohna on sweep <Sweep alelab/Autoformer/yypl5axy (FINISHED)>. Filling all poitwisewith NAN.\n",
      "WARNING!! Missing pointwise/cvar/0.01 in run f4pozqtq on sweep <Sweep alelab/Autoformer/rc4txrfy (FINISHED)>. Filling all poitwisewith NAN.\n",
      "WARNING!! Missing pointwise/cvar/0.01 in run jar2z4h8 on sweep <Sweep alelab/Autoformer/rc4txrfy (FINISHED)>. Filling all poitwisewith NAN.\n",
      "WARNING!! Missing pointwise/cvar/0.01 in run k57zlsom on sweep <Sweep alelab/Autoformer/rc4txrfy (FINISHED)>. Filling all poitwisewith NAN.\n",
      "WARNING!! Missing pointwise/cvar/0.01 in run idbuaw6r on sweep <Sweep alelab/Autoformer/dx0g55z9 (FINISHED)>. Filling all poitwisewith NAN.\n"
     ]
    },
    {
     "name": "stderr",
     "output_type": "stream",
     "text": [
      " 59%|█████▉    | 247/420 [01:08<00:15, 11.30it/s]"
     ]
    },
    {
     "name": "stdout",
     "output_type": "stream",
     "text": [
      "WARNING!! Missing pointwise/cvar/0.01 in run ptwkbwcd on sweep <Sweep alelab/Autoformer/dx0g55z9 (FINISHED)>. Filling all poitwisewith NAN.\n",
      "WARNING!! Missing pointwise/cvar/0.01 in run z0bie4bl on sweep <Sweep alelab/Autoformer/dx0g55z9 (FINISHED)>. Filling all poitwisewith NAN.\n",
      "WARNING!! Missing pointwise/cvar/0.01 in run qr8yiiox on sweep <Sweep alelab/Autoformer/2rifsge4 (FINISHED)>. Filling all poitwisewith NAN.\n",
      "WARNING!! Missing pointwise/cvar/0.01 in run dwlzocco on sweep <Sweep alelab/Autoformer/2rifsge4 (FINISHED)>. Filling all poitwisewith NAN.\n",
      "WARNING!! Missing pointwise/cvar/0.01 in run ib9bv7o1 on sweep <Sweep alelab/Autoformer/2rifsge4 (FINISHED)>. Filling all poitwisewith NAN.\n",
      "WARNING!! Missing pointwise/cvar/0.01 in run oeehksga on sweep <Sweep alelab/Autoformer/lg8094tx (FINISHED)>. Filling all poitwisewith NAN.\n",
      "WARNING!! Missing pointwise/cvar/0.01 in run 8kjqcqs5 on sweep <Sweep alelab/Autoformer/lg8094tx (FINISHED)>. Filling all poitwisewith NAN.\n",
      "WARNING!! Missing pointwise/cvar/0.01 in run 9yxqtie5 on sweep <Sweep alelab/Autoformer/lg8094tx (FINISHED)>. Filling all poitwisewith NAN.\n",
      "WARNING!! Missing pointwise/cvar/0.01 in run 97dfns25 on sweep <Sweep alelab/Autoformer/moqkhuhf (FINISHED)>. Filling all poitwisewith NAN.\n"
     ]
    },
    {
     "name": "stderr",
     "output_type": "stream",
     "text": [
      " 61%|██████    | 255/420 [01:19<01:31,  1.80it/s]"
     ]
    },
    {
     "name": "stdout",
     "output_type": "stream",
     "text": [
      "WARNING!! Missing pointwise/cvar/0.01 in run m3dqseq5 on sweep <Sweep alelab/Autoformer/moqkhuhf (FINISHED)>. Filling all poitwisewith NAN.\n",
      "WARNING!! Missing pointwise/cvar/0.01 in run azixl4nk on sweep <Sweep alelab/Autoformer/moqkhuhf (FINISHED)>. Filling all poitwisewith NAN.\n",
      "WARNING!! Missing pointwise/cvar/0.01 in run 75d3xlqq on sweep <Sweep alelab/Autoformer/gen5sxpm (FINISHED)>. Filling all poitwisewith NAN.\n",
      "WARNING!! Missing pointwise/cvar/0.01 in run tsr2rz5v on sweep <Sweep alelab/Autoformer/gen5sxpm (FINISHED)>. Filling all poitwisewith NAN.\n",
      "WARNING!! Missing pointwise/cvar/0.01 in run u6j7n26v on sweep <Sweep alelab/Autoformer/gen5sxpm (FINISHED)>. Filling all poitwisewith NAN.\n",
      "WARNING!! Missing pointwise/cvar/0.01 in run q8s23rwq on sweep <Sweep alelab/Autoformer/fseej1uw (FINISHED)>. Filling all poitwisewith NAN.\n",
      "WARNING!! Missing pointwise/cvar/0.01 in run 5hjtn782 on sweep <Sweep alelab/Autoformer/fseej1uw (FINISHED)>. Filling all poitwisewith NAN.\n"
     ]
    },
    {
     "name": "stderr",
     "output_type": "stream",
     "text": [
      " 63%|██████▎   | 265/420 [01:20<00:42,  3.69it/s]"
     ]
    },
    {
     "name": "stdout",
     "output_type": "stream",
     "text": [
      "WARNING!! Missing pointwise/cvar/0.01 in run x9vkvdpb on sweep <Sweep alelab/Autoformer/fseej1uw (FINISHED)>. Filling all poitwisewith NAN.\n",
      "WARNING!! Missing pointwise/cvar/0.01 in run yhdvmfes on sweep <Sweep alelab/Autoformer/dxc7jl8n (FINISHED)>. Filling all poitwisewith NAN.\n",
      "WARNING!! Missing pointwise/cvar/0.01 in run y1l2l82i on sweep <Sweep alelab/Autoformer/dxc7jl8n (FINISHED)>. Filling all poitwisewith NAN.\n",
      "WARNING!! Missing pointwise/cvar/0.01 in run jurk0aik on sweep <Sweep alelab/Autoformer/dxc7jl8n (FINISHED)>. Filling all poitwisewith NAN.\n",
      "WARNING!! Missing pointwise/cvar/0.01 in run nb9xz3cv on sweep <Sweep alelab/Autoformer/ppd7srky (FINISHED)>. Filling all poitwisewith NAN.\n",
      "WARNING!! Missing pointwise/cvar/0.01 in run eqyyw4ap on sweep <Sweep alelab/Autoformer/ppd7srky (FINISHED)>. Filling all poitwisewith NAN.\n",
      "WARNING!! Missing pointwise/cvar/0.01 in run lzakncsh on sweep <Sweep alelab/Autoformer/ppd7srky (FINISHED)>. Filling all poitwisewith NAN.\n",
      "WARNING!! Missing pointwise/cvar/0.01 in run dgc0mbp6 on sweep <Sweep alelab/Autoformer/pep2k390 (FINISHED)>. Filling all poitwisewith NAN.\n",
      "WARNING!! Missing pointwise/cvar/0.01 in run knqwulcw on sweep <Sweep alelab/Autoformer/pep2k390 (FINISHED)>. Filling all poitwisewith NAN.\n",
      "WARNING!! Missing pointwise/cvar/0.01 in run 7kxoe5s1 on sweep <Sweep alelab/Autoformer/pep2k390 (FINISHED)>. Filling all poitwisewith NAN.\n"
     ]
    },
    {
     "name": "stderr",
     "output_type": "stream",
     "text": [
      " 66%|██████▌   | 276/420 [01:20<00:19,  7.41it/s]"
     ]
    },
    {
     "name": "stdout",
     "output_type": "stream",
     "text": [
      "WARNING!! Missing pointwise/cvar/0.01 in run r9gko732 on sweep <Sweep alelab/Autoformer/79yf2vpa (FINISHED)>. Filling all poitwisewith NAN.\n",
      "WARNING!! Missing pointwise/cvar/0.01 in run 8661dogs on sweep <Sweep alelab/Autoformer/79yf2vpa (FINISHED)>. Filling all poitwisewith NAN.\n",
      "WARNING!! Missing pointwise/cvar/0.01 in run 97g2pqnf on sweep <Sweep alelab/Autoformer/79yf2vpa (FINISHED)>. Filling all poitwisewith NAN.\n",
      "WARNING!! Missing pointwise/cvar/0.01 in run 5tnnaef4 on sweep <Sweep alelab/Autoformer/rg5hb6p9 (FINISHED)>. Filling all poitwisewith NAN.\n",
      "WARNING!! Missing pointwise/cvar/0.01 in run 9iz3zy6y on sweep <Sweep alelab/Autoformer/rg5hb6p9 (FINISHED)>. Filling all poitwisewith NAN.\n",
      "WARNING!! Missing pointwise/cvar/0.01 in run dxhmmtf9 on sweep <Sweep alelab/Autoformer/rg5hb6p9 (FINISHED)>. Filling all poitwisewith NAN.\n",
      "WARNING!! Missing pointwise/cvar/0.01 in run up2lsbin on sweep <Sweep alelab/Autoformer/ci0pc9bq (FINISHED)>. Filling all poitwisewith NAN.\n",
      "WARNING!! Missing pointwise/cvar/0.01 in run qfemiy9o on sweep <Sweep alelab/Autoformer/ci0pc9bq (FINISHED)>. Filling all poitwisewith NAN.\n",
      "WARNING!! Missing pointwise/cvar/0.01 in run wu5erits on sweep <Sweep alelab/Autoformer/ci0pc9bq (FINISHED)>. Filling all poitwisewith NAN.\n",
      "WARNING!! Missing pointwise/cvar/0.01 in run c41uag2e on sweep <Sweep alelab/Autoformer/74ub5qwc (FINISHED)>. Filling all poitwisewith NAN.\n"
     ]
    },
    {
     "name": "stderr",
     "output_type": "stream",
     "text": [
      " 67%|██████▋   | 281/420 [01:20<00:14,  9.53it/s]"
     ]
    },
    {
     "name": "stdout",
     "output_type": "stream",
     "text": [
      "WARNING!! Missing pointwise/cvar/0.01 in run iz39ifco on sweep <Sweep alelab/Autoformer/74ub5qwc (FINISHED)>. Filling all poitwisewith NAN.\n",
      "WARNING!! Missing pointwise/cvar/0.01 in run qe3dfsxc on sweep <Sweep alelab/Autoformer/74ub5qwc (FINISHED)>. Filling all poitwisewith NAN.\n",
      "WARNING!! Missing pointwise/cvar/0.01 in run h1ezgr2i on sweep <Sweep alelab/Autoformer/h9d96a06 (FINISHED)>. Filling all poitwisewith NAN.\n",
      "WARNING!! Missing pointwise/cvar/0.01 in run 5v2qcbfe on sweep <Sweep alelab/Autoformer/h9d96a06 (FINISHED)>. Filling all poitwisewith NAN.\n",
      "WARNING!! Missing pointwise/cvar/0.01 in run dgmtytoy on sweep <Sweep alelab/Autoformer/h9d96a06 (FINISHED)>. Filling all poitwisewith NAN.\n",
      "WARNING!! Missing pointwise/cvar/0.01 in run kk81j0gs on sweep <Sweep alelab/Autoformer/26qakd51 (FINISHED)>. Filling all poitwisewith NAN.\n",
      "WARNING!! Missing pointwise/cvar/0.01 in run awnytaqh on sweep <Sweep alelab/Autoformer/26qakd51 (FINISHED)>. Filling all poitwisewith NAN.\n",
      "WARNING!! Missing pointwise/cvar/0.01 in run etkswe4g on sweep <Sweep alelab/Autoformer/26qakd51 (FINISHED)>. Filling all poitwisewith NAN.\n",
      "WARNING!! Missing pointwise/cvar/0.01 in run e78cqwfv on sweep <Sweep alelab/Autoformer/1kdoj05q (FINISHED)>. Filling all poitwisewith NAN.\n"
     ]
    },
    {
     "name": "stderr",
     "output_type": "stream",
     "text": [
      " 69%|██████▉   | 291/420 [01:20<00:08, 15.41it/s]"
     ]
    },
    {
     "name": "stdout",
     "output_type": "stream",
     "text": [
      "WARNING!! Missing pointwise/cvar/0.01 in run vj1oz801 on sweep <Sweep alelab/Autoformer/1kdoj05q (FINISHED)>. Filling all poitwisewith NAN.\n",
      "WARNING!! Missing pointwise/cvar/0.01 in run jep12mhw on sweep <Sweep alelab/Autoformer/1kdoj05q (FINISHED)>. Filling all poitwisewith NAN.\n",
      "WARNING!! Missing pointwise/cvar/0.01 in run cwrypewm on sweep <Sweep alelab/Autoformer/u462kyes (FINISHED)>. Filling all poitwisewith NAN.\n",
      "WARNING!! Missing pointwise/cvar/0.01 in run 3tktwy15 on sweep <Sweep alelab/Autoformer/u462kyes (FINISHED)>. Filling all poitwisewith NAN.\n",
      "WARNING!! Missing pointwise/cvar/0.01 in run qgz0stmv on sweep <Sweep alelab/Autoformer/u462kyes (FINISHED)>. Filling all poitwisewith NAN.\n",
      "WARNING!! Missing pointwise/cvar/0.01 in run vwlgywvi on sweep <Sweep alelab/Autoformer/iqql0r08 (FINISHED)>. Filling all poitwisewith NAN.\n",
      "WARNING!! Missing pointwise/cvar/0.01 in run ljzvjhid on sweep <Sweep alelab/Autoformer/iqql0r08 (FINISHED)>. Filling all poitwisewith NAN.\n",
      "WARNING!! Missing pointwise/cvar/0.01 in run ki63vpgh on sweep <Sweep alelab/Autoformer/iqql0r08 (FINISHED)>. Filling all poitwisewith NAN.\n"
     ]
    },
    {
     "name": "stderr",
     "output_type": "stream",
     "text": [
      " 70%|███████   | 296/420 [01:20<00:06, 19.01it/s]"
     ]
    },
    {
     "name": "stdout",
     "output_type": "stream",
     "text": [
      "WARNING!! Missing pointwise/cvar/0.01 in run mn6qxvnd on sweep <Sweep alelab/Autoformer/h6dgu7sh (FINISHED)>. Filling all poitwisewith NAN.\n",
      "WARNING!! Missing pointwise/cvar/0.01 in run kthy7szx on sweep <Sweep alelab/Autoformer/h6dgu7sh (FINISHED)>. Filling all poitwisewith NAN.\n",
      "WARNING!! Missing pointwise/cvar/0.01 in run zf16mwun on sweep <Sweep alelab/Autoformer/h6dgu7sh (FINISHED)>. Filling all poitwisewith NAN.\n",
      "WARNING!! Missing pointwise/cvar/0.01 in run al0qy36i on sweep <Sweep alelab/Autoformer/kk5k8zkf (FINISHED)>. Filling all poitwisewith NAN.\n",
      "WARNING!! Missing pointwise/cvar/0.01 in run s5gfht6i on sweep <Sweep alelab/Autoformer/kk5k8zkf (FINISHED)>. Filling all poitwisewith NAN.\n",
      "WARNING!! Missing pointwise/cvar/0.01 in run y03nfm76 on sweep <Sweep alelab/Autoformer/kk5k8zkf (FINISHED)>. Filling all poitwisewith NAN.\n"
     ]
    },
    {
     "name": "stderr",
     "output_type": "stream",
     "text": [
      " 73%|███████▎  | 305/420 [01:36<01:23,  1.38it/s]"
     ]
    },
    {
     "name": "stdout",
     "output_type": "stream",
     "text": [
      "WARNING!! Missing pointwise/cvar/0.01 in run refozugx on sweep <Sweep alelab/Autoformer/nib9hvo9 (FINISHED)>. Filling all poitwisewith NAN.\n",
      "WARNING!! Missing pointwise/cvar/0.01 in run baklf74y on sweep <Sweep alelab/Autoformer/nib9hvo9 (FINISHED)>. Filling all poitwisewith NAN.\n",
      "WARNING!! Missing pointwise/cvar/0.01 in run 0knv7rzb on sweep <Sweep alelab/Autoformer/nib9hvo9 (FINISHED)>. Filling all poitwisewith NAN.\n",
      "WARNING!! Missing pointwise/cvar/0.01 in run g5ekup3r on sweep <Sweep alelab/Autoformer/63u1kv1g (FINISHED)>. Filling all poitwisewith NAN.\n",
      "WARNING!! Missing pointwise/cvar/0.01 in run tnalg3v6 on sweep <Sweep alelab/Autoformer/63u1kv1g (FINISHED)>. Filling all poitwisewith NAN.\n",
      "WARNING!! Missing pointwise/cvar/0.01 in run wgo7drjz on sweep <Sweep alelab/Autoformer/63u1kv1g (FINISHED)>. Filling all poitwisewith NAN.\n",
      "WARNING!! Missing pointwise/cvar/0.01 in run e5g5a65v on sweep <Sweep alelab/Autoformer/2bh8p62s (FINISHED)>. Filling all poitwisewith NAN.\n"
     ]
    },
    {
     "name": "stderr",
     "output_type": "stream",
     "text": [
      " 74%|███████▍  | 311/420 [01:36<00:51,  2.11it/s]"
     ]
    },
    {
     "name": "stdout",
     "output_type": "stream",
     "text": [
      "WARNING!! Missing pointwise/cvar/0.01 in run fv3f07aw on sweep <Sweep alelab/Autoformer/2bh8p62s (FINISHED)>. Filling all poitwisewith NAN.\n",
      "WARNING!! Missing pointwise/cvar/0.01 in run q1exdexn on sweep <Sweep alelab/Autoformer/2bh8p62s (FINISHED)>. Filling all poitwisewith NAN.\n",
      "WARNING!! Missing pointwise/cvar/0.01 in run fgsu9u9t on sweep <Sweep alelab/Autoformer/69r6w14d (FINISHED)>. Filling all poitwisewith NAN.\n",
      "WARNING!! Missing pointwise/cvar/0.01 in run ua0d3ibz on sweep <Sweep alelab/Autoformer/69r6w14d (FINISHED)>. Filling all poitwisewith NAN.\n",
      "WARNING!! Missing pointwise/cvar/0.01 in run kfwahv8j on sweep <Sweep alelab/Autoformer/69r6w14d (FINISHED)>. Filling all poitwisewith NAN.\n",
      "WARNING!! Missing pointwise/cvar/0.01 in run lv9drztv on sweep <Sweep alelab/Autoformer/t9fxky6r (FINISHED)>. Filling all poitwisewith NAN.\n",
      "WARNING!! Missing pointwise/cvar/0.01 in run ezrt0m8m on sweep <Sweep alelab/Autoformer/t9fxky6r (FINISHED)>. Filling all poitwisewith NAN.\n",
      "WARNING!! Missing pointwise/cvar/0.01 in run z6ctc895 on sweep <Sweep alelab/Autoformer/t9fxky6r (FINISHED)>. Filling all poitwisewith NAN.\n",
      "WARNING!! Missing pointwise/cvar/0.01 in run edshw8qe on sweep <Sweep alelab/Autoformer/e0j7mfzo (FINISHED)>. Filling all poitwisewith NAN.\n"
     ]
    },
    {
     "name": "stderr",
     "output_type": "stream",
     "text": [
      " 76%|███████▋  | 321/420 [01:36<00:24,  4.04it/s]"
     ]
    },
    {
     "name": "stdout",
     "output_type": "stream",
     "text": [
      "WARNING!! Missing pointwise/cvar/0.01 in run afi6efpg on sweep <Sweep alelab/Autoformer/e0j7mfzo (FINISHED)>. Filling all poitwisewith NAN.\n",
      "WARNING!! Missing pointwise/cvar/0.01 in run mnroit3q on sweep <Sweep alelab/Autoformer/e0j7mfzo (FINISHED)>. Filling all poitwisewith NAN.\n",
      "WARNING!! Missing pointwise/cvar/0.01 in run 0hrr59lw on sweep <Sweep alelab/Autoformer/a5h4tt4c (FINISHED)>. Filling all poitwisewith NAN.\n",
      "WARNING!! Missing pointwise/cvar/0.01 in run zbeq5zmd on sweep <Sweep alelab/Autoformer/a5h4tt4c (FINISHED)>. Filling all poitwisewith NAN.\n",
      "WARNING!! Missing pointwise/cvar/0.01 in run kjt8skfq on sweep <Sweep alelab/Autoformer/a5h4tt4c (FINISHED)>. Filling all poitwisewith NAN.\n",
      "WARNING!! Missing pointwise/cvar/0.01 in run a5o0qw6j on sweep <Sweep alelab/Autoformer/yl5qfe9d (FINISHED)>. Filling all poitwisewith NAN.\n",
      "WARNING!! Missing pointwise/cvar/0.01 in run p4v18xnb on sweep <Sweep alelab/Autoformer/yl5qfe9d (FINISHED)>. Filling all poitwisewith NAN.\n",
      "WARNING!! Missing pointwise/cvar/0.01 in run j0x14edu on sweep <Sweep alelab/Autoformer/yl5qfe9d (FINISHED)>. Filling all poitwisewith NAN.\n",
      "WARNING!! Missing pointwise/cvar/0.01 in run iuwr4db3 on sweep <Sweep alelab/Autoformer/gmjkjkyn (FINISHED)>. Filling all poitwisewith NAN.\n",
      "WARNING!! Missing pointwise/cvar/0.01 in run bhmhq440 on sweep <Sweep alelab/Autoformer/gmjkjkyn (FINISHED)>. Filling all poitwisewith NAN.\n"
     ]
    },
    {
     "name": "stderr",
     "output_type": "stream",
     "text": [
      " 79%|███████▉  | 331/420 [01:37<00:12,  7.41it/s]"
     ]
    },
    {
     "name": "stdout",
     "output_type": "stream",
     "text": [
      "WARNING!! Missing pointwise/cvar/0.01 in run vcoo7t5x on sweep <Sweep alelab/Autoformer/gmjkjkyn (FINISHED)>. Filling all poitwisewith NAN.\n",
      "WARNING!! Missing pointwise/cvar/0.01 in run xri28ks3 on sweep <Sweep alelab/Autoformer/ty8ugu99 (FINISHED)>. Filling all poitwisewith NAN.\n",
      "WARNING!! Missing pointwise/cvar/0.01 in run vtaovv7y on sweep <Sweep alelab/Autoformer/ty8ugu99 (FINISHED)>. Filling all poitwisewith NAN.\n",
      "WARNING!! Missing pointwise/cvar/0.01 in run iahgfd73 on sweep <Sweep alelab/Autoformer/ty8ugu99 (FINISHED)>. Filling all poitwisewith NAN.\n",
      "WARNING!! Missing pointwise/cvar/0.01 in run uw71a5ur on sweep <Sweep alelab/Autoformer/rakbic2e (FINISHED)>. Filling all poitwisewith NAN.\n",
      "WARNING!! Missing pointwise/cvar/0.01 in run v50v8jv2 on sweep <Sweep alelab/Autoformer/rakbic2e (FINISHED)>. Filling all poitwisewith NAN.\n",
      "WARNING!! Missing pointwise/cvar/0.01 in run 970poylq on sweep <Sweep alelab/Autoformer/rakbic2e (FINISHED)>. Filling all poitwisewith NAN.\n",
      "WARNING!! Missing pointwise/cvar/0.01 in run 2osoozqy on sweep <Sweep alelab/Autoformer/m3xkja3p (FINISHED)>. Filling all poitwisewith NAN.\n",
      "WARNING!! Missing pointwise/cvar/0.01 in run c7h9lmu6 on sweep <Sweep alelab/Autoformer/m3xkja3p (FINISHED)>. Filling all poitwisewith NAN.\n"
     ]
    },
    {
     "name": "stderr",
     "output_type": "stream",
     "text": [
      " 81%|████████▏ | 342/420 [01:37<00:06, 12.97it/s]"
     ]
    },
    {
     "name": "stdout",
     "output_type": "stream",
     "text": [
      "WARNING!! Missing pointwise/cvar/0.01 in run eeqixdo2 on sweep <Sweep alelab/Autoformer/m3xkja3p (FINISHED)>. Filling all poitwisewith NAN.\n",
      "WARNING!! Missing pointwise/cvar/0.01 in run 1i2ahbpc on sweep <Sweep alelab/Autoformer/kwb5dm9g (FINISHED)>. Filling all poitwisewith NAN.\n",
      "WARNING!! Missing pointwise/cvar/0.01 in run g78i02y8 on sweep <Sweep alelab/Autoformer/kwb5dm9g (FINISHED)>. Filling all poitwisewith NAN.\n",
      "WARNING!! Missing pointwise/cvar/0.01 in run q0eixslm on sweep <Sweep alelab/Autoformer/kwb5dm9g (FINISHED)>. Filling all poitwisewith NAN.\n",
      "WARNING!! Missing pointwise/cvar/0.01 in run wqn397cm on sweep <Sweep alelab/Autoformer/9gt76g15 (FINISHED)>. Filling all poitwisewith NAN.\n",
      "WARNING!! Missing pointwise/cvar/0.01 in run agqj6zs2 on sweep <Sweep alelab/Autoformer/9gt76g15 (FINISHED)>. Filling all poitwisewith NAN.\n",
      "WARNING!! Missing pointwise/cvar/0.01 in run l4ndlkbz on sweep <Sweep alelab/Autoformer/9gt76g15 (FINISHED)>. Filling all poitwisewith NAN.\n",
      "WARNING!! Missing pointwise/cvar/0.01 in run k2qo30d0 on sweep <Sweep alelab/Autoformer/mwh1nvcn (FINISHED)>. Filling all poitwisewith NAN.\n"
     ]
    },
    {
     "name": "stderr",
     "output_type": "stream",
     "text": [
      " 83%|████████▎ | 348/420 [01:37<00:04, 17.23it/s]"
     ]
    },
    {
     "name": "stdout",
     "output_type": "stream",
     "text": [
      "WARNING!! Missing pointwise/cvar/0.01 in run 980xexsl on sweep <Sweep alelab/Autoformer/mwh1nvcn (FINISHED)>. Filling all poitwisewith NAN.\n",
      "WARNING!! Missing pointwise/cvar/0.01 in run 1jacfoyx on sweep <Sweep alelab/Autoformer/mwh1nvcn (FINISHED)>. Filling all poitwisewith NAN.\n",
      "WARNING!! Missing pointwise/cvar/0.01 in run nk0w8p87 on sweep <Sweep alelab/Autoformer/5bdtpwux (FINISHED)>. Filling all poitwisewith NAN.\n",
      "WARNING!! Missing pointwise/cvar/0.01 in run ypkjtcuy on sweep <Sweep alelab/Autoformer/5bdtpwux (FINISHED)>. Filling all poitwisewith NAN.\n",
      "WARNING!! Missing pointwise/cvar/0.01 in run 0kub4ruk on sweep <Sweep alelab/Autoformer/5bdtpwux (FINISHED)>. Filling all poitwisewith NAN.\n",
      "WARNING!! Missing pointwise/cvar/0.01 in run gwbq2prw on sweep <Sweep alelab/Autoformer/4r1hd70d (FINISHED)>. Filling all poitwisewith NAN.\n",
      "WARNING!! Missing pointwise/cvar/0.01 in run mizt37a7 on sweep <Sweep alelab/Autoformer/4r1hd70d (FINISHED)>. Filling all poitwisewith NAN.\n"
     ]
    },
    {
     "name": "stderr",
     "output_type": "stream",
     "text": [
      " 85%|████████▍ | 356/420 [01:47<00:30,  2.07it/s]"
     ]
    },
    {
     "name": "stdout",
     "output_type": "stream",
     "text": [
      "WARNING!! Missing pointwise/cvar/0.01 in run vuwt3mbe on sweep <Sweep alelab/Autoformer/4r1hd70d (FINISHED)>. Filling all poitwisewith NAN.\n",
      "WARNING!! Missing pointwise/cvar/0.01 in run uq4c3612 on sweep <Sweep alelab/Autoformer/om7pw0fx (FINISHED)>. Filling all poitwisewith NAN.\n",
      "WARNING!! Missing pointwise/cvar/0.01 in run jk50um3i on sweep <Sweep alelab/Autoformer/om7pw0fx (FINISHED)>. Filling all poitwisewith NAN.\n",
      "WARNING!! Missing pointwise/cvar/0.01 in run nc91duxt on sweep <Sweep alelab/Autoformer/om7pw0fx (FINISHED)>. Filling all poitwisewith NAN.\n",
      "WARNING!! Missing pointwise/cvar/0.01 in run eo6darf4 on sweep <Sweep alelab/Autoformer/e1tj0auu (FINISHED)>. Filling all poitwisewith NAN.\n",
      "WARNING!! Missing pointwise/cvar/0.01 in run w940meek on sweep <Sweep alelab/Autoformer/e1tj0auu (FINISHED)>. Filling all poitwisewith NAN.\n",
      "WARNING!! Missing pointwise/cvar/0.01 in run u3c0ncaf on sweep <Sweep alelab/Autoformer/e1tj0auu (FINISHED)>. Filling all poitwisewith NAN.\n",
      "WARNING!! Missing pointwise/cvar/0.01 in run wenq528u on sweep <Sweep alelab/Autoformer/0nkfkngj (FINISHED)>. Filling all poitwisewith NAN.\n",
      "WARNING!! Missing pointwise/cvar/0.01 in run zo773krw on sweep <Sweep alelab/Autoformer/0nkfkngj (FINISHED)>. Filling all poitwisewith NAN.\n",
      "WARNING!! Missing pointwise/cvar/0.01 in run ko2uyuum on sweep <Sweep alelab/Autoformer/0nkfkngj (FINISHED)>. Filling all poitwisewith NAN.\n",
      "WARNING!! Missing pointwise/cvar/0.01 in run z6kz9o4d on sweep <Sweep alelab/Autoformer/pcodejm5 (FINISHED)>. Filling all poitwisewith NAN.\n"
     ]
    },
    {
     "name": "stderr",
     "output_type": "stream",
     "text": [
      " 87%|████████▋ | 367/420 [01:48<00:12,  4.27it/s]"
     ]
    },
    {
     "name": "stdout",
     "output_type": "stream",
     "text": [
      "WARNING!! Missing pointwise/cvar/0.01 in run ljdxqmht on sweep <Sweep alelab/Autoformer/pcodejm5 (FINISHED)>. Filling all poitwisewith NAN.\n",
      "WARNING!! Missing pointwise/cvar/0.01 in run ir9pk3lh on sweep <Sweep alelab/Autoformer/pcodejm5 (FINISHED)>. Filling all poitwisewith NAN.\n",
      "WARNING!! Missing pointwise/cvar/0.01 in run 0u5b4zyq on sweep <Sweep alelab/Autoformer/pcodejm5 (FINISHED)>. Filling all poitwisewith NAN.\n",
      "WARNING!! Missing pointwise/cvar/0.01 in run tv7knask on sweep <Sweep alelab/Autoformer/pcodejm5 (FINISHED)>. Filling all poitwisewith NAN.\n",
      "WARNING!! Missing pointwise/cvar/0.01 in run ecffu7kw on sweep <Sweep alelab/Autoformer/pcodejm5 (FINISHED)>. Filling all poitwisewith NAN.\n",
      "WARNING!! Missing pointwise/cvar/0.01 in run brvouvx5 on sweep <Sweep alelab/Autoformer/pcodejm5 (FINISHED)>. Filling all poitwisewith NAN.\n",
      "WARNING!! Missing pointwise/cvar/0.01 in run 23dxo7xy on sweep <Sweep alelab/Autoformer/pcodejm5 (FINISHED)>. Filling all poitwisewith NAN.\n",
      "WARNING!! Missing pointwise/cvar/0.01 in run coiuaeiq on sweep <Sweep alelab/Autoformer/pcodejm5 (FINISHED)>. Filling all poitwisewith NAN.\n",
      "WARNING!! Missing pointwise/cvar/0.01 in run 2lhbhxc3 on sweep <Sweep alelab/Autoformer/pcodejm5 (FINISHED)>. Filling all poitwisewith NAN.\n"
     ]
    },
    {
     "name": "stderr",
     "output_type": "stream",
     "text": [
      " 90%|████████▉ | 377/420 [01:48<00:05,  7.76it/s]"
     ]
    },
    {
     "name": "stdout",
     "output_type": "stream",
     "text": [
      "WARNING!! Missing pointwise/cvar/0.01 in run s6nnwy9r on sweep <Sweep alelab/Autoformer/pcodejm5 (FINISHED)>. Filling all poitwisewith NAN.\n",
      "WARNING!! Missing pointwise/cvar/0.01 in run czfae35h on sweep <Sweep alelab/Autoformer/pcodejm5 (FINISHED)>. Filling all poitwisewith NAN.\n",
      "WARNING!! Missing pointwise/cvar/0.01 in run 9khoj0f2 on sweep <Sweep alelab/Autoformer/yx4v9fdh (FINISHED)>. Filling all poitwisewith NAN.\n",
      "WARNING!! Missing pointwise/cvar/0.01 in run 53oes01x on sweep <Sweep alelab/Autoformer/yx4v9fdh (FINISHED)>. Filling all poitwisewith NAN.\n",
      "WARNING!! Missing pointwise/cvar/0.01 in run vgaeavml on sweep <Sweep alelab/Autoformer/yx4v9fdh (FINISHED)>. Filling all poitwisewith NAN.\n",
      "WARNING!! Missing pointwise/cvar/0.01 in run uygvj8di on sweep <Sweep alelab/Autoformer/yx4v9fdh (FINISHED)>. Filling all poitwisewith NAN.\n",
      "WARNING!! Missing pointwise/cvar/0.01 in run 989161un on sweep <Sweep alelab/Autoformer/yx4v9fdh (FINISHED)>. Filling all poitwisewith NAN.\n",
      "WARNING!! Missing pointwise/cvar/0.01 in run w54fawmv on sweep <Sweep alelab/Autoformer/yx4v9fdh (FINISHED)>. Filling all poitwisewith NAN.\n",
      "WARNING!! Missing pointwise/cvar/0.01 in run 7bvnovg8 on sweep <Sweep alelab/Autoformer/yx4v9fdh (FINISHED)>. Filling all poitwisewith NAN.\n"
     ]
    },
    {
     "name": "stderr",
     "output_type": "stream",
     "text": [
      " 92%|█████████▏| 387/420 [01:48<00:02, 13.20it/s]"
     ]
    },
    {
     "name": "stdout",
     "output_type": "stream",
     "text": [
      "WARNING!! Missing pointwise/cvar/0.01 in run hnw778d7 on sweep <Sweep alelab/Autoformer/yx4v9fdh (FINISHED)>. Filling all poitwisewith NAN.\n",
      "WARNING!! Missing pointwise/cvar/0.01 in run lwqoi4bz on sweep <Sweep alelab/Autoformer/yx4v9fdh (FINISHED)>. Filling all poitwisewith NAN.\n",
      "WARNING!! Missing pointwise/cvar/0.01 in run s5yg6mvk on sweep <Sweep alelab/Autoformer/yx4v9fdh (FINISHED)>. Filling all poitwisewith NAN.\n",
      "WARNING!! Missing pointwise/cvar/0.01 in run nche0a44 on sweep <Sweep alelab/Autoformer/yx4v9fdh (FINISHED)>. Filling all poitwisewith NAN.\n",
      "WARNING!! Missing pointwise/cvar/0.01 in run jgrqnu7g on sweep <Sweep alelab/Autoformer/yx4v9fdh (FINISHED)>. Filling all poitwisewith NAN.\n",
      "WARNING!! Missing pointwise/cvar/0.01 in run 6bs3qdex on sweep <Sweep alelab/Autoformer/u0lojdmu (FINISHED)>. Filling all poitwisewith NAN.\n",
      "WARNING!! Missing pointwise/cvar/0.01 in run 5kguw0kl on sweep <Sweep alelab/Autoformer/u0lojdmu (FINISHED)>. Filling all poitwisewith NAN.\n",
      "WARNING!! Missing pointwise/cvar/0.01 in run s35nyyz5 on sweep <Sweep alelab/Autoformer/u0lojdmu (FINISHED)>. Filling all poitwisewith NAN.\n",
      "WARNING!! Missing pointwise/cvar/0.01 in run v7ulgng3 on sweep <Sweep alelab/Autoformer/u0lojdmu (FINISHED)>. Filling all poitwisewith NAN.\n",
      "WARNING!! Missing pointwise/cvar/0.01 in run fl0m6lyk on sweep <Sweep alelab/Autoformer/u0lojdmu (FINISHED)>. Filling all poitwisewith NAN.\n"
     ]
    },
    {
     "name": "stderr",
     "output_type": "stream",
     "text": [
      " 95%|█████████▍| 397/420 [01:48<00:01, 20.00it/s]"
     ]
    },
    {
     "name": "stdout",
     "output_type": "stream",
     "text": [
      "WARNING!! Missing pointwise/cvar/0.01 in run oadzjb4e on sweep <Sweep alelab/Autoformer/u0lojdmu (FINISHED)>. Filling all poitwisewith NAN.\n",
      "WARNING!! Missing pointwise/cvar/0.01 in run irz3wuvd on sweep <Sweep alelab/Autoformer/u0lojdmu (FINISHED)>. Filling all poitwisewith NAN.\n",
      "WARNING!! Missing pointwise/cvar/0.01 in run f5cv1n58 on sweep <Sweep alelab/Autoformer/u0lojdmu (FINISHED)>. Filling all poitwisewith NAN.\n",
      "WARNING!! Missing pointwise/cvar/0.01 in run st2116i4 on sweep <Sweep alelab/Autoformer/u0lojdmu (FINISHED)>. Filling all poitwisewith NAN.\n",
      "WARNING!! Missing pointwise/cvar/0.01 in run z0n1kzla on sweep <Sweep alelab/Autoformer/u0lojdmu (FINISHED)>. Filling all poitwisewith NAN.\n",
      "WARNING!! Missing pointwise/cvar/0.01 in run leonfqd6 on sweep <Sweep alelab/Autoformer/u0lojdmu (FINISHED)>. Filling all poitwisewith NAN.\n",
      "WARNING!! Missing pointwise/cvar/0.01 in run x04zqmxx on sweep <Sweep alelab/Autoformer/u0lojdmu (FINISHED)>. Filling all poitwisewith NAN.\n",
      "WARNING!! Missing pointwise/cvar/0.01 in run b42w3y1u on sweep <Sweep alelab/Autoformer/bqtrywm8 (FINISHED)>. Filling all poitwisewith NAN.\n",
      "WARNING!! Missing pointwise/cvar/0.01 in run wqy2uh2x on sweep <Sweep alelab/Autoformer/bqtrywm8 (FINISHED)>. Filling all poitwisewith NAN.\n",
      "WARNING!! Missing pointwise/cvar/0.01 in run mx0sx3gb on sweep <Sweep alelab/Autoformer/bqtrywm8 (FINISHED)>. Filling all poitwisewith NAN.\n",
      "WARNING!! Missing pointwise/cvar/0.01 in run r3ty5hvz on sweep <Sweep alelab/Autoformer/bqtrywm8 (FINISHED)>. Filling all poitwisewith NAN.\n"
     ]
    },
    {
     "name": "stderr",
     "output_type": "stream",
     "text": [
      " 97%|█████████▋| 409/420 [01:52<00:01,  5.95it/s]"
     ]
    },
    {
     "name": "stdout",
     "output_type": "stream",
     "text": [
      "WARNING!! Missing pointwise/cvar/0.01 in run fbvd59y4 on sweep <Sweep alelab/Autoformer/bqtrywm8 (FINISHED)>. Filling all poitwisewith NAN.\n",
      "WARNING!! Missing pointwise/cvar/0.01 in run bo1uuvkm on sweep <Sweep alelab/Autoformer/bqtrywm8 (FINISHED)>. Filling all poitwisewith NAN.\n",
      "WARNING!! Missing pointwise/cvar/0.01 in run iv6c5u7s on sweep <Sweep alelab/Autoformer/bqtrywm8 (FINISHED)>. Filling all poitwisewith NAN.\n",
      "WARNING!! Missing pointwise/cvar/0.01 in run mwq1wa1h on sweep <Sweep alelab/Autoformer/bqtrywm8 (FINISHED)>. Filling all poitwisewith NAN.\n",
      "WARNING!! Missing pointwise/cvar/0.01 in run rkkwtag4 on sweep <Sweep alelab/Autoformer/titj42q0 (FINISHED)>. Filling all poitwisewith NAN.\n",
      "WARNING!! Missing pointwise/cvar/0.01 in run uysc5mwd on sweep <Sweep alelab/Autoformer/titj42q0 (FINISHED)>. Filling all poitwisewith NAN.\n",
      "WARNING!! Missing pointwise/cvar/0.01 in run m6an8bf0 on sweep <Sweep alelab/Autoformer/titj42q0 (FINISHED)>. Filling all poitwisewith NAN.\n",
      "WARNING!! Missing pointwise/cvar/0.01 in run akovm61d on sweep <Sweep alelab/Autoformer/titj42q0 (FINISHED)>. Filling all poitwisewith NAN.\n",
      "WARNING!! Missing pointwise/cvar/0.01 in run h6i355fv on sweep <Sweep alelab/Autoformer/bqtrywm8 (FINISHED)>. Filling all poitwisewith NAN.\n",
      "WARNING!! Missing pointwise/cvar/0.01 in run 6gfdnrgl on sweep <Sweep alelab/Autoformer/titj42q0 (FINISHED)>. Filling all poitwisewith NAN.\n",
      "WARNING!! Missing pointwise/cvar/0.01 in run mu0i3c1m on sweep <Sweep alelab/Autoformer/titj42q0 (FINISHED)>. Filling all poitwisewith NAN.\n"
     ]
    },
    {
     "name": "stderr",
     "output_type": "stream",
     "text": [
      "100%|██████████| 420/420 [01:52<00:00,  3.72it/s]\n"
     ]
    },
    {
     "name": "stdout",
     "output_type": "stream",
     "text": [
      "WARNING!! Missing pointwise/cvar/0.01 in run 6lzlv5cj on sweep <Sweep alelab/Autoformer/titj42q0 (FINISHED)>. Filling all poitwisewith NAN.\n",
      "WARNING!! Missing pointwise/cvar/0.01 in run duktoqyo on sweep <Sweep alelab/Autoformer/titj42q0 (FINISHED)>. Filling all poitwisewith NAN.\n",
      "WARNING!! Missing pointwise/cvar/0.01 in run ifr8adio on sweep <Sweep alelab/Autoformer/bqtrywm8 (FINISHED)>. Filling all poitwisewith NAN.\n",
      "WARNING!! Missing pointwise/cvar/0.01 in run ctqnftx6 on sweep <Sweep alelab/Autoformer/titj42q0 (FINISHED)>. Filling all poitwisewith NAN.\n",
      "WARNING!! Missing pointwise/cvar/0.01 in run dko1vj5w on sweep <Sweep alelab/Autoformer/titj42q0 (FINISHED)>. Filling all poitwisewith NAN.\n",
      "WARNING!! Missing pointwise/cvar/0.01 in run xkfjq7y3 on sweep <Sweep alelab/Autoformer/titj42q0 (FINISHED)>. Filling all poitwisewith NAN.\n",
      "WARNING!! Missing pointwise/cvar/0.01 in run sybnlasw on sweep <Sweep alelab/Autoformer/bqtrywm8 (FINISHED)>. Filling all poitwisewith NAN.\n",
      "WARNING!! Missing pointwise/cvar/0.01 in run ori47ohy on sweep <Sweep alelab/Autoformer/titj42q0 (FINISHED)>. Filling all poitwisewith NAN.\n",
      "WARNING!! Missing pointwise/cvar/0.01 in run pa1dv6it on sweep <Sweep alelab/Autoformer/bqtrywm8 (FINISHED)>. Filling all poitwisewith NAN.\n",
      "Fetched 420 runs\n",
      "Total records: (349272, 120)\n",
      "Total runs: 420\n",
      "Backup data saved as pickle: ../data_backups/2024_04_17__newdatasets_newmodels_erm_and_constrained.pkl\n",
      "Backup data saved as CSV: ../data_backups/2024_04_17__newdatasets_newmodels_erm_and_constrained.csv\n",
      "Returning backed up data as a pandas DF\n"
     ]
    }
   ],
   "source": [
    "saved_data = data_backup.backup_experiment_data(\n",
    "    experiment_tags = [\n",
    "        \"e32_icml_erm_newdatasets_newmodels\",\n",
    "        \"e33_icml_constrained_newdatasets_newmodels\", # has train and val\n",
    "    ],\n",
    "    filename_prefix=\"../data_backups/2024_04_17__newdatasets_newmodels_erm_and_constrained\"#TODO run but was incomplete\n",
    ")"
   ]
  },
  {
   "cell_type": "markdown",
   "id": "8ba8d3c8",
   "metadata": {},
   "source": [
    "# ======"
   ]
  },
  {
   "cell_type": "code",
   "execution_count": 7,
   "id": "5c6e9d8a",
   "metadata": {},
   "outputs": [
    {
     "name": "stdout",
     "output_type": "stream",
     "text": [
      "Experiment tags being considered: ['e16_finaljan_allerm_replicated', 'e20_icml_monotonic', 'e20_icml_monotonic_no_resilience']\n",
      "Saving to backup data filename: ../data_backups/2024_03_29__original_monotonic_plus_erm\n"
     ]
    },
    {
     "name": "stderr",
     "output_type": "stream",
     "text": [
      "  2%|▏         | 3/192 [00:00<00:07, 25.32it/s]"
     ]
    },
    {
     "name": "stdout",
     "output_type": "stream",
     "text": [
      "WARNING!! Missing pointwise/cvar/0.01 in run 46eiylr4 on sweep <Sweep alelab/Autoformer/lt83n39t (FINISHED)>. Filling all poitwisewith NAN.\n",
      "WARNING!! Missing pointwise/cvar/0.01 in run kqafceog on sweep <Sweep alelab/Autoformer/sbttl446 (FINISHED)>. Filling all poitwisewith NAN.\n",
      "WARNING!! Missing pointwise/cvar/0.01 in run w8ciowhu on sweep <Sweep alelab/Autoformer/bdqgoved (FINISHED)>. Filling all poitwisewith NAN.\n",
      "WARNING!! Missing pointwise/cvar/0.01 in run 7oz8ja72 on sweep <Sweep alelab/Autoformer/qmtf2khh (FINISHED)>. Filling all poitwisewith NAN.\n",
      "WARNING!! Missing pointwise/cvar/0.01 in run jjsj4739 on sweep <Sweep alelab/Autoformer/jovrq4s9 (FINISHED)>. Filling all poitwisewith NAN.\n",
      "WARNING!! Missing pointwise/cvar/0.01 in run ay9ibumy on sweep <Sweep alelab/Autoformer/jgu3zr4j (FINISHED)>. Filling all poitwisewith NAN.\n",
      "WARNING!! Missing pointwise/cvar/0.01 in run 1xkus39z on sweep <Sweep alelab/Autoformer/ih7ztgdb (FINISHED)>. Filling all poitwisewith NAN.\n"
     ]
    },
    {
     "name": "stderr",
     "output_type": "stream",
     "text": [
      "  7%|▋         | 13/192 [00:00<00:04, 37.15it/s]"
     ]
    },
    {
     "name": "stdout",
     "output_type": "stream",
     "text": [
      "WARNING!! Missing pointwise/cvar/0.01 in run gpoxp0x1 on sweep <Sweep alelab/Autoformer/ij5rifgr (FINISHED)>. Filling all poitwisewith NAN.\n",
      "WARNING!! Missing pointwise/cvar/0.01 in run nd19yoes on sweep <Sweep alelab/Autoformer/6epg921u (FINISHED)>. Filling all poitwisewith NAN.\n",
      "WARNING!! Missing pointwise/cvar/0.01 in run 50h0t7of on sweep <Sweep alelab/Autoformer/vqgzd86m (FINISHED)>. Filling all poitwisewith NAN.\n",
      "WARNING!! Missing pointwise/cvar/0.01 in run tui58mt3 on sweep <Sweep alelab/Autoformer/pn2yjox2 (FINISHED)>. Filling all poitwisewith NAN.\n",
      "WARNING!! Missing pointwise/cvar/0.01 in run gnk48xkp on sweep <Sweep alelab/Autoformer/x7avaixr (FINISHED)>. Filling all poitwisewith NAN.\n",
      "WARNING!! Missing pointwise/cvar/0.01 in run 6j2noc51 on sweep <Sweep alelab/Autoformer/g64vvc0h (FINISHED)>. Filling all poitwisewith NAN.\n",
      "WARNING!! Missing pointwise/cvar/0.01 in run xfb5tk8w on sweep <Sweep alelab/Autoformer/4hayxhai (FINISHED)>. Filling all poitwisewith NAN.\n",
      "WARNING!! Missing pointwise/cvar/0.01 in run ksfevn28 on sweep <Sweep alelab/Autoformer/malxty8x (FINISHED)>. Filling all poitwisewith NAN.\n",
      "WARNING!! Missing pointwise/cvar/0.01 in run cwjbes7f on sweep <Sweep alelab/Autoformer/4jr08uyp (FINISHED)>. Filling all poitwisewith NAN.\n",
      "WARNING!! Missing pointwise/cvar/0.01 in run kfuuukti on sweep <Sweep alelab/Autoformer/2ysggjyi (FINISHED)>. Filling all poitwisewith NAN.\n"
     ]
    },
    {
     "name": "stderr",
     "output_type": "stream",
     "text": [
      " 12%|█▏        | 23/192 [00:00<00:04, 40.21it/s]"
     ]
    },
    {
     "name": "stdout",
     "output_type": "stream",
     "text": [
      "WARNING!! Missing pointwise/cvar/0.01 in run 439yla73 on sweep <Sweep alelab/Autoformer/jleouwk7 (FINISHED)>. Filling all poitwisewith NAN.\n",
      "WARNING!! Missing pointwise/cvar/0.01 in run eytsqy7m on sweep <Sweep alelab/Autoformer/ms94lurw (FINISHED)>. Filling all poitwisewith NAN.\n",
      "WARNING!! Missing pointwise/cvar/0.01 in run ip9y6a4k on sweep <Sweep alelab/Autoformer/q2t9mtr4 (FINISHED)>. Filling all poitwisewith NAN.\n",
      "WARNING!! Missing pointwise/cvar/0.01 in run 86dc8cwx on sweep <Sweep alelab/Autoformer/zg6f9iii (FINISHED)>. Filling all poitwisewith NAN.\n",
      "WARNING!! Missing pointwise/cvar/0.01 in run 3qoeuaat on sweep <Sweep alelab/Autoformer/lphl6s91 (FINISHED)>. Filling all poitwisewith NAN.\n",
      "WARNING!! Missing pointwise/cvar/0.01 in run uprohtvz on sweep <Sweep alelab/Autoformer/7sr9knsu (FINISHED)>. Filling all poitwisewith NAN.\n",
      "WARNING!! Missing pointwise/cvar/0.01 in run yxhpr6ic on sweep <Sweep alelab/Autoformer/wu4k3c1o (FINISHED)>. Filling all poitwisewith NAN.\n",
      "WARNING!! Missing pointwise/cvar/0.01 in run sk7sg3n3 on sweep <Sweep alelab/Autoformer/7e5oibix (FINISHED)>. Filling all poitwisewith NAN.\n",
      "WARNING!! Missing pointwise/cvar/0.01 in run dcfna4az on sweep <Sweep alelab/Autoformer/beei2j6d (FINISHED)>. Filling all poitwisewith NAN.\n"
     ]
    },
    {
     "name": "stderr",
     "output_type": "stream",
     "text": [
      " 17%|█▋        | 33/192 [00:00<00:03, 40.26it/s]"
     ]
    },
    {
     "name": "stdout",
     "output_type": "stream",
     "text": [
      "WARNING!! Missing pointwise/cvar/0.01 in run 5uto0nxr on sweep <Sweep alelab/Autoformer/0kwiroaf (FINISHED)>. Filling all poitwisewith NAN.\n",
      "WARNING!! Missing pointwise/cvar/0.01 in run l7jvpe39 on sweep <Sweep alelab/Autoformer/mhdrbll3 (FINISHED)>. Filling all poitwisewith NAN.\n",
      "WARNING!! Missing pointwise/cvar/0.01 in run db3i21fz on sweep <Sweep alelab/Autoformer/7celq6eh (FINISHED)>. Filling all poitwisewith NAN.\n",
      "WARNING!! Missing pointwise/cvar/0.01 in run b1caisae on sweep <Sweep alelab/Autoformer/yawhqlpn (FINISHED)>. Filling all poitwisewith NAN.\n",
      "WARNING!! Missing pointwise/cvar/0.01 in run 62dnzdxi on sweep <Sweep alelab/Autoformer/nf72fk0z (FINISHED)>. Filling all poitwisewith NAN.\n",
      "WARNING!! Missing pointwise/cvar/0.01 in run k412jc7r on sweep <Sweep alelab/Autoformer/8prc32x7 (FINISHED)>. Filling all poitwisewith NAN.\n",
      "WARNING!! Missing pointwise/cvar/0.01 in run j3yo6fq8 on sweep <Sweep alelab/Autoformer/gqq1b8r8 (FINISHED)>. Filling all poitwisewith NAN.\n",
      "WARNING!! Missing pointwise/cvar/0.01 in run o0qhncz7 on sweep <Sweep alelab/Autoformer/umtzz0hw (FINISHED)>. Filling all poitwisewith NAN.\n",
      "WARNING!! Missing pointwise/cvar/0.01 in run 6mmjgtah on sweep <Sweep alelab/Autoformer/fk4os6sx (FINISHED)>. Filling all poitwisewith NAN.\n",
      "WARNING!! Missing pointwise/cvar/0.01 in run 2wewampa on sweep <Sweep alelab/Autoformer/7vqy5011 (FINISHED)>. Filling all poitwisewith NAN.\n",
      "WARNING!! Missing pointwise/cvar/0.01 in run ks32q5jx on sweep <Sweep alelab/Autoformer/muicf0pt (FINISHED)>. Filling all poitwisewith NAN.\n"
     ]
    },
    {
     "name": "stderr",
     "output_type": "stream",
     "text": [
      " 22%|██▏       | 43/192 [00:01<00:03, 41.38it/s]"
     ]
    },
    {
     "name": "stdout",
     "output_type": "stream",
     "text": [
      "WARNING!! Missing pointwise/cvar/0.01 in run g52o4jwl on sweep <Sweep alelab/Autoformer/dm3sc6v1 (FINISHED)>. Filling all poitwisewith NAN.\n",
      "WARNING!! Missing pointwise/cvar/0.01 in run 5ek1fc7e on sweep <Sweep alelab/Autoformer/ipvccq3y (FINISHED)>. Filling all poitwisewith NAN.\n",
      "WARNING!! Missing pointwise/cvar/0.01 in run vdaqi82n on sweep <Sweep alelab/Autoformer/ec4c4bc9 (FINISHED)>. Filling all poitwisewith NAN.\n",
      "WARNING!! Missing pointwise/cvar/0.01 in run ba8ap51c on sweep <Sweep alelab/Autoformer/m0vv03l6 (FINISHED)>. Filling all poitwisewith NAN.\n",
      "WARNING!! Missing pointwise/cvar/0.01 in run 11qp3e06 on sweep <Sweep alelab/Autoformer/yg5sphit (FINISHED)>. Filling all poitwisewith NAN.\n",
      "WARNING!! Missing pointwise/cvar/0.01 in run o6zjneop on sweep <Sweep alelab/Autoformer/krwdbmny (FINISHED)>. Filling all poitwisewith NAN.\n",
      "WARNING!! Missing pointwise/cvar/0.01 in run y7zsdtty on sweep <Sweep alelab/Autoformer/ka8yc8l6 (FINISHED)>. Filling all poitwisewith NAN.\n",
      "WARNING!! Missing pointwise/cvar/0.01 in run txmp81ud on sweep <Sweep alelab/Autoformer/6fmwev9y (FINISHED)>. Filling all poitwisewith NAN.\n",
      "WARNING!! Missing pointwise/cvar/0.01 in run h64i8mkd on sweep <Sweep alelab/Autoformer/ut1fbrt5 (FINISHED)>. Filling all poitwisewith NAN.\n",
      "WARNING!! Missing pointwise/cvar/0.01 in run 3ei59lp3 on sweep <Sweep alelab/Autoformer/geap6ti6 (FINISHED)>. Filling all poitwisewith NAN.\n"
     ]
    },
    {
     "name": "stderr",
     "output_type": "stream",
     "text": [
      " 25%|██▌       | 48/192 [00:01<00:03, 42.15it/s]"
     ]
    },
    {
     "name": "stdout",
     "output_type": "stream",
     "text": [
      "WARNING!! Missing pointwise/cvar/0.01 in run ja0rn2gv on sweep <Sweep alelab/Autoformer/foko19vi (FINISHED)>. Filling all poitwisewith NAN.\n",
      "WARNING!! Missing pointwise/cvar/0.01 in run b70rydp4 on sweep <Sweep alelab/Autoformer/6086greh (FINISHED)>. Filling all poitwisewith NAN.\n",
      "WARNING!! Missing pointwise/cvar/0.01 in run kpnkn1r2 on sweep <Sweep alelab/Autoformer/nb5kttk8 (FINISHED)>. Filling all poitwisewith NAN.\n"
     ]
    },
    {
     "name": "stderr",
     "output_type": "stream",
     "text": [
      " 29%|██▊       | 55/192 [00:15<01:37,  1.40it/s]"
     ]
    },
    {
     "name": "stdout",
     "output_type": "stream",
     "text": [
      "WARNING!! Missing pointwise/cvar/0.01 in run bhviq1q1 on sweep <Sweep alelab/Autoformer/tn4bxfln (FINISHED)>. Filling all poitwisewith NAN.\n",
      "WARNING!! Missing pointwise/cvar/0.01 in run pr9dq59i on sweep <Sweep alelab/Autoformer/gwu84886 (FINISHED)>. Filling all poitwisewith NAN.\n",
      "WARNING!! Missing pointwise/cvar/0.01 in run rdvtzdu0 on sweep <Sweep alelab/Autoformer/guvabvpo (FINISHED)>. Filling all poitwisewith NAN.\n",
      "WARNING!! Missing pointwise/cvar/0.01 in run d6gw6vlr on sweep <Sweep alelab/Autoformer/5bcsrvnl (FINISHED)>. Filling all poitwisewith NAN.\n",
      "WARNING!! Missing pointwise/cvar/0.01 in run k1aosmmt on sweep <Sweep alelab/Autoformer/fiy8h5az (FINISHED)>. Filling all poitwisewith NAN.\n",
      "WARNING!! Missing pointwise/cvar/0.01 in run uep6h233 on sweep <Sweep alelab/Autoformer/k3dmlfro (FINISHED)>. Filling all poitwisewith NAN.\n",
      "WARNING!! Missing pointwise/cvar/0.01 in run yzczzq3k on sweep <Sweep alelab/Autoformer/yzsnf55y (FINISHED)>. Filling all poitwisewith NAN.\n",
      "WARNING!! Missing pointwise/cvar/0.01 in run mlmc38hm on sweep <Sweep alelab/Autoformer/uoh7i5rc (FINISHED)>. Filling all poitwisewith NAN.\n"
     ]
    },
    {
     "name": "stderr",
     "output_type": "stream",
     "text": [
      " 34%|███▍      | 65/192 [00:15<00:42,  3.01it/s]"
     ]
    },
    {
     "name": "stdout",
     "output_type": "stream",
     "text": [
      "WARNING!! Missing pointwise/cvar/0.01 in run yu9b53b8 on sweep <Sweep alelab/Autoformer/zob1igh4 (FINISHED)>. Filling all poitwisewith NAN.\n",
      "WARNING!! Missing pointwise/cvar/0.01 in run 5l0zgu6c on sweep <Sweep alelab/Autoformer/weuxhx1e (FINISHED)>. Filling all poitwisewith NAN.\n",
      "WARNING!! Missing pointwise/cvar/0.01 in run 05ldp6w5 on sweep <Sweep alelab/Autoformer/b42q8ht9 (FINISHED)>. Filling all poitwisewith NAN.\n",
      "WARNING!! Missing pointwise/cvar/0.01 in run l3bpw796 on sweep <Sweep alelab/Autoformer/06ih897h (FINISHED)>. Filling all poitwisewith NAN.\n",
      "WARNING!! Missing pointwise/cvar/0.01 in run 4qlccmoa on sweep <Sweep alelab/Autoformer/ttuyqvng (FINISHED)>. Filling all poitwisewith NAN.\n",
      "WARNING!! Missing pointwise/cvar/0.01 in run u1iukrhd on sweep <Sweep alelab/Autoformer/2z5n2cwk (FINISHED)>. Filling all poitwisewith NAN.\n",
      "WARNING!! Missing pointwise/cvar/0.01 in run sw5t7xek on sweep <Sweep alelab/Autoformer/791d07s2 (FINISHED)>. Filling all poitwisewith NAN.\n",
      "WARNING!! Missing pointwise/cvar/0.01 in run zsadrz2y on sweep <Sweep alelab/Autoformer/eravqb9r (FINISHED)>. Filling all poitwisewith NAN.\n",
      "WARNING!! Missing pointwise/cvar/0.01 in run s0mrw3ye on sweep <Sweep alelab/Autoformer/mve9obua (FINISHED)>. Filling all poitwisewith NAN.\n",
      "WARNING!! Missing pointwise/cvar/0.01 in run j2m09yy2 on sweep <Sweep alelab/Autoformer/xzi7bo8j (FINISHED)>. Filling all poitwisewith NAN.\n",
      "WARNING!! Missing pointwise/cvar/0.01 in run ur1azjs9 on sweep <Sweep alelab/Autoformer/k557eg9z (FINISHED)>. Filling all poitwisewith NAN.\n"
     ]
    },
    {
     "name": "stderr",
     "output_type": "stream",
     "text": [
      " 39%|███▉      | 75/192 [00:15<00:19,  5.94it/s]"
     ]
    },
    {
     "name": "stdout",
     "output_type": "stream",
     "text": [
      "WARNING!! Missing pointwise/cvar/0.01 in run q1r4yiu9 on sweep <Sweep alelab/Autoformer/vhwknc8m (FINISHED)>. Filling all poitwisewith NAN.\n",
      "WARNING!! Missing pointwise/cvar/0.01 in run bb6twx2q on sweep <Sweep alelab/Autoformer/7t0qxjcb (FINISHED)>. Filling all poitwisewith NAN.\n",
      "WARNING!! Missing pointwise/cvar/0.01 in run nsiwidck on sweep <Sweep alelab/Autoformer/ilvbuaoy (FINISHED)>. Filling all poitwisewith NAN.\n",
      "WARNING!! Missing pointwise/cvar/0.01 in run ibbyuqn3 on sweep <Sweep alelab/Autoformer/jd1tfgpq (FINISHED)>. Filling all poitwisewith NAN.\n",
      "WARNING!! Missing pointwise/cvar/0.01 in run hvqu1tfr on sweep <Sweep alelab/Autoformer/4z2ybqz7 (FINISHED)>. Filling all poitwisewith NAN.\n",
      "WARNING!! Missing pointwise/cvar/0.01 in run 91fw9zex on sweep <Sweep alelab/Autoformer/w84kyhyg (FINISHED)>. Filling all poitwisewith NAN.\n",
      "WARNING!! Missing pointwise/cvar/0.01 in run ffl7oth7 on sweep <Sweep alelab/Autoformer/1oex1295 (FINISHED)>. Filling all poitwisewith NAN.\n",
      "WARNING!! Missing pointwise/cvar/0.01 in run mpgx51bw on sweep <Sweep alelab/Autoformer/jo0t4rer (FINISHED)>. Filling all poitwisewith NAN.\n",
      "WARNING!! Missing pointwise/cvar/0.01 in run 62cemmyy on sweep <Sweep alelab/Autoformer/o90zpuvs (FINISHED)>. Filling all poitwisewith NAN.\n"
     ]
    },
    {
     "name": "stderr",
     "output_type": "stream",
     "text": [
      " 44%|████▍     | 85/192 [00:15<00:10, 10.66it/s]"
     ]
    },
    {
     "name": "stdout",
     "output_type": "stream",
     "text": [
      "WARNING!! Missing pointwise/cvar/0.01 in run 4olsvawh on sweep <Sweep alelab/Autoformer/2okec97v (FINISHED)>. Filling all poitwisewith NAN.\n",
      "WARNING!! Missing pointwise/cvar/0.01 in run w1wn4qqx on sweep <Sweep alelab/Autoformer/3k5qav7y (FINISHED)>. Filling all poitwisewith NAN.\n",
      "WARNING!! Missing pointwise/cvar/0.01 in run c2z9d0t8 on sweep <Sweep alelab/Autoformer/sgbpcs4q (FINISHED)>. Filling all poitwisewith NAN.\n",
      "WARNING!! Missing pointwise/cvar/0.01 in run e455h1k0 on sweep <Sweep alelab/Autoformer/u5e8ow3y (FINISHED)>. Filling all poitwisewith NAN.\n",
      "WARNING!! Missing pointwise/cvar/0.01 in run ox8algen on sweep <Sweep alelab/Autoformer/yt5ayx5e (FINISHED)>. Filling all poitwisewith NAN.\n",
      "WARNING!! Missing pointwise/cvar/0.01 in run xr2jk7lt on sweep <Sweep alelab/Autoformer/p9k1mt0c (FINISHED)>. Filling all poitwisewith NAN.\n",
      "WARNING!! Missing pointwise/cvar/0.01 in run k00insgj on sweep <Sweep alelab/Autoformer/6l3c737s (FINISHED)>. Filling all poitwisewith NAN.\n",
      "WARNING!! Missing pointwise/cvar/0.01 in run ffd4818l on sweep <Sweep alelab/Autoformer/lwfa4yvw (FINISHED)>. Filling all poitwisewith NAN.\n",
      "WARNING!! Missing pointwise/cvar/0.01 in run 64efpyc2 on sweep <Sweep alelab/Autoformer/ay8bzncm (FINISHED)>. Filling all poitwisewith NAN.\n",
      "WARNING!! Missing pointwise/cvar/0.01 in run 7my0l1si on sweep <Sweep alelab/Autoformer/cc4fxsi8 (FINISHED)>. Filling all poitwisewith NAN.\n",
      "WARNING!! Missing pointwise/cvar/0.01 in run ww4kpulq on sweep <Sweep alelab/Autoformer/8sm95l0r (FINISHED)>. Filling all poitwisewith NAN.\n"
     ]
    },
    {
     "name": "stderr",
     "output_type": "stream",
     "text": [
      " 49%|████▉     | 95/192 [00:16<00:05, 17.34it/s]"
     ]
    },
    {
     "name": "stdout",
     "output_type": "stream",
     "text": [
      "WARNING!! Missing pointwise/cvar/0.01 in run qeenbsu5 on sweep <Sweep alelab/Autoformer/75n9vzks (FINISHED)>. Filling all poitwisewith NAN.\n",
      "WARNING!! Missing pointwise/cvar/0.01 in run tqley6a5 on sweep <Sweep alelab/Autoformer/g0hic2vn (FINISHED)>. Filling all poitwisewith NAN.\n",
      "WARNING!! Missing pointwise/cvar/0.01 in run jw4e9epr on sweep <Sweep alelab/Autoformer/ntzatkhy (FINISHED)>. Filling all poitwisewith NAN.\n",
      "WARNING!! Missing pointwise/cvar/0.01 in run 6l7um9wg on sweep <Sweep alelab/Autoformer/gn006mm1 (FINISHED)>. Filling all poitwisewith NAN.\n",
      "WARNING!! Missing pointwise/cvar/0.01 in run ayww0muj on sweep <Sweep alelab/Autoformer/mw4r77si (FINISHED)>. Filling all poitwisewith NAN.\n",
      "WARNING!! Missing pointwise/cvar/0.01 in run q6cb9nhs on sweep <Sweep alelab/Autoformer/2tz5kkc8 (FINISHED)>. Filling all poitwisewith NAN.\n",
      "WARNING!! Missing pointwise/cvar/0.01 in run 38y472rp on sweep <Sweep alelab/Autoformer/sfa8rh7p (FINISHED)>. Filling all poitwisewith NAN.\n"
     ]
    },
    {
     "name": "stderr",
     "output_type": "stream",
     "text": [
      " 62%|██████▏   | 119/192 [00:27<00:18,  3.96it/s]"
     ]
    },
    {
     "name": "stdout",
     "output_type": "stream",
     "text": [
      "WARNING!! Missing pointwise/cvar/0.01 in run 35735x1j on sweep <Sweep alelab/Autoformer/chvonje1 (FINISHED)>. Filling all poitwisewith NAN.\n",
      "WARNING!! Missing pointwise/cvar/0.01 in run poayaf3m on sweep <Sweep alelab/Autoformer/chvonje1 (FINISHED)>. Filling all poitwisewith NAN.\n",
      "WARNING!! Missing pointwise/cvar/0.01 in run 8ieeirpi on sweep <Sweep alelab/Autoformer/chvonje1 (FINISHED)>. Filling all poitwisewith NAN.\n",
      "WARNING!! Missing pointwise/cvar/0.01 in run 8uxsilax on sweep <Sweep alelab/Autoformer/chvonje1 (FINISHED)>. Filling all poitwisewith NAN.\n",
      "WARNING!! Missing pointwise/cvar/0.01 in run li5t330d on sweep <Sweep alelab/Autoformer/chvonje1 (FINISHED)>. Filling all poitwisewith NAN.\n",
      "WARNING!! Missing pointwise/cvar/0.01 in run kshrpq3s on sweep <Sweep alelab/Autoformer/chvonje1 (FINISHED)>. Filling all poitwisewith NAN.\n",
      "WARNING!! Missing pointwise/cvar/0.01 in run 8ja7o6jn on sweep <Sweep alelab/Autoformer/chvonje1 (FINISHED)>. Filling all poitwisewith NAN.\n",
      "WARNING!! Missing pointwise/cvar/0.01 in run d2xlb5rf on sweep <Sweep alelab/Autoformer/chvonje1 (FINISHED)>. Filling all poitwisewith NAN.\n",
      "WARNING!! Missing pointwise/cvar/0.01 in run y6ciggbo on sweep <Sweep alelab/Autoformer/chvonje1 (FINISHED)>. Filling all poitwisewith NAN.\n"
     ]
    },
    {
     "name": "stderr",
     "output_type": "stream",
     "text": [
      " 66%|██████▌   | 127/192 [00:27<00:09,  6.72it/s]"
     ]
    },
    {
     "name": "stdout",
     "output_type": "stream",
     "text": [
      "WARNING!! Missing pointwise/cvar/0.01 in run iew85sck on sweep <Sweep alelab/Autoformer/chvonje1 (FINISHED)>. Filling all poitwisewith NAN.\n",
      "WARNING!! Missing pointwise/cvar/0.01 in run p2iu3w6t on sweep <Sweep alelab/Autoformer/chvonje1 (FINISHED)>. Filling all poitwisewith NAN.\n",
      "WARNING!! Missing pointwise/cvar/0.01 in run g8ajpgu9 on sweep <Sweep alelab/Autoformer/chvonje1 (FINISHED)>. Filling all poitwisewith NAN.\n",
      "WARNING!! Missing pointwise/cvar/0.01 in run dnhgyj1h on sweep <Sweep alelab/Autoformer/chvonje1 (FINISHED)>. Filling all poitwisewith NAN.\n",
      "WARNING!! Missing pointwise/cvar/0.01 in run e24epvkh on sweep <Sweep alelab/Autoformer/chvonje1 (FINISHED)>. Filling all poitwisewith NAN.\n",
      "WARNING!! Missing pointwise/cvar/0.01 in run mtazn79p on sweep <Sweep alelab/Autoformer/chvonje1 (FINISHED)>. Filling all poitwisewith NAN.\n",
      "WARNING!! Missing pointwise/cvar/0.01 in run hwcf6izm on sweep <Sweep alelab/Autoformer/chvonje1 (FINISHED)>. Filling all poitwisewith NAN.\n"
     ]
    },
    {
     "name": "stderr",
     "output_type": "stream",
     "text": [
      " 88%|████████▊ | 168/192 [00:37<00:04,  5.44it/s]"
     ]
    },
    {
     "name": "stdout",
     "output_type": "stream",
     "text": [
      "WARNING!! Missing pointwise/cvar/0.01 in run ks36on6j on sweep <Sweep alelab/Autoformer/kuvo82ub (FINISHED)>. Filling all poitwisewith NAN.\n",
      "WARNING!! Missing pointwise/cvar/0.01 in run x03d8gyt on sweep <Sweep alelab/Autoformer/kuvo82ub (FINISHED)>. Filling all poitwisewith NAN.\n",
      "WARNING!! Missing pointwise/cvar/0.01 in run h2qh7sdt on sweep <Sweep alelab/Autoformer/kuvo82ub (FINISHED)>. Filling all poitwisewith NAN.\n",
      "WARNING!! Missing pointwise/cvar/0.01 in run ex45lpjw on sweep <Sweep alelab/Autoformer/kuvo82ub (FINISHED)>. Filling all poitwisewith NAN.\n",
      "WARNING!! Missing pointwise/cvar/0.01 in run vxcdnkp8 on sweep <Sweep alelab/Autoformer/kuvo82ub (FINISHED)>. Filling all poitwisewith NAN.\n",
      "WARNING!! Missing pointwise/cvar/0.01 in run nyr0i9ht on sweep <Sweep alelab/Autoformer/kuvo82ub (FINISHED)>. Filling all poitwisewith NAN.\n",
      "WARNING!! Missing pointwise/cvar/0.01 in run fy68ul7h on sweep <Sweep alelab/Autoformer/kuvo82ub (FINISHED)>. Filling all poitwisewith NAN.\n",
      "WARNING!! Missing pointwise/cvar/0.01 in run ov93q8te on sweep <Sweep alelab/Autoformer/kuvo82ub (FINISHED)>. Filling all poitwisewith NAN.\n",
      "WARNING!! Missing pointwise/cvar/0.01 in run 0wvmszxw on sweep <Sweep alelab/Autoformer/kuvo82ub (FINISHED)>. Filling all poitwisewith NAN.\n"
     ]
    },
    {
     "name": "stderr",
     "output_type": "stream",
     "text": [
      " 92%|█████████▏| 176/192 [00:37<00:01,  9.51it/s]"
     ]
    },
    {
     "name": "stdout",
     "output_type": "stream",
     "text": [
      "WARNING!! Missing pointwise/cvar/0.01 in run mo4lpvuo on sweep <Sweep alelab/Autoformer/kuvo82ub (FINISHED)>. Filling all poitwisewith NAN.\n",
      "WARNING!! Missing pointwise/cvar/0.01 in run ewl2bwc9 on sweep <Sweep alelab/Autoformer/kuvo82ub (FINISHED)>. Filling all poitwisewith NAN.\n",
      "WARNING!! Missing pointwise/cvar/0.01 in run 092u33lj on sweep <Sweep alelab/Autoformer/kuvo82ub (FINISHED)>. Filling all poitwisewith NAN.\n",
      "WARNING!! Missing pointwise/cvar/0.01 in run gi0mw9h7 on sweep <Sweep alelab/Autoformer/kuvo82ub (FINISHED)>. Filling all poitwisewith NAN.\n",
      "WARNING!! Missing pointwise/cvar/0.01 in run 0roswz2a on sweep <Sweep alelab/Autoformer/kuvo82ub (FINISHED)>. Filling all poitwisewith NAN.\n",
      "WARNING!! Missing pointwise/cvar/0.01 in run j30xdff9 on sweep <Sweep alelab/Autoformer/kuvo82ub (FINISHED)>. Filling all poitwisewith NAN.\n",
      "WARNING!! Missing pointwise/cvar/0.01 in run uglzgsuo on sweep <Sweep alelab/Autoformer/kuvo82ub (FINISHED)>. Filling all poitwisewith NAN.\n"
     ]
    },
    {
     "name": "stderr",
     "output_type": "stream",
     "text": [
      "100%|██████████| 192/192 [00:38<00:00,  5.04it/s]\n"
     ]
    },
    {
     "name": "stdout",
     "output_type": "stream",
     "text": [
      "Fetched 192 runs\n",
      "Total records: (193536, 108)\n",
      "Total runs: 192\n",
      "Backup data saved as pickle: ../data_backups/2024_03_29__original_monotonic_plus_erm.pkl\n",
      "Backup data saved as CSV: ../data_backups/2024_03_29__original_monotonic_plus_erm.csv\n",
      "Returning backed up data as a pandas DF\n"
     ]
    }
   ],
   "source": [
    "experiment_tags = [\n",
    "'e16_finaljan_allerm_replicated',\n",
    "#'e17_finaljan_constant_constrained_replicated',\n",
    "# 'e18_icml_constant_constrained_loose',\n",
    "# 'e19_icml_resilience_val',\n",
    "# 'e19_icml_resilience_train',\n",
    "'e20_icml_monotonic',\n",
    "'e20_icml_monotonic_no_resilience',\n",
    "# 'e21_icml_static_linear_no_resilience',\n",
    "# 'e21_icml_static_linear_resilience',\n",
    "]\n",
    "saved_data = data_backup.backup_experiment_data(\n",
    "    experiment_tags = experiment_tags,\n",
    "    filename_prefix=\"../data_backups/2024_03_29__original_monotonic_plus_erm\"\n",
    ")"
   ]
  },
  {
   "cell_type": "markdown",
   "id": "6b6382fe",
   "metadata": {},
   "source": [
    "# Debug and benchmark"
   ]
  },
  {
   "cell_type": "code",
   "execution_count": 5,
   "id": "c0f13f7e",
   "metadata": {},
   "outputs": [
    {
     "name": "stdout",
     "output_type": "stream",
     "text": [
      "Benchmarking three metrics \n",
      "Experiment tags being considered: ['dev_benchmark_wandb_dl']\n",
      "Saving to backup data filename: ../data_backups/deleteme_speed_benchmark\n"
     ]
    },
    {
     "name": "stderr",
     "output_type": "stream",
     "text": [
      "100%|██████████| 15/15 [00:00<00:00, 96.03it/s] \n"
     ]
    },
    {
     "name": "stdout",
     "output_type": "stream",
     "text": [
      "WARNING!! Missing pointwise/cvar/0.01 in run srfnlxpq on sweep None. Filling all poitwisewith NAN.\n",
      "WARNING!! Missing pointwise/cvar/0.01 in run 29z2zody on sweep None. Filling all poitwisewith NAN.\n",
      "WARNING!! Missing pointwise/cvar/0.01 in run c1vx993c on sweep None. Filling all poitwisewith NAN.\n",
      "WARNING!! Missing pointwise/cvar/0.01 in run dee09yde on sweep None. Filling all poitwisewith NAN.\n",
      "WARNING!! Missing pointwise/cvar/0.01 in run 93mstn5t on sweep None. Filling all poitwisewith NAN.\n",
      "WARNING!! Missing pointwise/cvar/0.01 in run 8v5a5rd9 on sweep None. Filling all poitwisewith NAN.\n",
      "WARNING!! Missing pointwise/cvar/0.01 in run 4ccjigue on sweep None. Filling all poitwisewith NAN.\n",
      "WARNING!! Missing pointwise/cvar/0.01 in run v8l2gqvu on sweep None. Filling all poitwisewith NAN.\n",
      "WARNING!! Missing pointwise/cvar/0.01 in run i1zkvnim on sweep None. Filling all poitwisewith NAN.\n",
      "WARNING!! Missing pointwise/cvar/0.01 in run f5g7pedj on sweep None. Filling all poitwisewith NAN.\n",
      "WARNING!! Missing pointwise/cvar/0.01 in run 8st2iumu on sweep None. Filling all poitwisewith NAN.\n",
      "WARNING!! Missing pointwise/cvar/0.01 in run 0ps2eaux on sweep None. Filling all poitwisewith NAN.\n",
      "WARNING!! Missing pointwise/cvar/0.01 in run lj5bfyj3 on sweep None. Filling all poitwisewith NAN.\n",
      "WARNING!! Missing pointwise/cvar/0.01 in run 6f89gond on sweep None. Filling all poitwisewith NAN.\n",
      "WARNING!! Missing pointwise/cvar/0.01 in run 96wcnklv on sweep None. Filling all poitwisewith NAN.\n",
      "Fetched 15 runs\n",
      "Total records: (8640, 119)\n",
      "Total runs: 15\n",
      "Backup data saved as pickle: ../data_backups/deleteme_speed_benchmark.pkl\n",
      "Backup data saved as CSV: ../data_backups/deleteme_speed_benchmark.csv\n",
      "Returning backed up data as a pandas DF\n",
      "CPU times: user 1.2 s, sys: 172 ms, total: 1.37 s\n",
      "Wall time: 3.63 s\n"
     ]
    }
   ],
   "source": [
    "%%time\n",
    "print(\"Benchmarking three metrics \")\n",
    "saved_data = data_backup.backup_experiment_data(\n",
    "    experiment_tags = [\n",
    "        \"dev_benchmark_wandb_dl\",\n",
    "    ],\n",
    "    filename_prefix=\"../data_backups/deleteme_speed_benchmark\"\n",
    ")"
   ]
  },
  {
   "cell_type": "code",
   "execution_count": 39,
   "id": "1e41b97f",
   "metadata": {},
   "outputs": [
    {
     "name": "stdout",
     "output_type": "stream",
     "text": [
      "Experiment tags being considered: ['erm_rebuttal_newmodels']\n",
      "Saving to backup data filename: ../data_backups/deleteme_dev\n"
     ]
    },
    {
     "name": "stderr",
     "output_type": "stream",
     "text": [
      "  6%|▌         | 5/83 [00:00<00:02, 34.60it/s]"
     ]
    },
    {
     "name": "stdout",
     "output_type": "stream",
     "text": [
      "WARNING!! Missing pointwise/cvar/0.01 in run y2shj0jp on sweep None. Filling all poitwisewith NAN.\n",
      "WARNING!! Missing pointwise/cvar/0.01 in run v1xbb1y6 on sweep None. Filling all poitwisewith NAN.\n",
      "WARNING!! Missing pointwise/cvar/0.01 in run hmi3lxxs on sweep None. Filling all poitwisewith NAN.\n",
      "WARNING!! Missing pointwise/cvar/0.01 in run 9hu9f3df on sweep None. Filling all poitwisewith NAN.\n",
      "WARNING!! Missing pointwise/cvar/0.01 in run c3zzb05x on sweep None. Filling all poitwisewith NAN.\n",
      "WARNING!! Missing pointwise/cvar/0.01 in run vjbq485j on sweep None. Filling all poitwisewith NAN.\n",
      "WARNING!! Missing pointwise/cvar/0.01 in run b7s8jptd on sweep None. Filling all poitwisewith NAN.\n"
     ]
    },
    {
     "name": "stderr",
     "output_type": "stream",
     "text": [
      " 17%|█▋        | 14/83 [00:00<00:01, 36.72it/s]"
     ]
    },
    {
     "name": "stdout",
     "output_type": "stream",
     "text": [
      "WARNING!! Missing pointwise/cvar/0.01 in run nilwbio1 on sweep None. Filling all poitwisewith NAN.\n",
      "WARNING!! Missing pointwise/cvar/0.01 in run jgykcbi0 on sweep None. Filling all poitwisewith NAN.\n",
      "WARNING!! Missing pointwise/cvar/0.01 in run ci9ssydd on sweep None. Filling all poitwisewith NAN.\n",
      "WARNING!! Missing pointwise/cvar/0.01 in run q3x2oux3 on sweep None. Filling all poitwisewith NAN.\n",
      "WARNING!! Missing pointwise/cvar/0.01 in run rnbsyq2k on sweep None. Filling all poitwisewith NAN.\n",
      "WARNING!! Missing pointwise/cvar/0.01 in run mw9t2ygl on sweep None. Filling all poitwisewith NAN.\n",
      "WARNING!! Missing pointwise/cvar/0.01 in run nmhkgaj4 on sweep None. Filling all poitwisewith NAN.\n",
      "WARNING!! Missing pointwise/cvar/0.01 in run f4i2vy5f on sweep None. Filling all poitwisewith NAN.\n",
      "WARNING!! Missing pointwise/cvar/0.01 in run o1qr4wlh on sweep None. Filling all poitwisewith NAN.\n"
     ]
    },
    {
     "name": "stderr",
     "output_type": "stream",
     "text": [
      " 27%|██▋       | 22/83 [00:00<00:01, 36.64it/s]"
     ]
    },
    {
     "name": "stdout",
     "output_type": "stream",
     "text": [
      "WARNING!! Missing pointwise/cvar/0.01 in run flfhnh21 on sweep None. Filling all poitwisewith NAN.\n"
     ]
    },
    {
     "name": "stderr",
     "output_type": "stream",
     "text": [
      " 36%|███▌      | 30/83 [00:01<00:04, 11.62it/s]"
     ]
    },
    {
     "name": "stdout",
     "output_type": "stream",
     "text": [
      "WARNING!! Missing pointwise/cvar/0.01 in run ssafm6eb on sweep None. Filling all poitwisewith NAN.\n",
      "WARNING!! Missing pointwise/cvar/0.01 in run hi58ycu8 on sweep None. Filling all poitwisewith NAN.\n",
      "WARNING!! Missing pointwise/cvar/0.01 in run ugo2sq09 on sweep None. Filling all poitwisewith NAN.\n",
      "WARNING!! Missing pointwise/cvar/0.01 in run c2nb9f6u on sweep None. Filling all poitwisewith NAN.\n",
      "WARNING!! Missing pointwise/cvar/0.01 in run 4su66w4s on sweep None. Filling all poitwisewith NAN.\n"
     ]
    },
    {
     "name": "stderr",
     "output_type": "stream",
     "text": [
      " 47%|████▋     | 39/83 [00:02<00:02, 19.82it/s]"
     ]
    },
    {
     "name": "stdout",
     "output_type": "stream",
     "text": [
      "WARNING!! Missing pointwise/cvar/0.01 in run 3l8p07md on sweep None. Filling all poitwisewith NAN.\n",
      "WARNING!! Missing pointwise/cvar/0.01 in run vsrqp2wj on sweep None. Filling all poitwisewith NAN.\n",
      "WARNING!! Missing pointwise/cvar/0.01 in run x68ozuxw on sweep None. Filling all poitwisewith NAN.\n"
     ]
    },
    {
     "name": "stderr",
     "output_type": "stream",
     "text": [
      " 67%|██████▋   | 56/83 [00:09<00:09,  2.74it/s]"
     ]
    },
    {
     "name": "stdout",
     "output_type": "stream",
     "text": [
      "WARNING!! Missing pointwise/cvar/0.01 in run w6aaoqg5 on sweep None. Filling all poitwisewith NAN.\n",
      "WARNING!! Missing pointwise/cvar/0.01 in run dj3k89lq on sweep None. Filling all poitwisewith NAN.\n",
      "WARNING!! Missing pointwise/cvar/0.01 in run 9few0vri on sweep None. Filling all poitwisewith NAN.\n",
      "WARNING!! Missing pointwise/cvar/0.01 in run 0upvtnu8 on sweep None. Filling all poitwisewith NAN.\n"
     ]
    },
    {
     "name": "stderr",
     "output_type": "stream",
     "text": [
      " 88%|████████▊ | 73/83 [00:09<00:01,  9.27it/s]"
     ]
    },
    {
     "name": "stdout",
     "output_type": "stream",
     "text": [
      "WARNING!! Missing pointwise/cvar/0.01 in run bbedl2fm on sweep None. Filling all poitwisewith NAN.\n",
      "WARNING!! Missing pointwise/cvar/0.01 in run 2u2orrgj on sweep None. Filling all poitwisewith NAN.\n",
      "WARNING!! Missing pointwise/cvar/0.01 in run jpybtu8v on sweep None. Filling all poitwisewith NAN.\n",
      "WARNING!! Missing pointwise/cvar/0.01 in run nusqty14 on sweep None. Filling all poitwisewith NAN.\n"
     ]
    },
    {
     "name": "stderr",
     "output_type": "stream",
     "text": [
      "100%|██████████| 83/83 [00:10<00:00,  8.09it/s]\n"
     ]
    },
    {
     "name": "stdout",
     "output_type": "stream",
     "text": [
      "WARNING!! Missing pointwise/cvar/0.01 in run 93jqr60g on sweep None. Filling all poitwisewith NAN.\n",
      "WARNING!! Missing pointwise/cvar/0.01 in run rtu2j4af on sweep None. Filling all poitwisewith NAN.\n",
      "Fetched 83 runs\n",
      "Total records: (82512, 120)\n",
      "Total runs: 83\n",
      "Backup data saved as pickle: ../data_backups/deleteme_dev.pkl\n",
      "Backup data saved as CSV: ../data_backups/deleteme_dev.csv\n",
      "Returning backed up data as a pandas DF\n"
     ]
    }
   ],
   "source": [
    "#dev\n",
    "dd = data_backup.backup_experiment_data(\n",
    "    experiment_tags = [\n",
    "        \"erm_rebuttal_newmodels\"\n",
    "    ],\n",
    "    filename_prefix=\"../data_backups/deleteme_dev\"\n",
    ")"
   ]
  },
  {
   "cell_type": "code",
   "execution_count": 44,
   "id": "728d048f",
   "metadata": {},
   "outputs": [
    {
     "data": {
      "text/html": [
       "<div>\n",
       "<style scoped>\n",
       "    .dataframe tbody tr th:only-of-type {\n",
       "        vertical-align: middle;\n",
       "    }\n",
       "\n",
       "    .dataframe tbody tr th {\n",
       "        vertical-align: top;\n",
       "    }\n",
       "\n",
       "    .dataframe thead th {\n",
       "        text-align: right;\n",
       "    }\n",
       "</style>\n",
       "<table border=\"1\" class=\"dataframe\">\n",
       "  <thead>\n",
       "    <tr style=\"text-align: right;\">\n",
       "      <th></th>\n",
       "      <th>model</th>\n",
       "      <th>constraint_type</th>\n",
       "      <th>data_path</th>\n",
       "      <th>run_id</th>\n",
       "    </tr>\n",
       "  </thead>\n",
       "  <tbody>\n",
       "    <tr>\n",
       "      <th>10</th>\n",
       "      <td>Pyraformer</td>\n",
       "      <td>erm</td>\n",
       "      <td>traffic.csv</td>\n",
       "      <td>3</td>\n",
       "    </tr>\n",
       "    <tr>\n",
       "      <th>0</th>\n",
       "      <td>FiLM</td>\n",
       "      <td>erm</td>\n",
       "      <td>electricity.csv</td>\n",
       "      <td>4</td>\n",
       "    </tr>\n",
       "    <tr>\n",
       "      <th>16</th>\n",
       "      <td>iTransformer</td>\n",
       "      <td>erm</td>\n",
       "      <td>electricity.csv</td>\n",
       "      <td>4</td>\n",
       "    </tr>\n",
       "    <tr>\n",
       "      <th>15</th>\n",
       "      <td>TimesNet</td>\n",
       "      <td>erm</td>\n",
       "      <td>weather.csv</td>\n",
       "      <td>4</td>\n",
       "    </tr>\n",
       "    <tr>\n",
       "      <th>14</th>\n",
       "      <td>TimesNet</td>\n",
       "      <td>erm</td>\n",
       "      <td>traffic.csv</td>\n",
       "      <td>4</td>\n",
       "    </tr>\n",
       "    <tr>\n",
       "      <th>13</th>\n",
       "      <td>TimesNet</td>\n",
       "      <td>erm</td>\n",
       "      <td>exchange_rate.csv</td>\n",
       "      <td>4</td>\n",
       "    </tr>\n",
       "    <tr>\n",
       "      <th>12</th>\n",
       "      <td>TimesNet</td>\n",
       "      <td>erm</td>\n",
       "      <td>electricity.csv</td>\n",
       "      <td>4</td>\n",
       "    </tr>\n",
       "    <tr>\n",
       "      <th>11</th>\n",
       "      <td>Pyraformer</td>\n",
       "      <td>erm</td>\n",
       "      <td>weather.csv</td>\n",
       "      <td>4</td>\n",
       "    </tr>\n",
       "    <tr>\n",
       "      <th>17</th>\n",
       "      <td>iTransformer</td>\n",
       "      <td>erm</td>\n",
       "      <td>traffic.csv</td>\n",
       "      <td>4</td>\n",
       "    </tr>\n",
       "    <tr>\n",
       "      <th>18</th>\n",
       "      <td>iTransformer</td>\n",
       "      <td>erm</td>\n",
       "      <td>weather.csv</td>\n",
       "      <td>4</td>\n",
       "    </tr>\n",
       "    <tr>\n",
       "      <th>7</th>\n",
       "      <td>Nonstationary_Transformer</td>\n",
       "      <td>erm</td>\n",
       "      <td>weather.csv</td>\n",
       "      <td>4</td>\n",
       "    </tr>\n",
       "    <tr>\n",
       "      <th>6</th>\n",
       "      <td>Nonstationary_Transformer</td>\n",
       "      <td>erm</td>\n",
       "      <td>traffic.csv</td>\n",
       "      <td>4</td>\n",
       "    </tr>\n",
       "    <tr>\n",
       "      <th>5</th>\n",
       "      <td>Nonstationary_Transformer</td>\n",
       "      <td>erm</td>\n",
       "      <td>exchange_rate.csv</td>\n",
       "      <td>4</td>\n",
       "    </tr>\n",
       "    <tr>\n",
       "      <th>4</th>\n",
       "      <td>Nonstationary_Transformer</td>\n",
       "      <td>erm</td>\n",
       "      <td>electricity.csv</td>\n",
       "      <td>4</td>\n",
       "    </tr>\n",
       "    <tr>\n",
       "      <th>3</th>\n",
       "      <td>FiLM</td>\n",
       "      <td>erm</td>\n",
       "      <td>weather.csv</td>\n",
       "      <td>4</td>\n",
       "    </tr>\n",
       "    <tr>\n",
       "      <th>2</th>\n",
       "      <td>FiLM</td>\n",
       "      <td>erm</td>\n",
       "      <td>traffic.csv</td>\n",
       "      <td>4</td>\n",
       "    </tr>\n",
       "    <tr>\n",
       "      <th>1</th>\n",
       "      <td>FiLM</td>\n",
       "      <td>erm</td>\n",
       "      <td>exchange_rate.csv</td>\n",
       "      <td>4</td>\n",
       "    </tr>\n",
       "    <tr>\n",
       "      <th>8</th>\n",
       "      <td>Pyraformer</td>\n",
       "      <td>erm</td>\n",
       "      <td>electricity.csv</td>\n",
       "      <td>8</td>\n",
       "    </tr>\n",
       "    <tr>\n",
       "      <th>9</th>\n",
       "      <td>Pyraformer</td>\n",
       "      <td>erm</td>\n",
       "      <td>exchange_rate.csv</td>\n",
       "      <td>8</td>\n",
       "    </tr>\n",
       "  </tbody>\n",
       "</table>\n",
       "</div>"
      ],
      "text/plain": [
       "                        model constraint_type          data_path  run_id\n",
       "10                 Pyraformer             erm        traffic.csv       3\n",
       "0                        FiLM             erm    electricity.csv       4\n",
       "16               iTransformer             erm    electricity.csv       4\n",
       "15                   TimesNet             erm        weather.csv       4\n",
       "14                   TimesNet             erm        traffic.csv       4\n",
       "13                   TimesNet             erm  exchange_rate.csv       4\n",
       "12                   TimesNet             erm    electricity.csv       4\n",
       "11                 Pyraformer             erm        weather.csv       4\n",
       "17               iTransformer             erm        traffic.csv       4\n",
       "18               iTransformer             erm        weather.csv       4\n",
       "7   Nonstationary_Transformer             erm        weather.csv       4\n",
       "6   Nonstationary_Transformer             erm        traffic.csv       4\n",
       "5   Nonstationary_Transformer             erm  exchange_rate.csv       4\n",
       "4   Nonstationary_Transformer             erm    electricity.csv       4\n",
       "3                        FiLM             erm        weather.csv       4\n",
       "2                        FiLM             erm        traffic.csv       4\n",
       "1                        FiLM             erm  exchange_rate.csv       4\n",
       "8                  Pyraformer             erm    electricity.csv       8\n",
       "9                  Pyraformer             erm  exchange_rate.csv       8"
      ]
     },
     "execution_count": 44,
     "metadata": {},
     "output_type": "execute_result"
    }
   ],
   "source": [
    "dd.groupby(['model','constraint_type','data_path'])['run_id'].nunique().reset_index().sort_values(by='run_id')"
   ]
  },
  {
   "cell_type": "code",
   "execution_count": null,
   "id": "d1405d70",
   "metadata": {},
   "outputs": [],
   "source": [
    "dd.groupby(['model','constraint_type','data_path'])['run_id'].nunique().reset_index().sort_values(by='run_id')"
   ]
  }
 ],
 "metadata": {
  "kernelspec": {
   "display_name": "Python 3 (ipykernel)",
   "language": "python",
   "name": "python3"
  },
  "language_info": {
   "codemirror_mode": {
    "name": "ipython",
    "version": 3
   },
   "file_extension": ".py",
   "mimetype": "text/x-python",
   "name": "python",
   "nbconvert_exporter": "python",
   "pygments_lexer": "ipython3",
   "version": "3.7.12"
  }
 },
 "nbformat": 4,
 "nbformat_minor": 5
}
