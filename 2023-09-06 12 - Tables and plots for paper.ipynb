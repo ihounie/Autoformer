{
 "cells": [
  {
   "cell_type": "markdown",
   "id": "3e514376",
   "metadata": {},
   "source": [
    "# 2023-09-06 12 - Tables and plots for paper.ipynb\n"
   ]
  },
  {
   "cell_type": "markdown",
   "id": "f24149d1",
   "metadata": {},
   "source": [
    "## Fetching runs"
   ]
  },
  {
   "cell_type": "code",
   "execution_count": 5,
   "id": "e7f14d5c",
   "metadata": {},
   "outputs": [
    {
     "name": "stderr",
     "output_type": "stream",
     "text": [
      "100%|██████████| 192/192 [00:10<00:00, 19.10it/s]\n"
     ]
    },
    {
     "name": "stdout",
     "output_type": "stream",
     "text": [
      "Fetched 192 runs\n",
      "Total records: (129024, 62)\n",
      "Total runs: 192\n"
     ]
    }
   ],
   "source": [
    "import wandb\n",
    "from math import isnan \n",
    "import seaborn as sns\n",
    "import matplotlib.pyplot as plt\n",
    "import pandas as pd\n",
    "import numpy as np\n",
    "import wandb\n",
    "from tqdm import tqdm\n",
    "# from cycler import cycler\n",
    "import matplotlib as mpl\n",
    "from IPython.display import Markdown, display\n",
    "    \n",
    "api = wandb.Api()\n",
    "project = \"Autoformer\"\n",
    "workspace = \"alelab\"\n",
    "\n",
    "experiment_tags = [\n",
    "    \"e1_weather_10e_statinformed\",\n",
    "    \"e2_electricity_10e_statinformed\",\n",
    "    \"e3_weather_10e_statinformed_seeds23\",\n",
    "    \"e4_electricity_10e_statinformed_seeds23\"\n",
    "    \n",
    "    ]\n",
    "\n",
    "# get all runs that both: 1.  match any experiment tag and 2. are finished\n",
    "runs = api.runs(f\"{workspace}/{project}\",\n",
    "                {\"$and\": [\n",
    "                    {\"tags\": {\"$in\": experiment_tags}},\n",
    "                    {\"state\": \"finished\"}\n",
    "                ]})\n",
    "\n",
    "all_runs = []\n",
    "run_counter = 0\n",
    "for run in tqdm(runs):\n",
    "    run_counter += 1\n",
    "    for split in [\"train\", \"test\"]:\n",
    "        for metric in [\"mse\",]:\n",
    "            pred_len = run.config[\"pred_len\"]\n",
    "            metrics = np.zeros(pred_len)\n",
    "            for i in range(pred_len):\n",
    "                run_dict = {**run.config}\n",
    "                #run_dict[\"constraint_level\"] = constraint_level\n",
    "                run_dict[f\"{metric}\"] = run.summary[f\"{metric}/{split}/{i}\"]\n",
    "                #run_dict[f\"{metric}\"] = run.summary.get(f\"{metric}/{split}/{i}\",run.summary.get(f\"mse/{split}/{i}\",np.nan)) #god forgive me for this line\n",
    "                run_dict[\"step\"]=i\n",
    "                run_dict[\"epoch\"]=run.summary[\"epoch\"]\n",
    "                run_dict[\"infeasible_rate\"]=run.summary[f\"infeasible_rate/{split}\"]\n",
    "                run_dict[\"split\"] = split\n",
    "                run_dict[\"run_id\"] = run.id\n",
    "                # Get either Constrained/ or ERM/ from the run name, then append model name.\n",
    "                #print(\"run.name\", run.name)\n",
    "                #debug if ERM run\n",
    "                run_dict[\"Algorithm\"] = f\"{run.name.split('/')[0]} {run.config['model']}\"\n",
    "                run_dict[\"sweep_id\"] = run.sweep.id\n",
    "                #print(\"Algorithm\", run_dict[\"Algorithm\"])\n",
    "\n",
    "                # To better plot constrained vs ERM\n",
    "                #TODO this is a hack while I consolidate the tags. \n",
    "                run_dict[\"type\"] = \"ERM\" if run.config['dual_lr'] == 0 else \"Constrained\"\n",
    "\n",
    "                all_runs.append(run_dict)\n",
    "print(f\"Fetched {run_counter} runs\")\n",
    "df = pd.DataFrame(all_runs)\n",
    "print(f\"Total records: {(df.shape)}\")\n",
    "print(f\"Total runs: {df.run_id.nunique()}\")"
   ]
  },
  {
   "cell_type": "code",
   "execution_count": 7,
   "id": "a7052f82",
   "metadata": {},
   "outputs": [
    {
     "data": {
      "text/html": [
       "<div>\n",
       "<style scoped>\n",
       "    .dataframe tbody tr th:only-of-type {\n",
       "        vertical-align: middle;\n",
       "    }\n",
       "\n",
       "    .dataframe tbody tr th {\n",
       "        vertical-align: top;\n",
       "    }\n",
       "\n",
       "    .dataframe thead th {\n",
       "        text-align: right;\n",
       "    }\n",
       "</style>\n",
       "<table border=\"1\" class=\"dataframe\">\n",
       "  <thead>\n",
       "    <tr style=\"text-align: right;\">\n",
       "      <th></th>\n",
       "      <th>run_id</th>\n",
       "      <th>sweep_id</th>\n",
       "      <th>Algorithm</th>\n",
       "      <th>model</th>\n",
       "      <th>constraint_level</th>\n",
       "      <th>pred_len</th>\n",
       "      <th>epoch</th>\n",
       "    </tr>\n",
       "  </thead>\n",
       "  <tbody>\n",
       "    <tr>\n",
       "      <th>84288</th>\n",
       "      <td>govqe5nc</td>\n",
       "      <td>lcslu9kv</td>\n",
       "      <td>Electricity-StatInformed-10e-Constrained Autof...</td>\n",
       "      <td>Autoformer</td>\n",
       "      <td>0.157</td>\n",
       "      <td>96</td>\n",
       "      <td>10</td>\n",
       "    </tr>\n",
       "    <tr>\n",
       "      <th>85440</th>\n",
       "      <td>o5gb1msz</td>\n",
       "      <td>3klzcp50</td>\n",
       "      <td>Electricity-StatInformed-10e-Constrained Autof...</td>\n",
       "      <td>Autoformer</td>\n",
       "      <td>0.157</td>\n",
       "      <td>96</td>\n",
       "      <td>10</td>\n",
       "    </tr>\n",
       "    <tr>\n",
       "      <th>101952</th>\n",
       "      <td>iij1xyjo</td>\n",
       "      <td>jk3es6p9</td>\n",
       "      <td>Electricity-StatInformed-10e-Constrained Autof...</td>\n",
       "      <td>Autoformer</td>\n",
       "      <td>0.157</td>\n",
       "      <td>96</td>\n",
       "      <td>10</td>\n",
       "    </tr>\n",
       "    <tr>\n",
       "      <th>83136</th>\n",
       "      <td>11eyioz9</td>\n",
       "      <td>lcslu9kv</td>\n",
       "      <td>Electricity-StatInformed-10e-Constrained Autof...</td>\n",
       "      <td>Autoformer</td>\n",
       "      <td>0.169</td>\n",
       "      <td>96</td>\n",
       "      <td>10</td>\n",
       "    </tr>\n",
       "    <tr>\n",
       "      <th>85056</th>\n",
       "      <td>zjzzgw4o</td>\n",
       "      <td>3klzcp50</td>\n",
       "      <td>Electricity-StatInformed-10e-Constrained Autof...</td>\n",
       "      <td>Autoformer</td>\n",
       "      <td>0.169</td>\n",
       "      <td>96</td>\n",
       "      <td>10</td>\n",
       "    </tr>\n",
       "  </tbody>\n",
       "</table>\n",
       "</div>"
      ],
      "text/plain": [
       "          run_id  sweep_id                                          Algorithm  \\\n",
       "84288   govqe5nc  lcslu9kv  Electricity-StatInformed-10e-Constrained Autof...   \n",
       "85440   o5gb1msz  3klzcp50  Electricity-StatInformed-10e-Constrained Autof...   \n",
       "101952  iij1xyjo  jk3es6p9  Electricity-StatInformed-10e-Constrained Autof...   \n",
       "83136   11eyioz9  lcslu9kv  Electricity-StatInformed-10e-Constrained Autof...   \n",
       "85056   zjzzgw4o  3klzcp50  Electricity-StatInformed-10e-Constrained Autof...   \n",
       "\n",
       "             model  constraint_level  pred_len  epoch  \n",
       "84288   Autoformer             0.157        96     10  \n",
       "85440   Autoformer             0.157        96     10  \n",
       "101952  Autoformer             0.157        96     10  \n",
       "83136   Autoformer             0.169        96     10  \n",
       "85056   Autoformer             0.169        96     10  "
      ]
     },
     "execution_count": 7,
     "metadata": {},
     "output_type": "execute_result"
    }
   ],
   "source": [
    "df[['run_id',\"sweep_id\",'Algorithm','model','constraint_level','pred_len','epoch']] \\\n",
    "    .drop_duplicates().sort_values([\"pred_len\",'Algorithm','model',\"constraint_level\"]) \\\n",
    "    .head()"
   ]
  },
  {
   "cell_type": "markdown",
   "id": "fe3a682a",
   "metadata": {},
   "source": [
    "## Data processing\n",
    "1. Impute seed for the first batch of runs\n",
    "2. Create aggregate dataset of metrics per experiment `(dataset,model,pred_le,constraint_level,constrained_unconstraled)`\n",
    "3. Add any other useful columns"
   ]
  },
  {
   "cell_type": "markdown",
   "id": "9219dae8",
   "metadata": {},
   "source": [
    "## Plots"
   ]
  },
  {
   "cell_type": "markdown",
   "id": "b0be936e",
   "metadata": {},
   "source": [
    "### ERM vs. Constrained on test split.\n",
    "TO DO: Reproduce the ERM vs constrained per model for each window size. Try to unify into one plot if possible."
   ]
  },
  {
   "cell_type": "code",
   "execution_count": 8,
   "id": "21a2817f",
   "metadata": {},
   "outputs": [
    {
     "name": "stdout",
     "output_type": "stream",
     "text": [
      "[-1.     0.556  0.17   0.169  0.553  0.157  0.516]\n"
     ]
    },
    {
     "data": {
      "text/markdown": [
       "### pred_len: 96 constraint_level: 0.556"
      ],
      "text/plain": [
       "<IPython.core.display.Markdown object>"
      ]
     },
     "metadata": {},
     "output_type": "display_data"
    },
    {
     "data": {
      "text/html": [
       "<div>\n",
       "<style scoped>\n",
       "    .dataframe tbody tr th:only-of-type {\n",
       "        vertical-align: middle;\n",
       "    }\n",
       "\n",
       "    .dataframe tbody tr th {\n",
       "        vertical-align: top;\n",
       "    }\n",
       "\n",
       "    .dataframe thead th {\n",
       "        text-align: right;\n",
       "    }\n",
       "</style>\n",
       "<table border=\"1\" class=\"dataframe\">\n",
       "  <thead>\n",
       "    <tr style=\"text-align: right;\">\n",
       "      <th></th>\n",
       "      <th>pred_len</th>\n",
       "      <th>constraint_level</th>\n",
       "      <th>Algorithm</th>\n",
       "      <th>epoch</th>\n",
       "      <th>0</th>\n",
       "    </tr>\n",
       "  </thead>\n",
       "  <tbody>\n",
       "    <tr>\n",
       "      <th>0</th>\n",
       "      <td>96</td>\n",
       "      <td>-1.000</td>\n",
       "      <td>StatInformed-ERM-10e Autoformer</td>\n",
       "      <td>4</td>\n",
       "      <td>96</td>\n",
       "    </tr>\n",
       "    <tr>\n",
       "      <th>1</th>\n",
       "      <td>96</td>\n",
       "      <td>-1.000</td>\n",
       "      <td>StatInformed-ERM-10e Autoformer</td>\n",
       "      <td>10</td>\n",
       "      <td>480</td>\n",
       "    </tr>\n",
       "    <tr>\n",
       "      <th>2</th>\n",
       "      <td>96</td>\n",
       "      <td>-1.000</td>\n",
       "      <td>StatInformed-ERM-10e Reformer</td>\n",
       "      <td>7</td>\n",
       "      <td>96</td>\n",
       "    </tr>\n",
       "    <tr>\n",
       "      <th>3</th>\n",
       "      <td>96</td>\n",
       "      <td>-1.000</td>\n",
       "      <td>StatInformed-ERM-10e Reformer</td>\n",
       "      <td>10</td>\n",
       "      <td>480</td>\n",
       "    </tr>\n",
       "    <tr>\n",
       "      <th>4</th>\n",
       "      <td>96</td>\n",
       "      <td>0.556</td>\n",
       "      <td>StatInformed-10e Autoformer</td>\n",
       "      <td>10</td>\n",
       "      <td>288</td>\n",
       "    </tr>\n",
       "    <tr>\n",
       "      <th>5</th>\n",
       "      <td>96</td>\n",
       "      <td>0.556</td>\n",
       "      <td>StatInformed-10e Reformer</td>\n",
       "      <td>10</td>\n",
       "      <td>288</td>\n",
       "    </tr>\n",
       "  </tbody>\n",
       "</table>\n",
       "</div>"
      ],
      "text/plain": [
       "   pred_len  constraint_level                        Algorithm  epoch    0\n",
       "0        96            -1.000  StatInformed-ERM-10e Autoformer      4   96\n",
       "1        96            -1.000  StatInformed-ERM-10e Autoformer     10  480\n",
       "2        96            -1.000    StatInformed-ERM-10e Reformer      7   96\n",
       "3        96            -1.000    StatInformed-ERM-10e Reformer     10  480\n",
       "4        96             0.556      StatInformed-10e Autoformer     10  288\n",
       "5        96             0.556        StatInformed-10e Reformer     10  288"
      ]
     },
     "metadata": {},
     "output_type": "display_data"
    },
    {
     "ename": "ValueError",
     "evalue": "Index contains duplicate entries, cannot reshape",
     "output_type": "error",
     "traceback": [
      "\u001b[0;31m---------------------------------------------------------------------------\u001b[0m",
      "\u001b[0;31mValueError\u001b[0m                                Traceback (most recent call last)",
      "\u001b[0;32m/tmp/ipykernel_2369197/3076353177.py\u001b[0m in \u001b[0;36m<module>\u001b[0;34m\u001b[0m\n\u001b[1;32m     13\u001b[0m         \u001b[0;31m#display(means_per_experiment)\u001b[0m\u001b[0;34m\u001b[0m\u001b[0;34m\u001b[0m\u001b[0;34m\u001b[0m\u001b[0m\n\u001b[1;32m     14\u001b[0m         \u001b[0;31m# do a pivot where model are the rows, and the columns constrained and unconstrained\u001b[0m\u001b[0;34m\u001b[0m\u001b[0;34m\u001b[0m\u001b[0;34m\u001b[0m\u001b[0m\n\u001b[0;32m---> 15\u001b[0;31m         \u001b[0mdisplay\u001b[0m\u001b[0;34m(\u001b[0m\u001b[0mmeans_per_experiment\u001b[0m\u001b[0;34m.\u001b[0m\u001b[0mpivot\u001b[0m\u001b[0;34m(\u001b[0m\u001b[0mindex\u001b[0m\u001b[0;34m=\u001b[0m\u001b[0;34m[\u001b[0m\u001b[0;34m'model'\u001b[0m\u001b[0;34m]\u001b[0m\u001b[0;34m,\u001b[0m \u001b[0mcolumns\u001b[0m\u001b[0;34m=\u001b[0m\u001b[0;34m'type'\u001b[0m\u001b[0;34m,\u001b[0m \u001b[0mvalues\u001b[0m\u001b[0;34m=\u001b[0m\u001b[0;34m'mse'\u001b[0m\u001b[0;34m)\u001b[0m\u001b[0;34m.\u001b[0m\u001b[0mreset_index\u001b[0m\u001b[0;34m(\u001b[0m\u001b[0;34m)\u001b[0m\u001b[0;34m)\u001b[0m\u001b[0;34m\u001b[0m\u001b[0;34m\u001b[0m\u001b[0m\n\u001b[0m\u001b[1;32m     16\u001b[0m \u001b[0;34m\u001b[0m\u001b[0m\n\u001b[1;32m     17\u001b[0m         \u001b[0;31m# sns.scatterplot(x=\"step\", y=\"mse\", hue=\"Algorithm\",style=\"split\", data=plot_series)\u001b[0m\u001b[0;34m\u001b[0m\u001b[0;34m\u001b[0m\u001b[0;34m\u001b[0m\u001b[0m\n",
      "\u001b[0;32m~/miniconda3/envs/autoformer/lib/python3.7/site-packages/pandas/core/frame.py\u001b[0m in \u001b[0;36mpivot\u001b[0;34m(self, index, columns, values)\u001b[0m\n\u001b[1;32m   7791\u001b[0m         \u001b[0;32mfrom\u001b[0m \u001b[0mpandas\u001b[0m\u001b[0;34m.\u001b[0m\u001b[0mcore\u001b[0m\u001b[0;34m.\u001b[0m\u001b[0mreshape\u001b[0m\u001b[0;34m.\u001b[0m\u001b[0mpivot\u001b[0m \u001b[0;32mimport\u001b[0m \u001b[0mpivot\u001b[0m\u001b[0;34m\u001b[0m\u001b[0;34m\u001b[0m\u001b[0m\n\u001b[1;32m   7792\u001b[0m \u001b[0;34m\u001b[0m\u001b[0m\n\u001b[0;32m-> 7793\u001b[0;31m         \u001b[0;32mreturn\u001b[0m \u001b[0mpivot\u001b[0m\u001b[0;34m(\u001b[0m\u001b[0mself\u001b[0m\u001b[0;34m,\u001b[0m \u001b[0mindex\u001b[0m\u001b[0;34m=\u001b[0m\u001b[0mindex\u001b[0m\u001b[0;34m,\u001b[0m \u001b[0mcolumns\u001b[0m\u001b[0;34m=\u001b[0m\u001b[0mcolumns\u001b[0m\u001b[0;34m,\u001b[0m \u001b[0mvalues\u001b[0m\u001b[0;34m=\u001b[0m\u001b[0mvalues\u001b[0m\u001b[0;34m)\u001b[0m\u001b[0;34m\u001b[0m\u001b[0;34m\u001b[0m\u001b[0m\n\u001b[0m\u001b[1;32m   7794\u001b[0m \u001b[0;34m\u001b[0m\u001b[0m\n\u001b[1;32m   7795\u001b[0m     _shared_docs[\n",
      "\u001b[0;32m~/miniconda3/envs/autoformer/lib/python3.7/site-packages/pandas/core/reshape/pivot.py\u001b[0m in \u001b[0;36mpivot\u001b[0;34m(data, index, columns, values)\u001b[0m\n\u001b[1;32m    515\u001b[0m         \u001b[0;32melse\u001b[0m\u001b[0;34m:\u001b[0m\u001b[0;34m\u001b[0m\u001b[0;34m\u001b[0m\u001b[0m\n\u001b[1;32m    516\u001b[0m             \u001b[0mindexed\u001b[0m \u001b[0;34m=\u001b[0m \u001b[0mdata\u001b[0m\u001b[0;34m.\u001b[0m\u001b[0m_constructor_sliced\u001b[0m\u001b[0;34m(\u001b[0m\u001b[0mdata\u001b[0m\u001b[0;34m[\u001b[0m\u001b[0mvalues\u001b[0m\u001b[0;34m]\u001b[0m\u001b[0;34m.\u001b[0m\u001b[0m_values\u001b[0m\u001b[0;34m,\u001b[0m \u001b[0mindex\u001b[0m\u001b[0;34m=\u001b[0m\u001b[0mmultiindex\u001b[0m\u001b[0;34m)\u001b[0m\u001b[0;34m\u001b[0m\u001b[0;34m\u001b[0m\u001b[0m\n\u001b[0;32m--> 517\u001b[0;31m     \u001b[0;32mreturn\u001b[0m \u001b[0mindexed\u001b[0m\u001b[0;34m.\u001b[0m\u001b[0munstack\u001b[0m\u001b[0;34m(\u001b[0m\u001b[0mcolumns_listlike\u001b[0m\u001b[0;34m)\u001b[0m\u001b[0;34m\u001b[0m\u001b[0;34m\u001b[0m\u001b[0m\n\u001b[0m\u001b[1;32m    518\u001b[0m \u001b[0;34m\u001b[0m\u001b[0m\n\u001b[1;32m    519\u001b[0m \u001b[0;34m\u001b[0m\u001b[0m\n",
      "\u001b[0;32m~/miniconda3/envs/autoformer/lib/python3.7/site-packages/pandas/core/series.py\u001b[0m in \u001b[0;36munstack\u001b[0;34m(self, level, fill_value)\u001b[0m\n\u001b[1;32m   4079\u001b[0m         \u001b[0;32mfrom\u001b[0m \u001b[0mpandas\u001b[0m\u001b[0;34m.\u001b[0m\u001b[0mcore\u001b[0m\u001b[0;34m.\u001b[0m\u001b[0mreshape\u001b[0m\u001b[0;34m.\u001b[0m\u001b[0mreshape\u001b[0m \u001b[0;32mimport\u001b[0m \u001b[0munstack\u001b[0m\u001b[0;34m\u001b[0m\u001b[0;34m\u001b[0m\u001b[0m\n\u001b[1;32m   4080\u001b[0m \u001b[0;34m\u001b[0m\u001b[0m\n\u001b[0;32m-> 4081\u001b[0;31m         \u001b[0;32mreturn\u001b[0m \u001b[0munstack\u001b[0m\u001b[0;34m(\u001b[0m\u001b[0mself\u001b[0m\u001b[0;34m,\u001b[0m \u001b[0mlevel\u001b[0m\u001b[0;34m,\u001b[0m \u001b[0mfill_value\u001b[0m\u001b[0;34m)\u001b[0m\u001b[0;34m\u001b[0m\u001b[0;34m\u001b[0m\u001b[0m\n\u001b[0m\u001b[1;32m   4082\u001b[0m \u001b[0;34m\u001b[0m\u001b[0m\n\u001b[1;32m   4083\u001b[0m     \u001b[0;31m# ----------------------------------------------------------------------\u001b[0m\u001b[0;34m\u001b[0m\u001b[0;34m\u001b[0m\u001b[0;34m\u001b[0m\u001b[0m\n",
      "\u001b[0;32m~/miniconda3/envs/autoformer/lib/python3.7/site-packages/pandas/core/reshape/reshape.py\u001b[0m in \u001b[0;36munstack\u001b[0;34m(obj, level, fill_value)\u001b[0m\n\u001b[1;32m    459\u001b[0m             \u001b[0;32mreturn\u001b[0m \u001b[0m_unstack_extension_series\u001b[0m\u001b[0;34m(\u001b[0m\u001b[0mobj\u001b[0m\u001b[0;34m,\u001b[0m \u001b[0mlevel\u001b[0m\u001b[0;34m,\u001b[0m \u001b[0mfill_value\u001b[0m\u001b[0;34m)\u001b[0m\u001b[0;34m\u001b[0m\u001b[0;34m\u001b[0m\u001b[0m\n\u001b[1;32m    460\u001b[0m         unstacker = _Unstacker(\n\u001b[0;32m--> 461\u001b[0;31m             \u001b[0mobj\u001b[0m\u001b[0;34m.\u001b[0m\u001b[0mindex\u001b[0m\u001b[0;34m,\u001b[0m \u001b[0mlevel\u001b[0m\u001b[0;34m=\u001b[0m\u001b[0mlevel\u001b[0m\u001b[0;34m,\u001b[0m \u001b[0mconstructor\u001b[0m\u001b[0;34m=\u001b[0m\u001b[0mobj\u001b[0m\u001b[0;34m.\u001b[0m\u001b[0m_constructor_expanddim\u001b[0m\u001b[0;34m\u001b[0m\u001b[0;34m\u001b[0m\u001b[0m\n\u001b[0m\u001b[1;32m    462\u001b[0m         )\n\u001b[1;32m    463\u001b[0m         return unstacker.get_result(\n",
      "\u001b[0;32m~/miniconda3/envs/autoformer/lib/python3.7/site-packages/pandas/core/reshape/reshape.py\u001b[0m in \u001b[0;36m__init__\u001b[0;34m(self, index, level, constructor)\u001b[0m\n\u001b[1;32m    131\u001b[0m             \u001b[0;32mraise\u001b[0m \u001b[0mValueError\u001b[0m\u001b[0;34m(\u001b[0m\u001b[0;34m\"Unstacked DataFrame is too big, causing int32 overflow\"\u001b[0m\u001b[0;34m)\u001b[0m\u001b[0;34m\u001b[0m\u001b[0;34m\u001b[0m\u001b[0m\n\u001b[1;32m    132\u001b[0m \u001b[0;34m\u001b[0m\u001b[0m\n\u001b[0;32m--> 133\u001b[0;31m         \u001b[0mself\u001b[0m\u001b[0;34m.\u001b[0m\u001b[0m_make_selectors\u001b[0m\u001b[0;34m(\u001b[0m\u001b[0;34m)\u001b[0m\u001b[0;34m\u001b[0m\u001b[0;34m\u001b[0m\u001b[0m\n\u001b[0m\u001b[1;32m    134\u001b[0m \u001b[0;34m\u001b[0m\u001b[0m\n\u001b[1;32m    135\u001b[0m     \u001b[0;34m@\u001b[0m\u001b[0mcache_readonly\u001b[0m\u001b[0;34m\u001b[0m\u001b[0;34m\u001b[0m\u001b[0m\n",
      "\u001b[0;32m~/miniconda3/envs/autoformer/lib/python3.7/site-packages/pandas/core/reshape/reshape.py\u001b[0m in \u001b[0;36m_make_selectors\u001b[0;34m(self)\u001b[0m\n\u001b[1;32m    183\u001b[0m \u001b[0;34m\u001b[0m\u001b[0m\n\u001b[1;32m    184\u001b[0m         \u001b[0;32mif\u001b[0m \u001b[0mmask\u001b[0m\u001b[0;34m.\u001b[0m\u001b[0msum\u001b[0m\u001b[0;34m(\u001b[0m\u001b[0;34m)\u001b[0m \u001b[0;34m<\u001b[0m \u001b[0mlen\u001b[0m\u001b[0;34m(\u001b[0m\u001b[0mself\u001b[0m\u001b[0;34m.\u001b[0m\u001b[0mindex\u001b[0m\u001b[0;34m)\u001b[0m\u001b[0;34m:\u001b[0m\u001b[0;34m\u001b[0m\u001b[0;34m\u001b[0m\u001b[0m\n\u001b[0;32m--> 185\u001b[0;31m             \u001b[0;32mraise\u001b[0m \u001b[0mValueError\u001b[0m\u001b[0;34m(\u001b[0m\u001b[0;34m\"Index contains duplicate entries, cannot reshape\"\u001b[0m\u001b[0;34m)\u001b[0m\u001b[0;34m\u001b[0m\u001b[0;34m\u001b[0m\u001b[0m\n\u001b[0m\u001b[1;32m    186\u001b[0m \u001b[0;34m\u001b[0m\u001b[0m\n\u001b[1;32m    187\u001b[0m         \u001b[0mself\u001b[0m\u001b[0;34m.\u001b[0m\u001b[0mgroup_index\u001b[0m \u001b[0;34m=\u001b[0m \u001b[0mcomp_index\u001b[0m\u001b[0;34m\u001b[0m\u001b[0;34m\u001b[0m\u001b[0m\n",
      "\u001b[0;31mValueError\u001b[0m: Index contains duplicate entries, cannot reshape"
     ]
    }
   ],
   "source": [
    "to_plot = df[df.split=='test']# just see test to unclutter\n",
    "#to_plot=df\n",
    "for (pred_len), series in to_plot.groupby([\"pred_len\"]):\n",
    "    constraints = series.constraint_level.unique()\n",
    "    print(constraints)\n",
    "    constraints = constraints[constraints!=-1] # to iterate over all constraints explored.\n",
    "    for constraint_level in constraints:\n",
    "        display(Markdown(f\"### pred_len: {pred_len} constraint_level: {constraint_level}\"))\n",
    "        plot_series = series[series[\"constraint_level\"].isin([constraint_level,-1])] # The -1 adds the ERM baseline.\n",
    "\n",
    "        display(plot_series.groupby(['pred_len','constraint_level','Algorithm','epoch']).size().reset_index())\n",
    "        means_per_experiment = plot_series.groupby(['pred_len','constraint_level','Algorithm','model','epoch','type'])['mse'].mean().reset_index()\n",
    "        #display(means_per_experiment)\n",
    "        # do a pivot where model are the rows, and the columns constrained and unconstrained\n",
    "        display(means_per_experiment.pivot(index=['model'], columns='type', values='mse').reset_index())\n",
    "\n",
    "        # sns.scatterplot(x=\"step\", y=\"mse\", hue=\"Algorithm\",style=\"split\", data=plot_series)\n",
    "        \n",
    "        # plt.axhline(y=constraint_level, color='r', linestyle='-')\n",
    "        # plt.title(f\"Pred Length: {pred_len}, Constraint_level: {constraint_level}\")\n",
    "        # plt.show()\n",
    "\n",
    "        # This same scatterplot but in a grid by algorithm. \n",
    "        g = sns.FacetGrid(plot_series, col=\"model\", hue=\"type\",col_wrap=3)\n",
    "        g.map(sns.scatterplot, \"step\", \"mse\", alpha=.7) \n",
    "        g.add_legend()\n",
    "        # add the hline\n",
    "        for ax in g.axes:\n",
    "            ax.axhline(y=constraint_level, color='r', linestyle='-')\n",
    "        plt.show()\n"
   ]
  },
  {
   "cell_type": "markdown",
   "id": "1657601a",
   "metadata": {},
   "source": [
    "## ERM on multiple algorithms\n",
    "As a front page chart to illustrate the problem"
   ]
  },
  {
   "cell_type": "markdown",
   "id": "614b6178",
   "metadata": {},
   "source": [
    "### Loss shaping single instance qualitative analysis"
   ]
  },
  {
   "cell_type": "markdown",
   "id": "877dcfd0",
   "metadata": {},
   "source": [
    "### More random explorations\n",
    "Ideas: \n",
    "1. Loss over time\n",
    "2. Infeasibility rate over time\n",
    "3. Loss shape across epochs (see how it evolves)"
   ]
  },
  {
   "cell_type": "markdown",
   "id": "c09f3016",
   "metadata": {},
   "source": [
    "## Result tables\n",
    "1. Reproduce the pivot table from notebook 11, perhaps add standard deviation reports.\n",
    "2. Explore and find other interesting table visualziation"
   ]
  }
 ],
 "metadata": {
  "kernelspec": {
   "display_name": "Python 3 (ipykernel)",
   "language": "python",
   "name": "python3"
  },
  "language_info": {
   "codemirror_mode": {
    "name": "ipython",
    "version": 3
   },
   "file_extension": ".py",
   "mimetype": "text/x-python",
   "name": "python",
   "nbconvert_exporter": "python",
   "pygments_lexer": "ipython3",
   "version": "3.7.12"
  }
 },
 "nbformat": 4,
 "nbformat_minor": 5
}
